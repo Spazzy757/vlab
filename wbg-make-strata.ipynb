{
 "cells": [
  {
   "cell_type": "code",
   "execution_count": null,
   "metadata": {
    "collapsed": false
   },
   "outputs": [],
   "source": [
    "! pip install --quiet environs cyksuid toolz psycopg2-binary typing_json backoff pyyaml facebook_business pystache"
   ]
  },
  {
   "cell_type": "code",
   "execution_count": 1,
   "metadata": {
    "collapsed": false
   },
   "outputs": [],
   "source": [
    "%load_ext autoreload\n",
    "%autoreload 2"
   ]
  },
  {
   "cell_type": "code",
   "execution_count": 2,
   "metadata": {
    "collapsed": false
   },
   "outputs": [],
   "source": [
    "from environs import Env\n",
    "\n",
    "from adopt.malaria import get_confs, get_df, load_basics, window, get_db_conf\n",
    "from adopt.marketing import make_audience_conf, dict_from_nested_type\n",
    "from adopt.marketing import Marketing\n",
    "from adopt.facebook.state import CampaignState, get_api\n",
    "from adopt.malaria import load_typed_json\n",
    "from adopt.marketing import AudienceConf, CampaignConf\n",
    "from adopt.campaign_queries import get_campaigns_for_user, create_campaign_confs, create_campaign_for_user\n",
    "from typing import List\n",
    "import json\n",
    "\n",
    "env = Env()\n",
    "env.read_env('.env-vlab-vlab', override=True)\n",
    "db_conf = get_db_conf(env)"
   ]
  },
  {
   "cell_type": "code",
   "execution_count": 81,
   "metadata": {
    "collapsed": false
   },
   "outputs": [],
   "source": [
    "USER = \"mchatila@worldbank.org\"\n",
    "CAMPAIGN = \"vaccination-iraq\"\n",
    "CAMPAIGNID = next(c['id'] for c in get_campaigns_for_user(USER, db_conf) \n",
    "                  if c['name'] == CAMPAIGN)\n",
    "\n",
    "# create_campaign_for_user(USER, CAMPAIGN, db_conf)"
   ]
  },
  {
   "cell_type": "code",
   "execution_count": 82,
   "metadata": {
    "collapsed": false
   },
   "outputs": [],
   "source": [
    "userinfo, config, db_conf, state, m, confs = load_basics(CAMPAIGNID, env)"
   ]
  },
  {
   "cell_type": "code",
   "execution_count": 83,
   "metadata": {
    "collapsed": false
   },
   "outputs": [],
   "source": [
    "template_state = CampaignState(userinfo.token, \n",
    "                               get_api(env, userinfo.token), \n",
    "                               '282370023153169', \n",
    "                               'embed-mena-wbg-templates')\n",
    "\n"
   ]
  },
  {
   "cell_type": "code",
   "execution_count": 84,
   "metadata": {
    "collapsed": false
   },
   "outputs": [],
   "source": [
    "import pandas as pd\n",
    "\n",
    "share_lookup = pd.read_csv('outs/wbg-distribution.csv', header=[0,1], index_col=[0])"
   ]
  },
  {
   "cell_type": "code",
   "execution_count": 85,
   "metadata": {
    "collapsed": false
   },
   "outputs": [
    {
     "name": "stderr",
     "output_type": "stream",
     "text": [
      "INFO:root:Loaded 8 adsets from campaign embed-mena-wbg-templates\n"
     ]
    }
   ],
   "source": [
    "from mena.strata import get_groups\n",
    "\n",
    "groups = get_groups(template_state, share_lookup)"
   ]
  },
  {
   "cell_type": "markdown",
   "metadata": {
    "collapsed": false
   },
   "source": [
    "# CREATING CONFS - MNM"
   ]
  },
  {
   "cell_type": "code",
   "execution_count": 4,
   "metadata": {
    "collapsed": false
   },
   "outputs": [],
   "source": [
    "USER = \"dpinzonhernandez@worldbank.org\"\n",
    "CAMPAIGN = \"vaccination-wbg\"\n",
    "CAMPAIGNID = next(c['id'] for c in get_campaigns_for_user(USER, db_conf) \n",
    "                  if c['name'] == CAMPAIGN)\n",
    "\n",
    "# create_campaign_for_user(USER, CAMPAIGN, db_conf)"
   ]
  },
  {
   "cell_type": "code",
   "execution_count": 18,
   "metadata": {
    "collapsed": false
   },
   "outputs": [],
   "source": [
    "userinfo, config, db_conf, state, m, confs = load_basics(CAMPAIGNID, env)"
   ]
  },
  {
   "cell_type": "code",
   "execution_count": 88,
   "metadata": {
    "collapsed": false
   },
   "outputs": [],
   "source": [
    "images = {i['name']: i for i in state.account.get_ad_images(fields=['name', 'hash'])}"
   ]
  },
  {
   "cell_type": "code",
   "execution_count": 21,
   "metadata": {
    "collapsed": false
   },
   "outputs": [],
   "source": [
    "from adopt.facebook.update import Instruction\n",
    "from adopt.malaria import run_instructions\n",
    "\n",
    "def create_campaign(name):\n",
    "    params = {\n",
    "        \"name\": name,\n",
    "        \"objective\": \"MESSAGES\",\n",
    "        \"status\": \"PAUSED\",\n",
    "        \"special_ad_categories\": [],\n",
    "    }\n",
    "\n",
    "    return Instruction(\"campaign\", \"create\", params)\n",
    "\n",
    "\n",
    "# run_instructions([create_campaign(\"vaccine_vlab_wbg\")], state)"
   ]
  },
  {
   "cell_type": "code",
   "execution_count": null,
   "metadata": {
    "collapsed": false
   },
   "outputs": [],
   "source": [
    "# run_instructions([Instruction(\"campaign\", \"update\", {\"status\": \"PAUSED\"}, \"23846641567840784\")], state)"
   ]
  },
  {
   "cell_type": "code",
   "execution_count": 41,
   "metadata": {
    "collapsed": false
   },
   "outputs": [],
   "source": [
    "# make creatives conf\n",
    "from adopt.marketing import CreativeConf\n"
   ]
  },
  {
   "cell_type": "code",
   "execution_count": 9,
   "metadata": {
    "collapsed": false
   },
   "outputs": [],
   "source": [
    "AD_CAMPAIGN = 'vaccine_vlab_wbg'\n",
    "AD_ACCOUNT = '246148586918843'\n",
    "PAGE_ID = '103760978380374'\n",
    "RESPONDENT_AUDIENCE = \"vlab-embed-wbg-vaccination-respondents\"\n",
    "INITIAL_SHORTCODE = 'vaccwbg'\n",
    "SURVEY_SHORTCODES = ['vaccar', 'vaccen']\n",
    "FINISHED_QUESTION_REF = 'age_cat'\n",
    "EXTRA_METADATA = {'country': 'wbg'}"
   ]
  },
  {
   "cell_type": "code",
   "execution_count": null,
   "metadata": {
    "collapsed": false
   },
   "outputs": [],
   "source": [
    "c = {'optimization_goal': 'LINK_CLICKS',\n",
    "     'destination_type': 'MESSENGER',\n",
    "     'adset_hours': 48,\n",
    "     'budget': 100000.0,\n",
    "     'min_budget': 100.0,\n",
    "     'opt_window': 2*24,\n",
    "     'end_date': '2021-02-25',\n",
    "     'proportional': True,\n",
    "     'page_id': PAGE_ID,\n",
    "     'instagram_id': None,\n",
    "     'ad_account': AD_ACCOUNT,\n",
    "     'ad_campaign': AD_CAMPAIGN}\n",
    "\n",
    "config = CampaignConf(**c)\n",
    "\n",
    "create_campaign_confs(CAMPAIGNID, \"opt\", [config._asdict()], db_conf)"
   ]
  },
  {
   "cell_type": "code",
   "execution_count": null,
   "metadata": {
    "collapsed": false
   },
   "outputs": [],
   "source": [
    "from adopt.marketing import make_audience_conf, dict_from_nested_type\n",
    "import json\n",
    "\n",
    "audiences = [\n",
    "    {\n",
    "        \"name\": RESPONDENT_AUDIENCE,\n",
    "        \"shortcodes\": [INITIAL_SHORTCODE],\n",
    "        \"subtype\": \"CUSTOM\"\n",
    "    },\n",
    "]\n",
    "\n",
    "\n",
    "audience_confs = [make_audience_conf(c) for c in audiences]\n",
    "confs = [dict_from_nested_type(a) for a in audience_confs]\n",
    "\n",
    "create_campaign_confs(CAMPAIGNID, \"audience\", confs, db_conf)"
   ]
  },
  {
   "cell_type": "code",
   "execution_count": null,
   "metadata": {
    "collapsed": false
   },
   "outputs": [],
   "source": [
    "from adopt.marketing import CreativeConf\n",
    "\n",
    "\n",
    "def _creative_conf(name, image, body, headline, welcome_message, button_text, form):\n",
    "    return {\n",
    "        \"name\": name,\n",
    "        \"image\": image['name'],\n",
    "        \"image_hash\": image['hash'],\n",
    "        \"body\": body,\n",
    "        \"link_text\": headline,\n",
    "        \"welcome_message\": welcome_message,\n",
    "        \"button_text\": button_text,\n",
    "        \"form\": form,\n",
    "    }\n",
    "\n",
    "\n",
    "df = pd.read_csv('outs/creative-wbg.csv')\n",
    "image_confs = [{**d, 'image': images[d['image']]} for d in df.to_dict(orient='records')]\n",
    "\n",
    "creatives = [CreativeConf(**_creative_conf(**{**c, 'form': INITIAL_SHORTCODE})) for c in image_confs]\n",
    "confs = [c._asdict() for c in creatives]\n",
    "\n",
    "create_campaign_confs(CAMPAIGNID, \"creative\", confs, db_conf)"
   ]
  },
  {
   "cell_type": "code",
   "execution_count": 79,
   "metadata": {
    "collapsed": false
   },
   "outputs": [],
   "source": [
    "ALL_CREATIVES = [t['name'] for t in image_confs]\n",
    "\n",
    "def make_stratum(id_, quota, targeting):\n",
    "    return { 'id': id_,\n",
    "             'metadata': {'stratumid': id_, **EXTRA_METADATA},\n",
    "             'facebook_targeting': targeting, \n",
    "             'creatives': ALL_CREATIVES,\n",
    "             'audiences': [],\n",
    "             'excluded_audiences': [RESPONDENT_AUDIENCE],\n",
    "             'quota': quota,\n",
    "             'shortcodes': SURVEY_SHORTCODES,\n",
    "             'question_targeting': {\n",
    "                 'op': 'and',\n",
    "                 'vars': [\n",
    "                     { 'op': 'equal',\n",
    "                       'vars': [{'type': 'response', 'value': 'md:stratumid'},\n",
    "                                {'type': 'constant', 'value': id_}]},\n",
    "                     { 'op': 'answered',\n",
    "                       'vars': [{'type': 'response', 'value': FINISHED_QUESTION_REF}]}\n",
    "                 ]\n",
    "             }}"
   ]
  },
  {
   "cell_type": "code",
   "execution_count": null,
   "metadata": {
    "collapsed": false
   },
   "outputs": [],
   "source": [
    "from adopt.marketing import make_stratum_conf\n",
    "\n",
    "strata = [make_stratum(*g) for g in groups]\n",
    "strata_data = [dict_from_nested_type(make_stratum_conf(c)) for c in strata]\n",
    "create_campaign_confs(CAMPAIGNID, \"stratum\", strata_data, db_conf)"
   ]
  },
  {
   "cell_type": "markdown",
   "metadata": {
    "collapsed": false
   },
   "source": [
    "# TESTING"
   ]
  },
  {
   "cell_type": "code",
   "execution_count": 6,
   "metadata": {
    "collapsed": false
   },
   "outputs": [],
   "source": [
    "mal = load_basics(CAMPAIGNID, env)"
   ]
  },
  {
   "cell_type": "code",
   "execution_count": null,
   "metadata": {
    "collapsed": false
   },
   "outputs": [],
   "source": [
    "%%time\n",
    "\n",
    "from adopt.malaria import update_ads_for_campaign, update_audience_for_campaign\n",
    "\n",
    "instructions, report = update_ads_for_campaign(mal)\n",
    "\n",
    "# instructions, report = update_audience_for_campaign(mal)"
   ]
  },
  {
   "cell_type": "code",
   "execution_count": 7,
   "metadata": {
    "collapsed": false
   },
   "outputs": [
    {
     "data": {
      "text/plain": [
       "498.29"
      ]
     },
     "execution_count": 7,
     "metadata": {},
     "output_type": "execute_result"
    }
   ],
   "source": [
    "mal.state.total_spend"
   ]
  },
  {
   "cell_type": "code",
   "execution_count": 53,
   "metadata": {
    "collapsed": false
   },
   "outputs": [],
   "source": [
    "from adopt.malaria import hydrate_strata\n",
    "\n",
    "userinfo, config, db_conf, state, m, confs = mal\n",
    "strata = hydrate_strata(state, confs[\"stratum\"], confs[\"creative\"])\n",
    "\n",
    "df = get_df(db_conf, userinfo.survey_user, strata)"
   ]
  },
  {
   "cell_type": "code",
   "execution_count": null,
   "metadata": {
    "collapsed": false
   },
   "outputs": [],
   "source": [
    "userinfo, config, db_conf, state, m, confs = mal\n",
    "audience_confs = confs[\"audience\"]\n",
    "\n",
    "df = get_df(db_conf, userinfo.survey_user, audience_confs)"
   ]
  },
  {
   "cell_type": "code",
   "execution_count": 14,
   "metadata": {
    "collapsed": false
   },
   "outputs": [],
   "source": [
    "from adopt.responses import get_surveyids\n",
    "\n",
    "surveyids = get_surveyids({'vaccwbg'}, userinfo.survey_user, db_conf)"
   ]
  },
  {
   "cell_type": "code",
   "execution_count": null,
   "metadata": {
    "collapsed": false
   },
   "outputs": [],
   "source": [
    "from adopt.campaign_queries import create_adopt_report\n",
    "\n",
    "db_conf['user'] = 'adopt'\n",
    "create_adopt_report(CAMPAIGNID, 'FACEBOOK_ADOPT', report, db_conf)"
   ]
  },
  {
   "cell_type": "code",
   "execution_count": null,
   "metadata": {
    "collapsed": false
   },
   "outputs": [],
   "source": [
    "import pandas as pd\n",
    "pd.DataFrame(report).T"
   ]
  },
  {
   "cell_type": "code",
   "execution_count": null,
   "metadata": {
    "collapsed": false
   },
   "outputs": [],
   "source": [
    "from adopt.malaria import run_instructions\n",
    "\n",
    "run_instructions(instructions, mal.state)"
   ]
  },
  {
   "cell_type": "code",
   "execution_count": null,
   "metadata": {
    "collapsed": false
   },
   "outputs": [],
   "source": []
  }
 ],
 "metadata": {
  "kernelspec": {
   "argv": [
    "python",
    "-m",
    "ipykernel_launcher",
    "-f",
    "{connection_file}"
   ],
   "display_name": "Python 3",
   "env": null,
   "interrupt_mode": "signal",
   "language": "python",
   "metadata": null,
   "name": "python3"
  },
  "name": "wbg-make-strata.ipynb"
 },
 "nbformat": 4,
 "nbformat_minor": 4
}
