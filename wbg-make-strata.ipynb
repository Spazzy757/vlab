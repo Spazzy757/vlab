{
 "cells": [
  {
   "cell_type": "code",
   "execution_count": 1,
   "metadata": {
    "collapsed": false
   },
   "outputs": [
    {
     "name": "stdout",
     "output_type": "stream",
     "text": [
      "\u001b[33mWARNING: You are using pip version 20.2.3; however, version 21.0.1 is available.\r\n",
      "You should consider upgrading via the '/usr/local/bin/python -m pip install --upgrade pip' command.\u001b[0m\r\n"
     ]
    }
   ],
   "source": [
    "! pip install --quiet environs cyksuid toolz psycopg2-binary typing_json backoff pyyaml facebook_business pystache"
   ]
  },
  {
   "cell_type": "code",
   "execution_count": null,
   "metadata": {
    "collapsed": false
   },
   "outputs": [],
   "source": [
    "! pip install git+https://github.com/nandanrao/typedjson-python"
   ]
  },
  {
   "cell_type": "code",
   "execution_count": 1,
   "metadata": {
    "collapsed": false
   },
   "outputs": [],
   "source": [
    "%load_ext autoreload\n",
    "%autoreload 2"
   ]
  },
  {
   "cell_type": "code",
   "execution_count": 2,
   "metadata": {
    "collapsed": false
   },
   "outputs": [],
   "source": [
    "from environs import Env\n",
    "\n",
    "from adopt.malaria import get_confs, get_df, load_basics, window, get_db_conf\n",
    "from adopt.marketing import make_audience_conf, dict_from_nested_type\n",
    "from adopt.marketing import Marketing\n",
    "from adopt.facebook.state import CampaignState, get_api\n",
    "from adopt.malaria import load_typed_json\n",
    "from adopt.marketing import AudienceConf, CampaignConf\n",
    "from adopt.campaign_queries import get_campaigns_for_user, create_campaign_confs, create_campaign_for_user\n",
    "from typing import List\n",
    "import json\n",
    "\n",
    "env = Env()\n",
    "env.read_env('.env-vlab-vlab', override=True)\n",
    "db_conf = get_db_conf(env)"
   ]
  },
  {
   "cell_type": "code",
   "execution_count": 3,
   "metadata": {
    "collapsed": false
   },
   "outputs": [],
   "source": [
    "\n",
    "AD_CAMPAIGN = 'vaccine_vlab_wbg'\n",
    "AD_ACCOUNT = '246148586918843'\n",
    "PAGE_ID = '103760978380374'\n",
    "RESPONDENT_AUDIENCE = \"vlab-embed-wbg-vaccination-respondents\"\n",
    "INITIAL_SHORTCODE = 'vaccwbg'\n",
    "SURVEY_SHORTCODES = ['vaccar', 'vaccen']\n",
    "FINISHED_QUESTION_REF = 'age_cat'\n",
    "EXTRA_METADATA = {'country': 'wbg'}"
   ]
  },
  {
   "cell_type": "markdown",
   "metadata": {
    "collapsed": false
   },
   "source": [
    "# Template adsets and strata creation"
   ]
  },
  {
   "cell_type": "code",
   "execution_count": 5,
   "metadata": {
    "collapsed": false
   },
   "outputs": [],
   "source": [
    "TEMPLATE_CAMPAIGNID = next(c['id'] for c in \n",
    "                           get_campaigns_for_user(\"mchatila@worldbank.org\", db_conf) \n",
    "                           if c['name'] == \"vaccination-iraq\")\n",
    "\n",
    "userinfo, config, db_conf, state, m, confs = load_basics(TEMPLATE_CAMPAIGNID, env)"
   ]
  },
  {
   "cell_type": "code",
   "execution_count": 6,
   "metadata": {
    "collapsed": false
   },
   "outputs": [],
   "source": [
    "template_state = CampaignState(userinfo.token, \n",
    "                               get_api(env, userinfo.token), \n",
    "                               '282370023153169', \n",
    "                               'embed-mena-wbg-templates')"
   ]
  },
  {
   "cell_type": "code",
   "execution_count": 7,
   "metadata": {
    "collapsed": false
   },
   "outputs": [],
   "source": [
    "import pandas as pd\n",
    "\n",
    "share_lookup = pd.read_csv('outs/wbg-distribution-education.csv', header=[0,1,2], index_col=[0])"
   ]
  },
  {
   "cell_type": "code",
   "execution_count": 8,
   "metadata": {
    "collapsed": false
   },
   "outputs": [],
   "source": [
    "share = share_lookup.T.reset_index().melt(id_vars=['education', 'gender', 'age'], \n",
    "                                          var_name='location', \n",
    "                                          value_name='percentage')\n"
   ]
  },
  {
   "cell_type": "code",
   "execution_count": 9,
   "metadata": {
    "collapsed": false
   },
   "outputs": [
    {
     "name": "stderr",
     "output_type": "stream",
     "text": [
      "INFO:root:Loaded 8 adsets from campaign embed-mena-wbg-templates\n"
     ]
    }
   ],
   "source": [
    "from mena.strata import get_adsets, extraction_confs, hyphen_case\n",
    "\n",
    "a, g, l = get_adsets(template_state, extraction_confs)    \n",
    "\n",
    "variables = [\n",
    "    { \"name\": \"age\", \"source\": \"facebook\", \"conf\": a},\n",
    "    { \"name\": \"gender\", \"source\": \"facebook\", \"conf\": g},\n",
    "    { \"name\": \"location\", \"source\": \"facebook\", \"conf\": l},\n",
    "    { \"name\": \"education\", \"source\": \"survey\", \"conf\": {\n",
    "        \"levels\": [{\"name\": \"low\", \n",
    "                    \"audiences\": [],\n",
    "                    \"excluded_audiences\": [ \"vlab-vacc-wbg-education-tertiary-lookalike\", \"vlab-vacc-wbg-education-secondary-lookalike\"], \n",
    "                    \"question_targeting\": {\"op\": \"or\", \n",
    "                       \"vars\": [\n",
    "                           {\"op\": \"equal\", \"vars\": [\n",
    "                               {\"type\": \"response\", \"value\": \"education\"},\n",
    "                               {\"type\": \"constant\", \"value\": \"A\"}]}, \n",
    "                           {\"op\": \"equal\", \"vars\": [\n",
    "                               {\"type\": \"response\", \"value\": \"education\"},\n",
    "                               {\"type\": \"constant\", \"value\": \"B\"}]}\n",
    "                       ]}},\n",
    "                   {\"name\": \"secondary\", \n",
    "                    \"audiences\": [], \n",
    "                    \"excluded_audiences\": [\"vlab-vacc-wbg-education-low-lookalike\", \n",
    "                                           \"vlab-vacc-wbg-education-tertiary-lookalike\"], \n",
    "                    \"question_targeting\": {\"op\": \"equal\", \n",
    "                                           \"vars\": [\n",
    "                                               {\"type\": \"response\", \"value\": \"education\"},\n",
    "                                               {\"type\": \"constant\", \"value\": \"C\"}\n",
    "                                           ]}}, \n",
    "                   {\"name\": \"tertiary\", \n",
    "                    \"audiences\": [\"vlab-vacc-wbg-education-tertiary-lookalike\"], \n",
    "                    \"excluded_audiences\": [],\n",
    "                    \"question_targeting\": {\"op\": \"equal\", \n",
    "                                           \"vars\": [\n",
    "                                               {\"type\": \"response\", \"value\": \"education\"},\n",
    "                                               {\"type\": \"constant\", \"value\": \"D\"}\n",
    "                                           ]}}\n",
    "                   ]}}\n",
    "]"
   ]
  },
  {
   "cell_type": "code",
   "execution_count": 10,
   "metadata": {
    "collapsed": false
   },
   "outputs": [],
   "source": [
    "def format_group_product(group, share_lookup):\n",
    "    facebook_targeting = {}\n",
    "    tvars = []\n",
    "    md = {}\n",
    "    conf = {\"audiences\": [], \"excluded_audiences\": []}\n",
    "\n",
    "    id_list = []\n",
    "    stratumid_list = []\n",
    "    names = []\n",
    "\n",
    "    for name, source, c in group:\n",
    "        names += [c[\"name\"]]\n",
    "        id_list += [name, c[\"name\"]]\n",
    "\n",
    "        if source == \"facebook\":\n",
    "            stratumid_list += [c[\"name\"]]\n",
    "            md_name = f\"stratum_{name}\"\n",
    "            facebook_targeting = {**facebook_targeting, **c[\"params\"]}\n",
    "            md = {**md, md_name: c[\"name\"]}\n",
    "\n",
    "        if source == \"survey\":\n",
    "            tvars.append(c[\"question_targeting\"])\n",
    "            conf[\"audiences\"] += c[\"audiences\"]\n",
    "            conf[\"excluded_audiences\"] += c[\"excluded_audiences\"]\n",
    "\n",
    "    variables = [name for name, _, _ in group]\n",
    "    try:\n",
    "        share = (\n",
    "            share_lookup[variables + [\"percentage\"]]\n",
    "            .set_index(variables)\n",
    "            .loc[tuple(names)][0].item()\n",
    "        )\n",
    "    except KeyError as e:\n",
    "        raise Exception(f\"Could not find share for stratum: {names}\") from e\n",
    "\n",
    "    stratumid = \"-\".join([hyphen_case(s) for s in stratumid_list])\n",
    "    md = {**md, \"stratumid\": stratumid}\n",
    "\n",
    "    tvars.append({\"op\": \"equal\", \"vars\": [{\"type\": \"response\", \"value\": \"md:stratumid\"}, \n",
    "                                          {\"type\": \"constant\", \"value\": stratumid}]})\n",
    "\n",
    "    tvars.append({ 'op': 'answered',\n",
    "                   'vars': [{'type': 'response', 'value': FINISHED_QUESTION_REF}]})\n",
    "\n",
    "    id_ = \"-\".join([hyphen_case(s) for s in id_list])\n",
    "\n",
    "    conf = {\n",
    "        \"facebook_targeting\": facebook_targeting,\n",
    "        \"question_targeting\": {\"op\": \"and\", \"vars\": tvars},\n",
    "        \"metadata\": md,\n",
    "        **conf,\n",
    "    }\n",
    "\n",
    "    return id_, share, conf"
   ]
  },
  {
   "cell_type": "code",
   "execution_count": 11,
   "metadata": {
    "collapsed": false
   },
   "outputs": [],
   "source": [
    "from itertools import product \n",
    "\n",
    "groups = product(*[[(v['name'], v['source'], l) for l in v['conf']['levels']] for v in variables])\n",
    "groups = [format_group_product(g, share) for g in groups]"
   ]
  },
  {
   "cell_type": "markdown",
   "metadata": {
    "collapsed": false
   },
   "source": [
    "# CREATING CONFS - WBG"
   ]
  },
  {
   "cell_type": "code",
   "execution_count": 12,
   "metadata": {
    "collapsed": false
   },
   "outputs": [],
   "source": [
    "USER = \"dpinzonhernandez@worldbank.org\"\n",
    "CAMPAIGN = \"vaccination-wbg\"\n",
    "CAMPAIGNID = next(c['id'] for c in get_campaigns_for_user(USER, db_conf) \n",
    "                  if c['name'] == CAMPAIGN)\n",
    "\n",
    "# create_campaign_for_user(USER, CAMPAIGN, db_conf)"
   ]
  },
  {
   "cell_type": "code",
   "execution_count": 13,
   "metadata": {
    "collapsed": false
   },
   "outputs": [],
   "source": [
    "userinfo, config, db_conf, state, m, confs = load_basics(CAMPAIGNID, env)"
   ]
  },
  {
   "cell_type": "code",
   "execution_count": 14,
   "metadata": {
    "collapsed": false
   },
   "outputs": [],
   "source": [
    "images = {i['name']: i for i in state.account.get_ad_images(fields=['name', 'hash'])}"
   ]
  },
  {
   "cell_type": "code",
   "execution_count": 15,
   "metadata": {
    "collapsed": false
   },
   "outputs": [],
   "source": [
    "from adopt.facebook.update import Instruction\n",
    "from adopt.malaria import run_instructions\n",
    "\n",
    "def create_campaign(name):\n",
    "    params = {\n",
    "        \"name\": name,\n",
    "        \"objective\": \"MESSAGES\",\n",
    "        \"status\": \"PAUSED\",\n",
    "        \"special_ad_categories\": [],\n",
    "    }\n",
    "\n",
    "    return Instruction(\"campaign\", \"create\", params)\n",
    "\n",
    "\n",
    "# run_instructions([create_campaign(\"vaccine_vlab_wbg\")], state)"
   ]
  },
  {
   "cell_type": "code",
   "execution_count": 16,
   "metadata": {
    "collapsed": false
   },
   "outputs": [
    {
     "name": "stderr",
     "output_type": "stream",
     "text": [
      "INFO:root:{'timestamp': '2021-03-02T15:32:40.195861+00:00', 'instruction': {'node': 'campaign', 'action': 'update', 'id': '23846641567840784', 'params': {'status': 'ACTIVE'}}}\n"
     ]
    }
   ],
   "source": [
    "run_instructions([Instruction(\"campaign\", \"update\", {\"status\": \"ACTIVE\"}, \"23846641567840784\")], state)"
   ]
  },
  {
   "cell_type": "code",
   "execution_count": null,
   "metadata": {
    "collapsed": false
   },
   "outputs": [],
   "source": [
    "c = {'optimization_goal': 'LINK_CLICKS',\n",
    "     'destination_type': 'MESSENGER',\n",
    "     'adset_hours': 48,\n",
    "     'budget': 300000.0,\n",
    "     'min_budget': 100.0,\n",
    "     'opt_window': 4*24,\n",
    "     'end_date': '2021-03-21',\n",
    "     'proportional': True,\n",
    "     'page_id': PAGE_ID,\n",
    "     'instagram_id': None,\n",
    "     'ad_account': AD_ACCOUNT,\n",
    "     'ad_campaign': AD_CAMPAIGN}\n",
    "\n",
    "config = CampaignConf(**c)\n",
    "\n",
    "create_campaign_confs(CAMPAIGNID, \"opt\", [config._asdict()], db_conf)"
   ]
  },
  {
   "cell_type": "code",
   "execution_count": null,
   "metadata": {
    "collapsed": false
   },
   "outputs": [],
   "source": [
    "from adopt.marketing import make_audience_conf, dict_from_nested_type\n",
    "import json\n",
    "\n",
    "audiences = [\n",
    "    {\n",
    "        \"name\": \"vlab-vacc-wbg-education-low\",\n",
    "        \"shortcodes\": SURVEY_SHORTCODES,\n",
    "        \"subtype\": \"LOOKALIKE\",\n",
    "        \"lookalike\": {\n",
    "            \"name\": \"vlab-vacc-wbg-education-low-lookalike\",\n",
    "            \"target\": 500,\n",
    "            \"spec\": {\n",
    "                \"country\": \"PS\",\n",
    "                \"starting_ratio\": 0.0,\n",
    "                \"ratio\": 0.2\n",
    "            }\n",
    "        },\n",
    "        \"question_targeting\": {\"op\": \"or\", \n",
    "                               \"vars\": [\n",
    "                                   {\"op\": \"equal\", \"vars\": [\n",
    "                                       {\"type\": \"response\", \"value\": \"education\"},\n",
    "                                       {\"type\": \"constant\", \"value\": \"A\"}]}, \n",
    "                                   {\"op\": \"equal\", \"vars\": [\n",
    "                                       {\"type\": \"response\", \"value\": \"education\"},\n",
    "                                       {\"type\": \"constant\", \"value\": \"B\"}]}\n",
    "                               ]}\n",
    "    },\n",
    "    {\n",
    "        \"name\": \"vlab-vacc-wbg-education-secondary\",\n",
    "        \"shortcodes\": SURVEY_SHORTCODES,\n",
    "        \"subtype\": \"LOOKALIKE\",\n",
    "        \"lookalike\": {\n",
    "            \"name\": \"vlab-vacc-wbg-education-secondary-lookalike\",\n",
    "            \"target\": 2000,\n",
    "            \"spec\": {\n",
    "                \"country\": \"PS\",\n",
    "                \"starting_ratio\": 0.0,\n",
    "                \"ratio\": 0.2\n",
    "            }\n",
    "        },\n",
    "        \"question_targeting\": {\"op\": \"equal\", \n",
    "                               \"vars\": [\n",
    "                                   {\"type\": \"response\", \"value\": \"education\"},\n",
    "                                   {\"type\": \"constant\", \"value\": \"C\"}\n",
    "                               ]}\n",
    "\n",
    "    },\n",
    "    {\n",
    "        \"name\": \"vlab-vacc-wbg-education-tertiary\",\n",
    "        \"shortcodes\": SURVEY_SHORTCODES,\n",
    "        \"subtype\": \"LOOKALIKE\",\n",
    "        \"lookalike\": {\n",
    "            \"name\": \"vlab-vacc-wbg-education-tertiary-lookalike\",\n",
    "            \"target\": 2000,\n",
    "            \"spec\": {\n",
    "                \"country\": \"PS\",\n",
    "                \"starting_ratio\": 0.0,\n",
    "                \"ratio\": 0.2\n",
    "            }\n",
    "        },\n",
    "        \"question_targeting\": {\"op\": \"equal\", \n",
    "                               \"vars\": [\n",
    "                                   {\"type\": \"response\", \"value\": \"education\"},\n",
    "                                   {\"type\": \"constant\", \"value\": \"D\"}\n",
    "                               ]}\n",
    "\n",
    "    },\n",
    "    {\n",
    "        \"name\": RESPONDENT_AUDIENCE,\n",
    "        \"shortcodes\": [INITIAL_SHORTCODE],\n",
    "        \"subtype\": \"CUSTOM\"\n",
    "    },\n",
    "]\n",
    "\n",
    "\n",
    "audience_confs = [make_audience_conf(c) for c in audiences]\n",
    "confs = [dict_from_nested_type(a) for a in audience_confs]\n",
    "\n",
    "create_campaign_confs(CAMPAIGNID, \"audience\", confs, db_conf)"
   ]
  },
  {
   "cell_type": "code",
   "execution_count": 16,
   "metadata": {
    "collapsed": false
   },
   "outputs": [],
   "source": [
    "from adopt.marketing import CreativeConf\n",
    "\n",
    "\n",
    "def _creative_conf(name, image, body, headline, welcome_message, button_text, form):\n",
    "    return {\n",
    "        \"name\": name,\n",
    "        \"image\": image['name'],\n",
    "        \"image_hash\": image['hash'],\n",
    "        \"body\": body,\n",
    "        \"link_text\": headline,\n",
    "        \"welcome_message\": welcome_message,\n",
    "        \"button_text\": button_text,\n",
    "        \"form\": form,\n",
    "    }\n",
    "\n",
    "\n",
    "df = pd.read_csv('outs/creative-wbg.csv')\n",
    "image_confs = [{**d, 'image': images[d['image']]} for d in df.to_dict(orient='records')]\n",
    "\n",
    "creatives = [CreativeConf(**_creative_conf(**{**c, 'form': INITIAL_SHORTCODE})) for c in image_confs]\n",
    "confs = [c._asdict() for c in creatives]\n",
    "\n",
    "create_campaign_confs(CAMPAIGNID, \"creative\", confs, db_conf)"
   ]
  },
  {
   "cell_type": "code",
   "execution_count": 17,
   "metadata": {
    "collapsed": false
   },
   "outputs": [],
   "source": [
    "ALL_CREATIVES = [t['name'] for t in image_confs]\n",
    "\n",
    "def make_stratum(id_, quota, c):\n",
    "    return { 'id': id_,\n",
    "             'metadata': {**c['metadata'], **EXTRA_METADATA},\n",
    "             'facebook_targeting': c['facebook_targeting'], \n",
    "             'creatives': ALL_CREATIVES,\n",
    "             'audiences': c['audiences'],\n",
    "             'excluded_audiences': [*c['excluded_audiences'], RESPONDENT_AUDIENCE],\n",
    "             'quota': quota,\n",
    "             'shortcodes': SURVEY_SHORTCODES,\n",
    "             'question_targeting': c['question_targeting']}"
   ]
  },
  {
   "cell_type": "code",
   "execution_count": null,
   "metadata": {
    "collapsed": false
   },
   "outputs": [],
   "source": [
    "from adopt.marketing import make_stratum_conf, StratumConf, QuestionTargeting\n",
    "\n",
    "import typedjson\n",
    "strata = [make_stratum(*g) for g in groups]\n",
    "strata_data = [dict_from_nested_type(make_stratum_conf(c)) for c in strata]\n",
    "create_campaign_confs(CAMPAIGNID, \"stratum\", strata_data, db_conf)"
   ]
  },
  {
   "cell_type": "code",
   "execution_count": 254,
   "metadata": {
    "collapsed": false
   },
   "outputs": [],
   "source": [
    "sc = make_stratum_conf(strata[0])"
   ]
  },
  {
   "cell_type": "code",
   "execution_count": null,
   "metadata": {
    "collapsed": false
   },
   "outputs": [],
   "source": [
    "dir(sc.facebook_targeting['geo_locations'])"
   ]
  },
  {
   "cell_type": "markdown",
   "metadata": {
    "collapsed": false
   },
   "source": [
    "# TESTING"
   ]
  },
  {
   "cell_type": "code",
   "execution_count": 98,
   "metadata": {
    "collapsed": false
   },
   "outputs": [],
   "source": [
    "mal = load_basics(CAMPAIGNID, env)"
   ]
  },
  {
   "cell_type": "code",
   "execution_count": 6,
   "metadata": {
    "collapsed": false
   },
   "outputs": [
    {
     "name": "stdout",
     "output_type": "stream",
     "text": [
      "CPU times: user 1min 23s, sys: 113 ms, total: 1min 23s\n",
      "Wall time: 1min 41s\n"
     ]
    }
   ],
   "source": [
    "%%time\n",
    "\n",
    "from adopt.malaria import update_ads_for_campaign, update_audience_for_campaign\n",
    " \n",
    "# instructions, report = update_ads_for_campaign(mal)\n",
    "\n",
    "instructions, report = update_audience_for_campaign(mal)"
   ]
  },
  {
   "cell_type": "code",
   "execution_count": 99,
   "metadata": {
    "collapsed": false
   },
   "outputs": [],
   "source": [
    "from adopt.malaria import hydrate_strata\n",
    "\n",
    "userinfo, config, db_conf, state, m, confs = mal\n",
    "strata = hydrate_strata(state, confs[\"stratum\"], confs[\"creative\"])\n",
    "\n",
    "df = get_df(db_conf, userinfo.survey_user, strata)"
   ]
  },
  {
   "cell_type": "code",
   "execution_count": 104,
   "metadata": {
    "collapsed": false
   },
   "outputs": [],
   "source": [
    "from adopt.malaria import hydrate_audiences\n",
    "\n",
    "userinfo, config, db_conf, state, m, confs = mal\n",
    "audience_confs = confs[\"audience\"]\n",
    "\n",
    "df = get_df(db_conf, userinfo.survey_user, audience_confs)\n",
    "\n",
    "audiences = hydrate_audiences(df, m, audience_confs)"
   ]
  },
  {
   "cell_type": "code",
   "execution_count": 14,
   "metadata": {
    "collapsed": false
   },
   "outputs": [],
   "source": [
    "from adopt.responses import get_surveyids\n",
    "\n",
    "surveyids = get_surveyids({'vaccwbg'}, userinfo.survey_user, db_conf)"
   ]
  },
  {
   "cell_type": "code",
   "execution_count": null,
   "metadata": {
    "collapsed": false
   },
   "outputs": [],
   "source": [
    "from adopt.campaign_queries import create_adopt_report\n",
    "\n",
    "db_conf['user'] = 'adopt'\n",
    "create_adopt_report(CAMPAIGNID, 'FACEBOOK_ADOPT', report, db_conf)"
   ]
  },
  {
   "cell_type": "code",
   "execution_count": null,
   "metadata": {
    "collapsed": false
   },
   "outputs": [],
   "source": [
    "from adopt.malaria import run_instructions\n",
    "\n",
    "run_instructions(instructions, mal.state)"
   ]
  },
  {
   "cell_type": "code",
   "execution_count": 70,
   "metadata": {
    "collapsed": false
   },
   "outputs": [],
   "source": [
    "import pandas as pd\n",
    "from adopt.campaign_queries import get_last_adopt_report\n",
    "\n",
    "rdf = pd.DataFrame(get_last_adopt_report(CAMPAIGNID, \"FACEBOOK_ADOPT\", mal.db_conf)).T"
   ]
  },
  {
   "cell_type": "code",
   "execution_count": null,
   "metadata": {
    "collapsed": false
   },
   "outputs": [],
   "source": [
    "rdf.sort_values('respondents')"
   ]
  },
  {
   "cell_type": "code",
   "execution_count": null,
   "metadata": {
    "collapsed": false
   },
   "outputs": [],
   "source": [
    "mal.state.custom_audiences"
   ]
  },
  {
   "cell_type": "code",
   "execution_count": null,
   "metadata": {
    "collapsed": false
   },
   "outputs": [],
   "source": [
    "mal.state.spend"
   ]
  },
  {
   "cell_type": "code",
   "execution_count": null,
   "metadata": {
    "collapsed": false
   },
   "outputs": [],
   "source": [
    "# What's going on with spend? \n",
    "# spend should come...Maybe the lookalike audiences weren't in effect\n",
    "\n",
    "rdf.sort_values('respondents')"
   ]
  },
  {
   "cell_type": "code",
   "execution_count": 84,
   "metadata": {
    "collapsed": false
   },
   "outputs": [],
   "source": [
    "import json\n",
    "from facebook_business.adobjects.application import Application\n",
    "\n",
    "def make_event(pageid, userid):\n",
    "    return {\n",
    "        'event': 'CUSTOM_APP_EVENTS',\n",
    "        'custom_events': json.dumps([{\n",
    "            '_eventName': \"survey_completion\",\n",
    "        }]),\n",
    "        'advertiser_tracking_enabled': 1,\n",
    "        'application_tracking_enabled': 1,\n",
    "        'extinfo': json.dumps(['mb1']),\n",
    "        'page_id': pageid,\n",
    "        'page_scoped_user_id': userid,\n",
    "    }\n",
    "\n",
    "\n",
    "app_id = env(\"FACEBOOK_APP_ID\")\n",
    "app = Application(fbid=app_id, api=mal.state.api)"
   ]
  },
  {
   "cell_type": "code",
   "execution_count": 93,
   "metadata": {
    "collapsed": false
   },
   "outputs": [],
   "source": [
    "pageid = mal.confs['opt'][0].page_id\n",
    "params = make_event(pageid, audiences[3].users[0])\n",
    "app.create_activity(params=params)"
   ]
  },
  {
   "cell_type": "code",
   "execution_count": 111,
   "metadata": {
    "collapsed": false
   },
   "outputs": [
    {
     "data": {
      "text/plain": [
       "'2301506143306723'"
      ]
     },
     "execution_count": 111,
     "metadata": {},
     "output_type": "execute_result"
    }
   ],
   "source": []
  },
  {
   "cell_type": "code",
   "execution_count": null,
   "metadata": {
    "collapsed": false
   },
   "outputs": [],
   "source": []
  },
  {
   "cell_type": "code",
   "execution_count": null,
   "metadata": {
    "collapsed": false
   },
   "outputs": [],
   "source": [
    "\n",
    "\n"
   ]
  }
 ],
 "metadata": {
  "kernelspec": {
   "argv": [
    "python",
    "-m",
    "ipykernel_launcher",
    "-f",
    "{connection_file}"
   ],
   "display_name": "Python 3",
   "env": null,
   "interrupt_mode": "signal",
   "language": "python",
   "metadata": null,
   "name": "python3"
  },
  "name": "wbg-make-strata.ipynb"
 },
 "nbformat": 4,
 "nbformat_minor": 4
}
