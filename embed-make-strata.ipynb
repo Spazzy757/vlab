{
 "cells": [
  {
   "cell_type": "code",
   "execution_count": null,
   "metadata": {
    "collapsed": false
   },
   "outputs": [],
   "source": [
    "! pip install --quiet environs cyksuid toolz psycopg2-binary typing_json backoff pyyaml facebook_business pystache"
   ]
  },
  {
   "cell_type": "code",
   "execution_count": 1,
   "metadata": {
    "collapsed": false
   },
   "outputs": [],
   "source": [
    "%load_ext autoreload\n",
    "%autoreload 2"
   ]
  },
  {
   "cell_type": "code",
   "execution_count": 45,
   "metadata": {
    "collapsed": false
   },
   "outputs": [],
   "source": [
    "from environs import Env\n",
    "\n",
    "from adopt.malaria import get_confs, get_df, load_basics, window, get_db_conf\n",
    "from adopt.marketing import make_audience_conf, dict_from_nested_type\n",
    "from adopt.marketing import Marketing\n",
    "from adopt.facebook.state import CampaignState, get_api\n",
    "from adopt.malaria import load_typed_json\n",
    "from adopt.marketing import AudienceConf, CampaignConf\n",
    "from adopt.campaign_queries import get_campaigns_for_user, create_campaign_confs, create_campaign_for_user\n",
    "from typing import List\n",
    "import json\n",
    "\n",
    "env = Env()\n",
    "env.read_env('.env-vlab-vlab', override=True)\n",
    "db_conf = get_db_conf(env)"
   ]
  },
  {
   "cell_type": "code",
   "execution_count": 24,
   "metadata": {
    "collapsed": false
   },
   "outputs": [],
   "source": [
    "userinfo, config, db_conf, state, m, confs = load_basics(CAMPAIGNID, env)"
   ]
  },
  {
   "cell_type": "code",
   "execution_count": null,
   "metadata": {
    "collapsed": false
   },
   "outputs": [],
   "source": [
    "template_state = CampaignState(userinfo.token, get_api(env, userinfo.token), '282370023153169', 'template-ad-sets')\n",
    "\n",
    "template_state.campaign_state"
   ]
  },
  {
   "cell_type": "code",
   "execution_count": 26,
   "metadata": {
    "collapsed": false
   },
   "outputs": [],
   "source": [
    "geo_shares = {'North Governorate': .14,\n",
    "              'Beirut Governorate': .08,\n",
    "              'South Governorate': .11,\n",
    "              'Nabatieh Governorate': .15,\n",
    "              'Mount Lebanon Governorate': .34 ,\n",
    "              'Beqaa Governorate': .18}\n",
    "\n",
    "age_shares = { 18: .25, \n",
    "               25: .25, \n",
    "               35: .25, \n",
    "               50: .25}"
   ]
  },
  {
   "cell_type": "code",
   "execution_count": 27,
   "metadata": {
    "collapsed": false
   },
   "outputs": [],
   "source": [
    "def hyphen_case(s):\n",
    "    return s.replace(' ', '-').lower().strip()\n",
    "\n",
    "def get_geo_name(g):\n",
    "    return g['targeting']['geo_locations']['regions'][0]['name']"
   ]
  },
  {
   "cell_type": "code",
   "execution_count": 28,
   "metadata": {
    "collapsed": false
   },
   "outputs": [],
   "source": [
    "age_sets = [a for a in template_state.adsets if 'Age' in a['name']]\n",
    "geo_sets = [a for a in template_state.adsets if 'Lebanon - GEO' in a['name']]\n",
    "gender_sets = [a for a in template_state.adsets if 'Lebanon - Gender' in a['name']]\n",
    "\n",
    "# weird hack to deal with messed up template that I can't change\n",
    "# due to disabled ad account\n",
    "gender_sets[0]['targeting']['genders'] = [2]\n",
    "\n",
    "geo_sets = [(hyphen_case(get_geo_name(g)), geo_shares[get_geo_name(g)], g)\n",
    "            for g in geo_sets]\n",
    "\n",
    "age_sets = [(str(g['targeting']['age_min']), age_shares[g['targeting']['age_min']], g) \n",
    "              for g in age_sets]\n",
    "\n",
    "gender_sets = [(str(g['targeting']['genders'][0]), 0.5, g) for g in gender_sets]\n"
   ]
  },
  {
   "cell_type": "code",
   "execution_count": 37,
   "metadata": {
    "collapsed": false
   },
   "outputs": [],
   "source": [
    "from itertools import product\n",
    "from functools import reduce\n",
    "\n",
    "from math import ceil\n",
    "\n",
    "groups = [\n",
    "    (['age_max', 'age_min'],\n",
    "     age_sets),\n",
    "    (['genders'], gender_sets),\n",
    "    (['geo_locations'],\n",
    "     geo_sets),\n",
    "]\n",
    "\n",
    "def format_group_product(group):\n",
    "    conf = {k:v for keys, (name, share, conf) in group\n",
    "            for k, v in conf['targeting'].items() \n",
    "            if k in keys}\n",
    "\n",
    "    name = '-'.join([n for _, (n, _, _) in group])\n",
    "\n",
    "    share = reduce(lambda a,b: a*b, [s for _, (_, s, _) in group])\n",
    "    share = ceil(share * 5000)\n",
    "\n",
    "    return (name, share, conf)\n",
    "\n",
    "groups = [[(keys, s) for s in sets] for keys, sets in groups]\n",
    "groups = list(product(*groups))\n",
    "groups = [format_group_product(g) for g in groups]"
   ]
  },
  {
   "cell_type": "code",
   "execution_count": 38,
   "metadata": {
    "collapsed": false
   },
   "outputs": [],
   "source": [
    "def conf_for_export(conf):\n",
    "    conf['geo_locations'] = conf['geo_locations'].export_all_data()\n",
    "    return conf\n",
    "\n",
    "groups = [(n,s,conf_for_export(c)) for n, s, c in groups]"
   ]
  },
  {
   "cell_type": "code",
   "execution_count": 40,
   "metadata": {
    "collapsed": false
   },
   "outputs": [],
   "source": [
    "images = {i['name']: i for i in state.account.get_ad_images(fields=['name', 'hash'])}"
   ]
  },
  {
   "cell_type": "markdown",
   "metadata": {
    "collapsed": false
   },
   "source": [
    "# CREATING CONFS - MNM"
   ]
  },
  {
   "cell_type": "code",
   "execution_count": 95,
   "metadata": {
    "collapsed": false
   },
   "outputs": [],
   "source": []
  },
  {
   "cell_type": "code",
   "execution_count": 41,
   "metadata": {
    "collapsed": false
   },
   "outputs": [],
   "source": [
    "# make creatives conf\n",
    "from adopt.marketing import CreativeConf\n"
   ]
  },
  {
   "cell_type": "code",
   "execution_count": 42,
   "metadata": {
    "collapsed": false
   },
   "outputs": [],
   "source": [
    "USER = \"mchatila@worldbank.org\"\n",
    "CAMPAIGN = \"mena-vaccination\"\n",
    "CAMPAIGNID = get_campaigns_for_user(USER, db_conf)[0][\"id\"]\n",
    "\n",
    "# create_campaign_for_user(USER, CAMPAIGN, db_conf)"
   ]
  },
  {
   "cell_type": "code",
   "execution_count": null,
   "metadata": {
    "collapsed": false
   },
   "outputs": [],
   "source": [
    "c = {'optimization_goal': 'LINK_CLICKS',\n",
    "     'destination_type': 'MESSENGER',\n",
    "     'adset_hours': 48,\n",
    "     'budget': 400000.0,\n",
    "     'min_budget': 100.0,\n",
    "     'opt_window': 7*24,\n",
    "     'end_date': '2021-02-03',\n",
    "     'proportional': False,\n",
    "     'page_id': '106141768050427',\n",
    "     'instagram_id': None,\n",
    "     'ad_account': '282370023153169',\n",
    "     'ad_campaign': 'embed-mena-lebanon-1'}\n",
    "\n",
    "config = CampaignConf(**c)\n",
    "\n",
    "create_campaign_confs(CAMPAIGNID, \"opt\", [config._asdict()], db_conf)"
   ]
  },
  {
   "cell_type": "code",
   "execution_count": null,
   "metadata": {
    "collapsed": false
   },
   "outputs": [],
   "source": [
    "from adopt.marketing import make_audience_conf, dict_from_nested_type\n",
    "import json\n",
    "\n",
    "audiences = [\n",
    "    {\n",
    "        \"name\": \"vlab-embed-mena-vaccination-respondents\",\n",
    "        \"shortcodes\": [\"vaccwelcome\", \"vaccinationar\", \"vaccinationeng\", \"vaccinationfr\"],\n",
    "        \"subtype\": \"CUSTOM\"\n",
    "    },\n",
    "]\n",
    "\n",
    "\n",
    "audience_confs = [make_audience_conf(c) for c in audiences]\n",
    "confs = [dict_from_nested_type(a) for a in audience_confs]\n",
    "\n",
    "create_campaign_confs(CAMPAIGNID, \"audience\", confs, db_conf)"
   ]
  },
  {
   "cell_type": "code",
   "execution_count": null,
   "metadata": {
    "collapsed": false
   },
   "outputs": [],
   "source": [
    "from adopt.marketing import CreativeConf\n",
    "\n",
    "\n",
    "def _creative_conf(name, image, body, headline, welcome_message, button_text, form):\n",
    "    return {\n",
    "        \"name\": name,\n",
    "        \"image\": image['name'],\n",
    "        \"image_hash\": image['hash'],\n",
    "        \"body\": body,\n",
    "        \"link_text\": headline,\n",
    "        \"welcome_message\": welcome_message,\n",
    "        \"button_text\": button_text,\n",
    "        \"form\": form,\n",
    "    }\n",
    "\n",
    "image_confs = [\n",
    "    ('vlab-embed-mena-e-gift-card-fr', \n",
    "     images['e-gift-card_5_square.jpg'], \n",
    "     'Partagez votre opinion et courez la chance de gagner une carte cadeau de 150 000 LBP de HiCart!', \n",
    "     'Partagez votre opinion',\n",
    "     'Partagez votre opinion et courez la chance de gagner une carte cadeau de 150 000 LBP de HiCart cliquez sur commencer pour commencer!',\n",
    "     'Commencer'),\n",
    "    ('vlab-embed-mena-e-gift-card-en', \n",
    "     images['e-gift-card_5_square.jpg'], \n",
    "     'Share your opinion and get the chance to win a 150,000 LBP gift card from HiCart!', \n",
    "     'Share your opinion', \n",
    "     'Share your opinion and get the chance to win a 150,000 LBP gift card from HiCart click begin to start!', \n",
    "     'Begin'),\n",
    "    ('vlab-embed-mena-e-gift-card-ar', \n",
    "     images['e-gift-card_5_square.jpg'], \n",
    "     'شارك رأيك واحصل على فرصة للفوز بقسيمة شرائية بقيمة 150000 ليرة من HiCart!', \n",
    "     'شارك رأيك',\n",
    "     'شارك رأيك واحصل على فرصة للفوز بقسيمة شرائية بقيمة 150000 ليرة من HiCart انقر ابدأ لتبدء',\n",
    "     'ابدأ'),\n",
    "]\n",
    "\n",
    "creatives = [CreativeConf(**_creative_conf(*c, 'vaccwelcome')) for c in image_confs]\n",
    "confs = [c._asdict() for c in creatives]\n",
    "\n",
    "create_campaign_confs(CAMPAIGNID, \"creative\", confs, db_conf)"
   ]
  },
  {
   "cell_type": "code",
   "execution_count": 43,
   "metadata": {
    "collapsed": false
   },
   "outputs": [],
   "source": [
    "def make_stratum(id_, quota, targeting):\n",
    "    return { 'id': id_,\n",
    "             'metadata': {'stratumid': id_, 'country': 'lebanon'},\n",
    "             'facebook_targeting': targeting, \n",
    "             'creatives': ['vlab-embed-mena-e-gift-card-ar', 'vlab-embed-mena-e-gift-card-fr', 'vlab-embed-mena-e-gift-card-en'],\n",
    "             'audiences': [],\n",
    "             'excluded_audiences': [\"vlab-embed-mena-vaccination-respondents\"],\n",
    "             'quota': quota,\n",
    "             'shortcodes': ['vaccinationar', 'vaccinationfr', 'vaccinationeng'],\n",
    "             'question_targeting': {\n",
    "                 'op': 'and',\n",
    "                 'vars': [\n",
    "                     { 'op': 'equal',\n",
    "                       'vars': [{'type': 'response', 'value': 'md:stratumid'},\n",
    "                                {'type': 'constant', 'value': id_}]},\n",
    "                     { 'op': 'answered',\n",
    "                       'vars': [{'type': 'response', 'value': 'refugee'}]}\n",
    "                 ]\n",
    "             }}"
   ]
  },
  {
   "cell_type": "code",
   "execution_count": null,
   "metadata": {
    "collapsed": false
   },
   "outputs": [],
   "source": [
    "from adopt.marketing import make_stratum_conf\n",
    "\n",
    "strata = [make_stratum(*g) for g in groups]\n",
    "strata_data = [dict_from_nested_type(make_stratum_conf(c)) for c in strata]\n",
    "create_campaign_confs(CAMPAIGNID, \"stratum\", strata_data, db_conf)"
   ]
  },
  {
   "cell_type": "markdown",
   "metadata": {
    "collapsed": false
   },
   "source": [
    "# TESTING"
   ]
  },
  {
   "cell_type": "code",
   "execution_count": 47,
   "metadata": {
    "collapsed": false
   },
   "outputs": [],
   "source": [
    "mal = load_basics(CAMPAIGNID, env)"
   ]
  },
  {
   "cell_type": "code",
   "execution_count": 48,
   "metadata": {
    "collapsed": false
   },
   "outputs": [
    {
     "name": "stderr",
     "output_type": "stream",
     "text": [
      "INFO:root:Loaded 48 adsets from campaign embed-mena-lebanon-1\n"
     ]
    },
    {
     "name": "stderr",
     "output_type": "stream",
     "text": [
      "INFO:root:Loaded 144 ads from campaign embed-mena-lebanon-1\n"
     ]
    },
    {
     "name": "stdout",
     "output_type": "stream",
     "text": [
      "CPU times: user 2min 19s, sys: 53 ms, total: 2min 19s\n",
      "Wall time: 2min 56s\n"
     ]
    }
   ],
   "source": [
    "%%time\n",
    "\n",
    "from adopt.malaria import update_ads_for_campaign\n",
    "\n",
    "\n",
    "instructions, report = update_ads_for_campaign(mal)"
   ]
  },
  {
   "cell_type": "code",
   "execution_count": null,
   "metadata": {
    "collapsed": false
   },
   "outputs": [],
   "source": [
    "mal.config"
   ]
  },
  {
   "cell_type": "code",
   "execution_count": 50,
   "metadata": {
    "collapsed": false
   },
   "outputs": [
    {
     "data": {
      "text/plain": [
       "1"
      ]
     },
     "execution_count": 50,
     "metadata": {},
     "output_type": "execute_result"
    }
   ],
   "source": [
    "from adopt.malaria import days_left\n",
    "\n",
    "days_left(mal.config)"
   ]
  },
  {
   "cell_type": "code",
   "execution_count": 60,
   "metadata": {
    "collapsed": false
   },
   "outputs": [],
   "source": [
    "import pandas as pd\n",
    "\n",
    "pd.DataFrame([{'stratum': s, **v} for s, v in report.items()]).to_csv('lebanon-report.csv', index=False)"
   ]
  },
  {
   "cell_type": "code",
   "execution_count": 73,
   "metadata": {
    "collapsed": false
   },
   "outputs": [
    {
     "data": {
      "text/plain": [
       "-9199.797018536681"
      ]
     },
     "execution_count": 73,
     "metadata": {},
     "output_type": "execute_result"
    }
   ],
   "source": [
    "df = pd.DataFrame([{'stratum': s, **v} for s, v in report.items()])\n",
    "\n",
    "df[df.remaining < 0].apply(lambda r: r.remaining * r.price, 1).sum()"
   ]
  },
  {
   "cell_type": "code",
   "execution_count": 19,
   "metadata": {
    "collapsed": false
   },
   "outputs": [
    {
     "data": {
      "text/plain": [
       "100000"
      ]
     },
     "execution_count": 19,
     "metadata": {},
     "output_type": "execute_result"
    }
   ],
   "source": [
    "sum([r['goal'] for r in report.values()])"
   ]
  },
  {
   "cell_type": "code",
   "execution_count": 52,
   "metadata": {
    "collapsed": false
   },
   "outputs": [
    {
     "data": {
      "text/plain": [
       "272154"
      ]
     },
     "execution_count": 52,
     "metadata": {},
     "output_type": "execute_result"
    }
   ],
   "source": [
    "sum([r['budget'] for r in report.values()])"
   ]
  },
  {
   "cell_type": "code",
   "execution_count": null,
   "metadata": {
    "collapsed": false
   },
   "outputs": [],
   "source": [
    "from adopt.campaign_queries import create_adopt_report\n",
    "\n",
    "db_conf['user'] = 'adopt'\n",
    "create_adopt_report(CAMPAIGNID, 'FACEBOOK_ADOPT', report, db_conf)"
   ]
  },
  {
   "cell_type": "code",
   "execution_count": null,
   "metadata": {
    "collapsed": false
   },
   "outputs": [],
   "source": [
    "import pandas as pd\n",
    "pd.DataFrame(report).T"
   ]
  },
  {
   "cell_type": "code",
   "execution_count": null,
   "metadata": {
    "collapsed": false
   },
   "outputs": [],
   "source": [
    "from adopt.malaria import run_instructions\n",
    "\n",
    "run_instructions(instructions, mal.state)"
   ]
  },
  {
   "cell_type": "code",
   "execution_count": 21,
   "metadata": {
    "collapsed": false
   },
   "outputs": [],
   "source": [
    "from adopt.malaria import hydrate_strata, hydrate_audiences"
   ]
  },
  {
   "cell_type": "code",
   "execution_count": null,
   "metadata": {
    "collapsed": false
   },
   "outputs": [],
   "source": [
    "audience_confs = confs[\"audience\"]\n",
    "\n",
    "df = get_df(db_conf, userinfo.survey_user, audience_confs)\n",
    "\n",
    "audiences = hydrate_audiences(df, m, audience_confs)"
   ]
  },
  {
   "cell_type": "code",
   "execution_count": null,
   "metadata": {
    "collapsed": false
   },
   "outputs": [],
   "source": [
    "strata = hydrate_strata(state, confs[\"stratum\"], confs[\"creative\"])\n",
    "df = get_df(db_conf, userinfo.survey_user, strata)"
   ]
  }
 ],
 "metadata": {
  "kernelspec": {
   "argv": [
    "python",
    "-m",
    "ipykernel_launcher",
    "-f",
    "{connection_file}"
   ],
   "display_name": "Python 3",
   "env": null,
   "interrupt_mode": "signal",
   "language": "python",
   "metadata": null,
   "name": "python3"
  },
  "name": "embed-make-strata.ipynb"
 },
 "nbformat": 4,
 "nbformat_minor": 4
}
