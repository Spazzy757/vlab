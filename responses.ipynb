{
 "cells": [
  {
   "cell_type": "code",
   "execution_count": null,
   "metadata": {
    "collapsed": false
   },
   "outputs": [],
   "source": [
    "! pip install --quiet environs cyksuid toolz psycopg2-binary typing_json statsmodels\n",
    "! pip install --quiet backoff xxhash pyyaml geopandas dtreeviz facebook_business pystache\n",
    "! pip install --quiet bambi\n",
    "! pip install git+https://github.com/nandanrao/typedjson-python"
   ]
  },
  {
   "cell_type": "code",
   "execution_count": 2,
   "metadata": {
    "collapsed": false
   },
   "outputs": [],
   "source": [
    "%load_ext autoreload\n",
    "%autoreload 2"
   ]
  },
  {
   "cell_type": "code",
   "execution_count": 7,
   "metadata": {
    "collapsed": false
   },
   "outputs": [],
   "source": [
    "from environs import Env\n",
    "from adopt.malaria import get_db_conf\n",
    "\n",
    "env = Env()\n",
    "env.read_env('.env-bug', override=True)\n",
    "\n",
    "db_conf = get_db_conf(env)"
   ]
  },
  {
   "cell_type": "code",
   "execution_count": 17,
   "metadata": {
    "collapsed": false
   },
   "outputs": [],
   "source": [
    "import geopandas as gpd\n",
    "import pandas as pd\n",
    "from scipy.special import expit\n",
    "\n",
    "\n",
    "def get_dist_info(path):\n",
    "    geod = gpd.read_file(path)\n",
    "    district_info = geod.groupby('disthash').apply(lambda df: df.iloc[0][['disthash', 'tot_p']]).reset_index(drop=True)\n",
    "    return district_info\n",
    "\n",
    "dist_stats = get_dist_info('outs/cluster.shp')\n",
    "treatment_assignment = pd.read_csv('outs/ma-with-treatment.csv')[['disthash', 'treatment']]\n",
    "dist_info = pd.read_csv('outs/dist_info.csv')"
   ]
  },
  {
   "cell_type": "code",
   "execution_count": 672,
   "metadata": {
    "collapsed": false
   },
   "outputs": [],
   "source": [
    "from mnm.prep import *"
   ]
  },
  {
   "cell_type": "code",
   "execution_count": 674,
   "metadata": {
    "collapsed": false
   },
   "outputs": [],
   "source": [
    "forms, form_keys = get_form_data(['malaria no more'], db_conf)"
   ]
  },
  {
   "cell_type": "code",
   "execution_count": null,
   "metadata": {
    "collapsed": false
   },
   "outputs": [],
   "source": [
    "[f['shortcode'] for f in forms]"
   ]
  },
  {
   "cell_type": "code",
   "execution_count": 852,
   "metadata": {
    "collapsed": false
   },
   "outputs": [],
   "source": [
    "from mnm.prep import get_response_df_round_a\n",
    "\n",
    "dda = get_response_df_round_a(['malaria no more'], 'http://localhost:1323', db_conf)\n",
    "dda = dda \\\n",
    "    .merge(treatment_assignment, how='right', left_on='clusterid', right_on='disthash') \\\n",
    "    .merge(dist_info, on='clusterid')"
   ]
  },
  {
   "cell_type": "code",
   "execution_count": null,
   "metadata": {
    "collapsed": false
   },
   "outputs": [],
   "source": [
    "rbn.home.notna()"
   ]
  },
  {
   "cell_type": "code",
   "execution_count": 851,
   "metadata": {
    "collapsed": false
   },
   "outputs": [],
   "source": [
    "# NOTE:\n",
    "# can't do this anymore, need raw df, same for costs.\n",
    "# dd[dd.wave == 0].to_csv('outs/individual-for-balance.csv', index=False)\n",
    "\n",
    "our_users = set(dda[dda.wave >= 1].userid.unique())\n",
    "dda = dda[dda.userid.isin(our_users)].reset_index(drop=True)\n",
    "dda['stratumid'] = dda.clusterid\n",
    "# dda.to_csv('outs/mnm-dda.csv', index=False)"
   ]
  },
  {
   "cell_type": "code",
   "execution_count": 1368,
   "metadata": {
    "collapsed": false
   },
   "outputs": [
    {
     "name": "stderr",
     "output_type": "stream",
     "text": [
      "WARNING:root:Removing 6 possible test users\n"
     ]
    },
    {
     "name": "stderr",
     "output_type": "stream",
     "text": [
      "WARNING:root:Removing 0 users for duplication\n"
     ]
    }
   ],
   "source": [
    "from mnm.prep import get_response_df\n",
    "\n",
    "ddb = get_response_df(['MNM', 'malaria no more round b 1-shot'], \n",
    "                      db_conf, \n",
    "                      ['stratumid'], \n",
    "                      'stratumid')\n",
    "\n",
    "# TODO: loses all the addition ind-effect folk, should include them!\n",
    "ddb = ddb \\\n",
    "    .merge(treatment_assignment, how='right', left_on='stratumid', right_on='disthash') \\\n",
    "    .merge(dist_info, left_on='stratumid', right_on='clusterid')\n",
    "\n",
    "# ddb = ddb[ddb.wave == '0']\n",
    "# ddb.to_csv('outs/mnm-ddb.csv', index=False)"
   ]
  },
  {
   "cell_type": "code",
   "execution_count": null,
   "metadata": {
    "collapsed": false
   },
   "outputs": [],
   "source": [
    "dda.shape"
   ]
  },
  {
   "cell_type": "code",
   "execution_count": 1379,
   "metadata": {
    "collapsed": false
   },
   "outputs": [
    {
     "data": {
      "text/plain": [
       "0    9400\n",
       "1    5410\n",
       "2    2675\n",
       "3    2069\n",
       "9    1848\n",
       "4    1232\n",
       "5     844\n",
       "6     575\n",
       "7     204\n",
       "8      25\n",
       "Name: wave, dtype: int64"
      ]
     },
     "execution_count": 1379,
     "metadata": {},
     "output_type": "execute_result"
    }
   ],
   "source": [
    "dda.wave.value_counts()"
   ]
  },
  {
   "cell_type": "code",
   "execution_count": 1380,
   "metadata": {
    "collapsed": false
   },
   "outputs": [
    {
     "data": {
      "text/plain": [
       "0.19659574468085106"
      ]
     },
     "execution_count": 1380,
     "metadata": {},
     "output_type": "execute_result"
    }
   ],
   "source": [
    "1848/9400"
   ]
  },
  {
   "cell_type": "code",
   "execution_count": 1369,
   "metadata": {
    "collapsed": false
   },
   "outputs": [],
   "source": [
    "ind_effect_users = ddb[ddb.shortcode.isin({'extraendhin'})].userid.unique()"
   ]
  },
  {
   "cell_type": "code",
   "execution_count": 1370,
   "metadata": {
    "collapsed": false
   },
   "outputs": [],
   "source": [
    "ied = ddb[ddb.userid.isin(ind_effect_users)]"
   ]
  },
  {
   "cell_type": "code",
   "execution_count": 1371,
   "metadata": {
    "collapsed": false
   },
   "outputs": [],
   "source": [
    "ups_users = ied[(ied.wave == '1') & (ied.week < 10)].userid.unique()"
   ]
  },
  {
   "cell_type": "code",
   "execution_count": 1372,
   "metadata": {
    "collapsed": false
   },
   "outputs": [],
   "source": [
    "ied = ied[~ied.userid.isin(ups_users)].reset_index(drop=True)"
   ]
  },
  {
   "cell_type": "code",
   "execution_count": 1373,
   "metadata": {
    "collapsed": false
   },
   "outputs": [],
   "source": [
    "ind_assignment = pd.read_csv('outs/ind-effect-with-assignment.csv')[['userid', 'ind_treatment']]\n",
    "ind_assignment['userid'] = ind_assignment.userid.astype(int).astype(str)"
   ]
  },
  {
   "cell_type": "code",
   "execution_count": 1374,
   "metadata": {
    "collapsed": false
   },
   "outputs": [],
   "source": [
    "ied = ied.merge(ind_assignment)"
   ]
  },
  {
   "cell_type": "code",
   "execution_count": 1375,
   "metadata": {
    "collapsed": false
   },
   "outputs": [],
   "source": [
    "netusers = ied[(ied.hasmosquitonet == 'Yes')].userid.unique()"
   ]
  },
  {
   "cell_type": "code",
   "execution_count": 1377,
   "metadata": {
    "collapsed": false
   },
   "outputs": [
    {
     "data": {
      "text/html": [
       "<div>\n",
       "<style scoped>\n",
       "    .dataframe tbody tr th:only-of-type {\n",
       "        vertical-align: middle;\n",
       "    }\n",
       "\n",
       "    .dataframe tbody tr th {\n",
       "        vertical-align: top;\n",
       "    }\n",
       "\n",
       "    .dataframe thead th {\n",
       "        text-align: right;\n",
       "    }\n",
       "</style>\n",
       "<table border=\"1\" class=\"dataframe\">\n",
       "  <thead>\n",
       "    <tr style=\"text-align: right;\">\n",
       "      <th></th>\n",
       "      <th>userid</th>\n",
       "      <th>stratumid</th>\n",
       "      <th>wave</th>\n",
       "      <th>language</th>\n",
       "      <th>week</th>\n",
       "      <th>month</th>\n",
       "      <th>survey_duration</th>\n",
       "      <th>survey_start_time</th>\n",
       "      <th>survey_end_time</th>\n",
       "      <th>shortcode</th>\n",
       "      <th>...</th>\n",
       "      <th>cost_per_message</th>\n",
       "      <th>CTR</th>\n",
       "      <th>CPM</th>\n",
       "      <th>high_CPM</th>\n",
       "      <th>low_CPM</th>\n",
       "      <th>avg_under_net</th>\n",
       "      <th>avg_long_sleeves</th>\n",
       "      <th>avg_malaria_now</th>\n",
       "      <th>tot_p</th>\n",
       "      <th>ind_treatment</th>\n",
       "    </tr>\n",
       "  </thead>\n",
       "  <tbody>\n",
       "    <tr>\n",
       "      <th>0</th>\n",
       "      <td>3451582291634341</td>\n",
       "      <td>07853f76</td>\n",
       "      <td>0</td>\n",
       "      <td>hindi</td>\n",
       "      <td>1</td>\n",
       "      <td>1</td>\n",
       "      <td>95 days 04:20:48.152000</td>\n",
       "      <td>2021-01-07 05:19:59.041000+00:00</td>\n",
       "      <td>2021-04-12 09:40:47.193000+00:00</td>\n",
       "      <td>extrabasehin</td>\n",
       "      <td>...</td>\n",
       "      <td>11.111111</td>\n",
       "      <td>1.976214</td>\n",
       "      <td>59.168097</td>\n",
       "      <td>False</td>\n",
       "      <td>True</td>\n",
       "      <td>0.371429</td>\n",
       "      <td>0.685714</td>\n",
       "      <td>0.023891</td>\n",
       "      <td>3673889.0</td>\n",
       "      <td>0</td>\n",
       "    </tr>\n",
       "    <tr>\n",
       "      <th>1</th>\n",
       "      <td>3451582291634341</td>\n",
       "      <td>07853f76</td>\n",
       "      <td>1</td>\n",
       "      <td>hindi</td>\n",
       "      <td>15</td>\n",
       "      <td>4</td>\n",
       "      <td>0 days 00:07:22.933000</td>\n",
       "      <td>2021-04-12 09:42:02.380000+00:00</td>\n",
       "      <td>2021-04-12 09:49:25.313000+00:00</td>\n",
       "      <td>extraendhin</td>\n",
       "      <td>...</td>\n",
       "      <td>11.111111</td>\n",
       "      <td>1.976214</td>\n",
       "      <td>59.168097</td>\n",
       "      <td>False</td>\n",
       "      <td>True</td>\n",
       "      <td>0.371429</td>\n",
       "      <td>0.685714</td>\n",
       "      <td>0.023891</td>\n",
       "      <td>3673889.0</td>\n",
       "      <td>0</td>\n",
       "    </tr>\n",
       "    <tr>\n",
       "      <th>2</th>\n",
       "      <td>3544335325657230</td>\n",
       "      <td>07853f76</td>\n",
       "      <td>0</td>\n",
       "      <td>hindi</td>\n",
       "      <td>1</td>\n",
       "      <td>1</td>\n",
       "      <td>89 days 03:06:22.795000</td>\n",
       "      <td>2021-01-07 06:00:57.372000+00:00</td>\n",
       "      <td>2021-04-06 09:07:20.167000+00:00</td>\n",
       "      <td>extrabasehin</td>\n",
       "      <td>...</td>\n",
       "      <td>11.111111</td>\n",
       "      <td>1.976214</td>\n",
       "      <td>59.168097</td>\n",
       "      <td>False</td>\n",
       "      <td>True</td>\n",
       "      <td>0.371429</td>\n",
       "      <td>0.685714</td>\n",
       "      <td>0.023891</td>\n",
       "      <td>3673889.0</td>\n",
       "      <td>0</td>\n",
       "    </tr>\n",
       "    <tr>\n",
       "      <th>3</th>\n",
       "      <td>3544335325657230</td>\n",
       "      <td>07853f76</td>\n",
       "      <td>1</td>\n",
       "      <td>hindi</td>\n",
       "      <td>14</td>\n",
       "      <td>4</td>\n",
       "      <td>5 days 13:45:33.378000</td>\n",
       "      <td>2021-04-06 14:58:51.514000+00:00</td>\n",
       "      <td>2021-04-12 04:44:24.892000+00:00</td>\n",
       "      <td>extraendhin</td>\n",
       "      <td>...</td>\n",
       "      <td>11.111111</td>\n",
       "      <td>1.976214</td>\n",
       "      <td>59.168097</td>\n",
       "      <td>False</td>\n",
       "      <td>True</td>\n",
       "      <td>0.371429</td>\n",
       "      <td>0.685714</td>\n",
       "      <td>0.023891</td>\n",
       "      <td>3673889.0</td>\n",
       "      <td>0</td>\n",
       "    </tr>\n",
       "    <tr>\n",
       "      <th>4</th>\n",
       "      <td>3555534061199684</td>\n",
       "      <td>07853f76</td>\n",
       "      <td>0</td>\n",
       "      <td>hindi</td>\n",
       "      <td>1</td>\n",
       "      <td>1</td>\n",
       "      <td>94 days 00:33:40.070000</td>\n",
       "      <td>2021-01-08 08:49:48.167000+00:00</td>\n",
       "      <td>2021-04-12 09:23:28.237000+00:00</td>\n",
       "      <td>extrabasehin</td>\n",
       "      <td>...</td>\n",
       "      <td>11.111111</td>\n",
       "      <td>1.976214</td>\n",
       "      <td>59.168097</td>\n",
       "      <td>False</td>\n",
       "      <td>True</td>\n",
       "      <td>0.371429</td>\n",
       "      <td>0.685714</td>\n",
       "      <td>0.023891</td>\n",
       "      <td>3673889.0</td>\n",
       "      <td>0</td>\n",
       "    </tr>\n",
       "    <tr>\n",
       "      <th>...</th>\n",
       "      <td>...</td>\n",
       "      <td>...</td>\n",
       "      <td>...</td>\n",
       "      <td>...</td>\n",
       "      <td>...</td>\n",
       "      <td>...</td>\n",
       "      <td>...</td>\n",
       "      <td>...</td>\n",
       "      <td>...</td>\n",
       "      <td>...</td>\n",
       "      <td>...</td>\n",
       "      <td>...</td>\n",
       "      <td>...</td>\n",
       "      <td>...</td>\n",
       "      <td>...</td>\n",
       "      <td>...</td>\n",
       "      <td>...</td>\n",
       "      <td>...</td>\n",
       "      <td>...</td>\n",
       "      <td>...</td>\n",
       "      <td>...</td>\n",
       "    </tr>\n",
       "    <tr>\n",
       "      <th>2797</th>\n",
       "      <td>4816349428437450</td>\n",
       "      <td>ff099f99</td>\n",
       "      <td>0</td>\n",
       "      <td>hindi</td>\n",
       "      <td>1</td>\n",
       "      <td>1</td>\n",
       "      <td>94 days 10:14:21.680000</td>\n",
       "      <td>2021-01-08 00:15:28.666000+00:00</td>\n",
       "      <td>2021-04-12 10:29:50.346000+00:00</td>\n",
       "      <td>extrabasehin</td>\n",
       "      <td>...</td>\n",
       "      <td>20.000000</td>\n",
       "      <td>1.917183</td>\n",
       "      <td>71.270758</td>\n",
       "      <td>True</td>\n",
       "      <td>False</td>\n",
       "      <td>0.652174</td>\n",
       "      <td>0.586957</td>\n",
       "      <td>0.010791</td>\n",
       "      <td>NaN</td>\n",
       "      <td>0</td>\n",
       "    </tr>\n",
       "    <tr>\n",
       "      <th>2798</th>\n",
       "      <td>4867033496701877</td>\n",
       "      <td>ff099f99</td>\n",
       "      <td>0</td>\n",
       "      <td>hindi</td>\n",
       "      <td>1</td>\n",
       "      <td>1</td>\n",
       "      <td>95 days 01:29:22.365000</td>\n",
       "      <td>2021-01-07 09:35:50.291000+00:00</td>\n",
       "      <td>2021-04-12 11:05:12.656000+00:00</td>\n",
       "      <td>extrabasehin</td>\n",
       "      <td>...</td>\n",
       "      <td>20.000000</td>\n",
       "      <td>1.917183</td>\n",
       "      <td>71.270758</td>\n",
       "      <td>True</td>\n",
       "      <td>False</td>\n",
       "      <td>0.652174</td>\n",
       "      <td>0.586957</td>\n",
       "      <td>0.010791</td>\n",
       "      <td>NaN</td>\n",
       "      <td>1</td>\n",
       "    </tr>\n",
       "    <tr>\n",
       "      <th>2799</th>\n",
       "      <td>4867033496701877</td>\n",
       "      <td>ff099f99</td>\n",
       "      <td>1</td>\n",
       "      <td>hindi</td>\n",
       "      <td>15</td>\n",
       "      <td>4</td>\n",
       "      <td>0 days 10:35:29.446000</td>\n",
       "      <td>2021-04-12 11:05:38.549000+00:00</td>\n",
       "      <td>2021-04-12 21:41:07.995000+00:00</td>\n",
       "      <td>extraendhin</td>\n",
       "      <td>...</td>\n",
       "      <td>20.000000</td>\n",
       "      <td>1.917183</td>\n",
       "      <td>71.270758</td>\n",
       "      <td>True</td>\n",
       "      <td>False</td>\n",
       "      <td>0.652174</td>\n",
       "      <td>0.586957</td>\n",
       "      <td>0.010791</td>\n",
       "      <td>NaN</td>\n",
       "      <td>1</td>\n",
       "    </tr>\n",
       "    <tr>\n",
       "      <th>2800</th>\n",
       "      <td>4950322035039336</td>\n",
       "      <td>ff099f99</td>\n",
       "      <td>0</td>\n",
       "      <td>hindi</td>\n",
       "      <td>1</td>\n",
       "      <td>1</td>\n",
       "      <td>93 days 19:19:59.555000</td>\n",
       "      <td>2021-01-08 14:44:58.591000+00:00</td>\n",
       "      <td>2021-04-12 10:04:58.146000+00:00</td>\n",
       "      <td>extrabasehin</td>\n",
       "      <td>...</td>\n",
       "      <td>20.000000</td>\n",
       "      <td>1.917183</td>\n",
       "      <td>71.270758</td>\n",
       "      <td>True</td>\n",
       "      <td>False</td>\n",
       "      <td>0.652174</td>\n",
       "      <td>0.586957</td>\n",
       "      <td>0.010791</td>\n",
       "      <td>NaN</td>\n",
       "      <td>0</td>\n",
       "    </tr>\n",
       "    <tr>\n",
       "      <th>2801</th>\n",
       "      <td>4950322035039336</td>\n",
       "      <td>ff099f99</td>\n",
       "      <td>1</td>\n",
       "      <td>hindi</td>\n",
       "      <td>15</td>\n",
       "      <td>4</td>\n",
       "      <td>0 days 00:03:52.479000</td>\n",
       "      <td>2021-04-12 10:05:48.460000+00:00</td>\n",
       "      <td>2021-04-12 10:09:40.939000+00:00</td>\n",
       "      <td>extraendhin</td>\n",
       "      <td>...</td>\n",
       "      <td>20.000000</td>\n",
       "      <td>1.917183</td>\n",
       "      <td>71.270758</td>\n",
       "      <td>True</td>\n",
       "      <td>False</td>\n",
       "      <td>0.652174</td>\n",
       "      <td>0.586957</td>\n",
       "      <td>0.010791</td>\n",
       "      <td>NaN</td>\n",
       "      <td>0</td>\n",
       "    </tr>\n",
       "  </tbody>\n",
       "</table>\n",
       "<p>2802 rows × 78 columns</p>\n",
       "</div>"
      ],
      "text/plain": [
       "                userid stratumid wave language  week  month  \\\n",
       "0     3451582291634341  07853f76    0    hindi     1      1   \n",
       "1     3451582291634341  07853f76    1    hindi    15      4   \n",
       "2     3544335325657230  07853f76    0    hindi     1      1   \n",
       "3     3544335325657230  07853f76    1    hindi    14      4   \n",
       "4     3555534061199684  07853f76    0    hindi     1      1   \n",
       "...                ...       ...  ...      ...   ...    ...   \n",
       "2797  4816349428437450  ff099f99    0    hindi     1      1   \n",
       "2798  4867033496701877  ff099f99    0    hindi     1      1   \n",
       "2799  4867033496701877  ff099f99    1    hindi    15      4   \n",
       "2800  4950322035039336  ff099f99    0    hindi     1      1   \n",
       "2801  4950322035039336  ff099f99    1    hindi    15      4   \n",
       "\n",
       "             survey_duration                survey_start_time  \\\n",
       "0    95 days 04:20:48.152000 2021-01-07 05:19:59.041000+00:00   \n",
       "1     0 days 00:07:22.933000 2021-04-12 09:42:02.380000+00:00   \n",
       "2    89 days 03:06:22.795000 2021-01-07 06:00:57.372000+00:00   \n",
       "3     5 days 13:45:33.378000 2021-04-06 14:58:51.514000+00:00   \n",
       "4    94 days 00:33:40.070000 2021-01-08 08:49:48.167000+00:00   \n",
       "...                      ...                              ...   \n",
       "2797 94 days 10:14:21.680000 2021-01-08 00:15:28.666000+00:00   \n",
       "2798 95 days 01:29:22.365000 2021-01-07 09:35:50.291000+00:00   \n",
       "2799  0 days 10:35:29.446000 2021-04-12 11:05:38.549000+00:00   \n",
       "2800 93 days 19:19:59.555000 2021-01-08 14:44:58.591000+00:00   \n",
       "2801  0 days 00:03:52.479000 2021-04-12 10:05:48.460000+00:00   \n",
       "\n",
       "                      survey_end_time     shortcode  ... cost_per_message  \\\n",
       "0    2021-04-12 09:40:47.193000+00:00  extrabasehin  ...        11.111111   \n",
       "1    2021-04-12 09:49:25.313000+00:00   extraendhin  ...        11.111111   \n",
       "2    2021-04-06 09:07:20.167000+00:00  extrabasehin  ...        11.111111   \n",
       "3    2021-04-12 04:44:24.892000+00:00   extraendhin  ...        11.111111   \n",
       "4    2021-04-12 09:23:28.237000+00:00  extrabasehin  ...        11.111111   \n",
       "...                               ...           ...  ...              ...   \n",
       "2797 2021-04-12 10:29:50.346000+00:00  extrabasehin  ...        20.000000   \n",
       "2798 2021-04-12 11:05:12.656000+00:00  extrabasehin  ...        20.000000   \n",
       "2799 2021-04-12 21:41:07.995000+00:00   extraendhin  ...        20.000000   \n",
       "2800 2021-04-12 10:04:58.146000+00:00  extrabasehin  ...        20.000000   \n",
       "2801 2021-04-12 10:09:40.939000+00:00   extraendhin  ...        20.000000   \n",
       "\n",
       "           CTR        CPM high_CPM low_CPM avg_under_net avg_long_sleeves  \\\n",
       "0     1.976214  59.168097    False    True      0.371429         0.685714   \n",
       "1     1.976214  59.168097    False    True      0.371429         0.685714   \n",
       "2     1.976214  59.168097    False    True      0.371429         0.685714   \n",
       "3     1.976214  59.168097    False    True      0.371429         0.685714   \n",
       "4     1.976214  59.168097    False    True      0.371429         0.685714   \n",
       "...        ...        ...      ...     ...           ...              ...   \n",
       "2797  1.917183  71.270758     True   False      0.652174         0.586957   \n",
       "2798  1.917183  71.270758     True   False      0.652174         0.586957   \n",
       "2799  1.917183  71.270758     True   False      0.652174         0.586957   \n",
       "2800  1.917183  71.270758     True   False      0.652174         0.586957   \n",
       "2801  1.917183  71.270758     True   False      0.652174         0.586957   \n",
       "\n",
       "     avg_malaria_now      tot_p ind_treatment  \n",
       "0           0.023891  3673889.0             0  \n",
       "1           0.023891  3673889.0             0  \n",
       "2           0.023891  3673889.0             0  \n",
       "3           0.023891  3673889.0             0  \n",
       "4           0.023891  3673889.0             0  \n",
       "...              ...        ...           ...  \n",
       "2797        0.010791        NaN             0  \n",
       "2798        0.010791        NaN             1  \n",
       "2799        0.010791        NaN             1  \n",
       "2800        0.010791        NaN             0  \n",
       "2801        0.010791        NaN             0  \n",
       "\n",
       "[2802 rows x 78 columns]"
      ]
     },
     "execution_count": 1376,
     "metadata": {},
     "output_type": "execute_result"
    },
    {
     "data": {
      "text/plain": [
       "Male      1257\n",
       "Female     142\n",
       "Other        2\n",
       "Name: gender, dtype: int64"
      ]
     },
     "execution_count": 1377,
     "metadata": {},
     "output_type": "execute_result"
    }
   ],
   "source": [
    "ied.gender.value_counts()"
   ]
  },
  {
   "cell_type": "code",
   "execution_count": 1378,
   "metadata": {
    "collapsed": false
   },
   "outputs": [
    {
     "ename": "ConversionError",
     "evalue": "Failed to convert value(s) to axis units: 0               52\n1              NaN\n2       7920367458\n3              NaN\n4               22\n           ...    \n2797            25\n2798            27\n2799           NaN\n2800            24\n2801           NaN\nName: x, Length: 2802, dtype: object",
     "output_type": "error",
     "traceback": [
      "\u001b[0;31m---------------------------------------------------------------------------\u001b[0m",
      "\u001b[0;31mTypeError\u001b[0m                                 Traceback (most recent call last)",
      "\u001b[0;32m/usr/local/lib/python3.9/site-packages/matplotlib/axis.py\u001b[0m in \u001b[0;36mconvert_units\u001b[0;34m(self, x)\u001b[0m\n\u001b[1;32m   1488\u001b[0m         \u001b[0;32mtry\u001b[0m\u001b[0;34m:\u001b[0m\u001b[0;34m\u001b[0m\u001b[0;34m\u001b[0m\u001b[0m\n\u001b[0;32m-> 1489\u001b[0;31m             \u001b[0mret\u001b[0m \u001b[0;34m=\u001b[0m \u001b[0mself\u001b[0m\u001b[0;34m.\u001b[0m\u001b[0mconverter\u001b[0m\u001b[0;34m.\u001b[0m\u001b[0mconvert\u001b[0m\u001b[0;34m(\u001b[0m\u001b[0mx\u001b[0m\u001b[0;34m,\u001b[0m \u001b[0mself\u001b[0m\u001b[0;34m.\u001b[0m\u001b[0munits\u001b[0m\u001b[0;34m,\u001b[0m \u001b[0mself\u001b[0m\u001b[0;34m)\u001b[0m\u001b[0;34m\u001b[0m\u001b[0;34m\u001b[0m\u001b[0m\n\u001b[0m\u001b[1;32m   1490\u001b[0m         \u001b[0;32mexcept\u001b[0m \u001b[0mException\u001b[0m \u001b[0;32mas\u001b[0m \u001b[0me\u001b[0m\u001b[0;34m:\u001b[0m\u001b[0;34m\u001b[0m\u001b[0;34m\u001b[0m\u001b[0m\n",
      "\u001b[0;32m/usr/local/lib/python3.9/site-packages/matplotlib/category.py\u001b[0m in \u001b[0;36mconvert\u001b[0;34m(value, unit, axis)\u001b[0m\n\u001b[1;32m     61\u001b[0m         \u001b[0;31m# force an update so it also does type checking\u001b[0m\u001b[0;34m\u001b[0m\u001b[0;34m\u001b[0m\u001b[0;34m\u001b[0m\u001b[0m\n\u001b[0;32m---> 62\u001b[0;31m         \u001b[0munit\u001b[0m\u001b[0;34m.\u001b[0m\u001b[0mupdate\u001b[0m\u001b[0;34m(\u001b[0m\u001b[0mvalues\u001b[0m\u001b[0;34m)\u001b[0m\u001b[0;34m\u001b[0m\u001b[0;34m\u001b[0m\u001b[0m\n\u001b[0m\u001b[1;32m     63\u001b[0m         \u001b[0;32mreturn\u001b[0m \u001b[0mnp\u001b[0m\u001b[0;34m.\u001b[0m\u001b[0mvectorize\u001b[0m\u001b[0;34m(\u001b[0m\u001b[0munit\u001b[0m\u001b[0;34m.\u001b[0m\u001b[0m_mapping\u001b[0m\u001b[0;34m.\u001b[0m\u001b[0m__getitem__\u001b[0m\u001b[0;34m,\u001b[0m \u001b[0motypes\u001b[0m\u001b[0;34m=\u001b[0m\u001b[0;34m[\u001b[0m\u001b[0mfloat\u001b[0m\u001b[0;34m]\u001b[0m\u001b[0;34m)\u001b[0m\u001b[0;34m(\u001b[0m\u001b[0mvalues\u001b[0m\u001b[0;34m)\u001b[0m\u001b[0;34m\u001b[0m\u001b[0;34m\u001b[0m\u001b[0m\n",
      "\u001b[0;32m/usr/local/lib/python3.9/site-packages/matplotlib/category.py\u001b[0m in \u001b[0;36mupdate\u001b[0;34m(self, data)\u001b[0m\n\u001b[1;32m    219\u001b[0m             \u001b[0;31m# OrderedDict just iterates over unique values in data.\u001b[0m\u001b[0;34m\u001b[0m\u001b[0;34m\u001b[0m\u001b[0;34m\u001b[0m\u001b[0m\n\u001b[0;32m--> 220\u001b[0;31m             \u001b[0m_api\u001b[0m\u001b[0;34m.\u001b[0m\u001b[0mcheck_isinstance\u001b[0m\u001b[0;34m(\u001b[0m\u001b[0;34m(\u001b[0m\u001b[0mstr\u001b[0m\u001b[0;34m,\u001b[0m \u001b[0mbytes\u001b[0m\u001b[0;34m)\u001b[0m\u001b[0;34m,\u001b[0m \u001b[0mvalue\u001b[0m\u001b[0;34m=\u001b[0m\u001b[0mval\u001b[0m\u001b[0;34m)\u001b[0m\u001b[0;34m\u001b[0m\u001b[0;34m\u001b[0m\u001b[0m\n\u001b[0m\u001b[1;32m    221\u001b[0m             \u001b[0;32mif\u001b[0m \u001b[0mconvertible\u001b[0m\u001b[0;34m:\u001b[0m\u001b[0;34m\u001b[0m\u001b[0;34m\u001b[0m\u001b[0m\n",
      "\u001b[0;32m/usr/local/lib/python3.9/site-packages/matplotlib/_api/__init__.py\u001b[0m in \u001b[0;36mcheck_isinstance\u001b[0;34m(_types, **kwargs)\u001b[0m\n\u001b[1;32m     91\u001b[0m                 \u001b[0mnames\u001b[0m\u001b[0;34m.\u001b[0m\u001b[0mappend\u001b[0m\u001b[0;34m(\u001b[0m\u001b[0;34m\"None\"\u001b[0m\u001b[0;34m)\u001b[0m\u001b[0;34m\u001b[0m\u001b[0;34m\u001b[0m\u001b[0m\n\u001b[0;32m---> 92\u001b[0;31m             raise TypeError(\n\u001b[0m\u001b[1;32m     93\u001b[0m                 \"{!r} must be an instance of {}, not a {}\".format(\n",
      "\u001b[0;31mTypeError\u001b[0m: 'value' must be an instance of str or bytes, not a float",
      "\nThe above exception was the direct cause of the following exception:\n",
      "\u001b[0;31mConversionError\u001b[0m                           Traceback (most recent call last)",
      "\u001b[0;32m<ipython-input-1378-4a7d11a6f6d1>\u001b[0m in \u001b[0;36m<module>\u001b[0;34m\u001b[0m\n\u001b[0;32m----> 1\u001b[0;31m \u001b[0msns\u001b[0m\u001b[0;34m.\u001b[0m\u001b[0mdisplot\u001b[0m\u001b[0;34m(\u001b[0m\u001b[0mied\u001b[0m\u001b[0;34m.\u001b[0m\u001b[0mage\u001b[0m\u001b[0;34m)\u001b[0m\u001b[0;34m\u001b[0m\u001b[0;34m\u001b[0m\u001b[0m\n\u001b[0m",
      "\u001b[0;32m/usr/local/lib/python3.9/site-packages/seaborn/distributions.py\u001b[0m in \u001b[0;36mdisplot\u001b[0;34m(data, x, y, hue, row, col, weights, kind, rug, rug_kws, log_scale, legend, palette, hue_order, hue_norm, color, col_wrap, row_order, col_order, height, aspect, facet_kws, **kwargs)\u001b[0m\n\u001b[1;32m   2225\u001b[0m \u001b[0;34m\u001b[0m\u001b[0m\n\u001b[1;32m   2226\u001b[0m             \u001b[0m_assign_default_kwargs\u001b[0m\u001b[0;34m(\u001b[0m\u001b[0mhist_kws\u001b[0m\u001b[0;34m,\u001b[0m \u001b[0mp\u001b[0m\u001b[0;34m.\u001b[0m\u001b[0mplot_univariate_histogram\u001b[0m\u001b[0;34m,\u001b[0m \u001b[0mhistplot\u001b[0m\u001b[0;34m)\u001b[0m\u001b[0;34m\u001b[0m\u001b[0;34m\u001b[0m\u001b[0m\n\u001b[0;32m-> 2227\u001b[0;31m             \u001b[0mp\u001b[0m\u001b[0;34m.\u001b[0m\u001b[0mplot_univariate_histogram\u001b[0m\u001b[0;34m(\u001b[0m\u001b[0;34m**\u001b[0m\u001b[0mhist_kws\u001b[0m\u001b[0;34m)\u001b[0m\u001b[0;34m\u001b[0m\u001b[0;34m\u001b[0m\u001b[0m\n\u001b[0m\u001b[1;32m   2228\u001b[0m \u001b[0;34m\u001b[0m\u001b[0m\n\u001b[1;32m   2229\u001b[0m         \u001b[0;32melse\u001b[0m\u001b[0;34m:\u001b[0m\u001b[0;34m\u001b[0m\u001b[0;34m\u001b[0m\u001b[0m\n",
      "\u001b[0;32m/usr/local/lib/python3.9/site-packages/seaborn/distributions.py\u001b[0m in \u001b[0;36mplot_univariate_histogram\u001b[0;34m(self, multiple, element, fill, common_norm, common_bins, shrink, kde, kde_kws, color, legend, line_kws, estimate_kws, **plot_kws)\u001b[0m\n\u001b[1;32m    422\u001b[0m \u001b[0;34m\u001b[0m\u001b[0m\n\u001b[1;32m    423\u001b[0m         \u001b[0;31m# First pass through the data to compute the histograms\u001b[0m\u001b[0;34m\u001b[0m\u001b[0;34m\u001b[0m\u001b[0;34m\u001b[0m\u001b[0m\n\u001b[0;32m--> 424\u001b[0;31m         \u001b[0;32mfor\u001b[0m \u001b[0msub_vars\u001b[0m\u001b[0;34m,\u001b[0m \u001b[0msub_data\u001b[0m \u001b[0;32min\u001b[0m \u001b[0mself\u001b[0m\u001b[0;34m.\u001b[0m\u001b[0miter_data\u001b[0m\u001b[0;34m(\u001b[0m\u001b[0;34m\"hue\"\u001b[0m\u001b[0;34m,\u001b[0m \u001b[0mfrom_comp_data\u001b[0m\u001b[0;34m=\u001b[0m\u001b[0;32mTrue\u001b[0m\u001b[0;34m)\u001b[0m\u001b[0;34m:\u001b[0m\u001b[0;34m\u001b[0m\u001b[0;34m\u001b[0m\u001b[0m\n\u001b[0m\u001b[1;32m    425\u001b[0m \u001b[0;34m\u001b[0m\u001b[0m\n\u001b[1;32m    426\u001b[0m             \u001b[0;31m# Prepare the relevant data\u001b[0m\u001b[0;34m\u001b[0m\u001b[0;34m\u001b[0m\u001b[0;34m\u001b[0m\u001b[0m\n",
      "\u001b[0;32m/usr/local/lib/python3.9/site-packages/seaborn/_core.py\u001b[0m in \u001b[0;36miter_data\u001b[0;34m(self, grouping_vars, reverse, from_comp_data)\u001b[0m\n\u001b[1;32m    980\u001b[0m \u001b[0;34m\u001b[0m\u001b[0m\n\u001b[1;32m    981\u001b[0m         \u001b[0;32mif\u001b[0m \u001b[0mfrom_comp_data\u001b[0m\u001b[0;34m:\u001b[0m\u001b[0;34m\u001b[0m\u001b[0;34m\u001b[0m\u001b[0m\n\u001b[0;32m--> 982\u001b[0;31m             \u001b[0mdata\u001b[0m \u001b[0;34m=\u001b[0m \u001b[0mself\u001b[0m\u001b[0;34m.\u001b[0m\u001b[0mcomp_data\u001b[0m\u001b[0;34m\u001b[0m\u001b[0;34m\u001b[0m\u001b[0m\n\u001b[0m\u001b[1;32m    983\u001b[0m         \u001b[0;32melse\u001b[0m\u001b[0;34m:\u001b[0m\u001b[0;34m\u001b[0m\u001b[0;34m\u001b[0m\u001b[0m\n\u001b[1;32m    984\u001b[0m             \u001b[0mdata\u001b[0m \u001b[0;34m=\u001b[0m \u001b[0mself\u001b[0m\u001b[0;34m.\u001b[0m\u001b[0mplot_data\u001b[0m\u001b[0;34m\u001b[0m\u001b[0;34m\u001b[0m\u001b[0m\n",
      "\u001b[0;32m/usr/local/lib/python3.9/site-packages/seaborn/_core.py\u001b[0m in \u001b[0;36mcomp_data\u001b[0;34m(self)\u001b[0m\n\u001b[1;32m   1049\u001b[0m                 \u001b[0maxis\u001b[0m \u001b[0;34m=\u001b[0m \u001b[0mgetattr\u001b[0m\u001b[0;34m(\u001b[0m\u001b[0max\u001b[0m\u001b[0;34m,\u001b[0m \u001b[0;34mf\"{var}axis\"\u001b[0m\u001b[0;34m)\u001b[0m\u001b[0;34m\u001b[0m\u001b[0;34m\u001b[0m\u001b[0m\n\u001b[1;32m   1050\u001b[0m \u001b[0;34m\u001b[0m\u001b[0m\n\u001b[0;32m-> 1051\u001b[0;31m                 \u001b[0mcomp_var\u001b[0m \u001b[0;34m=\u001b[0m \u001b[0maxis\u001b[0m\u001b[0;34m.\u001b[0m\u001b[0mconvert_units\u001b[0m\u001b[0;34m(\u001b[0m\u001b[0mself\u001b[0m\u001b[0;34m.\u001b[0m\u001b[0mplot_data\u001b[0m\u001b[0;34m[\u001b[0m\u001b[0mvar\u001b[0m\u001b[0;34m]\u001b[0m\u001b[0;34m)\u001b[0m\u001b[0;34m\u001b[0m\u001b[0;34m\u001b[0m\u001b[0m\n\u001b[0m\u001b[1;32m   1052\u001b[0m                 \u001b[0;32mif\u001b[0m \u001b[0maxis\u001b[0m\u001b[0;34m.\u001b[0m\u001b[0mget_scale\u001b[0m\u001b[0;34m(\u001b[0m\u001b[0;34m)\u001b[0m \u001b[0;34m==\u001b[0m \u001b[0;34m\"log\"\u001b[0m\u001b[0;34m:\u001b[0m\u001b[0;34m\u001b[0m\u001b[0;34m\u001b[0m\u001b[0m\n\u001b[1;32m   1053\u001b[0m                     \u001b[0mcomp_var\u001b[0m \u001b[0;34m=\u001b[0m \u001b[0mnp\u001b[0m\u001b[0;34m.\u001b[0m\u001b[0mlog10\u001b[0m\u001b[0;34m(\u001b[0m\u001b[0mcomp_var\u001b[0m\u001b[0;34m)\u001b[0m\u001b[0;34m\u001b[0m\u001b[0;34m\u001b[0m\u001b[0m\n",
      "\u001b[0;32m/usr/local/lib/python3.9/site-packages/matplotlib/axis.py\u001b[0m in \u001b[0;36mconvert_units\u001b[0;34m(self, x)\u001b[0m\n\u001b[1;32m   1489\u001b[0m             \u001b[0mret\u001b[0m \u001b[0;34m=\u001b[0m \u001b[0mself\u001b[0m\u001b[0;34m.\u001b[0m\u001b[0mconverter\u001b[0m\u001b[0;34m.\u001b[0m\u001b[0mconvert\u001b[0m\u001b[0;34m(\u001b[0m\u001b[0mx\u001b[0m\u001b[0;34m,\u001b[0m \u001b[0mself\u001b[0m\u001b[0;34m.\u001b[0m\u001b[0munits\u001b[0m\u001b[0;34m,\u001b[0m \u001b[0mself\u001b[0m\u001b[0;34m)\u001b[0m\u001b[0;34m\u001b[0m\u001b[0;34m\u001b[0m\u001b[0m\n\u001b[1;32m   1490\u001b[0m         \u001b[0;32mexcept\u001b[0m \u001b[0mException\u001b[0m \u001b[0;32mas\u001b[0m \u001b[0me\u001b[0m\u001b[0;34m:\u001b[0m\u001b[0;34m\u001b[0m\u001b[0;34m\u001b[0m\u001b[0m\n\u001b[0;32m-> 1491\u001b[0;31m             raise munits.ConversionError('Failed to convert value(s) to axis '\n\u001b[0m\u001b[1;32m   1492\u001b[0m                                          f'units: {x!r}') from e\n\u001b[1;32m   1493\u001b[0m         \u001b[0;32mreturn\u001b[0m \u001b[0mret\u001b[0m\u001b[0;34m\u001b[0m\u001b[0;34m\u001b[0m\u001b[0m\n",
      "\u001b[0;31mConversionError\u001b[0m: Failed to convert value(s) to axis units: 0               52\n1              NaN\n2       7920367458\n3              NaN\n4               22\n           ...    \n2797            25\n2798            27\n2799           NaN\n2800            24\n2801           NaN\nName: x, Length: 2802, dtype: object"
     ]
    },
    {
     "data": {
      "image/png": "[encoded data removed]",
      "text/plain": [
       "<Figure size 360x360 with 1 Axes>"
      ]
     },
     "metadata": {
      "needs_background": "light"
     },
     "output_type": "display_data"
    },
    {
     "ename": "ConversionError",
     "evalue": "Failed to convert value(s) to axis units: 0               52\n1              NaN\n2       7920367458\n3              NaN\n4               22\n           ...    \n2797            25\n2798            27\n2799           NaN\n2800            24\n2801           NaN\nName: x, Length: 2802, dtype: object",
     "output_type": "error",
     "traceback": [
      "\u001b[0;31m---------------------------------------------------------------------------\u001b[0m",
      "\u001b[0;31mTypeError\u001b[0m                                 Traceback (most recent call last)",
      "\u001b[0;32m/usr/local/lib/python3.9/site-packages/matplotlib/axis.py\u001b[0m in \u001b[0;36mconvert_units\u001b[0;34m(self, x)\u001b[0m\n\u001b[1;32m   1488\u001b[0m         \u001b[0;32mtry\u001b[0m\u001b[0;34m:\u001b[0m\u001b[0;34m\u001b[0m\u001b[0;34m\u001b[0m\u001b[0m\n\u001b[0;32m-> 1489\u001b[0;31m             \u001b[0mret\u001b[0m \u001b[0;34m=\u001b[0m \u001b[0mself\u001b[0m\u001b[0;34m.\u001b[0m\u001b[0mconverter\u001b[0m\u001b[0;34m.\u001b[0m\u001b[0mconvert\u001b[0m\u001b[0;34m(\u001b[0m\u001b[0mx\u001b[0m\u001b[0;34m,\u001b[0m \u001b[0mself\u001b[0m\u001b[0;34m.\u001b[0m\u001b[0munits\u001b[0m\u001b[0;34m,\u001b[0m \u001b[0mself\u001b[0m\u001b[0;34m)\u001b[0m\u001b[0;34m\u001b[0m\u001b[0;34m\u001b[0m\u001b[0m\n\u001b[0m\u001b[1;32m   1490\u001b[0m         \u001b[0;32mexcept\u001b[0m \u001b[0mException\u001b[0m \u001b[0;32mas\u001b[0m \u001b[0me\u001b[0m\u001b[0;34m:\u001b[0m\u001b[0;34m\u001b[0m\u001b[0;34m\u001b[0m\u001b[0m\n",
      "\u001b[0;32m/usr/local/lib/python3.9/site-packages/matplotlib/category.py\u001b[0m in \u001b[0;36mconvert\u001b[0;34m(value, unit, axis)\u001b[0m\n\u001b[1;32m     61\u001b[0m         \u001b[0;31m# force an update so it also does type checking\u001b[0m\u001b[0;34m\u001b[0m\u001b[0;34m\u001b[0m\u001b[0;34m\u001b[0m\u001b[0m\n\u001b[0;32m---> 62\u001b[0;31m         \u001b[0munit\u001b[0m\u001b[0;34m.\u001b[0m\u001b[0mupdate\u001b[0m\u001b[0;34m(\u001b[0m\u001b[0mvalues\u001b[0m\u001b[0;34m)\u001b[0m\u001b[0;34m\u001b[0m\u001b[0;34m\u001b[0m\u001b[0m\n\u001b[0m\u001b[1;32m     63\u001b[0m         \u001b[0;32mreturn\u001b[0m \u001b[0mnp\u001b[0m\u001b[0;34m.\u001b[0m\u001b[0mvectorize\u001b[0m\u001b[0;34m(\u001b[0m\u001b[0munit\u001b[0m\u001b[0;34m.\u001b[0m\u001b[0m_mapping\u001b[0m\u001b[0;34m.\u001b[0m\u001b[0m__getitem__\u001b[0m\u001b[0;34m,\u001b[0m \u001b[0motypes\u001b[0m\u001b[0;34m=\u001b[0m\u001b[0;34m[\u001b[0m\u001b[0mfloat\u001b[0m\u001b[0;34m]\u001b[0m\u001b[0;34m)\u001b[0m\u001b[0;34m(\u001b[0m\u001b[0mvalues\u001b[0m\u001b[0;34m)\u001b[0m\u001b[0;34m\u001b[0m\u001b[0;34m\u001b[0m\u001b[0m\n",
      "\u001b[0;32m/usr/local/lib/python3.9/site-packages/matplotlib/category.py\u001b[0m in \u001b[0;36mupdate\u001b[0;34m(self, data)\u001b[0m\n\u001b[1;32m    219\u001b[0m             \u001b[0;31m# OrderedDict just iterates over unique values in data.\u001b[0m\u001b[0;34m\u001b[0m\u001b[0;34m\u001b[0m\u001b[0;34m\u001b[0m\u001b[0m\n\u001b[0;32m--> 220\u001b[0;31m             \u001b[0m_api\u001b[0m\u001b[0;34m.\u001b[0m\u001b[0mcheck_isinstance\u001b[0m\u001b[0;34m(\u001b[0m\u001b[0;34m(\u001b[0m\u001b[0mstr\u001b[0m\u001b[0;34m,\u001b[0m \u001b[0mbytes\u001b[0m\u001b[0;34m)\u001b[0m\u001b[0;34m,\u001b[0m \u001b[0mvalue\u001b[0m\u001b[0;34m=\u001b[0m\u001b[0mval\u001b[0m\u001b[0;34m)\u001b[0m\u001b[0;34m\u001b[0m\u001b[0;34m\u001b[0m\u001b[0m\n\u001b[0m\u001b[1;32m    221\u001b[0m             \u001b[0;32mif\u001b[0m \u001b[0mconvertible\u001b[0m\u001b[0;34m:\u001b[0m\u001b[0;34m\u001b[0m\u001b[0;34m\u001b[0m\u001b[0m\n",
      "\u001b[0;32m/usr/local/lib/python3.9/site-packages/matplotlib/_api/__init__.py\u001b[0m in \u001b[0;36mcheck_isinstance\u001b[0;34m(_types, **kwargs)\u001b[0m\n\u001b[1;32m     91\u001b[0m                 \u001b[0mnames\u001b[0m\u001b[0;34m.\u001b[0m\u001b[0mappend\u001b[0m\u001b[0;34m(\u001b[0m\u001b[0;34m\"None\"\u001b[0m\u001b[0;34m)\u001b[0m\u001b[0;34m\u001b[0m\u001b[0;34m\u001b[0m\u001b[0m\n\u001b[0;32m---> 92\u001b[0;31m             raise TypeError(\n\u001b[0m\u001b[1;32m     93\u001b[0m                 \"{!r} must be an instance of {}, not a {}\".format(\n",
      "\u001b[0;31mTypeError\u001b[0m: 'value' must be an instance of str or bytes, not a float",
      "\nThe above exception was the direct cause of the following exception:\n",
      "\u001b[0;31mConversionError\u001b[0m                           Traceback (most recent call last)",
      "\u001b[0;32m<ipython-input-1378-4a7d11a6f6d1>\u001b[0m in \u001b[0;36m<module>\u001b[0;34m\u001b[0m\n\u001b[0;32m----> 1\u001b[0;31m \u001b[0msns\u001b[0m\u001b[0;34m.\u001b[0m\u001b[0mdisplot\u001b[0m\u001b[0;34m(\u001b[0m\u001b[0mied\u001b[0m\u001b[0;34m.\u001b[0m\u001b[0mage\u001b[0m\u001b[0;34m)\u001b[0m\u001b[0;34m\u001b[0m\u001b[0;34m\u001b[0m\u001b[0m\n\u001b[0m",
      "\u001b[0;32m/usr/local/lib/python3.9/site-packages/seaborn/distributions.py\u001b[0m in \u001b[0;36mdisplot\u001b[0;34m(data, x, y, hue, row, col, weights, kind, rug, rug_kws, log_scale, legend, palette, hue_order, hue_norm, color, col_wrap, row_order, col_order, height, aspect, facet_kws, **kwargs)\u001b[0m\n\u001b[1;32m   2225\u001b[0m \u001b[0;34m\u001b[0m\u001b[0m\n\u001b[1;32m   2226\u001b[0m             \u001b[0m_assign_default_kwargs\u001b[0m\u001b[0;34m(\u001b[0m\u001b[0mhist_kws\u001b[0m\u001b[0;34m,\u001b[0m \u001b[0mp\u001b[0m\u001b[0;34m.\u001b[0m\u001b[0mplot_univariate_histogram\u001b[0m\u001b[0;34m,\u001b[0m \u001b[0mhistplot\u001b[0m\u001b[0;34m)\u001b[0m\u001b[0;34m\u001b[0m\u001b[0;34m\u001b[0m\u001b[0m\n\u001b[0;32m-> 2227\u001b[0;31m             \u001b[0mp\u001b[0m\u001b[0;34m.\u001b[0m\u001b[0mplot_univariate_histogram\u001b[0m\u001b[0;34m(\u001b[0m\u001b[0;34m**\u001b[0m\u001b[0mhist_kws\u001b[0m\u001b[0;34m)\u001b[0m\u001b[0;34m\u001b[0m\u001b[0;34m\u001b[0m\u001b[0m\n\u001b[0m\u001b[1;32m   2228\u001b[0m \u001b[0;34m\u001b[0m\u001b[0m\n\u001b[1;32m   2229\u001b[0m         \u001b[0;32melse\u001b[0m\u001b[0;34m:\u001b[0m\u001b[0;34m\u001b[0m\u001b[0;34m\u001b[0m\u001b[0m\n",
      "\u001b[0;32m/usr/local/lib/python3.9/site-packages/seaborn/distributions.py\u001b[0m in \u001b[0;36mplot_univariate_histogram\u001b[0;34m(self, multiple, element, fill, common_norm, common_bins, shrink, kde, kde_kws, color, legend, line_kws, estimate_kws, **plot_kws)\u001b[0m\n\u001b[1;32m    422\u001b[0m \u001b[0;34m\u001b[0m\u001b[0m\n\u001b[1;32m    423\u001b[0m         \u001b[0;31m# First pass through the data to compute the histograms\u001b[0m\u001b[0;34m\u001b[0m\u001b[0;34m\u001b[0m\u001b[0;34m\u001b[0m\u001b[0m\n\u001b[0;32m--> 424\u001b[0;31m         \u001b[0;32mfor\u001b[0m \u001b[0msub_vars\u001b[0m\u001b[0;34m,\u001b[0m \u001b[0msub_data\u001b[0m \u001b[0;32min\u001b[0m \u001b[0mself\u001b[0m\u001b[0;34m.\u001b[0m\u001b[0miter_data\u001b[0m\u001b[0;34m(\u001b[0m\u001b[0;34m\"hue\"\u001b[0m\u001b[0;34m,\u001b[0m \u001b[0mfrom_comp_data\u001b[0m\u001b[0;34m=\u001b[0m\u001b[0;32mTrue\u001b[0m\u001b[0;34m)\u001b[0m\u001b[0;34m:\u001b[0m\u001b[0;34m\u001b[0m\u001b[0;34m\u001b[0m\u001b[0m\n\u001b[0m\u001b[1;32m    425\u001b[0m \u001b[0;34m\u001b[0m\u001b[0m\n\u001b[1;32m    426\u001b[0m             \u001b[0;31m# Prepare the relevant data\u001b[0m\u001b[0;34m\u001b[0m\u001b[0;34m\u001b[0m\u001b[0;34m\u001b[0m\u001b[0m\n",
      "\u001b[0;32m/usr/local/lib/python3.9/site-packages/seaborn/_core.py\u001b[0m in \u001b[0;36miter_data\u001b[0;34m(self, grouping_vars, reverse, from_comp_data)\u001b[0m\n\u001b[1;32m    980\u001b[0m \u001b[0;34m\u001b[0m\u001b[0m\n\u001b[1;32m    981\u001b[0m         \u001b[0;32mif\u001b[0m \u001b[0mfrom_comp_data\u001b[0m\u001b[0;34m:\u001b[0m\u001b[0;34m\u001b[0m\u001b[0;34m\u001b[0m\u001b[0m\n\u001b[0;32m--> 982\u001b[0;31m             \u001b[0mdata\u001b[0m \u001b[0;34m=\u001b[0m \u001b[0mself\u001b[0m\u001b[0;34m.\u001b[0m\u001b[0mcomp_data\u001b[0m\u001b[0;34m\u001b[0m\u001b[0;34m\u001b[0m\u001b[0m\n\u001b[0m\u001b[1;32m    983\u001b[0m         \u001b[0;32melse\u001b[0m\u001b[0;34m:\u001b[0m\u001b[0;34m\u001b[0m\u001b[0;34m\u001b[0m\u001b[0m\n\u001b[1;32m    984\u001b[0m             \u001b[0mdata\u001b[0m \u001b[0;34m=\u001b[0m \u001b[0mself\u001b[0m\u001b[0;34m.\u001b[0m\u001b[0mplot_data\u001b[0m\u001b[0;34m\u001b[0m\u001b[0;34m\u001b[0m\u001b[0m\n",
      "\u001b[0;32m/usr/local/lib/python3.9/site-packages/seaborn/_core.py\u001b[0m in \u001b[0;36mcomp_data\u001b[0;34m(self)\u001b[0m\n\u001b[1;32m   1049\u001b[0m                 \u001b[0maxis\u001b[0m \u001b[0;34m=\u001b[0m \u001b[0mgetattr\u001b[0m\u001b[0;34m(\u001b[0m\u001b[0max\u001b[0m\u001b[0;34m,\u001b[0m \u001b[0;34mf\"{var}axis\"\u001b[0m\u001b[0;34m)\u001b[0m\u001b[0;34m\u001b[0m\u001b[0;34m\u001b[0m\u001b[0m\n\u001b[1;32m   1050\u001b[0m \u001b[0;34m\u001b[0m\u001b[0m\n\u001b[0;32m-> 1051\u001b[0;31m                 \u001b[0mcomp_var\u001b[0m \u001b[0;34m=\u001b[0m \u001b[0maxis\u001b[0m\u001b[0;34m.\u001b[0m\u001b[0mconvert_units\u001b[0m\u001b[0;34m(\u001b[0m\u001b[0mself\u001b[0m\u001b[0;34m.\u001b[0m\u001b[0mplot_data\u001b[0m\u001b[0;34m[\u001b[0m\u001b[0mvar\u001b[0m\u001b[0;34m]\u001b[0m\u001b[0;34m)\u001b[0m\u001b[0;34m\u001b[0m\u001b[0;34m\u001b[0m\u001b[0m\n\u001b[0m\u001b[1;32m   1052\u001b[0m                 \u001b[0;32mif\u001b[0m \u001b[0maxis\u001b[0m\u001b[0;34m.\u001b[0m\u001b[0mget_scale\u001b[0m\u001b[0;34m(\u001b[0m\u001b[0;34m)\u001b[0m \u001b[0;34m==\u001b[0m \u001b[0;34m\"log\"\u001b[0m\u001b[0;34m:\u001b[0m\u001b[0;34m\u001b[0m\u001b[0;34m\u001b[0m\u001b[0m\n\u001b[1;32m   1053\u001b[0m                     \u001b[0mcomp_var\u001b[0m \u001b[0;34m=\u001b[0m \u001b[0mnp\u001b[0m\u001b[0;34m.\u001b[0m\u001b[0mlog10\u001b[0m\u001b[0;34m(\u001b[0m\u001b[0mcomp_var\u001b[0m\u001b[0;34m)\u001b[0m\u001b[0;34m\u001b[0m\u001b[0;34m\u001b[0m\u001b[0m\n",
      "\u001b[0;32m/usr/local/lib/python3.9/site-packages/matplotlib/axis.py\u001b[0m in \u001b[0;36mconvert_units\u001b[0;34m(self, x)\u001b[0m\n\u001b[1;32m   1489\u001b[0m             \u001b[0mret\u001b[0m \u001b[0;34m=\u001b[0m \u001b[0mself\u001b[0m\u001b[0;34m.\u001b[0m\u001b[0mconverter\u001b[0m\u001b[0;34m.\u001b[0m\u001b[0mconvert\u001b[0m\u001b[0;34m(\u001b[0m\u001b[0mx\u001b[0m\u001b[0;34m,\u001b[0m \u001b[0mself\u001b[0m\u001b[0;34m.\u001b[0m\u001b[0munits\u001b[0m\u001b[0;34m,\u001b[0m \u001b[0mself\u001b[0m\u001b[0;34m)\u001b[0m\u001b[0;34m\u001b[0m\u001b[0;34m\u001b[0m\u001b[0m\n\u001b[1;32m   1490\u001b[0m         \u001b[0;32mexcept\u001b[0m \u001b[0mException\u001b[0m \u001b[0;32mas\u001b[0m \u001b[0me\u001b[0m\u001b[0;34m:\u001b[0m\u001b[0;34m\u001b[0m\u001b[0;34m\u001b[0m\u001b[0m\n\u001b[0;32m-> 1491\u001b[0;31m             raise munits.ConversionError('Failed to convert value(s) to axis '\n\u001b[0m\u001b[1;32m   1492\u001b[0m                                          f'units: {x!r}') from e\n\u001b[1;32m   1493\u001b[0m         \u001b[0;32mreturn\u001b[0m \u001b[0mret\u001b[0m\u001b[0;34m\u001b[0m\u001b[0;34m\u001b[0m\u001b[0m\n",
      "\u001b[0;31mConversionError\u001b[0m: Failed to convert value(s) to axis units: 0               52\n1              NaN\n2       7920367458\n3              NaN\n4               22\n           ...    \n2797            25\n2798            27\n2799           NaN\n2800            24\n2801           NaN\nName: x, Length: 2802, dtype: object"
     ]
    }
   ],
   "source": [
    "sns.displot(ied.age)"
   ]
  },
  {
   "cell_type": "code",
   "execution_count": 1014,
   "metadata": {
    "collapsed": false
   },
   "outputs": [
    {
     "data": {
      "text/plain": [
       "ind_treatment  treatment  sleepundernet\n",
       "0              0          1.0              0.673554\n",
       "                          0.0              0.326446\n",
       "               1          1.0              0.709251\n",
       "                          0.0              0.290749\n",
       "1              0          1.0              0.711027\n",
       "                          0.0              0.288973\n",
       "               1          1.0              0.736842\n",
       "                          0.0              0.263158\n",
       "Name: sleepundernet, dtype: float64"
      ]
     },
     "execution_count": 1014,
     "metadata": {},
     "output_type": "execute_result"
    }
   ],
   "source": [
    "ied[(ied.wave == '1') & (ied.userid.isin(netusers))].groupby([\"ind_treatment\", \"treatment\"]).sleepundernet.value_counts(normalize=True)"
   ]
  },
  {
   "cell_type": "code",
   "execution_count": 1053,
   "metadata": {
    "collapsed": false
   },
   "outputs": [
    {
     "name": "stdout",
     "output_type": "stream",
     "text": [
      "Optimization terminated successfully.\n",
      "         Current function value: 0.535564\n",
      "         Iterations 5\n"
     ]
    },
    {
     "data": {
      "text/html": [
       "<table class=\"simpletable\">\n",
       "<caption>Logit Regression Results</caption>\n",
       "<tr>\n",
       "  <th>Dep. Variable:</th>       <td>admalaria</td>    <th>  No. Observations:  </th>  <td>   875</td> \n",
       "</tr>\n",
       "<tr>\n",
       "  <th>Model:</th>                 <td>Logit</td>      <th>  Df Residuals:      </th>  <td>   871</td> \n",
       "</tr>\n",
       "<tr>\n",
       "  <th>Method:</th>                 <td>MLE</td>       <th>  Df Model:          </th>  <td>     3</td> \n",
       "</tr>\n",
       "<tr>\n",
       "  <th>Date:</th>            <td>Tue, 13 Apr 2021</td> <th>  Pseudo R-squ.:     </th> <td>0.006247</td>\n",
       "</tr>\n",
       "<tr>\n",
       "  <th>Time:</th>                <td>16:30:06</td>     <th>  Log-Likelihood:    </th> <td> -468.62</td>\n",
       "</tr>\n",
       "<tr>\n",
       "  <th>converged:</th>             <td>True</td>       <th>  LL-Null:           </th> <td> -471.56</td>\n",
       "</tr>\n",
       "<tr>\n",
       "  <th>Covariance Type:</th>     <td>nonrobust</td>    <th>  LLR p-value:       </th>  <td>0.1170</td> \n",
       "</tr>\n",
       "</table>\n",
       "<table class=\"simpletable\">\n",
       "<tr>\n",
       "             <td></td>                <th>coef</th>     <th>std err</th>      <th>z</th>      <th>P>|z|</th>  <th>[0.025</th>    <th>0.975]</th>  \n",
       "</tr>\n",
       "<tr>\n",
       "  <th>Intercept</th>               <td>   -1.3808</td> <td>    0.165</td> <td>   -8.372</td> <td> 0.000</td> <td>   -1.704</td> <td>   -1.058</td>\n",
       "</tr>\n",
       "<tr>\n",
       "  <th>ind_treatment</th>           <td>    0.4617</td> <td>    0.218</td> <td>    2.119</td> <td> 0.034</td> <td>    0.035</td> <td>    0.889</td>\n",
       "</tr>\n",
       "<tr>\n",
       "  <th>treatment</th>               <td>    0.0301</td> <td>    0.238</td> <td>    0.126</td> <td> 0.899</td> <td>   -0.436</td> <td>    0.496</td>\n",
       "</tr>\n",
       "<tr>\n",
       "  <th>ind_treatment:treatment</th> <td>   -0.3736</td> <td>    0.326</td> <td>   -1.144</td> <td> 0.253</td> <td>   -1.013</td> <td>    0.266</td>\n",
       "</tr>\n",
       "</table>"
      ],
      "text/plain": [
       "<class 'statsmodels.iolib.summary.Summary'>\n",
       "\"\"\"\n",
       "                           Logit Regression Results                           \n",
       "==============================================================================\n",
       "Dep. Variable:              admalaria   No. Observations:                  875\n",
       "Model:                          Logit   Df Residuals:                      871\n",
       "Method:                           MLE   Df Model:                            3\n",
       "Date:                Tue, 13 Apr 2021   Pseudo R-squ.:                0.006247\n",
       "Time:                        16:30:06   Log-Likelihood:                -468.62\n",
       "converged:                       True   LL-Null:                       -471.56\n",
       "Covariance Type:            nonrobust   LLR p-value:                    0.1170\n",
       "===========================================================================================\n",
       "                              coef    std err          z      P>|z|      [0.025      0.975]\n",
       "-------------------------------------------------------------------------------------------\n",
       "Intercept                  -1.3808      0.165     -8.372      0.000      -1.704      -1.058\n",
       "ind_treatment               0.4617      0.218      2.119      0.034       0.035       0.889\n",
       "treatment                   0.0301      0.238      0.126      0.899      -0.436       0.496\n",
       "ind_treatment:treatment    -0.3736      0.326     -1.144      0.253      -1.013       0.266\n",
       "===========================================================================================\n",
       "\"\"\""
      ]
     },
     "execution_count": 1053,
     "metadata": {},
     "output_type": "execute_result"
    }
   ],
   "source": [
    "smf.logit('admalaria ~ ind_treatment*treatment', ied[(ied.userid.isin(netusers)) & ied.sleepundernet.notna()]).fit().summary()"
   ]
  },
  {
   "cell_type": "code",
   "execution_count": 1365,
   "metadata": {
    "collapsed": false
   },
   "outputs": [],
   "source": [
    "ied[(ied.userid.isin(netusers)) & ied.sleepundernet.notna()].to_csv('outs/mnm-ied.csv', index=False)"
   ]
  },
  {
   "cell_type": "code",
   "execution_count": 1360,
   "metadata": {
    "collapsed": false
   },
   "outputs": [
    {
     "name": "stdout",
     "output_type": "stream",
     "text": [
      "\\begin{center}\n",
      "\\begin{tabular}{lclc}\n",
      "\\toprule\n",
      "\\textbf{Dep. Variable:}           &  sleepundernet   & \\textbf{  R-squared:         } &     0.002   \\\\\n",
      "\\textbf{Model:}                   &       OLS        & \\textbf{  Adj. R-squared:    } &    -0.001   \\\\\n",
      "\\textbf{Method:}                  &  Least Squares   & \\textbf{  F-statistic:       } &    0.7418   \\\\\n",
      "\\textbf{Date:}                    & Wed, 14 Apr 2021 & \\textbf{  Prob (F-statistic):} &    0.527    \\\\\n",
      "\\textbf{Time:}                    &     20:08:14     & \\textbf{  Log-Likelihood:    } &   -593.68   \\\\\n",
      "\\textbf{No. Observations:}        &         941      & \\textbf{  AIC:               } &     1195.   \\\\\n",
      "\\textbf{Df Residuals:}            &         937      & \\textbf{  BIC:               } &     1215.   \\\\\n",
      "\\textbf{Df Model:}                &           3      & \\textbf{                     } &             \\\\\n",
      "\\bottomrule\n",
      "\\end{tabular}\n",
      "\\begin{tabular}{lcccccc}\n",
      "                                  & \\textbf{coef} & \\textbf{std err} & \\textbf{t} & \\textbf{P$> |$t$|$} & \\textbf{[0.025} & \\textbf{0.975]}  \\\\\n",
      "\\midrule\n",
      "\\textbf{Intercept}                &       0.6736  &        0.029     &    22.993  &         0.000        &        0.616    &        0.731     \\\\\n",
      "\\textbf{ind\\_treatment}           &       0.0375  &        0.041     &     0.923  &         0.356        &       -0.042    &        0.117     \\\\\n",
      "\\textbf{treatment}                &       0.0357  &        0.042     &     0.848  &         0.397        &       -0.047    &        0.118     \\\\\n",
      "\\textbf{ind\\_treatment:treatment} &      -0.0099  &        0.060     &    -0.166  &         0.868        &       -0.127    &        0.107     \\\\\n",
      "\\bottomrule\n",
      "\\end{tabular}\n",
      "\\begin{tabular}{lclc}\n",
      "\\textbf{Omnibus:}       & 643.256 & \\textbf{  Durbin-Watson:     } &    1.944  \\\\\n",
      "\\textbf{Prob(Omnibus):} &   0.000 & \\textbf{  Jarque-Bera (JB):  } &  182.055  \\\\\n",
      "\\textbf{Skew:}          &  -0.905 & \\textbf{  Prob(JB):          } & 2.93e-40  \\\\\n",
      "\\textbf{Kurtosis:}      &   1.830 & \\textbf{  Cond. No.          } &     6.66  \\\\\n",
      "\\bottomrule\n",
      "\\end{tabular}\n",
      "%\\caption{OLS Regression Results}\n",
      "\\end{center}\n",
      "\n",
      "Notes: \\newline\n",
      " [1] Standard Errors assume that the covariance matrix of the errors is correctly specified.\n"
     ]
    }
   ],
   "source": [
    "print(smf.ols('sleepundernet ~ ind_treatment*treatment', ied[(ied.userid.isin(netusers)) & ied.sleepundernet.notna()]).fit().summary().as_latex())"
   ]
  },
  {
   "cell_type": "code",
   "execution_count": 1359,
   "metadata": {
    "collapsed": false
   },
   "outputs": [
    {
     "data": {
      "text/plain": [
       "(0.6735532026572099,\n",
       " 0.7110316958114002,\n",
       " 0.7092408682678242,\n",
       " 0.7368383401414632)"
      ]
     },
     "execution_count": 1359,
     "metadata": {},
     "output_type": "execute_result"
    }
   ],
   "source": [
    "expit(0.7243), expit(0.7243 + 0.1761), expit(0.7243 + 0.1674), expit(0.7243 + 0.1761 + 0.1674 - 0.0382)"
   ]
  },
  {
   "cell_type": "code",
   "execution_count": 1006,
   "metadata": {
    "collapsed": false
   },
   "outputs": [
    {
     "data": {
      "text/plain": [
       "ind_treatment  treatment  admalaria\n",
       "0              0          0.0          0.799127\n",
       "                          1.0          0.200873\n",
       "               1          0.0          0.794258\n",
       "                          1.0          0.205742\n",
       "1              0          0.0          0.714876\n",
       "                          1.0          0.285124\n",
       "               1          0.0          0.779487\n",
       "                          1.0          0.220513\n",
       "Name: admalaria, dtype: float64"
      ]
     },
     "execution_count": 1006,
     "metadata": {},
     "output_type": "execute_result"
    }
   ],
   "source": [
    "ied[(ied.wave == '1') & (ied.userid.isin(netusers))].groupby([\"ind_treatment\", \"treatment\"]).admalaria.value_counts(normalize=True)"
   ]
  },
  {
   "cell_type": "code",
   "execution_count": 1028,
   "metadata": {
    "collapsed": false
   },
   "outputs": [],
   "source": [
    "model = Model(ied[(ied.userid.isin(netusers)) & ied.sleepundernet.notna()].reset_index(drop=True))"
   ]
  },
  {
   "cell_type": "code",
   "execution_count": 1031,
   "metadata": {
    "collapsed": false
   },
   "outputs": [
    {
     "name": "stderr",
     "output_type": "stream",
     "text": [
      "INFO:bambi:Modeling the probability that sleepundernet==1\n"
     ]
    },
    {
     "name": "stderr",
     "output_type": "stream",
     "text": [
      "INFO:pymc3:Auto-assigning NUTS sampler...\n"
     ]
    },
    {
     "name": "stderr",
     "output_type": "stream",
     "text": [
      "INFO:pymc3:Initializing NUTS using jitter+adapt_diag...\n"
     ]
    },
    {
     "name": "stderr",
     "output_type": "stream",
     "text": [
      "INFO:pymc3:Multiprocess sampling (4 chains in 4 jobs)\n"
     ]
    },
    {
     "name": "stderr",
     "output_type": "stream",
     "text": [
      "INFO:pymc3:NUTS: [treatment:ind_treatment, ind_treatment, treatment, Intercept]\n"
     ]
    },
    {
     "data": {
      "text/html": [
       "\n",
       "    <div>\n",
       "        <style>\n",
       "            /* Turns off some styling */\n",
       "            progress {\n",
       "                /* gets rid of default border in Firefox and Opera. */\n",
       "                border: none;\n",
       "                /* Needs to be in here for Safari polyfill so background images work as expected. */\n",
       "                background-size: auto;\n",
       "            }\n",
       "            .progress-bar-interrupted, .progress-bar-interrupted::-webkit-progress-bar {\n",
       "                background: #F44336;\n",
       "            }\n",
       "        </style>\n",
       "      <progress value='0' class='' max='24000' style='width:300px; height:20px; vertical-align: middle;'></progress>\n",
       "      \n",
       "    </div>\n",
       "    "
      ],
      "text/plain": [
       "<IPython.core.display.HTML object>"
      ]
     },
     "metadata": {},
     "output_type": "display_data"
    },
    {
     "name": "stderr",
     "output_type": "stream",
     "text": [
      "INFO:pymc3:Sampling 4 chains for 4_000 tune and 2_000 draw iterations (16_000 + 8_000 draws total) took 26 seconds.\n"
     ]
    },
    {
     "name": "stderr",
     "output_type": "stream",
     "text": [
      "WARNING:pymc3:The acceptance probability does not match the target. It is 0.8838984138847404, but should be close to 0.8. Try to increase the number of tuning steps.\n"
     ]
    }
   ],
   "source": [
    "results = model.fit('sleepundernet ~ treatment*ind_treatment', family='bernoulli', draws=2_000, tune=4_000)"
   ]
  },
  {
   "cell_type": "code",
   "execution_count": 1034,
   "metadata": {
    "collapsed": false
   },
   "outputs": [
    {
     "data": {
      "text/plain": [
       "array([<AxesSubplot:title={'center':'treatment'}>,\n",
       "       <AxesSubplot:title={'center':'ind_treatment'}>,\n",
       "       <AxesSubplot:title={'center':'treatment:ind_treatment'}>],\n",
       "      dtype=object)"
      ]
     },
     "execution_count": 1034,
     "metadata": {},
     "output_type": "execute_result"
    },
    {
     "data": {
      "image/png": "[encoded data removed]",
      "text/plain": [
       "<Figure size 1490.4x331.2 with 3 Axes>"
      ]
     },
     "metadata": {
      "needs_background": "light"
     },
     "output_type": "display_data"
    }
   ],
   "source": [
    "az.plot_posterior(results, var_names=['treatment','ind_treatment', 'treatment:ind_treatment'], ref_val=0, rope=[-1, 1])"
   ]
  },
  {
   "cell_type": "code",
   "execution_count": 1050,
   "metadata": {
    "collapsed": false
   },
   "outputs": [
    {
     "data": {
      "text/plain": [
       "0.0795"
      ]
     },
     "execution_count": 1050,
     "metadata": {},
     "output_type": "execute_result"
    }
   ],
   "source": [
    "((results.posterior.treatment.values < 0) & (results.posterior.ind_treatment.values < 0)).mean()"
   ]
  },
  {
   "cell_type": "code",
   "execution_count": 1051,
   "metadata": {
    "collapsed": false
   },
   "outputs": [
    {
     "data": {
      "text/plain": [
       "0.69375"
      ]
     },
     "execution_count": 1051,
     "metadata": {},
     "output_type": "execute_result"
    }
   ],
   "source": [
    "((results.posterior.treatment.values > 0) & (results.posterior.ind_treatment.values > 0)).mean()"
   ]
  },
  {
   "cell_type": "code",
   "execution_count": 517,
   "metadata": {
    "collapsed": false
   },
   "outputs": [],
   "source": [
    "def remove_spammers(df):\n",
    "    df = df[(df.answer_time_median.dt.total_seconds()/df.answer_time_min.dt.total_seconds()) >= 1.5]\n",
    "    return df.reset_index(drop=True)\n",
    "\n",
    "ddb = remove_spammers(ddb[ddb.dwelling.notna()])"
   ]
  },
  {
   "cell_type": "code",
   "execution_count": 856,
   "metadata": {
    "collapsed": false
   },
   "outputs": [],
   "source": [
    "dda = remove_spammers(dda)"
   ]
  },
  {
   "cell_type": "code",
   "execution_count": 102,
   "metadata": {
    "collapsed": false
   },
   "outputs": [],
   "source": [
    "import numpy as np\n",
    "\n",
    "def as_type(series, type_):\n",
    "    return series.astype(type_)\n",
    "\n",
    "def binarize(series, pos):\n",
    "    s = as_type((series == pos), int)\n",
    "    s[series.isna()] = np.nan\n",
    "    return s\n",
    "\n",
    "def binarize_cols(df, cols):\n",
    "    df = df.copy()\n",
    "    for col, target in cols:\n",
    "        df[col] = binarize(df[col], target)\n",
    "    return df"
   ]
  },
  {
   "cell_type": "code",
   "execution_count": 857,
   "metadata": {
    "collapsed": false
   },
   "outputs": [],
   "source": [
    "cols = [\n",
    "    ('malaria2weeks', 'Yes'), \n",
    "    ('fever2weeks', 'Yes'), \n",
    "    ('seekhelpfever', 'Yes'),\n",
    "    ('longsleeves', 'Yes'),\n",
    "    ('sleepundernet', 'Yes'),\n",
    "    ('timeseekhelpfever', 'Less than 24 hours')\n",
    "]\n",
    "\n",
    "dda = binarize_cols(dda, cols)"
   ]
  },
  {
   "cell_type": "code",
   "execution_count": 342,
   "metadata": {
    "collapsed": false
   },
   "outputs": [],
   "source": [
    "dda['stratumid'] = dda.clusterid"
   ]
  },
  {
   "cell_type": "code",
   "execution_count": 489,
   "metadata": {
    "collapsed": false
   },
   "outputs": [
    {
     "data": {
      "text/plain": [
       "Yes           1134\n",
       "No              78\n",
       "Don’t know       1\n",
       "Name: seekhelpfever, dtype: int64"
      ]
     },
     "execution_count": 489,
     "metadata": {},
     "output_type": "execute_result"
    }
   ],
   "source": [
    "ddb[ddb.dwelling.notna() & ddb.seekhelpfever.notna()].seekhelpfever.value_counts()"
   ]
  },
  {
   "cell_type": "code",
   "execution_count": 488,
   "metadata": {
    "collapsed": false
   },
   "outputs": [
    {
     "data": {
      "text/plain": [
       "No            156\n",
       "Yes            69\n",
       "Don’t know     16\n",
       "Name: seekhelpfever, dtype: int64"
      ]
     },
     "execution_count": 488,
     "metadata": {},
     "output_type": "execute_result"
    }
   ],
   "source": [
    "ddb[ddb.dwelling.isna() & ddb.seekhelpfever.notna()].seekhelpfever.value_counts()"
   ]
  },
  {
   "cell_type": "code",
   "execution_count": 1407,
   "metadata": {
    "collapsed": false
   },
   "outputs": [],
   "source": [
    "cols = [\n",
    "    ('malaria4months', 'Yes'), \n",
    "    ('fever4months', 'Yes'), \n",
    "    ('seekhelpfever', 'Yes'),\n",
    "    ('longsleeves', 'Yes'),\n",
    "    ('sleepundernet', 'Yes'),\n",
    "    ('admnm', 'Yes'),\n",
    "    ('admalaria', 'Yes'),\n",
    "    ('knowmnm', 'Yes'),\n",
    "    ('testmalaria', 'Yes'),\n",
    "]\n",
    "\n",
    "ddb = binarize_cols(ddb, cols)\n",
    "ied = binarize_cols(ied, cols)"
   ]
  },
  {
   "cell_type": "code",
   "execution_count": 620,
   "metadata": {
    "collapsed": false
   },
   "outputs": [
    {
     "data": {
      "text/plain": [
       "0.0    0.639175\n",
       "1.0    0.360825\n",
       "Name: fever4months, dtype: float64"
      ]
     },
     "execution_count": 620,
     "metadata": {},
     "output_type": "execute_result"
    }
   ],
   "source": [
    "ddb[(ddb.malaria4months == 1)].fever4months.value_counts(normalize=True)"
   ]
  },
  {
   "cell_type": "code",
   "execution_count": 621,
   "metadata": {
    "collapsed": false
   },
   "outputs": [
    {
     "data": {
      "text/plain": [
       "0.0    0.510264\n",
       "1.0    0.489736\n",
       "Name: fever2weeks, dtype: float64"
      ]
     },
     "execution_count": 621,
     "metadata": {},
     "output_type": "execute_result"
    }
   ],
   "source": [
    "dda[dda.malaria2weeks == 1].fever2weeks.value_counts(normalize=True)"
   ]
  },
  {
   "cell_type": "code",
   "execution_count": 629,
   "metadata": {
    "collapsed": false
   },
   "outputs": [
    {
     "data": {
      "text/plain": [
       "Yes           206\n",
       "No            114\n",
       "Don’t know     21\n",
       "Name: testmalaria, dtype: int64"
      ]
     },
     "execution_count": 629,
     "metadata": {},
     "output_type": "execute_result"
    }
   ],
   "source": [
    "dda[(dda.malaria2weeks == 1) & (dda.fever2weeks == 0)].testmalaria.value_counts()"
   ]
  },
  {
   "cell_type": "code",
   "execution_count": null,
   "metadata": {
    "collapsed": false
   },
   "outputs": [],
   "source": [
    "# TODO: build model for malaria incidence that considers\n",
    "# the selection bias - the fact that only some people \n",
    "# get tested, so there is a probability of getting tested,\n",
    "# and then try to infer effects on malaria incidence."
   ]
  },
  {
   "cell_type": "code",
   "execution_count": 51,
   "metadata": {
    "collapsed": false
   },
   "outputs": [],
   "source": [
    "vpre = get_pair_delta(dda, 'seekhelpfever', ['stratumid', 'treatment'], 'pair_id', pair_lookup, dif('seekhelpfever'))"
   ]
  },
  {
   "cell_type": "code",
   "execution_count": null,
   "metadata": {
    "collapsed": false
   },
   "outputs": [],
   "source": [
    "import statsmodels.formula.api as smf\n",
    "\n",
    "pp = vpre[['delta', 'pair_id']].rename(columns={'delta': 'pre_delta'}).merge(v).groupby('pair_id').head(1).reset_index(drop=True)\n",
    "\n",
    "smf.ols('delta ~ 1 + pre_delta', pp).fit().summary()"
   ]
  },
  {
   "cell_type": "code",
   "execution_count": null,
   "metadata": {
    "collapsed": false
   },
   "outputs": [],
   "source": [
    "pp"
   ]
  },
  {
   "cell_type": "code",
   "execution_count": null,
   "metadata": {
    "collapsed": false
   },
   "outputs": [],
   "source": [
    "import seaborn as sns\n",
    "from toolz import curry\n",
    "from scipy.stats import rankdata\n",
    "\n",
    "@curry\n",
    "def dif(var, df):\n",
    "    d = df[df.treatment == 1][var].iloc[0] - df[df.treatment == 0][var].iloc[0]\n",
    "    rd = df[df.treatment == 1]['rank'].iloc[0] - df[df.treatment == 0]['rank'].iloc[0]\n",
    "    return df.assign(delta = d, count = df['count'].sum(), rank_delta = rd)\n",
    "\n",
    "def center(a):\n",
    "    return a - np.mean(a)\n",
    "\n",
    "def get_pair_delta(df, var, cluster_groups, pair_id, pair_lookup, fn):\n",
    "    v = df[df[var].notnull()] \\\n",
    "        .groupby(cluster_groups) \\\n",
    "        .agg({var: 'mean', 'userid': 'count'}) \\\n",
    "        .rename(columns={'userid': 'count'}) \\\n",
    "        .pipe(lambda df: df.assign(rank = center(rankdata(df[var])))) \\\n",
    "        .reset_index() \\\n",
    "        .merge(pair_lookup) \\\n",
    "        .groupby(pair_id) \\\n",
    "        .apply(fn)[['delta', 'count', 'rank_delta', pair_id]] \\\n",
    "        .reset_index(drop=True) \\\n",
    "        .sort_values('count')\n",
    "\n",
    "    return v\n",
    "\n",
    "\n",
    "\n",
    "# sns.distplot(v['delta'], bins=20)\n",
    "\n",
    "# np.mean(v.delta)\n",
    "\n",
    "pair_lookup = pd.read_csv('outs/ma-with-pair-id.csv')[['pair_id', 'disthash']].rename(columns={'disthash': 'stratumid'})\n",
    "v = get_pair_delta(ddb, 'seekhelpfever', ['stratumid', 'treatment'], 'pair_id', pair_lookup, dif('seekhelpfever'))\n",
    "# v\n",
    "\n",
    "sns.distplot(v['delta'], bins=20)\n",
    "# np.mean(v.delta)\n",
    "\n"
   ]
  },
  {
   "cell_type": "code",
   "execution_count": 522,
   "metadata": {
    "collapsed": false
   },
   "outputs": [],
   "source": [
    "dd = da.rename(columns={'seekhelpfever': 'pre_seekhelpfever'}).merge(d[['seekhelpfever', 'stratumid']], on='stratumid')\n",
    "dd['delta'] = dd.seekhelpfever - dd.pre_seekhelpfever"
   ]
  },
  {
   "cell_type": "code",
   "execution_count": null,
   "metadata": {
    "collapsed": false
   },
   "outputs": [],
   "source": [
    "smf.ols('delta ~ treatment', dd.merge(dist_info, left_on='stratumid', right_on='clusterid')).fit().summary()"
   ]
  },
  {
   "cell_type": "code",
   "execution_count": null,
   "metadata": {
    "collapsed": false
   },
   "outputs": [],
   "source": [
    "d = ddb[ddb.seekhelpfever.notna() & ddb.dwelling.notna()].groupby(['stratumid', 'treatment']).agg({'seekhelpfever': 'mean', 'userid': 'count'}).reset_index()\n",
    "\n",
    "smf.ols('seekhelpfever ~ treatment', d).fit().summary()"
   ]
  },
  {
   "cell_type": "code",
   "execution_count": null,
   "metadata": {
    "collapsed": false
   },
   "outputs": [],
   "source": [
    "sns.histplot(dd, x='delta', hue=\"treatment\", bins=30, kde=True)"
   ]
  },
  {
   "cell_type": "code",
   "execution_count": null,
   "metadata": {
    "collapsed": false
   },
   "outputs": [],
   "source": []
  },
  {
   "cell_type": "code",
   "execution_count": 892,
   "metadata": {
    "collapsed": false
   },
   "outputs": [
    {
     "data": {
      "text/plain": [
       "<AxesSubplot:xlabel='seekhelpfever', ylabel='Count'>"
      ]
     },
     "execution_count": 892,
     "metadata": {},
     "output_type": "execute_result"
    },
    {
     "data": {
      "image/png": "[encoded data removed]",
      "text/plain": [
       "<Figure size 432x288 with 1 Axes>"
      ]
     },
     "metadata": {
      "needs_background": "light"
     },
     "output_type": "display_data"
    }
   ],
   "source": [
    "da = dda[(dda.week <= 34) & dda.seekhelpfever.notna()].groupby(['stratumid', 'treatment']).agg({'seekhelpfever': 'mean', 'userid': 'count'}).reset_index()\n",
    "sns.histplot(da, x='seekhelpfever', hue=\"treatment\", bins=30, kde=True)"
   ]
  },
  {
   "cell_type": "code",
   "execution_count": 870,
   "metadata": {
    "collapsed": false
   },
   "outputs": [
    {
     "data": {
      "text/html": [
       "<table class=\"simpletable\">\n",
       "<caption>OLS Regression Results</caption>\n",
       "<tr>\n",
       "  <th>Dep. Variable:</th>      <td>seekhelpfever</td>  <th>  R-squared:         </th> <td>   0.055</td>\n",
       "</tr>\n",
       "<tr>\n",
       "  <th>Model:</th>                   <td>OLS</td>       <th>  Adj. R-squared:    </th> <td>   0.043</td>\n",
       "</tr>\n",
       "<tr>\n",
       "  <th>Method:</th>             <td>Least Squares</td>  <th>  F-statistic:       </th> <td>   4.573</td>\n",
       "</tr>\n",
       "<tr>\n",
       "  <th>Date:</th>             <td>Tue, 13 Apr 2021</td> <th>  Prob (F-statistic):</th>  <td>0.0356</td> \n",
       "</tr>\n",
       "<tr>\n",
       "  <th>Time:</th>                 <td>13:57:15</td>     <th>  Log-Likelihood:    </th> <td>  30.077</td>\n",
       "</tr>\n",
       "<tr>\n",
       "  <th>No. Observations:</th>      <td>    80</td>      <th>  AIC:               </th> <td>  -56.15</td>\n",
       "</tr>\n",
       "<tr>\n",
       "  <th>Df Residuals:</th>          <td>    78</td>      <th>  BIC:               </th> <td>  -51.39</td>\n",
       "</tr>\n",
       "<tr>\n",
       "  <th>Df Model:</th>              <td>     1</td>      <th>                     </th>     <td> </td>   \n",
       "</tr>\n",
       "<tr>\n",
       "  <th>Covariance Type:</th>      <td>nonrobust</td>    <th>                     </th>     <td> </td>   \n",
       "</tr>\n",
       "</table>\n",
       "<table class=\"simpletable\">\n",
       "<tr>\n",
       "      <td></td>         <th>coef</th>     <th>std err</th>      <th>t</th>      <th>P>|t|</th>  <th>[0.025</th>    <th>0.975]</th>  \n",
       "</tr>\n",
       "<tr>\n",
       "  <th>Intercept</th> <td>    0.8599</td> <td>    0.027</td> <td>   32.322</td> <td> 0.000</td> <td>    0.807</td> <td>    0.913</td>\n",
       "</tr>\n",
       "<tr>\n",
       "  <th>treatment</th> <td>   -0.0805</td> <td>    0.038</td> <td>   -2.138</td> <td> 0.036</td> <td>   -0.155</td> <td>   -0.006</td>\n",
       "</tr>\n",
       "</table>\n",
       "<table class=\"simpletable\">\n",
       "<tr>\n",
       "  <th>Omnibus:</th>       <td> 9.802</td> <th>  Durbin-Watson:     </th> <td>   2.355</td>\n",
       "</tr>\n",
       "<tr>\n",
       "  <th>Prob(Omnibus):</th> <td> 0.007</td> <th>  Jarque-Bera (JB):  </th> <td>   9.752</td>\n",
       "</tr>\n",
       "<tr>\n",
       "  <th>Skew:</th>          <td>-0.827</td> <th>  Prob(JB):          </th> <td> 0.00763</td>\n",
       "</tr>\n",
       "<tr>\n",
       "  <th>Kurtosis:</th>      <td> 3.439</td> <th>  Cond. No.          </th> <td>    2.62</td>\n",
       "</tr>\n",
       "</table><br/><br/>Notes:<br/>[1] Standard Errors assume that the covariance matrix of the errors is correctly specified."
      ],
      "text/plain": [
       "<class 'statsmodels.iolib.summary.Summary'>\n",
       "\"\"\"\n",
       "                            OLS Regression Results                            \n",
       "==============================================================================\n",
       "Dep. Variable:          seekhelpfever   R-squared:                       0.055\n",
       "Model:                            OLS   Adj. R-squared:                  0.043\n",
       "Method:                 Least Squares   F-statistic:                     4.573\n",
       "Date:                Tue, 13 Apr 2021   Prob (F-statistic):             0.0356\n",
       "Time:                        13:57:15   Log-Likelihood:                 30.077\n",
       "No. Observations:                  80   AIC:                            -56.15\n",
       "Df Residuals:                      78   BIC:                            -51.39\n",
       "Df Model:                           1                                         \n",
       "Covariance Type:            nonrobust                                         \n",
       "==============================================================================\n",
       "                 coef    std err          t      P>|t|      [0.025      0.975]\n",
       "------------------------------------------------------------------------------\n",
       "Intercept      0.8599      0.027     32.322      0.000       0.807       0.913\n",
       "treatment     -0.0805      0.038     -2.138      0.036      -0.155      -0.006\n",
       "==============================================================================\n",
       "Omnibus:                        9.802   Durbin-Watson:                   2.355\n",
       "Prob(Omnibus):                  0.007   Jarque-Bera (JB):                9.752\n",
       "Skew:                          -0.827   Prob(JB):                      0.00763\n",
       "Kurtosis:                       3.439   Cond. No.                         2.62\n",
       "==============================================================================\n",
       "\n",
       "Notes:\n",
       "[1] Standard Errors assume that the covariance matrix of the errors is correctly specified.\n",
       "\"\"\""
      ]
     },
     "execution_count": 870,
     "metadata": {},
     "output_type": "execute_result"
    }
   ],
   "source": [
    "smf.ols('seekhelpfever ~ treatment', da).fit().summary()"
   ]
  },
  {
   "cell_type": "code",
   "execution_count": 896,
   "metadata": {
    "collapsed": false
   },
   "outputs": [
    {
     "data": {
      "text/plain": [
       "<AxesSubplot:xlabel='seekhelpfever', ylabel='Count'>"
      ]
     },
     "execution_count": 896,
     "metadata": {},
     "output_type": "execute_result"
    },
    {
     "data": {
      "image/png": "[encoded data removed]",
      "text/plain": [
       "<Figure size 432x288 with 1 Axes>"
      ]
     },
     "metadata": {
      "needs_background": "light"
     },
     "output_type": "display_data"
    }
   ],
   "source": [
    "daa = dda[(dda.week >= 38) & dda.seekhelpfever.notna()].groupby(['stratumid', 'treatment']).agg({'seekhelpfever': 'mean', 'userid': 'count'}).reset_index()\n",
    "sns.histplot(da, x='seekhelpfever', hue=\"treatment\", bins=30, kde=True)"
   ]
  },
  {
   "cell_type": "code",
   "execution_count": null,
   "metadata": {
    "collapsed": false
   },
   "outputs": [],
   "source": [
    "ddmerge = da.rename(columns = {'seekhelpfever': 'pre_seekhelpfever'}).merge(daa[['stratumid', 'seekhelpfever']], on=['stratumid'])\n",
    "\n",
    "ddmerge['delta'] = ddmerge.seekhelpfever - ddmerge.pre_seekhelpfever\n",
    "\n",
    "smf.ols('delta ~ treatment', ddmerge).fit().summary()"
   ]
  },
  {
   "cell_type": "code",
   "execution_count": 886,
   "metadata": {
    "collapsed": false
   },
   "outputs": [
    {
     "data": {
      "text/html": [
       "<table class=\"simpletable\">\n",
       "<caption>OLS Regression Results</caption>\n",
       "<tr>\n",
       "  <th>Dep. Variable:</th>      <td>seekhelpfever</td>  <th>  R-squared:         </th> <td>   0.001</td>\n",
       "</tr>\n",
       "<tr>\n",
       "  <th>Model:</th>                   <td>OLS</td>       <th>  Adj. R-squared:    </th> <td>  -0.012</td>\n",
       "</tr>\n",
       "<tr>\n",
       "  <th>Method:</th>             <td>Least Squares</td>  <th>  F-statistic:       </th> <td> 0.05265</td>\n",
       "</tr>\n",
       "<tr>\n",
       "  <th>Date:</th>             <td>Tue, 13 Apr 2021</td> <th>  Prob (F-statistic):</th>  <td> 0.819</td> \n",
       "</tr>\n",
       "<tr>\n",
       "  <th>Time:</th>                 <td>13:59:00</td>     <th>  Log-Likelihood:    </th> <td>  58.499</td>\n",
       "</tr>\n",
       "<tr>\n",
       "  <th>No. Observations:</th>      <td>    80</td>      <th>  AIC:               </th> <td>  -113.0</td>\n",
       "</tr>\n",
       "<tr>\n",
       "  <th>Df Residuals:</th>          <td>    78</td>      <th>  BIC:               </th> <td>  -108.2</td>\n",
       "</tr>\n",
       "<tr>\n",
       "  <th>Df Model:</th>              <td>     1</td>      <th>                     </th>     <td> </td>   \n",
       "</tr>\n",
       "<tr>\n",
       "  <th>Covariance Type:</th>      <td>nonrobust</td>    <th>                     </th>     <td> </td>   \n",
       "</tr>\n",
       "</table>\n",
       "<table class=\"simpletable\">\n",
       "<tr>\n",
       "      <td></td>         <th>coef</th>     <th>std err</th>      <th>t</th>      <th>P>|t|</th>  <th>[0.025</th>    <th>0.975]</th>  \n",
       "</tr>\n",
       "<tr>\n",
       "  <th>Intercept</th> <td>    0.8742</td> <td>    0.019</td> <td>   46.875</td> <td> 0.000</td> <td>    0.837</td> <td>    0.911</td>\n",
       "</tr>\n",
       "<tr>\n",
       "  <th>treatment</th> <td>    0.0061</td> <td>    0.026</td> <td>    0.229</td> <td> 0.819</td> <td>   -0.046</td> <td>    0.059</td>\n",
       "</tr>\n",
       "</table>\n",
       "<table class=\"simpletable\">\n",
       "<tr>\n",
       "  <th>Omnibus:</th>       <td> 9.253</td> <th>  Durbin-Watson:     </th> <td>   1.496</td>\n",
       "</tr>\n",
       "<tr>\n",
       "  <th>Prob(Omnibus):</th> <td> 0.010</td> <th>  Jarque-Bera (JB):  </th> <td>   9.759</td>\n",
       "</tr>\n",
       "<tr>\n",
       "  <th>Skew:</th>          <td>-0.855</td> <th>  Prob(JB):          </th> <td> 0.00760</td>\n",
       "</tr>\n",
       "<tr>\n",
       "  <th>Kurtosis:</th>      <td> 3.030</td> <th>  Cond. No.          </th> <td>    2.62</td>\n",
       "</tr>\n",
       "</table><br/><br/>Notes:<br/>[1] Standard Errors assume that the covariance matrix of the errors is correctly specified."
      ],
      "text/plain": [
       "<class 'statsmodels.iolib.summary.Summary'>\n",
       "\"\"\"\n",
       "                            OLS Regression Results                            \n",
       "==============================================================================\n",
       "Dep. Variable:          seekhelpfever   R-squared:                       0.001\n",
       "Model:                            OLS   Adj. R-squared:                 -0.012\n",
       "Method:                 Least Squares   F-statistic:                   0.05265\n",
       "Date:                Tue, 13 Apr 2021   Prob (F-statistic):              0.819\n",
       "Time:                        13:59:00   Log-Likelihood:                 58.499\n",
       "No. Observations:                  80   AIC:                            -113.0\n",
       "Df Residuals:                      78   BIC:                            -108.2\n",
       "Df Model:                           1                                         \n",
       "Covariance Type:            nonrobust                                         \n",
       "==============================================================================\n",
       "                 coef    std err          t      P>|t|      [0.025      0.975]\n",
       "------------------------------------------------------------------------------\n",
       "Intercept      0.8742      0.019     46.875      0.000       0.837       0.911\n",
       "treatment      0.0061      0.026      0.229      0.819      -0.046       0.059\n",
       "==============================================================================\n",
       "Omnibus:                        9.253   Durbin-Watson:                   1.496\n",
       "Prob(Omnibus):                  0.010   Jarque-Bera (JB):                9.759\n",
       "Skew:                          -0.855   Prob(JB):                      0.00760\n",
       "Kurtosis:                       3.030   Cond. No.                         2.62\n",
       "==============================================================================\n",
       "\n",
       "Notes:\n",
       "[1] Standard Errors assume that the covariance matrix of the errors is correctly specified.\n",
       "\"\"\""
      ]
     },
     "execution_count": 886,
     "metadata": {},
     "output_type": "execute_result"
    }
   ],
   "source": [
    "smf.ols('seekhelpfever ~ treatment', da).fit().summary()"
   ]
  },
  {
   "cell_type": "code",
   "execution_count": null,
   "metadata": {
    "collapsed": false
   },
   "outputs": [],
   "source": [
    "sns.histplot(d, x='seekhelpfever', hue=\"treatment\", bins=30, kde=True)"
   ]
  },
  {
   "cell_type": "code",
   "execution_count": 679,
   "metadata": {
    "collapsed": false
   },
   "outputs": [],
   "source": [
    "permutations = pd.read_csv('outs/cluster-assignments-2.csv').values"
   ]
  },
  {
   "cell_type": "code",
   "execution_count": 702,
   "metadata": {
    "collapsed": false
   },
   "outputs": [],
   "source": [
    "\n",
    "@curry\n",
    "def calc_te(df, t):\n",
    "    vals = df.assign(treatment = t).groupby('treatment').mean().reset_index().sort_values('treatment').seekhelpfever.values\n",
    "    return vals[1] - vals[0]\n",
    "\n",
    "\n",
    "tes = np.array([calc_te(d)(permutations[:, i]) for i in range(1000)])"
   ]
  },
  {
   "cell_type": "code",
   "execution_count": 703,
   "metadata": {
    "collapsed": false
   },
   "outputs": [
    {
     "data": {
      "text/plain": [
       "<seaborn.axisgrid.FacetGrid at 0x7f206a02c940>"
      ]
     },
     "execution_count": 703,
     "metadata": {},
     "output_type": "execute_result"
    },
    {
     "data": {
      "image/png": "[encoded data removed]",
      "text/plain": [
       "<Figure size 360x360 with 1 Axes>"
      ]
     },
     "metadata": {
      "needs_background": "light"
     },
     "output_type": "display_data"
    }
   ],
   "source": [
    "sns.displot(tes, bins=30)"
   ]
  },
  {
   "cell_type": "code",
   "execution_count": 704,
   "metadata": {
    "collapsed": false
   },
   "outputs": [
    {
     "data": {
      "text/plain": [
       "0.042"
      ]
     },
     "execution_count": 704,
     "metadata": {},
     "output_type": "execute_result"
    }
   ],
   "source": [
    "((tes >= .0249).sum() + (tes <= -0.0249).sum()) / tes.shape[0]"
   ]
  },
  {
   "cell_type": "code",
   "execution_count": 714,
   "metadata": {
    "collapsed": false
   },
   "outputs": [
    {
     "data": {
      "text/plain": [
       "<seaborn.axisgrid.FacetGrid at 0x7f20702aec40>"
      ]
     },
     "execution_count": 714,
     "metadata": {},
     "output_type": "execute_result"
    },
    {
     "data": {
      "image/png": "[encoded data removed]",
      "text/plain": [
       "<Figure size 360x360 with 1 Axes>"
      ]
     },
     "metadata": {
      "needs_background": "light"
     },
     "output_type": "display_data"
    }
   ],
   "source": [
    "sns.displot(ddb[ddb.seekhelpfever.notna()].groupby('stratumid').count().userid.sort_values(), bins=20)"
   ]
  },
  {
   "cell_type": "code",
   "execution_count": null,
   "metadata": {
    "collapsed": false
   },
   "outputs": [],
   "source": [
    "@curry\n",
    "def calc_te(df, ta, t):\n",
    "    vals = df.drop(columns=['treatment']) \\\n",
    "             .merge(ta.assign(treatment = t), left_on='stratumid', right_on='disthash') \\\n",
    "             .groupby('treatment') \\\n",
    "             .mean() \\\n",
    "             .reset_index() \\\n",
    "             .sort_values('treatment') \\\n",
    "             .seekhelpfever \\\n",
    "             .values\n",
    "\n",
    "    return vals[1] - vals[0]\n",
    "\n",
    "\n",
    "tes = np.array([calc_te(ddb[(ddb.wave == '0') & ddb.kutcha & ddb.dwelling.notna()], treatment_assignment)(permutations[:, i]) for i in range(1000)])"
   ]
  },
  {
   "cell_type": "code",
   "execution_count": null,
   "metadata": {
    "collapsed": false
   },
   "outputs": [],
   "source": [
    "sns.displot(tes, bins=30)"
   ]
  },
  {
   "cell_type": "code",
   "execution_count": null,
   "metadata": {
    "collapsed": false
   },
   "outputs": [],
   "source": [
    "te_group = calc_te(ddb, treatment_assignment, treatment_assignment.treatment.values)"
   ]
  },
  {
   "cell_type": "code",
   "execution_count": null,
   "metadata": {
    "collapsed": false
   },
   "outputs": [],
   "source": [
    "te_group"
   ]
  },
  {
   "cell_type": "code",
   "execution_count": null,
   "metadata": {
    "collapsed": false
   },
   "outputs": [],
   "source": [
    "((tes > te_group).sum() + (tes < -te_group).sum()) / tes.shape[0]"
   ]
  },
  {
   "cell_type": "code",
   "execution_count": 644,
   "metadata": {
    "collapsed": false
   },
   "outputs": [
    {
     "data": {
      "text/plain": [
       "treatment  seekhelpfever\n",
       "0          1.0              0.825905\n",
       "           0.0              0.174095\n",
       "1          1.0              0.791606\n",
       "           0.0              0.208394\n",
       "Name: seekhelpfever, dtype: float64"
      ]
     },
     "execution_count": 644,
     "metadata": {},
     "output_type": "execute_result"
    }
   ],
   "source": [
    "dda.groupby('treatment').seekhelpfever.value_counts(normalize=True)"
   ]
  },
  {
   "cell_type": "code",
   "execution_count": 645,
   "metadata": {
    "collapsed": false
   },
   "outputs": [
    {
     "data": {
      "text/plain": [
       "treatment  seekhelpfever\n",
       "0          1.0              0.938482\n",
       "           0.0              0.061518\n",
       "1          1.0              0.958275\n",
       "           0.0              0.041725\n",
       "Name: seekhelpfever, dtype: float64"
      ]
     },
     "execution_count": 645,
     "metadata": {},
     "output_type": "execute_result"
    }
   ],
   "source": [
    "ddb.groupby('treatment').seekhelpfever.value_counts(normalize=True)"
   ]
  },
  {
   "cell_type": "code",
   "execution_count": null,
   "metadata": {
    "collapsed": false
   },
   "outputs": [],
   "source": [
    "\n",
    "vv = v.groupby('pair_id').head(1).reset_index(drop=True)\n",
    "\n",
    "smf.ols('delta ~ 1', vv).fit().summary()"
   ]
  },
  {
   "cell_type": "code",
   "execution_count": 308,
   "metadata": {
    "collapsed": false
   },
   "outputs": [
    {
     "data": {
      "text/plain": [
       "0.02590120769547678"
      ]
     },
     "execution_count": 308,
     "metadata": {},
     "output_type": "execute_result"
    }
   ],
   "source": [
    "np.mean(vv.delta)"
   ]
  },
  {
   "cell_type": "code",
   "execution_count": null,
   "metadata": {
    "collapsed": false
   },
   "outputs": [],
   "source": [
    "np.sqrt(np.var(vv.delta)) / np.sqrt(vv.shape[0] - 1)"
   ]
  },
  {
   "cell_type": "code",
   "execution_count": 280,
   "metadata": {
    "collapsed": false
   },
   "outputs": [
    {
     "data": {
      "text/plain": [
       "0.2301406717356983"
      ]
     },
     "execution_count": 280,
     "metadata": {},
     "output_type": "execute_result"
    }
   ],
   "source": [
    "v = d[d.pucca == False].groupby(['stratumid', 'treatment']).agg({'seekhelpfever': 'mean', 'userid': 'count'}).reset_index()\n",
    "\n",
    "np.sqrt(v[v.treatment == 1].seekhelpfever.var() + v[v.treatment == 0].seekhelpfever.var())"
   ]
  },
  {
   "cell_type": "code",
   "execution_count": null,
   "metadata": {
    "collapsed": false
   },
   "outputs": [],
   "source": [
    "import scipy\n",
    "\n",
    "scipy.stats.t.pdf(13.4, 7, 0, 13.1)"
   ]
  },
  {
   "cell_type": "code",
   "execution_count": 306,
   "metadata": {
    "collapsed": false
   },
   "outputs": [],
   "source": [
    "\n",
    "v = d[d.pucca == False] \\\n",
    "    .groupby(['stratumid', 'treatment']) \\\n",
    "    .agg({'seekhelpfever': 'mean', 'userid': 'count'}) \\\n",
    "    .rename(columns={'userid': 'count'}) \\\n",
    "    .pipe(lambda df: df.assign(rank = center(rankdata(df.seekhelpfever)))) \\\n",
    "    .reset_index() \\\n",
    "    .merge(pair_lookup) \\\n",
    "    .groupby('pair_id') \\\n",
    "    .apply(lambda df: dif(df, 'seekhelpfever')) \\\n",
    "    .reset_index(drop=True) \\\n",
    "    .sort_values('count')\n",
    "\n",
    "# np.mean(v.delta)\n",
    "\n",
    "# sns.distplot(v.delta, bins=20)"
   ]
  },
  {
   "cell_type": "code",
   "execution_count": null,
   "metadata": {
    "collapsed": false
   },
   "outputs": [],
   "source": [
    "# build a sense of statistical uncertainty per cluster\n",
    "# increase repr in that cluster\n",
    "with pd.option_context(\"display.max_rows\", 160, \"display.max_columns\", 10):\n",
    "    display(v)"
   ]
  },
  {
   "cell_type": "code",
   "execution_count": null,
   "metadata": {
    "collapsed": false
   },
   "outputs": [],
   "source": [
    "\n",
    "\n",
    "d[d.pucca == False] \\\n",
    "    .groupby(['stratumid', 'treatment']) \\\n",
    "    .agg({'seekhelpfever': 'mean', 'userid': 'count'}) \\\n",
    "    .rename(columns={'userid': 'count'}) \\\n",
    "    .reset_index() \\\n",
    "    .merge(pair_lookup) \\\n",
    "    .sort_values('seekhelpfever') \\\n"
   ]
  },
  {
   "cell_type": "code",
   "execution_count": 86,
   "metadata": {
    "collapsed": false
   },
   "outputs": [
    {
     "data": {
      "text/plain": [
       "0.002882574759349029"
      ]
     },
     "execution_count": 86,
     "metadata": {},
     "output_type": "execute_result"
    }
   ],
   "source": [
    "v = d.groupby(['stratumid', 'treatment']).malaria4months.mean().reset_index().merge(pair_lookup).groupby('pair_id').apply(lambda df: dif(df, 'malaria4months')).delta.values\n",
    "\n",
    "np.mean(v)"
   ]
  },
  {
   "cell_type": "code",
   "execution_count": 923,
   "metadata": {
    "collapsed": false
   },
   "outputs": [],
   "source": [
    "def aggs(df, sums, anys, means):\n",
    "    r = df.iloc[0]\n",
    "    # fil = df.wave > 1\n",
    "    fil = df.week < 36 # 36 = first week of september\n",
    "    for var in sums:\n",
    "        r[var] = df[(fil)][var].sum()\n",
    "    for var in anys:\n",
    "        r[var] = int(df[(fil)][var].sum() > 0)\n",
    "    for var in means:\n",
    "        r[var] = df[(fil)][var].mean()\n",
    "\n",
    "    r['wave'] = None\n",
    "    r['waves_answered'] = df[(fil)].shape[0]\n",
    "    return r\n",
    "\n",
    "\n",
    "# feature matrix\n",
    "\n",
    "# user, sum bednet sleeps in follows, if malaria at any point, binary controls (malaria in last 5 years?)\n",
    "\n",
    "mat = dda \\\n",
    "    .sort_values('week') \\\n",
    "    .groupby('userid') \\\n",
    "    .apply(lambda df: aggs(df, \n",
    "                           sums=['fever2weeks', 'seekhelpfever'], \n",
    "                           anys=['malaria2weeks'], \n",
    "                           means=['sleepundernet', 'longsleeves', 'bednet_share'])) \\\n",
    "    .reset_index(drop=True) \\\n",
    "    .dropna(subset=['sleepundernet'])\n",
    "\n"
   ]
  },
  {
   "cell_type": "code",
   "execution_count": null,
   "metadata": {
    "collapsed": false
   },
   "outputs": [],
   "source": []
  },
  {
   "cell_type": "code",
   "execution_count": 926,
   "metadata": {
    "collapsed": false
   },
   "outputs": [],
   "source": [
    "mat['seekhelp_if_fever'] = mat.seekhelpfever / mat.fever2weeks"
   ]
  },
  {
   "cell_type": "code",
   "execution_count": 921,
   "metadata": {
    "collapsed": false
   },
   "outputs": [
    {
     "data": {
      "text/plain": [
       "treatment  seekhelp_if_fever\n",
       "0          1.000000             0.880184\n",
       "           0.000000             0.110599\n",
       "           0.500000             0.009217\n",
       "1          1.000000             0.862944\n",
       "           0.000000             0.111675\n",
       "           0.500000             0.010152\n",
       "           0.333333             0.005076\n",
       "           0.666667             0.005076\n",
       "           0.750000             0.005076\n",
       "Name: seekhelp_if_fever, dtype: float64"
      ]
     },
     "execution_count": 921,
     "metadata": {},
     "output_type": "execute_result"
    }
   ],
   "source": [
    "mat.groupby('treatment')['seekhelp_if_fever'].value_counts(normalize=True)"
   ]
  },
  {
   "cell_type": "code",
   "execution_count": 927,
   "metadata": {
    "collapsed": false
   },
   "outputs": [
    {
     "data": {
      "text/plain": [
       "treatment  seekhelp_if_fever\n",
       "0          1.0                  0.855556\n",
       "           0.0                  0.136111\n",
       "           0.5                  0.008333\n",
       "1          1.0                  0.786280\n",
       "           0.0                  0.200528\n",
       "           0.5                  0.013193\n",
       "Name: seekhelp_if_fever, dtype: float64"
      ]
     },
     "execution_count": 927,
     "metadata": {},
     "output_type": "execute_result"
    }
   ],
   "source": [
    "mat.groupby('treatment')['seekhelp_if_fever'].value_counts(normalize=True)"
   ]
  },
  {
   "cell_type": "code",
   "execution_count": 922,
   "metadata": {
    "collapsed": false
   },
   "outputs": [
    {
     "data": {
      "text/html": [
       "<table class=\"simpletable\">\n",
       "<caption>OLS Regression Results</caption>\n",
       "<tr>\n",
       "  <th>Dep. Variable:</th>    <td>seekhelp_if_fever</td> <th>  R-squared:         </th> <td>   0.000</td>\n",
       "</tr>\n",
       "<tr>\n",
       "  <th>Model:</th>                   <td>OLS</td>        <th>  Adj. R-squared:    </th> <td>  -0.002</td>\n",
       "</tr>\n",
       "<tr>\n",
       "  <th>Method:</th>             <td>Least Squares</td>   <th>  F-statistic:       </th> <td> 0.06341</td>\n",
       "</tr>\n",
       "<tr>\n",
       "  <th>Date:</th>             <td>Tue, 13 Apr 2021</td>  <th>  Prob (F-statistic):</th>  <td> 0.801</td> \n",
       "</tr>\n",
       "<tr>\n",
       "  <th>Time:</th>                 <td>14:11:02</td>      <th>  Log-Likelihood:    </th> <td> -112.56</td>\n",
       "</tr>\n",
       "<tr>\n",
       "  <th>No. Observations:</th>      <td>   414</td>       <th>  AIC:               </th> <td>   229.1</td>\n",
       "</tr>\n",
       "<tr>\n",
       "  <th>Df Residuals:</th>          <td>   412</td>       <th>  BIC:               </th> <td>   237.2</td>\n",
       "</tr>\n",
       "<tr>\n",
       "  <th>Df Model:</th>              <td>     1</td>       <th>                     </th>     <td> </td>   \n",
       "</tr>\n",
       "<tr>\n",
       "  <th>Covariance Type:</th>      <td>nonrobust</td>     <th>                     </th>     <td> </td>   \n",
       "</tr>\n",
       "</table>\n",
       "<table class=\"simpletable\">\n",
       "<tr>\n",
       "      <td></td>         <th>coef</th>     <th>std err</th>      <th>t</th>      <th>P>|t|</th>  <th>[0.025</th>    <th>0.975]</th>  \n",
       "</tr>\n",
       "<tr>\n",
       "  <th>Intercept</th> <td>    0.8848</td> <td>    0.022</td> <td>   40.943</td> <td> 0.000</td> <td>    0.842</td> <td>    0.927</td>\n",
       "</tr>\n",
       "<tr>\n",
       "  <th>treatment</th> <td>   -0.0079</td> <td>    0.031</td> <td>   -0.252</td> <td> 0.801</td> <td>   -0.069</td> <td>    0.054</td>\n",
       "</tr>\n",
       "</table>\n",
       "<table class=\"simpletable\">\n",
       "<tr>\n",
       "  <th>Omnibus:</th>       <td>195.942</td> <th>  Durbin-Watson:     </th> <td>   2.089</td> \n",
       "</tr>\n",
       "<tr>\n",
       "  <th>Prob(Omnibus):</th> <td> 0.000</td>  <th>  Jarque-Bera (JB):  </th> <td> 611.742</td> \n",
       "</tr>\n",
       "<tr>\n",
       "  <th>Skew:</th>          <td>-2.356</td>  <th>  Prob(JB):          </th> <td>1.45e-133</td>\n",
       "</tr>\n",
       "<tr>\n",
       "  <th>Kurtosis:</th>      <td> 6.641</td>  <th>  Cond. No.          </th> <td>    2.57</td> \n",
       "</tr>\n",
       "</table><br/><br/>Notes:<br/>[1] Standard Errors assume that the covariance matrix of the errors is correctly specified."
      ],
      "text/plain": [
       "<class 'statsmodels.iolib.summary.Summary'>\n",
       "\"\"\"\n",
       "                            OLS Regression Results                            \n",
       "==============================================================================\n",
       "Dep. Variable:      seekhelp_if_fever   R-squared:                       0.000\n",
       "Model:                            OLS   Adj. R-squared:                 -0.002\n",
       "Method:                 Least Squares   F-statistic:                   0.06341\n",
       "Date:                Tue, 13 Apr 2021   Prob (F-statistic):              0.801\n",
       "Time:                        14:11:02   Log-Likelihood:                -112.56\n",
       "No. Observations:                 414   AIC:                             229.1\n",
       "Df Residuals:                     412   BIC:                             237.2\n",
       "Df Model:                           1                                         \n",
       "Covariance Type:            nonrobust                                         \n",
       "==============================================================================\n",
       "                 coef    std err          t      P>|t|      [0.025      0.975]\n",
       "------------------------------------------------------------------------------\n",
       "Intercept      0.8848      0.022     40.943      0.000       0.842       0.927\n",
       "treatment     -0.0079      0.031     -0.252      0.801      -0.069       0.054\n",
       "==============================================================================\n",
       "Omnibus:                      195.942   Durbin-Watson:                   2.089\n",
       "Prob(Omnibus):                  0.000   Jarque-Bera (JB):              611.742\n",
       "Skew:                          -2.356   Prob(JB):                    1.45e-133\n",
       "Kurtosis:                       6.641   Cond. No.                         2.57\n",
       "==============================================================================\n",
       "\n",
       "Notes:\n",
       "[1] Standard Errors assume that the covariance matrix of the errors is correctly specified.\n",
       "\"\"\""
      ]
     },
     "execution_count": 922,
     "metadata": {},
     "output_type": "execute_result"
    }
   ],
   "source": [
    "smf.ols('seekhelp_if_fever ~ treatment', mat).fit().summary()"
   ]
  },
  {
   "cell_type": "code",
   "execution_count": 1130,
   "metadata": {
    "collapsed": false
   },
   "outputs": [
    {
     "data": {
      "text/html": [
       "<table class=\"simpletable\">\n",
       "<caption>OLS Regression Results</caption>\n",
       "<tr>\n",
       "  <th>Dep. Variable:</th>    <td>seekhelp_if_fever</td> <th>  R-squared:         </th> <td>   0.008</td>\n",
       "</tr>\n",
       "<tr>\n",
       "  <th>Model:</th>                   <td>OLS</td>        <th>  Adj. R-squared:    </th> <td>   0.007</td>\n",
       "</tr>\n",
       "<tr>\n",
       "  <th>Method:</th>             <td>Least Squares</td>   <th>  F-statistic:       </th> <td>   5.866</td>\n",
       "</tr>\n",
       "<tr>\n",
       "  <th>Date:</th>             <td>Wed, 14 Apr 2021</td>  <th>  Prob (F-statistic):</th>  <td>0.0157</td> \n",
       "</tr>\n",
       "<tr>\n",
       "  <th>Time:</th>                 <td>08:17:56</td>      <th>  Log-Likelihood:    </th> <td> -322.82</td>\n",
       "</tr>\n",
       "<tr>\n",
       "  <th>No. Observations:</th>      <td>   739</td>       <th>  AIC:               </th> <td>   649.6</td>\n",
       "</tr>\n",
       "<tr>\n",
       "  <th>Df Residuals:</th>          <td>   737</td>       <th>  BIC:               </th> <td>   658.8</td>\n",
       "</tr>\n",
       "<tr>\n",
       "  <th>Df Model:</th>              <td>     1</td>       <th>                     </th>     <td> </td>   \n",
       "</tr>\n",
       "<tr>\n",
       "  <th>Covariance Type:</th>      <td>nonrobust</td>     <th>                     </th>     <td> </td>   \n",
       "</tr>\n",
       "</table>\n",
       "<table class=\"simpletable\">\n",
       "<tr>\n",
       "      <td></td>         <th>coef</th>     <th>std err</th>      <th>t</th>      <th>P>|t|</th>  <th>[0.025</th>    <th>0.975]</th>  \n",
       "</tr>\n",
       "<tr>\n",
       "  <th>Intercept</th> <td>    0.8597</td> <td>    0.020</td> <td>   43.496</td> <td> 0.000</td> <td>    0.821</td> <td>    0.899</td>\n",
       "</tr>\n",
       "<tr>\n",
       "  <th>treatment</th> <td>   -0.0668</td> <td>    0.028</td> <td>   -2.422</td> <td> 0.016</td> <td>   -0.121</td> <td>   -0.013</td>\n",
       "</tr>\n",
       "</table>\n",
       "<table class=\"simpletable\">\n",
       "<tr>\n",
       "  <th>Omnibus:</th>       <td>199.896</td> <th>  Durbin-Watson:     </th> <td>   2.087</td>\n",
       "</tr>\n",
       "<tr>\n",
       "  <th>Prob(Omnibus):</th> <td> 0.000</td>  <th>  Jarque-Bera (JB):  </th> <td> 381.981</td>\n",
       "</tr>\n",
       "<tr>\n",
       "  <th>Skew:</th>          <td>-1.695</td>  <th>  Prob(JB):          </th> <td>1.13e-83</td>\n",
       "</tr>\n",
       "<tr>\n",
       "  <th>Kurtosis:</th>      <td> 3.959</td>  <th>  Cond. No.          </th> <td>    2.65</td>\n",
       "</tr>\n",
       "</table><br/><br/>Notes:<br/>[1] Standard Errors assume that the covariance matrix of the errors is correctly specified."
      ],
      "text/plain": [
       "<class 'statsmodels.iolib.summary.Summary'>\n",
       "\"\"\"\n",
       "                            OLS Regression Results                            \n",
       "==============================================================================\n",
       "Dep. Variable:      seekhelp_if_fever   R-squared:                       0.008\n",
       "Model:                            OLS   Adj. R-squared:                  0.007\n",
       "Method:                 Least Squares   F-statistic:                     5.866\n",
       "Date:                Wed, 14 Apr 2021   Prob (F-statistic):             0.0157\n",
       "Time:                        08:17:56   Log-Likelihood:                -322.82\n",
       "No. Observations:                 739   AIC:                             649.6\n",
       "Df Residuals:                     737   BIC:                             658.8\n",
       "Df Model:                           1                                         \n",
       "Covariance Type:            nonrobust                                         \n",
       "==============================================================================\n",
       "                 coef    std err          t      P>|t|      [0.025      0.975]\n",
       "------------------------------------------------------------------------------\n",
       "Intercept      0.8597      0.020     43.496      0.000       0.821       0.899\n",
       "treatment     -0.0668      0.028     -2.422      0.016      -0.121      -0.013\n",
       "==============================================================================\n",
       "Omnibus:                      199.896   Durbin-Watson:                   2.087\n",
       "Prob(Omnibus):                  0.000   Jarque-Bera (JB):              381.981\n",
       "Skew:                          -1.695   Prob(JB):                     1.13e-83\n",
       "Kurtosis:                       3.959   Cond. No.                         2.65\n",
       "==============================================================================\n",
       "\n",
       "Notes:\n",
       "[1] Standard Errors assume that the covariance matrix of the errors is correctly specified.\n",
       "\"\"\""
      ]
     },
     "execution_count": 1130,
     "metadata": {},
     "output_type": "execute_result"
    }
   ],
   "source": [
    "smf.ols('seekhelp_if_fever ~ treatment', mat).fit().summary()"
   ]
  },
  {
   "cell_type": "code",
   "execution_count": 913,
   "metadata": {
    "collapsed": false
   },
   "outputs": [],
   "source": [
    "def as_type(series, type_):\n",
    "    return series.astype(type_)\n",
    "\n",
    "def quantile(series, q):\n",
    "    return series > series.quantile(q)"
   ]
  },
  {
   "cell_type": "code",
   "execution_count": 64,
   "metadata": {
    "collapsed": false
   },
   "outputs": [],
   "source": [
    "dd['unet'] = dd.under_net.astype(int)"
   ]
  },
  {
   "cell_type": "code",
   "execution_count": 145,
   "metadata": {
    "collapsed": false
   },
   "outputs": [],
   "source": [
    "dd['malaria_now_int'] = dd.malaria_now.astype(int)"
   ]
  },
  {
   "cell_type": "code",
   "execution_count": null,
   "metadata": {
    "collapsed": false
   },
   "outputs": [],
   "source": [
    "dd[dd.wave == 0].malaria_now"
   ]
  },
  {
   "cell_type": "code",
   "execution_count": 412,
   "metadata": {
    "collapsed": false
   },
   "outputs": [
    {
     "data": {
      "text/plain": [
       "1     7306\n",
       "7     5538\n",
       "8     5066\n",
       "9     4568\n",
       "10    2959\n",
       "3     2949\n",
       "6      568\n",
       "5      560\n",
       "11     328\n",
       "4      127\n",
       "2       99\n",
       "Name: week, dtype: int64"
      ]
     },
     "execution_count": 412,
     "metadata": {},
     "output_type": "execute_result"
    }
   ],
   "source": [
    "ddb.week.value_counts("
   ]
  },
  {
   "cell_type": "code",
   "execution_count": 479,
   "metadata": {
    "collapsed": false
   },
   "outputs": [
    {
     "data": {
      "text/html": [
       "<table class=\"simpletable\">\n",
       "<tr>\n",
       "      <td></td>      <th>Type</th> <th>Post. Mean</th> <th>Post. SD</th>  <th>SD</th>   <th>SD (LB)</th> <th>SD (UB)</th>\n",
       "</tr>\n",
       "<tr>\n",
       "  <th>Intercept</th>   <td>M</td>    <td>2.6096</td>    <td>0.1183</td>    <td></td>       <td></td>        <td></td>    \n",
       "</tr>\n",
       "<tr>\n",
       "  <th>treatment</th>   <td>M</td>    <td>0.5308</td>    <td>0.1901</td>    <td></td>       <td></td>        <td></td>    \n",
       "</tr>\n",
       "<tr>\n",
       "  <th>a</th>           <td>V</td>    <td>-0.3955</td>   <td>0.0790</td>  <td>0.673</td>  <td>0.575</td>   <td>0.789</td> \n",
       "</tr>\n",
       "</table>"
      ],
      "text/plain": [
       "<class 'statsmodels.iolib.summary2.Summary'>\n",
       "\"\"\"\n",
       "               Binomial Mixed GLM Results\n",
       "========================================================\n",
       "          Type Post. Mean Post. SD   SD  SD (LB) SD (UB)\n",
       "--------------------------------------------------------\n",
       "Intercept    M     2.6096   0.1183                      \n",
       "treatment    M     0.5308   0.1901                      \n",
       "a            V    -0.3955   0.0790 0.673   0.575   0.789\n",
       "========================================================\n",
       "Parameter types are mean structure (M) and variance\n",
       "structure (V)\n",
       "Variance parameters are modeled as log standard\n",
       "deviations\n",
       "\"\"\""
      ]
     },
     "execution_count": 479,
     "metadata": {},
     "output_type": "execute_result"
    }
   ],
   "source": [
    "m = sm.BinomialBayesMixedGLM.from_formula('seekhelpfever ~ treatment', {'a': '0 + C(stratumid)'}, ddb[(ddb.week < 20) & ddb.dwelling.notna() & ddb.seekhelpfever.notna()])\n",
    "mm = m.fit_vb()\n",
    "\n",
    "mm.summary()"
   ]
  },
  {
   "cell_type": "code",
   "execution_count": 481,
   "metadata": {
    "collapsed": false
   },
   "outputs": [
    {
     "data": {
      "text/plain": [
       "(0.9308615796566533, 0.9581133929422073)"
      ]
     },
     "execution_count": 481,
     "metadata": {},
     "output_type": "execute_result"
    }
   ],
   "source": [
    "expit(2.6), expit(2.6 + .53)"
   ]
  },
  {
   "cell_type": "code",
   "execution_count": 436,
   "metadata": {
    "collapsed": false
   },
   "outputs": [
    {
     "name": "stdout",
     "output_type": "stream",
     "text": [
      "\u001b[33mWARNING: You are using pip version 20.2.3; however, version 21.0.1 is available.\r\n",
      "You should consider upgrading via the '/usr/local/bin/python -m pip install --upgrade pip' command.\u001b[0m\r\n"
     ]
    }
   ],
   "source": [
    "! pip install --quiet bambi"
   ]
  },
  {
   "cell_type": "code",
   "execution_count": 587,
   "metadata": {
    "collapsed": false
   },
   "outputs": [
    {
     "data": {
      "text/plain": [
       "0.0    0.641818\n",
       "1.0    0.358182\n",
       "Name: fever4months, dtype: float64"
      ]
     },
     "execution_count": 587,
     "metadata": {},
     "output_type": "execute_result"
    }
   ],
   "source": [
    "ddb[(ddb.malaria4months == 1)].fever4months.value_counts(normalize=True)"
   ]
  },
  {
   "cell_type": "code",
   "execution_count": 588,
   "metadata": {
    "collapsed": false
   },
   "outputs": [
    {
     "data": {
      "text/plain": [
       "Yes           0.559859\n",
       "No            0.352113\n",
       "Don’t know    0.088028\n",
       "Name: testmalaria, dtype: float64"
      ]
     },
     "execution_count": 588,
     "metadata": {},
     "output_type": "execute_result"
    }
   ],
   "source": [
    "ddb[(ddb.malaria4months == 1)].testmalaria.value_counts(normalize=True)"
   ]
  },
  {
   "cell_type": "code",
   "execution_count": 718,
   "metadata": {
    "collapsed": false
   },
   "outputs": [],
   "source": [
    "d = ddb[ddb.seekhelpfever.notna() & ddb.dwelling.notna()].reset_index(drop=True)\n",
    "d.loc[d.seekhelpfever == 'No', 'timeseekhelpfever'] = 'Did not seek help'\n",
    "d = d.dropna(subset=['timeseekhelpfever']).reset_index(drop=True)"
   ]
  },
  {
   "cell_type": "code",
   "execution_count": 719,
   "metadata": {
    "collapsed": false
   },
   "outputs": [],
   "source": [
    "from pandas.api.types import CategoricalDtype\n",
    " \n",
    "cat_type = CategoricalDtype(categories=['Less than 24 hours', '24-48 hours', 'More than 2 days', 'Did not seek help'], ordered=True)\n",
    "\n",
    "d['timeseekhelpfever'] = d.timeseekhelpfever.astype(cat_type)"
   ]
  },
  {
   "cell_type": "code",
   "execution_count": null,
   "metadata": {
    "collapsed": false
   },
   "outputs": [],
   "source": [
    "import theano.tensor as tt\n",
    "import pymc3 as pm\n",
    "\n",
    "stratumid = d.stratumid.astype('category').cat.codes\n",
    "treatment = d.treatment\n",
    "P = 80\n",
    "y = d.timeseekhelpfever.cat.codes\n",
    "levels = 4\n",
    "\n",
    "with pm.Model() as ordinal_model:\n",
    "    intercept = pm.Normal('intercept', mu=0, sigma=2)\n",
    "    \n",
    "    stratumid_sigma = pm.HalfCauchy(\"stratumid_sigma\", 2.0)\n",
    "     \n",
    "    a_offset = pm.Normal(\"a_offset\", mu=0, sigma=1, shape=P)\n",
    "    a = pm.Deterministic(\"a\", a_offset*stratumid_sigma)\n",
    "    b = pm.Normal(\"b\", mu=0, sigma=2)\n",
    "\n",
    "    eta = intercept + a[stratumid] + b*treatment    \n",
    "    cutpoints = pm.Normal(\"cutpoints\", mu=np.array([-1,0,1]), sd=1, shape=3, transform=pm.distributions.transforms.ordered)\n",
    "    yl = pm.OrderedLogistic('obs', cutpoints=cutpoints, eta=eta, observed=y)\n",
    "    trace = pm.sample(draws=2_000, tune=2_000, return_inferencedata=False)"
   ]
  },
  {
   "cell_type": "code",
   "execution_count": 779,
   "metadata": {
    "collapsed": false
   },
   "outputs": [
    {
     "data": {
      "text/plain": [
       "<AxesSubplot:title={'center':'b'}>"
      ]
     },
     "execution_count": 779,
     "metadata": {},
     "output_type": "execute_result"
    },
    {
     "data": {
      "image/png": "[encoded data removed]",
      "text/plain": [
       "<Figure size 432x288 with 1 Axes>"
      ]
     },
     "metadata": {
      "needs_background": "light"
     },
     "output_type": "display_data"
    }
   ],
   "source": [
    "idata = az.from_pymc3(trace, model=ordinal_model)\n",
    "az.plot_posterior(idata, var_names=['b'], ref_val=0, rope=[-1, 1])"
   ]
  },
  {
   "cell_type": "code",
   "execution_count": 788,
   "metadata": {
    "collapsed": false
   },
   "outputs": [
    {
     "name": "stderr",
     "output_type": "stream",
     "text": [
      "INFO:pymc3:Auto-assigning NUTS sampler...\n",
      "INFO:pymc3:Initializing NUTS using jitter+adapt_diag...\n",
      "INFO:pymc3:Multiprocess sampling (4 chains in 4 jobs)\n",
      "INFO:pymc3:NUTS: [b, a_offset, stratumid_sigma, intercept]\n"
     ]
    },
    {
     "data": {
      "text/html": [
       "\n",
       "    <div>\n",
       "        <style>\n",
       "            /* Turns off some styling */\n",
       "            progress {\n",
       "                /* gets rid of default border in Firefox and Opera. */\n",
       "                border: none;\n",
       "                /* Needs to be in here for Safari polyfill so background images work as expected. */\n",
       "                background-size: auto;\n",
       "            }\n",
       "            .progress-bar-interrupted, .progress-bar-interrupted::-webkit-progress-bar {\n",
       "                background: #F44336;\n",
       "            }\n",
       "        </style>\n",
       "      <progress value='32000' class='' max='32000' style='width:300px; height:20px; vertical-align: middle;'></progress>\n",
       "      100.00% [32000/32000 06:03<00:00 Sampling 4 chains, 0 divergences]\n",
       "    </div>\n",
       "    "
      ],
      "text/plain": [
       "<IPython.core.display.HTML object>"
      ]
     },
     "metadata": {},
     "output_type": "display_data"
    },
    {
     "name": "stderr",
     "output_type": "stream",
     "text": [
      "INFO:pymc3:Sampling 4 chains for 4_000 tune and 4_000 draw iterations (16_000 + 16_000 draws total) took 365 seconds.\n",
      "INFO:pymc3:The number of effective samples is smaller than 25% for some parameters.\n"
     ]
    }
   ],
   "source": [
    "import theano.tensor as tt\n",
    "import pymc3 as pm\n",
    "\n",
    "stratumid = d.stratumid.astype('category').cat.codes\n",
    "treatment = np.repeat(d.treatment.values, 4).reshape(-1, 4)\n",
    "P = 80\n",
    "y = d.timeseekhelpfever.cat.codes\n",
    "levels = 4\n",
    "\n",
    "with pm.Model() as categorical_model:\n",
    "    intercept = pm.Normal('intercept', mu=0, sigma=1, shape=levels)\n",
    "    stratumid_sigma = pm.HalfCauchy(\"stratumid_sigma\", 2.0)\n",
    "    \n",
    "    a_offset = pm.Normal(\"a_offset\", mu=0, sigma=1, shape=(P, levels)) \n",
    "    a = pm.Deterministic(\"a\", a_offset*stratumid_sigma)\n",
    "    \n",
    "    b = pm.Normal(\"b\", mu=0, sigma=1, shape=levels)\n",
    "\n",
    "    eta = intercept + a[stratumid] + b*treatment    \n",
    "    p = pm.Deterministic('p', tt.nnet.softmax(eta))\n",
    "    yl = pm.Categorical('obs', p=p, observed=y)\n",
    "\n",
    "    trace = pm.sample(draws=4_000, tune=4_000, return_inferencedata=False, target_accept=0.9)"
   ]
  },
  {
   "cell_type": "code",
   "execution_count": 1129,
   "metadata": {
    "collapsed": false
   },
   "outputs": [
    {
     "data": {
      "text/plain": [
       "(16000, 4)"
      ]
     },
     "execution_count": 1129,
     "metadata": {},
     "output_type": "execute_result"
    }
   ],
   "source": [
    "trace['b'].shape"
   ]
  },
  {
   "cell_type": "code",
   "execution_count": 789,
   "metadata": {
    "collapsed": false
   },
   "outputs": [
    {
     "data": {
      "text/plain": [
       "array([<AxesSubplot:title={'center':'b\\n0'}>,\n",
       "       <AxesSubplot:title={'center':'b\\n1'}>,\n",
       "       <AxesSubplot:title={'center':'b\\n2'}>,\n",
       "       <AxesSubplot:title={'center':'b\\n3'}>], dtype=object)"
      ]
     },
     "execution_count": 789,
     "metadata": {},
     "output_type": "execute_result"
    },
    {
     "data": {
      "image/png": "[encoded data removed]",
      "text/plain": [
       "<Figure size 1987.2x331.2 with 4 Axes>"
      ]
     },
     "metadata": {
      "needs_background": "light"
     },
     "output_type": "display_data"
    }
   ],
   "source": [
    "idata = az.from_pymc3(trace, model=categorical_model)\n",
    "az.plot_posterior(idata, var_names=['b'], ref_val=0, rope=[-2, 2])"
   ]
  },
  {
   "cell_type": "code",
   "execution_count": 790,
   "metadata": {
    "collapsed": false
   },
   "outputs": [
    {
     "data": {
      "text/plain": [
       "0.5900625"
      ]
     },
     "execution_count": 790,
     "metadata": {},
     "output_type": "execute_result"
    }
   ],
   "source": [
    "((trace['b'][:, 0] > 0) & (trace['b'][:, 3] < 0)).mean()"
   ]
  },
  {
   "cell_type": "code",
   "execution_count": 728,
   "metadata": {
    "collapsed": false
   },
   "outputs": [],
   "source": [
    "summary = az.summary(idata)"
   ]
  },
  {
   "cell_type": "code",
   "execution_count": 733,
   "metadata": {
    "collapsed": false
   },
   "outputs": [
    {
     "data": {
      "text/html": [
       "\n",
       "    <div>\n",
       "        <style>\n",
       "            /* Turns off some styling */\n",
       "            progress {\n",
       "                /* gets rid of default border in Firefox and Opera. */\n",
       "                border: none;\n",
       "                /* Needs to be in here for Safari polyfill so background images work as expected. */\n",
       "                background-size: auto;\n",
       "            }\n",
       "            .progress-bar-interrupted, .progress-bar-interrupted::-webkit-progress-bar {\n",
       "                background: #F44336;\n",
       "            }\n",
       "        </style>\n",
       "      <progress value='854' class='' max='4000' style='width:300px; height:20px; vertical-align: middle;'></progress>\n",
       "      21.35% [854/4000 00:35<02:12]\n",
       "    </div>\n",
       "    "
      ],
      "text/plain": [
       "<IPython.core.display.HTML object>"
      ]
     },
     "metadata": {},
     "output_type": "display_data"
    }
   ],
   "source": [
    "with moo:\n",
    "    post_checks = pm.sample_posterior_predictive(trace)"
   ]
  },
  {
   "cell_type": "code",
   "execution_count": 734,
   "metadata": {
    "collapsed": false
   },
   "outputs": [],
   "source": [
    "idata = az.from_pymc3(trace, model=moo, posterior_predictive=post_checks)"
   ]
  },
  {
   "cell_type": "code",
   "execution_count": null,
   "metadata": {
    "collapsed": false
   },
   "outputs": [],
   "source": [
    "post_checks['obs']"
   ]
  },
  {
   "cell_type": "code",
   "execution_count": null,
   "metadata": {
    "collapsed": false
   },
   "outputs": [],
   "source": [
    "import matplotlib.pyplot as plt\n",
    "\n",
    "y_pred = post_checks['obs'].mean(0)\n",
    "\n",
    "jitter = np.random.normal(0, 0.03, len(y))\n",
    "\n",
    "plt.figure(figsize=(12, 5))\n",
    "plt.scatter(y + jitter, y_pred, alpha=0.4)\n",
    "plt.xticks(range(4), d.timeseekhelpfever.unique())\n",
    "plt.yticks(range(4), d.timeseekhelpfever.unique())"
   ]
  },
  {
   "cell_type": "code",
   "execution_count": 867,
   "metadata": {
    "collapsed": false
   },
   "outputs": [
    {
     "data": {
      "text/plain": [
       "array([ 63.,  31.,  31.,  13.,  12.,  63.,  63.,  63.,  63.,  63., 127.,\n",
       "       127.,  63., 127., 127., 127., 255., 255., 255., 255.])"
      ]
     },
     "execution_count": 867,
     "metadata": {},
     "output_type": "execute_result"
    }
   ],
   "source": [
    "trace.tree_size"
   ]
  },
  {
   "cell_type": "code",
   "execution_count": 831,
   "metadata": {
    "collapsed": false
   },
   "outputs": [],
   "source": [
    "with m:\n",
    "    prior_checks = pm.sample_prior_predictive(samples=50)"
   ]
  },
  {
   "cell_type": "code",
   "execution_count": 827,
   "metadata": {
    "collapsed": false
   },
   "outputs": [
    {
     "data": {
      "text/plain": [
       "0         More than 2 days\n",
       "1       Less than 24 hours\n",
       "2       Less than 24 hours\n",
       "3        Did not seek help\n",
       "4       Less than 24 hours\n",
       "               ...        \n",
       "1278    Less than 24 hours\n",
       "1279      More than 2 days\n",
       "1280    Less than 24 hours\n",
       "1281    Less than 24 hours\n",
       "1282      More than 2 days\n",
       "Name: timeseekhelpfever, Length: 1283, dtype: category\n",
       "Categories (4, object): ['24-48 hours' < 'Less than 24 hours' < 'More than 2 days' < 'Did not seek help']"
      ]
     },
     "execution_count": 827,
     "metadata": {},
     "output_type": "execute_result"
    }
   ],
   "source": [
    "d.timeseekhelpfever"
   ]
  },
  {
   "cell_type": "code",
   "execution_count": 16,
   "metadata": {
    "collapsed": false
   },
   "outputs": [
    {
     "data": {
      "text/plain": [
       "Index(['userid', 'stratumid', 'wave', 'language', 'week', 'month',\n",
       "       'survey_duration', 'survey_start_time', 'survey_end_time', 'shortcode',\n",
       "       'admalaria', 'admnm', 'age', 'buymosquitonet', 'caste', 'castespecify',\n",
       "       'consent', 'default_tys', 'distancemedicalcenter', 'dwelling',\n",
       "       'education', 'familymembers', 'fever4months', 'gender',\n",
       "       'hasairconditioning', 'hasmosquitonet', 'introendline',\n",
       "       'knowbuymosquitonet', 'knowmnm', 'longsleeves', 'malaria4months',\n",
       "       'membersbednet', 'membersnotbednet', 'mobilecurrent', 'mobilenumber',\n",
       "       'mobileoperator', 'notifyme', 'numbermalaria4months',\n",
       "       'numbermosquitonet', 'occupation', 'paymentprocess', 'paymosquitonet',\n",
       "       'pregnantwoman', 'religion', 'religionspecify', 'seekhelpfever',\n",
       "       'sleepundernet', 'sprays', 'talkmalaria', 'testmalaria',\n",
       "       'timeseekhelpfever', 'timeseekhelpmalaria', 'treatmentseeking',\n",
       "       'treatmosquitonet', 'typemedicalcenter', 'wait', 'worriedcovid',\n",
       "       'worriedmalaria'],\n",
       "      dtype='object', name='question_ref')"
      ]
     },
     "execution_count": 16,
     "metadata": {},
     "output_type": "execute_result"
    }
   ],
   "source": [
    "ddb.columns"
   ]
  },
  {
   "cell_type": "code",
   "execution_count": 772,
   "metadata": {
    "collapsed": false
   },
   "outputs": [],
   "source": [
    "from bambi import Model\n",
    "\n",
    "model = Model(ddb[ddb.seekhelpfever.notna() & ddb.dwelling.notna()].reset_index())"
   ]
  },
  {
   "cell_type": "code",
   "execution_count": 758,
   "metadata": {
    "collapsed": false
   },
   "outputs": [
    {
     "name": "stderr",
     "output_type": "stream",
     "text": [
      "INFO:bambi:Modeling the probability that seekhelpfever==1\n",
      "INFO:pymc3:Auto-assigning NUTS sampler...\n",
      "INFO:pymc3:Initializing NUTS using jitter+adapt_diag...\n",
      "INFO:pymc3:Multiprocess sampling (4 chains in 4 jobs)\n",
      "INFO:pymc3:NUTS: [1|stratumid_offset, 1|stratumid_sigma, treatment, Intercept]\n"
     ]
    },
    {
     "data": {
      "text/html": [
       "\n",
       "    <div>\n",
       "        <style>\n",
       "            /* Turns off some styling */\n",
       "            progress {\n",
       "                /* gets rid of default border in Firefox and Opera. */\n",
       "                border: none;\n",
       "                /* Needs to be in here for Safari polyfill so background images work as expected. */\n",
       "                background-size: auto;\n",
       "            }\n",
       "            .progress-bar-interrupted, .progress-bar-interrupted::-webkit-progress-bar {\n",
       "                background: #F44336;\n",
       "            }\n",
       "        </style>\n",
       "      <progress value='16000' class='' max='16000' style='width:300px; height:20px; vertical-align: middle;'></progress>\n",
       "      100.00% [16000/16000 00:26<00:00 Sampling 4 chains, 4 divergences]\n",
       "    </div>\n",
       "    "
      ],
      "text/plain": [
       "<IPython.core.display.HTML object>"
      ]
     },
     "metadata": {},
     "output_type": "display_data"
    },
    {
     "name": "stderr",
     "output_type": "stream",
     "text": [
      "INFO:pymc3:Sampling 4 chains for 2_000 tune and 2_000 draw iterations (8_000 + 8_000 draws total) took 28 seconds.\n",
      "WARNING:pymc3:The acceptance probability does not match the target. It is 0.886277293636303, but should be close to 0.8. Try to increase the number of tuning steps.\n",
      "ERROR:pymc3:There was 1 divergence after tuning. Increase `target_accept` or reparameterize.\n",
      "ERROR:pymc3:There were 3 divergences after tuning. Increase `target_accept` or reparameterize.\n",
      "INFO:pymc3:The number of effective samples is smaller than 25% for some parameters.\n"
     ]
    }
   ],
   "source": [
    "results = model.fit('seekhelpfever ~ treatment + (1 | stratumid)', family='bernoulli', draws=2_000, tune=2_000)"
   ]
  },
  {
   "cell_type": "code",
   "execution_count": 768,
   "metadata": {
    "collapsed": false
   },
   "outputs": [
    {
     "data": {
      "text/plain": [
       "<AxesSubplot:title={'center':'treatment'}>"
      ]
     },
     "execution_count": 768,
     "metadata": {},
     "output_type": "execute_result"
    },
    {
     "data": {
      "image/png": "[encoded data removed]",
      "text/plain": [
       "<Figure size 432x288 with 1 Axes>"
      ]
     },
     "metadata": {
      "needs_background": "light"
     },
     "output_type": "display_data"
    }
   ],
   "source": [
    "az.plot_posterior(results, var_names=['treatment'], ref_val=0, rope=[-1, 1])"
   ]
  },
  {
   "cell_type": "code",
   "execution_count": null,
   "metadata": {
    "collapsed": false
   },
   "outputs": [],
   "source": [
    "results = model.fit('seekhelpfever ~ treatment*pucca + (1 | stratumid)', family='bernoulli', draws=2_000, tune=2_000)"
   ]
  },
  {
   "cell_type": "code",
   "execution_count": 774,
   "metadata": {
    "collapsed": false
   },
   "outputs": [
    {
     "data": {
      "text/plain": [
       "array([<AxesSubplot:title={'center':'treatment'}>,\n",
       "       <AxesSubplot:title={'center':'treatment:pucca'}>], dtype=object)"
      ]
     },
     "execution_count": 774,
     "metadata": {},
     "output_type": "execute_result"
    },
    {
     "data": {
      "image/png": "[encoded data removed]",
      "text/plain": [
       "<Figure size 993.6x331.2 with 2 Axes>"
      ]
     },
     "metadata": {
      "needs_background": "light"
     },
     "output_type": "display_data"
    }
   ],
   "source": [
    "az.plot_posterior(results, var_names=['treatment','treatment:pucca'], ref_val=0, rope=[-1, 1])"
   ]
  },
  {
   "cell_type": "code",
   "execution_count": null,
   "metadata": {
    "collapsed": false
   },
   "outputs": [],
   "source": [
    "counts = ddb[ddb.seekhelpfever.notna() & ddb.dwelling.notna()].groupby('stratumid').count().userid.sort_values().reset_index()"
   ]
  },
  {
   "cell_type": "code",
   "execution_count": 909,
   "metadata": {
    "collapsed": false
   },
   "outputs": [],
   "source": [
    "import statsmodels.formula.api as smf\n",
    "import statsmodels.api as sm\n",
    "import numpy as np\n",
    "\n",
    "\n",
    "def get_percentages(base, treatment):\n",
    "    return expit(base), expit(base + treatment), 1 - ((1 - expit(base + treatment))) / (1 - expit(base))\n",
    "\n",
    "def reg(form, dat, weights_var='waves_answered'):\n",
    "    try:\n",
    "        model = smf.glm(form, dat, family=sm.families.Binomial(), var_weights=dat[weights_var])\n",
    "    except KeyError:\n",
    "        return smf.logit(form, dat) \\\n",
    "                   .fit(cov_type='cluster', cov_kwds={'groups': dat['stratumid']}) \\\n",
    "                   .summary()"
   ]
  },
  {
   "cell_type": "code",
   "execution_count": null,
   "metadata": {
    "collapsed": false
   },
   "outputs": [],
   "source": []
  },
  {
   "cell_type": "code",
   "execution_count": 208,
   "metadata": {
    "collapsed": false
   },
   "outputs": [],
   "source": [
    "ddb = ddb.merge(dd[['stratumid', 'pre_seekhelpfever']])"
   ]
  },
  {
   "cell_type": "code",
   "execution_count": 217,
   "metadata": {
    "collapsed": false
   },
   "outputs": [
    {
     "name": "stdout",
     "output_type": "stream",
     "text": [
      "Optimization terminated successfully.\n",
      "         Current function value: 0.201553\n",
      "         Iterations 7\n"
     ]
    },
    {
     "data": {
      "text/html": [
       "<table class=\"simpletable\">\n",
       "<caption>Logit Regression Results</caption>\n",
       "<tr>\n",
       "  <th>Dep. Variable:</th>     <td>seekhelpfever</td>  <th>  No. Observations:  </th>  <td>  1536</td> \n",
       "</tr>\n",
       "<tr>\n",
       "  <th>Model:</th>                 <td>Logit</td>      <th>  Df Residuals:      </th>  <td>  1534</td> \n",
       "</tr>\n",
       "<tr>\n",
       "  <th>Method:</th>                 <td>MLE</td>       <th>  Df Model:          </th>  <td>     1</td> \n",
       "</tr>\n",
       "<tr>\n",
       "  <th>Date:</th>            <td>Fri, 09 Apr 2021</td> <th>  Pseudo R-squ.:     </th> <td>0.005712</td>\n",
       "</tr>\n",
       "<tr>\n",
       "  <th>Time:</th>                <td>08:42:16</td>     <th>  Log-Likelihood:    </th> <td> -309.59</td>\n",
       "</tr>\n",
       "<tr>\n",
       "  <th>converged:</th>             <td>True</td>       <th>  LL-Null:           </th> <td> -311.36</td>\n",
       "</tr>\n",
       "<tr>\n",
       "  <th>Covariance Type:</th>      <td>cluster</td>     <th>  LLR p-value:       </th>  <td>0.05930</td>\n",
       "</tr>\n",
       "</table>\n",
       "<table class=\"simpletable\">\n",
       "<tr>\n",
       "      <td></td>         <th>coef</th>     <th>std err</th>      <th>z</th>      <th>P>|z|</th>  <th>[0.025</th>    <th>0.975]</th>  \n",
       "</tr>\n",
       "<tr>\n",
       "  <th>Intercept</th> <td>    2.7229</td> <td>    0.172</td> <td>   15.860</td> <td> 0.000</td> <td>    2.386</td> <td>    3.059</td>\n",
       "</tr>\n",
       "<tr>\n",
       "  <th>treatment</th> <td>    0.4426</td> <td>    0.284</td> <td>    1.558</td> <td> 0.119</td> <td>   -0.114</td> <td>    0.999</td>\n",
       "</tr>\n",
       "</table>"
      ],
      "text/plain": [
       "<class 'statsmodels.iolib.summary.Summary'>\n",
       "\"\"\"\n",
       "                           Logit Regression Results                           \n",
       "==============================================================================\n",
       "Dep. Variable:          seekhelpfever   No. Observations:                 1536\n",
       "Model:                          Logit   Df Residuals:                     1534\n",
       "Method:                           MLE   Df Model:                            1\n",
       "Date:                Fri, 09 Apr 2021   Pseudo R-squ.:                0.005712\n",
       "Time:                        08:42:16   Log-Likelihood:                -309.59\n",
       "converged:                       True   LL-Null:                       -311.36\n",
       "Covariance Type:              cluster   LLR p-value:                   0.05930\n",
       "==============================================================================\n",
       "                 coef    std err          z      P>|z|      [0.025      0.975]\n",
       "------------------------------------------------------------------------------\n",
       "Intercept      2.7229      0.172     15.860      0.000       2.386       3.059\n",
       "treatment      0.4426      0.284      1.558      0.119      -0.114       0.999\n",
       "==============================================================================\n",
       "\"\"\""
      ]
     },
     "execution_count": 217,
     "metadata": {},
     "output_type": "execute_result"
    }
   ],
   "source": [
    "reg('seekhelpfever ~ treatment', ddb[ddb.seekhelpfever.notna() & ddb.dwelling.notna()])"
   ]
  },
  {
   "cell_type": "code",
   "execution_count": null,
   "metadata": {
    "collapsed": false
   },
   "outputs": [],
   "source": [
    "smf.ols('bednet_share ~ treatment', data=mat[mat.hasmosquitonet == 'Yes'], var_weights=mat[mat.hasmosquitonet == 'Yes']['waves_answered']).fit().summary()"
   ]
  },
  {
   "cell_type": "code",
   "execution_count": null,
   "metadata": {
    "collapsed": false
   },
   "outputs": [],
   "source": [
    "reg('bednet_share ~ treatment*pregnantwoman', mat[mat.hasmosquitonet == 'Yes'])"
   ]
  },
  {
   "cell_type": "code",
   "execution_count": null,
   "metadata": {
    "collapsed": false
   },
   "outputs": [],
   "source": [
    "reg('sleepundernet ~ treatment*pregnantwoman', mat[mat.hasmosquitonet == 'Yes'])"
   ]
  },
  {
   "cell_type": "code",
   "execution_count": 90,
   "metadata": {
    "collapsed": false
   },
   "outputs": [],
   "source": [
    "matb = ddb\n",
    "\n",
    "matb['seekhelp_if_fever'] = matb['seekhelpfever']\n",
    "matb['fever2weeks'] = (matb['fever4months'] == 1).astype(int)"
   ]
  },
  {
   "cell_type": "code",
   "execution_count": 94,
   "metadata": {
    "collapsed": false
   },
   "outputs": [],
   "source": [
    "f = ddb[ddb.fever4months.notna()]['stratumid'].astype('category').cat.codes.values"
   ]
  },
  {
   "cell_type": "code",
   "execution_count": null,
   "metadata": {
    "collapsed": false
   },
   "outputs": [],
   "source": [
    "ddb.columns"
   ]
  },
  {
   "cell_type": "code",
   "execution_count": null,
   "metadata": {
    "collapsed": false
   },
   "outputs": [],
   "source": [
    "ddb.groupby('treatment').admnm.value_counts(normalize=True)"
   ]
  },
  {
   "cell_type": "code",
   "execution_count": null,
   "metadata": {
    "collapsed": false
   },
   "outputs": [],
   "source": [
    "reg('knowmnm ~ treatment*pucca', ddb[ddb.knowmnm.notna()])"
   ]
  },
  {
   "cell_type": "code",
   "execution_count": 111,
   "metadata": {
    "collapsed": false
   },
   "outputs": [],
   "source": [
    "def power(n, p):\n",
    "    return n**p"
   ]
  },
  {
   "cell_type": "code",
   "execution_count": 15,
   "metadata": {
    "collapsed": false
   },
   "outputs": [],
   "source": [
    "from mnm.prep import cast_number\n",
    "\n",
    "ddb['age'] = ddb.age.map(lambda a: cast_number(0, 100, a))\n",
    "ddb['young'] = ddb.age < 30"
   ]
  },
  {
   "cell_type": "code",
   "execution_count": 11,
   "metadata": {
    "collapsed": false
   },
   "outputs": [],
   "source": [
    "ddb['female'] = (ddb.gender.notna() & (ddb.gender == 'Female') )"
   ]
  },
  {
   "cell_type": "code",
   "execution_count": null,
   "metadata": {
    "collapsed": false
   },
   "outputs": [],
   "source": [
    "ddb[ddb.admalaria.notna() & ddb.female & ~ddb.young].groupby('treatment').admalaria.value_counts()"
   ]
  },
  {
   "cell_type": "code",
   "execution_count": null,
   "metadata": {
    "collapsed": false
   },
   "outputs": [],
   "source": [
    "ddb[ddb.admalaria.notna() & ddb.female & ~ddb.young].groupby('treatment').admnm.value_counts()"
   ]
  },
  {
   "cell_type": "code",
   "execution_count": null,
   "metadata": {
    "collapsed": false
   },
   "outputs": [],
   "source": [
    "reg('admalaria ~ treatment', ddb[ddb.admalaria.notna()])"
   ]
  },
  {
   "cell_type": "code",
   "execution_count": null,
   "metadata": {
    "collapsed": false
   },
   "outputs": [],
   "source": [
    "reg('admalaria ~ treatment*female*young', ddb[ddb.admalaria.notna() & ddb.gender.notna()])"
   ]
  },
  {
   "cell_type": "code",
   "execution_count": null,
   "metadata": {
    "collapsed": false
   },
   "outputs": [],
   "source": [
    "from mnm.prep import cast_number\n",
    "\n",
    "ddb[ddb.admalaria.notna()].age.map(lambda a: cast_number(0, 100, a)).plot.hist()"
   ]
  },
  {
   "cell_type": "code",
   "execution_count": null,
   "metadata": {
    "collapsed": false
   },
   "outputs": [],
   "source": [
    "ddb[ddb.admalaria.notna()].gender.value_counts(normalize=True)"
   ]
  },
  {
   "cell_type": "code",
   "execution_count": 300,
   "metadata": {
    "collapsed": false
   },
   "outputs": [
    {
     "name": "stdout",
     "output_type": "stream",
     "text": [
      "Optimization terminated successfully.\n",
      "         Current function value: 0.500436\n",
      "         Iterations 6\n"
     ]
    },
    {
     "data": {
      "text/html": [
       "<table class=\"simpletable\">\n",
       "<caption>Logit Regression Results</caption>\n",
       "<tr>\n",
       "  <th>Dep. Variable:</th>        <td>knowmnm</td>     <th>  No. Observations:  </th>  <td>  7939</td>  \n",
       "</tr>\n",
       "<tr>\n",
       "  <th>Model:</th>                 <td>Logit</td>      <th>  Df Residuals:      </th>  <td>  7937</td>  \n",
       "</tr>\n",
       "<tr>\n",
       "  <th>Method:</th>                 <td>MLE</td>       <th>  Df Model:          </th>  <td>     1</td>  \n",
       "</tr>\n",
       "<tr>\n",
       "  <th>Date:</th>            <td>Fri, 09 Apr 2021</td> <th>  Pseudo R-squ.:     </th>  <td>0.01952</td> \n",
       "</tr>\n",
       "<tr>\n",
       "  <th>Time:</th>                <td>09:05:55</td>     <th>  Log-Likelihood:    </th> <td> -3973.0</td> \n",
       "</tr>\n",
       "<tr>\n",
       "  <th>converged:</th>             <td>True</td>       <th>  LL-Null:           </th> <td> -4052.1</td> \n",
       "</tr>\n",
       "<tr>\n",
       "  <th>Covariance Type:</th>      <td>cluster</td>     <th>  LLR p-value:       </th> <td>2.815e-36</td>\n",
       "</tr>\n",
       "</table>\n",
       "<table class=\"simpletable\">\n",
       "<tr>\n",
       "      <td></td>         <th>coef</th>     <th>std err</th>      <th>z</th>      <th>P>|z|</th>  <th>[0.025</th>    <th>0.975]</th>  \n",
       "</tr>\n",
       "<tr>\n",
       "  <th>Intercept</th> <td>   -1.0556</td> <td>    0.514</td> <td>   -2.054</td> <td> 0.040</td> <td>   -2.063</td> <td>   -0.049</td>\n",
       "</tr>\n",
       "<tr>\n",
       "  <th>treatment</th> <td>   -0.7227</td> <td>    0.516</td> <td>   -1.401</td> <td> 0.161</td> <td>   -1.734</td> <td>    0.288</td>\n",
       "</tr>\n",
       "</table>"
      ],
      "text/plain": [
       "<class 'statsmodels.iolib.summary.Summary'>\n",
       "\"\"\"\n",
       "                           Logit Regression Results                           \n",
       "==============================================================================\n",
       "Dep. Variable:                knowmnm   No. Observations:                 7939\n",
       "Model:                          Logit   Df Residuals:                     7937\n",
       "Method:                           MLE   Df Model:                            1\n",
       "Date:                Fri, 09 Apr 2021   Pseudo R-squ.:                 0.01952\n",
       "Time:                        09:05:55   Log-Likelihood:                -3973.0\n",
       "converged:                       True   LL-Null:                       -4052.1\n",
       "Covariance Type:              cluster   LLR p-value:                 2.815e-36\n",
       "==============================================================================\n",
       "                 coef    std err          z      P>|z|      [0.025      0.975]\n",
       "------------------------------------------------------------------------------\n",
       "Intercept     -1.0556      0.514     -2.054      0.040      -2.063      -0.049\n",
       "treatment     -0.7227      0.516     -1.401      0.161      -1.734       0.288\n",
       "==============================================================================\n",
       "\"\"\""
      ]
     },
     "execution_count": 300,
     "metadata": {},
     "output_type": "execute_result"
    }
   ],
   "source": [
    "reg('knowmnm ~ treatment', ddb[ddb.knowmnm.notna()])"
   ]
  },
  {
   "cell_type": "code",
   "execution_count": 301,
   "metadata": {
    "collapsed": false
   },
   "outputs": [
    {
     "name": "stdout",
     "output_type": "stream",
     "text": [
      "Optimization terminated successfully.\n",
      "         Current function value: 0.408594\n",
      "         Iterations 6\n"
     ]
    },
    {
     "data": {
      "text/html": [
       "<table class=\"simpletable\">\n",
       "<caption>Logit Regression Results</caption>\n",
       "<tr>\n",
       "  <th>Dep. Variable:</th>         <td>admnm</td>      <th>  No. Observations:  </th>  <td>  7797</td>  \n",
       "</tr>\n",
       "<tr>\n",
       "  <th>Model:</th>                 <td>Logit</td>      <th>  Df Residuals:      </th>  <td>  7795</td>  \n",
       "</tr>\n",
       "<tr>\n",
       "  <th>Method:</th>                 <td>MLE</td>       <th>  Df Model:          </th>  <td>     1</td>  \n",
       "</tr>\n",
       "<tr>\n",
       "  <th>Date:</th>            <td>Fri, 09 Apr 2021</td> <th>  Pseudo R-squ.:     </th>  <td>0.04016</td> \n",
       "</tr>\n",
       "<tr>\n",
       "  <th>Time:</th>                <td>09:06:01</td>     <th>  Log-Likelihood:    </th> <td> -3185.8</td> \n",
       "</tr>\n",
       "<tr>\n",
       "  <th>converged:</th>             <td>True</td>       <th>  LL-Null:           </th> <td> -3319.1</td> \n",
       "</tr>\n",
       "<tr>\n",
       "  <th>Covariance Type:</th>      <td>cluster</td>     <th>  LLR p-value:       </th> <td>6.294e-60</td>\n",
       "</tr>\n",
       "</table>\n",
       "<table class=\"simpletable\">\n",
       "<tr>\n",
       "      <td></td>         <th>coef</th>     <th>std err</th>      <th>z</th>      <th>P>|z|</th>  <th>[0.025</th>    <th>0.975]</th>  \n",
       "</tr>\n",
       "<tr>\n",
       "  <th>Intercept</th> <td>   -1.3271</td> <td>    0.640</td> <td>   -2.073</td> <td> 0.038</td> <td>   -2.582</td> <td>   -0.072</td>\n",
       "</tr>\n",
       "<tr>\n",
       "  <th>treatment</th> <td>   -1.1168</td> <td>    0.644</td> <td>   -1.735</td> <td> 0.083</td> <td>   -2.378</td> <td>    0.145</td>\n",
       "</tr>\n",
       "</table>"
      ],
      "text/plain": [
       "<class 'statsmodels.iolib.summary.Summary'>\n",
       "\"\"\"\n",
       "                           Logit Regression Results                           \n",
       "==============================================================================\n",
       "Dep. Variable:                  admnm   No. Observations:                 7797\n",
       "Model:                          Logit   Df Residuals:                     7795\n",
       "Method:                           MLE   Df Model:                            1\n",
       "Date:                Fri, 09 Apr 2021   Pseudo R-squ.:                 0.04016\n",
       "Time:                        09:06:01   Log-Likelihood:                -3185.8\n",
       "converged:                       True   LL-Null:                       -3319.1\n",
       "Covariance Type:              cluster   LLR p-value:                 6.294e-60\n",
       "==============================================================================\n",
       "                 coef    std err          z      P>|z|      [0.025      0.975]\n",
       "------------------------------------------------------------------------------\n",
       "Intercept     -1.3271      0.640     -2.073      0.038      -2.582      -0.072\n",
       "treatment     -1.1168      0.644     -1.735      0.083      -2.378       0.145\n",
       "==============================================================================\n",
       "\"\"\""
      ]
     },
     "execution_count": 301,
     "metadata": {},
     "output_type": "execute_result"
    }
   ],
   "source": [
    "reg('admnm ~ treatment', ddb[ddb.admnm.notna()])"
   ]
  },
  {
   "cell_type": "code",
   "execution_count": 212,
   "metadata": {
    "collapsed": false
   },
   "outputs": [
    {
     "data": {
      "text/plain": [
       "(0.10449954614805741, 0.08705782423611545, -0.019477066523994946)"
      ]
     },
     "execution_count": 212,
     "metadata": {},
     "output_type": "execute_result"
    }
   ],
   "source": [
    "get_percentages(-2.1482, -0.2019)"
   ]
  },
  {
   "cell_type": "code",
   "execution_count": null,
   "metadata": {
    "collapsed": false
   },
   "outputs": [],
   "source": [
    "reg('admalaria ~ treatment', ddb[ddb.admalaria.notna()])"
   ]
  },
  {
   "cell_type": "code",
   "execution_count": 74,
   "metadata": {
    "collapsed": false
   },
   "outputs": [
    {
     "data": {
      "text/plain": [
       "(0.17265877040255395, 0.13918208036586574, -0.04046297807855748)"
      ]
     },
     "execution_count": 74,
     "metadata": {},
     "output_type": "execute_result"
    }
   ],
   "source": [
    "get_percentages(-1.5669, -0.2552)"
   ]
  },
  {
   "cell_type": "code",
   "execution_count": null,
   "metadata": {
    "collapsed": false
   },
   "outputs": [],
   "source": [
    "reg('admalaria ~ treatment*pucca', ddb[ddb.admalaria.notna() & ddb.seekhelpfever.notna()])"
   ]
  },
  {
   "cell_type": "code",
   "execution_count": 74,
   "metadata": {
    "collapsed": false
   },
   "outputs": [
    {
     "data": {
      "text/plain": [
       "(0.22422717743519824, 0.16955279551333116, -0.07047731027893822)"
      ]
     },
     "execution_count": 74,
     "metadata": {},
     "output_type": "execute_result"
    }
   ],
   "source": [
    "get_percentages(-1.706 + 0.4648, -0.0661 - 0.2815)"
   ]
  },
  {
   "cell_type": "code",
   "execution_count": 73,
   "metadata": {
    "collapsed": false
   },
   "outputs": [
    {
     "data": {
      "text/plain": [
       "(0.15368325421926876, 0.14528136778740763, -0.009927590909370787)"
      ]
     },
     "execution_count": 73,
     "metadata": {},
     "output_type": "execute_result"
    }
   ],
   "source": [
    "get_percentages(-1.706, -0.0661)"
   ]
  },
  {
   "cell_type": "code",
   "execution_count": 154,
   "metadata": {
    "collapsed": false
   },
   "outputs": [
    {
     "data": {
      "text/plain": [
       "array([nan, 'Semi-pucca', 'Kutcha (made of mud, tin, straw)',\n",
       "       'Pucca (have cement/brick wall and floor'], dtype=object)"
      ]
     },
     "execution_count": 154,
     "metadata": {},
     "output_type": "execute_result"
    }
   ],
   "source": [
    "ddb.dwelling.unique()"
   ]
  },
  {
   "cell_type": "code",
   "execution_count": 632,
   "metadata": {
    "collapsed": false
   },
   "outputs": [],
   "source": [
    "ddb['kutcha'] = ddb.dwelling == 'Kutcha (made of mud, tin, straw)'\n",
    "ddb['pucca'] = ddb.dwelling == 'Pucca (have cement/brick wall and floor'"
   ]
  },
  {
   "cell_type": "code",
   "execution_count": null,
   "metadata": {
    "collapsed": false
   },
   "outputs": [],
   "source": [
    "reg('fever ~ treatment', ddb[ddb.malaria4months.notna() & ddb.fever4months.notna() & ddb.seekhelpfever.notna()])"
   ]
  },
  {
   "cell_type": "code",
   "execution_count": null,
   "metadata": {
    "collapsed": false
   },
   "outputs": [],
   "source": [
    "reg('testmalaria ~ treatment*pucca', ddb[ddb.dwelling.notna() & ddb.testmalaria.notna()])"
   ]
  },
  {
   "cell_type": "code",
   "execution_count": 607,
   "metadata": {
    "collapsed": false
   },
   "outputs": [
    {
     "data": {
      "text/plain": [
       "0.5598006644518272"
      ]
     },
     "execution_count": 607,
     "metadata": {},
     "output_type": "execute_result"
    }
   ],
   "source": [
    "ddb.testmalaria.mean()"
   ]
  },
  {
   "cell_type": "code",
   "execution_count": 46,
   "metadata": {
    "collapsed": false
   },
   "outputs": [
    {
     "name": "stdout",
     "output_type": "stream",
     "text": [
      "Optimization terminated successfully.\n",
      "         Current function value: 0.462360\n",
      "         Iterations 5\n"
     ]
    },
    {
     "data": {
      "text/html": [
       "<table class=\"simpletable\">\n",
       "<caption>Logit Regression Results</caption>\n",
       "<tr>\n",
       "  <th>Dep. Variable:</th>     <td>fever4months</td>   <th>  No. Observations:  </th>  <td>  4920</td>  \n",
       "</tr>\n",
       "<tr>\n",
       "  <th>Model:</th>                 <td>Logit</td>      <th>  Df Residuals:      </th>  <td>  4916</td>  \n",
       "</tr>\n",
       "<tr>\n",
       "  <th>Method:</th>                 <td>MLE</td>       <th>  Df Model:          </th>  <td>     3</td>  \n",
       "</tr>\n",
       "<tr>\n",
       "  <th>Date:</th>            <td>Wed, 24 Feb 2021</td> <th>  Pseudo R-squ.:     </th> <td>0.0002249</td>\n",
       "</tr>\n",
       "<tr>\n",
       "  <th>Time:</th>                <td>16:25:52</td>     <th>  Log-Likelihood:    </th> <td> -2274.8</td> \n",
       "</tr>\n",
       "<tr>\n",
       "  <th>converged:</th>             <td>True</td>       <th>  LL-Null:           </th> <td> -2275.3</td> \n",
       "</tr>\n",
       "<tr>\n",
       "  <th>Covariance Type:</th>      <td>cluster</td>     <th>  LLR p-value:       </th>  <td>0.7956</td>  \n",
       "</tr>\n",
       "</table>\n",
       "<table class=\"simpletable\">\n",
       "<tr>\n",
       "             <td></td>                <th>coef</th>     <th>std err</th>      <th>z</th>      <th>P>|z|</th>  <th>[0.025</th>    <th>0.975]</th>  \n",
       "</tr>\n",
       "<tr>\n",
       "  <th>Intercept</th>               <td>   -1.5630</td> <td>    0.090</td> <td>  -17.408</td> <td> 0.000</td> <td>   -1.739</td> <td>   -1.387</td>\n",
       "</tr>\n",
       "<tr>\n",
       "  <th>pucca[T.True]</th>           <td>    0.0369</td> <td>    0.116</td> <td>    0.317</td> <td> 0.751</td> <td>   -0.191</td> <td>    0.265</td>\n",
       "</tr>\n",
       "<tr>\n",
       "  <th>treatment</th>               <td>   -0.0474</td> <td>    0.108</td> <td>   -0.439</td> <td> 0.661</td> <td>   -0.259</td> <td>    0.164</td>\n",
       "</tr>\n",
       "<tr>\n",
       "  <th>treatment:pucca[T.True]</th> <td>    0.0628</td> <td>    0.164</td> <td>    0.383</td> <td> 0.701</td> <td>   -0.258</td> <td>    0.384</td>\n",
       "</tr>\n",
       "</table>"
      ],
      "text/plain": [
       "<class 'statsmodels.iolib.summary.Summary'>\n",
       "\"\"\"\n",
       "                           Logit Regression Results                           \n",
       "==============================================================================\n",
       "Dep. Variable:           fever4months   No. Observations:                 4920\n",
       "Model:                          Logit   Df Residuals:                     4916\n",
       "Method:                           MLE   Df Model:                            3\n",
       "Date:                Wed, 24 Feb 2021   Pseudo R-squ.:               0.0002249\n",
       "Time:                        16:25:52   Log-Likelihood:                -2274.8\n",
       "converged:                       True   LL-Null:                       -2275.3\n",
       "Covariance Type:              cluster   LLR p-value:                    0.7956\n",
       "===========================================================================================\n",
       "                              coef    std err          z      P>|z|      [0.025      0.975]\n",
       "-------------------------------------------------------------------------------------------\n",
       "Intercept                  -1.5630      0.090    -17.408      0.000      -1.739      -1.387\n",
       "pucca[T.True]               0.0369      0.116      0.317      0.751      -0.191       0.265\n",
       "treatment                  -0.0474      0.108     -0.439      0.661      -0.259       0.164\n",
       "treatment:pucca[T.True]     0.0628      0.164      0.383      0.701      -0.258       0.384\n",
       "===========================================================================================\n",
       "\"\"\""
      ]
     },
     "execution_count": 46,
     "metadata": {},
     "output_type": "execute_result"
    }
   ],
   "source": [
    "reg('fever4months ~ treatment*pucca', ddb[ddb.dwelling.notna() & ddb.fever4months.notna()])"
   ]
  },
  {
   "cell_type": "code",
   "execution_count": null,
   "metadata": {
    "collapsed": false
   },
   "outputs": [],
   "source": [
    "reg('fever4months ~ stratumid', ddb[ddb.dwelling.notna() & ddb.fever4months.notna()])"
   ]
  },
  {
   "cell_type": "code",
   "execution_count": 176,
   "metadata": {
    "collapsed": false
   },
   "outputs": [
    {
     "data": {
      "text/plain": [
       "(0.17321658792823388, 0.16653308624261706, -0.00808373945102403)"
      ]
     },
     "execution_count": 176,
     "metadata": {},
     "output_type": "execute_result"
    }
   ],
   "source": [
    "get_percentages(-1.5630, -0.0474)"
   ]
  },
  {
   "cell_type": "code",
   "execution_count": 180,
   "metadata": {
    "collapsed": false
   },
   "outputs": [
    {
     "data": {
      "text/plain": [
       "treatment  seekhelpfever\n",
       "0          0.0              501\n",
       "1          0.0              464\n",
       "Name: seekhelpfever, dtype: int64"
      ]
     },
     "execution_count": 180,
     "metadata": {},
     "output_type": "execute_result"
    }
   ],
   "source": [
    "ddb[ddb.seekhelpfever.notna()].groupby('treatment').seekhelpfever.value_counts()"
   ]
  },
  {
   "cell_type": "code",
   "execution_count": null,
   "metadata": {
    "collapsed": false
   },
   "outputs": [],
   "source": [
    "smf.logit('seekhelpfever ~ treatment', ddb[ddb.seekhelpfever.notna()]).fit().summary()"
   ]
  },
  {
   "cell_type": "code",
   "execution_count": 639,
   "metadata": {
    "collapsed": false
   },
   "outputs": [
    {
     "name": "stdout",
     "output_type": "stream",
     "text": [
      "Optimization terminated successfully.\n",
      "         Current function value: 0.203132\n",
      "         Iterations 7\n"
     ]
    },
    {
     "data": {
      "text/html": [
       "<table class=\"simpletable\">\n",
       "<caption>Logit Regression Results</caption>\n",
       "<tr>\n",
       "  <th>Dep. Variable:</th>     <td>seekhelpfever</td>  <th>  No. Observations:  </th>  <td>  1483</td> \n",
       "</tr>\n",
       "<tr>\n",
       "  <th>Model:</th>                 <td>Logit</td>      <th>  Df Residuals:      </th>  <td>  1481</td> \n",
       "</tr>\n",
       "<tr>\n",
       "  <th>Method:</th>                 <td>MLE</td>       <th>  Df Model:          </th>  <td>     1</td> \n",
       "</tr>\n",
       "<tr>\n",
       "  <th>Date:</th>            <td>Mon, 12 Apr 2021</td> <th>  Pseudo R-squ.:     </th> <td>0.004916</td>\n",
       "</tr>\n",
       "<tr>\n",
       "  <th>Time:</th>                <td>14:17:52</td>     <th>  Log-Likelihood:    </th> <td> -301.24</td>\n",
       "</tr>\n",
       "<tr>\n",
       "  <th>converged:</th>             <td>True</td>       <th>  LL-Null:           </th> <td> -302.73</td>\n",
       "</tr>\n",
       "<tr>\n",
       "  <th>Covariance Type:</th>      <td>cluster</td>     <th>  LLR p-value:       </th>  <td>0.08449</td>\n",
       "</tr>\n",
       "</table>\n",
       "<table class=\"simpletable\">\n",
       "<tr>\n",
       "      <td></td>         <th>coef</th>     <th>std err</th>      <th>z</th>      <th>P>|z|</th>  <th>[0.025</th>    <th>0.975]</th>  \n",
       "</tr>\n",
       "<tr>\n",
       "  <th>Intercept</th> <td>    2.7249</td> <td>    0.181</td> <td>   15.050</td> <td> 0.000</td> <td>    2.370</td> <td>    3.080</td>\n",
       "</tr>\n",
       "<tr>\n",
       "  <th>treatment</th> <td>    0.4091</td> <td>    0.291</td> <td>    1.408</td> <td> 0.159</td> <td>   -0.161</td> <td>    0.979</td>\n",
       "</tr>\n",
       "</table>"
      ],
      "text/plain": [
       "<class 'statsmodels.iolib.summary.Summary'>\n",
       "\"\"\"\n",
       "                           Logit Regression Results                           \n",
       "==============================================================================\n",
       "Dep. Variable:          seekhelpfever   No. Observations:                 1483\n",
       "Model:                          Logit   Df Residuals:                     1481\n",
       "Method:                           MLE   Df Model:                            1\n",
       "Date:                Mon, 12 Apr 2021   Pseudo R-squ.:                0.004916\n",
       "Time:                        14:17:52   Log-Likelihood:                -301.24\n",
       "converged:                       True   LL-Null:                       -302.73\n",
       "Covariance Type:              cluster   LLR p-value:                   0.08449\n",
       "==============================================================================\n",
       "                 coef    std err          z      P>|z|      [0.025      0.975]\n",
       "------------------------------------------------------------------------------\n",
       "Intercept      2.7249      0.181     15.050      0.000       2.370       3.080\n",
       "treatment      0.4091      0.291      1.408      0.159      -0.161       0.979\n",
       "==============================================================================\n",
       "\"\"\""
      ]
     },
     "execution_count": 639,
     "metadata": {},
     "output_type": "execute_result"
    }
   ],
   "source": [
    "reg('seekhelpfever ~ treatment', ddb[ddb.seekhelpfever.notna()])"
   ]
  },
  {
   "cell_type": "code",
   "execution_count": 51,
   "metadata": {
    "collapsed": false
   },
   "outputs": [
    {
     "data": {
      "text/plain": [
       "(0.8903772184388211, 0.9271828978731256, 0.3357484540178699)"
      ]
     },
     "execution_count": 51,
     "metadata": {},
     "output_type": "execute_result"
    }
   ],
   "source": [
    "get_percentages(2.0946, 0.4496)"
   ]
  },
  {
   "cell_type": "code",
   "execution_count": 49,
   "metadata": {
    "collapsed": false
   },
   "outputs": [
    {
     "data": {
      "text/plain": [
       "(0.8664582774667876, 0.9228346818824007, 0.4221632261901672)"
      ]
     },
     "execution_count": 49,
     "metadata": {},
     "output_type": "execute_result"
    }
   ],
   "source": [
    "get_percentages(1.87, 0.6115)"
   ]
  },
  {
   "cell_type": "code",
   "execution_count": 476,
   "metadata": {
    "collapsed": false
   },
   "outputs": [
    {
     "data": {
      "text/html": [
       "<table class=\"simpletable\">\n",
       "<caption>OLS Regression Results</caption>\n",
       "<tr>\n",
       "  <th>Dep. Variable:</th>      <td>seekhelpfever</td>  <th>  R-squared:         </th> <td>   0.003</td>\n",
       "</tr>\n",
       "<tr>\n",
       "  <th>Model:</th>                   <td>OLS</td>       <th>  Adj. R-squared:    </th> <td>   0.002</td>\n",
       "</tr>\n",
       "<tr>\n",
       "  <th>Method:</th>             <td>Least Squares</td>  <th>  F-statistic:       </th> <td>   3.868</td>\n",
       "</tr>\n",
       "<tr>\n",
       "  <th>Date:</th>             <td>Thu, 18 Mar 2021</td> <th>  Prob (F-statistic):</th>  <td>0.0495</td> \n",
       "</tr>\n",
       "<tr>\n",
       "  <th>Time:</th>                 <td>16:07:52</td>     <th>  Log-Likelihood:    </th> <td> -33.676</td>\n",
       "</tr>\n",
       "<tr>\n",
       "  <th>No. Observations:</th>      <td>  1186</td>      <th>  AIC:               </th> <td>   71.35</td>\n",
       "</tr>\n",
       "<tr>\n",
       "  <th>Df Residuals:</th>          <td>  1184</td>      <th>  BIC:               </th> <td>   81.51</td>\n",
       "</tr>\n",
       "<tr>\n",
       "  <th>Df Model:</th>              <td>     1</td>      <th>                     </th>     <td> </td>   \n",
       "</tr>\n",
       "<tr>\n",
       "  <th>Covariance Type:</th>      <td>nonrobust</td>    <th>                     </th>     <td> </td>   \n",
       "</tr>\n",
       "</table>\n",
       "<table class=\"simpletable\">\n",
       "<tr>\n",
       "      <td></td>         <th>coef</th>     <th>std err</th>      <th>t</th>      <th>P>|t|</th>  <th>[0.025</th>    <th>0.975]</th>  \n",
       "</tr>\n",
       "<tr>\n",
       "  <th>Intercept</th> <td>    0.9195</td> <td>    0.010</td> <td>   91.079</td> <td> 0.000</td> <td>    0.900</td> <td>    0.939</td>\n",
       "</tr>\n",
       "<tr>\n",
       "  <th>treatment</th> <td>    0.0285</td> <td>    0.014</td> <td>    1.967</td> <td> 0.049</td> <td>  6.8e-05</td> <td>    0.057</td>\n",
       "</tr>\n",
       "</table>\n",
       "<table class=\"simpletable\">\n",
       "<tr>\n",
       "  <th>Omnibus:</th>       <td>842.204</td> <th>  Durbin-Watson:     </th> <td>   1.958</td>\n",
       "</tr>\n",
       "<tr>\n",
       "  <th>Prob(Omnibus):</th> <td> 0.000</td>  <th>  Jarque-Bera (JB):  </th> <td>7324.192</td>\n",
       "</tr>\n",
       "<tr>\n",
       "  <th>Skew:</th>          <td>-3.459</td>  <th>  Prob(JB):          </th> <td>    0.00</td>\n",
       "</tr>\n",
       "<tr>\n",
       "  <th>Kurtosis:</th>      <td>13.018</td>  <th>  Cond. No.          </th> <td>    2.59</td>\n",
       "</tr>\n",
       "</table><br/><br/>Notes:<br/>[1] Standard Errors assume that the covariance matrix of the errors is correctly specified."
      ],
      "text/plain": [
       "<class 'statsmodels.iolib.summary.Summary'>\n",
       "\"\"\"\n",
       "                            OLS Regression Results                            \n",
       "==============================================================================\n",
       "Dep. Variable:          seekhelpfever   R-squared:                       0.003\n",
       "Model:                            OLS   Adj. R-squared:                  0.002\n",
       "Method:                 Least Squares   F-statistic:                     3.868\n",
       "Date:                Thu, 18 Mar 2021   Prob (F-statistic):             0.0495\n",
       "Time:                        16:07:52   Log-Likelihood:                -33.676\n",
       "No. Observations:                1186   AIC:                             71.35\n",
       "Df Residuals:                    1184   BIC:                             81.51\n",
       "Df Model:                           1                                         \n",
       "Covariance Type:            nonrobust                                         \n",
       "==============================================================================\n",
       "                 coef    std err          t      P>|t|      [0.025      0.975]\n",
       "------------------------------------------------------------------------------\n",
       "Intercept      0.9195      0.010     91.079      0.000       0.900       0.939\n",
       "treatment      0.0285      0.014      1.967      0.049     6.8e-05       0.057\n",
       "==============================================================================\n",
       "Omnibus:                      842.204   Durbin-Watson:                   1.958\n",
       "Prob(Omnibus):                  0.000   Jarque-Bera (JB):             7324.192\n",
       "Skew:                          -3.459   Prob(JB):                         0.00\n",
       "Kurtosis:                      13.018   Cond. No.                         2.59\n",
       "==============================================================================\n",
       "\n",
       "Notes:\n",
       "[1] Standard Errors assume that the covariance matrix of the errors is correctly specified.\n",
       "\"\"\""
      ]
     },
     "execution_count": 476,
     "metadata": {},
     "output_type": "execute_result"
    }
   ],
   "source": [
    "smf.ols('seekhelpfever ~ treatment', ddb[(ddb.week < 20) & ddb.dwelling.notna() & ddb.seekhelpfever.notna()]).fit().summary()"
   ]
  },
  {
   "cell_type": "code",
   "execution_count": 459,
   "metadata": {
    "collapsed": false
   },
   "outputs": [
    {
     "name": "stdout",
     "output_type": "stream",
     "text": [
      "Optimization terminated successfully.\n",
      "         Current function value: 0.243136\n",
      "         Iterations 7\n"
     ]
    },
    {
     "data": {
      "text/html": [
       "<table class=\"simpletable\">\n",
       "<caption>Logit Regression Results</caption>\n",
       "<tr>\n",
       "  <th>Dep. Variable:</th>     <td>seekhelpfever</td>  <th>  No. Observations:  </th>  <td>  1186</td> \n",
       "</tr>\n",
       "<tr>\n",
       "  <th>Model:</th>                 <td>Logit</td>      <th>  Df Residuals:      </th>  <td>  1184</td> \n",
       "</tr>\n",
       "<tr>\n",
       "  <th>Method:</th>                 <td>MLE</td>       <th>  Df Model:          </th>  <td>     1</td> \n",
       "</tr>\n",
       "<tr>\n",
       "  <th>Date:</th>            <td>Thu, 18 Mar 2021</td> <th>  Pseudo R-squ.:     </th> <td>0.006724</td>\n",
       "</tr>\n",
       "<tr>\n",
       "  <th>Time:</th>                <td>16:02:33</td>     <th>  Log-Likelihood:    </th> <td> -288.36</td>\n",
       "</tr>\n",
       "<tr>\n",
       "  <th>converged:</th>             <td>True</td>       <th>  LL-Null:           </th> <td> -290.31</td>\n",
       "</tr>\n",
       "<tr>\n",
       "  <th>Covariance Type:</th>      <td>cluster</td>     <th>  LLR p-value:       </th>  <td>0.04817</td>\n",
       "</tr>\n",
       "</table>\n",
       "<table class=\"simpletable\">\n",
       "<tr>\n",
       "      <td></td>         <th>coef</th>     <th>std err</th>      <th>z</th>      <th>P>|z|</th>  <th>[0.025</th>    <th>0.975]</th>  \n",
       "</tr>\n",
       "<tr>\n",
       "  <th>Intercept</th> <td>    2.4361</td> <td>    0.168</td> <td>   14.526</td> <td> 0.000</td> <td>    2.107</td> <td>    2.765</td>\n",
       "</tr>\n",
       "<tr>\n",
       "  <th>treatment</th> <td>    0.4671</td> <td>    0.288</td> <td>    1.622</td> <td> 0.105</td> <td>   -0.097</td> <td>    1.032</td>\n",
       "</tr>\n",
       "</table>"
      ],
      "text/plain": [
       "<class 'statsmodels.iolib.summary.Summary'>\n",
       "\"\"\"\n",
       "                           Logit Regression Results                           \n",
       "==============================================================================\n",
       "Dep. Variable:          seekhelpfever   No. Observations:                 1186\n",
       "Model:                          Logit   Df Residuals:                     1184\n",
       "Method:                           MLE   Df Model:                            1\n",
       "Date:                Thu, 18 Mar 2021   Pseudo R-squ.:                0.006724\n",
       "Time:                        16:02:33   Log-Likelihood:                -288.36\n",
       "converged:                       True   LL-Null:                       -290.31\n",
       "Covariance Type:              cluster   LLR p-value:                   0.04817\n",
       "==============================================================================\n",
       "                 coef    std err          z      P>|z|      [0.025      0.975]\n",
       "------------------------------------------------------------------------------\n",
       "Intercept      2.4361      0.168     14.526      0.000       2.107       2.765\n",
       "treatment      0.4671      0.288      1.622      0.105      -0.097       1.032\n",
       "==============================================================================\n",
       "\"\"\""
      ]
     },
     "execution_count": 459,
     "metadata": {},
     "output_type": "execute_result"
    }
   ],
   "source": [
    "reg('seekhelpfever ~ treatment', ddb[(ddb.week < 20) & ddb.dwelling.notna() & ddb.seekhelpfever.notna()])"
   ]
  },
  {
   "cell_type": "code",
   "execution_count": 460,
   "metadata": {
    "collapsed": false
   },
   "outputs": [
    {
     "data": {
      "text/plain": [
       "0.8175744761936437"
      ]
     },
     "execution_count": 460,
     "metadata": {},
     "output_type": "execute_result"
    }
   ],
   "source": [
    "expit(1.5)"
   ]
  },
  {
   "cell_type": "code",
   "execution_count": 458,
   "metadata": {
    "collapsed": false
   },
   "outputs": [
    {
     "data": {
      "text/plain": [
       "0.9190865327845347"
      ]
     },
     "execution_count": 458,
     "metadata": {},
     "output_type": "execute_result"
    }
   ],
   "source": [
    "expit(2.43)"
   ]
  },
  {
   "cell_type": "code",
   "execution_count": 471,
   "metadata": {
    "collapsed": false
   },
   "outputs": [
    {
     "data": {
      "text/plain": [
       "0.296137339055794"
      ]
     },
     "execution_count": 471,
     "metadata": {},
     "output_type": "execute_result"
    }
   ],
   "source": [
    "ddb[ddb.seekhelpfever.notna() & ddb.dwelling.isna()].seekhelpfever.mean()"
   ]
  },
  {
   "cell_type": "code",
   "execution_count": 467,
   "metadata": {
    "collapsed": false
   },
   "outputs": [
    {
     "data": {
      "text/plain": [
       "0.9333895446880269"
      ]
     },
     "execution_count": 467,
     "metadata": {},
     "output_type": "execute_result"
    }
   ],
   "source": [
    "ddb[ddb.seekhelpfever.notna() & ddb.dwelling.notna()].seekhelpfever.mean()"
   ]
  },
  {
   "cell_type": "code",
   "execution_count": 473,
   "metadata": {
    "collapsed": false
   },
   "outputs": [
    {
     "name": "stdout",
     "output_type": "stream",
     "text": [
      "Optimization terminated successfully.\n",
      "         Current function value: 0.457360\n",
      "         Iterations 6\n"
     ]
    },
    {
     "data": {
      "text/html": [
       "<table class=\"simpletable\">\n",
       "<caption>Logit Regression Results</caption>\n",
       "<tr>\n",
       "  <th>Dep. Variable:</th>     <td>seekhelpfever</td>  <th>  No. Observations:  </th>  <td>  1418</td> \n",
       "</tr>\n",
       "<tr>\n",
       "  <th>Model:</th>                 <td>Logit</td>      <th>  Df Residuals:      </th>  <td>  1416</td> \n",
       "</tr>\n",
       "<tr>\n",
       "  <th>Method:</th>                 <td>MLE</td>       <th>  Df Model:          </th>  <td>     1</td> \n",
       "</tr>\n",
       "<tr>\n",
       "  <th>Date:</th>            <td>Thu, 18 Mar 2021</td> <th>  Pseudo R-squ.:     </th> <td>0.001504</td>\n",
       "</tr>\n",
       "<tr>\n",
       "  <th>Time:</th>                <td>16:07:11</td>     <th>  Log-Likelihood:    </th> <td> -648.54</td>\n",
       "</tr>\n",
       "<tr>\n",
       "  <th>converged:</th>             <td>True</td>       <th>  LL-Null:           </th> <td> -649.51</td>\n",
       "</tr>\n",
       "<tr>\n",
       "  <th>Covariance Type:</th>      <td>cluster</td>     <th>  LLR p-value:       </th>  <td>0.1622</td> \n",
       "</tr>\n",
       "</table>\n",
       "<table class=\"simpletable\">\n",
       "<tr>\n",
       "      <td></td>         <th>coef</th>     <th>std err</th>      <th>z</th>      <th>P>|z|</th>  <th>[0.025</th>    <th>0.975]</th>  \n",
       "</tr>\n",
       "<tr>\n",
       "  <th>Intercept</th> <td>    1.4833</td> <td>    0.094</td> <td>   15.726</td> <td> 0.000</td> <td>    1.298</td> <td>    1.668</td>\n",
       "</tr>\n",
       "<tr>\n",
       "  <th>treatment</th> <td>    0.1976</td> <td>    0.157</td> <td>    1.259</td> <td> 0.208</td> <td>   -0.110</td> <td>    0.505</td>\n",
       "</tr>\n",
       "</table>"
      ],
      "text/plain": [
       "<class 'statsmodels.iolib.summary.Summary'>\n",
       "\"\"\"\n",
       "                           Logit Regression Results                           \n",
       "==============================================================================\n",
       "Dep. Variable:          seekhelpfever   No. Observations:                 1418\n",
       "Model:                          Logit   Df Residuals:                     1416\n",
       "Method:                           MLE   Df Model:                            1\n",
       "Date:                Thu, 18 Mar 2021   Pseudo R-squ.:                0.001504\n",
       "Time:                        16:07:11   Log-Likelihood:                -648.54\n",
       "converged:                       True   LL-Null:                       -649.51\n",
       "Covariance Type:              cluster   LLR p-value:                    0.1622\n",
       "==============================================================================\n",
       "                 coef    std err          z      P>|z|      [0.025      0.975]\n",
       "------------------------------------------------------------------------------\n",
       "Intercept      1.4833      0.094     15.726      0.000       1.298       1.668\n",
       "treatment      0.1976      0.157      1.259      0.208      -0.110       0.505\n",
       "==============================================================================\n",
       "\"\"\""
      ]
     },
     "execution_count": 473,
     "metadata": {},
     "output_type": "execute_result"
    }
   ],
   "source": [
    "reg('seekhelpfever ~ treatment', ddb[(ddb.week < 20) & ddb.fever4months.notna() & ddb.seekhelpfever.notna()])"
   ]
  },
  {
   "cell_type": "code",
   "execution_count": 71,
   "metadata": {
    "collapsed": false
   },
   "outputs": [
    {
     "name": "stdout",
     "output_type": "stream",
     "text": [
      "Optimization terminated successfully.\n",
      "         Current function value: 0.272965\n",
      "         Iterations 7\n"
     ]
    },
    {
     "data": {
      "text/html": [
       "<table class=\"simpletable\">\n",
       "<caption>Logit Regression Results</caption>\n",
       "<tr>\n",
       "  <th>Dep. Variable:</th>     <td>seekhelpfever</td>  <th>  No. Observations:  </th>  <td>  1000</td> \n",
       "</tr>\n",
       "<tr>\n",
       "  <th>Model:</th>                 <td>Logit</td>      <th>  Df Residuals:      </th>  <td>   996</td> \n",
       "</tr>\n",
       "<tr>\n",
       "  <th>Method:</th>                 <td>MLE</td>       <th>  Df Model:          </th>  <td>     3</td> \n",
       "</tr>\n",
       "<tr>\n",
       "  <th>Date:</th>            <td>Tue, 02 Mar 2021</td> <th>  Pseudo R-squ.:     </th>  <td>0.01214</td>\n",
       "</tr>\n",
       "<tr>\n",
       "  <th>Time:</th>                <td>10:40:52</td>     <th>  Log-Likelihood:    </th> <td> -272.97</td>\n",
       "</tr>\n",
       "<tr>\n",
       "  <th>converged:</th>             <td>True</td>       <th>  LL-Null:           </th> <td> -276.32</td>\n",
       "</tr>\n",
       "<tr>\n",
       "  <th>Covariance Type:</th>      <td>cluster</td>     <th>  LLR p-value:       </th>  <td>0.08173</td>\n",
       "</tr>\n",
       "</table>\n",
       "<table class=\"simpletable\">\n",
       "<tr>\n",
       "             <td></td>                <th>coef</th>     <th>std err</th>      <th>z</th>      <th>P>|z|</th>  <th>[0.025</th>    <th>0.975]</th>  \n",
       "</tr>\n",
       "<tr>\n",
       "  <th>Intercept</th>               <td>    2.0565</td> <td>    0.200</td> <td>   10.287</td> <td> 0.000</td> <td>    1.665</td> <td>    2.448</td>\n",
       "</tr>\n",
       "<tr>\n",
       "  <th>pucca[T.True]</th>           <td>    0.4792</td> <td>    0.352</td> <td>    1.360</td> <td> 0.174</td> <td>   -0.211</td> <td>    1.170</td>\n",
       "</tr>\n",
       "<tr>\n",
       "  <th>treatment</th>               <td>    0.6318</td> <td>    0.348</td> <td>    1.817</td> <td> 0.069</td> <td>   -0.050</td> <td>    1.313</td>\n",
       "</tr>\n",
       "<tr>\n",
       "  <th>treatment:pucca[T.True]</th> <td>   -0.3806</td> <td>    0.540</td> <td>   -0.705</td> <td> 0.481</td> <td>   -1.438</td> <td>    0.677</td>\n",
       "</tr>\n",
       "</table>"
      ],
      "text/plain": [
       "<class 'statsmodels.iolib.summary.Summary'>\n",
       "\"\"\"\n",
       "                           Logit Regression Results                           \n",
       "==============================================================================\n",
       "Dep. Variable:          seekhelpfever   No. Observations:                 1000\n",
       "Model:                          Logit   Df Residuals:                      996\n",
       "Method:                           MLE   Df Model:                            3\n",
       "Date:                Tue, 02 Mar 2021   Pseudo R-squ.:                 0.01214\n",
       "Time:                        10:40:52   Log-Likelihood:                -272.97\n",
       "converged:                       True   LL-Null:                       -276.32\n",
       "Covariance Type:              cluster   LLR p-value:                   0.08173\n",
       "===========================================================================================\n",
       "                              coef    std err          z      P>|z|      [0.025      0.975]\n",
       "-------------------------------------------------------------------------------------------\n",
       "Intercept                   2.0565      0.200     10.287      0.000       1.665       2.448\n",
       "pucca[T.True]               0.4792      0.352      1.360      0.174      -0.211       1.170\n",
       "treatment                   0.6318      0.348      1.817      0.069      -0.050       1.313\n",
       "treatment:pucca[T.True]    -0.3806      0.540     -0.705      0.481      -1.438       0.677\n",
       "===========================================================================================\n",
       "\"\"\""
      ]
     },
     "execution_count": 71,
     "metadata": {},
     "output_type": "execute_result"
    }
   ],
   "source": [
    "reg('seekhelpfever ~ treatment*pucca', ddb[(ddb.week < 10) & ddb.dwelling.notna() & ddb.fever4months.notna() & ddb.seekhelpfever.notna()])"
   ]
  },
  {
   "cell_type": "code",
   "execution_count": 167,
   "metadata": {
    "collapsed": false
   },
   "outputs": [
    {
     "name": "stdout",
     "output_type": "stream",
     "text": [
      "Optimization terminated successfully.\n",
      "         Current function value: 0.355515\n",
      "         Iterations 6\n"
     ]
    },
    {
     "data": {
      "text/html": [
       "<table class=\"simpletable\">\n",
       "<caption>Logit Regression Results</caption>\n",
       "<tr>\n",
       "  <th>Dep. Variable:</th>     <td>seekhelpfever</td>  <th>  No. Observations:  </th>  <td>   677</td> \n",
       "</tr>\n",
       "<tr>\n",
       "  <th>Model:</th>                 <td>Logit</td>      <th>  Df Residuals:      </th>  <td>   671</td> \n",
       "</tr>\n",
       "<tr>\n",
       "  <th>Method:</th>                 <td>MLE</td>       <th>  Df Model:          </th>  <td>     5</td> \n",
       "</tr>\n",
       "<tr>\n",
       "  <th>Date:</th>            <td>Thu, 18 Feb 2021</td> <th>  Pseudo R-squ.:     </th>  <td>0.01323</td>\n",
       "</tr>\n",
       "<tr>\n",
       "  <th>Time:</th>                <td>10:41:37</td>     <th>  Log-Likelihood:    </th> <td> -240.68</td>\n",
       "</tr>\n",
       "<tr>\n",
       "  <th>converged:</th>             <td>True</td>       <th>  LL-Null:           </th> <td> -243.91</td>\n",
       "</tr>\n",
       "<tr>\n",
       "  <th>Covariance Type:</th>      <td>cluster</td>     <th>  LLR p-value:       </th>  <td>0.2647</td> \n",
       "</tr>\n",
       "</table>\n",
       "<table class=\"simpletable\">\n",
       "<tr>\n",
       "                                <td></td>                                   <th>coef</th>     <th>std err</th>      <th>z</th>      <th>P>|z|</th>  <th>[0.025</th>    <th>0.975]</th>  \n",
       "</tr>\n",
       "<tr>\n",
       "  <th>Intercept</th>                                                     <td>    1.4843</td> <td>    0.262</td> <td>    5.672</td> <td> 0.000</td> <td>    0.971</td> <td>    1.997</td>\n",
       "</tr>\n",
       "<tr>\n",
       "  <th>dwelling[T.Pucca (have cement/brick wall and floor]</th>           <td>    0.6776</td> <td>    0.396</td> <td>    1.713</td> <td> 0.087</td> <td>   -0.098</td> <td>    1.453</td>\n",
       "</tr>\n",
       "<tr>\n",
       "  <th>dwelling[T.Semi-pucca]</th>                                        <td>    0.3075</td> <td>    0.415</td> <td>    0.741</td> <td> 0.459</td> <td>   -0.506</td> <td>    1.121</td>\n",
       "</tr>\n",
       "<tr>\n",
       "  <th>treatment</th>                                                     <td>    0.6492</td> <td>    0.525</td> <td>    1.236</td> <td> 0.217</td> <td>   -0.380</td> <td>    1.679</td>\n",
       "</tr>\n",
       "<tr>\n",
       "  <th>treatment:dwelling[T.Pucca (have cement/brick wall and floor]</th> <td>   -0.4561</td> <td>    0.642</td> <td>   -0.710</td> <td> 0.478</td> <td>   -1.715</td> <td>    0.802</td>\n",
       "</tr>\n",
       "<tr>\n",
       "  <th>treatment:dwelling[T.Semi-pucca]</th>                              <td>   -0.2029</td> <td>    0.727</td> <td>   -0.279</td> <td> 0.780</td> <td>   -1.629</td> <td>    1.223</td>\n",
       "</tr>\n",
       "</table>"
      ],
      "text/plain": [
       "<class 'statsmodels.iolib.summary.Summary'>\n",
       "\"\"\"\n",
       "                           Logit Regression Results                           \n",
       "==============================================================================\n",
       "Dep. Variable:          seekhelpfever   No. Observations:                  677\n",
       "Model:                          Logit   Df Residuals:                      671\n",
       "Method:                           MLE   Df Model:                            5\n",
       "Date:                Thu, 18 Feb 2021   Pseudo R-squ.:                 0.01323\n",
       "Time:                        10:41:37   Log-Likelihood:                -240.68\n",
       "converged:                       True   LL-Null:                       -243.91\n",
       "Covariance Type:              cluster   LLR p-value:                    0.2647\n",
       "=================================================================================================================================\n",
       "                                                                    coef    std err          z      P>|z|      [0.025      0.975]\n",
       "---------------------------------------------------------------------------------------------------------------------------------\n",
       "Intercept                                                         1.4843      0.262      5.672      0.000       0.971       1.997\n",
       "dwelling[T.Pucca (have cement/brick wall and floor]               0.6776      0.396      1.713      0.087      -0.098       1.453\n",
       "dwelling[T.Semi-pucca]                                            0.3075      0.415      0.741      0.459      -0.506       1.121\n",
       "treatment                                                         0.6492      0.525      1.236      0.217      -0.380       1.679\n",
       "treatment:dwelling[T.Pucca (have cement/brick wall and floor]    -0.4561      0.642     -0.710      0.478      -1.715       0.802\n",
       "treatment:dwelling[T.Semi-pucca]                                 -0.2029      0.727     -0.279      0.780      -1.629       1.223\n",
       "=================================================================================================================================\n",
       "\"\"\""
      ]
     },
     "execution_count": 167,
     "metadata": {},
     "output_type": "execute_result"
    }
   ],
   "source": [
    "reg('seekhelpfever ~ treatment*dwelling', ddb[ddb.dwelling.notna() & ddb.fever4months.notna() & ddb.seekhelpfever.notna()])"
   ]
  },
  {
   "cell_type": "code",
   "execution_count": 153,
   "metadata": {
    "collapsed": false
   },
   "outputs": [
    {
     "data": {
      "text/plain": [
       "(0.8145725807070178, 0.8937090377022275, 0.4267786139555295)"
      ]
     },
     "execution_count": 153,
     "metadata": {},
     "output_type": "execute_result"
    }
   ],
   "source": [
    "get_percentages(1.48, 0.6492)"
   ]
  },
  {
   "cell_type": "code",
   "execution_count": 136,
   "metadata": {
    "collapsed": false
   },
   "outputs": [
    {
     "data": {
      "text/plain": [
       "(0.8282108615242946, 0.8628658986241335, 0.20173008263115488)"
      ]
     },
     "execution_count": 136,
     "metadata": {},
     "output_type": "execute_result"
    }
   ],
   "source": [
    "get_percentages(1.573, 0.2663)"
   ]
  },
  {
   "cell_type": "code",
   "execution_count": 119,
   "metadata": {
    "collapsed": false
   },
   "outputs": [
    {
     "data": {
      "text/html": [
       "<table class=\"simpletable\">\n",
       "<caption>Generalized Linear Model Regression Results</caption>\n",
       "<tr>\n",
       "  <th>Dep. Variable:</th>   <td>seekhelp_if_fever</td> <th>  No. Observations:  </th>  <td>  1598</td> \n",
       "</tr>\n",
       "<tr>\n",
       "  <th>Model:</th>                  <td>GLM</td>        <th>  Df Residuals:      </th>  <td>  1596</td> \n",
       "</tr>\n",
       "<tr>\n",
       "  <th>Model Family:</th>        <td>Binomial</td>      <th>  Df Model:          </th>  <td>     1</td> \n",
       "</tr>\n",
       "<tr>\n",
       "  <th>Link Function:</th>         <td>logit</td>       <th>  Scale:             </th> <td>  1.0000</td>\n",
       "</tr>\n",
       "<tr>\n",
       "  <th>Method:</th>                <td>IRLS</td>        <th>  Log-Likelihood:    </th> <td> -804.38</td>\n",
       "</tr>\n",
       "<tr>\n",
       "  <th>Date:</th>            <td>Sun, 07 Feb 2021</td>  <th>  Deviance:          </th> <td>  1516.7</td>\n",
       "</tr>\n",
       "<tr>\n",
       "  <th>Time:</th>                <td>18:02:54</td>      <th>  Pearson chi2:      </th> <td>1.76e+03</td>\n",
       "</tr>\n",
       "<tr>\n",
       "  <th>No. Iterations:</th>          <td>4</td>         <th>                     </th>     <td> </td>   \n",
       "</tr>\n",
       "<tr>\n",
       "  <th>Covariance Type:</th>     <td>nonrobust</td>     <th>                     </th>     <td> </td>   \n",
       "</tr>\n",
       "</table>\n",
       "<table class=\"simpletable\">\n",
       "<tr>\n",
       "      <td></td>         <th>coef</th>     <th>std err</th>      <th>z</th>      <th>P>|z|</th>  <th>[0.025</th>    <th>0.975]</th>  \n",
       "</tr>\n",
       "<tr>\n",
       "  <th>Intercept</th> <td>    1.6309</td> <td>    0.087</td> <td>   18.687</td> <td> 0.000</td> <td>    1.460</td> <td>    1.802</td>\n",
       "</tr>\n",
       "<tr>\n",
       "  <th>treatment</th> <td>    0.1977</td> <td>    0.127</td> <td>    1.561</td> <td> 0.118</td> <td>   -0.050</td> <td>    0.446</td>\n",
       "</tr>\n",
       "</table>"
      ],
      "text/plain": [
       "<class 'statsmodels.iolib.summary.Summary'>\n",
       "\"\"\"\n",
       "                 Generalized Linear Model Regression Results                  \n",
       "==============================================================================\n",
       "Dep. Variable:      seekhelp_if_fever   No. Observations:                 1598\n",
       "Model:                            GLM   Df Residuals:                     1596\n",
       "Model Family:                Binomial   Df Model:                            1\n",
       "Link Function:                  logit   Scale:                          1.0000\n",
       "Method:                          IRLS   Log-Likelihood:                -804.38\n",
       "Date:                Sun, 07 Feb 2021   Deviance:                       1516.7\n",
       "Time:                        18:02:54   Pearson chi2:                 1.76e+03\n",
       "No. Iterations:                     4                                         \n",
       "Covariance Type:            nonrobust                                         \n",
       "==============================================================================\n",
       "                 coef    std err          z      P>|z|      [0.025      0.975]\n",
       "------------------------------------------------------------------------------\n",
       "Intercept      1.6309      0.087     18.687      0.000       1.460       1.802\n",
       "treatment      0.1977      0.127      1.561      0.118      -0.050       0.446\n",
       "==============================================================================\n",
       "\"\"\""
      ]
     },
     "execution_count": 119,
     "metadata": {},
     "output_type": "execute_result"
    }
   ],
   "source": [
    "m = pd.concat([mat, matb])\n",
    "reg('seekhelp_if_fever ~ treatment', m[m.seekhelp_if_fever.notna()], 'fever2weeks')"
   ]
  },
  {
   "cell_type": "code",
   "execution_count": 137,
   "metadata": {
    "collapsed": false
   },
   "outputs": [
    {
     "data": {
      "text/plain": [
       "(0.8362928924541598, 0.8615948625093831, 0.15455633194263352)"
      ]
     },
     "execution_count": 137,
     "metadata": {},
     "output_type": "execute_result"
    }
   ],
   "source": [
    "get_percentages(1.6309, 0.1977)"
   ]
  },
  {
   "cell_type": "code",
   "execution_count": 137,
   "metadata": {
    "collapsed": false
   },
   "outputs": [
    {
     "data": {
      "text/html": [
       "<table class=\"simpletable\">\n",
       "<caption>Generalized Linear Model Regression Results</caption>\n",
       "<tr>\n",
       "  <th>Dep. Variable:</th>   <td>seekhelp_if_fever</td> <th>  No. Observations:  </th>  <td>  1005</td> \n",
       "</tr>\n",
       "<tr>\n",
       "  <th>Model:</th>                  <td>GLM</td>        <th>  Df Residuals:      </th>  <td>  1003</td> \n",
       "</tr>\n",
       "<tr>\n",
       "  <th>Model Family:</th>        <td>Binomial</td>      <th>  Df Model:          </th>  <td>     1</td> \n",
       "</tr>\n",
       "<tr>\n",
       "  <th>Link Function:</th>         <td>logit</td>       <th>  Scale:             </th> <td>  1.0000</td>\n",
       "</tr>\n",
       "<tr>\n",
       "  <th>Method:</th>                <td>IRLS</td>        <th>  Log-Likelihood:    </th> <td> -556.27</td>\n",
       "</tr>\n",
       "<tr>\n",
       "  <th>Date:</th>            <td>Sun, 07 Feb 2021</td>  <th>  Deviance:          </th> <td>  1020.5</td>\n",
       "</tr>\n",
       "<tr>\n",
       "  <th>Time:</th>                <td>18:20:19</td>      <th>  Pearson chi2:      </th> <td>1.17e+03</td>\n",
       "</tr>\n",
       "<tr>\n",
       "  <th>No. Iterations:</th>          <td>4</td>         <th>                     </th>     <td> </td>   \n",
       "</tr>\n",
       "<tr>\n",
       "  <th>Covariance Type:</th>     <td>nonrobust</td>     <th>                     </th>     <td> </td>   \n",
       "</tr>\n",
       "</table>\n",
       "<table class=\"simpletable\">\n",
       "<tr>\n",
       "      <td></td>         <th>coef</th>     <th>std err</th>      <th>z</th>      <th>P>|z|</th>  <th>[0.025</th>    <th>0.975]</th>  \n",
       "</tr>\n",
       "<tr>\n",
       "  <th>Intercept</th> <td>    1.6468</td> <td>    0.107</td> <td>   15.452</td> <td> 0.000</td> <td>    1.438</td> <td>    1.856</td>\n",
       "</tr>\n",
       "<tr>\n",
       "  <th>treatment</th> <td>    0.1449</td> <td>    0.151</td> <td>    0.960</td> <td> 0.337</td> <td>   -0.151</td> <td>    0.441</td>\n",
       "</tr>\n",
       "</table>"
      ],
      "text/plain": [
       "<class 'statsmodels.iolib.summary.Summary'>\n",
       "\"\"\"\n",
       "                 Generalized Linear Model Regression Results                  \n",
       "==============================================================================\n",
       "Dep. Variable:      seekhelp_if_fever   No. Observations:                 1005\n",
       "Model:                            GLM   Df Residuals:                     1003\n",
       "Model Family:                Binomial   Df Model:                            1\n",
       "Link Function:                  logit   Scale:                          1.0000\n",
       "Method:                          IRLS   Log-Likelihood:                -556.27\n",
       "Date:                Sun, 07 Feb 2021   Deviance:                       1020.5\n",
       "Time:                        18:20:19   Pearson chi2:                 1.17e+03\n",
       "No. Iterations:                     4                                         \n",
       "Covariance Type:            nonrobust                                         \n",
       "==============================================================================\n",
       "                 coef    std err          z      P>|z|      [0.025      0.975]\n",
       "------------------------------------------------------------------------------\n",
       "Intercept      1.6468      0.107     15.452      0.000       1.438       1.856\n",
       "treatment      0.1449      0.151      0.960      0.337      -0.151       0.441\n",
       "==============================================================================\n",
       "\"\"\""
      ]
     },
     "execution_count": 137,
     "metadata": {},
     "output_type": "execute_result"
    }
   ],
   "source": [
    "reg('seekhelp_if_fever ~ treatment', mat[mat.seekhelp_if_fever.notna()], 'fever2weeks')"
   ]
  },
  {
   "cell_type": "code",
   "execution_count": 125,
   "metadata": {
    "collapsed": false
   },
   "outputs": [
    {
     "data": {
      "text/html": [
       "<table class=\"simpletable\">\n",
       "<caption>Generalized Linear Model Regression Results</caption>\n",
       "<tr>\n",
       "  <th>Dep. Variable:</th>     <td>fever4months</td>   <th>  No. Observations:  </th>  <td>  4951</td> \n",
       "</tr>\n",
       "<tr>\n",
       "  <th>Model:</th>                  <td>GLM</td>       <th>  Df Residuals:      </th>  <td>  4949</td> \n",
       "</tr>\n",
       "<tr>\n",
       "  <th>Model Family:</th>        <td>Binomial</td>     <th>  Df Model:          </th>  <td>     1</td> \n",
       "</tr>\n",
       "<tr>\n",
       "  <th>Link Function:</th>         <td>logit</td>      <th>  Scale:             </th> <td>  1.0000</td>\n",
       "</tr>\n",
       "<tr>\n",
       "  <th>Method:</th>                <td>IRLS</td>       <th>  Log-Likelihood:    </th> <td> -1814.3</td>\n",
       "</tr>\n",
       "<tr>\n",
       "  <th>Date:</th>            <td>Sun, 07 Feb 2021</td> <th>  Deviance:          </th> <td>  3628.7</td>\n",
       "</tr>\n",
       "<tr>\n",
       "  <th>Time:</th>                <td>18:12:45</td>     <th>  Pearson chi2:      </th> <td>4.95e+03</td>\n",
       "</tr>\n",
       "<tr>\n",
       "  <th>No. Iterations:</th>          <td>5</td>        <th>                     </th>     <td> </td>   \n",
       "</tr>\n",
       "<tr>\n",
       "  <th>Covariance Type:</th>     <td>nonrobust</td>    <th>                     </th>     <td> </td>   \n",
       "</tr>\n",
       "</table>\n",
       "<table class=\"simpletable\">\n",
       "<tr>\n",
       "      <td></td>         <th>coef</th>     <th>std err</th>      <th>z</th>      <th>P>|z|</th>  <th>[0.025</th>    <th>0.975]</th>  \n",
       "</tr>\n",
       "<tr>\n",
       "  <th>Intercept</th> <td>   -1.9782</td> <td>    0.061</td> <td>  -32.593</td> <td> 0.000</td> <td>   -2.097</td> <td>   -1.859</td>\n",
       "</tr>\n",
       "<tr>\n",
       "  <th>treatment</th> <td>   -0.0339</td> <td>    0.088</td> <td>   -0.387</td> <td> 0.699</td> <td>   -0.206</td> <td>    0.138</td>\n",
       "</tr>\n",
       "</table>"
      ],
      "text/plain": [
       "<class 'statsmodels.iolib.summary.Summary'>\n",
       "\"\"\"\n",
       "                 Generalized Linear Model Regression Results                  \n",
       "==============================================================================\n",
       "Dep. Variable:           fever4months   No. Observations:                 4951\n",
       "Model:                            GLM   Df Residuals:                     4949\n",
       "Model Family:                Binomial   Df Model:                            1\n",
       "Link Function:                  logit   Scale:                          1.0000\n",
       "Method:                          IRLS   Log-Likelihood:                -1814.3\n",
       "Date:                Sun, 07 Feb 2021   Deviance:                       3628.7\n",
       "Time:                        18:12:45   Pearson chi2:                 4.95e+03\n",
       "No. Iterations:                     5                                         \n",
       "Covariance Type:            nonrobust                                         \n",
       "==============================================================================\n",
       "                 coef    std err          z      P>|z|      [0.025      0.975]\n",
       "------------------------------------------------------------------------------\n",
       "Intercept     -1.9782      0.061    -32.593      0.000      -2.097      -1.859\n",
       "treatment     -0.0339      0.088     -0.387      0.699      -0.206       0.138\n",
       "==============================================================================\n",
       "\"\"\""
      ]
     },
     "execution_count": 125,
     "metadata": {},
     "output_type": "execute_result"
    }
   ],
   "source": [
    "reg('fever4months ~ treatment', matb)"
   ]
  },
  {
   "cell_type": "code",
   "execution_count": 126,
   "metadata": {
    "collapsed": false
   },
   "outputs": [
    {
     "data": {
      "text/html": [
       "<table class=\"simpletable\">\n",
       "<caption>Generalized Linear Model Regression Results</caption>\n",
       "<tr>\n",
       "  <th>Dep. Variable:</th>      <td>fever2weeks</td>   <th>  No. Observations:  </th>  <td>  6496</td> \n",
       "</tr>\n",
       "<tr>\n",
       "  <th>Model:</th>                  <td>GLM</td>       <th>  Df Residuals:      </th>  <td>  6494</td> \n",
       "</tr>\n",
       "<tr>\n",
       "  <th>Model Family:</th>        <td>Binomial</td>     <th>  Df Model:          </th>  <td>     1</td> \n",
       "</tr>\n",
       "<tr>\n",
       "  <th>Link Function:</th>         <td>logit</td>      <th>  Scale:             </th> <td>  1.0000</td>\n",
       "</tr>\n",
       "<tr>\n",
       "  <th>Method:</th>                <td>IRLS</td>       <th>  Log-Likelihood:    </th> <td> -4306.4</td>\n",
       "</tr>\n",
       "<tr>\n",
       "  <th>Date:</th>            <td>Sun, 07 Feb 2021</td> <th>  Deviance:          </th> <td>  5633.2</td>\n",
       "</tr>\n",
       "<tr>\n",
       "  <th>Time:</th>                <td>18:12:47</td>     <th>  Pearson chi2:      </th> <td>8.75e+03</td>\n",
       "</tr>\n",
       "<tr>\n",
       "  <th>No. Iterations:</th>          <td>6</td>        <th>                     </th>     <td> </td>   \n",
       "</tr>\n",
       "<tr>\n",
       "  <th>Covariance Type:</th>     <td>nonrobust</td>    <th>                     </th>     <td> </td>   \n",
       "</tr>\n",
       "</table>\n",
       "<table class=\"simpletable\">\n",
       "<tr>\n",
       "      <td></td>         <th>coef</th>     <th>std err</th>      <th>z</th>      <th>P>|z|</th>  <th>[0.025</th>    <th>0.975]</th>  \n",
       "</tr>\n",
       "<tr>\n",
       "  <th>Intercept</th> <td>   -2.7039</td> <td>    0.041</td> <td>  -66.740</td> <td> 0.000</td> <td>   -2.783</td> <td>   -2.625</td>\n",
       "</tr>\n",
       "<tr>\n",
       "  <th>treatment</th> <td>    0.1145</td> <td>    0.056</td> <td>    2.041</td> <td> 0.041</td> <td>    0.005</td> <td>    0.224</td>\n",
       "</tr>\n",
       "</table>"
      ],
      "text/plain": [
       "<class 'statsmodels.iolib.summary.Summary'>\n",
       "\"\"\"\n",
       "                 Generalized Linear Model Regression Results                  \n",
       "==============================================================================\n",
       "Dep. Variable:            fever2weeks   No. Observations:                 6496\n",
       "Model:                            GLM   Df Residuals:                     6494\n",
       "Model Family:                Binomial   Df Model:                            1\n",
       "Link Function:                  logit   Scale:                          1.0000\n",
       "Method:                          IRLS   Log-Likelihood:                -4306.4\n",
       "Date:                Sun, 07 Feb 2021   Deviance:                       5633.2\n",
       "Time:                        18:12:47   Pearson chi2:                 8.75e+03\n",
       "No. Iterations:                     6                                         \n",
       "Covariance Type:            nonrobust                                         \n",
       "==============================================================================\n",
       "                 coef    std err          z      P>|z|      [0.025      0.975]\n",
       "------------------------------------------------------------------------------\n",
       "Intercept     -2.7039      0.041    -66.740      0.000      -2.783      -2.625\n",
       "treatment      0.1145      0.056      2.041      0.041       0.005       0.224\n",
       "==============================================================================\n",
       "\"\"\""
      ]
     },
     "execution_count": 126,
     "metadata": {},
     "output_type": "execute_result"
    }
   ],
   "source": [
    "reg('fever2weeks ~ treatment', mat)"
   ]
  },
  {
   "cell_type": "code",
   "execution_count": 115,
   "metadata": {
    "collapsed": false
   },
   "outputs": [
    {
     "data": {
      "text/html": [
       "<table class=\"simpletable\">\n",
       "<caption>Generalized Linear Model Regression Results</caption>\n",
       "<tr>\n",
       "  <th>Dep. Variable:</th>    <td>malaria4months</td>  <th>  No. Observations:  </th>  <td>  5001</td> \n",
       "</tr>\n",
       "<tr>\n",
       "  <th>Model:</th>                  <td>GLM</td>       <th>  Df Residuals:      </th>  <td>  4999</td> \n",
       "</tr>\n",
       "<tr>\n",
       "  <th>Model Family:</th>        <td>Binomial</td>     <th>  Df Model:          </th>  <td>     1</td> \n",
       "</tr>\n",
       "<tr>\n",
       "  <th>Link Function:</th>         <td>logit</td>      <th>  Scale:             </th> <td>  1.0000</td>\n",
       "</tr>\n",
       "<tr>\n",
       "  <th>Method:</th>                <td>IRLS</td>       <th>  Log-Likelihood:    </th> <td> -965.49</td>\n",
       "</tr>\n",
       "<tr>\n",
       "  <th>Date:</th>            <td>Sun, 07 Feb 2021</td> <th>  Deviance:          </th> <td>  1931.0</td>\n",
       "</tr>\n",
       "<tr>\n",
       "  <th>Time:</th>                <td>17:59:59</td>     <th>  Pearson chi2:      </th> <td>5.00e+03</td>\n",
       "</tr>\n",
       "<tr>\n",
       "  <th>No. Iterations:</th>          <td>6</td>        <th>                     </th>     <td> </td>   \n",
       "</tr>\n",
       "<tr>\n",
       "  <th>Covariance Type:</th>     <td>nonrobust</td>    <th>                     </th>     <td> </td>   \n",
       "</tr>\n",
       "</table>\n",
       "<table class=\"simpletable\">\n",
       "<tr>\n",
       "      <td></td>         <th>coef</th>     <th>std err</th>      <th>z</th>      <th>P>|z|</th>  <th>[0.025</th>    <th>0.975]</th>  \n",
       "</tr>\n",
       "<tr>\n",
       "  <th>Intercept</th> <td>   -3.0466</td> <td>    0.095</td> <td>  -32.197</td> <td> 0.000</td> <td>   -3.232</td> <td>   -2.861</td>\n",
       "</tr>\n",
       "<tr>\n",
       "  <th>treatment</th> <td>    0.1270</td> <td>    0.132</td> <td>    0.962</td> <td> 0.336</td> <td>   -0.132</td> <td>    0.386</td>\n",
       "</tr>\n",
       "</table>"
      ],
      "text/plain": [
       "<class 'statsmodels.iolib.summary.Summary'>\n",
       "\"\"\"\n",
       "                 Generalized Linear Model Regression Results                  \n",
       "==============================================================================\n",
       "Dep. Variable:         malaria4months   No. Observations:                 5001\n",
       "Model:                            GLM   Df Residuals:                     4999\n",
       "Model Family:                Binomial   Df Model:                            1\n",
       "Link Function:                  logit   Scale:                          1.0000\n",
       "Method:                          IRLS   Log-Likelihood:                -965.49\n",
       "Date:                Sun, 07 Feb 2021   Deviance:                       1931.0\n",
       "Time:                        17:59:59   Pearson chi2:                 5.00e+03\n",
       "No. Iterations:                     6                                         \n",
       "Covariance Type:            nonrobust                                         \n",
       "==============================================================================\n",
       "                 coef    std err          z      P>|z|      [0.025      0.975]\n",
       "------------------------------------------------------------------------------\n",
       "Intercept     -3.0466      0.095    -32.197      0.000      -3.232      -2.861\n",
       "treatment      0.1270      0.132      0.962      0.336      -0.132       0.386\n",
       "==============================================================================\n",
       "\"\"\""
      ]
     },
     "execution_count": 115,
     "metadata": {},
     "output_type": "execute_result"
    }
   ],
   "source": [
    "reg('malaria4months ~ treatment', matb)"
   ]
  },
  {
   "cell_type": "code",
   "execution_count": 116,
   "metadata": {
    "collapsed": false
   },
   "outputs": [
    {
     "data": {
      "text/plain": [
       "(0.045364488367139494, 0.5317073940719488)"
      ]
     },
     "execution_count": 116,
     "metadata": {},
     "output_type": "execute_result"
    }
   ],
   "source": [
    "expit(-3.0466), expit(0.1270)"
   ]
  },
  {
   "cell_type": "code",
   "execution_count": 130,
   "metadata": {
    "collapsed": false
   },
   "outputs": [
    {
     "data": {
      "text/html": [
       "<table class=\"simpletable\">\n",
       "<caption>Generalized Linear Model Regression Results</caption>\n",
       "<tr>\n",
       "  <th>Dep. Variable:</th>     <td>malaria2weeks</td>  <th>  No. Observations:  </th>  <td>  6496</td> \n",
       "</tr>\n",
       "<tr>\n",
       "  <th>Model:</th>                  <td>GLM</td>       <th>  Df Residuals:      </th>  <td>  6494</td> \n",
       "</tr>\n",
       "<tr>\n",
       "  <th>Model Family:</th>        <td>Binomial</td>     <th>  Df Model:          </th>  <td>     1</td> \n",
       "</tr>\n",
       "<tr>\n",
       "  <th>Link Function:</th>         <td>logit</td>      <th>  Scale:             </th> <td>  1.0000</td>\n",
       "</tr>\n",
       "<tr>\n",
       "  <th>Method:</th>                <td>IRLS</td>       <th>  Log-Likelihood:    </th> <td> -1526.8</td>\n",
       "</tr>\n",
       "<tr>\n",
       "  <th>Date:</th>            <td>Sun, 07 Feb 2021</td> <th>  Deviance:          </th> <td>  3053.5</td>\n",
       "</tr>\n",
       "<tr>\n",
       "  <th>Time:</th>                <td>18:15:45</td>     <th>  Pearson chi2:      </th> <td>6.50e+03</td>\n",
       "</tr>\n",
       "<tr>\n",
       "  <th>No. Iterations:</th>          <td>6</td>        <th>                     </th>     <td> </td>   \n",
       "</tr>\n",
       "<tr>\n",
       "  <th>Covariance Type:</th>     <td>nonrobust</td>    <th>                     </th>     <td> </td>   \n",
       "</tr>\n",
       "</table>\n",
       "<table class=\"simpletable\">\n",
       "<tr>\n",
       "      <td></td>         <th>coef</th>     <th>std err</th>      <th>z</th>      <th>P>|z|</th>  <th>[0.025</th>    <th>0.975]</th>  \n",
       "</tr>\n",
       "<tr>\n",
       "  <th>Intercept</th> <td>   -2.6843</td> <td>    0.072</td> <td>  -37.365</td> <td> 0.000</td> <td>   -2.825</td> <td>   -2.543</td>\n",
       "</tr>\n",
       "<tr>\n",
       "  <th>treatment</th> <td>   -0.0320</td> <td>    0.102</td> <td>   -0.313</td> <td> 0.754</td> <td>   -0.232</td> <td>    0.168</td>\n",
       "</tr>\n",
       "</table>"
      ],
      "text/plain": [
       "<class 'statsmodels.iolib.summary.Summary'>\n",
       "\"\"\"\n",
       "                 Generalized Linear Model Regression Results                  \n",
       "==============================================================================\n",
       "Dep. Variable:          malaria2weeks   No. Observations:                 6496\n",
       "Model:                            GLM   Df Residuals:                     6494\n",
       "Model Family:                Binomial   Df Model:                            1\n",
       "Link Function:                  logit   Scale:                          1.0000\n",
       "Method:                          IRLS   Log-Likelihood:                -1526.8\n",
       "Date:                Sun, 07 Feb 2021   Deviance:                       3053.5\n",
       "Time:                        18:15:45   Pearson chi2:                 6.50e+03\n",
       "No. Iterations:                     6                                         \n",
       "Covariance Type:            nonrobust                                         \n",
       "==============================================================================\n",
       "                 coef    std err          z      P>|z|      [0.025      0.975]\n",
       "------------------------------------------------------------------------------\n",
       "Intercept     -2.6843      0.072    -37.365      0.000      -2.825      -2.543\n",
       "treatment     -0.0320      0.102     -0.313      0.754      -0.232       0.168\n",
       "==============================================================================\n",
       "\"\"\""
      ]
     },
     "execution_count": 130,
     "metadata": {},
     "output_type": "execute_result"
    }
   ],
   "source": [
    "reg('malaria2weeks ~ treatment', mat, 'foo')"
   ]
  },
  {
   "cell_type": "code",
   "execution_count": 132,
   "metadata": {
    "collapsed": false
   },
   "outputs": [
    {
     "data": {
      "text/plain": [
       "(0.06390615823520344, 0.061439175217968434)"
      ]
     },
     "execution_count": 132,
     "metadata": {},
     "output_type": "execute_result"
    }
   ],
   "source": [
    "expit(-2.6843), expit(-2.6943 - 0.0320)"
   ]
  },
  {
   "cell_type": "code",
   "execution_count": null,
   "metadata": {
    "collapsed": false
   },
   "outputs": [],
   "source": [
    "dd[dd.wave == 0].groupby('treatment').long_sleeves.mean()"
   ]
  },
  {
   "cell_type": "code",
   "execution_count": null,
   "metadata": {
    "collapsed": false
   },
   "outputs": [],
   "source": [
    "reg('as_type(under_net, int) ~ treatment:as_type(wave, str) + avg_under_net', dd[(dd.userid.isin(mat[mat.net_ownership].userid)) & (dd.wave > 0)])"
   ]
  },
  {
   "cell_type": "code",
   "execution_count": null,
   "metadata": {
    "collapsed": false
   },
   "outputs": [],
   "source": [
    "reg('as_type(under_net, int) ~ treatment:as_type(month, str) + avg_under_net', dd[(dd.userid.isin(mat[mat.net_ownership].userid)) & (dd.wave > 0)])"
   ]
  },
  {
   "cell_type": "code",
   "execution_count": null,
   "metadata": {
    "collapsed": false
   },
   "outputs": [],
   "source": [
    "reg('as_type(long_sleeves, int) ~ treatment:as_type(month, str) + avg_long_sleeves', dd)"
   ]
  },
  {
   "cell_type": "code",
   "execution_count": null,
   "metadata": {
    "collapsed": false
   },
   "outputs": [],
   "source": [
    "reg('as_type(long_sleeves, int) ~ treatment', dd[dd.wave == 0])"
   ]
  },
  {
   "cell_type": "code",
   "execution_count": null,
   "metadata": {
    "collapsed": false
   },
   "outputs": [],
   "source": [
    "reg('as_type(under_net, int) ~ treatment', dd[dd.wave == 0])"
   ]
  },
  {
   "cell_type": "code",
   "execution_count": null,
   "metadata": {
    "collapsed": false
   },
   "outputs": [],
   "source": [
    "reg('as_type(malaria_now, int) ~ treatment', dd[dd.wave == 0])"
   ]
  },
  {
   "cell_type": "code",
   "execution_count": null,
   "metadata": {
    "collapsed": false
   },
   "outputs": [],
   "source": [
    "reg('malaria_now ~ treatment', mat)"
   ]
  },
  {
   "cell_type": "code",
   "execution_count": null,
   "metadata": {
    "collapsed": false
   },
   "outputs": [],
   "source": [
    "mat['num_under_net'].max()"
   ]
  },
  {
   "cell_type": "code",
   "execution_count": null,
   "metadata": {
    "collapsed": false
   },
   "outputs": [],
   "source": [
    "reg('num_under_net ~ treatment', mat[(mat['owns_net'] == 'Yes')]) "
   ]
  },
  {
   "cell_type": "code",
   "execution_count": null,
   "metadata": {
    "collapsed": false
   },
   "outputs": [],
   "source": [
    "reg('long_sleeves ~ treatment + avg_long_sleeves', mat) "
   ]
  },
  {
   "cell_type": "code",
   "execution_count": null,
   "metadata": {
    "collapsed": false
   },
   "outputs": [],
   "source": [
    "reg('under_net ~ treatment', mat[mat['owns_net'] == 'Yes'])"
   ]
  },
  {
   "cell_type": "code",
   "execution_count": null,
   "metadata": {
    "collapsed": false
   },
   "outputs": [],
   "source": [
    "reg('under_net ~ treatment*pregnant_in_house', mat[mat['owns_net'] == 'Yes'])"
   ]
  },
  {
   "cell_type": "code",
   "execution_count": null,
   "metadata": {
    "collapsed": false
   },
   "outputs": [],
   "source": [
    "reg('under_net ~ treatment*quantile(avg_malaria_now, 0.5)', mat[mat['owns_net'] == 'Yes'])"
   ]
  },
  {
   "cell_type": "code",
   "execution_count": null,
   "metadata": {
    "collapsed": false
   },
   "outputs": [],
   "source": [
    "reg('under_net ~ treatment*kutcha*quantile(avg_malaria_now, 0.5)', mat[mat['owns_net'] == 'Yes'])"
   ]
  },
  {
   "cell_type": "code",
   "execution_count": 1413,
   "metadata": {
    "collapsed": false
   },
   "outputs": [
    {
     "data": {
      "text/plain": [
       "0.6454503734274153"
      ]
     },
     "execution_count": 1413,
     "metadata": {},
     "output_type": "execute_result"
    }
   ],
   "source": [
    "expit(0.5991)"
   ]
  },
  {
   "cell_type": "code",
   "execution_count": 1412,
   "metadata": {
    "collapsed": false
   },
   "outputs": [
    {
     "data": {
      "text/plain": [
       "0.6506960099929763"
      ]
     },
     "execution_count": 1412,
     "metadata": {},
     "output_type": "execute_result"
    }
   ],
   "source": [
    "expit(0.5991 + 0.023)"
   ]
  },
  {
   "cell_type": "code",
   "execution_count": 1416,
   "metadata": {
    "collapsed": false
   },
   "outputs": [
    {
     "data": {
      "text/plain": [
       "0.5891372593292695"
      ]
     },
     "execution_count": 1416,
     "metadata": {},
     "output_type": "execute_result"
    }
   ],
   "source": [
    "expit(0.5991 - 0.2387)"
   ]
  },
  {
   "cell_type": "code",
   "execution_count": 1414,
   "metadata": {
    "collapsed": false
   },
   "outputs": [
    {
     "data": {
      "text/plain": [
       "0.6316262977304613"
      ]
     },
     "execution_count": 1414,
     "metadata": {},
     "output_type": "execute_result"
    }
   ],
   "source": [
    "expit(0.5991 + 0.023 + 0.1558 - 0.2387)"
   ]
  },
  {
   "cell_type": "code",
   "execution_count": null,
   "metadata": {
    "collapsed": false
   },
   "outputs": [],
   "source": [
    "reg('under_net ~ treatment', mat[mat['owns_net'] == 'Yes'])"
   ]
  },
  {
   "cell_type": "code",
   "execution_count": 1378,
   "metadata": {
    "collapsed": false
   },
   "outputs": [],
   "source": []
  },
  {
   "cell_type": "code",
   "execution_count": 1379,
   "metadata": {
    "collapsed": false
   },
   "outputs": [
    {
     "data": {
      "text/plain": [
       "0.6292498476593299"
      ]
     },
     "execution_count": 1379,
     "metadata": {},
     "output_type": "execute_result"
    }
   ],
   "source": [
    "expit(0.529)"
   ]
  },
  {
   "cell_type": "code",
   "execution_count": 1388,
   "metadata": {
    "collapsed": false
   },
   "outputs": [
    {
     "data": {
      "text/plain": [
       "0.617747874769249"
      ]
     },
     "execution_count": 1388,
     "metadata": {},
     "output_type": "execute_result"
    }
   ],
   "source": [
    "expit(0.48)"
   ]
  },
  {
   "cell_type": "code",
   "execution_count": 1389,
   "metadata": {
    "collapsed": false
   },
   "outputs": [
    {
     "data": {
      "text/plain": [
       "0.6410674063348171"
      ]
     },
     "execution_count": 1389,
     "metadata": {},
     "output_type": "execute_result"
    }
   ],
   "source": [
    "expit(0.58)"
   ]
  },
  {
   "cell_type": "code",
   "execution_count": 1405,
   "metadata": {
    "collapsed": false
   },
   "outputs": [
    {
     "data": {
      "text/plain": [
       "(0.5863750605361624, 0.648168881838421)"
      ]
     },
     "execution_count": 1405,
     "metadata": {},
     "output_type": "execute_result"
    }
   ],
   "source": [
    "expit(0.349), expit(0.611)"
   ]
  },
  {
   "cell_type": "code",
   "execution_count": 1404,
   "metadata": {
    "collapsed": false
   },
   "outputs": [
    {
     "data": {
      "text/plain": [
       "(0.6201064323430902, 0.7045375762042413)"
      ]
     },
     "execution_count": 1404,
     "metadata": {},
     "output_type": "execute_result"
    }
   ],
   "source": [
    "expit(0.58 - 0.09), expit(0.58 + 0.289)"
   ]
  },
  {
   "cell_type": "code",
   "execution_count": 1402,
   "metadata": {
    "collapsed": false
   },
   "outputs": [
    {
     "data": {
      "text/plain": [
       "0.7045375762042413"
      ]
     },
     "execution_count": 1402,
     "metadata": {},
     "output_type": "execute_result"
    }
   ],
   "source": []
  },
  {
   "cell_type": "code",
   "execution_count": null,
   "metadata": {
    "collapsed": false
   },
   "outputs": [],
   "source": [
    "reg('under_net ~ treatment*lower_caste*quantile(avg_malaria_now, 0.5) + avg_under_net', mat[mat['owns_net'] == 'Yes'])"
   ]
  },
  {
   "cell_type": "code",
   "execution_count": null,
   "metadata": {
    "collapsed": false
   },
   "outputs": [],
   "source": [
    "reg('long_sleeves ~ treatment*lower_caste*quantile(avg_malaria_now, 0.5) + avg_long_sleeves', mat)"
   ]
  },
  {
   "cell_type": "code",
   "execution_count": 415,
   "metadata": {
    "collapsed": false
   },
   "outputs": [
    {
     "data": {
      "text/plain": [
       "0"
      ]
     },
     "execution_count": 415,
     "metadata": {},
     "output_type": "execute_result"
    }
   ],
   "source": [
    "mat.malaria_now.sum()"
   ]
  },
  {
   "cell_type": "code",
   "execution_count": 410,
   "metadata": {
    "collapsed": false
   },
   "outputs": [
    {
     "data": {
      "text/plain": [
       "array([0, 0, 0, 0, 0, 0, 0, 0, 0, 0, 0, 0, 0, 0, 0, 0, 0, 0, 0, 0, 0, 0,\n",
       "       0, 0, 0, 0, 0, 0, 0, 0, 0, 0, 0, 0, 0, 0, 0, 0, 0, 0, 0, 0, 0, 0,\n",
       "       0, 0, 0, 0, 0, 0, 0, 0, 0, 0, 0, 0, 0, 0, 0, 0, 0, 0, 0, 0, 0, 0,\n",
       "       0, 0, 0, 0, 0, 0, 0, 0, 0, 0, 0, 0, 0, 0])"
      ]
     },
     "execution_count": 410,
     "metadata": {},
     "output_type": "execute_result"
    }
   ],
   "source": [
    "mat.groupby('clusterid').malaria_now.sum().values"
   ]
  },
  {
   "cell_type": "code",
   "execution_count": 383,
   "metadata": {
    "collapsed": false
   },
   "outputs": [
    {
     "data": {
      "text/plain": [
       "treatment  malaria_now\n",
       "0          0              0.917864\n",
       "           1              0.082136\n",
       "1          0              0.910769\n",
       "           1              0.089231\n",
       "Name: malaria_now, dtype: float64"
      ]
     },
     "execution_count": 383,
     "metadata": {},
     "output_type": "execute_result"
    }
   ],
   "source": [
    "mat.groupby('treatment').malaria_now.value_counts(normalize=True)"
   ]
  },
  {
   "cell_type": "code",
   "execution_count": null,
   "metadata": {
    "collapsed": false
   },
   "outputs": [],
   "source": [
    "df.clusterid"
   ]
  },
  {
   "cell_type": "code",
   "execution_count": null,
   "metadata": {
    "collapsed": false
   },
   "outputs": [],
   "source": [
    "df.wave == 0"
   ]
  },
  {
   "cell_type": "code",
   "execution_count": 768,
   "metadata": {
    "collapsed": false
   },
   "outputs": [],
   "source": [
    "dist_info['high_malaria_district'] = dist_info.avg_malaria_now > 0.02"
   ]
  },
  {
   "cell_type": "code",
   "execution_count": 495,
   "metadata": {
    "collapsed": false
   },
   "outputs": [
    {
     "data": {
      "text/plain": [
       "array([1, 0, 0, 0, 0, 1, 0, 0, 0, 0, 1, 0, 1, 1, 0, 0, 2, 1, 0, 0, 1, 0,\n",
       "       0, 0, 0, 0, 0, 0, 0, 1, 0, 0, 0, 0, 0, 0, 1, 0, 0, 0, 0, 0, 0, 1,\n",
       "       0, 0, 0, 0, 0, 0, 0, 1, 0, 1, 1, 1, 0, 0, 0, 0, 0, 0, 0, 1, 0, 0,\n",
       "       2, 0, 0, 1, 0, 0, 0, 0, 0, 0, 0, 0, 0, 0])"
      ]
     },
     "execution_count": 495,
     "metadata": {},
     "output_type": "execute_result"
    }
   ],
   "source": [
    "dd[dd.wave == 0].groupby('clusterid').apply(lambda df: df.malaria_now.sum()).values"
   ]
  },
  {
   "cell_type": "code",
   "execution_count": null,
   "metadata": {
    "collapsed": false
   },
   "outputs": [],
   "source": [
    "dist_info"
   ]
  },
  {
   "cell_type": "code",
   "execution_count": null,
   "metadata": {
    "collapsed": false
   },
   "outputs": [],
   "source": [
    "mm"
   ]
  },
  {
   "cell_type": "code",
   "execution_count": 543,
   "metadata": {
    "collapsed": false
   },
   "outputs": [
    {
     "name": "stdout",
     "output_type": "stream",
     "text": [
      "Optimization terminated successfully.\n",
      "         Current function value: 0.287730\n",
      "         Iterations 8\n"
     ]
    },
    {
     "data": {
      "text/html": [
       "<table class=\"simpletable\">\n",
       "<caption>Logit Regression Results</caption>\n",
       "<tr>\n",
       "  <th>Dep. Variable:</th>      <td>malaria_now</td>   <th>  No. Observations:  </th>  <td>  1949</td> \n",
       "</tr>\n",
       "<tr>\n",
       "  <th>Model:</th>                 <td>Logit</td>      <th>  Df Residuals:      </th>  <td>  1941</td> \n",
       "</tr>\n",
       "<tr>\n",
       "  <th>Method:</th>                 <td>MLE</td>       <th>  Df Model:          </th>  <td>     7</td> \n",
       "</tr>\n",
       "<tr>\n",
       "  <th>Date:</th>            <td>Wed, 02 Dec 2020</td> <th>  Pseudo R-squ.:     </th>  <td>0.01610</td>\n",
       "</tr>\n",
       "<tr>\n",
       "  <th>Time:</th>                <td>16:37:02</td>     <th>  Log-Likelihood:    </th> <td> -560.79</td>\n",
       "</tr>\n",
       "<tr>\n",
       "  <th>converged:</th>             <td>True</td>       <th>  LL-Null:           </th> <td> -569.96</td>\n",
       "</tr>\n",
       "<tr>\n",
       "  <th>Covariance Type:</th>     <td>nonrobust</td>    <th>  LLR p-value:       </th>  <td>0.01047</td>\n",
       "</tr>\n",
       "</table>\n",
       "<table class=\"simpletable\">\n",
       "<tr>\n",
       "                       <td></td>                         <th>coef</th>     <th>std err</th>      <th>z</th>      <th>P>|z|</th>  <th>[0.025</th>    <th>0.975]</th>  \n",
       "</tr>\n",
       "<tr>\n",
       "  <th>Intercept</th>                                  <td>   -1.9847</td> <td>    0.738</td> <td>   -2.689</td> <td> 0.007</td> <td>   -3.431</td> <td>   -0.538</td>\n",
       "</tr>\n",
       "<tr>\n",
       "  <th>treatment</th>                                  <td>    0.4164</td> <td>    1.093</td> <td>    0.381</td> <td> 0.703</td> <td>   -1.725</td> <td>    2.558</td>\n",
       "</tr>\n",
       "<tr>\n",
       "  <th>avg_malaria_now</th>                            <td>    0.0445</td> <td>   38.359</td> <td>    0.001</td> <td> 0.999</td> <td>  -75.138</td> <td>   75.227</td>\n",
       "</tr>\n",
       "<tr>\n",
       "  <th>treatment:avg_malaria_now</th>                  <td>  -11.6342</td> <td>   51.275</td> <td>   -0.227</td> <td> 0.821</td> <td> -112.130</td> <td>   88.862</td>\n",
       "</tr>\n",
       "<tr>\n",
       "  <th>cost_per_message</th>                           <td>   -0.0403</td> <td>    0.034</td> <td>   -1.195</td> <td> 0.232</td> <td>   -0.106</td> <td>    0.026</td>\n",
       "</tr>\n",
       "<tr>\n",
       "  <th>treatment:cost_per_message</th>                 <td>   -0.0314</td> <td>    0.054</td> <td>   -0.581</td> <td> 0.561</td> <td>   -0.138</td> <td>    0.075</td>\n",
       "</tr>\n",
       "<tr>\n",
       "  <th>avg_malaria_now:cost_per_message</th>           <td>    0.9171</td> <td>    1.603</td> <td>    0.572</td> <td> 0.567</td> <td>   -2.225</td> <td>    4.059</td>\n",
       "</tr>\n",
       "<tr>\n",
       "  <th>treatment:avg_malaria_now:cost_per_message</th> <td>    0.9822</td> <td>    2.285</td> <td>    0.430</td> <td> 0.667</td> <td>   -3.496</td> <td>    5.461</td>\n",
       "</tr>\n",
       "</table>"
      ],
      "text/plain": [
       "<class 'statsmodels.iolib.summary.Summary'>\n",
       "\"\"\"\n",
       "                           Logit Regression Results                           \n",
       "==============================================================================\n",
       "Dep. Variable:            malaria_now   No. Observations:                 1949\n",
       "Model:                          Logit   Df Residuals:                     1941\n",
       "Method:                           MLE   Df Model:                            7\n",
       "Date:                Wed, 02 Dec 2020   Pseudo R-squ.:                 0.01610\n",
       "Time:                        16:37:02   Log-Likelihood:                -560.79\n",
       "converged:                       True   LL-Null:                       -569.96\n",
       "Covariance Type:            nonrobust   LLR p-value:                   0.01047\n",
       "==============================================================================================================\n",
       "                                                 coef    std err          z      P>|z|      [0.025      0.975]\n",
       "--------------------------------------------------------------------------------------------------------------\n",
       "Intercept                                     -1.9847      0.738     -2.689      0.007      -3.431      -0.538\n",
       "treatment                                      0.4164      1.093      0.381      0.703      -1.725       2.558\n",
       "avg_malaria_now                                0.0445     38.359      0.001      0.999     -75.138      75.227\n",
       "treatment:avg_malaria_now                    -11.6342     51.275     -0.227      0.821    -112.130      88.862\n",
       "cost_per_message                              -0.0403      0.034     -1.195      0.232      -0.106       0.026\n",
       "treatment:cost_per_message                    -0.0314      0.054     -0.581      0.561      -0.138       0.075\n",
       "avg_malaria_now:cost_per_message               0.9171      1.603      0.572      0.567      -2.225       4.059\n",
       "treatment:avg_malaria_now:cost_per_message     0.9822      2.285      0.430      0.667      -3.496       5.461\n",
       "==============================================================================================================\n",
       "\"\"\""
      ]
     },
     "execution_count": 543,
     "metadata": {},
     "output_type": "execute_result"
    }
   ],
   "source": [
    "smf.logit('malaria_now ~ treatment*avg_malaria_now*cost_per_message', mm).fit().summary()"
   ]
  },
  {
   "cell_type": "code",
   "execution_count": 438,
   "metadata": {
    "collapsed": false
   },
   "outputs": [
    {
     "data": {
      "text/plain": [
       "treatment  translated_response\n",
       "0          Yes                    0.569815\n",
       "           No                     0.430185\n",
       "1          Yes                    0.562628\n",
       "           No                     0.437372\n",
       "Name: translated_response, dtype: float64"
      ]
     },
     "execution_count": 438,
     "metadata": {},
     "output_type": "execute_result"
    }
   ],
   "source": [
    "df[(df.variable == 'net_lastnight') & (df.wave == 0)].groupby('treatment').translated_response.value_counts(normalize=True)"
   ]
  },
  {
   "cell_type": "code",
   "execution_count": 440,
   "metadata": {
    "collapsed": false
   },
   "outputs": [
    {
     "data": {
      "text/plain": [
       "1197     2020-07-23 08:06:51.476000+00:00\n",
       "1190     2020-07-23 08:07:00.147000+00:00\n",
       "1165     2020-07-23 08:07:55.339000+00:00\n",
       "1181     2020-07-23 08:08:15.220000+00:00\n",
       "1196     2020-07-23 08:08:21.454000+00:00\n",
       "                       ...               \n",
       "119064   2020-12-02 08:32:00.924000+00:00\n",
       "95367    2020-12-02 08:57:51.108000+00:00\n",
       "95615    2020-12-02 08:58:27.031000+00:00\n",
       "95616    2020-12-02 08:59:03.112000+00:00\n",
       "95623    2020-12-02 08:59:11.999000+00:00\n",
       "Name: timestamp, Length: 83171, dtype: datetime64[ns, psycopg2.tz.FixedOffsetTimezone(offset=0, name=None)]"
      ]
     },
     "execution_count": 440,
     "metadata": {},
     "output_type": "execute_result"
    }
   ],
   "source": [
    "df.timestamp"
   ]
  },
  {
   "cell_type": "code",
   "execution_count": 439,
   "metadata": {
    "collapsed": false
   },
   "outputs": [
    {
     "data": {
      "text/plain": [
       "treatment  translated_response\n",
       "0          Yes                    0.519062\n",
       "           No                     0.480938\n",
       "1          Yes                    0.572917\n",
       "           No                     0.427083\n",
       "Name: translated_response, dtype: float64"
      ]
     },
     "execution_count": 439,
     "metadata": {},
     "output_type": "execute_result"
    }
   ],
   "source": [
    "df[(df.variable == 'net_lastnight') & (df.wave > 5)].groupby('treatment').translated_response.value_counts(normalize=True)"
   ]
  },
  {
   "cell_type": "code",
   "execution_count": 198,
   "metadata": {
    "collapsed": false
   },
   "outputs": [
    {
     "data": {
      "text/plain": [
       "treatment\n",
       "0.0    3.153181\n",
       "1.0    3.222683\n",
       "Name: summed, dtype: float64"
      ]
     },
     "execution_count": 198,
     "metadata": {},
     "output_type": "execute_result"
    }
   ],
   "source": [
    "df[(df.variable == 'net_lastnight') & (df.wave > 0)] \\\n",
    "    .groupby('userid') \\\n",
    "    .apply(lambda df: df.assign(summed = (df.translated_response == 'Yes').sum())) \\\n",
    "    .groupby('treatment') \\\n",
    "    .summed.mean()"
   ]
  },
  {
   "cell_type": "code",
   "execution_count": null,
   "metadata": {
    "collapsed": false
   },
   "outputs": [],
   "source": [
    "df[(df.variable == 'long_sleeves') & (df.wave == 0)].groupby('treatment').translated_response.value_counts(normalize=True)"
   ]
  },
  {
   "cell_type": "code",
   "execution_count": 408,
   "metadata": {
    "collapsed": false
   },
   "outputs": [
    {
     "data": {
      "text/plain": [
       "treatment  translated_response\n",
       "0          Yes                    0.675000\n",
       "           No                     0.325000\n",
       "1          Yes                    0.653153\n",
       "           No                     0.346847\n",
       "Name: translated_response, dtype: float64"
      ]
     },
     "execution_count": 408,
     "metadata": {},
     "output_type": "execute_result"
    }
   ],
   "source": [
    "df[(df.variable == 'long_sleeves') & (df.wave > 5)].groupby('treatment').translated_response.value_counts(normalize=True)"
   ]
  },
  {
   "cell_type": "code",
   "execution_count": null,
   "metadata": {
    "collapsed": false
   },
   "outputs": [],
   "source": []
  },
  {
   "cell_type": "code",
   "execution_count": 1070,
   "metadata": {
    "collapsed": false
   },
   "outputs": [],
   "source": [
    "bl = dda[dda.wave == 0]\n",
    "bl = binarize_cols(bl, [('malaria5year', 'Yes')])"
   ]
  },
  {
   "cell_type": "code",
   "execution_count": 1073,
   "metadata": {
    "collapsed": false
   },
   "outputs": [
    {
     "data": {
      "text/plain": [
       "1859.0"
      ]
     },
     "execution_count": 1073,
     "metadata": {},
     "output_type": "execute_result"
    }
   ],
   "source": [
    "bl.malaria5year"
   ]
  },
  {
   "cell_type": "code",
   "execution_count": 1075,
   "metadata": {
    "collapsed": false
   },
   "outputs": [
    {
     "data": {
      "text/plain": [
       "164.0"
      ]
     },
     "execution_count": 1075,
     "metadata": {},
     "output_type": "execute_result"
    }
   ],
   "source": []
  },
  {
   "cell_type": "code",
   "execution_count": 1090,
   "metadata": {
    "collapsed": false
   },
   "outputs": [],
   "source": [
    "def _convert_cat(col):\n",
    "    try:\n",
    "        return col.cat.codes\n",
    "    except AttributeError:\n",
    "        return None\n",
    "\n",
    "def convert_cats(df):\n",
    "    cols = [(col, _convert_cat(df[col])) for col in df.columns]\n",
    "    cols =  [(n, c) for n, c in cols if c is not None]\n",
    "    names, cols = zip(*cols)\n",
    "    return cols\n",
    "\n",
    "def ordinalize(df, col, vals):\n",
    "    t = CategoricalDtype(categories=vals, ordered=True)\n",
    "    df[col] = df[col].astype(t)\n",
    "    return df"
   ]
  },
  {
   "cell_type": "code",
   "execution_count": 1101,
   "metadata": {
    "collapsed": false
   },
   "outputs": [],
   "source": [
    "bl = ordinalize(bl, 'distancemedicalcenter', ['Less than 15 minutes', 'Between 15 and 30 minutes', 'Between 30 and 60 minutes', 'More than 60 minutes'])\n",
    "bl = ordinalize(bl, 'education', ['Never attended school', 'Primary', 'Secondary', 'University degree or higher'])\n",
    "bl = ordinalize(bl, 'home', ['Kutcha (made of mud, tin, straw)', 'Semi-pucca', 'Pucca (have cement/brick wall and floor'])"
   ]
  },
  {
   "cell_type": "code",
   "execution_count": 1265,
   "metadata": {
    "collapsed": false
   },
   "outputs": [],
   "source": [
    "bl['age'] = bl.age.map(lambda x: cast_number(15, 90, x)).astype(float)\n",
    "bl['familymembers'] = bl.familymembers.map(lambda x: cast_number(0, 30, x)).astype(float)"
   ]
  },
  {
   "cell_type": "code",
   "execution_count": 1253,
   "metadata": {
    "collapsed": false
   },
   "outputs": [],
   "source": [
    "bl['unemployed'] = bl.occupation == 'Unemployed'\n",
    "bl['self_employed'] = bl.occupation == 'Self-employed'\n",
    "bl['student'] = bl.occupation == 'Student'\n",
    "bl['employed_fulltime'] = bl.occupation == 'Employed-full time'"
   ]
  },
  {
   "cell_type": "code",
   "execution_count": 1258,
   "metadata": {
    "collapsed": false
   },
   "outputs": [],
   "source": [
    "bl['general_caste'] = bl.caste == 'General'\n",
    "bl['lower_caste'] = bl.caste.isin(['OBC', 'SC/Dalit', 'ST'])"
   ]
  },
  {
   "cell_type": "code",
   "execution_count": 1318,
   "metadata": {
    "collapsed": false
   },
   "outputs": [],
   "source": [
    "bl['female'] = bl.gender == 'Female'"
   ]
  },
  {
   "cell_type": "code",
   "execution_count": 1337,
   "metadata": {
    "collapsed": false
   },
   "outputs": [],
   "source": [
    "from sklearn.tree import DecisionTreeClassifier, DecisionTreeRegressor\n",
    "from dtreeviz.trees import *\n",
    "\n",
    "model = DecisionTreeClassifier(max_depth=2)\n",
    "\n",
    "df = bl.dropna(subset=['malaria2weeks', 'distancemedicalcenter', 'education', 'home', 'familymembers', 'age']).reset_index(drop=True)\n",
    "df = df[df.age >= 18].reset_index(drop=True)\n",
    "y = df.malaria2weeks\n",
    "# df['kutcha'] = df.home == 'Kutcha (made of mud, tin, straw)'\n",
    "# df['pucca'] = df.home == 'Pucca (have cement/brick wall and floor'\n",
    "picked = ['age', 'female', 'unemployed', 'self_employed', 'student', 'employed_fulltime', 'general_caste', 'lower_caste']\n",
    "X = df[picked]\n",
    "\n",
    "X = pd.concat([X, *convert_cats(df[['distancemedicalcenter', 'education', 'home']])], axis=1)\n",
    "X.columns = picked + ['distancemedicalcenter', 'education', 'dwelling']\n",
    "\n",
    "model.fit(X, y)\n",
    "\n",
    "viz = dtreeviz(model, \n",
    "               X, \n",
    "               y,\n",
    "               target_name='malaria2weeks',\n",
    "               feature_names=X.columns, \n",
    "               # fancy=False\n",
    "              )  \n"
   ]
  },
  {
   "cell_type": "code",
   "execution_count": null,
   "metadata": {
    "collapsed": false
   },
   "outputs": [],
   "source": [
    "viz"
   ]
  },
  {
   "cell_type": "code",
   "execution_count": 1333,
   "metadata": {
    "collapsed": false
   },
   "outputs": [],
   "source": [
    "viz.save('outs/images/malaria5year.svg')"
   ]
  },
  {
   "cell_type": "code",
   "execution_count": 1334,
   "metadata": {
    "collapsed": false
   },
   "outputs": [
    {
     "data": {
      "text/plain": [
       "dwelling                -0.068\n",
       "general_caste           -0.048\n",
       "self_employed           -0.032\n",
       "age                     -0.023\n",
       "female                  -0.012\n",
       "employed_fulltime       -0.009\n",
       "student                  0.009\n",
       "familymembers            0.017\n",
       "unemployed               0.021\n",
       "education                0.038\n",
       "distancemedicalcenter    0.049\n",
       "lower_caste              0.056\n",
       "malaria2weeks            1.000\n",
       "Name: malaria2weeks, dtype: float64"
      ]
     },
     "execution_count": 1334,
     "metadata": {},
     "output_type": "execute_result"
    }
   ],
   "source": [
    "X['malaria2weeks'] = df.malaria5year\n",
    "X.corr()['malaria2weeks'].round(3).sort_values()"
   ]
  },
  {
   "cell_type": "code",
   "execution_count": 1385,
   "metadata": {
    "collapsed": false
   },
   "outputs": [],
   "source": [
    "ddb['kutcha'] = ddb.dwelling == 'Kutcha (made of mud, tin, straw)'\n",
    "ddb['pucca'] = ddb.dwelling == 'Pucca (have cement/brick wall and floor'"
   ]
  },
  {
   "cell_type": "code",
   "execution_count": null,
   "metadata": {
    "collapsed": false
   },
   "outputs": [],
   "source": [
    "with sns.color_palette('Set2'):\n",
    "    # _, ax = plt.subplots(figsize=(16, 5))\n",
    "    sns.displot(ddb[ddb.dwelling.notna()].groupby('stratumid').kutcha.mean(), alpha = 0.5, kde=True)"
   ]
  },
  {
   "cell_type": "code",
   "execution_count": 1220,
   "metadata": {
    "collapsed": false
   },
   "outputs": [],
   "source": [
    "X['y'] = y"
   ]
  },
  {
   "cell_type": "code",
   "execution_count": null,
   "metadata": {
    "collapsed": false
   },
   "outputs": [],
   "source": [
    "X.corr()"
   ]
  },
  {
   "cell_type": "code",
   "execution_count": null,
   "metadata": {
    "collapsed": false
   },
   "outputs": [],
   "source": []
  },
  {
   "cell_type": "code",
   "execution_count": null,
   "metadata": {
    "collapsed": false
   },
   "outputs": [],
   "source": []
  },
  {
   "cell_type": "code",
   "execution_count": null,
   "metadata": {
    "collapsed": false
   },
   "outputs": [],
   "source": [
    "# LOOK AT CHANGE IN INDIVIDUAL BEHAVIOR, DIF IN DIF!\n",
    "# Too weak, 82 users :(\n",
    "\n",
    "early_fever_users = dda[(dda.week < 36) & dda.seekhelpfever.notna()].userid.unique()\n",
    "fu = dda[(dda.userid.isin(early_fever_users)) & (dda.week > 38) & dda.seekhelpfever.notna()].groupby('userid').apply(lambda df: df.sort_values('week').iloc[-1]).reset_index(drop=True)\n",
    "\n",
    "base = dda[(dda.userid.isin(fu.userid)) & (dda.week < 36) & dda.seekhelpfever.notna()].groupby('userid').apply(lambda df: df.sort_values('week').iloc[0]).reset_index(drop=True).rename(columns = {'seekhelpfever': 'pre_seekhelpfever'})\n",
    "\n",
    "combo = base[['userid', 'pre_seekhelpfever', 'treatment']].merge(fu[['userid', 'seekhelpfever']])\n",
    "combo['dif'] = combo.seekhelpfever - combo.pre_seekhelpfever\n",
    "\n",
    "smf.ols('dif ~ treatment', combo).fit().summary()"
   ]
  }
 ],
 "metadata": {
  "kernelspec": {
   "argv": [
    "python",
    "-m",
    "ipykernel_launcher",
    "-f",
    "{connection_file}"
   ],
   "display_name": "Python 3",
   "env": null,
   "interrupt_mode": "signal",
   "language": "python",
   "metadata": null,
   "name": "python3"
  },
  "language_info": {
   "codemirror_mode": {
    "name": "ipython",
    "version": 3
   },
   "file_extension": ".py",
   "mimetype": "text/x-python",
   "name": "python",
   "nbconvert_exporter": "python",
   "pygments_lexer": "ipython3",
   "version": "3.9.0"
  },
  "name": "responses.ipynb"
 },
 "nbformat": 4,
 "nbformat_minor": 4
}
