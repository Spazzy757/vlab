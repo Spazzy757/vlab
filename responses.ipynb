{
 "cells": [
  {
   "cell_type": "code",
   "execution_count": 168,
   "metadata": {
    "collapsed": false
   },
   "outputs": [
    {
     "name": "stdout",
     "output_type": "stream",
     "text": [
      "\u001b[33mWARNING: You are using pip version 20.2.3; however, version 21.0.1 is available.\r\n",
      "You should consider upgrading via the '/usr/local/bin/python -m pip install --upgrade pip' command.\u001b[0m\r\n"
     ]
    },
    {
     "name": "stdout",
     "output_type": "stream",
     "text": [
      "\u001b[33mWARNING: You are using pip version 20.2.3; however, version 21.0.1 is available.\r\n",
      "You should consider upgrading via the '/usr/local/bin/python -m pip install --upgrade pip' command.\u001b[0m\r\n"
     ]
    }
   ],
   "source": [
    "! pip install --quiet environs cyksuid toolz psycopg2-binary typing_json statsmodels\n",
    "! pip install --quiet backoff xxhash pyyaml geopandas dtreeviz facebook_business pystache"
   ]
  },
  {
   "cell_type": "code",
   "execution_count": 169,
   "metadata": {
    "collapsed": false
   },
   "outputs": [
    {
     "name": "stdout",
     "output_type": "stream",
     "text": [
      "The autoreload extension is already loaded. To reload it, use:\n",
      "  %reload_ext autoreload\n"
     ]
    }
   ],
   "source": [
    "%load_ext autoreload\n",
    "%autoreload 2"
   ]
  },
  {
   "cell_type": "code",
   "execution_count": 170,
   "metadata": {
    "collapsed": false
   },
   "outputs": [],
   "source": [
    "from environs import Env\n",
    "from adopt.malaria import get_db_conf\n",
    "\n",
    "env = Env()\n",
    "env.read_env('.env-bug', override=True)\n",
    "\n",
    "db_conf = get_db_conf(env)"
   ]
  },
  {
   "cell_type": "code",
   "execution_count": 171,
   "metadata": {
    "collapsed": false
   },
   "outputs": [],
   "source": [
    "import geopandas as gpd\n",
    "import pandas as pd\n",
    "from scipy.special import expit\n",
    "\n",
    "\n",
    "def get_dist_info(path):\n",
    "    geod = gpd.read_file(path)\n",
    "    district_info = geod.groupby('disthash').apply(lambda df: df.iloc[0][['disthash', 'tot_p']]).reset_index(drop=True)\n",
    "    return district_info\n",
    "\n",
    "dist_stats = get_dist_info('outs/cluster.shp')\n",
    "treatment_assignment = pd.read_csv('outs/ma-with-treatment.csv')[['disthash', 'treatment']]\n",
    "dist_info = pd.read_csv('outs/dist_info.csv')"
   ]
  },
  {
   "cell_type": "code",
   "execution_count": 214,
   "metadata": {
    "collapsed": false
   },
   "outputs": [],
   "source": [
    "from mnm.prep import *\n",
    "\n",
    "forms, form_keys = get_form_data(['malaria no more'], db_conf)\n",
    "rdf = get_response_data(forms, db_conf)"
   ]
  },
  {
   "cell_type": "code",
   "execution_count": 218,
   "metadata": {
    "collapsed": false
   },
   "outputs": [],
   "source": [
    "rdf = add_form_metadata(forms, form_keys, rdf)\n",
    "rdf = add_response_metadata([\"clusterid\"], rdf)"
   ]
  },
  {
   "cell_type": "code",
   "execution_count": 219,
   "metadata": {
    "collapsed": false
   },
   "outputs": [
    {
     "data": {
      "text/plain": [
       "(1211754, 12)"
      ]
     },
     "execution_count": 219,
     "metadata": {},
     "output_type": "execute_result"
    }
   ],
   "source": [
    "rdf.shape"
   ]
  },
  {
   "cell_type": "code",
   "execution_count": 223,
   "metadata": {
    "collapsed": false
   },
   "outputs": [],
   "source": [
    "testers = rdf[rdf[\"clusterid\"].isna()].userid.unique()\n",
    "rdf = rdf[~rdf.userid.isin(testers)].reset_index(drop=True)"
   ]
  },
  {
   "cell_type": "code",
   "execution_count": 251,
   "metadata": {
    "collapsed": false
   },
   "outputs": [],
   "source": [
    "from mnm.prep import _add_time_indicators\n",
    "\n",
    "rdf = _add_time_indicators(rdf)"
   ]
  },
  {
   "cell_type": "code",
   "execution_count": 252,
   "metadata": {
    "collapsed": false
   },
   "outputs": [
    {
     "name": "stdout",
     "output_type": "stream",
     "text": [
      "ERROR for destination baselineeng: Could not create translation mapping. Failed with the following error: Forms have different lengths!\n"
     ]
    },
    {
     "name": "stdout",
     "output_type": "stream",
     "text": [
      "ERROR for destination mnm_endlineeng: Could not create translation mapping. Failed with the following error: Forms have different lengths!\n"
     ]
    },
    {
     "name": "stdout",
     "output_type": "stream",
     "text": [
      "ERROR for destination baselineeng: Could not create translation mapping. Failed with the following error: Forms have different lengths!\n"
     ]
    },
    {
     "name": "stdout",
     "output_type": "stream",
     "text": [
      "ERROR for destination mnm_endlineeng: Could not create translation mapping. Failed with the following error: Forms have different lengths!\n"
     ]
    },
    {
     "name": "stdout",
     "output_type": "stream",
     "text": [
      "ERROR for destination baselineeng: Could not create translation mapping. Failed with the following error: Forms have different lengths!\n"
     ]
    },
    {
     "name": "stdout",
     "output_type": "stream",
     "text": [
      "ERROR for destination baselineeng: Could not create translation mapping. Failed with the following error: Forms have different lengths!\n"
     ]
    },
    {
     "name": "stderr",
     "output_type": "stream",
     "text": [
      "WARNING:root:Removing 17 possible test users\n"
     ]
    },
    {
     "name": "stderr",
     "output_type": "stream",
     "text": [
      "WARNING:root:Removing 0 users for duplication\n"
     ]
    }
   ],
   "source": [
    "from mnm.prep import get_response_df_round_a\n",
    "\n",
    "dda = get_response_df_round_a(['malaria no more'], 'http://localhost:1323', db_conf)\n",
    "dda = dda \\\n",
    "    .merge(treatment_assignment, how='right', left_on='clusterid', right_on='disthash') \\\n",
    "    .merge(dist_info, on='clusterid')"
   ]
  },
  {
   "cell_type": "code",
   "execution_count": 253,
   "metadata": {
    "collapsed": false
   },
   "outputs": [],
   "source": [
    "# NOTE:\n",
    "# can't do this anymore, need raw df, same for costs.\n",
    "# dd[dd.wave == 0].to_csv('outs/individual-for-balance.csv', index=False)\n",
    "\n",
    "# Only pick users who gave answers from September\n",
    "our_users = set(dda[dda.week > 36].userid.unique())\n",
    "our_users &= set(dda[dda.wave >= 1].userid.unique())\n",
    "dda = dda[dda.userid.isin(our_users)]"
   ]
  },
  {
   "cell_type": "code",
   "execution_count": 172,
   "metadata": {
    "collapsed": false
   },
   "outputs": [
    {
     "name": "stderr",
     "output_type": "stream",
     "text": [
      "WARNING:root:Removing 1 users for duplication\n"
     ]
    }
   ],
   "source": [
    "ddb = get_response_df(['MNM', 'malaria no more round b 1-shot'], \n",
    "                      db_conf, \n",
    "                      ['stratumid'], \n",
    "                      'stratumid')\n",
    "\n",
    "ddb = ddb \\\n",
    "    .merge(treatment_assignment, how='right', left_on='stratumid', right_on='disthash') \\\n",
    "    .merge(dist_info, left_on='stratumid', right_on='clusterid')\n",
    "\n",
    "ddb = ddb[ddb.wave == '0']"
   ]
  },
  {
   "cell_type": "code",
   "execution_count": 255,
   "metadata": {
    "collapsed": false
   },
   "outputs": [],
   "source": [
    "import numpy as np\n",
    "\n",
    "def as_type(series, type_):\n",
    "    return series.astype(type_)\n",
    "\n",
    "def binarize(series, pos):\n",
    "    s = as_type((series == pos), int)\n",
    "    s[series.isna()] = np.nan\n",
    "    return s\n",
    "\n",
    "def binarize_cols(df, cols):\n",
    "    df = df.copy()\n",
    "    for col, target in cols:\n",
    "        df[col] = binarize(df[col], target)\n",
    "    return df"
   ]
  },
  {
   "cell_type": "code",
   "execution_count": 256,
   "metadata": {
    "collapsed": false
   },
   "outputs": [],
   "source": [
    "cols = [\n",
    "    ('malaria2weeks', 'Yes'), \n",
    "    ('fever2weeks', 'Yes'), \n",
    "    ('seekhelpfever', 'Yes'),\n",
    "    ('longsleeves', 'Yes'),\n",
    "    ('sleepundernet', 'Yes'),\n",
    "    ('timeseekhelpfever', 'Less than 24 hours')\n",
    "]\n",
    "\n",
    "dda = binarize_cols(dda, cols)"
   ]
  },
  {
   "cell_type": "code",
   "execution_count": 175,
   "metadata": {
    "collapsed": false
   },
   "outputs": [],
   "source": [
    "cols = [\n",
    "    ('malaria4months', 'Yes'), \n",
    "    ('fever4months', 'Yes'), \n",
    "    ('seekhelpfever', 'Yes'),\n",
    "    ('longsleeves', 'Yes'),\n",
    "    ('sleepundernet', 'Yes'),\n",
    "    ('timeseekhelpfever', 'Less than 24 hours')\n",
    "]\n",
    "\n",
    "ddb = binarize_cols(ddb, cols)"
   ]
  },
  {
   "cell_type": "code",
   "execution_count": 221,
   "metadata": {
    "collapsed": false
   },
   "outputs": [],
   "source": [
    "def aggs(df, sums, anys, means):\n",
    "    r = df.iloc[0]\n",
    "    # fil = df.wave > 1\n",
    "    fil = df.week > 40 # 36 = first week of september\n",
    "    for var in sums:\n",
    "        r[var] = df[(fil)][var].sum()\n",
    "    for var in anys:\n",
    "        r[var] = int(df[(fil)][var].sum() > 0)\n",
    "    for var in means:\n",
    "        r[var] = df[(fil)][var].mean()\n",
    "\n",
    "    r['wave'] = None\n",
    "    r['waves_answered'] = df[(fil)].shape[0]\n",
    "    return r\n",
    "\n",
    "\n",
    "# feature matrix\n",
    "\n",
    "# user, sum bednet sleeps in follows, if malaria at any point, binary controls (malaria in last 5 years?)\n",
    "\n",
    "mat = binarize_cols(d, cols) \\\n",
    "    .sort_values('week') \\\n",
    "    .groupby('userid') \\\n",
    "    .apply(lambda df: aggs(df, \n",
    "                           sums=['seekhelpfever', 'timeseekhelpfever', 'fever2weeks'], \n",
    "                           anys=['malaria2weeks'], \n",
    "                           means=['sleepundernet', 'longsleeves', 'bednet_share'])) \\\n",
    "    .reset_index(drop=True) \\\n",
    "    .dropna(subset=['sleepundernet'])\n",
    "\n"
   ]
  },
  {
   "cell_type": "code",
   "execution_count": 136,
   "metadata": {
    "collapsed": false
   },
   "outputs": [],
   "source": [
    "mat['seekhelp_if_fever'] = mat.seekhelpfever / mat.fever2weeks"
   ]
  },
  {
   "cell_type": "code",
   "execution_count": null,
   "metadata": {
    "collapsed": false
   },
   "outputs": [],
   "source": [
    "ks = mat.groupby(['clusterid', 'treatment']).kutcha.mean()"
   ]
  },
  {
   "cell_type": "code",
   "execution_count": null,
   "metadata": {
    "collapsed": false
   },
   "outputs": [],
   "source": [
    "ks"
   ]
  },
  {
   "cell_type": "code",
   "execution_count": 69,
   "metadata": {
    "collapsed": false
   },
   "outputs": [],
   "source": [
    "def as_type(series, type_):\n",
    "    return series.astype(type_)\n",
    "\n",
    "def quantile(series, q):\n",
    "    return series > series.quantile(q)"
   ]
  },
  {
   "cell_type": "code",
   "execution_count": 64,
   "metadata": {
    "collapsed": false
   },
   "outputs": [],
   "source": [
    "dd['unet'] = dd.under_net.astype(int)"
   ]
  },
  {
   "cell_type": "code",
   "execution_count": 145,
   "metadata": {
    "collapsed": false
   },
   "outputs": [],
   "source": [
    "dd['malaria_now_int'] = dd.malaria_now.astype(int)"
   ]
  },
  {
   "cell_type": "code",
   "execution_count": null,
   "metadata": {
    "collapsed": false
   },
   "outputs": [],
   "source": [
    "dd[dd.wave == 0].malaria_now"
   ]
  },
  {
   "cell_type": "code",
   "execution_count": 156,
   "metadata": {
    "collapsed": false
   },
   "outputs": [],
   "source": [
    "m = sm.BinomialBayesMixedGLM.from_formula('malaria_now_int ~ treatment', {'a': '0 + C(clusterid)'}, dd[dd.wave == 0])\n",
    "mm = m.fit_vb()"
   ]
  },
  {
   "cell_type": "code",
   "execution_count": null,
   "metadata": {
    "collapsed": false
   },
   "outputs": [],
   "source": [
    "mm.random_effects()"
   ]
  },
  {
   "cell_type": "code",
   "execution_count": null,
   "metadata": {
    "collapsed": false
   },
   "outputs": [],
   "source": [
    "mm.summary()"
   ]
  },
  {
   "cell_type": "code",
   "execution_count": null,
   "metadata": {
    "collapsed": false
   },
   "outputs": [],
   "source": [
    "m = sm.BinomialBayesMixedGLM.from_formula('unet ~ treatment', {'a': '0 + C(userid)', 'b': '0 + C(clusterid)'}, dd)\n",
    "mm = m.fit()"
   ]
  },
  {
   "cell_type": "code",
   "execution_count": null,
   "metadata": {
    "collapsed": false
   },
   "outputs": [],
   "source": [
    "mat[mat.under_net.isna()]"
   ]
  },
  {
   "cell_type": "code",
   "execution_count": null,
   "metadata": {
    "collapsed": false
   },
   "outputs": [],
   "source": [
    "md = smf.mixedlm(\"long_sleeves ~ treatment\", mat, groups=mat.clusterid.astype('category').cat.codes)"
   ]
  },
  {
   "cell_type": "code",
   "execution_count": null,
   "metadata": {
    "collapsed": false
   },
   "outputs": [],
   "source": [
    "md.fit().summary()"
   ]
  },
  {
   "cell_type": "code",
   "execution_count": null,
   "metadata": {
    "collapsed": false
   },
   "outputs": [],
   "source": [
    "m.summary()"
   ]
  },
  {
   "cell_type": "code",
   "execution_count": null,
   "metadata": {
    "collapsed": false
   },
   "outputs": [],
   "source": [
    "mat[mat.seekhelp_if_fever.notna()].groupby(['treatment']).seekhelp_if_fever.value_counts(normalize=True)"
   ]
  },
  {
   "cell_type": "code",
   "execution_count": 189,
   "metadata": {
    "collapsed": false
   },
   "outputs": [],
   "source": [
    "import statsmodels.formula.api as smf\n",
    "import statsmodels.api as sm\n",
    "import numpy as np\n",
    "\n",
    "\n",
    "def get_percentages(base, treatment):\n",
    "    return expit(base), expit(base + treatment), 1 - ((1 - expit(base + treatment))) / (1 - expit(base))\n",
    "\n",
    "\n",
    "def reg(form, dat, weights_var='waves_answered'):\n",
    "    try:\n",
    "        model = smf.glm(form, dat, family=sm.families.Binomial(), var_weights=dat[weights_var])\n",
    "    except KeyError:\n",
    "        return smf.logit(form, dat) \\\n",
    "                   .fit(cov_type='cluster', cov_kwds={'groups': dat['stratumid']}) \\\n",
    "                   .summary()"
   ]
  },
  {
   "cell_type": "code",
   "execution_count": null,
   "metadata": {
    "collapsed": false
   },
   "outputs": [],
   "source": [
    "smf.ols('bednet_share ~ treatment', data=mat[mat.hasmosquitonet == 'Yes'], var_weights=mat[mat.hasmosquitonet == 'Yes']['waves_answered']).fit().summary()"
   ]
  },
  {
   "cell_type": "code",
   "execution_count": null,
   "metadata": {
    "collapsed": false
   },
   "outputs": [],
   "source": [
    "reg('bednet_share ~ treatment*pregnantwoman', mat[mat.hasmosquitonet == 'Yes'])"
   ]
  },
  {
   "cell_type": "code",
   "execution_count": null,
   "metadata": {
    "collapsed": false
   },
   "outputs": [],
   "source": [
    "reg('sleepundernet ~ treatment*pregnantwoman', mat[mat.hasmosquitonet == 'Yes'])"
   ]
  },
  {
   "cell_type": "code",
   "execution_count": 90,
   "metadata": {
    "collapsed": false
   },
   "outputs": [],
   "source": [
    "matb = ddb\n",
    "\n",
    "matb['seekhelp_if_fever'] = matb['seekhelpfever']\n",
    "matb['fever2weeks'] = (matb['fever4months'] == 1).astype(int)"
   ]
  },
  {
   "cell_type": "code",
   "execution_count": 94,
   "metadata": {
    "collapsed": false
   },
   "outputs": [],
   "source": [
    "f = ddb[ddb.fever4months.notna()]['stratumid'].astype('category').cat.codes.values"
   ]
  },
  {
   "cell_type": "code",
   "execution_count": null,
   "metadata": {
    "collapsed": false
   },
   "outputs": [],
   "source": [
    "ddb.columns"
   ]
  },
  {
   "cell_type": "code",
   "execution_count": 154,
   "metadata": {
    "collapsed": false
   },
   "outputs": [
    {
     "data": {
      "text/plain": [
       "array([nan, 'Semi-pucca', 'Kutcha (made of mud, tin, straw)',\n",
       "       'Pucca (have cement/brick wall and floor'], dtype=object)"
      ]
     },
     "execution_count": 154,
     "metadata": {},
     "output_type": "execute_result"
    }
   ],
   "source": [
    "ddb.dwelling.unique()"
   ]
  },
  {
   "cell_type": "code",
   "execution_count": 193,
   "metadata": {
    "collapsed": false
   },
   "outputs": [],
   "source": [
    "ddb['kutcha'] = ddb.dwelling == 'Kutcha (made of mud, tin, straw)'\n",
    "ddb['pucca'] = ddb.dwelling == 'Pucca (have cement/brick wall and floor'"
   ]
  },
  {
   "cell_type": "code",
   "execution_count": 159,
   "metadata": {
    "collapsed": false
   },
   "outputs": [
    {
     "data": {
      "text/plain": [
       "University degree or higher    2645\n",
       "Secondary                      1335\n",
       "Primary                         533\n",
       "Never attended school           247\n",
       "Name: education, dtype: int64"
      ]
     },
     "execution_count": 159,
     "metadata": {},
     "output_type": "execute_result"
    }
   ],
   "source": [
    "ddb.education.value_counts()"
   ]
  },
  {
   "cell_type": "code",
   "execution_count": 195,
   "metadata": {
    "collapsed": false
   },
   "outputs": [
    {
     "name": "stdout",
     "output_type": "stream",
     "text": [
      "Optimization terminated successfully.\n",
      "         Current function value: 0.460576\n",
      "         Iterations 5\n"
     ]
    },
    {
     "data": {
      "text/html": [
       "<table class=\"simpletable\">\n",
       "<caption>Logit Regression Results</caption>\n",
       "<tr>\n",
       "  <th>Dep. Variable:</th>     <td>fever4months</td>   <th>  No. Observations:  </th>  <td>  4912</td>  \n",
       "</tr>\n",
       "<tr>\n",
       "  <th>Model:</th>                 <td>Logit</td>      <th>  Df Residuals:      </th>  <td>  4910</td>  \n",
       "</tr>\n",
       "<tr>\n",
       "  <th>Method:</th>                 <td>MLE</td>       <th>  Df Model:          </th>  <td>     1</td>  \n",
       "</tr>\n",
       "<tr>\n",
       "  <th>Date:</th>            <td>Tue, 23 Feb 2021</td> <th>  Pseudo R-squ.:     </th> <td>0.0002312</td>\n",
       "</tr>\n",
       "<tr>\n",
       "  <th>Time:</th>                <td>10:33:39</td>     <th>  Log-Likelihood:    </th> <td> -2262.4</td> \n",
       "</tr>\n",
       "<tr>\n",
       "  <th>converged:</th>             <td>True</td>       <th>  LL-Null:           </th> <td> -2262.9</td> \n",
       "</tr>\n",
       "<tr>\n",
       "  <th>Covariance Type:</th>      <td>cluster</td>     <th>  LLR p-value:       </th>  <td>0.3063</td>  \n",
       "</tr>\n",
       "</table>\n",
       "<table class=\"simpletable\">\n",
       "<tr>\n",
       "        <td></td>           <th>coef</th>     <th>std err</th>      <th>z</th>      <th>P>|z|</th>  <th>[0.025</th>    <th>0.975]</th>  \n",
       "</tr>\n",
       "<tr>\n",
       "  <th>Intercept</th>     <td>   -1.5983</td> <td>    0.055</td> <td>  -29.050</td> <td> 0.000</td> <td>   -1.706</td> <td>   -1.490</td>\n",
       "</tr>\n",
       "<tr>\n",
       "  <th>pucca[T.True]</th> <td>    0.0777</td> <td>    0.082</td> <td>    0.950</td> <td> 0.342</td> <td>   -0.083</td> <td>    0.238</td>\n",
       "</tr>\n",
       "</table>"
      ],
      "text/plain": [
       "<class 'statsmodels.iolib.summary.Summary'>\n",
       "\"\"\"\n",
       "                           Logit Regression Results                           \n",
       "==============================================================================\n",
       "Dep. Variable:           fever4months   No. Observations:                 4912\n",
       "Model:                          Logit   Df Residuals:                     4910\n",
       "Method:                           MLE   Df Model:                            1\n",
       "Date:                Tue, 23 Feb 2021   Pseudo R-squ.:               0.0002312\n",
       "Time:                        10:33:39   Log-Likelihood:                -2262.4\n",
       "converged:                       True   LL-Null:                       -2262.9\n",
       "Covariance Type:              cluster   LLR p-value:                    0.3063\n",
       "=================================================================================\n",
       "                    coef    std err          z      P>|z|      [0.025      0.975]\n",
       "---------------------------------------------------------------------------------\n",
       "Intercept        -1.5983      0.055    -29.050      0.000      -1.706      -1.490\n",
       "pucca[T.True]     0.0777      0.082      0.950      0.342      -0.083       0.238\n",
       "=================================================================================\n",
       "\"\"\""
      ]
     },
     "execution_count": 195,
     "metadata": {},
     "output_type": "execute_result"
    }
   ],
   "source": [
    "reg('ths ~ pucca', ddb[ddb.dwelling.notna() & ddb.fever4months.notna()])"
   ]
  },
  {
   "cell_type": "code",
   "execution_count": 203,
   "metadata": {
    "collapsed": false
   },
   "outputs": [
    {
     "name": "stdout",
     "output_type": "stream",
     "text": [
      "Optimization terminated successfully.\n",
      "         Current function value: 0.304920\n",
      "         Iterations 7\n"
     ]
    },
    {
     "data": {
      "text/html": [
       "<table class=\"simpletable\">\n",
       "<caption>Logit Regression Results</caption>\n",
       "<tr>\n",
       "  <th>Dep. Variable:</th>     <td>seekhelpfever</td>  <th>  No. Observations:  </th>  <td>   852</td> \n",
       "</tr>\n",
       "<tr>\n",
       "  <th>Model:</th>                 <td>Logit</td>      <th>  Df Residuals:      </th>  <td>   848</td> \n",
       "</tr>\n",
       "<tr>\n",
       "  <th>Method:</th>                 <td>MLE</td>       <th>  Df Model:          </th>  <td>     3</td> \n",
       "</tr>\n",
       "<tr>\n",
       "  <th>Date:</th>            <td>Tue, 23 Feb 2021</td> <th>  Pseudo R-squ.:     </th>  <td>0.01254</td>\n",
       "</tr>\n",
       "<tr>\n",
       "  <th>Time:</th>                <td>10:37:02</td>     <th>  Log-Likelihood:    </th> <td> -259.79</td>\n",
       "</tr>\n",
       "<tr>\n",
       "  <th>converged:</th>             <td>True</td>       <th>  LL-Null:           </th> <td> -263.09</td>\n",
       "</tr>\n",
       "<tr>\n",
       "  <th>Covariance Type:</th>      <td>cluster</td>     <th>  LLR p-value:       </th>  <td>0.08582</td>\n",
       "</tr>\n",
       "</table>\n",
       "<table class=\"simpletable\">\n",
       "<tr>\n",
       "             <td></td>                <th>coef</th>     <th>std err</th>      <th>z</th>      <th>P>|z|</th>  <th>[0.025</th>    <th>0.975]</th>  \n",
       "</tr>\n",
       "<tr>\n",
       "  <th>Intercept</th>               <td>    1.8741</td> <td>    0.198</td> <td>    9.484</td> <td> 0.000</td> <td>    1.487</td> <td>    2.261</td>\n",
       "</tr>\n",
       "<tr>\n",
       "  <th>pucca[T.True]</th>           <td>    0.5407</td> <td>    0.345</td> <td>    1.569</td> <td> 0.117</td> <td>   -0.135</td> <td>    1.216</td>\n",
       "</tr>\n",
       "<tr>\n",
       "  <th>treatment</th>               <td>    0.6108</td> <td>    0.347</td> <td>    1.758</td> <td> 0.079</td> <td>   -0.070</td> <td>    1.292</td>\n",
       "</tr>\n",
       "<tr>\n",
       "  <th>treatment:pucca[T.True]</th> <td>   -0.4257</td> <td>    0.538</td> <td>   -0.791</td> <td> 0.429</td> <td>   -1.480</td> <td>    0.629</td>\n",
       "</tr>\n",
       "</table>"
      ],
      "text/plain": [
       "<class 'statsmodels.iolib.summary.Summary'>\n",
       "\"\"\"\n",
       "                           Logit Regression Results                           \n",
       "==============================================================================\n",
       "Dep. Variable:          seekhelpfever   No. Observations:                  852\n",
       "Model:                          Logit   Df Residuals:                      848\n",
       "Method:                           MLE   Df Model:                            3\n",
       "Date:                Tue, 23 Feb 2021   Pseudo R-squ.:                 0.01254\n",
       "Time:                        10:37:02   Log-Likelihood:                -259.79\n",
       "converged:                       True   LL-Null:                       -263.09\n",
       "Covariance Type:              cluster   LLR p-value:                   0.08582\n",
       "===========================================================================================\n",
       "                              coef    std err          z      P>|z|      [0.025      0.975]\n",
       "-------------------------------------------------------------------------------------------\n",
       "Intercept                   1.8741      0.198      9.484      0.000       1.487       2.261\n",
       "pucca[T.True]               0.5407      0.345      1.569      0.117      -0.135       1.216\n",
       "treatment                   0.6108      0.347      1.758      0.079      -0.070       1.292\n",
       "treatment:pucca[T.True]    -0.4257      0.538     -0.791      0.429      -1.480       0.629\n",
       "===========================================================================================\n",
       "\"\"\""
      ]
     },
     "execution_count": 203,
     "metadata": {},
     "output_type": "execute_result"
    }
   ],
   "source": [
    "reg('seekhelpfever ~ treatment*pucca', ddb[ddb.dwelling.notna() & ddb.fever4months.notna() & ddb.seekhelpfever.notna()])"
   ]
  },
  {
   "cell_type": "code",
   "execution_count": 206,
   "metadata": {
    "collapsed": false
   },
   "outputs": [
    {
     "data": {
      "text/plain": [
       "(0.8664582774667876, 0.9227848195437104, 0.4217898422188925)"
      ]
     },
     "execution_count": 206,
     "metadata": {},
     "output_type": "execute_result"
    }
   ],
   "source": [
    "get_percentages(1.87, 0.6108)"
   ]
  },
  {
   "cell_type": "code",
   "execution_count": 167,
   "metadata": {
    "collapsed": false
   },
   "outputs": [
    {
     "name": "stdout",
     "output_type": "stream",
     "text": [
      "Optimization terminated successfully.\n",
      "         Current function value: 0.355515\n",
      "         Iterations 6\n"
     ]
    },
    {
     "data": {
      "text/html": [
       "<table class=\"simpletable\">\n",
       "<caption>Logit Regression Results</caption>\n",
       "<tr>\n",
       "  <th>Dep. Variable:</th>     <td>seekhelpfever</td>  <th>  No. Observations:  </th>  <td>   677</td> \n",
       "</tr>\n",
       "<tr>\n",
       "  <th>Model:</th>                 <td>Logit</td>      <th>  Df Residuals:      </th>  <td>   671</td> \n",
       "</tr>\n",
       "<tr>\n",
       "  <th>Method:</th>                 <td>MLE</td>       <th>  Df Model:          </th>  <td>     5</td> \n",
       "</tr>\n",
       "<tr>\n",
       "  <th>Date:</th>            <td>Thu, 18 Feb 2021</td> <th>  Pseudo R-squ.:     </th>  <td>0.01323</td>\n",
       "</tr>\n",
       "<tr>\n",
       "  <th>Time:</th>                <td>10:41:37</td>     <th>  Log-Likelihood:    </th> <td> -240.68</td>\n",
       "</tr>\n",
       "<tr>\n",
       "  <th>converged:</th>             <td>True</td>       <th>  LL-Null:           </th> <td> -243.91</td>\n",
       "</tr>\n",
       "<tr>\n",
       "  <th>Covariance Type:</th>      <td>cluster</td>     <th>  LLR p-value:       </th>  <td>0.2647</td> \n",
       "</tr>\n",
       "</table>\n",
       "<table class=\"simpletable\">\n",
       "<tr>\n",
       "                                <td></td>                                   <th>coef</th>     <th>std err</th>      <th>z</th>      <th>P>|z|</th>  <th>[0.025</th>    <th>0.975]</th>  \n",
       "</tr>\n",
       "<tr>\n",
       "  <th>Intercept</th>                                                     <td>    1.4843</td> <td>    0.262</td> <td>    5.672</td> <td> 0.000</td> <td>    0.971</td> <td>    1.997</td>\n",
       "</tr>\n",
       "<tr>\n",
       "  <th>dwelling[T.Pucca (have cement/brick wall and floor]</th>           <td>    0.6776</td> <td>    0.396</td> <td>    1.713</td> <td> 0.087</td> <td>   -0.098</td> <td>    1.453</td>\n",
       "</tr>\n",
       "<tr>\n",
       "  <th>dwelling[T.Semi-pucca]</th>                                        <td>    0.3075</td> <td>    0.415</td> <td>    0.741</td> <td> 0.459</td> <td>   -0.506</td> <td>    1.121</td>\n",
       "</tr>\n",
       "<tr>\n",
       "  <th>treatment</th>                                                     <td>    0.6492</td> <td>    0.525</td> <td>    1.236</td> <td> 0.217</td> <td>   -0.380</td> <td>    1.679</td>\n",
       "</tr>\n",
       "<tr>\n",
       "  <th>treatment:dwelling[T.Pucca (have cement/brick wall and floor]</th> <td>   -0.4561</td> <td>    0.642</td> <td>   -0.710</td> <td> 0.478</td> <td>   -1.715</td> <td>    0.802</td>\n",
       "</tr>\n",
       "<tr>\n",
       "  <th>treatment:dwelling[T.Semi-pucca]</th>                              <td>   -0.2029</td> <td>    0.727</td> <td>   -0.279</td> <td> 0.780</td> <td>   -1.629</td> <td>    1.223</td>\n",
       "</tr>\n",
       "</table>"
      ],
      "text/plain": [
       "<class 'statsmodels.iolib.summary.Summary'>\n",
       "\"\"\"\n",
       "                           Logit Regression Results                           \n",
       "==============================================================================\n",
       "Dep. Variable:          seekhelpfever   No. Observations:                  677\n",
       "Model:                          Logit   Df Residuals:                      671\n",
       "Method:                           MLE   Df Model:                            5\n",
       "Date:                Thu, 18 Feb 2021   Pseudo R-squ.:                 0.01323\n",
       "Time:                        10:41:37   Log-Likelihood:                -240.68\n",
       "converged:                       True   LL-Null:                       -243.91\n",
       "Covariance Type:              cluster   LLR p-value:                    0.2647\n",
       "=================================================================================================================================\n",
       "                                                                    coef    std err          z      P>|z|      [0.025      0.975]\n",
       "---------------------------------------------------------------------------------------------------------------------------------\n",
       "Intercept                                                         1.4843      0.262      5.672      0.000       0.971       1.997\n",
       "dwelling[T.Pucca (have cement/brick wall and floor]               0.6776      0.396      1.713      0.087      -0.098       1.453\n",
       "dwelling[T.Semi-pucca]                                            0.3075      0.415      0.741      0.459      -0.506       1.121\n",
       "treatment                                                         0.6492      0.525      1.236      0.217      -0.380       1.679\n",
       "treatment:dwelling[T.Pucca (have cement/brick wall and floor]    -0.4561      0.642     -0.710      0.478      -1.715       0.802\n",
       "treatment:dwelling[T.Semi-pucca]                                 -0.2029      0.727     -0.279      0.780      -1.629       1.223\n",
       "=================================================================================================================================\n",
       "\"\"\""
      ]
     },
     "execution_count": 167,
     "metadata": {},
     "output_type": "execute_result"
    }
   ],
   "source": [
    "reg('seekhelpfever ~ treatment*dwelling', ddb[ddb.dwelling.notna() & ddb.fever4months.notna() & ddb.seekhelpfever.notna()])"
   ]
  },
  {
   "cell_type": "code",
   "execution_count": 153,
   "metadata": {
    "collapsed": false
   },
   "outputs": [
    {
     "data": {
      "text/plain": [
       "(0.8145725807070178, 0.8937090377022275, 0.4267786139555295)"
      ]
     },
     "execution_count": 153,
     "metadata": {},
     "output_type": "execute_result"
    }
   ],
   "source": [
    "get_percentages(1.48, 0.6492)"
   ]
  },
  {
   "cell_type": "code",
   "execution_count": 136,
   "metadata": {
    "collapsed": false
   },
   "outputs": [
    {
     "data": {
      "text/plain": [
       "(0.8282108615242946, 0.8628658986241335, 0.20173008263115488)"
      ]
     },
     "execution_count": 136,
     "metadata": {},
     "output_type": "execute_result"
    }
   ],
   "source": [
    "get_percentages(1.573, 0.2663)"
   ]
  },
  {
   "cell_type": "code",
   "execution_count": 119,
   "metadata": {
    "collapsed": false
   },
   "outputs": [
    {
     "data": {
      "text/html": [
       "<table class=\"simpletable\">\n",
       "<caption>Generalized Linear Model Regression Results</caption>\n",
       "<tr>\n",
       "  <th>Dep. Variable:</th>   <td>seekhelp_if_fever</td> <th>  No. Observations:  </th>  <td>  1598</td> \n",
       "</tr>\n",
       "<tr>\n",
       "  <th>Model:</th>                  <td>GLM</td>        <th>  Df Residuals:      </th>  <td>  1596</td> \n",
       "</tr>\n",
       "<tr>\n",
       "  <th>Model Family:</th>        <td>Binomial</td>      <th>  Df Model:          </th>  <td>     1</td> \n",
       "</tr>\n",
       "<tr>\n",
       "  <th>Link Function:</th>         <td>logit</td>       <th>  Scale:             </th> <td>  1.0000</td>\n",
       "</tr>\n",
       "<tr>\n",
       "  <th>Method:</th>                <td>IRLS</td>        <th>  Log-Likelihood:    </th> <td> -804.38</td>\n",
       "</tr>\n",
       "<tr>\n",
       "  <th>Date:</th>            <td>Sun, 07 Feb 2021</td>  <th>  Deviance:          </th> <td>  1516.7</td>\n",
       "</tr>\n",
       "<tr>\n",
       "  <th>Time:</th>                <td>18:02:54</td>      <th>  Pearson chi2:      </th> <td>1.76e+03</td>\n",
       "</tr>\n",
       "<tr>\n",
       "  <th>No. Iterations:</th>          <td>4</td>         <th>                     </th>     <td> </td>   \n",
       "</tr>\n",
       "<tr>\n",
       "  <th>Covariance Type:</th>     <td>nonrobust</td>     <th>                     </th>     <td> </td>   \n",
       "</tr>\n",
       "</table>\n",
       "<table class=\"simpletable\">\n",
       "<tr>\n",
       "      <td></td>         <th>coef</th>     <th>std err</th>      <th>z</th>      <th>P>|z|</th>  <th>[0.025</th>    <th>0.975]</th>  \n",
       "</tr>\n",
       "<tr>\n",
       "  <th>Intercept</th> <td>    1.6309</td> <td>    0.087</td> <td>   18.687</td> <td> 0.000</td> <td>    1.460</td> <td>    1.802</td>\n",
       "</tr>\n",
       "<tr>\n",
       "  <th>treatment</th> <td>    0.1977</td> <td>    0.127</td> <td>    1.561</td> <td> 0.118</td> <td>   -0.050</td> <td>    0.446</td>\n",
       "</tr>\n",
       "</table>"
      ],
      "text/plain": [
       "<class 'statsmodels.iolib.summary.Summary'>\n",
       "\"\"\"\n",
       "                 Generalized Linear Model Regression Results                  \n",
       "==============================================================================\n",
       "Dep. Variable:      seekhelp_if_fever   No. Observations:                 1598\n",
       "Model:                            GLM   Df Residuals:                     1596\n",
       "Model Family:                Binomial   Df Model:                            1\n",
       "Link Function:                  logit   Scale:                          1.0000\n",
       "Method:                          IRLS   Log-Likelihood:                -804.38\n",
       "Date:                Sun, 07 Feb 2021   Deviance:                       1516.7\n",
       "Time:                        18:02:54   Pearson chi2:                 1.76e+03\n",
       "No. Iterations:                     4                                         \n",
       "Covariance Type:            nonrobust                                         \n",
       "==============================================================================\n",
       "                 coef    std err          z      P>|z|      [0.025      0.975]\n",
       "------------------------------------------------------------------------------\n",
       "Intercept      1.6309      0.087     18.687      0.000       1.460       1.802\n",
       "treatment      0.1977      0.127      1.561      0.118      -0.050       0.446\n",
       "==============================================================================\n",
       "\"\"\""
      ]
     },
     "execution_count": 119,
     "metadata": {},
     "output_type": "execute_result"
    }
   ],
   "source": [
    "m = pd.concat([mat, matb])\n",
    "reg('seekhelp_if_fever ~ treatment', m[m.seekhelp_if_fever.notna()], 'fever2weeks')"
   ]
  },
  {
   "cell_type": "code",
   "execution_count": 137,
   "metadata": {
    "collapsed": false
   },
   "outputs": [
    {
     "data": {
      "text/plain": [
       "(0.8362928924541598, 0.8615948625093831, 0.15455633194263352)"
      ]
     },
     "execution_count": 137,
     "metadata": {},
     "output_type": "execute_result"
    }
   ],
   "source": [
    "get_percentages(1.6309, 0.1977)"
   ]
  },
  {
   "cell_type": "code",
   "execution_count": 137,
   "metadata": {
    "collapsed": false
   },
   "outputs": [
    {
     "data": {
      "text/html": [
       "<table class=\"simpletable\">\n",
       "<caption>Generalized Linear Model Regression Results</caption>\n",
       "<tr>\n",
       "  <th>Dep. Variable:</th>   <td>seekhelp_if_fever</td> <th>  No. Observations:  </th>  <td>  1005</td> \n",
       "</tr>\n",
       "<tr>\n",
       "  <th>Model:</th>                  <td>GLM</td>        <th>  Df Residuals:      </th>  <td>  1003</td> \n",
       "</tr>\n",
       "<tr>\n",
       "  <th>Model Family:</th>        <td>Binomial</td>      <th>  Df Model:          </th>  <td>     1</td> \n",
       "</tr>\n",
       "<tr>\n",
       "  <th>Link Function:</th>         <td>logit</td>       <th>  Scale:             </th> <td>  1.0000</td>\n",
       "</tr>\n",
       "<tr>\n",
       "  <th>Method:</th>                <td>IRLS</td>        <th>  Log-Likelihood:    </th> <td> -556.27</td>\n",
       "</tr>\n",
       "<tr>\n",
       "  <th>Date:</th>            <td>Sun, 07 Feb 2021</td>  <th>  Deviance:          </th> <td>  1020.5</td>\n",
       "</tr>\n",
       "<tr>\n",
       "  <th>Time:</th>                <td>18:20:19</td>      <th>  Pearson chi2:      </th> <td>1.17e+03</td>\n",
       "</tr>\n",
       "<tr>\n",
       "  <th>No. Iterations:</th>          <td>4</td>         <th>                     </th>     <td> </td>   \n",
       "</tr>\n",
       "<tr>\n",
       "  <th>Covariance Type:</th>     <td>nonrobust</td>     <th>                     </th>     <td> </td>   \n",
       "</tr>\n",
       "</table>\n",
       "<table class=\"simpletable\">\n",
       "<tr>\n",
       "      <td></td>         <th>coef</th>     <th>std err</th>      <th>z</th>      <th>P>|z|</th>  <th>[0.025</th>    <th>0.975]</th>  \n",
       "</tr>\n",
       "<tr>\n",
       "  <th>Intercept</th> <td>    1.6468</td> <td>    0.107</td> <td>   15.452</td> <td> 0.000</td> <td>    1.438</td> <td>    1.856</td>\n",
       "</tr>\n",
       "<tr>\n",
       "  <th>treatment</th> <td>    0.1449</td> <td>    0.151</td> <td>    0.960</td> <td> 0.337</td> <td>   -0.151</td> <td>    0.441</td>\n",
       "</tr>\n",
       "</table>"
      ],
      "text/plain": [
       "<class 'statsmodels.iolib.summary.Summary'>\n",
       "\"\"\"\n",
       "                 Generalized Linear Model Regression Results                  \n",
       "==============================================================================\n",
       "Dep. Variable:      seekhelp_if_fever   No. Observations:                 1005\n",
       "Model:                            GLM   Df Residuals:                     1003\n",
       "Model Family:                Binomial   Df Model:                            1\n",
       "Link Function:                  logit   Scale:                          1.0000\n",
       "Method:                          IRLS   Log-Likelihood:                -556.27\n",
       "Date:                Sun, 07 Feb 2021   Deviance:                       1020.5\n",
       "Time:                        18:20:19   Pearson chi2:                 1.17e+03\n",
       "No. Iterations:                     4                                         \n",
       "Covariance Type:            nonrobust                                         \n",
       "==============================================================================\n",
       "                 coef    std err          z      P>|z|      [0.025      0.975]\n",
       "------------------------------------------------------------------------------\n",
       "Intercept      1.6468      0.107     15.452      0.000       1.438       1.856\n",
       "treatment      0.1449      0.151      0.960      0.337      -0.151       0.441\n",
       "==============================================================================\n",
       "\"\"\""
      ]
     },
     "execution_count": 137,
     "metadata": {},
     "output_type": "execute_result"
    }
   ],
   "source": [
    "reg('seekhelp_if_fever ~ treatment', mat[mat.seekhelp_if_fever.notna()], 'fever2weeks')"
   ]
  },
  {
   "cell_type": "code",
   "execution_count": 125,
   "metadata": {
    "collapsed": false
   },
   "outputs": [
    {
     "data": {
      "text/html": [
       "<table class=\"simpletable\">\n",
       "<caption>Generalized Linear Model Regression Results</caption>\n",
       "<tr>\n",
       "  <th>Dep. Variable:</th>     <td>fever4months</td>   <th>  No. Observations:  </th>  <td>  4951</td> \n",
       "</tr>\n",
       "<tr>\n",
       "  <th>Model:</th>                  <td>GLM</td>       <th>  Df Residuals:      </th>  <td>  4949</td> \n",
       "</tr>\n",
       "<tr>\n",
       "  <th>Model Family:</th>        <td>Binomial</td>     <th>  Df Model:          </th>  <td>     1</td> \n",
       "</tr>\n",
       "<tr>\n",
       "  <th>Link Function:</th>         <td>logit</td>      <th>  Scale:             </th> <td>  1.0000</td>\n",
       "</tr>\n",
       "<tr>\n",
       "  <th>Method:</th>                <td>IRLS</td>       <th>  Log-Likelihood:    </th> <td> -1814.3</td>\n",
       "</tr>\n",
       "<tr>\n",
       "  <th>Date:</th>            <td>Sun, 07 Feb 2021</td> <th>  Deviance:          </th> <td>  3628.7</td>\n",
       "</tr>\n",
       "<tr>\n",
       "  <th>Time:</th>                <td>18:12:45</td>     <th>  Pearson chi2:      </th> <td>4.95e+03</td>\n",
       "</tr>\n",
       "<tr>\n",
       "  <th>No. Iterations:</th>          <td>5</td>        <th>                     </th>     <td> </td>   \n",
       "</tr>\n",
       "<tr>\n",
       "  <th>Covariance Type:</th>     <td>nonrobust</td>    <th>                     </th>     <td> </td>   \n",
       "</tr>\n",
       "</table>\n",
       "<table class=\"simpletable\">\n",
       "<tr>\n",
       "      <td></td>         <th>coef</th>     <th>std err</th>      <th>z</th>      <th>P>|z|</th>  <th>[0.025</th>    <th>0.975]</th>  \n",
       "</tr>\n",
       "<tr>\n",
       "  <th>Intercept</th> <td>   -1.9782</td> <td>    0.061</td> <td>  -32.593</td> <td> 0.000</td> <td>   -2.097</td> <td>   -1.859</td>\n",
       "</tr>\n",
       "<tr>\n",
       "  <th>treatment</th> <td>   -0.0339</td> <td>    0.088</td> <td>   -0.387</td> <td> 0.699</td> <td>   -0.206</td> <td>    0.138</td>\n",
       "</tr>\n",
       "</table>"
      ],
      "text/plain": [
       "<class 'statsmodels.iolib.summary.Summary'>\n",
       "\"\"\"\n",
       "                 Generalized Linear Model Regression Results                  \n",
       "==============================================================================\n",
       "Dep. Variable:           fever4months   No. Observations:                 4951\n",
       "Model:                            GLM   Df Residuals:                     4949\n",
       "Model Family:                Binomial   Df Model:                            1\n",
       "Link Function:                  logit   Scale:                          1.0000\n",
       "Method:                          IRLS   Log-Likelihood:                -1814.3\n",
       "Date:                Sun, 07 Feb 2021   Deviance:                       3628.7\n",
       "Time:                        18:12:45   Pearson chi2:                 4.95e+03\n",
       "No. Iterations:                     5                                         \n",
       "Covariance Type:            nonrobust                                         \n",
       "==============================================================================\n",
       "                 coef    std err          z      P>|z|      [0.025      0.975]\n",
       "------------------------------------------------------------------------------\n",
       "Intercept     -1.9782      0.061    -32.593      0.000      -2.097      -1.859\n",
       "treatment     -0.0339      0.088     -0.387      0.699      -0.206       0.138\n",
       "==============================================================================\n",
       "\"\"\""
      ]
     },
     "execution_count": 125,
     "metadata": {},
     "output_type": "execute_result"
    }
   ],
   "source": [
    "reg('fever4months ~ treatment', matb)"
   ]
  },
  {
   "cell_type": "code",
   "execution_count": 126,
   "metadata": {
    "collapsed": false
   },
   "outputs": [
    {
     "data": {
      "text/html": [
       "<table class=\"simpletable\">\n",
       "<caption>Generalized Linear Model Regression Results</caption>\n",
       "<tr>\n",
       "  <th>Dep. Variable:</th>      <td>fever2weeks</td>   <th>  No. Observations:  </th>  <td>  6496</td> \n",
       "</tr>\n",
       "<tr>\n",
       "  <th>Model:</th>                  <td>GLM</td>       <th>  Df Residuals:      </th>  <td>  6494</td> \n",
       "</tr>\n",
       "<tr>\n",
       "  <th>Model Family:</th>        <td>Binomial</td>     <th>  Df Model:          </th>  <td>     1</td> \n",
       "</tr>\n",
       "<tr>\n",
       "  <th>Link Function:</th>         <td>logit</td>      <th>  Scale:             </th> <td>  1.0000</td>\n",
       "</tr>\n",
       "<tr>\n",
       "  <th>Method:</th>                <td>IRLS</td>       <th>  Log-Likelihood:    </th> <td> -4306.4</td>\n",
       "</tr>\n",
       "<tr>\n",
       "  <th>Date:</th>            <td>Sun, 07 Feb 2021</td> <th>  Deviance:          </th> <td>  5633.2</td>\n",
       "</tr>\n",
       "<tr>\n",
       "  <th>Time:</th>                <td>18:12:47</td>     <th>  Pearson chi2:      </th> <td>8.75e+03</td>\n",
       "</tr>\n",
       "<tr>\n",
       "  <th>No. Iterations:</th>          <td>6</td>        <th>                     </th>     <td> </td>   \n",
       "</tr>\n",
       "<tr>\n",
       "  <th>Covariance Type:</th>     <td>nonrobust</td>    <th>                     </th>     <td> </td>   \n",
       "</tr>\n",
       "</table>\n",
       "<table class=\"simpletable\">\n",
       "<tr>\n",
       "      <td></td>         <th>coef</th>     <th>std err</th>      <th>z</th>      <th>P>|z|</th>  <th>[0.025</th>    <th>0.975]</th>  \n",
       "</tr>\n",
       "<tr>\n",
       "  <th>Intercept</th> <td>   -2.7039</td> <td>    0.041</td> <td>  -66.740</td> <td> 0.000</td> <td>   -2.783</td> <td>   -2.625</td>\n",
       "</tr>\n",
       "<tr>\n",
       "  <th>treatment</th> <td>    0.1145</td> <td>    0.056</td> <td>    2.041</td> <td> 0.041</td> <td>    0.005</td> <td>    0.224</td>\n",
       "</tr>\n",
       "</table>"
      ],
      "text/plain": [
       "<class 'statsmodels.iolib.summary.Summary'>\n",
       "\"\"\"\n",
       "                 Generalized Linear Model Regression Results                  \n",
       "==============================================================================\n",
       "Dep. Variable:            fever2weeks   No. Observations:                 6496\n",
       "Model:                            GLM   Df Residuals:                     6494\n",
       "Model Family:                Binomial   Df Model:                            1\n",
       "Link Function:                  logit   Scale:                          1.0000\n",
       "Method:                          IRLS   Log-Likelihood:                -4306.4\n",
       "Date:                Sun, 07 Feb 2021   Deviance:                       5633.2\n",
       "Time:                        18:12:47   Pearson chi2:                 8.75e+03\n",
       "No. Iterations:                     6                                         \n",
       "Covariance Type:            nonrobust                                         \n",
       "==============================================================================\n",
       "                 coef    std err          z      P>|z|      [0.025      0.975]\n",
       "------------------------------------------------------------------------------\n",
       "Intercept     -2.7039      0.041    -66.740      0.000      -2.783      -2.625\n",
       "treatment      0.1145      0.056      2.041      0.041       0.005       0.224\n",
       "==============================================================================\n",
       "\"\"\""
      ]
     },
     "execution_count": 126,
     "metadata": {},
     "output_type": "execute_result"
    }
   ],
   "source": [
    "reg('fever2weeks ~ treatment', mat)"
   ]
  },
  {
   "cell_type": "code",
   "execution_count": 115,
   "metadata": {
    "collapsed": false
   },
   "outputs": [
    {
     "data": {
      "text/html": [
       "<table class=\"simpletable\">\n",
       "<caption>Generalized Linear Model Regression Results</caption>\n",
       "<tr>\n",
       "  <th>Dep. Variable:</th>    <td>malaria4months</td>  <th>  No. Observations:  </th>  <td>  5001</td> \n",
       "</tr>\n",
       "<tr>\n",
       "  <th>Model:</th>                  <td>GLM</td>       <th>  Df Residuals:      </th>  <td>  4999</td> \n",
       "</tr>\n",
       "<tr>\n",
       "  <th>Model Family:</th>        <td>Binomial</td>     <th>  Df Model:          </th>  <td>     1</td> \n",
       "</tr>\n",
       "<tr>\n",
       "  <th>Link Function:</th>         <td>logit</td>      <th>  Scale:             </th> <td>  1.0000</td>\n",
       "</tr>\n",
       "<tr>\n",
       "  <th>Method:</th>                <td>IRLS</td>       <th>  Log-Likelihood:    </th> <td> -965.49</td>\n",
       "</tr>\n",
       "<tr>\n",
       "  <th>Date:</th>            <td>Sun, 07 Feb 2021</td> <th>  Deviance:          </th> <td>  1931.0</td>\n",
       "</tr>\n",
       "<tr>\n",
       "  <th>Time:</th>                <td>17:59:59</td>     <th>  Pearson chi2:      </th> <td>5.00e+03</td>\n",
       "</tr>\n",
       "<tr>\n",
       "  <th>No. Iterations:</th>          <td>6</td>        <th>                     </th>     <td> </td>   \n",
       "</tr>\n",
       "<tr>\n",
       "  <th>Covariance Type:</th>     <td>nonrobust</td>    <th>                     </th>     <td> </td>   \n",
       "</tr>\n",
       "</table>\n",
       "<table class=\"simpletable\">\n",
       "<tr>\n",
       "      <td></td>         <th>coef</th>     <th>std err</th>      <th>z</th>      <th>P>|z|</th>  <th>[0.025</th>    <th>0.975]</th>  \n",
       "</tr>\n",
       "<tr>\n",
       "  <th>Intercept</th> <td>   -3.0466</td> <td>    0.095</td> <td>  -32.197</td> <td> 0.000</td> <td>   -3.232</td> <td>   -2.861</td>\n",
       "</tr>\n",
       "<tr>\n",
       "  <th>treatment</th> <td>    0.1270</td> <td>    0.132</td> <td>    0.962</td> <td> 0.336</td> <td>   -0.132</td> <td>    0.386</td>\n",
       "</tr>\n",
       "</table>"
      ],
      "text/plain": [
       "<class 'statsmodels.iolib.summary.Summary'>\n",
       "\"\"\"\n",
       "                 Generalized Linear Model Regression Results                  \n",
       "==============================================================================\n",
       "Dep. Variable:         malaria4months   No. Observations:                 5001\n",
       "Model:                            GLM   Df Residuals:                     4999\n",
       "Model Family:                Binomial   Df Model:                            1\n",
       "Link Function:                  logit   Scale:                          1.0000\n",
       "Method:                          IRLS   Log-Likelihood:                -965.49\n",
       "Date:                Sun, 07 Feb 2021   Deviance:                       1931.0\n",
       "Time:                        17:59:59   Pearson chi2:                 5.00e+03\n",
       "No. Iterations:                     6                                         \n",
       "Covariance Type:            nonrobust                                         \n",
       "==============================================================================\n",
       "                 coef    std err          z      P>|z|      [0.025      0.975]\n",
       "------------------------------------------------------------------------------\n",
       "Intercept     -3.0466      0.095    -32.197      0.000      -3.232      -2.861\n",
       "treatment      0.1270      0.132      0.962      0.336      -0.132       0.386\n",
       "==============================================================================\n",
       "\"\"\""
      ]
     },
     "execution_count": 115,
     "metadata": {},
     "output_type": "execute_result"
    }
   ],
   "source": [
    "reg('malaria4months ~ treatment', matb)"
   ]
  },
  {
   "cell_type": "code",
   "execution_count": 116,
   "metadata": {
    "collapsed": false
   },
   "outputs": [
    {
     "data": {
      "text/plain": [
       "(0.045364488367139494, 0.5317073940719488)"
      ]
     },
     "execution_count": 116,
     "metadata": {},
     "output_type": "execute_result"
    }
   ],
   "source": [
    "expit(-3.0466), expit(0.1270)"
   ]
  },
  {
   "cell_type": "code",
   "execution_count": 130,
   "metadata": {
    "collapsed": false
   },
   "outputs": [
    {
     "data": {
      "text/html": [
       "<table class=\"simpletable\">\n",
       "<caption>Generalized Linear Model Regression Results</caption>\n",
       "<tr>\n",
       "  <th>Dep. Variable:</th>     <td>malaria2weeks</td>  <th>  No. Observations:  </th>  <td>  6496</td> \n",
       "</tr>\n",
       "<tr>\n",
       "  <th>Model:</th>                  <td>GLM</td>       <th>  Df Residuals:      </th>  <td>  6494</td> \n",
       "</tr>\n",
       "<tr>\n",
       "  <th>Model Family:</th>        <td>Binomial</td>     <th>  Df Model:          </th>  <td>     1</td> \n",
       "</tr>\n",
       "<tr>\n",
       "  <th>Link Function:</th>         <td>logit</td>      <th>  Scale:             </th> <td>  1.0000</td>\n",
       "</tr>\n",
       "<tr>\n",
       "  <th>Method:</th>                <td>IRLS</td>       <th>  Log-Likelihood:    </th> <td> -1526.8</td>\n",
       "</tr>\n",
       "<tr>\n",
       "  <th>Date:</th>            <td>Sun, 07 Feb 2021</td> <th>  Deviance:          </th> <td>  3053.5</td>\n",
       "</tr>\n",
       "<tr>\n",
       "  <th>Time:</th>                <td>18:15:45</td>     <th>  Pearson chi2:      </th> <td>6.50e+03</td>\n",
       "</tr>\n",
       "<tr>\n",
       "  <th>No. Iterations:</th>          <td>6</td>        <th>                     </th>     <td> </td>   \n",
       "</tr>\n",
       "<tr>\n",
       "  <th>Covariance Type:</th>     <td>nonrobust</td>    <th>                     </th>     <td> </td>   \n",
       "</tr>\n",
       "</table>\n",
       "<table class=\"simpletable\">\n",
       "<tr>\n",
       "      <td></td>         <th>coef</th>     <th>std err</th>      <th>z</th>      <th>P>|z|</th>  <th>[0.025</th>    <th>0.975]</th>  \n",
       "</tr>\n",
       "<tr>\n",
       "  <th>Intercept</th> <td>   -2.6843</td> <td>    0.072</td> <td>  -37.365</td> <td> 0.000</td> <td>   -2.825</td> <td>   -2.543</td>\n",
       "</tr>\n",
       "<tr>\n",
       "  <th>treatment</th> <td>   -0.0320</td> <td>    0.102</td> <td>   -0.313</td> <td> 0.754</td> <td>   -0.232</td> <td>    0.168</td>\n",
       "</tr>\n",
       "</table>"
      ],
      "text/plain": [
       "<class 'statsmodels.iolib.summary.Summary'>\n",
       "\"\"\"\n",
       "                 Generalized Linear Model Regression Results                  \n",
       "==============================================================================\n",
       "Dep. Variable:          malaria2weeks   No. Observations:                 6496\n",
       "Model:                            GLM   Df Residuals:                     6494\n",
       "Model Family:                Binomial   Df Model:                            1\n",
       "Link Function:                  logit   Scale:                          1.0000\n",
       "Method:                          IRLS   Log-Likelihood:                -1526.8\n",
       "Date:                Sun, 07 Feb 2021   Deviance:                       3053.5\n",
       "Time:                        18:15:45   Pearson chi2:                 6.50e+03\n",
       "No. Iterations:                     6                                         \n",
       "Covariance Type:            nonrobust                                         \n",
       "==============================================================================\n",
       "                 coef    std err          z      P>|z|      [0.025      0.975]\n",
       "------------------------------------------------------------------------------\n",
       "Intercept     -2.6843      0.072    -37.365      0.000      -2.825      -2.543\n",
       "treatment     -0.0320      0.102     -0.313      0.754      -0.232       0.168\n",
       "==============================================================================\n",
       "\"\"\""
      ]
     },
     "execution_count": 130,
     "metadata": {},
     "output_type": "execute_result"
    }
   ],
   "source": [
    "reg('malaria2weeks ~ treatment', mat, 'foo')"
   ]
  },
  {
   "cell_type": "code",
   "execution_count": 132,
   "metadata": {
    "collapsed": false
   },
   "outputs": [
    {
     "data": {
      "text/plain": [
       "(0.06390615823520344, 0.061439175217968434)"
      ]
     },
     "execution_count": 132,
     "metadata": {},
     "output_type": "execute_result"
    }
   ],
   "source": [
    "expit(-2.6843), expit(-2.6943 - 0.0320)"
   ]
  },
  {
   "cell_type": "code",
   "execution_count": null,
   "metadata": {
    "collapsed": false
   },
   "outputs": [],
   "source": [
    "dd[dd.wave == 0].groupby('treatment').long_sleeves.mean()"
   ]
  },
  {
   "cell_type": "code",
   "execution_count": null,
   "metadata": {
    "collapsed": false
   },
   "outputs": [],
   "source": [
    "reg('as_type(under_net, int) ~ treatment:as_type(wave, str) + avg_under_net', dd[(dd.userid.isin(mat[mat.net_ownership].userid)) & (dd.wave > 0)])"
   ]
  },
  {
   "cell_type": "code",
   "execution_count": null,
   "metadata": {
    "collapsed": false
   },
   "outputs": [],
   "source": [
    "reg('as_type(under_net, int) ~ treatment:as_type(month, str) + avg_under_net', dd[(dd.userid.isin(mat[mat.net_ownership].userid)) & (dd.wave > 0)])"
   ]
  },
  {
   "cell_type": "code",
   "execution_count": null,
   "metadata": {
    "collapsed": false
   },
   "outputs": [],
   "source": [
    "reg('as_type(long_sleeves, int) ~ treatment:as_type(month, str) + avg_long_sleeves', dd)"
   ]
  },
  {
   "cell_type": "code",
   "execution_count": null,
   "metadata": {
    "collapsed": false
   },
   "outputs": [],
   "source": [
    "reg('as_type(long_sleeves, int) ~ treatment', dd[dd.wave == 0])"
   ]
  },
  {
   "cell_type": "code",
   "execution_count": null,
   "metadata": {
    "collapsed": false
   },
   "outputs": [],
   "source": [
    "reg('as_type(under_net, int) ~ treatment', dd[dd.wave == 0])"
   ]
  },
  {
   "cell_type": "code",
   "execution_count": null,
   "metadata": {
    "collapsed": false
   },
   "outputs": [],
   "source": [
    "reg('as_type(malaria_now, int) ~ treatment', dd[dd.wave == 0])"
   ]
  },
  {
   "cell_type": "code",
   "execution_count": null,
   "metadata": {
    "collapsed": false
   },
   "outputs": [],
   "source": [
    "reg('malaria_now ~ treatment', mat)"
   ]
  },
  {
   "cell_type": "code",
   "execution_count": null,
   "metadata": {
    "collapsed": false
   },
   "outputs": [],
   "source": [
    "mat['num_under_net'].max()"
   ]
  },
  {
   "cell_type": "code",
   "execution_count": null,
   "metadata": {
    "collapsed": false
   },
   "outputs": [],
   "source": [
    "reg('num_under_net ~ treatment', mat[(mat['owns_net'] == 'Yes')]) "
   ]
  },
  {
   "cell_type": "code",
   "execution_count": null,
   "metadata": {
    "collapsed": false
   },
   "outputs": [],
   "source": [
    "reg('long_sleeves ~ treatment + avg_long_sleeves', mat) "
   ]
  },
  {
   "cell_type": "code",
   "execution_count": null,
   "metadata": {
    "collapsed": false
   },
   "outputs": [],
   "source": [
    "reg('under_net ~ treatment', mat[mat['owns_net'] == 'Yes'])"
   ]
  },
  {
   "cell_type": "code",
   "execution_count": null,
   "metadata": {
    "collapsed": false
   },
   "outputs": [],
   "source": [
    "reg('under_net ~ treatment*pregnant_in_house', mat[mat['owns_net'] == 'Yes'])"
   ]
  },
  {
   "cell_type": "code",
   "execution_count": null,
   "metadata": {
    "collapsed": false
   },
   "outputs": [],
   "source": [
    "reg('under_net ~ treatment*quantile(avg_malaria_now, 0.5)', mat[mat['owns_net'] == 'Yes'])"
   ]
  },
  {
   "cell_type": "code",
   "execution_count": null,
   "metadata": {
    "collapsed": false
   },
   "outputs": [],
   "source": [
    "reg('under_net ~ treatment*kutcha*quantile(avg_malaria_now, 0.5)', mat[mat['owns_net'] == 'Yes'])"
   ]
  },
  {
   "cell_type": "code",
   "execution_count": 1413,
   "metadata": {
    "collapsed": false
   },
   "outputs": [
    {
     "data": {
      "text/plain": [
       "0.6454503734274153"
      ]
     },
     "execution_count": 1413,
     "metadata": {},
     "output_type": "execute_result"
    }
   ],
   "source": [
    "expit(0.5991)"
   ]
  },
  {
   "cell_type": "code",
   "execution_count": 1412,
   "metadata": {
    "collapsed": false
   },
   "outputs": [
    {
     "data": {
      "text/plain": [
       "0.6506960099929763"
      ]
     },
     "execution_count": 1412,
     "metadata": {},
     "output_type": "execute_result"
    }
   ],
   "source": [
    "expit(0.5991 + 0.023)"
   ]
  },
  {
   "cell_type": "code",
   "execution_count": 1416,
   "metadata": {
    "collapsed": false
   },
   "outputs": [
    {
     "data": {
      "text/plain": [
       "0.5891372593292695"
      ]
     },
     "execution_count": 1416,
     "metadata": {},
     "output_type": "execute_result"
    }
   ],
   "source": [
    "expit(0.5991 - 0.2387)"
   ]
  },
  {
   "cell_type": "code",
   "execution_count": 1414,
   "metadata": {
    "collapsed": false
   },
   "outputs": [
    {
     "data": {
      "text/plain": [
       "0.6316262977304613"
      ]
     },
     "execution_count": 1414,
     "metadata": {},
     "output_type": "execute_result"
    }
   ],
   "source": [
    "expit(0.5991 + 0.023 + 0.1558 - 0.2387)"
   ]
  },
  {
   "cell_type": "code",
   "execution_count": null,
   "metadata": {
    "collapsed": false
   },
   "outputs": [],
   "source": [
    "reg('under_net ~ treatment', mat[mat['owns_net'] == 'Yes'])"
   ]
  },
  {
   "cell_type": "code",
   "execution_count": 1378,
   "metadata": {
    "collapsed": false
   },
   "outputs": [],
   "source": []
  },
  {
   "cell_type": "code",
   "execution_count": 1379,
   "metadata": {
    "collapsed": false
   },
   "outputs": [
    {
     "data": {
      "text/plain": [
       "0.6292498476593299"
      ]
     },
     "execution_count": 1379,
     "metadata": {},
     "output_type": "execute_result"
    }
   ],
   "source": [
    "expit(0.529)"
   ]
  },
  {
   "cell_type": "code",
   "execution_count": 1388,
   "metadata": {
    "collapsed": false
   },
   "outputs": [
    {
     "data": {
      "text/plain": [
       "0.617747874769249"
      ]
     },
     "execution_count": 1388,
     "metadata": {},
     "output_type": "execute_result"
    }
   ],
   "source": [
    "expit(0.48)"
   ]
  },
  {
   "cell_type": "code",
   "execution_count": 1389,
   "metadata": {
    "collapsed": false
   },
   "outputs": [
    {
     "data": {
      "text/plain": [
       "0.6410674063348171"
      ]
     },
     "execution_count": 1389,
     "metadata": {},
     "output_type": "execute_result"
    }
   ],
   "source": [
    "expit(0.58)"
   ]
  },
  {
   "cell_type": "code",
   "execution_count": 1405,
   "metadata": {
    "collapsed": false
   },
   "outputs": [
    {
     "data": {
      "text/plain": [
       "(0.5863750605361624, 0.648168881838421)"
      ]
     },
     "execution_count": 1405,
     "metadata": {},
     "output_type": "execute_result"
    }
   ],
   "source": [
    "expit(0.349), expit(0.611)"
   ]
  },
  {
   "cell_type": "code",
   "execution_count": 1404,
   "metadata": {
    "collapsed": false
   },
   "outputs": [
    {
     "data": {
      "text/plain": [
       "(0.6201064323430902, 0.7045375762042413)"
      ]
     },
     "execution_count": 1404,
     "metadata": {},
     "output_type": "execute_result"
    }
   ],
   "source": [
    "expit(0.58 - 0.09), expit(0.58 + 0.289)"
   ]
  },
  {
   "cell_type": "code",
   "execution_count": 1402,
   "metadata": {
    "collapsed": false
   },
   "outputs": [
    {
     "data": {
      "text/plain": [
       "0.7045375762042413"
      ]
     },
     "execution_count": 1402,
     "metadata": {},
     "output_type": "execute_result"
    }
   ],
   "source": []
  },
  {
   "cell_type": "code",
   "execution_count": null,
   "metadata": {
    "collapsed": false
   },
   "outputs": [],
   "source": [
    "reg('under_net ~ treatment*lower_caste*quantile(avg_malaria_now, 0.5) + avg_under_net', mat[mat['owns_net'] == 'Yes'])"
   ]
  },
  {
   "cell_type": "code",
   "execution_count": null,
   "metadata": {
    "collapsed": false
   },
   "outputs": [],
   "source": [
    "reg('long_sleeves ~ treatment*lower_caste*quantile(avg_malaria_now, 0.5) + avg_long_sleeves', mat)"
   ]
  },
  {
   "cell_type": "code",
   "execution_count": 415,
   "metadata": {
    "collapsed": false
   },
   "outputs": [
    {
     "data": {
      "text/plain": [
       "0"
      ]
     },
     "execution_count": 415,
     "metadata": {},
     "output_type": "execute_result"
    }
   ],
   "source": [
    "mat.malaria_now.sum()"
   ]
  },
  {
   "cell_type": "code",
   "execution_count": 410,
   "metadata": {
    "collapsed": false
   },
   "outputs": [
    {
     "data": {
      "text/plain": [
       "array([0, 0, 0, 0, 0, 0, 0, 0, 0, 0, 0, 0, 0, 0, 0, 0, 0, 0, 0, 0, 0, 0,\n",
       "       0, 0, 0, 0, 0, 0, 0, 0, 0, 0, 0, 0, 0, 0, 0, 0, 0, 0, 0, 0, 0, 0,\n",
       "       0, 0, 0, 0, 0, 0, 0, 0, 0, 0, 0, 0, 0, 0, 0, 0, 0, 0, 0, 0, 0, 0,\n",
       "       0, 0, 0, 0, 0, 0, 0, 0, 0, 0, 0, 0, 0, 0])"
      ]
     },
     "execution_count": 410,
     "metadata": {},
     "output_type": "execute_result"
    }
   ],
   "source": [
    "mat.groupby('clusterid').malaria_now.sum().values"
   ]
  },
  {
   "cell_type": "code",
   "execution_count": 383,
   "metadata": {
    "collapsed": false
   },
   "outputs": [
    {
     "data": {
      "text/plain": [
       "treatment  malaria_now\n",
       "0          0              0.917864\n",
       "           1              0.082136\n",
       "1          0              0.910769\n",
       "           1              0.089231\n",
       "Name: malaria_now, dtype: float64"
      ]
     },
     "execution_count": 383,
     "metadata": {},
     "output_type": "execute_result"
    }
   ],
   "source": [
    "mat.groupby('treatment').malaria_now.value_counts(normalize=True)"
   ]
  },
  {
   "cell_type": "code",
   "execution_count": null,
   "metadata": {
    "collapsed": false
   },
   "outputs": [],
   "source": [
    "df.clusterid"
   ]
  },
  {
   "cell_type": "code",
   "execution_count": null,
   "metadata": {
    "collapsed": false
   },
   "outputs": [],
   "source": [
    "df.wave == 0"
   ]
  },
  {
   "cell_type": "code",
   "execution_count": 768,
   "metadata": {
    "collapsed": false
   },
   "outputs": [],
   "source": [
    "dist_info['high_malaria_district'] = dist_info.avg_malaria_now > 0.02"
   ]
  },
  {
   "cell_type": "code",
   "execution_count": 495,
   "metadata": {
    "collapsed": false
   },
   "outputs": [
    {
     "data": {
      "text/plain": [
       "array([1, 0, 0, 0, 0, 1, 0, 0, 0, 0, 1, 0, 1, 1, 0, 0, 2, 1, 0, 0, 1, 0,\n",
       "       0, 0, 0, 0, 0, 0, 0, 1, 0, 0, 0, 0, 0, 0, 1, 0, 0, 0, 0, 0, 0, 1,\n",
       "       0, 0, 0, 0, 0, 0, 0, 1, 0, 1, 1, 1, 0, 0, 0, 0, 0, 0, 0, 1, 0, 0,\n",
       "       2, 0, 0, 1, 0, 0, 0, 0, 0, 0, 0, 0, 0, 0])"
      ]
     },
     "execution_count": 495,
     "metadata": {},
     "output_type": "execute_result"
    }
   ],
   "source": [
    "dd[dd.wave == 0].groupby('clusterid').apply(lambda df: df.malaria_now.sum()).values"
   ]
  },
  {
   "cell_type": "code",
   "execution_count": null,
   "metadata": {
    "collapsed": false
   },
   "outputs": [],
   "source": [
    "# recruit\n",
    "# give some money\n",
    "\n",
    "# randomize within cluster -> some ask questions, some follow up later.\n",
    "\n",
    "# for follow-up later group, make stratified assignment, send ads to half\n",
    "\n",
    "# for other group, nothing. \n",
    "\n",
    "\n",
    "# wait 2 weeks\n",
    "# (advertise)\n",
    "# send follow up\n",
    "\n",
    "\n",
    "# follow up should be able to: A) test direct effect (t/c within our study) AND test effect of large-scale...\n",
    "\n",
    "\n",
    "\n",
    "# "
   ]
  },
  {
   "cell_type": "code",
   "execution_count": 680,
   "metadata": {
    "collapsed": false
   },
   "outputs": [],
   "source": []
  },
  {
   "cell_type": "code",
   "execution_count": null,
   "metadata": {
    "collapsed": false
   },
   "outputs": [],
   "source": [
    "dist_info"
   ]
  },
  {
   "cell_type": "code",
   "execution_count": null,
   "metadata": {
    "collapsed": false
   },
   "outputs": [],
   "source": [
    "mm"
   ]
  },
  {
   "cell_type": "code",
   "execution_count": 543,
   "metadata": {
    "collapsed": false
   },
   "outputs": [
    {
     "name": "stdout",
     "output_type": "stream",
     "text": [
      "Optimization terminated successfully.\n",
      "         Current function value: 0.287730\n",
      "         Iterations 8\n"
     ]
    },
    {
     "data": {
      "text/html": [
       "<table class=\"simpletable\">\n",
       "<caption>Logit Regression Results</caption>\n",
       "<tr>\n",
       "  <th>Dep. Variable:</th>      <td>malaria_now</td>   <th>  No. Observations:  </th>  <td>  1949</td> \n",
       "</tr>\n",
       "<tr>\n",
       "  <th>Model:</th>                 <td>Logit</td>      <th>  Df Residuals:      </th>  <td>  1941</td> \n",
       "</tr>\n",
       "<tr>\n",
       "  <th>Method:</th>                 <td>MLE</td>       <th>  Df Model:          </th>  <td>     7</td> \n",
       "</tr>\n",
       "<tr>\n",
       "  <th>Date:</th>            <td>Wed, 02 Dec 2020</td> <th>  Pseudo R-squ.:     </th>  <td>0.01610</td>\n",
       "</tr>\n",
       "<tr>\n",
       "  <th>Time:</th>                <td>16:37:02</td>     <th>  Log-Likelihood:    </th> <td> -560.79</td>\n",
       "</tr>\n",
       "<tr>\n",
       "  <th>converged:</th>             <td>True</td>       <th>  LL-Null:           </th> <td> -569.96</td>\n",
       "</tr>\n",
       "<tr>\n",
       "  <th>Covariance Type:</th>     <td>nonrobust</td>    <th>  LLR p-value:       </th>  <td>0.01047</td>\n",
       "</tr>\n",
       "</table>\n",
       "<table class=\"simpletable\">\n",
       "<tr>\n",
       "                       <td></td>                         <th>coef</th>     <th>std err</th>      <th>z</th>      <th>P>|z|</th>  <th>[0.025</th>    <th>0.975]</th>  \n",
       "</tr>\n",
       "<tr>\n",
       "  <th>Intercept</th>                                  <td>   -1.9847</td> <td>    0.738</td> <td>   -2.689</td> <td> 0.007</td> <td>   -3.431</td> <td>   -0.538</td>\n",
       "</tr>\n",
       "<tr>\n",
       "  <th>treatment</th>                                  <td>    0.4164</td> <td>    1.093</td> <td>    0.381</td> <td> 0.703</td> <td>   -1.725</td> <td>    2.558</td>\n",
       "</tr>\n",
       "<tr>\n",
       "  <th>avg_malaria_now</th>                            <td>    0.0445</td> <td>   38.359</td> <td>    0.001</td> <td> 0.999</td> <td>  -75.138</td> <td>   75.227</td>\n",
       "</tr>\n",
       "<tr>\n",
       "  <th>treatment:avg_malaria_now</th>                  <td>  -11.6342</td> <td>   51.275</td> <td>   -0.227</td> <td> 0.821</td> <td> -112.130</td> <td>   88.862</td>\n",
       "</tr>\n",
       "<tr>\n",
       "  <th>cost_per_message</th>                           <td>   -0.0403</td> <td>    0.034</td> <td>   -1.195</td> <td> 0.232</td> <td>   -0.106</td> <td>    0.026</td>\n",
       "</tr>\n",
       "<tr>\n",
       "  <th>treatment:cost_per_message</th>                 <td>   -0.0314</td> <td>    0.054</td> <td>   -0.581</td> <td> 0.561</td> <td>   -0.138</td> <td>    0.075</td>\n",
       "</tr>\n",
       "<tr>\n",
       "  <th>avg_malaria_now:cost_per_message</th>           <td>    0.9171</td> <td>    1.603</td> <td>    0.572</td> <td> 0.567</td> <td>   -2.225</td> <td>    4.059</td>\n",
       "</tr>\n",
       "<tr>\n",
       "  <th>treatment:avg_malaria_now:cost_per_message</th> <td>    0.9822</td> <td>    2.285</td> <td>    0.430</td> <td> 0.667</td> <td>   -3.496</td> <td>    5.461</td>\n",
       "</tr>\n",
       "</table>"
      ],
      "text/plain": [
       "<class 'statsmodels.iolib.summary.Summary'>\n",
       "\"\"\"\n",
       "                           Logit Regression Results                           \n",
       "==============================================================================\n",
       "Dep. Variable:            malaria_now   No. Observations:                 1949\n",
       "Model:                          Logit   Df Residuals:                     1941\n",
       "Method:                           MLE   Df Model:                            7\n",
       "Date:                Wed, 02 Dec 2020   Pseudo R-squ.:                 0.01610\n",
       "Time:                        16:37:02   Log-Likelihood:                -560.79\n",
       "converged:                       True   LL-Null:                       -569.96\n",
       "Covariance Type:            nonrobust   LLR p-value:                   0.01047\n",
       "==============================================================================================================\n",
       "                                                 coef    std err          z      P>|z|      [0.025      0.975]\n",
       "--------------------------------------------------------------------------------------------------------------\n",
       "Intercept                                     -1.9847      0.738     -2.689      0.007      -3.431      -0.538\n",
       "treatment                                      0.4164      1.093      0.381      0.703      -1.725       2.558\n",
       "avg_malaria_now                                0.0445     38.359      0.001      0.999     -75.138      75.227\n",
       "treatment:avg_malaria_now                    -11.6342     51.275     -0.227      0.821    -112.130      88.862\n",
       "cost_per_message                              -0.0403      0.034     -1.195      0.232      -0.106       0.026\n",
       "treatment:cost_per_message                    -0.0314      0.054     -0.581      0.561      -0.138       0.075\n",
       "avg_malaria_now:cost_per_message               0.9171      1.603      0.572      0.567      -2.225       4.059\n",
       "treatment:avg_malaria_now:cost_per_message     0.9822      2.285      0.430      0.667      -3.496       5.461\n",
       "==============================================================================================================\n",
       "\"\"\""
      ]
     },
     "execution_count": 543,
     "metadata": {},
     "output_type": "execute_result"
    }
   ],
   "source": [
    "smf.logit('malaria_now ~ treatment*avg_malaria_now*cost_per_message', mm).fit().summary()"
   ]
  },
  {
   "cell_type": "code",
   "execution_count": 438,
   "metadata": {
    "collapsed": false
   },
   "outputs": [
    {
     "data": {
      "text/plain": [
       "treatment  translated_response\n",
       "0          Yes                    0.569815\n",
       "           No                     0.430185\n",
       "1          Yes                    0.562628\n",
       "           No                     0.437372\n",
       "Name: translated_response, dtype: float64"
      ]
     },
     "execution_count": 438,
     "metadata": {},
     "output_type": "execute_result"
    }
   ],
   "source": [
    "df[(df.variable == 'net_lastnight') & (df.wave == 0)].groupby('treatment').translated_response.value_counts(normalize=True)"
   ]
  },
  {
   "cell_type": "code",
   "execution_count": 440,
   "metadata": {
    "collapsed": false
   },
   "outputs": [
    {
     "data": {
      "text/plain": [
       "1197     2020-07-23 08:06:51.476000+00:00\n",
       "1190     2020-07-23 08:07:00.147000+00:00\n",
       "1165     2020-07-23 08:07:55.339000+00:00\n",
       "1181     2020-07-23 08:08:15.220000+00:00\n",
       "1196     2020-07-23 08:08:21.454000+00:00\n",
       "                       ...               \n",
       "119064   2020-12-02 08:32:00.924000+00:00\n",
       "95367    2020-12-02 08:57:51.108000+00:00\n",
       "95615    2020-12-02 08:58:27.031000+00:00\n",
       "95616    2020-12-02 08:59:03.112000+00:00\n",
       "95623    2020-12-02 08:59:11.999000+00:00\n",
       "Name: timestamp, Length: 83171, dtype: datetime64[ns, psycopg2.tz.FixedOffsetTimezone(offset=0, name=None)]"
      ]
     },
     "execution_count": 440,
     "metadata": {},
     "output_type": "execute_result"
    }
   ],
   "source": [
    "df.timestamp"
   ]
  },
  {
   "cell_type": "code",
   "execution_count": 439,
   "metadata": {
    "collapsed": false
   },
   "outputs": [
    {
     "data": {
      "text/plain": [
       "treatment  translated_response\n",
       "0          Yes                    0.519062\n",
       "           No                     0.480938\n",
       "1          Yes                    0.572917\n",
       "           No                     0.427083\n",
       "Name: translated_response, dtype: float64"
      ]
     },
     "execution_count": 439,
     "metadata": {},
     "output_type": "execute_result"
    }
   ],
   "source": [
    "df[(df.variable == 'net_lastnight') & (df.wave > 5)].groupby('treatment').translated_response.value_counts(normalize=True)"
   ]
  },
  {
   "cell_type": "code",
   "execution_count": 198,
   "metadata": {
    "collapsed": false
   },
   "outputs": [
    {
     "data": {
      "text/plain": [
       "treatment\n",
       "0.0    3.153181\n",
       "1.0    3.222683\n",
       "Name: summed, dtype: float64"
      ]
     },
     "execution_count": 198,
     "metadata": {},
     "output_type": "execute_result"
    }
   ],
   "source": [
    "df[(df.variable == 'net_lastnight') & (df.wave > 0)] \\\n",
    "    .groupby('userid') \\\n",
    "    .apply(lambda df: df.assign(summed = (df.translated_response == 'Yes').sum())) \\\n",
    "    .groupby('treatment') \\\n",
    "    .summed.mean()"
   ]
  },
  {
   "cell_type": "code",
   "execution_count": null,
   "metadata": {
    "collapsed": false
   },
   "outputs": [],
   "source": [
    "df[(df.variable == 'long_sleeves') & (df.wave == 0)].groupby('treatment').translated_response.value_counts(normalize=True)"
   ]
  },
  {
   "cell_type": "code",
   "execution_count": 408,
   "metadata": {
    "collapsed": false
   },
   "outputs": [
    {
     "data": {
      "text/plain": [
       "treatment  translated_response\n",
       "0          Yes                    0.675000\n",
       "           No                     0.325000\n",
       "1          Yes                    0.653153\n",
       "           No                     0.346847\n",
       "Name: translated_response, dtype: float64"
      ]
     },
     "execution_count": 408,
     "metadata": {},
     "output_type": "execute_result"
    }
   ],
   "source": [
    "df[(df.variable == 'long_sleeves') & (df.wave > 5)].groupby('treatment').translated_response.value_counts(normalize=True)"
   ]
  },
  {
   "cell_type": "code",
   "execution_count": null,
   "metadata": {
    "collapsed": false
   },
   "outputs": [],
   "source": []
  },
  {
   "cell_type": "code",
   "execution_count": null,
   "metadata": {
    "collapsed": false
   },
   "outputs": [],
   "source": []
  },
  {
   "cell_type": "code",
   "execution_count": 96,
   "metadata": {
    "collapsed": false
   },
   "outputs": [],
   "source": [
    "foo = df[(df.variable == 'net_lastnight') & (df.wave == 0)].translated_response.unique()\n",
    "wrong = [i for i in foo if i not in ['Yes', 'No']]\n",
    "\n",
    "ddd = df[(df.variable == 'net_lastnight') & (df.wave == 0) & df.translated_response.isin(wrong)]"
   ]
  },
  {
   "cell_type": "code",
   "execution_count": 104,
   "metadata": {
    "collapsed": false
   },
   "outputs": [
    {
     "data": {
      "text/plain": [
       "'baselinehinexc'"
      ]
     },
     "execution_count": 104,
     "metadata": {},
     "output_type": "execute_result"
    }
   ],
   "source": [
    "form_lookup['0c9776ba-7805-4949-b921-1797e37830ab']['shortcode']"
   ]
  },
  {
   "cell_type": "code",
   "execution_count": 105,
   "metadata": {
    "collapsed": false
   },
   "outputs": [
    {
     "data": {
      "text/plain": [
       "'baselinehinexc'"
      ]
     },
     "execution_count": 105,
     "metadata": {},
     "output_type": "execute_result"
    }
   ],
   "source": [
    "form_lookup['d9de2649-b403-41c9-8db4-8d41b36342e5']['shortcode']"
   ]
  },
  {
   "cell_type": "code",
   "execution_count": null,
   "metadata": {
    "collapsed": false
   },
   "outputs": [],
   "source": [
    "ddd[['surveyid', 'shortcode', 'question_ref', 'tref']]"
   ]
  },
  {
   "cell_type": "code",
   "execution_count": 69,
   "metadata": {
    "collapsed": false
   },
   "outputs": [
    {
     "data": {
      "text/plain": [
       "0.0    71763\n",
       "1.0    71691\n",
       "Name: treatment, dtype: int64"
      ]
     },
     "execution_count": 69,
     "metadata": {},
     "output_type": "execute_result"
    }
   ],
   "source": [
    "df.treatment.value_counts()"
   ]
  },
  {
   "cell_type": "code",
   "execution_count": 11,
   "metadata": {
    "collapsed": false
   },
   "outputs": [],
   "source": [
    "from adopt.responses import get_response_df\n",
    "from datetime import datetime, timezone\n",
    "from adopt.clustering import only_target_users\n",
    "import pandas as pd\n",
    "from adopt.clustering import add_res_cols\n",
    "from adopt.forms import response_translator\n",
    "from adopt.malaria import shape_df\n",
    "import re\n",
    "\n",
    "\n",
    "def filter_time(df, min_date, max_date):\n",
    "    min_date = datetime(*min_date, tzinfo=timezone.utc)\n",
    "    max_date = datetime(*max_date, tzinfo=timezone.utc)\n",
    "\n",
    "    users = df[(df.timestamp > min_date) & (df.timestamp < max_date)].userid.unique()\n",
    "    return df[df.userid.isin(users)]\n",
    "\n",
    "\n",
    "def ref_translation(ref_form, other_form):\n",
    "    vals = [(a['ref'], b['ref']) for a, b \n",
    "            in zip(eng_form['fields'], other_form['fields'])]\n",
    "    lookup = dict(vals)\n",
    "    rev_lookup = {v:k for k,v in lookup.items()}\n",
    "    return lookup, rev_lookup\n",
    "\n",
    "def get_filtered_responses(survey_user, eng_form, other_form, shortcodes, questions, db_cnf):\n",
    "    ref_lookup, rev_ref_lookup = ref_translation(eng_form, other_form)\n",
    "    refs = [ref_lookup[r] for _, r in questions]\n",
    "    responses = get_response_df(survey_user, shortcodes, refs, db_cnf)\n",
    "\n",
    "    _, last_ref = questions[-1]\n",
    "    \n",
    "    answered = responses[responses.question_ref == last_ref].userid.unique()    \n",
    "\n",
    "    return responses[responses.userid.isin(answered)].reset_index(drop=True)\n",
    "\n",
    "def malaria_prob(groupby, key='malaria'):\n",
    "    d = groupby[key].value_counts(normalize=True)\n",
    "    d.name = 'count'\n",
    "    d = d.reset_index(level=-1)\n",
    "    d = d[d[key] == True].drop(columns=key)\n",
    "    return d\n",
    "\n",
    "\n",
    "def stats(df):\n",
    "    targets = df.kutcha.sum()\n",
    "    tot = df.shape[0]\n",
    "    non_target = tot - targets\n",
    "    return pd.Series([targets/tot, targets, non_target, tot], index=['perc', 'target', 'non_target', 'tot'])\n",
    "\n",
    "\n",
    "def col_translators(a, b, questions):\n",
    "    lookup, _ = ref_translation(a, b)\n",
    "\n",
    "    refs = [ref for _, ref in questions]\n",
    "    ts = { qt['ref']: response_translator(q, qt)\n",
    "           for qt, q in zip(a['fields'], b['fields'])\n",
    "           if qt['ref'] in refs}\n",
    "    \n",
    "    return [(n, lookup[ref], ts[ref]) for n, ref in questions]\n"
   ]
  },
  {
   "cell_type": "code",
   "execution_count": null,
   "metadata": {
    "collapsed": false
   },
   "outputs": [],
   "source": [
    "forms[1]['field']"
   ]
  },
  {
   "cell_type": "code",
   "execution_count": null,
   "metadata": {
    "collapsed": false
   },
   "outputs": [],
   "source": [
    "forms[1]"
   ]
  },
  {
   "cell_type": "code",
   "execution_count": null,
   "metadata": {
    "collapsed": false
   },
   "outputs": [],
   "source": [
    "filtered_res"
   ]
  },
  {
   "cell_type": "code",
   "execution_count": 21,
   "metadata": {
    "collapsed": false
   },
   "outputs": [],
   "source": [
    "# filtered_res = get_filtered_responses(survey_user, forms[0], forms[1], ['follow1hin'], questions, db_conf)\n",
    "filtered_res = get_filtered_responses(survey_user, forms[0], forms[1], ['baselinehin', 'baselinehinexc'], questions, db_conf)\n",
    "\n",
    "col_names = col_translators(forms[0], forms[1], questions)\n",
    "rr = add_res_cols(col_names, shape_df(filtered_res)) \\\n",
    "    .reset_index(drop=True) \\\n",
    "    .dropna(subset=[r for r, _ in questions if not re.match('if_', r)])"
   ]
  },
  {
   "cell_type": "code",
   "execution_count": null,
   "metadata": {
    "collapsed": false
   },
   "outputs": [],
   "source": []
  },
  {
   "cell_type": "code",
   "execution_count": null,
   "metadata": {
    "collapsed": false
   },
   "outputs": [],
   "source": [
    "# choices: \n",
    "#   ordered: true\n",
    "#   alphabetize: true\n",
    "#   booleanize: Yes"
   ]
  },
  {
   "cell_type": "code",
   "execution_count": 12,
   "metadata": {
    "collapsed": false
   },
   "outputs": [
    {
     "ename": "NameError",
     "evalue": "name 'rr' is not defined",
     "output_type": "error",
     "traceback": [
      "\u001b[0;31m---------------------------------------------------------------------------\u001b[0m",
      "\u001b[0;31mNameError\u001b[0m                                 Traceback (most recent call last)",
      "\u001b[0;32m<ipython-input-12-6017581a62a1>\u001b[0m in \u001b[0;36m<module>\u001b[0;34m\u001b[0m\n\u001b[0;32m----> 1\u001b[0;31m \u001b[0mdd\u001b[0m \u001b[0;34m=\u001b[0m \u001b[0mrr\u001b[0m\u001b[0;34m.\u001b[0m\u001b[0mmerge\u001b[0m\u001b[0;34m(\u001b[0m\u001b[0mdistricts\u001b[0m\u001b[0;34m,\u001b[0m \u001b[0mleft_on\u001b[0m\u001b[0;34m=\u001b[0m\u001b[0;34m'md:clusterid'\u001b[0m\u001b[0;34m,\u001b[0m \u001b[0mright_on\u001b[0m\u001b[0;34m=\u001b[0m\u001b[0;34m'disthash'\u001b[0m\u001b[0;34m)\u001b[0m\u001b[0;34m\u001b[0m\u001b[0;34m\u001b[0m\u001b[0m\n\u001b[0m\u001b[1;32m      2\u001b[0m \u001b[0mqrefs\u001b[0m \u001b[0;34m=\u001b[0m \u001b[0;34m[\u001b[0m\u001b[0mc\u001b[0m \u001b[0;32mfor\u001b[0m \u001b[0mc\u001b[0m \u001b[0;32min\u001b[0m \u001b[0mdd\u001b[0m\u001b[0;34m.\u001b[0m\u001b[0mcolumns\u001b[0m \u001b[0;32mif\u001b[0m \u001b[0mlen\u001b[0m\u001b[0;34m(\u001b[0m\u001b[0mc\u001b[0m\u001b[0;34m)\u001b[0m \u001b[0;34m>\u001b[0m \u001b[0;36m35\u001b[0m\u001b[0;34m]\u001b[0m\u001b[0;34m\u001b[0m\u001b[0;34m\u001b[0m\u001b[0m\n\u001b[1;32m      3\u001b[0m \u001b[0mdd\u001b[0m \u001b[0;34m=\u001b[0m \u001b[0mdd\u001b[0m\u001b[0;34m.\u001b[0m\u001b[0mdrop\u001b[0m\u001b[0;34m(\u001b[0m\u001b[0mcolumns\u001b[0m\u001b[0;34m=\u001b[0m\u001b[0mqrefs\u001b[0m\u001b[0;34m)\u001b[0m\u001b[0;34m\u001b[0m\u001b[0;34m\u001b[0m\u001b[0m\n\u001b[1;32m      4\u001b[0m \u001b[0;34m\u001b[0m\u001b[0m\n\u001b[1;32m      5\u001b[0m \u001b[0mdd\u001b[0m\u001b[0;34m[\u001b[0m\u001b[0;34m'under_net'\u001b[0m\u001b[0;34m]\u001b[0m \u001b[0;34m=\u001b[0m \u001b[0mdd\u001b[0m\u001b[0;34m.\u001b[0m\u001b[0mnet_lastnight\u001b[0m \u001b[0;34m==\u001b[0m \u001b[0;34m'Yes'\u001b[0m\u001b[0;34m\u001b[0m\u001b[0;34m\u001b[0m\u001b[0m\n",
      "\u001b[0;31mNameError\u001b[0m: name 'rr' is not defined"
     ]
    }
   ],
   "source": [
    "dd = rr.merge(districts, left_on='md:clusterid', right_on='disthash')\n",
    "qrefs = [c for c in dd.columns if len(c) > 35]\n",
    "dd = dd.drop(columns=qrefs)\n",
    "\n",
    "dd['under_net'] = dd.net_lastnight == 'Yes'\n",
    "# dd['malaria'] = dd.malaria_incidence == 'Yes'\n",
    "dd['malaria_now'] = dd.malaria_now == 'Yes'\n",
    "# dd['kutcha'] = dd.home == 'Kutcha (made of mud, tin, straw)'\n",
    "# dd['pucca'] = dd.home == 'Pucca (have cement/brick wall and floor'\n",
    "# dd['university'] = dd.education == 'University degree or higher'\n",
    "# dd['unemployed'] = dd.occupation == 'Unemployed'\n",
    "dd['disthash'] = dd['md:clusterid']"
   ]
  }
 ],
 "metadata": {
  "kernelspec": {
   "argv": [
    "python",
    "-m",
    "ipykernel_launcher",
    "-f",
    "{connection_file}"
   ],
   "display_name": "Python 3",
   "env": null,
   "interrupt_mode": "signal",
   "language": "python",
   "metadata": null,
   "name": "python3"
  },
  "language_info": {
   "codemirror_mode": {
    "name": "ipython",
    "version": 3
   },
   "file_extension": ".py",
   "mimetype": "text/x-python",
   "name": "python",
   "nbconvert_exporter": "python",
   "pygments_lexer": "ipython3",
   "version": "3.8.2"
  },
  "name": "responses.ipynb"
 },
 "nbformat": 4,
 "nbformat_minor": 4
}
