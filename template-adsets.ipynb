{
 "cells": [
  {
   "cell_type": "code",
   "execution_count": 2,
   "metadata": {
    "collapsed": false
   },
   "outputs": [],
   "source": [
    "%load_ext autoreload\n",
    "%autoreload 2"
   ]
  },
  {
   "cell_type": "code",
   "execution_count": 17,
   "metadata": {
    "collapsed": false
   },
   "outputs": [],
   "source": [
    "from environs import Env\n",
    "from adopt.malaria import window\n",
    "from adopt.facebook.state import CampaignState\n",
    "\n",
    "env = Env()\n",
    "env.read_env('.env-template', override=True)\n",
    "state = CampaignState(env, window(4))"
   ]
  },
  {
   "cell_type": "code",
   "execution_count": 27,
   "metadata": {
    "collapsed": false
   },
   "outputs": [],
   "source": [
    "import pandas as pd\n",
    "from adopt.malaria import load_cities\n",
    "from adopt.marketing import *\n",
    "\n",
    "def get_control_cities():\n",
    "    treatment_assignment = pd.read_csv('outs/ma-with-treatment.csv')[['disthash', 'treatment']]\n",
    "    cities = load_cities('output/cities.csv')\n",
    "\n",
    "    controls = cities \\\n",
    "        .merge(treatment_assignment) \\\n",
    "        .pipe(lambda df: df[df.treatment == 0]) \\\n",
    "        .pipe(lambda df: df.assign(rad = df.rad + 1))\n",
    "\n",
    "    return controls\n",
    "\n",
    "def lookup_region(state):\n",
    "    regions = {\n",
    "        'Uttar Pradesh': {\n",
    "            \"country\": \"IN\",\n",
    "            \"key\": \"1754\",\n",
    "            \"name\": \"Uttar Pradesh\"\n",
    "        },\n",
    "        'Jharkhand': {\n",
    "            \"country\": \"IN\",\n",
    "            \"key\": \"1756\",\n",
    "            \"name\": \"Jharkhand\"\n",
    "        },\n",
    "        'Chhatisgarh': {\n",
    "            \"country\": \"IN\",\n",
    "            \"key\": \"1755\",\n",
    "            \"name\": \"Chhattisgarh\"\n",
    "        }\n",
    "    }\n",
    "\n",
    "    regions = {**regions, 'combined': [v for v in regions.values()]}\n",
    "\n",
    "    return regions[state]\n",
    "\n",
    "def template_targeting(c: AdsetConf):\n",
    "    targeting = {}\n",
    "\n",
    "    excluded_locs = [create_location(lat, lng, rad)\n",
    "                     for lat, lng, rad in c.excluded_locs]\n",
    "\n",
    "    targeting[Targeting.Field.excluded_geo_locations] = {\n",
    "        TargetingGeoLocation.Field.location_types: ['home'],\n",
    "        TargetingGeoLocation.Field.custom_locations: excluded_locs\n",
    "    }\n",
    "\n",
    "    targeting[Targeting.Field.geo_locations] = {\n",
    "        TargetingGeoLocation.Field.location_types: ['home'],\n",
    "        TargetingGeoLocation.Field.regions: lookup_region(c.cluster.name)\n",
    "    }\n",
    "\n",
    "    return targeting\n",
    "\n",
    "def make_template_adsets(env, state):\n",
    "    controls = get_control_cities()\n",
    "\n",
    "    # by_state = [(Cluster(st, st), [Location(r.lat, r.lng, r.rad) \n",
    "    #                                for _, r in df.iterrows()])\n",
    "    #             for st, df in controls.groupby('state')]\n",
    "\n",
    "    by_state = [(Cluster('combined', 'combined'), \n",
    "                 [Location(r.lat, r.lng, r.rad) \n",
    "                  for _, r in controls.iterrows()])]\n",
    "\n",
    "\n",
    "    # quick hack - target and exclude locs are the same!\n",
    "    confs = [AdsetConf(state.campaign, cl, None, lcs, [], \n",
    "                       10000, 'PAUSED', env('FACEBOOK_INSTA_ID'), \n",
    "                       48, None, None, None)\n",
    "             for cl, lcs in by_state]\n",
    "\n",
    "    confs = [(c, template_targeting(c)) for c in confs]\n",
    "\n",
    "    instructions = [create_adset(f'ie-template-{c.cluster.name}', c, t) for c,t in confs]    \n",
    "\n",
    "    return instructions"
   ]
  },
  {
   "cell_type": "code",
   "execution_count": 28,
   "metadata": {
    "collapsed": false
   },
   "outputs": [],
   "source": [
    "cities = load_cities('output/cities.csv')\n",
    "treatment_assignment = pd.read_csv('outs/ma-with-treatment.csv')[['disthash', 'treatment']]\n",
    "cities = cities.merge(treatment_assignment)\n",
    "\n",
    "districts = cities.groupby('distname') \\\n",
    "                  .head(1) \\\n",
    "                  .reset_index(drop=True)\n",
    "\n",
    "control_cities = get_control_cities()"
   ]
  },
  {
   "cell_type": "code",
   "execution_count": null,
   "metadata": {
    "collapsed": false
   },
   "outputs": [],
   "source": [
    "from adopt.facebook.update import GraphUpdater\n",
    "\n",
    "instructions = make_template_adsets(env, state)\n",
    "\n",
    "updater = GraphUpdater(state)\n",
    "\n",
    "for i in instructions:\n",
    "    report = updater.execute(i)\n",
    "    print(report)"
   ]
  },
  {
   "cell_type": "code",
   "execution_count": 15,
   "metadata": {
    "collapsed": false
   },
   "outputs": [],
   "source": [
    "state.ads"
   ]
  },
  {
   "cell_type": "code",
   "execution_count": null,
   "metadata": {
    "collapsed": false
   },
   "outputs": [],
   "source": [
    "state.adsets"
   ]
  }
 ],
 "metadata": {
  "kernelspec": {
   "argv": [
    "python",
    "-m",
    "ipykernel_launcher",
    "-f",
    "{connection_file}"
   ],
   "display_name": "Python 3",
   "env": null,
   "interrupt_mode": "signal",
   "language": "python",
   "metadata": null,
   "name": "python3"
  },
  "name": "template-adsets.ipynb"
 },
 "nbformat": 4,
 "nbformat_minor": 4
}
