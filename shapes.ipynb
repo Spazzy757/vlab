{
 "cells": [
  {
   "cell_type": "code",
   "execution_count": null,
   "metadata": {
    "collapsed": false
   },
   "outputs": [],
   "source": [
    "! pip install shapely geopandas pyproj"
   ]
  },
  {
   "cell_type": "code",
   "execution_count": 7,
   "metadata": {
    "collapsed": false
   },
   "outputs": [],
   "source": [
    "import shapely\n",
    "import geopandas as gpd\n",
    "import pandas as pd\n",
    "import shapely.geometry.polygon as ply\n",
    "\n",
    "def add_geo(r, geo):\n",
    "    r['geometry'] = geo\n",
    "    return r\n",
    "\n",
    "def split_geos(r):\n",
    "    if isinstance(r.geometry, ply.Polygon):\n",
    "        return pd.DataFrame([r])\n",
    "    df = pd.DataFrame([add_geo(r, geo) for geo in r.geometry])\n",
    "    return df\n",
    "\n",
    "def bufferz(c, rad, d):\n",
    "    r = c.combine_first(d)\n",
    "    r['geometry'] = c.geometry.buffer(rad)\n",
    "    return r\n",
    "\n",
    "def make_clusters(cities, dists, buffer_margin):\n",
    "    dat = [(c, d) for _, d in dists.iterrows()\n",
    "         for _, c in cities[cities.within(d.geometry)].iterrows() ]   \n",
    "\n",
    "    dat = [(c, d.geometry.exterior.distance(c.geometry) - buffer_margin, d) for c, d in dat]\n",
    "    dat = [bufferz(*t) for t in dat]\n",
    "    df = gpd.GeoDataFrame(pd.DataFrame(dat), geometry='geometry', crs=3857).to_crs(4326)\n",
    "    return df"
   ]
  },
  {
   "cell_type": "code",
   "execution_count": 5,
   "metadata": {
    "collapsed": false
   },
   "outputs": [],
   "source": [
    "cities = gpd.read_file('India_MNM/Cities_India/cities.shp')\n",
    "districts = gpd.read_file('India_MNM/Districts+Demographics_India/Demographics_of_India.shp')\n",
    "states = ['Uttar Pradesh', 'Jharkhand', 'Chhatisgarh']\n",
    "\n",
    "# Split geos to make one row per polygon\n",
    "dists = pd.concat([split_geos(r) for _,r in districts.iterrows()]).reset_index(drop=True)\n",
    "dists = gpd.GeoDataFrame(dists, geometry='geometry', crs=4326)\n",
    "dists = dists[dists.statename.isin(states)]\n",
    "\n",
    "# Project to meter distance projection\n",
    "dists = dists.to_crs(3857)\n",
    "cities = cities.to_crs(3857)"
   ]
  },
  {
   "cell_type": "code",
   "execution_count": 53,
   "metadata": {
    "collapsed": false
   },
   "outputs": [],
   "source": [
    "dd = make_clusters(cities, dists, 2000)"
   ]
  },
  {
   "cell_type": "code",
   "execution_count": 55,
   "metadata": {
    "collapsed": false
   },
   "outputs": [],
   "source": [
    "dd.to_file('output/clusters.shp')"
   ]
  }
 ],
 "metadata": {
  "kernelspec": {
   "argv": [
    "python",
    "-m",
    "ipykernel_launcher",
    "-f",
    "{connection_file}"
   ],
   "display_name": "Python 3",
   "env": null,
   "interrupt_mode": "signal",
   "language": "python",
   "metadata": null,
   "name": "python3"
  },
  "name": "shapes.ipynb"
 },
 "nbformat": 4,
 "nbformat_minor": 4
}
