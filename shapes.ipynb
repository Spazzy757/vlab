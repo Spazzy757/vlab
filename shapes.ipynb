{
 "cells": [
  {
   "cell_type": "code",
   "execution_count": null,
   "metadata": {
    "collapsed": false
   },
   "outputs": [],
   "source": [
    "! pip install --user shapely geopandas pyproj xxhash"
   ]
  },
  {
   "cell_type": "code",
   "execution_count": 113,
   "metadata": {
    "collapsed": false
   },
   "outputs": [],
   "source": [
    "import shapely\n",
    "import geopandas as gpd\n",
    "import pandas as pd\n",
    "import shapely.geometry.polygon as ply\n",
    "import xxhash\n",
    "\n",
    "def add_geo(r, geo):\n",
    "    r['geometry'] = geo\n",
    "    return r\n",
    "\n",
    "def split_geos(r):\n",
    "    if isinstance(r.geometry, ply.Polygon):\n",
    "        return pd.DataFrame([r])\n",
    "    df = pd.DataFrame([add_geo(r, geo) for geo in r.geometry])\n",
    "    return df\n",
    "\n",
    "def bufferz(c, rad, d):\n",
    "    r = c.combine_first(d)\n",
    "    r['geometry'] = c.geometry.buffer(rad)\n",
    "\n",
    "    return r, (c.osm_id, d.distcode, d.distname, d.statename, c.geometry, rad/1000)\n",
    "\n",
    "def hsh(n):\n",
    "    return xxhash.xxh32(n).hexdigest()\n",
    "\n",
    "def make_clusters(cities, dists, buffer_margin):\n",
    "    dat = [(c, d) for _, d in dists.iterrows()\n",
    "         for _, c in cities[cities.within(d.geometry)].iterrows() ]   \n",
    "\n",
    "    dat = [(c, d.geometry.exterior.distance(c.geometry) - buffer_margin, d) for c, d in dat]\n",
    "    dat = [bufferz(*t) for t in dat]\n",
    "    rows = [r for r, _ in dat]\n",
    "    \n",
    "    cities_df = pd.DataFrame([t for _, t in dat], columns=['id', 'distcode', 'distname', 'state', 'geometry', 'rad'])\n",
    "    cities_df = gpd.GeoDataFrame(cities_df, geometry='geometry', crs=3857).to_crs(4326)\n",
    "    cities_df['lng'] = cities_df.geometry.map(lambda g: g.coords[0][0])\n",
    "    cities_df['lat'] = cities_df.geometry.map(lambda g: g.coords[0][1])\n",
    "    cities_df = pd.DataFrame(cities_df)\n",
    "    cities_df = cities_df.drop(columns=['geometry'])\n",
    "    cities_df['disthash'] = cities_df.distname.map(hsh)\n",
    "\n",
    "    # fix one city issue!\n",
    "    cities_df.loc[cities_df.distname == 'Balrampur', 'distcode'] = '182'\n",
    "\n",
    "    gdf = gpd.GeoDataFrame(pd.DataFrame(rows), geometry='geometry', crs=3857) \\\n",
    "             .to_crs(4326) \\\n",
    "             .reset_index(drop=True)\n",
    "    return gdf, cities_df"
   ]
  },
  {
   "cell_type": "code",
   "execution_count": 114,
   "metadata": {
    "collapsed": false
   },
   "outputs": [],
   "source": [
    "# Uttar Pradesh: \n",
    "# Jharkhand: Ranchi\n",
    "# Chhattisgarh: \n",
    "# Odisha: Khordha"
   ]
  },
  {
   "cell_type": "code",
   "execution_count": 115,
   "metadata": {
    "collapsed": false
   },
   "outputs": [],
   "source": [
    "cities = gpd.read_file('India_MNM/Geography/Cities_India/cities_towns_suburbs.shp')\n",
    "districts = gpd.read_file('India_MNM/Geography/Districts+Demographics_India/Demographics_of_India.shp')\n",
    "\n",
    "# , 'Jharkhand', 'Chhatisgarh', 'Orissa', 'Uttar Pradesh'\n",
    "# states = ['Jharkhand']\n",
    "states = ['Jharkhand', 'Chhatisgarh', 'Orissa', 'Uttar Pradesh']\n",
    "capitols = ['Lucknow', 'Ranchi', 'Raipur', 'Khordha']\n",
    "\n",
    "# Split geos to make one row per polygon\n",
    "dists = pd.concat([split_geos(r) for _,r in districts.iterrows()]).reset_index(drop=True)\n",
    "dists = gpd.GeoDataFrame(dists, geometry='geometry', crs=4326)\n",
    "dists = dists[dists.statename.isin(states)]\n",
    "dists = dists[~dists.distname.isin(capitols)]\n",
    "\n",
    "# Project to meter distance projection\n",
    "dists = dists.to_crs(3857)\n",
    "cities = cities.to_crs(3857)"
   ]
  },
  {
   "cell_type": "code",
   "execution_count": 97,
   "metadata": {
    "collapsed": false
   },
   "outputs": [],
   "source": [
    "dd, df = make_clusters(cities, dists, 2000)"
   ]
  },
  {
   "cell_type": "code",
   "execution_count": null,
   "metadata": {
    "collapsed": false
   },
   "outputs": [],
   "source": [
    "\n",
    "\n",
    "dists[dists.tot_p < 500000]"
   ]
  },
  {
   "cell_type": "code",
   "execution_count": 116,
   "metadata": {
    "collapsed": false
   },
   "outputs": [],
   "source": [
    "df.to_csv('output/cities.csv', index=False)"
   ]
  },
  {
   "cell_type": "code",
   "execution_count": 117,
   "metadata": {
    "collapsed": false
   },
   "outputs": [],
   "source": [
    "dd.to_file('output/clusters.shp')"
   ]
  },
  {
   "cell_type": "code",
   "execution_count": null,
   "metadata": {
    "collapsed": false
   },
   "outputs": [],
   "source": [
    "dd"
   ]
  },
  {
   "cell_type": "code",
   "execution_count": null,
   "metadata": {
    "collapsed": false
   },
   "outputs": [],
   "source": [
    "df.distname.unique().shape"
   ]
  },
  {
   "cell_type": "code",
   "execution_count": null,
   "metadata": {
    "collapsed": false
   },
   "outputs": [],
   "source": [
    "dd.columns"
   ]
  },
  {
   "cell_type": "code",
   "execution_count": null,
   "metadata": {
    "collapsed": false
   },
   "outputs": [],
   "source": [
    "df[df.distcode == '#N/A']"
   ]
  }
 ],
 "metadata": {
  "kernelspec": {
   "argv": [
    "python",
    "-m",
    "ipykernel_launcher",
    "-f",
    "{connection_file}"
   ],
   "display_name": "Python 3",
   "env": null,
   "interrupt_mode": "signal",
   "language": "python",
   "metadata": null,
   "name": "python3"
  },
  "name": "shapes.ipynb"
 },
 "nbformat": 4,
 "nbformat_minor": 4
}
