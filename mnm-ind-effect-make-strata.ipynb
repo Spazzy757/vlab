{
 "cells": [
  {
   "cell_type": "code",
   "execution_count": 9,
   "metadata": {
    "collapsed": false
   },
   "outputs": [
    {
     "name": "stdout",
     "output_type": "stream",
     "text": [
      "\u001b[33mWARNING: You are using pip version 20.2.3; however, version 20.3.3 is available.\r\n",
      "You should consider upgrading via the '/usr/local/bin/python -m pip install --upgrade pip' command.\u001b[0m\r\n"
     ]
    }
   ],
   "source": [
    "! pip install --quiet environs cyksuid toolz psycopg2-binary typing_json backoff pyyaml facebook_business pystache"
   ]
  },
  {
   "cell_type": "code",
   "execution_count": 1,
   "metadata": {
    "collapsed": false
   },
   "outputs": [],
   "source": [
    "%load_ext autoreload\n",
    "%autoreload 2"
   ]
  },
  {
   "cell_type": "code",
   "execution_count": 2,
   "metadata": {
    "collapsed": false
   },
   "outputs": [],
   "source": [
    "from environs import Env\n",
    "\n",
    "from adopt.marketing import make_audience_conf, dict_from_nested_type\n",
    "from adopt.malaria import get_confs, get_df, load_basics, window, get_db_conf\n",
    "from adopt.marketing import Marketing\n",
    "from adopt.facebook.state import CampaignState, get_api\n",
    "from adopt.malaria import load_typed_json\n",
    "from adopt.marketing import AudienceConf, CampaignConf\n",
    "from adopt.campaign_queries import get_campaigns_for_user, create_campaign_confs, create_campaign_for_user\n",
    "from typing import List\n",
    "import json\n",
    "\n",
    "env = Env()\n",
    "env.read_env('.env-upswell-vlab', override=True)\n",
    "db_conf = get_db_conf(env)"
   ]
  },
  {
   "cell_type": "code",
   "execution_count": 7,
   "metadata": {
    "collapsed": false
   },
   "outputs": [],
   "source": [
    "USER = \"malaria2@vlab.digital\"\n",
    "CAMPAIGN = \"mnm-individual-effect\"\n",
    "CAMPAIGNID = next(c['id'] for c in get_campaigns_for_user(USER, db_conf) \n",
    "                  if c['name'] == CAMPAIGN)\n",
    "\n",
    "# create_campaign_for_user(USER, CAMPAIGN, db_conf)"
   ]
  },
  {
   "cell_type": "code",
   "execution_count": 9,
   "metadata": {
    "collapsed": false
   },
   "outputs": [],
   "source": [
    "userinfo, config, db_conf, state, m, confs = load_basics(CAMPAIGNID, env)"
   ]
  },
  {
   "cell_type": "code",
   "execution_count": 10,
   "metadata": {
    "collapsed": false
   },
   "outputs": [],
   "source": [
    "images = {i['name']: i for i in state.account.get_ad_images(fields=['name', 'hash'])}"
   ]
  },
  {
   "cell_type": "markdown",
   "metadata": {
    "collapsed": false
   },
   "source": [
    "# CREATING CONFS - MNM"
   ]
  },
  {
   "cell_type": "code",
   "execution_count": 5,
   "metadata": {
    "collapsed": false
   },
   "outputs": [],
   "source": [
    "# make creatives conf\n",
    "from adopt.marketing import CreativeConf, CampaignConf\n"
   ]
  },
  {
   "cell_type": "code",
   "execution_count": null,
   "metadata": {
    "collapsed": false
   },
   "outputs": [],
   "source": [
    "16000000.0 / 7300"
   ]
  },
  {
   "cell_type": "code",
   "execution_count": null,
   "metadata": {
    "collapsed": false
   },
   "outputs": [],
   "source": [
    "c = {'optimization_goal': 'REPLIES',\n",
    "     'destination_type': 'MESSENGER',\n",
    "     'adset_hours': 48,\n",
    "     'budget': 16000000.0,\n",
    "     'min_budget': 10000.0,\n",
    "     'opt_window': 2*24,\n",
    "     'end_date': '2021-03-10',\n",
    "     'page_id': '102998371752603',\n",
    "     'instagram_id': None,\n",
    "     'proportional': True,\n",
    "     'ad_account': '2240415876083895',\n",
    "     'ad_campaign': 'impact-evaluation-individual-effect'}\n",
    "\n",
    "config = CampaignConf(**c)\n",
    "\n",
    "create_campaign_confs(CAMPAIGNID, \"opt\", [config._asdict()], db_conf)"
   ]
  },
  {
   "cell_type": "code",
   "execution_count": 7,
   "metadata": {
    "collapsed": false
   },
   "outputs": [
    {
     "data": {
      "text/plain": [
       "('b3bc209a-f0cb-4d6d-8164-f9f72dbb36c6',\n",
       " datetime.datetime(2021, 2, 25, 12, 24, 32, 386720, tzinfo=psycopg2.tz.FixedOffsetTimezone(offset=0, name=None)),\n",
       " 'audience',\n",
       " None,\n",
       " [{'lookalike': {'name': 'vlab-mnm-kutcha-lookalike',\n",
       "    'spec': {'country': 'IN', 'ratio': 0.2, 'starting_ratio': 0.0},\n",
       "    'target': 2000},\n",
       "   'name': 'vlab-mnm-kutcha',\n",
       "   'question_targeting': {'op': 'equal',\n",
       "    'vars': [{'type': 'response', 'value': 'dwelling'},\n",
       "     {'type': 'constant', 'value': 'A'}]},\n",
       "   'shortcodes': ['extrabasehin'],\n",
       "   'subtype': 'LOOKALIKE'},\n",
       "  {'name': 'vlab-mnm-respondents-round-B',\n",
       "   'shortcodes': ['extrabasehin'],\n",
       "   'subtype': 'CUSTOM'}])"
      ]
     },
     "execution_count": 7,
     "metadata": {},
     "output_type": "execute_result"
    }
   ],
   "source": [
    "import json\n",
    "from adopt.marketing import make_audience_conf, dict_from_nested_type\n",
    "\n",
    "audience_confs = [\n",
    "  {\n",
    "    \"name\": \"vlab-mnm-kutcha\",\n",
    "    \"shortcodes\": [\"extrabasehin\"],\n",
    "    \"subtype\": \"LOOKALIKE\",\n",
    "    \"lookalike\": {\n",
    "      \"name\": \"vlab-mnm-kutcha-lookalike\",\n",
    "      \"target\": 2000,\n",
    "      \"spec\": {\n",
    "        \"country\": \"IN\",\n",
    "        \"starting_ratio\": 0.0,\n",
    "        \"ratio\": 0.2\n",
    "      }\n",
    "    },\n",
    "    \"question_targeting\": {\n",
    "      \"op\": \"equal\",\n",
    "      \"vars\": [\n",
    "        {\"type\": \"response\", \"value\": \"dwelling\"},\n",
    "        {\"type\": \"constant\", \"value\": \"A\"}\n",
    "      ]\n",
    "    }\n",
    "  },\n",
    "  {\n",
    "    \"name\": \"vlab-mnm-respondents-round-B\",\n",
    "    \"shortcodes\": [\"extrabasehin\"],\n",
    "    \"subtype\": \"CUSTOM\"\n",
    "  }\n",
    "]\n",
    "\n",
    "\n",
    "\n",
    "confs = [dict_from_nested_type(a) for a in audience_confs]\n",
    "\n",
    "create_campaign_confs(CAMPAIGNID, \"audience\", confs, db_conf)"
   ]
  },
  {
   "cell_type": "code",
   "execution_count": null,
   "metadata": {
    "collapsed": false
   },
   "outputs": [],
   "source": [
    "from adopt.marketing import CreativeConf\n",
    "\n",
    "def _creative_conf(name, image, body, form):\n",
    "    return {\n",
    "        \"name\": name,\n",
    "        \"image\": image['name'],\n",
    "        \"image_hash\": image['hash'],\n",
    "        \"body\": body,\n",
    "        \"welcome_message\": body,\n",
    "        \"link_text\": \"Messenger main survey shuroo karen!\",\n",
    "        \"button_text\": \"Start!\",\n",
    "        \"form\": form,\n",
    "    }\n",
    "\n",
    "image_confs = [\n",
    "    ('vlab-mnm-mother-daughter-voice-be-heard', '1.png', 'अपने विचार दुनिया को बताएं!'),\n",
    "    ('vlab-mnm-family-flowers-keep-healthy', '2.png', 'हमें अपने स्वस्थ जीवन के राज बताएं और फ्री डाटा क्रेडिट जीतें।'),\n",
    "    # ('vlab-mnm-schoolgirl-laptop-got-10-min', '3.png', 'क्या आपके पास सिर्फ १० मिनिट हैं? मोबाइल डाटा क्रेडिट में २०० रुपये पाएँ। आपकी राय हमारे लिए महत्वपूर्ण है!'),\n",
    "    ('vlab-mnm-grandfather-bike-healthy', '4.png', 'अपने कम्यूनिटी को स्वस्थ रखने में हमें मदद करें- हमें बताएं आप क्या सोचते है!'),\n",
    "    ('vlab-mnm-woman-sari-texting-got-time', '5.png', 'एक छोटे से सर्वे के लिए आपके पास टाइम है?'),\n",
    "]\n",
    "\n",
    "creatives = [CreativeConf(**_creative_conf(name, images[n], body, 'extrabasehin')) for name, n, body in image_confs]\n",
    "confs = [c._asdict() for c in creatives]\n",
    "\n",
    "create_campaign_confs(CAMPAIGNID, \"creative\", confs, db_conf)"
   ]
  },
  {
   "cell_type": "code",
   "execution_count": 16,
   "metadata": {
    "collapsed": false
   },
   "outputs": [],
   "source": [
    "from itertools import product\n",
    "from functools import reduce\n",
    "\n",
    "import pandas as pd\n",
    "from facebook_business.adobjects.targetinggeolocationcustomlocation \\\n",
    "    import TargetingGeoLocationCustomLocation\n",
    "from facebook_business.adobjects.targetinggeolocationcity import TargetingGeoLocationCity\n",
    "from facebook_business.adobjects.targetinggeolocation import TargetingGeoLocation\n",
    "from facebook_business.adobjects.targetinggeolocation import TargetingGeoLocation\n",
    "from facebook_business.adobjects.targeting import Targeting\n",
    "\n",
    "from adopt.marketing import make_stratum_conf\n",
    "\n",
    "def load_cities(path):\n",
    "    cities = pd.read_csv(path)\n",
    "    cities = cities[cities.rad >= 1.0]\n",
    "    return cities\n",
    "\n",
    "def create_location(lat, lng, rad):\n",
    "    return {\n",
    "        TargetingGeoLocationCustomLocation.Field.latitude: lat,\n",
    "        TargetingGeoLocationCustomLocation.Field.longitude: lng,\n",
    "        TargetingGeoLocationCustomLocation.Field.radius: rad,\n",
    "        TargetingGeoLocationCustomLocation.Field.distance_unit: 'kilometer',\n",
    "    }\n",
    "\n",
    "def make_treatment_targeting(df):\n",
    "    df = df[df.treatment == df.treatment.iloc[0]]\n",
    "    ids = df.disthash.unique()\n",
    "\n",
    "    vars_ = [{'op': 'equal', \n",
    "              'vars': [{'type': 'response', 'value': 'md:stratumid'}, \n",
    "                       {'type': 'constant', 'value': i}]}\n",
    "             for i in ids]\n",
    "\n",
    "    return {'op': 'or', 'vars': vars_}\n",
    "\n",
    "\n",
    "def format_group(g):\n",
    "    kw, fb, qu = zip(*g)\n",
    "\n",
    "    combine = lambda a, b: {**a, **b}\n",
    "    kw = reduce(combine, kw)\n",
    "    fb = reduce(combine, fb)\n",
    "    return {**kw,\n",
    "            'id_': f'kutcha-{int(kw[\"kutcha\"])}-treatment-{kw[\"treatment\"]}-gender-{fb[\"genders\"][0]}-age-{fb[\"age_min\"]}',\n",
    "            'quota': 100,\n",
    "            'facebook_targeting': fb,\n",
    "            'question_targeting': [q for q in qu if q]}\n",
    "\n",
    "\n",
    "\n",
    "def make_stratum(df, id_, kutcha, treatment, quota, facebook_targeting, question_targeting):\n",
    "    df = df[df.treatment == treatment].reset_index(drop=True)\n",
    "\n",
    "    locs = [create_location(r.lat, r.lng, r.rad) \n",
    "           for _, r in df.iterrows()]\n",
    "\n",
    "    targeting = {\n",
    "        **facebook_targeting,\n",
    "        Targeting.Field.geo_locations: {\n",
    "            TargetingGeoLocation.Field.location_types: ['home'],\n",
    "            TargetingGeoLocation.Field.custom_locations: locs\n",
    "        },\n",
    "    }\n",
    "\n",
    "    # Deal with audiences for kutcha...    \n",
    "    excluded_audiences = [\"vlab-mnm-respondents-panel\", \n",
    "                          \"vlab-mnm-respondents-round-B\", \n",
    "                          \"vlab-mnm-respondents-1shot\", \n",
    "                          \"vlab-mnm-respondents-1shot-global-insights\"]\n",
    "    audiences = []\n",
    "    if kutcha:\n",
    "        audiences = [\"vlab-mnm-kutcha-lookalike\"]\n",
    "    else:\n",
    "        excluded_audiences += [\"vlab-mnm-kutcha-lookalike\"]\n",
    "\n",
    "    question_targeting = {'op': 'or',\n",
    "                          'vars': [\n",
    "                              {'op': 'equal', \n",
    "                               'vars': [{'type': 'response', 'value': 'md:stratumid'}, \n",
    "                                        {'type': 'constant', 'value': id_}]},\n",
    "                              {'op': 'and', \n",
    "                               'vars': [make_treatment_targeting(df), \n",
    "                                        *question_targeting]}\n",
    "                          ]}\n",
    "\n",
    "    \n",
    "    conf = { \n",
    "        'id': id_,\n",
    "        'quota': quota,\n",
    "        'audiences': audiences,\n",
    "        'excluded_audiences': excluded_audiences,\n",
    "        'metadata': {'stratumid': id_},\n",
    "        'facebook_targeting': targeting, \n",
    "        'question_targeting': question_targeting,\n",
    "        'creatives': ['vlab-mnm-mother-daughter-voice-be-heard',\n",
    "                      'vlab-mnm-family-flowers-keep-healthy',\n",
    "                      # 'vlab-mnm-schoolgirl-laptop-got-10-min',\n",
    "                      'vlab-mnm-grandfather-bike-healthy',\n",
    "                      'vlab-mnm-woman-sari-texting-got-time'],\n",
    "        'shortcodes': ['extrabasehin'],}\n",
    "\n",
    "    return conf\n",
    "\n"
   ]
  },
  {
   "cell_type": "code",
   "execution_count": 17,
   "metadata": {
    "collapsed": false
   },
   "outputs": [],
   "source": [
    "groups = [\n",
    "    [\n",
    "        ({}, {'genders': [1]}, {'op': 'equal', 'vars': [{'type': 'translated_response', 'value': 'gender'}, \n",
    "                                                    {'type': 'constant', 'value': 'Male'}]}), \n",
    "        ({}, {'genders': [2]}, {'op': 'equal', 'vars': [{'type': 'translated_response', 'value': 'gender'}, \n",
    "                                                    {'type': 'constant', 'value': 'Female'}]}),\n",
    "    ],\n",
    "    [\n",
    "        ({}, {'age_min': 20, 'age_max': 25}, \n",
    "         {'op': 'less_than', 'vars': [{'type': 'response', 'value': 'age'},\n",
    "                                      {'type': 'constant', 'value': 26}]}), \n",
    "\n",
    "        ({}, {'age_min': 26, 'age_max': 39}, \n",
    "         {'op': 'and', 'vars': [\n",
    "             {'op': 'greater_than', 'vars': [{'type': 'response', 'value': 'age'},\n",
    "                                            {'type': 'constant', 'value': 25}]}, \n",
    "             {'op': 'less_than', 'vars': [{'type': 'response', 'value': 'age'},\n",
    "                                         {'type': 'constant', 'value': 40}]}]}),\n",
    "\n",
    "        ({}, {'age_min': 40}, \n",
    "         {'op': 'greater_than', 'vars': [{'type': 'response', 'value': 'age'},\n",
    "                                         {'type': 'constant', 'value': 39}]}), \n",
    "    ],\n",
    "    [\n",
    "        ({'treatment': 1}, {}, {}),\n",
    "        ({'treatment': 0}, {}, {}),\n",
    "    ],\n",
    "    [\n",
    "        ({'kutcha': True}, {}, { 'op': 'equal',\n",
    "                                 'vars': [{'type': 'response', 'value': 'dwelling'},\n",
    "                                          {'type': 'constant', 'value': 'A'}]}),\n",
    "        ({'kutcha': False}, {},  { 'op': 'not_equal',\n",
    "                                 'vars': [{'type': 'response', 'value': 'dwelling'},\n",
    "                                          {'type': 'constant', 'value': 'A'}]}),\n",
    "    ]    \n",
    "]\n",
    "\n",
    "treatment_assignment = pd.read_csv('outs/ma-with-treatment.csv')[['disthash', 'treatment']]\n",
    "df = load_cities('output/cities.csv')\n",
    "df = df[['disthash', 'rad', 'lng', 'lat', 'creative_group', 'include_audience']]\n",
    "df = df.merge(treatment_assignment)\n",
    "\n",
    "confs = [format_group(g) for g in product(*groups)]\n",
    "stratum_confs = [make_stratum(df, **c) for c in confs]\n",
    "stratum_confs = [dict_from_nested_type(make_stratum_conf(c)) for c in stratum_confs]"
   ]
  },
  {
   "cell_type": "code",
   "execution_count": null,
   "metadata": {
    "collapsed": false
   },
   "outputs": [],
   "source": [
    "create_campaign_confs(CAMPAIGNID, \"stratum\", stratum_confs, db_conf)"
   ]
  },
  {
   "cell_type": "markdown",
   "metadata": {
    "collapsed": false
   },
   "source": [
    "# TESTING"
   ]
  },
  {
   "cell_type": "code",
   "execution_count": 224,
   "metadata": {
    "collapsed": false
   },
   "outputs": [],
   "source": [
    "mal = load_basics(CAMPAIGNID, env)"
   ]
  },
  {
   "cell_type": "code",
   "execution_count": 45,
   "metadata": {
    "collapsed": false
   },
   "outputs": [],
   "source": [
    "from adopt.malaria import hydrate_audiences, get_df\n",
    "\n",
    "userinfo, config, db_conf, state, m, confs = mal\n",
    "audience_confs = confs[\"audience\"]\n",
    "\n",
    "df = get_df(db_conf, userinfo.survey_user, audience_confs)\n",
    "\n",
    "audiences = hydrate_audiences(df, m, audience_confs)"
   ]
  },
  {
   "cell_type": "code",
   "execution_count": null,
   "metadata": {
    "collapsed": false
   },
   "outputs": [],
   "source": [
    "from adopt.malaria import update_audience_for_campaign, update_ads_for_campaign\n",
    "\n",
    "# instructions = update_audience_for_campaign(mal)\n",
    "instructions, report = update_ads_for_campaign(mal)"
   ]
  },
  {
   "cell_type": "code",
   "execution_count": 19,
   "metadata": {
    "collapsed": false
   },
   "outputs": [],
   "source": [
    "from adopt.malaria import hydrate_strata, hydrate_audiences\n",
    "from adopt.malaria import run_instructions\n",
    "\n",
    "# run_instructions(instructions, mal.state)"
   ]
  },
  {
   "cell_type": "code",
   "execution_count": 11,
   "metadata": {
    "collapsed": false
   },
   "outputs": [],
   "source": [
    "import pandas as pd\n",
    "from adopt.campaign_queries import get_last_adopt_report\n",
    "\n",
    "rdf = pd.DataFrame(get_last_adopt_report(CAMPAIGNID, \"FACEBOOK_ADOPT\", mal.db_conf)).T"
   ]
  },
  {
   "cell_type": "code",
   "execution_count": null,
   "metadata": {
    "collapsed": false
   },
   "outputs": [],
   "source": [
    "# select current_state, fb_error_code, state_json->'previousOutput' from states where current_form = 'extrabasehin' and timeout_date is not null;\n",
    "\n",
    "# select timeout_date, current_state, fb_error_code, state_json->'tokens'->>0, state_json->'previousOutput'->>'token', state_json->'error', state_json->'previousOutput' from states where current_form = 'extrabasehin' and fb_error_code = '2022' and state_json->'previousOutput'->>'token' is not null;\n",
    "\n",
    "# select fb_error_code, count(*) from states where current_form = 'extrabasehin' and (state_json->'previousOutput'->>'token' is not null or state_json->'tokens'->>0 is not null) group by fb_error_code;\n",
    "\n",
    "# "
   ]
  },
  {
   "cell_type": "code",
   "execution_count": 225,
   "metadata": {
    "collapsed": false
   },
   "outputs": [],
   "source": [
    "from adopt.marketing import create_custom_audience, add_users_to_audience\n",
    "\n",
    "\n",
    "name = 'vlab-mnm-individual-effect-retargeting'\n",
    "# i = create_custom_audience(name, 'Audience for retargeting malaria ad campaign to test individual effects')\n",
    "\n",
    "audid = next(aud['id'] for aud in mal.state.custom_audiences if aud['name'] == name)"
   ]
  },
  {
   "cell_type": "code",
   "execution_count": 4,
   "metadata": {
    "collapsed": false
   },
   "outputs": [],
   "source": [
    "from adopt.responses import query\n",
    "\n",
    "q = \"\"\"\n",
    "    WITH t AS (\n",
    "      SELECT\n",
    "        *,\n",
    "        ROW_NUMBER() OVER (PARTITION BY question_ref, userid, surveyid\n",
    "                           ORDER BY timestamp DESC) as n\n",
    "      FROM (select * from states join responses using(userid) where current_form = 'extrabasehin' and (state_json->'previousOutput'->>'token' is not null or state_json->'tokens'->>0 is not null) and (fb_error_code != '551' or fb_error_code is null))\n",
    "      WHERE shortcode = 'extrabasehin'\n",
    "    )\n",
    "    SELECT metadata, userid, surveyid, shortcode, question_ref,\n",
    "           response, timestamp, translated_response\n",
    "\n",
    "    FROM t WHERE n = 1\n",
    "\"\"\"\n",
    "\n",
    "\n",
    "q = \"\"\"\n",
    "    WITH t AS (\n",
    "      SELECT\n",
    "        *,\n",
    "        ROW_NUMBER() OVER (PARTITION BY question_ref, userid, surveyid\n",
    "                           ORDER BY timestamp DESC) as n\n",
    "      FROM (select * from states join responses using(userid) where current_form = 'extrabasehin' and (state_json->'previousOutput'->>'token' is not null or state_json->'tokens'->>0 is not null) and (fb_error_code != '551' or fb_error_code is null))\n",
    "      WHERE shortcode = 'extrabasehin'\n",
    "    )\n",
    "    SELECT metadata, userid, surveyid, shortcode, question_ref,\n",
    "           response, timestamp, translated_response\n",
    "\n",
    "    FROM t WHERE n = 1\n",
    "\"\"\"\n",
    "\n",
    "user_data = [d for d in query(db_conf, q, (), as_dict=True)]"
   ]
  },
  {
   "cell_type": "code",
   "execution_count": null,
   "metadata": {
    "collapsed": false
   },
   "outputs": [],
   "source": [
    "\n",
    "\n",
    "    "
   ]
  },
  {
   "cell_type": "code",
   "execution_count": null,
   "metadata": {
    "collapsed": false
   },
   "outputs": [],
   "source": [
    "# TODO: Bail out everyone who doesn't get timeout on April 10th!"
   ]
  },
  {
   "cell_type": "code",
   "execution_count": 15,
   "metadata": {
    "collapsed": false
   },
   "outputs": [],
   "source": [
    "df = pd.DataFrame(user_data)"
   ]
  },
  {
   "cell_type": "code",
   "execution_count": 18,
   "metadata": {
    "collapsed": false
   },
   "outputs": [
    {
     "data": {
      "text/plain": [
       "(4345,)"
      ]
     },
     "execution_count": 18,
     "metadata": {},
     "output_type": "execute_result"
    }
   ],
   "source": [
    "df.userid.unique().shape"
   ]
  },
  {
   "cell_type": "code",
   "execution_count": 206,
   "metadata": {
    "collapsed": false
   },
   "outputs": [
    {
     "name": "stderr",
     "output_type": "stream",
     "text": [
      "WARNING:root:Removing 0 possible test users\n"
     ]
    },
    {
     "name": "stderr",
     "output_type": "stream",
     "text": [
      "WARNING:root:Removing 0 users for duplication\n"
     ]
    }
   ],
   "source": [
    "from mnm.prep import get_form_data, format_response_df, pivot_response_df\n",
    "\n",
    "metadata_keys = ['stratumid']\n",
    "tester_key = 'stratumid'\n",
    "forms, form_keys = get_form_data(['MNM', 'malaria no more round b 1-shot'], db_conf)\n",
    "rdf = format_response_df(df, forms, form_keys, metadata_keys, tester_key)\n",
    "rdf = pivot_response_df(\n",
    "    rdf, metadata_keys, form_keys, [\"shortcode\"]\n",
    ")\n",
    "\n",
    "rdf = rdf[rdf.dwelling.notna()]"
   ]
  },
  {
   "cell_type": "code",
   "execution_count": 207,
   "metadata": {
    "collapsed": false
   },
   "outputs": [],
   "source": [
    "import re\n",
    "\n",
    "def get_treatment(lookup, stratumid):\n",
    "    match = re.search('treatment-(\\d)-', stratumid)\n",
    "    if match:\n",
    "        return int(match[1])\n",
    "    return lookup[stratumid]\n",
    "\n",
    "treatment_assignment = pd.read_csv('outs/ma-with-treatment.csv')[['disthash', 'treatment']]\n",
    "treatment_assignment = treatment_assignment.set_index('disthash').treatment.to_dict()\n",
    "    \n",
    "rdf['treatment'] = rdf.stratumid.map(lambda s: get_treatment(treatment_assignment, s))"
   ]
  },
  {
   "cell_type": "code",
   "execution_count": null,
   "metadata": {
    "collapsed": false
   },
   "outputs": [],
   "source": [
    "# age, gender, treatment, dwelling = kutcha\n",
    "\n",
    "rdf[['age', 'gender', 'dwelling', 'treatment', 'malaria4months']]"
   ]
  },
  {
   "cell_type": "code",
   "execution_count": null,
   "metadata": {
    "collapsed": false
   },
   "outputs": [],
   "source": []
  },
  {
   "cell_type": "code",
   "execution_count": null,
   "metadata": {
    "collapsed": false
   },
   "outputs": [],
   "source": [
    "def binarize(rdf, conf):\n",
    "    pass\n",
    "\n",
    "conf = [\n",
    "    ('female', [('gender', 'Female')])\n",
    "]"
   ]
  },
  {
   "cell_type": "code",
   "execution_count": 188,
   "metadata": {
    "collapsed": false
   },
   "outputs": [],
   "source": [
    "rdf['female'] = rdf.gender == 'Female'\n",
    "rdf['kutcha'] = rdf.dwelling == 'Kutcha (made of mud, tin, straw)'\n",
    "rdf['pucca'] = rdf.dwelling == 'Pucca (have cement/brick wall and floor'\n",
    "rdf['malaria_incidence'] = rdf.malaria4months == 'Yes'\n",
    "rdf['fever_incidence'] = rdf.fever4months == 'Yes'\n",
    "rdf['disadvantaged_caste'] = (rdf.caste == 'SC/Dalit') | (rdf.caste == 'ST') | (rdf.caste == 'OBC')\n",
    "rdf['university'] = rdf.education == 'University degree or higher'\n",
    "rdf['owns_net'] = rdf.hasmosquitonet == 'Yes'"
   ]
  },
  {
   "cell_type": "code",
   "execution_count": null,
   "metadata": {
    "collapsed": false
   },
   "outputs": [],
   "source": [
    "d = pd.get_dummies(rdf.dwelling)\n",
    "['dwelling - ' + c for c in d.columns]"
   ]
  },
  {
   "cell_type": "code",
   "execution_count": 244,
   "metadata": {
    "collapsed": false
   },
   "outputs": [],
   "source": [
    "rdf.to_csv('outs/ind-effect-for-balance.csv', index=False)"
   ]
  },
  {
   "cell_type": "code",
   "execution_count": 11,
   "metadata": {
    "collapsed": false
   },
   "outputs": [
    {
     "data": {
      "text/plain": [
       "(4908, 43)"
      ]
     },
     "execution_count": 11,
     "metadata": {},
     "output_type": "execute_result"
    }
   ],
   "source": [
    "df = pd.read_csv('outs/ind-effect-with-assignment.csv')\n",
    "userids = df[df.ind_treatment == 1].userid.astype(int).astype(str).tolist()"
   ]
  },
  {
   "cell_type": "code",
   "execution_count": 246,
   "metadata": {
    "collapsed": false
   },
   "outputs": [],
   "source": [
    "pageid = mal.confs['opt'][0].page_id\n",
    "\n",
    "instructions = add_users_to_audience(pageid, audid, userids)"
   ]
  },
  {
   "cell_type": "code",
   "execution_count": null,
   "metadata": {
    "collapsed": false
   },
   "outputs": [],
   "source": [
    "len(instructions)"
   ]
  },
  {
   "cell_type": "code",
   "execution_count": null,
   "metadata": {
    "collapsed": false
   },
   "outputs": [],
   "source": [
    "run_instructions(instructions, mal.state)"
   ]
  },
  {
   "cell_type": "code",
   "execution_count": 72,
   "metadata": {
    "collapsed": false
   },
   "outputs": [],
   "source": [
    "import json\n",
    "from facebook_business.adobjects.application import Application\n",
    "\n",
    "def make_event(pageid, userid):\n",
    "    return {\n",
    "        'event': 'CUSTOM_APP_EVENTS',\n",
    "        'custom_events': json.dumps([{\n",
    "            '_eventName': \"fb_mobile_level_achieved\",\n",
    "            'fb_level': 'survey_completion',\n",
    "        }]),\n",
    "        'advertiser_tracking_enabled': 1,\n",
    "        'application_tracking_enabled': 1,\n",
    "        'extinfo': json.dumps(['mb1']),\n",
    "        'page_id': pageid,\n",
    "        'page_scoped_user_id': userid,\n",
    "    }\n",
    "\n",
    "from toolz import curry\n",
    "\n",
    "@curry\n",
    "def send_event(app, mal, user):\n",
    "    pageid = mal.confs['opt'][0].page_id\n",
    "    params = make_event(pageid, user)\n",
    "    return app.create_activity(params=params)\n",
    "\n",
    "app_id = env(\"FACEBOOK_APP_ID\")\n",
    "app = Application(fbid=app_id, api=mal.state.api)"
   ]
  },
  {
   "cell_type": "code",
   "execution_count": null,
   "metadata": {
    "collapsed": false
   },
   "outputs": [],
   "source": [
    "from concurrent.futures import ThreadPoolExecutor\n",
    "\n",
    "# pool = ThreadPoolExecutor(100)\n",
    "# res = pool.map(send_event(app, mal), audiences[1].users[1:])\n",
    "\n",
    "for u in audiences[1].users:\n",
    "    print(u)"
   ]
  },
  {
   "cell_type": "code",
   "execution_count": 65,
   "metadata": {
    "collapsed": false
   },
   "outputs": [],
   "source": [
    "r = list(res)"
   ]
  }
 ],
 "metadata": {
  "kernelspec": {
   "argv": [
    "python",
    "-m",
    "ipykernel_launcher",
    "-f",
    "{connection_file}"
   ],
   "display_name": "Python 3",
   "env": null,
   "interrupt_mode": "signal",
   "language": "python",
   "metadata": null,
   "name": "python3"
  },
  "name": "mnm-ind-effect-make-strata.ipynb"
 },
 "nbformat": 4,
 "nbformat_minor": 4
}
