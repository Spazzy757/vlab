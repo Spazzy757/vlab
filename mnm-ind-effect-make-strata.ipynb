{
 "cells": [
  {
   "cell_type": "code",
   "execution_count": 9,
   "metadata": {
    "collapsed": false
   },
   "outputs": [
    {
     "name": "stdout",
     "output_type": "stream",
     "text": [
      "\u001b[33mWARNING: You are using pip version 20.2.3; however, version 20.3.3 is available.\r\n",
      "You should consider upgrading via the '/usr/local/bin/python -m pip install --upgrade pip' command.\u001b[0m\r\n"
     ]
    }
   ],
   "source": [
    "! pip install --quiet environs cyksuid toolz psycopg2-binary typing_json backoff pyyaml facebook_business pystache"
   ]
  },
  {
   "cell_type": "code",
   "execution_count": 1,
   "metadata": {
    "collapsed": false
   },
   "outputs": [],
   "source": [
    "%load_ext autoreload\n",
    "%autoreload 2"
   ]
  },
  {
   "cell_type": "code",
   "execution_count": 2,
   "metadata": {
    "collapsed": false
   },
   "outputs": [],
   "source": [
    "from environs import Env\n",
    "\n",
    "from adopt.marketing import make_audience_conf, dict_from_nested_type\n",
    "from adopt.malaria import get_confs, get_df, load_basics, window, get_db_conf\n",
    "from adopt.marketing import Marketing\n",
    "from adopt.facebook.state import CampaignState, get_api\n",
    "from adopt.malaria import load_typed_json\n",
    "from adopt.marketing import AudienceConf, CampaignConf\n",
    "from adopt.campaign_queries import get_campaigns_for_user, create_campaign_confs, create_campaign_for_user\n",
    "from typing import List\n",
    "import json\n",
    "\n",
    "env = Env()\n",
    "env.read_env('.env-upswell-vlab', override=True)\n",
    "db_conf = get_db_conf(env)"
   ]
  },
  {
   "cell_type": "code",
   "execution_count": 3,
   "metadata": {
    "collapsed": false
   },
   "outputs": [],
   "source": [
    "USER = \"malaria2@vlab.digital\"\n",
    "CAMPAIGN = \"mnm-individual-effect\"\n",
    "CAMPAIGNID = next(c['id'] for c in get_campaigns_for_user(USER, db_conf) \n",
    "                  if c['name'] == CAMPAIGN)\n",
    "\n",
    "# create_campaign_for_user(USER, CAMPAIGN, db_conf)"
   ]
  },
  {
   "cell_type": "code",
   "execution_count": 56,
   "metadata": {
    "collapsed": false
   },
   "outputs": [],
   "source": [
    "userinfo, config, db_conf, state, m, confs = load_basics(CAMPAIGNID, env)"
   ]
  },
  {
   "cell_type": "code",
   "execution_count": 16,
   "metadata": {
    "collapsed": false
   },
   "outputs": [],
   "source": [
    "images = {i['name']: i for i in state.account.get_ad_images(fields=['name', 'hash'])}"
   ]
  },
  {
   "cell_type": "markdown",
   "metadata": {
    "collapsed": false
   },
   "source": [
    "# CREATING CONFS - MNM"
   ]
  },
  {
   "cell_type": "code",
   "execution_count": null,
   "metadata": {
    "collapsed": false
   },
   "outputs": [],
   "source": [
    "# make creatives conf\n",
    "from adopt.marketing import CreativeConf, CampaignConf\n"
   ]
  },
  {
   "cell_type": "code",
   "execution_count": 12,
   "metadata": {
    "collapsed": false
   },
   "outputs": [
    {
     "data": {
      "text/plain": [
       "5479.45205479452"
      ]
     },
     "execution_count": 12,
     "metadata": {},
     "output_type": "execute_result"
    }
   ],
   "source": [
    "40000000.0 / 7300"
   ]
  },
  {
   "cell_type": "code",
   "execution_count": null,
   "metadata": {
    "collapsed": false
   },
   "outputs": [],
   "source": [
    "c = {'optimization_goal': 'REPLIES',\n",
    "     'destination_type': 'MESSENGER',\n",
    "     'adset_hours': 48,\n",
    "     'budget': 40000000.0,\n",
    "     'min_budget': 10000.0,\n",
    "     'opt_window': 48,\n",
    "     'end_date': '2021-02-14',\n",
    "     'page_id': '102998371752603',\n",
    "     'instagram_id': None,\n",
    "     'proportional': True,\n",
    "     'ad_account': '2240415876083895',\n",
    "     'ad_campaign': 'impact-evaluation-individual-effect'}\n",
    "\n",
    "config = CampaignConf(**c)\n",
    "\n",
    "create_campaign_confs(CAMPAIGNID, \"opt\", [config._asdict()], db_conf)"
   ]
  },
  {
   "cell_type": "code",
   "execution_count": 45,
   "metadata": {
    "collapsed": false
   },
   "outputs": [],
   "source": [
    "\n",
    "\n",
    "with open(\"config/audiences.json\") as f:\n",
    "    audience_confs = [make_audience_conf(c) for c in json.load(f)]\n",
    "\n",
    "\n",
    "confs = [dict_from_nested_type(a) for a in audience_confs]\n",
    "\n",
    "# create_campaign_confs(CAMPAIGNID, \"audience\", confs, db_conf)"
   ]
  },
  {
   "cell_type": "code",
   "execution_count": null,
   "metadata": {
    "collapsed": false
   },
   "outputs": [],
   "source": [
    "from adopt.marketing import CreativeConf\n",
    "\n",
    "def _creative_conf(name, image, body, form):\n",
    "    return {\n",
    "        \"name\": name,\n",
    "        \"image\": image['name'],\n",
    "        \"image_hash\": image['hash'],\n",
    "        \"body\": body,\n",
    "        \"welcome_message\": body,\n",
    "        \"link_text\": \"Messenger main survey shuroo karen!\",\n",
    "        \"button_text\": \"Start!\",\n",
    "        \"form\": form,\n",
    "    }\n",
    "\n",
    "image_confs = [\n",
    "    ('vlab-mnm-mother-daughter-voice-be-heard', '1.png', 'अपने विचार दुनिया को बताएं!'),\n",
    "    ('vlab-mnm-family-flowers-keep-healthy', '2.png', 'हमें अपने स्वस्थ जीवन के राज बताएं और फ्री डाटा क्रेडिट जीतें।'),\n",
    "    ('vlab-mnm-schoolgirl-laptop-got-10-min', '3.png', 'क्या आपके पास सिर्फ १० मिनिट हैं? मोबाइल डाटा क्रेडिट में २०० रुपये पाएँ। आपकी राय हमारे लिए महत्वपूर्ण है!'),\n",
    "    ('vlab-mnm-grandfather-bike-healthy', '4.png', 'अपने कम्यूनिटी को स्वस्थ रखने में हमें मदद करें- हमें बताएं आप क्या सोचते है!'),\n",
    "    ('vlab-mnm-woman-sari-texting-got-time', '5.png', 'एक छोटे से सर्वे के लिए आपके पास टाइम है?'),\n",
    "]\n",
    "\n",
    "creatives = [CreativeConf(**_creative_conf(name, images[n], body, 'extrabasehin')) for name, n, body in image_confs]\n",
    "confs = [c._asdict() for c in creatives]\n",
    "\n",
    "create_campaign_confs(CAMPAIGNID, \"creative\", confs, db_conf)"
   ]
  },
  {
   "cell_type": "code",
   "execution_count": 43,
   "metadata": {
    "collapsed": false
   },
   "outputs": [],
   "source": [
    "from itertools import product\n",
    "from functools import reduce\n",
    "\n",
    "import pandas as pd\n",
    "from facebook_business.adobjects.targetinggeolocationcustomlocation \\\n",
    "    import TargetingGeoLocationCustomLocation\n",
    "from facebook_business.adobjects.targetinggeolocationcity import TargetingGeoLocationCity\n",
    "from facebook_business.adobjects.targetinggeolocation import TargetingGeoLocation\n",
    "from facebook_business.adobjects.targetinggeolocation import TargetingGeoLocation\n",
    "from facebook_business.adobjects.targeting import Targeting\n",
    "\n",
    "from adopt.marketing import make_stratum_conf\n",
    "\n",
    "def load_cities(path):\n",
    "    cities = pd.read_csv(path)\n",
    "    cities = cities[cities.rad >= 1.0]\n",
    "    return cities\n",
    "\n",
    "def create_location(lat, lng, rad):\n",
    "    return {\n",
    "        TargetingGeoLocationCustomLocation.Field.latitude: lat,\n",
    "        TargetingGeoLocationCustomLocation.Field.longitude: lng,\n",
    "        TargetingGeoLocationCustomLocation.Field.radius: rad,\n",
    "        TargetingGeoLocationCustomLocation.Field.distance_unit: 'kilometer',\n",
    "    }\n",
    "\n",
    "def make_treatment_targeting(df):\n",
    "    df = df[df.treatment == df.treatment.iloc[0]]\n",
    "    ids = df.disthash.unique()\n",
    "\n",
    "    vars_ = [{'op': 'equal', \n",
    "              'vars': [{'type': 'response', 'value': 'md:stratumid'}, \n",
    "                       {'type': 'constant', 'value': i}]}\n",
    "             for i in ids]\n",
    "\n",
    "    return {'op': 'or', 'vars': vars_}\n",
    "\n",
    "\n",
    "def format_group(g):\n",
    "    kw, fb, qu = zip(*g)\n",
    "\n",
    "    combine = lambda a, b: {**a, **b}\n",
    "    kw = reduce(combine, kw)\n",
    "    fb = reduce(combine, fb)\n",
    "    return {**kw,\n",
    "            'id_': f'kutcha-{int(kw[\"kutcha\"])}-treatment-{kw[\"treatment\"]}-gender-{fb[\"genders\"][0]}-age-{fb[\"age_min\"]}',\n",
    "            'quota': 100,\n",
    "            'facebook_targeting': fb,\n",
    "            'question_targeting': [q for q in qu if q]}\n",
    "\n",
    "\n",
    "\n",
    "def make_stratum(df, id_, kutcha, treatment, quota, facebook_targeting, question_targeting):\n",
    "    df = df[df.treatment == treatment].reset_index(drop=True)\n",
    "\n",
    "    locs = [create_location(r.lat, r.lng, r.rad) \n",
    "           for _, r in df.iterrows()]\n",
    "\n",
    "    targeting = {\n",
    "        **facebook_targeting,\n",
    "        Targeting.Field.geo_locations: {\n",
    "            TargetingGeoLocation.Field.location_types: ['home'],\n",
    "            TargetingGeoLocation.Field.custom_locations: locs\n",
    "        },\n",
    "    }\n",
    "\n",
    "    # Deal with audiences for kutcha...    \n",
    "    excluded_audiences = [\"vlab-mnm-respondents-panel\", \"vlab-mnm-respondents-round-B\"]\n",
    "    audiences = []\n",
    "    if kutcha:\n",
    "        audiences = [\"vlab-mnm-kutcha-lookalike\"]\n",
    "    else:\n",
    "        excluded_audiences += [\"vlab-mnm-kutcha-lookalike\"]\n",
    "\n",
    "\n",
    "    # TODO: add and OR\n",
    "    # such that it is EITHER treatment_targeting OR stratumid\n",
    "    # otherwise new recruits, for which we don't have their district,\n",
    "    # they do not fall into any category here...\n",
    "    \n",
    "    # {'op': 'or', \n",
    "    #  'vars': [\n",
    "    #      {'op': 'equal',\n",
    "    #       'vars': [{'type': 'response', 'value': 'md:stratumid'}, \n",
    "    #                {'type': 'constant', 'value': id_}]},\n",
    "    #      make_treatment_targeting(df)\n",
    "    #  ]}\n",
    "    question_targeting = {'op': 'and', \n",
    "                          'vars': [make_treatment_targeting(df), \n",
    "                                   *question_targeting]}\n",
    "    conf = { \n",
    "        'id': id_,\n",
    "        'quota': quota,\n",
    "        'audiences': audiences,\n",
    "        'excluded_audiences': excluded_audiences,\n",
    "        'metadata': {'stratumid': id_},\n",
    "        'facebook_targeting': targeting, \n",
    "        'question_targeting': question_targeting,\n",
    "        'creatives': ['vlab-mnm-mother-daughter-voice-be-heard',\n",
    "                      'vlab-mnm-family-flowers-keep-healthy',\n",
    "                      'vlab-mnm-schoolgirl-laptop-got-10-min',\n",
    "                      'vlab-mnm-grandfather-bike-healthy',\n",
    "                      'vlab-mnm-woman-sari-texting-got-time'],\n",
    "        'shortcodes': ['extrabasehin'],}\n",
    "\n",
    "    return conf\n",
    "\n"
   ]
  },
  {
   "cell_type": "code",
   "execution_count": 44,
   "metadata": {
    "collapsed": false
   },
   "outputs": [],
   "source": [
    "groups = [\n",
    "    [\n",
    "        ({}, {'genders': [1]}, {'op': 'equal', 'vars': [{'type': 'translated_response', 'value': 'gender'}, \n",
    "                                                    {'type': 'constant', 'value': 'Male'}]}), \n",
    "        ({}, {'genders': [2]}, {'op': 'equal', 'vars': [{'type': 'translated_response', 'value': 'gender'}, \n",
    "                                                    {'type': 'constant', 'value': 'Female'}]}),\n",
    "    ],\n",
    "    [\n",
    "        ({}, {'age_min': 20, 'age_max': 25}, \n",
    "         {'op': 'less_than', 'vars': [{'type': 'response', 'value': 'age'},\n",
    "                                      {'type': 'constant', 'value': 26}]}), \n",
    "\n",
    "        ({}, {'age_min': 26, 'age_max': 39}, \n",
    "         {'op': 'and', 'vars': [\n",
    "             {'op': 'greater_than', 'vars': [{'type': 'response', 'value': 'age'},\n",
    "                                            {'type': 'constant', 'value': 25}]}, \n",
    "             {'op': 'less_than', 'vars': [{'type': 'response', 'value': 'age'},\n",
    "                                         {'type': 'constant', 'value': 40}]}]}),\n",
    "\n",
    "        ({}, {'age_min': 40}, \n",
    "         {'op': 'greater_than', 'vars': [{'type': 'response', 'value': 'age'},\n",
    "                                         {'type': 'constant', 'value': 39}]}), \n",
    "    ],\n",
    "    [\n",
    "        ({'treatment': 1}, {}, {}),\n",
    "        ({'treatment': 0}, {}, {}),\n",
    "    ],\n",
    "    [\n",
    "        ({'kutcha': True}, {}, { 'op': 'equal',\n",
    "                                 'vars': [{'type': 'response', 'value': 'dwelling'},\n",
    "                                          {'type': 'constant', 'value': 'A'}]}),\n",
    "        ({'kutcha': False}, {},  { 'op': 'not_equal',\n",
    "                                 'vars': [{'type': 'response', 'value': 'dwelling'},\n",
    "                                          {'type': 'constant', 'value': 'A'}]}),\n",
    "    ]    \n",
    "]\n",
    "\n",
    "treatment_assignment = pd.read_csv('outs/ma-with-treatment.csv')[['disthash', 'treatment']]\n",
    "df = load_cities('output/cities.csv')\n",
    "df = df[['disthash', 'rad', 'lng', 'lat', 'creative_group', 'include_audience']]\n",
    "df = df.merge(treatment_assignment)\n",
    "\n",
    "confs = [format_group(g) for g in product(*groups)]\n",
    "stratum_confs = [make_stratum(df, **c) for c in confs]\n",
    "stratum_confs = [dict_from_nested_type(make_stratum_conf(c)) for c in stratum_confs]"
   ]
  },
  {
   "cell_type": "code",
   "execution_count": null,
   "metadata": {
    "collapsed": false
   },
   "outputs": [],
   "source": [
    "create_campaign_confs(CAMPAIGNID, \"stratum\", stratum_confs, db_conf)"
   ]
  },
  {
   "cell_type": "markdown",
   "metadata": {
    "collapsed": false
   },
   "source": [
    "# TESTING"
   ]
  },
  {
   "cell_type": "code",
   "execution_count": 6,
   "metadata": {
    "collapsed": false
   },
   "outputs": [],
   "source": [
    "mal = load_basics(CAMPAIGNID, env)"
   ]
  },
  {
   "cell_type": "code",
   "execution_count": 7,
   "metadata": {
    "collapsed": false
   },
   "outputs": [
    {
     "name": "stderr",
     "output_type": "stream",
     "text": [
      "/home/jupyter/.local/lib/python3.8/site-packages/facebook_business/utils/api_utils.py:30: UserWarning: Value of optimization_goal is not be compatible. Expect OptimizationGoal; got <class 'str'>\n",
      "  warnings.warn(message)\n",
      "INFO:root:Loaded 24 adsets from campaign impact-evaluation-individual-effect\n"
     ]
    },
    {
     "name": "stderr",
     "output_type": "stream",
     "text": [
      "INFO:root:Falling back to base budget due to the follow error: Could not calculate the price of any adset between 2021-01-30 and 2021-02-01\n"
     ]
    },
    {
     "name": "stderr",
     "output_type": "stream",
     "text": [
      "INFO:root:Loaded 47 ads from campaign impact-evaluation-individual-effect\n"
     ]
    }
   ],
   "source": [
    "from adopt.malaria import update_audience_for_campaign, update_ads_for_campaign\n",
    "\n",
    "# instructions = update_audience_for_campaign(mal)\n",
    "instructions, report = update_ads_for_campaign(mal)"
   ]
  },
  {
   "cell_type": "code",
   "execution_count": 9,
   "metadata": {
    "collapsed": false
   },
   "outputs": [
    {
     "data": {
      "text/plain": [
       "97"
      ]
     },
     "execution_count": 9,
     "metadata": {},
     "output_type": "execute_result"
    }
   ],
   "source": [
    "len(instructions)"
   ]
  },
  {
   "cell_type": "code",
   "execution_count": null,
   "metadata": {
    "collapsed": false
   },
   "outputs": [],
   "source": [
    "from adopt.malaria import run_instructions\n",
    "\n",
    "run_instructions(instructions, mal.state)"
   ]
  },
  {
   "cell_type": "code",
   "execution_count": 31,
   "metadata": {
    "collapsed": false
   },
   "outputs": [],
   "source": [
    "from adopt.malaria import hydrate_strata, hydrate_audiences"
   ]
  },
  {
   "cell_type": "code",
   "execution_count": null,
   "metadata": {
    "collapsed": false
   },
   "outputs": [],
   "source": [
    "audience_confs = confs[\"audience\"]\n",
    "\n",
    "df = get_df(db_conf, userinfo.survey_user, audience_confs)\n",
    "\n",
    "audiences = hydrate_audiences(df, m, audience_confs)"
   ]
  },
  {
   "cell_type": "code",
   "execution_count": null,
   "metadata": {
    "collapsed": false
   },
   "outputs": [],
   "source": [
    "strata = hydrate_strata(state, confs[\"stratum\"], confs[\"creative\"])\n",
    "df = get_df(db_conf, userinfo.survey_user, strata)"
   ]
  }
 ],
 "metadata": {
  "kernelspec": {
   "argv": [
    "python",
    "-m",
    "ipykernel_launcher",
    "-f",
    "{connection_file}"
   ],
   "display_name": "Python 3",
   "env": null,
   "interrupt_mode": "signal",
   "language": "python",
   "metadata": null,
   "name": "python3"
  },
  "name": "mnm-ind-effect-make-strata.ipynb"
 },
 "nbformat": 4,
 "nbformat_minor": 4
}
