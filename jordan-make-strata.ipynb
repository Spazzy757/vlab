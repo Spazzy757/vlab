{
 "cells": [
  {
   "cell_type": "code",
   "execution_count": 3,
   "metadata": {
    "collapsed": false
   },
   "outputs": [
    {
     "name": "stdout",
     "output_type": "stream",
     "text": [
      "\u001b[33mWARNING: You are using pip version 20.2.4; however, version 21.1.1 is available.\r\n",
      "You should consider upgrading via the '/usr/local/bin/python -m pip install --upgrade pip' command.\u001b[0m\r\n"
     ]
    }
   ],
   "source": [
    "! pip install --quiet environs cyksuid toolz psycopg2-binary typing_json backoff pyyaml facebook_business pystache"
   ]
  },
  {
   "cell_type": "code",
   "execution_count": 4,
   "metadata": {
    "collapsed": false
   },
   "outputs": [
    {
     "name": "stdout",
     "output_type": "stream",
     "text": [
      "Defaulting to user installation because normal site-packages is not writeable\r\n"
     ]
    },
    {
     "name": "stdout",
     "output_type": "stream",
     "text": [
      "Collecting git+https://github.com/nandanrao/typedjson-python\r\n",
      "  Cloning https://github.com/nandanrao/typedjson-python to /tmp/pip-req-build-g21ntop_\r\n"
     ]
    },
    {
     "name": "stdout",
     "output_type": "stream",
     "text": [
      "  Installing build dependencies ... \u001b[?25l-"
     ]
    },
    {
     "name": "stdout",
     "output_type": "stream",
     "text": [
      "\b \b\\"
     ]
    },
    {
     "name": "stdout",
     "output_type": "stream",
     "text": [
      "\b \b|"
     ]
    },
    {
     "name": "stdout",
     "output_type": "stream",
     "text": [
      "\b \b/"
     ]
    },
    {
     "name": "stdout",
     "output_type": "stream",
     "text": [
      "\b \b-"
     ]
    },
    {
     "name": "stdout",
     "output_type": "stream",
     "text": [
      "\b \b\\"
     ]
    },
    {
     "name": "stdout",
     "output_type": "stream",
     "text": [
      "\b \b|"
     ]
    },
    {
     "name": "stdout",
     "output_type": "stream",
     "text": [
      "\b \b/"
     ]
    },
    {
     "name": "stdout",
     "output_type": "stream",
     "text": [
      "\b \b-"
     ]
    },
    {
     "name": "stdout",
     "output_type": "stream",
     "text": [
      "\b \b\\"
     ]
    },
    {
     "name": "stdout",
     "output_type": "stream",
     "text": [
      "\b \b|"
     ]
    },
    {
     "name": "stdout",
     "output_type": "stream",
     "text": [
      "\b \b/"
     ]
    },
    {
     "name": "stdout",
     "output_type": "stream",
     "text": [
      "\b \b-"
     ]
    },
    {
     "name": "stdout",
     "output_type": "stream",
     "text": [
      "\b \b\\"
     ]
    },
    {
     "name": "stdout",
     "output_type": "stream",
     "text": [
      "\b \b|"
     ]
    },
    {
     "name": "stdout",
     "output_type": "stream",
     "text": [
      "\b \b/"
     ]
    },
    {
     "name": "stdout",
     "output_type": "stream",
     "text": [
      "\b \b-"
     ]
    },
    {
     "name": "stdout",
     "output_type": "stream",
     "text": [
      "\b \b\\"
     ]
    },
    {
     "name": "stdout",
     "output_type": "stream",
     "text": [
      "\b \b|"
     ]
    },
    {
     "name": "stdout",
     "output_type": "stream",
     "text": [
      "\b \b/"
     ]
    },
    {
     "name": "stdout",
     "output_type": "stream",
     "text": [
      "\b \b-"
     ]
    },
    {
     "name": "stdout",
     "output_type": "stream",
     "text": [
      "\b \b\\"
     ]
    },
    {
     "name": "stdout",
     "output_type": "stream",
     "text": [
      "\b \b|"
     ]
    },
    {
     "name": "stdout",
     "output_type": "stream",
     "text": [
      "\b \b/"
     ]
    },
    {
     "name": "stdout",
     "output_type": "stream",
     "text": [
      "\b \b-"
     ]
    },
    {
     "name": "stdout",
     "output_type": "stream",
     "text": [
      "\b \b\\"
     ]
    },
    {
     "name": "stdout",
     "output_type": "stream",
     "text": [
      "\b \b|"
     ]
    },
    {
     "name": "stdout",
     "output_type": "stream",
     "text": [
      "\b \b/"
     ]
    },
    {
     "name": "stdout",
     "output_type": "stream",
     "text": [
      "\b \b-"
     ]
    },
    {
     "name": "stdout",
     "output_type": "stream",
     "text": [
      "\b \b\\"
     ]
    },
    {
     "name": "stdout",
     "output_type": "stream",
     "text": [
      "\b \b|"
     ]
    },
    {
     "name": "stdout",
     "output_type": "stream",
     "text": [
      "\b \b/"
     ]
    },
    {
     "name": "stdout",
     "output_type": "stream",
     "text": [
      "\b \bdone\r\n"
     ]
    },
    {
     "name": "stdout",
     "output_type": "stream",
     "text": [
      "\u001b[?25h  Getting requirements to build wheel ... \u001b[?25ldone\r\n"
     ]
    },
    {
     "name": "stdout",
     "output_type": "stream",
     "text": [
      "\u001b[?25h    Preparing wheel metadata ... \u001b[?25ldone\r\n"
     ]
    },
    {
     "name": "stdout",
     "output_type": "stream",
     "text": [
      "\u001b[?25hRequirement already satisfied: typing-extensions<4.0,>=3.7 in /home/jupyter/.local/lib/python3.9/site-packages (from typedjson==0.10.3) (3.10.0.0)\r\n",
      "Building wheels for collected packages: typedjson\r\n"
     ]
    },
    {
     "name": "stdout",
     "output_type": "stream",
     "text": [
      "  Building wheel for typedjson (PEP 517) ... \u001b[?25ldone\r\n",
      "\u001b[?25h  Created wheel for typedjson: filename=typedjson-0.10.3-py3-none-any.whl size=6814 sha256=6b9944fcce3daf81b39946c19410221489fac71595fad4f97f4e7190cb8d4437\r\n",
      "  Stored in directory: /tmp/pip-ephem-wheel-cache-ex4b5if1/wheels/06/6a/7f/41b926394656af81bedb9a1c1c94fec449a1ba11fc7f58125b\r\n",
      "Successfully built typedjson\r\n"
     ]
    },
    {
     "name": "stdout",
     "output_type": "stream",
     "text": [
      "Installing collected packages: typedjson\r\n"
     ]
    },
    {
     "name": "stdout",
     "output_type": "stream",
     "text": [
      "Successfully installed typedjson-0.10.3\r\n"
     ]
    },
    {
     "name": "stdout",
     "output_type": "stream",
     "text": [
      "\u001b[33mWARNING: You are using pip version 20.2.4; however, version 21.1.1 is available.\r\n",
      "You should consider upgrading via the '/usr/local/bin/python -m pip install --upgrade pip' command.\u001b[0m\r\n"
     ]
    }
   ],
   "source": [
    "! pip install git+https://github.com/nandanrao/typedjson-python"
   ]
  },
  {
   "cell_type": "code",
   "execution_count": 5,
   "metadata": {
    "collapsed": false
   },
   "outputs": [
    {
     "name": "stdout",
     "output_type": "stream",
     "text": [
      "The autoreload extension is already loaded. To reload it, use:\n",
      "  %reload_ext autoreload\n"
     ]
    }
   ],
   "source": [
    "%load_ext autoreload\n",
    "%autoreload 2"
   ]
  },
  {
   "cell_type": "code",
   "execution_count": 6,
   "metadata": {
    "collapsed": false
   },
   "outputs": [],
   "source": [
    "from typing import List\n",
    "import json\n",
    "\n",
    "from environs import Env\n",
    "import pandas as pd\n",
    "\n",
    "from adopt.malaria import get_confs, get_df, load_basics, window, get_db_conf\n",
    "from adopt.marketing import dict_from_nested_type\n",
    "from adopt.marketing import Marketing\n",
    "from adopt.facebook.state import CampaignState, get_api\n",
    "from adopt.marketing import AudienceConf, CampaignConf\n",
    "from adopt.campaign_queries import get_campaigns_for_user, create_campaign_confs, create_campaign_for_user\n",
    "\n",
    "from mena.strata import read_general_conf, parse_conf_list\n",
    "\n",
    "env = Env()\n",
    "env.read_env('.env-vlab-vlab', override=True)\n",
    "db_conf = get_db_conf(env)"
   ]
  },
  {
   "cell_type": "code",
   "execution_count": 7,
   "metadata": {
    "collapsed": false
   },
   "outputs": [],
   "source": [
    "\n",
    "GENERAL_CONF = read_general_conf('outs/jordan-general.csv')\n",
    "DISTRIBUTION_FILE = 'outs/jordan-distribution.csv'\n",
    "CREATIVE_FILE = 'outs/jordan-creative.csv'\n",
    "CAMPAIGN = \"vaccination-jordan\""
   ]
  },
  {
   "cell_type": "code",
   "execution_count": 8,
   "metadata": {
    "collapsed": false
   },
   "outputs": [],
   "source": [
    "USER = \"dpinzonhernandez@worldbank.org\"\n",
    "AD_ACCOUNT = '246148586918843'\n",
    "AD_CAMPAIGN = GENERAL_CONF['campaign_name']\n",
    "TEMPLATE_CAMPAIGN = GENERAL_CONF['template_campaign_name']\n",
    "PAGE_ID = GENERAL_CONF['page_id']\n",
    "RESPONDENT_AUDIENCE = f\"vlab-embed-{CAMPAIGN}-respondents\"\n",
    "INITIAL_SHORTCODE = GENERAL_CONF['welcome_screen']\n",
    "SURVEY_SHORTCODES = parse_conf_list(GENERAL_CONF['survey_shortcodes'])\n",
    "FINISHED_QUESTION_REF = GENERAL_CONF['finished_question_ref']\n",
    "EXTRA_METADATA = json.loads(GENERAL_CONF['extra_metadata'])\n",
    "DISTRIBUTION_VARS = parse_conf_list(GENERAL_CONF['distribution_vars'])\n",
    "COUNTRY_CODE = GENERAL_CONF['country_code']"
   ]
  },
  {
   "cell_type": "code",
   "execution_count": 10,
   "metadata": {
    "collapsed": false
   },
   "outputs": [],
   "source": [
    "CAMPAIGNID = next(c['id'] for c in get_campaigns_for_user(USER, db_conf) \n",
    "                  if c['name'] == CAMPAIGN)\n",
    "\n",
    "userinfo, config, db_conf, state, m, confs = load_basics(CAMPAIGNID, env)\n"
   ]
  },
  {
   "cell_type": "markdown",
   "metadata": {
    "collapsed": false
   },
   "source": [
    "# CREATE CAMPAIGN"
   ]
  },
  {
   "cell_type": "code",
   "execution_count": null,
   "metadata": {
    "collapsed": false
   },
   "outputs": [],
   "source": [
    "from adopt.facebook.update import Instruction\n",
    "from adopt.malaria import run_instructions\n",
    "\n",
    "def create_campaign(name):\n",
    "    params = {\n",
    "        \"name\": name,\n",
    "        \"objective\": \"MESSAGES\",\n",
    "        \"status\": \"PAUSED\",\n",
    "        \"special_ad_categories\": [],\n",
    "    }\n",
    "\n",
    "    return Instruction(\"campaign\", \"create\", params)\n",
    "\n",
    "# create_campaign_for_user(USER, CAMPAIGN, db_conf)\n",
    "# run_instructions([create_campaign(AD_CAMPAIGN)], state)"
   ]
  },
  {
   "cell_type": "code",
   "execution_count": null,
   "metadata": {
    "collapsed": false
   },
   "outputs": [],
   "source": [
    "# cid = next(c for c in state.campaigns if c['name'] == AD_CAMPAIGN)['id']\n",
    "# run_instructions([Instruction(\"campaign\", \"update\", {\"status\": \"PAUSED\"}, cid)], state)"
   ]
  },
  {
   "cell_type": "markdown",
   "metadata": {
    "collapsed": false
   },
   "source": [
    "# BASIC CONF"
   ]
  },
  {
   "cell_type": "code",
   "execution_count": null,
   "metadata": {
    "collapsed": false
   },
   "outputs": [],
   "source": [
    "c = {'optimization_goal': 'REPLIES',\n",
    "     'destination_type': 'MESSENGER',\n",
    "     'adset_hours': 48,\n",
    "     'budget': 1400000.0,\n",
    "     'min_budget': 100.0,\n",
    "     'opt_window': 2*24,\n",
    "     'end_date': '2021-05-25',\n",
    "     'proportional': True,\n",
    "     'page_id': PAGE_ID,\n",
    "     'instagram_id': None,\n",
    "     'ad_account': AD_ACCOUNT,\n",
    "     'ad_campaign': AD_CAMPAIGN}\n",
    "\n",
    "config = CampaignConf(**c)\n",
    "\n",
    "create_campaign_confs(CAMPAIGNID, \"opt\", [config._asdict()], db_conf)"
   ]
  },
  {
   "cell_type": "markdown",
   "metadata": {
    "collapsed": false
   },
   "source": [
    "# AUDIENCES"
   ]
  },
  {
   "cell_type": "code",
   "execution_count": 41,
   "metadata": {
    "collapsed": false
   },
   "outputs": [
    {
     "data": {
      "text/plain": [
       "['vaccjoen', 'vaccjoar']"
      ]
     },
     "execution_count": 41,
     "metadata": {},
     "output_type": "execute_result"
    }
   ],
   "source": [
    "SURVEY_SHORTCODES"
   ]
  },
  {
   "cell_type": "code",
   "execution_count": null,
   "metadata": {
    "collapsed": false
   },
   "outputs": [],
   "source": [
    "from adopt.marketing import dict_from_nested_type\n",
    "import typedjson\n",
    "import json\n",
    "\n",
    "audiences = [\n",
    "    {\n",
    "        \"name\": f\"vlab-vacc-{COUNTRY_CODE}-education-low\",\n",
    "        \"shortcodes\": SURVEY_SHORTCODES,\n",
    "        \"subtype\": \"LOOKALIKE\",\n",
    "        \"lookalike\": {\n",
    "            \"name\": f\"vlab-vacc-{COUNTRY_CODE}-education-low-lookalike\",\n",
    "            \"target\": 1100,\n",
    "            \"spec\": {\n",
    "                \"country\": COUNTRY_CODE,\n",
    "                \"starting_ratio\": 0.0,\n",
    "                \"ratio\": 0.2\n",
    "            }\n",
    "        },\n",
    "        \"question_targeting\": {\"op\": \"or\", \n",
    "                               \"vars\": [\n",
    "                                   {\"op\": \"equal\", \"vars\": [\n",
    "                                       {\"type\": \"response\", \"value\": \"education\"},\n",
    "                                       {\"type\": \"constant\", \"value\": \"A\"}]}, \n",
    "                                   {\"op\": \"equal\", \"vars\": [\n",
    "                                       {\"type\": \"response\", \"value\": \"education\"},\n",
    "                                       {\"type\": \"constant\", \"value\": \"B\"}]}\n",
    "                               ]}\n",
    "    },\n",
    "    {\n",
    "        \"name\": f\"vlab-vacc-{COUNTRY_CODE}-education-high\",\n",
    "        \"shortcodes\": SURVEY_SHORTCODES,\n",
    "        \"subtype\": \"LOOKALIKE\",\n",
    "        \"lookalike\": {\n",
    "            \"name\": f\"vlab-vacc-{COUNTRY_CODE}-education-high-lookalike\",\n",
    "            \"target\": 1100,\n",
    "            \"spec\": {\n",
    "                \"country\": COUNTRY_CODE,\n",
    "                \"starting_ratio\": 0.0,\n",
    "                \"ratio\": 0.2\n",
    "            }\n",
    "        },\n",
    "        \"question_targeting\": {\"op\": \"or\", \n",
    "                               \"vars\": [\n",
    "                                   {\"op\": \"equal\", \"vars\": [\n",
    "                                       {\"type\": \"response\", \"value\": \"education\"},\n",
    "                                       {\"type\": \"constant\", \"value\": \"C\"}]}, \n",
    "                                   {\"op\": \"equal\", \"vars\": [\n",
    "                                       {\"type\": \"response\", \"value\": \"education\"},\n",
    "                                       {\"type\": \"constant\", \"value\": \"D\"}]}\n",
    "                               ]}\n",
    "    },\n",
    "    {\n",
    "        \"name\": RESPONDENT_AUDIENCE,\n",
    "        \"shortcodes\": [INITIAL_SHORTCODE],\n",
    "        \"subtype\": \"CUSTOM\"\n",
    "    },\n",
    "]\n",
    "\n",
    "\n",
    "audience_confs = [typedjson.decode(AudienceConf, c) for c in audiences]\n",
    "confs = [dict_from_nested_type(a) for a in audience_confs]\n",
    "\n",
    "create_campaign_confs(CAMPAIGNID, \"audience\", confs, db_conf)"
   ]
  },
  {
   "cell_type": "markdown",
   "metadata": {
    "collapsed": false
   },
   "source": [
    "# CREATIVES"
   ]
  },
  {
   "cell_type": "code",
   "execution_count": 12,
   "metadata": {
    "collapsed": false
   },
   "outputs": [],
   "source": [
    "from mena.strata import generate_creative_confs\n",
    "\n",
    "images = {i['name']: i for i in state.account.get_ad_images(fields=['name', 'hash'])}\n",
    "creative_confs, image_confs = generate_creative_confs(CREATIVE_FILE, INITIAL_SHORTCODE, images)\n",
    "\n",
    "create_campaign_confs(CAMPAIGNID, \"creative\", creative_confs, db_conf)"
   ]
  },
  {
   "cell_type": "markdown",
   "metadata": {
    "collapsed": false
   },
   "source": [
    "# STRATA"
   ]
  },
  {
   "cell_type": "code",
   "execution_count": 13,
   "metadata": {
    "collapsed": false
   },
   "outputs": [
    {
     "name": "stderr",
     "output_type": "stream",
     "text": [
      "/home/jupyter/.local/lib/python3.9/site-packages/facebook_business/utils/api_utils.py:30: UserWarning: Value of optimization_goal is not be compatible. Expect OptimizationGoal; got <class 'str'>\n",
      "  warnings.warn(message)\n",
      "INFO:root:Loaded 18 adsets from campaign template_jordan\n"
     ]
    }
   ],
   "source": [
    "from mena.strata import get_adsets, extraction_confs, hyphen_case\n",
    "from itertools import product \n",
    "from mena.strata import format_group_product\n",
    "\n",
    "template_state = CampaignState(userinfo.token, \n",
    "                               get_api(env, userinfo.token), \n",
    "                               AD_ACCOUNT, \n",
    "                               TEMPLATE_CAMPAIGN)\n",
    "\n",
    "a, g, l = get_adsets(template_state, extraction_confs)\n",
    "\n",
    "variables = [\n",
    "    { \"name\": \"age\", \"source\": \"facebook\", \"conf\": a},\n",
    "    { \"name\": \"gender\", \"source\": \"facebook\", \"conf\": g},\n",
    "    { \"name\": \"location\", \"source\": \"facebook\", \"conf\": l},\n",
    "    { \"name\": \"education\", \"source\": \"survey\", \"conf\": {\n",
    "        \"levels\": [{\"name\": \"A+B\", \n",
    "                    \"audiences\": [f\"vlab-vacc-{COUNTRY_CODE}-education-low-lookalike\"],\n",
    "                    \"excluded_audiences\": [f\"vlab-vacc-{COUNTRY_CODE}-education-high-lookalike\"], \n",
    "                    \"question_targeting\": {\"op\": \"or\", \n",
    "                       \"vars\": [\n",
    "                           {\"op\": \"equal\", \"vars\": [\n",
    "                               {\"type\": \"response\", \"value\": \"education\"},\n",
    "                               {\"type\": \"constant\", \"value\": \"A\"}]}, \n",
    "                           {\"op\": \"equal\", \"vars\": [\n",
    "                               {\"type\": \"response\", \"value\": \"education\"},\n",
    "                               {\"type\": \"constant\", \"value\": \"B\"}]}\n",
    "                       ]}\n",
    "                    },\n",
    "                   {\"name\": \"C+D\", \n",
    "                    \"audiences\": [], \n",
    "                    \"excluded_audiences\": [f\"vlab-vacc-{COUNTRY_CODE}-education-low-lookalike\"], \n",
    "                    \"question_targeting\": {\"op\": \"or\", \n",
    "                       \"vars\": [\n",
    "                           {\"op\": \"equal\", \"vars\": [\n",
    "                               {\"type\": \"response\", \"value\": \"education\"},\n",
    "                               {\"type\": \"constant\", \"value\": \"C\"}]}, \n",
    "                           {\"op\": \"equal\", \"vars\": [\n",
    "                               {\"type\": \"response\", \"value\": \"education\"},\n",
    "                               {\"type\": \"constant\", \"value\": \"D\"}]}\n",
    "\n",
    "                       ]}\n",
    "                    }\n",
    "\n",
    "                   ]}}\n",
    "]\n",
    "\n",
    "\n",
    "share_lookup = pd.read_csv(DISTRIBUTION_FILE, header=[0,1,2], index_col=[0])\n",
    "\n",
    "share = share_lookup.T.reset_index().melt(id_vars=DISTRIBUTION_VARS,\n",
    "                                          var_name='location', \n",
    "                                          value_name='percentage')\n",
    "\n",
    "groups = product(*[[(v['name'], v['source'], l) for l in v['conf']['levels']] for v in variables])\n",
    "groups = [format_group_product(g, share) for g in groups]"
   ]
  },
  {
   "cell_type": "code",
   "execution_count": 14,
   "metadata": {
    "collapsed": false
   },
   "outputs": [],
   "source": [
    "ALL_CREATIVES = [t['name'] for t in image_confs]\n",
    "\n",
    "def make_stratum(id_, quota, c):\n",
    "    return { 'id': id_,\n",
    "             'metadata': {**c['metadata'], **EXTRA_METADATA},\n",
    "             'facebook_targeting': c['facebook_targeting'], \n",
    "             'creatives': ALL_CREATIVES,\n",
    "             'audiences': c['audiences'],\n",
    "             'excluded_audiences': [*c['excluded_audiences'], RESPONDENT_AUDIENCE],\n",
    "             'quota': float(quota),\n",
    "             'shortcodes': SURVEY_SHORTCODES,\n",
    "             'question_targeting': c['question_targeting']}"
   ]
  },
  {
   "cell_type": "code",
   "execution_count": null,
   "metadata": {
    "collapsed": false
   },
   "outputs": [],
   "source": [
    "from adopt.marketing import StratumConf, QuestionTargeting\n",
    "\n",
    "import typedjson\n",
    "strata = [make_stratum(*g) for g in groups]\n",
    "strata_data = [dict_from_nested_type(typedjson.decode(StratumConf, c)) for c in strata]\n",
    "create_campaign_confs(CAMPAIGNID, \"stratum\", strata_data, db_conf)"
   ]
  },
  {
   "cell_type": "markdown",
   "metadata": {
    "collapsed": false
   },
   "source": [
    "# TESTING"
   ]
  },
  {
   "cell_type": "code",
   "execution_count": 6,
   "metadata": {
    "collapsed": false
   },
   "outputs": [],
   "source": [
    "mal = load_basics(CAMPAIGNID, env)"
   ]
  },
  {
   "cell_type": "code",
   "execution_count": 7,
   "metadata": {
    "collapsed": false
   },
   "outputs": [
    {
     "name": "stdout",
     "output_type": "stream",
     "text": [
      "CPU times: user 1min 31s, sys: 155 ms, total: 1min 31s\n",
      "Wall time: 1min 45s\n"
     ]
    }
   ],
   "source": [
    "%%time\n",
    "\n",
    "from adopt.malaria import update_ads_for_campaign, update_audience_for_campaign\n",
    " \n",
    "# instructions, report = update_ads_for_campaign(mal)\n",
    "instructions, report = update_audience_for_campaign(mal)"
   ]
  },
  {
   "cell_type": "code",
   "execution_count": null,
   "metadata": {
    "collapsed": false
   },
   "outputs": [],
   "source": [
    "from adopt.malaria import run_instructions\n",
    "from adopt.facebook.update import Instruction, GraphUpdater\n",
    "\n",
    "run_instructions(instructions, mal.state)"
   ]
  },
  {
   "cell_type": "code",
   "execution_count": null,
   "metadata": {
    "collapsed": false
   },
   "outputs": [],
   "source": []
  },
  {
   "cell_type": "code",
   "execution_count": null,
   "metadata": {
    "collapsed": false
   },
   "outputs": [],
   "source": []
  },
  {
   "cell_type": "code",
   "execution_count": 70,
   "metadata": {
    "collapsed": false
   },
   "outputs": [],
   "source": [
    "import pandas as pd\n",
    "from adopt.campaign_queries import get_last_adopt_report\n",
    "\n",
    "rdf = pd.DataFrame(get_last_adopt_report(CAMPAIGNID, \"FACEBOOK_ADOPT\", mal.db_conf)).T"
   ]
  }
 ],
 "metadata": {
  "kernelspec": {
   "argv": [
    "python",
    "-m",
    "ipykernel_launcher",
    "-f",
    "{connection_file}"
   ],
   "display_name": "Python 3",
   "env": null,
   "interrupt_mode": "signal",
   "language": "python",
   "metadata": null,
   "name": "python3"
  },
  "language_info": {
   "codemirror_mode": {
    "name": "ipython",
    "version": 3
   },
   "file_extension": ".py",
   "mimetype": "text/x-python",
   "name": "python",
   "nbconvert_exporter": "python",
   "pygments_lexer": "ipython3",
   "version": "3.9.0"
  },
  "name": "jordan-make-strata.ipynb"
 },
 "nbformat": 4,
 "nbformat_minor": 4
}
