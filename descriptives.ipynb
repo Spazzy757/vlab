{
 "cells": [
  {
   "cell_type": "code",
   "execution_count": 3,
   "metadata": {
    "collapsed": false
   },
   "outputs": [
    {
     "name": "stdout",
     "output_type": "stream",
     "text": [
      "\u001b[33mWARNING: You are using pip version 20.0.2; however, version 20.2.2 is available.\r\n",
      "You should consider upgrading via the '/usr/local/bin/python -m pip install --upgrade pip' command.\u001b[0m\r\n"
     ]
    }
   ],
   "source": [
    "! pip install --quiet environs cyksuid toolz psycopg2-binary typing_json backoff xxhash pyyaml geopandas dtreeviz descartes pysal facebook_business"
   ]
  },
  {
   "cell_type": "code",
   "execution_count": null,
   "metadata": {
    "collapsed": false
   },
   "outputs": [],
   "source": [
    "# KacperKubara/distython"
   ]
  },
  {
   "cell_type": "code",
   "execution_count": 1,
   "metadata": {
    "collapsed": false
   },
   "outputs": [],
   "source": [
    "%load_ext autoreload\n",
    "%autoreload 2"
   ]
  },
  {
   "cell_type": "code",
   "execution_count": 2,
   "metadata": {
    "collapsed": false
   },
   "outputs": [],
   "source": [
    "import matplotlib.pyplot as plt\n",
    "plt.rcParams['figure.figsize'] = [7, 3]"
   ]
  },
  {
   "cell_type": "code",
   "execution_count": 3,
   "metadata": {
    "collapsed": false
   },
   "outputs": [],
   "source": [
    "from environs import Env\n",
    "env = Env()\n",
    "env.read_env('.env-bug', override=True)"
   ]
  },
  {
   "cell_type": "code",
   "execution_count": null,
   "metadata": {
    "collapsed": false
   },
   "outputs": [],
   "source": [
    "from adopt.malaria import get_conf, get_df, lookalike\n",
    "from adopt.marketing import Marketing\n",
    "from adopt.facebook.state import CampaignState\n",
    "\n",
    "cnf = get_conf(env)\n",
    "state = CampaignState(env)\n",
    "stratum = cnf['strata'][0]\n",
    "surveys = stratum['surveys']\n",
    "m = Marketing(env, state)"
   ]
  },
  {
   "cell_type": "code",
   "execution_count": null,
   "metadata": {
    "collapsed": false
   },
   "outputs": [],
   "source": [
    "import geopandas as gpd\n",
    "from adopt.malaria import load_cities\n",
    "\n",
    "def get_dist_info(path):\n",
    "    geod = gpd.read_file(path)\n",
    "    district_info = geod.groupby('disthash').apply(lambda df: df.iloc[0][['disthash', 'tot_p']]).reset_index(drop=True)\n",
    "    return district_info\n",
    "\n",
    "dist_info = get_dist_info('outs/cluster.shp')\n",
    "cities = load_cities('output/cities-22.csv')\n",
    "cities = cities.merge(dist_info, how='left', on='disthash')\n",
    "\n",
    "districts = cities.groupby('distname') \\\n",
    "                  .head(1) \\\n",
    "                  .reset_index(drop=True) \\\n",
    "                  .drop(columns=['rad', 'lng', 'lat', 'distcode', 'id'])"
   ]
  },
  {
   "cell_type": "code",
   "execution_count": 16,
   "metadata": {
    "collapsed": false
   },
   "outputs": [],
   "source": [
    "from adopt.responses import get_forms\n",
    "from datetime import datetime\n",
    "\n",
    "survey_user = '10383123-9fb1-429b-8312-447c1b54b17a'\n",
    "shortcodes = [ 'baselineeng', 'baselinehin', 'baselineodi']\n",
    "\n",
    "timestamp = datetime(2020, 8, 5)\n",
    "\n",
    "forms = list(get_forms(survey_user, shortcodes, timestamp, cnf['chatbase']))"
   ]
  },
  {
   "cell_type": "code",
   "execution_count": 17,
   "metadata": {
    "collapsed": false
   },
   "outputs": [],
   "source": [
    "questions = [\n",
    "    ('gender', '20218ad0-96c8-4799-bdfe-90c689c5c206'),\n",
    "    ('dist_medical', 'd7573919-8a7e-457f-9a1d-1f8c389127a7'),\n",
    "    ('education', 'e40fa1c6-13a1-4a02-91cd-0eaade11864d'),\n",
    "    ('age', 'da3d1de1-a287-4143-8b2c-107565a4e4d4'),\n",
    "    ('religion', '8e490114-df6d-4fb3-b1be-6ce11acd9212'),\n",
    "    ('caste', '912bc5d8-db4a-402b-b506-f85ce4e89e6f'),\n",
    "    ('household_size', '8065d101-7995-4471-9ca6-54e9ce6d4310'),\n",
    "    ('owns_net', 'bd4802c6-7bdb-40f0-aac1-18cc6df7da6e'),\n",
    "    ('has_ac', 'e279587c-975f-433a-adab-1ad563876af6'),\n",
    "    ('worried_covid', '25b20f99-a30c-4549-968a-05b7276fa485'),\n",
    "    ('worried_malaria', '7c955b2b-0480-4cbc-9800-f94b77078f22'),\n",
    "    ('fever_treatment_seeking', 'f526f205-7aa9-4e3a-9acc-c39766e1bc8c'),\n",
    "    ('malaria_incidence', 'f6e69027-97cc-494e-8d52-318b75047e23'),\n",
    "    ('malaria_now', 'dad23031-8468-4900-89cc-d01841d8b660'),\n",
    "    ('if_malaria_seek_treatment', '73ef8720-5e2b-463c-aa8a-ed890a839a8b'),\n",
    "    ('if_malaria_tested', '9de3d2f5-d9c0-45aa-9065-a61c975a58dc'),\n",
    "    ('net_lastnight', 'b5b1ff58-c8df-4890-9b1c-0cd40ce6edc0'),\n",
    "    ('longsleeves', '0992f107-7274-4404-aeff-bf80a723f098'),\n",
    "    ('used_spray', '02379921-3b90-4005-b813-cf1e9aec0f40'),\n",
    "    ('home', '4d0ae478-3893-4b46-ab39-d6848c69245d'), \n",
    "    ('occupation', '4fc929c7-132d-49b1-a164-515e5cc9064f')]"
   ]
  },
  {
   "cell_type": "code",
   "execution_count": 18,
   "metadata": {
    "collapsed": false
   },
   "outputs": [],
   "source": [
    "from adopt.responses import get_response_df\n",
    "from datetime import datetime, timezone\n",
    "from adopt.clustering import only_target_users\n",
    "import pandas as pd\n",
    "from adopt.clustering import add_res_cols\n",
    "from adopt.forms import response_translator\n",
    "from adopt.malaria import shape_df\n",
    "import seaborn as sns\n",
    "import re\n",
    "\n",
    "def in_time(df, min_date, max_date):\n",
    "    min_date = datetime(*min_date, tzinfo=timezone.utc)\n",
    "    max_date = datetime(*max_date, tzinfo=timezone.utc)\n",
    "\n",
    "    users = df[(df.timestamp > min_date) & (df.timestamp < max_date)].userid.unique()\n",
    "    return df.userid.isin(users)\n",
    "\n",
    "def filter_time(df, min_date, max_date):\n",
    "    return df[in_time(df, min_date, max_date)]\n",
    "\n",
    "def ref_translation(eng_form, other_form):\n",
    "    vals = [(a['ref'], b['ref']) for a, b \n",
    "            in zip(eng_form['fields'], other_form['fields'])]\n",
    "    lookup = dict(vals)\n",
    "    rev_lookup = {v:k for k,v in lookup.items()}\n",
    "    return lookup, rev_lookup\n",
    "\n",
    "\n",
    "def get_filtered_responses(survey_user, eng_form, other_form, shortcodes, questions, db_cnf):\n",
    "    ref_lookup, rev_ref_lookup = ref_translation(eng_form, other_form)\n",
    "    refs = [ref_lookup[r] for _, r in questions]\n",
    "    responses = get_response_df(survey_user, shortcodes, refs, db_cnf)\n",
    "\n",
    "    _, last_ref = questions[-1]\n",
    "    \n",
    "    answered = responses[responses.question_ref == last_ref].userid.unique()    \n",
    "\n",
    "    return responses[responses.userid.isin(answered)].reset_index(drop=True)\n",
    "\n",
    "def malaria_prob(groupby, key='malaria'):\n",
    "    d = groupby[key].value_counts(normalize=True)\n",
    "    d.name = 'count'\n",
    "    d = d.reset_index(level=-1)\n",
    "    d = d[d[key] == True].drop(columns=key)\n",
    "    return d\n",
    "\n",
    "\n",
    "def stats(df):\n",
    "    targets = df.kutcha.sum()\n",
    "    tot = df.shape[0]\n",
    "    non_target = tot - targets\n",
    "    return pd.Series([targets/tot, targets, non_target, tot], index=['perc', 'target', 'non_target', 'tot'])\n",
    "\n",
    "\n",
    "def col_translators(a, b, questions):\n",
    "    lookup, _ = ref_translation(a, b)\n",
    "\n",
    "    refs = [ref for _, ref in questions]\n",
    "    ts = { qt['ref']: response_translator(q, qt)\n",
    "           for qt, q in zip(a['fields'], b['fields'])\n",
    "           if qt['ref'] in refs}\n",
    "    \n",
    "    return [(n, lookup[ref], ts[ref]) for n, ref in questions]\n"
   ]
  },
  {
   "cell_type": "code",
   "execution_count": 19,
   "metadata": {
    "collapsed": false
   },
   "outputs": [],
   "source": [
    "import logging\n",
    "logging.getLogger().setLevel(logging.ERROR)"
   ]
  },
  {
   "cell_type": "code",
   "execution_count": 20,
   "metadata": {
    "collapsed": false
   },
   "outputs": [],
   "source": [
    "filtered_res = get_filtered_responses(survey_user, forms[0], forms[1], ['baselinehin', 'baselinehinexc'], questions, cnf['chatbase'])\n",
    "\n",
    "col_names = col_translators(forms[0], forms[1], questions)\n",
    "rr = add_res_cols(col_names, shape_df(filtered_res)) \\\n",
    "    .reset_index(drop=True) \\\n",
    "    .dropna(subset=[r for r, _ in questions if not re.match('if_', r)])"
   ]
  },
  {
   "cell_type": "code",
   "execution_count": null,
   "metadata": {
    "collapsed": false
   },
   "outputs": [],
   "source": [
    "# choices: \n",
    "#   ordered: true\n",
    "#   alphabetize: true\n",
    "#   booleanize: Yes"
   ]
  },
  {
   "cell_type": "code",
   "execution_count": 21,
   "metadata": {
    "collapsed": false
   },
   "outputs": [],
   "source": [
    "final_clusters = pd.read_csv('outs/final-clusters.csv').disthash"
   ]
  },
  {
   "cell_type": "code",
   "execution_count": 22,
   "metadata": {
    "collapsed": false
   },
   "outputs": [],
   "source": [
    "from adopt.forms import make_answers\n",
    "from pandas.api.types import CategoricalDtype\n",
    "\n",
    "get_ref = lambda r: next((f for f in forms[0]['fields'] if f['ref'] == r), None)\n",
    "\n",
    "def fix_homes(dat):\n",
    "    types = ['Kutcha (made of mud, tin, straw)', 'Semi-pucca', 'Pucca (have cement/brick wall and floor']\n",
    "    t = CategoricalDtype(categories=types, ordered=True)\n",
    "    dat['home'] = dat['home'].astype(t)\n",
    "    return dat\n",
    "\n",
    "def ordinalize_dat(dat):\n",
    "    ordinal = ['worried_covid', 'worried_malaria', 'dist_medical', 'education', 'fever_treatment_seeking', 'if_malaria_seek_treatment']\n",
    "    a = [(make_answers(get_ref(r)), q) for q, r in questions if q in ordinal]\n",
    "    a = [(q, [l for _, l in li]) for li, q in a ]\n",
    "    for col, vals in a:\n",
    "        t = CategoricalDtype(categories=vals, ordered=True)\n",
    "        dat[col] = dat[col].astype(t)\n",
    "    return dat\n",
    "\n",
    "def cast_age(x):\n",
    "    try: \n",
    "        i = int(x)\n",
    "        if i > 100 or i < 12:\n",
    "            raise ValueError('impossible age')\n",
    "        return i\n",
    "    except ValueError:\n",
    "        return None\n",
    "\n",
    "def caste_household(x):\n",
    "    try:\n",
    "        i = int(x)\n",
    "        if i < 0 or i > 30:\n",
    "            raise ValueError('impossible value')\n",
    "        return i\n",
    "    except ValueError:\n",
    "        return None\n",
    "\n",
    "def _convert_cat(col):\n",
    "    try:\n",
    "        return col.cat.codes\n",
    "    except AttributeError:\n",
    "        return None\n",
    "\n",
    "def convert_cats(df):\n",
    "    cols = [(col, _convert_cat(df[col])) for col in df.columns]\n",
    "    cols =  [(n, c) for n, c in cols if c is not None]\n",
    "    names, cols = zip(*cols)\n",
    "    return cols\n",
    "\n",
    "def make_quartile_var(df, var, name):\n",
    "    df[name] = 'Interquartile'\n",
    "    df.loc[df[var] >= df[var].quantile(.75), name] = 'Upper Quartile'\n",
    "    df.loc[df[var] <= df[var].quantile(.25), name] = 'Lower Quartile'\n",
    "    df[name] = df.dist_risk.astype(CategoricalDtype(categories=['Upper Quartile', 'Interquartile', 'Lower Quartile'], ordered=True))\n",
    "    return df\n",
    "\n",
    "def add_mean(df, col, by):\n",
    "    lookup = dd.groupby(by)[col].mean().reset_index().rename(columns={col: f'mean_{col}'})\n",
    "    return df.merge(lookup)\n",
    "\n",
    "def dist_stats(dd):\n",
    "    for col in ['under_net', 'net_ownership', 'kutcha', 'malaria_now', 'malaria']:\n",
    "        dd = add_mean(dd, col, 'disthash')\n",
    "    dd['mean_malaria_2_week'] = dd.mean_malaria_now\n",
    "    dd['mean_malaria_5_year'] = dd.mean_malaria\n",
    "    return dd\n",
    "            \n",
    "ordinalize = lambda col: col.cat.codes\n",
    "integerize = lambda col: col.astype(int)\n",
    "inverse = lambda col: ~col.astype(bool)\n",
    "\n",
    "dd = rr.merge(districts, left_on='md:clusterid', right_on='disthash')\n",
    "qrefs = [c for c in dd.columns if len(c) > 35]\n",
    "dd = dd.drop(columns=qrefs)\n",
    "\n",
    "dd['under_net'] = dd.net_lastnight == 'Yes'\n",
    "dd['net_ownership'] = dd.owns_net == 'Yes'\n",
    "dd['malaria'] = dd.malaria_incidence == 'Yes'\n",
    "dd['malaria_now'] = dd.malaria_now == 'Yes'\n",
    "dd['kutcha'] = dd.home == 'Kutcha (made of mud, tin, straw)'\n",
    "dd['pucca'] = dd.home == 'Pucca (have cement/brick wall and floor'\n",
    "dd['university'] = dd.education == 'University degree or higher'\n",
    "dd['unemployed'] = dd.occupation == 'Unemployed'\n",
    "dd['ac'] = dd.has_ac == 'Yes'\n",
    "dd['net_ownership'] = dd.owns_net == 'Yes'\n",
    "dd['disthash'] = dd['md:clusterid']\n",
    "dd['used_spray'] = dd.used_spray == 'Yes'\n",
    "dd['general_caste'] = dd.caste == 'General'\n",
    "dd['lower_caste'] = dd.caste.isin(['OBC', 'SC/Dalit', 'ST'])\n",
    "\n",
    "dd = dd.groupby('disthash').apply(dist_stats).reset_index(drop=True)\n",
    "\n",
    "dd['true_age'] = dd.age.map(cast_age)\n",
    "dd['household'] = dd.household_size.map(caste_household)\n",
    "\n",
    "dd['lives_alone'] = dd.household <= 1\n",
    "dd['large_family'] = (dd.household > 8)\n",
    "dd['student'] = dd.occupation == 'Student'\n",
    "\n",
    "dd = ordinalize_dat(dd)\n",
    "dd = fix_homes(dd)\n",
    "dd['worried_malaria_true'] = dd.worried_malaria.cat.codes < 2\n",
    "\n",
    "dd = make_quartile_var(dd, 'malaria_now', 'dist_risk')\n",
    "dd = make_quartile_var(dd, 'malaria', 'dist_risk_5_year')\n",
    "\n",
    "dd = dd.groupby('disthash').filter(lambda df: df.shape[0] > 100)\n",
    "dd['male'] = dd.gender == 'Male'"
   ]
  },
  {
   "cell_type": "code",
   "execution_count": 23,
   "metadata": {
    "collapsed": false
   },
   "outputs": [],
   "source": [
    "import seaborn as sns\n",
    "\n",
    "def upd_legend(ax, title, labels):\n",
    "    l = ax.legend()\n",
    "    l.set_title(title)\n",
    "    for t, l in zip(l.texts, labels): \n",
    "        t.set_text(l)\n",
    "\n",
    "sns.set()\n",
    "base_color = sns.color_palette(\"Set2\")[0]"
   ]
  },
  {
   "cell_type": "markdown",
   "metadata": {
    "collapsed": false
   },
   "source": [
    "# Mapping"
   ]
  },
  {
   "cell_type": "code",
   "execution_count": 290,
   "metadata": {
    "collapsed": false
   },
   "outputs": [],
   "source": [
    "def plot_incidence_map(dat, cnf, cmap='plasma'):\n",
    "    fig, ax = plt.subplots(figsize=(10, 10))\n",
    "    dat.plot(column=cnf['var'], legend=True, ax=ax, cmap=cmap, legend_kwds={'label': cnf['title'], 'orientation': \"horizontal\", 'shrink': 0.6, 'aspect': 30, 'pad': 0.0})\n",
    "    ax.get_xaxis().set_visible(False)\n",
    "    ax.get_yaxis().set_visible(False)\n",
    "    for s in ax.spines.values():\n",
    "        s.set_color(None)"
   ]
  },
  {
   "cell_type": "code",
   "execution_count": 639,
   "metadata": {
    "collapsed": false
   },
   "outputs": [],
   "source": [
    "  cluster_shapes = gpd.read_file('outs/cluster.shp')\n",
    "di_shapes = gpd.read_file('outs/districts.shp')\n",
    "\n",
    "dat = dd.groupby('disthash').mean().reset_index()[['disthash', 'malaria', 'malaria_now']]\n",
    "dat = dat[dat.disthash.isin(final_clusters)]\n",
    "dat = cluster_shapes.merge(dat[dat.malaria_now > 0.0], how='right', on='disthash')"
   ]
  },
  {
   "cell_type": "code",
   "execution_count": null,
   "metadata": {
    "collapsed": false
   },
   "outputs": [],
   "source": [
    "plot_incidence_map(dat, {'var': 'malaria', 'title': '5-year malaria incidence'})\n",
    "plt.savefig('incidence-map-5-year.png', bbox_inches='tight', dpi=300)"
   ]
  },
  {
   "cell_type": "code",
   "execution_count": null,
   "metadata": {
    "collapsed": false
   },
   "outputs": [],
   "source": [
    "plot_incidence_map(dat, {'var': 'malaria_now', 'title': '2-week malaria incidence'})\n",
    "plt.savefig('incidence-map-2-week.png', bbox_inches='tight', dpi=300)"
   ]
  },
  {
   "cell_type": "markdown",
   "metadata": {
    "collapsed": false
   },
   "source": [
    "# Misc"
   ]
  },
  {
   "cell_type": "code",
   "execution_count": 653,
   "metadata": {
    "collapsed": false
   },
   "outputs": [
    {
     "data": {
      "text/plain": [
       "home\n",
       "Kutcha (made of mud, tin, straw)           0.709705\n",
       "Semi-pucca                                 0.714431\n",
       "Pucca (have cement/brick wall and floor    0.667627\n",
       "Name: fever_seek_treatment_rightaway, dtype: float64"
      ]
     },
     "execution_count": 653,
     "metadata": {},
     "output_type": "execute_result"
    }
   ],
   "source": [
    "# treatment seeking behavior same by home\n",
    "\n",
    "dd['fever_seek_treatment_rightaway'] = dd.fever_treatment_seeking == 'I would seek treatment right away'\n",
    "dd.groupby('home').fever_seek_treatment_rightaway.mean()"
   ]
  },
  {
   "cell_type": "code",
   "execution_count": null,
   "metadata": {
    "collapsed": false
   },
   "outputs": [],
   "source": [
    "sns.barplot(x='under_net', y='home', data=dd, color=base_color)"
   ]
  },
  {
   "cell_type": "code",
   "execution_count": null,
   "metadata": {
    "collapsed": false
   },
   "outputs": [],
   "source": [
    "dd.plot.scatter(x='mean_under_net', y='mean_malaria_5_year')"
   ]
  },
  {
   "cell_type": "code",
   "execution_count": null,
   "metadata": {
    "collapsed": false
   },
   "outputs": [],
   "source": [
    "import statsmodels.formula.api as smf\n",
    "\n",
    "smf.logit('integerize(malaria_now) ~ under_net + mean_malaria_5_year + kutcha + pucca + kutcha*under_net + ac*pucca + ac*kutcha', dd).fit().summary()"
   ]
  },
  {
   "cell_type": "code",
   "execution_count": null,
   "metadata": {
    "collapsed": false
   },
   "outputs": [],
   "source": [
    "dd[(dd.kutcha & ~dd.net_ownership)]"
   ]
  },
  {
   "cell_type": "code",
   "execution_count": null,
   "metadata": {
    "collapsed": false
   },
   "outputs": [],
   "source": [
    "smf.logit('integerize(malaria_now) ~ net_ownership + kutcha:inverse(net_ownership):mean_malaria_5_year + mean_malaria_5_year + kutcha + pucca + ac*pucca + ac*kutcha', dd).fit().summary()"
   ]
  },
  {
   "cell_type": "code",
   "execution_count": 1716,
   "metadata": {
    "collapsed": false
   },
   "outputs": [],
   "source": [
    "def plot_incidence_barplot(cnf):\n",
    "    with sns.color_palette(sns.cubehelix_palette(3, start=1.25, rot=.0, dark=0.8, light=.35)):\n",
    "        fig, ax = plt.subplots(figsize=(12, 4))\n",
    "        sns.barplot(x=cnf['var'], y=cnf['group'], hue='home', data=dd, ax=ax)\n",
    "        legend = plt.legend()\n",
    "        legend.set_title('Dwelling Type')\n",
    "        ax.set_xlabel(cnf['title'])\n",
    "        ax.set_ylabel('District Malaria Incidence')        "
   ]
  },
  {
   "cell_type": "code",
   "execution_count": 1722,
   "metadata": {
    "collapsed": false
   },
   "outputs": [
    {
     "data": {
      "text/plain": [
       "dist_risk       home                                   \n",
       "Upper Quartile  Kutcha (made of mud, tin, straw)           0.048176\n",
       "                Semi-pucca                                 0.027955\n",
       "                Pucca (have cement/brick wall and floor    0.020103\n",
       "Interquartile   Kutcha (made of mud, tin, straw)           0.023831\n",
       "                Semi-pucca                                 0.015422\n",
       "                Pucca (have cement/brick wall and floor    0.012241\n",
       "Lower Quartile  Kutcha (made of mud, tin, straw)           0.009407\n",
       "                Semi-pucca                                 0.000831\n",
       "                Pucca (have cement/brick wall and floor    0.005503\n",
       "Name: malaria_now, dtype: float64"
      ]
     },
     "execution_count": 1722,
     "metadata": {},
     "output_type": "execute_result"
    }
   ],
   "source": [
    "dd.groupby(['dist_risk', 'home']).malaria_now.mean()"
   ]
  },
  {
   "cell_type": "code",
   "execution_count": null,
   "metadata": {
    "collapsed": false
   },
   "outputs": [],
   "source": [
    "plot_incidence_barplot({'var': 'malaria', 'group': 'dist_risk', 'title': '5-year malaria incidence (household + neighbors)'})"
   ]
  },
  {
   "cell_type": "code",
   "execution_count": null,
   "metadata": {
    "collapsed": false
   },
   "outputs": [],
   "source": [
    "plot_incidence_barplot({'var': 'malaria', 'group': 'dist_risk_5_year', 'title': '5-year malaria incidence (household + neighbors)'})\n",
    "plt.savefig('incidence-barplot-5-year.png', bbox_inches='tight', dpi=300)"
   ]
  },
  {
   "cell_type": "code",
   "execution_count": null,
   "metadata": {
    "collapsed": false
   },
   "outputs": [],
   "source": [
    "plot_incidence_barplot({'var': 'malaria_now', 'title': '2-week malaria incidence (household'})\n",
    "plt.savefig('incidence-barplot-2-week.png', bbox_inches='tight', dpi=300)"
   ]
  },
  {
   "cell_type": "code",
   "execution_count": null,
   "metadata": {
    "collapsed": false
   },
   "outputs": [],
   "source": [
    "# Lack of net ownership of people in Kutcha dwellings potentially increases risk\n",
    "# but those with nets are still very likely to get malaria\n",
    "\n",
    "with sns.color_palette('Set2'):\n",
    "    fig, ax = plt.subplots(figsize=(12, 5))\n",
    "    sns.barplot(x='malaria_now', y='dist_risk', hue='home', data=dd, ax=ax)\n",
    "    ax.set_xlabel('2-week malaria incidence')\n",
    "    # upd_legend(ax, 'Owns Bednet', ['No', 'Yes'])\n",
    "\n",
    "\n",
    "# leg = ax.legend()"
   ]
  },
  {
   "cell_type": "code",
   "execution_count": null,
   "metadata": {
    "collapsed": false
   },
   "outputs": [],
   "source": [
    "logit = smf.logit('target ~ mean_malaria_5_year + mean_malaria_2_week + kutcha + pucca + ac', dd.assign(target = dd.malaria_now.astype(int)))\n",
    "\n",
    "logit = logit.fit()"
   ]
  },
  {
   "cell_type": "code",
   "execution_count": 168,
   "metadata": {
    "collapsed": false
   },
   "outputs": [
    {
     "data": {
      "text/plain": [
       "(0.02433389623401494, 0.03262760964147726)"
      ]
     },
     "execution_count": 168,
     "metadata": {},
     "output_type": "execute_result"
    }
   ],
   "source": [
    "from sklearn.ensemble import RandomForestRegressor\n",
    "from sklearn.metrics import r2_score\n",
    "from sklearn.model_selection import cross_val_predict\n",
    "\n",
    "X = risk[['mean_malaria_5_year', 'mean_malaria_2_week', 'mean_worried_malaria', 'kutcha', 'pucca', 'unemployed', 'true_age']]\n",
    "ordinal_cols = convert_cats(risk[['dist_medical', 'education']])\n",
    "\n",
    "X = pd.concat([X, *ordinal_cols], axis=1)\n",
    "X = X.dropna()\n",
    "\n",
    "y = risk['worried_malaria'].cat.codes.astype(float)\n",
    "y = y[X.index]\n",
    "\n",
    "model = RandomForestRegressor(n_estimators=200, max_depth=4)\n",
    "preds = cross_val_predict(model, X, y)\n",
    "\n",
    "model.fit(X, y)\n",
    "\n",
    "r2_score(y, preds), r2_score(y, model.predict(X))"
   ]
  },
  {
   "cell_type": "code",
   "execution_count": 901,
   "metadata": {
    "collapsed": false
   },
   "outputs": [],
   "source": [
    "from sklearn.tree import DecisionTreeClassifier, DecisionTreeRegressor\n",
    "\n",
    "model = DecisionTreeRegressor(max_depth=2)\n",
    "model.fit(X, y)\n",
    "\n",
    "from dtreeviz.trees import *\n",
    "\n",
    "viz = dtreeviz(model, \n",
    "               X, \n",
    "               y,\n",
    "               target_name='worried',\n",
    "               feature_names=X.columns, \n",
    "               fancy=False\n",
    "              )  \n"
   ]
  },
  {
   "cell_type": "code",
   "execution_count": null,
   "metadata": {
    "collapsed": false
   },
   "outputs": [],
   "source": [
    "dict(zip(X.columns, cls.feature_importances_))"
   ]
  },
  {
   "cell_type": "code",
   "execution_count": 714,
   "metadata": {
    "collapsed": false
   },
   "outputs": [
    {
     "name": "stdout",
     "output_type": "stream",
     "text": [
      "              precision    recall  f1-score   support\n",
      "\n",
      "       False       0.99      0.62      0.76     18712\n",
      "        True       0.03      0.64      0.05       323\n",
      "\n",
      "    accuracy                           0.62     19035\n",
      "   macro avg       0.51      0.63      0.41     19035\n",
      "weighted avg       0.97      0.62      0.75     19035\n",
      "\n"
     ]
    },
    {
     "data": {
      "text/plain": [
       "array([[11581,  7131],\n",
       "       [  115,   208]])"
      ]
     },
     "execution_count": 714,
     "metadata": {},
     "output_type": "execute_result"
    }
   ],
   "source": [
    "from sklearn.ensemble import RandomForestClassifier\n",
    "\n",
    "X = dd[['mean_malaria_5_year', 'mean_malaria_2_week', 'kutcha', 'pucca', 'unemployed']]\n",
    "ordinal_cols = convert_cats(dd[['dist_medical', 'education']])\n",
    "\n",
    "X = pd.concat([X, *ordinal_cols], axis=1)\n",
    "\n",
    "X = X.sample(frac=1.0)\n",
    "y = dd['malaria_now']\n",
    "y = y[X.index]\n",
    "\n",
    "from sklearn.metrics import f1_score, classification_report, recall_score, confusion_matrix\n",
    "from sklearn.linear_model import LogisticRegression\n",
    "from sklearn.model_selection import cross_val_predict\n",
    "\n",
    "\n",
    "cls = RandomForestClassifier(n_estimators=200, max_depth=2, class_weight='balanced')\n",
    "\n",
    "\n",
    "preds = cross_val_predict(cls, X, y)\n",
    "\n",
    "print(classification_report(y, preds))\n",
    "confusion_matrix(y, preds)"
   ]
  },
  {
   "cell_type": "code",
   "execution_count": 716,
   "metadata": {
    "collapsed": false
   },
   "outputs": [
    {
     "data": {
      "text/plain": [
       "array([0.18636787, 0.39749221, 0.18156616, 0.0706766 , 0.00224975,\n",
       "       0.08928274, 0.07236466])"
      ]
     },
     "execution_count": 716,
     "metadata": {},
     "output_type": "execute_result"
    }
   ],
   "source": [
    "cls.fit(X, y)\n",
    "cls.feature_importances_"
   ]
  },
  {
   "cell_type": "code",
   "execution_count": 839,
   "metadata": {
    "collapsed": false
   },
   "outputs": [
    {
     "name": "stderr",
     "output_type": "stream",
     "text": [
      "<ipython-input-839-6e336256903d>:3: UserWarning: Boolean Series key will be reindexed to match DataFrame index.\n",
      "  return dd[idx].reset_index(drop=True).assign(risk_rf = cls.predict_proba(X[idx])[:, 1])\n"
     ]
    }
   ],
   "source": [
    "def predict_risk(dd, cls):\n",
    "    idx = ~dd.malaria_now\n",
    "    return dd[idx].reset_index(drop=True).assign(risk_rf = cls.predict_proba(X[idx])[:, 1])\n",
    "\n",
    "risk = predict_risk(dd, cls)"
   ]
  },
  {
   "cell_type": "code",
   "execution_count": 718,
   "metadata": {
    "collapsed": false
   },
   "outputs": [],
   "source": [
    "risk['high_risk'] = risk.risk_rf > .5\n",
    "risk['high_risk_dist'] = risk.mean_malaria_2_week > risk.mean_malaria_2_week.quantile(0.75) "
   ]
  },
  {
   "cell_type": "code",
   "execution_count": 250,
   "metadata": {
    "collapsed": false
   },
   "outputs": [],
   "source": [
    "risk = risk.groupby('disthash').apply(lambda df: df.assign(mean_worried_malaria = ordinalize(df.worried_malaria).mean()))"
   ]
  },
  {
   "cell_type": "code",
   "execution_count": null,
   "metadata": {
    "collapsed": false
   },
   "outputs": [],
   "source": [
    "malaria_prob(dd.groupby(['education', 'home']), 'worried_malaria_true')"
   ]
  },
  {
   "cell_type": "code",
   "execution_count": null,
   "metadata": {
    "collapsed": false
   },
   "outputs": [],
   "source": [
    "smf.ols('ordinalize(worried_malaria) ~ risk_rf', risk).fit().summary()"
   ]
  },
  {
   "cell_type": "code",
   "execution_count": null,
   "metadata": {
    "collapsed": false
   },
   "outputs": [],
   "source": [
    "smf.ols('ordinalize(worried_malaria) ~ ordinalize(education)*kutcha + mean_malaria_2_week + mean_malaria_5_year + mean_worried_malaria + true_age', risk).fit().summary()"
   ]
  },
  {
   "cell_type": "code",
   "execution_count": null,
   "metadata": {
    "collapsed": false
   },
   "outputs": [],
   "source": [
    "with sns.color_palette('Set2'):\n",
    "    ax = sns.barplot(x='worried', y='worried_covid', data=risk.assign(worried=3 - ordinalize(risk.worried_malaria)))\n",
    "    ax.set_xlabel('Worried about malaria, on a scale of 0-3')\n",
    "    ax.set_ylabel('Worried about Covid-19')"
   ]
  },
  {
   "cell_type": "code",
   "execution_count": null,
   "metadata": {
    "collapsed": false
   },
   "outputs": [],
   "source": [
    "with sns.color_palette('Set2'):\n",
    "    ax = sns.barplot(x='worried', y='home', hue='education', data=risk.assign(worried=3 - ordinalize(risk.worried_malaria)))\n",
    "    ax.set_xlabel('Worried about malaria, on a scale of 0-3')\n",
    "    ax.set_ylabel('Home Type')"
   ]
  },
  {
   "cell_type": "code",
   "execution_count": null,
   "metadata": {
    "collapsed": false
   },
   "outputs": [],
   "source": [
    "with sns.color_palette('Set2'):\n",
    "    ax = sns.barplot(x='malaria_now', y='home', hue='education', data=dd)\n",
    "    ax.set_xlabel('Malaria incidence in the last 2 weeks')"
   ]
  },
  {
   "cell_type": "code",
   "execution_count": null,
   "metadata": {
    "collapsed": false
   },
   "outputs": [],
   "source": [
    "# People are potentially not as worried as they should be\n",
    "\n",
    "with sns.color_palette('BuGn_r'):\n",
    "    sns.countplot(y='worried_malaria', data=risk)"
   ]
  },
  {
   "cell_type": "code",
   "execution_count": null,
   "metadata": {
    "collapsed": false
   },
   "outputs": [],
   "source": []
  },
  {
   "cell_type": "code",
   "execution_count": null,
   "metadata": {
    "collapsed": false
   },
   "outputs": [],
   "source": [
    "\n",
    "smf.ols('ordinalize(worried_malaria) ~ risk_rf*ordinalize(education)', risk).fit().summary()"
   ]
  },
  {
   "cell_type": "code",
   "execution_count": null,
   "metadata": {
    "collapsed": false
   },
   "outputs": [],
   "source": [
    "smf.logit('integerize(under_net) ~ ordinalize(worried_malaria)', risk[risk.net_ownership]).fit().summary()"
   ]
  },
  {
   "cell_type": "code",
   "execution_count": null,
   "metadata": {
    "collapsed": false
   },
   "outputs": [],
   "source": [
    "# little correlation between worried and mean_malaria_2_week\n",
    "\n",
    "smf.ols('worried_malaria ~ kutcha*mean_malaria_2_week', risk.assign(worried_malaria = risk.worried_malaria.cat.codes)).fit().summary()"
   ]
  },
  {
   "cell_type": "code",
   "execution_count": null,
   "metadata": {
    "collapsed": false
   },
   "outputs": [],
   "source": [
    "dd.worried_malaria"
   ]
  },
  {
   "cell_type": "code",
   "execution_count": null,
   "metadata": {
    "collapsed": false
   },
   "outputs": [],
   "source": [
    "smf.ols('mean_malaria_5_year ~ high_risk', risk.assign(worried_malaria = risk.worried_malaria.cat.codes)).fit().summary()"
   ]
  },
  {
   "cell_type": "code",
   "execution_count": null,
   "metadata": {
    "collapsed": false
   },
   "outputs": [],
   "source": [
    "risk.groupby('high_risk_dist').worried_malaria.value_counts(normalize=True)"
   ]
  },
  {
   "cell_type": "code",
   "execution_count": null,
   "metadata": {
    "collapsed": false
   },
   "outputs": [],
   "source": [
    "dd.groupby('disthash').apply(lambda df: pd.Series({'not_worried': 1.5 - df.worried_malaria.cat.codes.mean(), 'malaria_now': df.malaria_now.mean()})).plot.scatter(x='not_worried', y='malaria_now')"
   ]
  },
  {
   "cell_type": "code",
   "execution_count": 864,
   "metadata": {
    "collapsed": false
   },
   "outputs": [
    {
     "data": {
      "text/plain": [
       "<matplotlib.axes._subplots.AxesSubplot at 0x7f81c5f0efd0>"
      ]
     },
     "execution_count": 864,
     "metadata": {},
     "output_type": "execute_result"
    },
    {
     "data": {
      "image/png": "[encoded data removed]",
      "text/plain": [
       "<Figure size 432x288 with 1 Axes>"
      ]
     },
     "metadata": {
      "needs_background": "light"
     },
     "output_type": "display_data"
    }
   ],
   "source": [
    "sns.regplot(x='worried', y='under_net', data=dd[(dd.disthash.isin(final_clusters)) & dd.net_ownership].groupby('disthash').apply(lambda df: pd.Series({'worried': df.worried_malaria.cat.codes.mean(), 'under_net': df.under_net.mean()})))"
   ]
  },
  {
   "cell_type": "code",
   "execution_count": null,
   "metadata": {
    "collapsed": false
   },
   "outputs": [],
   "source": [
    "sns.barplot(y='education', x='malaria_now', data=dd)"
   ]
  },
  {
   "cell_type": "code",
   "execution_count": null,
   "metadata": {
    "collapsed": false
   },
   "outputs": [],
   "source": [
    "sns.countplot(y='education', hue='worried_malaria', data=dd)"
   ]
  },
  {
   "cell_type": "code",
   "execution_count": 772,
   "metadata": {
    "collapsed": false
   },
   "outputs": [
    {
     "data": {
      "text/html": [
       "<div>\n",
       "<style scoped>\n",
       "    .dataframe tbody tr th:only-of-type {\n",
       "        vertical-align: middle;\n",
       "    }\n",
       "\n",
       "    .dataframe tbody tr th {\n",
       "        vertical-align: top;\n",
       "    }\n",
       "\n",
       "    .dataframe thead th {\n",
       "        text-align: right;\n",
       "    }\n",
       "</style>\n",
       "<table border=\"1\" class=\"dataframe\">\n",
       "  <thead>\n",
       "    <tr style=\"text-align: right;\">\n",
       "      <th></th>\n",
       "      <th>count</th>\n",
       "    </tr>\n",
       "    <tr>\n",
       "      <th>education</th>\n",
       "      <th></th>\n",
       "    </tr>\n",
       "  </thead>\n",
       "  <tbody>\n",
       "    <tr>\n",
       "      <th>Never attended school</th>\n",
       "      <td>0.039851</td>\n",
       "    </tr>\n",
       "    <tr>\n",
       "      <th>Primary</th>\n",
       "      <td>0.023821</td>\n",
       "    </tr>\n",
       "    <tr>\n",
       "      <th>Secondary</th>\n",
       "      <td>0.016226</td>\n",
       "    </tr>\n",
       "    <tr>\n",
       "      <th>University degree or higher</th>\n",
       "      <td>0.015638</td>\n",
       "    </tr>\n",
       "  </tbody>\n",
       "</table>\n",
       "</div>"
      ],
      "text/plain": [
       "                                count\n",
       "education                            \n",
       "Never attended school        0.039851\n",
       "Primary                      0.023821\n",
       "Secondary                    0.016226\n",
       "University degree or higher  0.015638"
      ]
     },
     "execution_count": 772,
     "metadata": {},
     "output_type": "execute_result"
    }
   ],
   "source": [
    "malaria_prob(dd.groupby('education'), 'malaria_now')"
   ]
  },
  {
   "cell_type": "code",
   "execution_count": 636,
   "metadata": {
    "collapsed": false
   },
   "outputs": [
    {
     "data": {
      "text/plain": [
       "worried_malaria\n",
       "Extremely worried     0.456867\n",
       "Worried               0.445308\n",
       "Somewhat worried      0.444504\n",
       "Not at all worried    0.447429\n",
       "Name: risk_rf, dtype: float64"
      ]
     },
     "execution_count": 636,
     "metadata": {},
     "output_type": "execute_result"
    }
   ],
   "source": [
    "risk.groupby('worried_malaria').risk_rf.mean()"
   ]
  },
  {
   "cell_type": "code",
   "execution_count": 637,
   "metadata": {
    "collapsed": false
   },
   "outputs": [
    {
     "data": {
      "text/plain": [
       "worried_malaria\n",
       "Extremely worried     0.018330\n",
       "Worried               0.017148\n",
       "Somewhat worried      0.017071\n",
       "Not at all worried    0.017544\n",
       "Name: risk_log, dtype: float64"
      ]
     },
     "execution_count": 637,
     "metadata": {},
     "output_type": "execute_result"
    }
   ],
   "source": [
    "risk.groupby('worried_malaria').risk_log.mean()"
   ]
  },
  {
   "cell_type": "code",
   "execution_count": 537,
   "metadata": {
    "collapsed": false
   },
   "outputs": [
    {
     "data": {
      "text/plain": [
       "under_net\n",
       "False    0.437084\n",
       "True     0.446863\n",
       "Name: risk_rf, dtype: float64"
      ]
     },
     "execution_count": 537,
     "metadata": {},
     "output_type": "execute_result"
    }
   ],
   "source": [
    "\n",
    "\n",
    "risk.groupby('under_net').risk_rf.mean()"
   ]
  },
  {
   "cell_type": "code",
   "execution_count": 544,
   "metadata": {
    "collapsed": false
   },
   "outputs": [
    {
     "data": {
      "text/plain": [
       "under_net\n",
       "False    0.016907\n",
       "True     0.018148\n",
       "Name: risk_log, dtype: float64"
      ]
     },
     "execution_count": 544,
     "metadata": {},
     "output_type": "execute_result"
    }
   ],
   "source": [
    "\n",
    "risk.groupby('under_net').risk_log.mean()"
   ]
  },
  {
   "cell_type": "code",
   "execution_count": 558,
   "metadata": {
    "collapsed": false
   },
   "outputs": [
    {
     "data": {
      "text/plain": [
       "[(0.5, 0.8237569617822164)]"
      ]
     },
     "execution_count": 558,
     "metadata": {},
     "output_type": "execute_result"
    },
    {
     "data": {
      "image/png": "[encoded data removed]",
      "text/plain": [
       "<Figure size 432x288 with 1 Axes>"
      ]
     },
     "metadata": {
      "needs_background": "light"
     },
     "output_type": "display_data"
    }
   ],
   "source": [
    "ax = sns.barplot(x='net_ownership', y='home', data=dd, color=base_color)\n",
    "ax.set(xlim=(.5, None))"
   ]
  },
  {
   "cell_type": "code",
   "execution_count": 546,
   "metadata": {
    "collapsed": false
   },
   "outputs": [
    {
     "data": {
      "text/plain": [
       "under_net\n",
       "False    0.016898\n",
       "True     0.018008\n",
       "Name: risk_log, dtype: float64"
      ]
     },
     "execution_count": 546,
     "metadata": {},
     "output_type": "execute_result"
    }
   ],
   "source": [
    "risk[risk.net_ownership].groupby('under_net').risk_log.mean()"
   ]
  },
  {
   "cell_type": "code",
   "execution_count": 547,
   "metadata": {
    "collapsed": false
   },
   "outputs": [
    {
     "data": {
      "text/plain": [
       "longsleeves\n",
       "No     0.017544\n",
       "Yes    0.017625\n",
       "Name: risk_log, dtype: float64"
      ]
     },
     "execution_count": 547,
     "metadata": {},
     "output_type": "execute_result"
    }
   ],
   "source": [
    "risk.groupby('longsleeves').risk_log.mean()"
   ]
  },
  {
   "cell_type": "code",
   "execution_count": 540,
   "metadata": {
    "collapsed": false
   },
   "outputs": [
    {
     "data": {
      "text/plain": [
       "net_ownership\n",
       "False    0.017320\n",
       "True     0.017682\n",
       "Name: risk_log, dtype: float64"
      ]
     },
     "execution_count": 540,
     "metadata": {},
     "output_type": "execute_result"
    }
   ],
   "source": [
    "risk.groupby('net_ownership').risk_log.mean()"
   ]
  },
  {
   "cell_type": "code",
   "execution_count": 448,
   "metadata": {
    "collapsed": false
   },
   "outputs": [],
   "source": [
    "dist_dd = dd.groupby('disthash').head(1).reset_index(drop=True)"
   ]
  },
  {
   "cell_type": "code",
   "execution_count": null,
   "metadata": {
    "collapsed": false
   },
   "outputs": [],
   "source": [
    "smf.ols('mean_malaria_2_week ~ mean_malaria_5_year - 1', dist_dd).fit().summary()"
   ]
  },
  {
   "cell_type": "code",
   "execution_count": 433,
   "metadata": {
    "collapsed": false
   },
   "outputs": [],
   "source": [
    "y = smf.ols('mean_malaria_2_week ~ mean_malaria_5_year - 1', dist_dd).fit().resid"
   ]
  },
  {
   "cell_type": "code",
   "execution_count": null,
   "metadata": {
    "collapsed": false
   },
   "outputs": [],
   "source": [
    "dist_dd.mean_net_ownership"
   ]
  },
  {
   "cell_type": "code",
   "execution_count": 492,
   "metadata": {
    "collapsed": false
   },
   "outputs": [
    {
     "data": {
      "text/html": [
       "<div>\n",
       "<style scoped>\n",
       "    .dataframe tbody tr th:only-of-type {\n",
       "        vertical-align: middle;\n",
       "    }\n",
       "\n",
       "    .dataframe tbody tr th {\n",
       "        vertical-align: top;\n",
       "    }\n",
       "\n",
       "    .dataframe thead th {\n",
       "        text-align: right;\n",
       "    }\n",
       "</style>\n",
       "<table border=\"1\" class=\"dataframe\">\n",
       "  <thead>\n",
       "    <tr style=\"text-align: right;\">\n",
       "      <th></th>\n",
       "      <th>count</th>\n",
       "    </tr>\n",
       "    <tr>\n",
       "      <th>worried_malaria</th>\n",
       "      <th></th>\n",
       "    </tr>\n",
       "  </thead>\n",
       "  <tbody>\n",
       "    <tr>\n",
       "      <th>Extremely worried</th>\n",
       "      <td>0.203999</td>\n",
       "    </tr>\n",
       "    <tr>\n",
       "      <th>Worried</th>\n",
       "      <td>0.222588</td>\n",
       "    </tr>\n",
       "    <tr>\n",
       "      <th>Somewhat worried</th>\n",
       "      <td>0.251194</td>\n",
       "    </tr>\n",
       "    <tr>\n",
       "      <th>Not at all worried</th>\n",
       "      <td>0.162203</td>\n",
       "    </tr>\n",
       "  </tbody>\n",
       "</table>\n",
       "</div>"
      ],
      "text/plain": [
       "                       count\n",
       "worried_malaria             \n",
       "Extremely worried   0.203999\n",
       "Worried             0.222588\n",
       "Somewhat worried    0.251194\n",
       "Not at all worried  0.162203"
      ]
     },
     "execution_count": 492,
     "metadata": {},
     "output_type": "execute_result"
    }
   ],
   "source": [
    "malaria_prob(dd.groupby('worried_malaria'), 'malaria')"
   ]
  },
  {
   "cell_type": "code",
   "execution_count": 496,
   "metadata": {
    "collapsed": false
   },
   "outputs": [
    {
     "data": {
      "text/html": [
       "<div>\n",
       "<style scoped>\n",
       "    .dataframe tbody tr th:only-of-type {\n",
       "        vertical-align: middle;\n",
       "    }\n",
       "\n",
       "    .dataframe tbody tr th {\n",
       "        vertical-align: top;\n",
       "    }\n",
       "\n",
       "    .dataframe thead th {\n",
       "        text-align: right;\n",
       "    }\n",
       "</style>\n",
       "<table border=\"1\" class=\"dataframe\">\n",
       "  <thead>\n",
       "    <tr style=\"text-align: right;\">\n",
       "      <th></th>\n",
       "      <th>count</th>\n",
       "    </tr>\n",
       "    <tr>\n",
       "      <th>worried_malaria</th>\n",
       "      <th></th>\n",
       "    </tr>\n",
       "  </thead>\n",
       "  <tbody>\n",
       "    <tr>\n",
       "      <th>Extremely worried</th>\n",
       "      <td>0.024888</td>\n",
       "    </tr>\n",
       "    <tr>\n",
       "      <th>Worried</th>\n",
       "      <td>0.022661</td>\n",
       "    </tr>\n",
       "    <tr>\n",
       "      <th>Somewhat worried</th>\n",
       "      <td>0.019387</td>\n",
       "    </tr>\n",
       "    <tr>\n",
       "      <th>Not at all worried</th>\n",
       "      <td>0.011648</td>\n",
       "    </tr>\n",
       "  </tbody>\n",
       "</table>\n",
       "</div>"
      ],
      "text/plain": [
       "                       count\n",
       "worried_malaria             \n",
       "Extremely worried   0.024888\n",
       "Worried             0.022661\n",
       "Somewhat worried    0.019387\n",
       "Not at all worried  0.011648"
      ]
     },
     "execution_count": 496,
     "metadata": {},
     "output_type": "execute_result"
    }
   ],
   "source": [
    "malaria_prob(dd.groupby('worried_malaria'), 'malaria_now')"
   ]
  },
  {
   "cell_type": "code",
   "execution_count": 488,
   "metadata": {
    "collapsed": false
   },
   "outputs": [
    {
     "data": {
      "text/plain": [
       "<matplotlib.axes._subplots.AxesSubplot at 0x7f81d09d9580>"
      ]
     },
     "execution_count": 488,
     "metadata": {},
     "output_type": "execute_result"
    },
    {
     "data": {
      "image/png": "[encoded data removed]",
      "text/plain": [
       "<Figure size 432x288 with 1 Axes>"
      ]
     },
     "metadata": {
      "needs_background": "light"
     },
     "output_type": "display_data"
    }
   ],
   "source": [
    "sns.scatterplot(y=dist_dd.mean_net_ownership, x=dist_dd.mean_malaria_5_year, color=base_color)"
   ]
  },
  {
   "cell_type": "code",
   "execution_count": 721,
   "metadata": {
    "collapsed": false
   },
   "outputs": [
    {
     "data": {
      "text/plain": [
       "under_net\n",
       "False    0.463426\n",
       "True     0.463493\n",
       "Name: risk_rf, dtype: float64"
      ]
     },
     "execution_count": 721,
     "metadata": {},
     "output_type": "execute_result"
    }
   ],
   "source": [
    "risk.groupby(['under_net']).risk_rf.mean()"
   ]
  },
  {
   "cell_type": "code",
   "execution_count": 723,
   "metadata": {
    "collapsed": false
   },
   "outputs": [
    {
     "data": {
      "text/plain": [
       "home                                     dist_risk     \n",
       "Kutcha (made of mud, tin, straw)         Upper Quartile    0.462676\n",
       "                                         Interquartile     0.468106\n",
       "                                         Lower Quartile    0.462302\n",
       "Semi-pucca                               Upper Quartile    0.464711\n",
       "                                         Interquartile     0.462761\n",
       "                                         Lower Quartile    0.460111\n",
       "Pucca (have cement/brick wall and floor  Upper Quartile    0.463952\n",
       "                                         Interquartile     0.461663\n",
       "                                         Lower Quartile    0.464765\n",
       "Name: risk_rf, dtype: float64"
      ]
     },
     "execution_count": 723,
     "metadata": {},
     "output_type": "execute_result"
    }
   ],
   "source": [
    "risk.groupby(['home', 'dist_risk']).risk_rf.mean()"
   ]
  },
  {
   "cell_type": "code",
   "execution_count": 1378,
   "metadata": {
    "collapsed": false
   },
   "outputs": [
    {
     "name": "stdout",
     "output_type": "stream",
     "text": [
      "0.4691648752336979\n"
     ]
    },
    {
     "data": {
      "text/plain": [
       "<AxesSubplot:xlabel='malaria_risk', ylabel='under_net'>"
      ]
     },
     "execution_count": 1378,
     "metadata": {},
     "output_type": "execute_result"
    },
    {
     "data": {
      "image/png": "[encoded data removed]",
      "text/plain": [
       "<Figure size 700x300 with 1 Axes>"
      ]
     },
     "metadata": {},
     "output_type": "display_data"
    }
   ],
   "source": [
    "var = 'under_net'\n",
    "\n",
    "dat = dd[dd.net_ownership].groupby(['home', 'dist_risk', 'dist_medical']).apply(lambda df: pd.Series({'malaria_risk': df.malaria_now.mean(), \n",
    "                                                                                                      var: df[var].mean()})).reset_index()\n",
    "\n",
    "\n",
    "print(dat.malaria_risk.corr(dat[var]))\n",
    "sns.scatterplot(x='malaria_risk', y=var, data=dat, color=base_color)"
   ]
  },
  {
   "cell_type": "code",
   "execution_count": null,
   "metadata": {
    "collapsed": false
   },
   "outputs": [],
   "source": [
    "with sns.color_palette('Set2'):\n",
    "    fig, ax = plt.subplots(figsize=(10, 4))\n",
    "    sns.barplot(x='net_ownership', y='dist_risk', hue='occupation', data=risk, ax=ax)\n",
    "    ax.set_xlabel('Net Ownership')\n",
    "    ax.set_ylabel('District Malaria Incidence')"
   ]
  },
  {
   "cell_type": "code",
   "execution_count": 1052,
   "metadata": {
    "collapsed": false
   },
   "outputs": [],
   "source": [
    "from sklearn.cluster import DBSCAN\n",
    "\n",
    "dat = dd[['household', 'dist_risk', 'net_ownership', 'ac', 'dist_medical']].copy()\n",
    "dat['caste']  = 1\n",
    "dat.loc[dd.lower_caste == True, 'caste'] = 0\n",
    "\n",
    "ordenals = ['dist_risk', 'dist_medical']\n",
    "\n",
    "for col in ordenals:\n",
    "    dat[col] = dat[col].cat.codes"
   ]
  },
  {
   "cell_type": "code",
   "execution_count": 29,
   "metadata": {
    "collapsed": false
   },
   "outputs": [],
   "source": []
  },
  {
   "cell_type": "code",
   "execution_count": 31,
   "metadata": {
    "collapsed": false
   },
   "outputs": [],
   "source": [
    "from sklearn.tree import DecisionTreeClassifier, DecisionTreeRegressor\n",
    "from dtreeviz.trees import *\n",
    "\n",
    "cls = DecisionTreeClassifier(max_depth=5, min_samples_leaf=100, min_impurity_decrease=.00005)\n",
    "X = dd.copy()\n",
    "\n",
    "y = X['net_ownership']\n",
    "X = X[['household', 'home', 'ac', 'lower_caste', 'dist_risk', 'student', 'male']]\n",
    "X = X.dropna()\n",
    "y = y[X.index]\n",
    "\n",
    "ordenals = ['home', 'dist_risk']\n",
    "for col in ordenals:\n",
    "    X[col] = X[col].cat.codes\n",
    "\n",
    "cls.fit(X, y)\n",
    "\n",
    "\n",
    "viz = dtreeviz(cls,\n",
    "               X, \n",
    "               y,\n",
    "               target_name='owns net',\n",
    "               feature_names=X.columns, \n",
    "               class_names=['no', 'yes']\n",
    "              )  "
   ]
  },
  {
   "cell_type": "code",
   "execution_count": 36,
   "metadata": {
    "collapsed": false
   },
   "outputs": [
    {
     "data": {
      "text/plain": [
       "31       False\n",
       "32       False\n",
       "33        True\n",
       "34       False\n",
       "35        True\n",
       "         ...  \n",
       "21505    False\n",
       "21506    False\n",
       "21507    False\n",
       "21508     True\n",
       "21509     True\n",
       "Name: lives_alone, Length: 20288, dtype: bool"
      ]
     },
     "execution_count": 36,
     "metadata": {},
     "output_type": "execute_result"
    }
   ],
   "source": [
    "dd.lives_alone"
   ]
  },
  {
   "cell_type": "code",
   "execution_count": null,
   "metadata": {
    "collapsed": false
   },
   "outputs": [],
   "source": [
    "dd.groupby(['lives_alone']).male.value_counts(normalize=True)"
   ]
  },
  {
   "cell_type": "code",
   "execution_count": null,
   "metadata": {
    "collapsed": false
   },
   "outputs": [],
   "source": [
    "dd.groupby(['lives_alone', 'student']).male.value_counts(normalize=True)"
   ]
  },
  {
   "cell_type": "code",
   "execution_count": null,
   "metadata": {
    "collapsed": false
   },
   "outputs": [],
   "source": [
    "dd.groupby(['lives_alone', 'male']).net_ownership.value_counts()"
   ]
  },
  {
   "cell_type": "code",
   "execution_count": 33,
   "metadata": {
    "collapsed": false
   },
   "outputs": [
    {
     "data": {
      "text/plain": [
       "0.9225157728706624"
      ]
     },
     "execution_count": 33,
     "metadata": {},
     "output_type": "execute_result"
    }
   ],
   "source": [
    "dd.male.mean()"
   ]
  },
  {
   "cell_type": "code",
   "execution_count": null,
   "metadata": {
    "collapsed": false
   },
   "outputs": [],
   "source": [
    "print(f'N = {X.shape[0]}')\n",
    "\n",
    "viz"
   ]
  },
  {
   "cell_type": "code",
   "execution_count": null,
   "metadata": {
    "collapsed": false
   },
   "outputs": [],
   "source": []
  },
  {
   "cell_type": "code",
   "execution_count": 46,
   "metadata": {
    "collapsed": false
   },
   "outputs": [],
   "source": [
    "from sklearn.tree import DecisionTreeClassifier\n",
    "from dtreeviz.trees import *\n",
    "\n",
    "\n",
    "cls = DecisionTreeClassifier(max_depth=5, min_samples_leaf=100, min_impurity_decrease=.0001)\n",
    "X = dd[(dd.net_ownership == True) & (dd.mean_malaria_now > dd.mean_malaria_now.quantile(0.5))].copy()\n",
    "\n",
    "y = X['under_net']\n",
    "X = X[['household', 'home', 'ac', 'lower_caste', 'true_age', 'student', 'male']]\n",
    "X = X.dropna()\n",
    "y = y[X.index]\n",
    "\n",
    "ordenals = ['home']\n",
    "for col in ordenals:\n",
    "    X[col] = X[col].cat.codes\n",
    "\n",
    "cls.fit(X, y)\n",
    "\n",
    "\n",
    "viz = dtreeviz(cls,\n",
    "               X, \n",
    "               y,\n",
    "               target_name='under_net',\n",
    "               feature_names=X.columns, \n",
    "               class_names=['no net', 'slept with net']\n",
    "              )  "
   ]
  },
  {
   "cell_type": "code",
   "execution_count": null,
   "metadata": {
    "collapsed": false
   },
   "outputs": [],
   "source": [
    "print(f'N = {X.shape[0]}')\n",
    "viz"
   ]
  },
  {
   "cell_type": "code",
   "execution_count": 1535,
   "metadata": {
    "collapsed": false
   },
   "outputs": [
    {
     "data": {
      "text/plain": [
       "2079"
      ]
     },
     "execution_count": 1535,
     "metadata": {},
     "output_type": "execute_result"
    }
   ],
   "source": [
    "dat = dd[(dd.net_ownership) & (dd.under_net == False) & (dd.mean_malaria_now > dd.mean_malaria_now.quantile(0.5))].reset_index(drop=True)\n",
    "\n",
    "N = dat.shape[0]\n",
    "N"
   ]
  },
  {
   "cell_type": "code",
   "execution_count": 1536,
   "metadata": {
    "collapsed": false
   },
   "outputs": [
    {
     "data": {
      "text/plain": [
       "0.30822510822510824"
      ]
     },
     "execution_count": 1536,
     "metadata": {},
     "output_type": "execute_result"
    }
   ],
   "source": [
    ".9 * dat[(dat.lives_alone) & (dat.ac == False) & (~dat.kutcha)].shape[0] / N"
   ]
  },
  {
   "cell_type": "code",
   "execution_count": 1537,
   "metadata": {
    "collapsed": false
   },
   "outputs": [
    {
     "data": {
      "text/plain": [
       "17.0"
      ]
     },
     "execution_count": 1537,
     "metadata": {},
     "output_type": "execute_result"
    }
   ],
   "source": [
    "dat[(dat.lives_alone) & (dat.ac == False) & (~dat.kutcha)].true_age.quantile(.05)"
   ]
  },
  {
   "cell_type": "code",
   "execution_count": 1538,
   "metadata": {
    "collapsed": false
   },
   "outputs": [
    {
     "data": {
      "text/plain": [
       "37.0"
      ]
     },
     "execution_count": 1538,
     "metadata": {},
     "output_type": "execute_result"
    }
   ],
   "source": [
    "dat[(dat.lives_alone) & (dat.ac == False) & (~dat.kutcha)].true_age.quantile(.9)"
   ]
  },
  {
   "cell_type": "code",
   "execution_count": null,
   "metadata": {
    "collapsed": false
   },
   "outputs": [
    {
     "data": {
      "text/plain": [
       "Pucca (have cement/brick wall and floor    0.492514\n",
       "Semi-pucca                                 0.258471\n",
       "Kutcha (made of mud, tin, straw)           0.249015\n",
       "Name: home, dtype: float64"
      ]
     },
     "execution_count": 1425,
     "metadata": {},
     "output_type": "execute_result"
    }
   ],
   "source": [
    "dd.home.value_counts(normalize=True)"
   ]
  },
  {
   "cell_type": "code",
   "execution_count": 1424,
   "metadata": {
    "collapsed": false
   },
   "outputs": [
    {
     "data": {
      "text/plain": [
       "Pucca (have cement/brick wall and floor    0.545151\n",
       "Semi-pucca                                 0.248606\n",
       "Kutcha (made of mud, tin, straw)           0.206243\n",
       "Name: home, dtype: float64"
      ]
     },
     "execution_count": 1424,
     "metadata": {},
     "output_type": "execute_result"
    }
   ],
   "source": [
    "dat[(dat.lives_alone) & (dat.ac == False)].home.value_counts(normalize=True)"
   ]
  },
  {
   "cell_type": "code",
   "execution_count": 1418,
   "metadata": {
    "collapsed": false
   },
   "outputs": [
    {
     "data": {
      "text/plain": [
       "556"
      ]
     },
     "execution_count": 1418,
     "metadata": {},
     "output_type": "execute_result"
    }
   ],
   "source": [
    "dat[(~dat.lives_alone) & (dat.ac == False) & (dat.lower_caste)].shape[0]"
   ]
  },
  {
   "cell_type": "code",
   "execution_count": 1436,
   "metadata": {
    "collapsed": false
   },
   "outputs": [
    {
     "data": {
      "text/plain": [
       "0.2674362674362674"
      ]
     },
     "execution_count": 1436,
     "metadata": {},
     "output_type": "execute_result"
    }
   ],
   "source": [
    "dat[(~dat.lives_alone) & (dat.ac == False) & (dat.lower_caste)].shape[0] / N"
   ]
  },
  {
   "cell_type": "code",
   "execution_count": 1442,
   "metadata": {
    "collapsed": false
   },
   "outputs": [
    {
     "data": {
      "text/plain": [
       "0.37373737373737376"
      ]
     },
     "execution_count": 1442,
     "metadata": {},
     "output_type": "execute_result"
    }
   ],
   "source": [
    "dat[(~dat.lives_alone) & (dat.ac == False) & (~dat.pucca | dat.lower_caste)].shape[0] / N"
   ]
  },
  {
   "cell_type": "code",
   "execution_count": 1476,
   "metadata": {
    "collapsed": false
   },
   "outputs": [
    {
     "data": {
      "text/plain": [
       "36.0"
      ]
     },
     "execution_count": 1476,
     "metadata": {},
     "output_type": "execute_result"
    }
   ],
   "source": [
    "dd.true_age.quantile(.9)"
   ]
  },
  {
   "cell_type": "code",
   "execution_count": 1539,
   "metadata": {
    "collapsed": false
   },
   "outputs": [
    {
     "data": {
      "text/plain": [
       "0.28744588744588745"
      ]
     },
     "execution_count": 1539,
     "metadata": {},
     "output_type": "execute_result"
    }
   ],
   "source": [
    ".9 * dat[(~dat.lives_alone) & (dat.ac == False) & (dat.kutcha | dat.lower_caste)].shape[0] / N"
   ]
  },
  {
   "cell_type": "code",
   "execution_count": 1552,
   "metadata": {
    "collapsed": false
   },
   "outputs": [
    {
     "data": {
      "text/plain": [
       "0.11951788491446345"
      ]
     },
     "execution_count": 1552,
     "metadata": {},
     "output_type": "execute_result"
    }
   ],
   "source": [
    "dd[~dd.lives_alone].large_family.mean()"
   ]
  },
  {
   "cell_type": "code",
   "execution_count": 1550,
   "metadata": {
    "collapsed": false
   },
   "outputs": [
    {
     "data": {
      "text/plain": [
       "0.05555555555555555"
      ]
     },
     "execution_count": 1550,
     "metadata": {},
     "output_type": "execute_result"
    }
   ],
   "source": [
    "dat[(~dat.lives_alone)].large_family.mean()"
   ]
  },
  {
   "cell_type": "code",
   "execution_count": 1546,
   "metadata": {
    "collapsed": false
   },
   "outputs": [
    {
     "data": {
      "text/plain": [
       "0.058734939759036146"
      ]
     },
     "execution_count": 1546,
     "metadata": {},
     "output_type": "execute_result"
    }
   ],
   "source": [
    "dat[(~dat.lives_alone) & (dat.ac == False) & (dat.kutcha | dat.lower_caste)].large_family.mean()"
   ]
  },
  {
   "cell_type": "code",
   "execution_count": 1553,
   "metadata": {
    "collapsed": false
   },
   "outputs": [
    {
     "data": {
      "text/plain": [
       "0.27056277056277056"
      ]
     },
     "execution_count": 1553,
     "metadata": {},
     "output_type": "execute_result"
    }
   ],
   "source": [
    ".9 * dat[(~dat.lives_alone) & (dat.ac == False) & (dat.kutcha | dat.lower_caste) & (~dat.large_family)].shape[0] / N"
   ]
  },
  {
   "cell_type": "code",
   "execution_count": 1463,
   "metadata": {
    "collapsed": false
   },
   "outputs": [
    {
     "data": {
      "text/plain": [
       "18.0"
      ]
     },
     "execution_count": 1463,
     "metadata": {},
     "output_type": "execute_result"
    }
   ],
   "source": [
    "dat[(~dat.lives_alone) & (dat.ac == False) & (dat.kutcha | dat.lower_caste)].true_age.quantile(.1)"
   ]
  },
  {
   "cell_type": "code",
   "execution_count": 1477,
   "metadata": {
    "collapsed": false
   },
   "outputs": [
    {
     "data": {
      "text/plain": [
       "29.0"
      ]
     },
     "execution_count": 1477,
     "metadata": {},
     "output_type": "execute_result"
    }
   ],
   "source": [
    "dat[(~dat.lives_alone) & (dat.ac == False) & (dat.kutcha)].true_age.quantile(.9)"
   ]
  },
  {
   "cell_type": "code",
   "execution_count": 1444,
   "metadata": {
    "collapsed": false
   },
   "outputs": [
    {
     "data": {
      "text/plain": [
       "0.16354016354016354"
      ]
     },
     "execution_count": 1444,
     "metadata": {},
     "output_type": "execute_result"
    }
   ],
   "source": [
    "dat[(~dat.lives_alone) & (dat.ac == False) & (dat.lower_caste) & (~dat.pucca)].shape[0] / N"
   ]
  },
  {
   "cell_type": "code",
   "execution_count": 1422,
   "metadata": {
    "collapsed": false
   },
   "outputs": [
    {
     "data": {
      "text/plain": [
       "Pucca (have cement/brick wall and floor    461\n",
       "Semi-pucca                                 312\n",
       "Kutcha (made of mud, tin, straw)           289\n",
       "Name: home, dtype: int64"
      ]
     },
     "execution_count": 1422,
     "metadata": {},
     "output_type": "execute_result"
    }
   ],
   "source": [
    "dat[(~dat.lives_alone)].home.value_counts()"
   ]
  },
  {
   "cell_type": "code",
   "execution_count": 1390,
   "metadata": {
    "collapsed": false
   },
   "outputs": [
    {
     "data": {
      "text/plain": [
       "1017"
      ]
     },
     "execution_count": 1390,
     "metadata": {},
     "output_type": "execute_result"
    }
   ],
   "source": [
    "dat[(dat.lives_alone)].shape[0]"
   ]
  },
  {
   "cell_type": "code",
   "execution_count": null,
   "metadata": {
    "collapsed": false
   },
   "outputs": [],
   "source": [
    "dat[(dat.lives_alone)].shape[0]"
   ]
  },
  {
   "cell_type": "code",
   "execution_count": 1394,
   "metadata": {
    "collapsed": false
   },
   "outputs": [
    {
     "data": {
      "text/plain": [
       "lives_alone  large_family  home                                     lower_caste\n",
       "True         False         Pucca (have cement/brick wall and floor  True           255.0\n",
       "                                                                    False          234.0\n",
       "False        False         Pucca (have cement/brick wall and floor  True           202.0\n",
       "                                                                    False          181.0\n",
       "                           Semi-pucca                               True           165.0\n",
       "                           Kutcha (made of mud, tin, straw)         True           156.0\n",
       "True         False         Semi-pucca                               True           136.0\n",
       "False        False         Semi-pucca                               False          109.0\n",
       "True         False         Kutcha (made of mud, tin, straw)         True           107.0\n",
       "False        False         Kutcha (made of mud, tin, straw)         False          102.0\n",
       "True         False         Semi-pucca                               False           87.0\n",
       "                           Kutcha (made of mud, tin, straw)         False           78.0\n",
       "False        True          Pucca (have cement/brick wall and floor  True            14.0\n",
       "                           Semi-pucca                               True            12.0\n",
       "                           Pucca (have cement/brick wall and floor  False           12.0\n",
       "                           Kutcha (made of mud, tin, straw)         True             7.0\n",
       "                                                                    False            6.0\n",
       "                           Semi-pucca                               False            4.0\n",
       "True         True          Kutcha (made of mud, tin, straw)         False            NaN\n",
       "                                                                    True             NaN\n",
       "                           Semi-pucca                               False            NaN\n",
       "                                                                    True             NaN\n",
       "                           Pucca (have cement/brick wall and floor  False            NaN\n",
       "                                                                    True             NaN\n",
       "Name: userid, dtype: float64"
      ]
     },
     "metadata": {},
     "output_type": "display_data"
    }
   ],
   "source": [
    "with pd.option_context('display.max_rows', None, 'display.expand_frame_repr', False):\n",
    "    display(dd[(dd.ac == False) & (dd.net_ownership) & (dd.under_net == False) & (dd.mean_malaria_now > dd.mean_malaria_now.quantile(0.5))].groupby(['lives_alone', 'large_family', 'home', 'lower_caste']).count().userid.sort_values(ascending=False))"
   ]
  },
  {
   "cell_type": "code",
   "execution_count": null,
   "metadata": {
    "collapsed": false
   },
   "outputs": [],
   "source": [
    "with sns.color_palette(sns.cubehelix_palette(3, start=1.25, rot=.0, dark=0.8, light=.35)):\n",
    "    sns.barplot(y='dist_risk', hue='home', x='under_net', data= dd[dd.net_ownership])"
   ]
  },
  {
   "cell_type": "code",
   "execution_count": 1520,
   "metadata": {
    "collapsed": false
   },
   "outputs": [],
   "source": [
    "N = dd[~dd.net_ownership].shape[0]"
   ]
  },
  {
   "cell_type": "code",
   "execution_count": 1521,
   "metadata": {
    "collapsed": false
   },
   "outputs": [
    {
     "data": {
      "text/plain": [
       "48.0"
      ]
     },
     "execution_count": 1521,
     "metadata": {},
     "output_type": "execute_result"
    }
   ],
   "source": [
    "dd[~dd.net_ownership & (dd.lives_alone == True) & (dd.student == False) & (dd.ac == False)].true_age.quantile(.95)"
   ]
  },
  {
   "cell_type": "code",
   "execution_count": 1492,
   "metadata": {
    "collapsed": false
   },
   "outputs": [
    {
     "data": {
      "text/plain": [
       "Male      0.923614\n",
       "Female    0.072971\n",
       "Other     0.003415\n",
       "Name: gender, dtype: float64"
      ]
     },
     "execution_count": 1492,
     "metadata": {},
     "output_type": "execute_result"
    }
   ],
   "source": [
    "dd.gender.value_counts(normalize=True)"
   ]
  },
  {
   "cell_type": "code",
   "execution_count": 1523,
   "metadata": {
    "collapsed": false
   },
   "outputs": [
    {
     "data": {
      "text/plain": [
       "0.4472804190169219"
      ]
     },
     "execution_count": 1523,
     "metadata": {},
     "output_type": "execute_result"
    }
   ],
   "source": [
    ".9 * dd[~dd.net_ownership & (dd.lives_alone == True) & (dd.student == False) & (dd.ac == False) & (dd.gender)].shape[0] / N"
   ]
  },
  {
   "cell_type": "code",
   "execution_count": 1524,
   "metadata": {
    "collapsed": false
   },
   "outputs": [
    {
     "data": {
      "text/plain": [
       "0.2127316680096696"
      ]
     },
     "execution_count": 1524,
     "metadata": {},
     "output_type": "execute_result"
    }
   ],
   "source": [
    "dd[~dd.net_ownership & (dd.lives_alone == False) & (dd.large_family == False) & (dd.ac == False)].shape[0] / N"
   ]
  },
  {
   "cell_type": "code",
   "execution_count": 1525,
   "metadata": {
    "collapsed": false
   },
   "outputs": [
    {
     "data": {
      "text/plain": [
       "0.13215149073327961"
      ]
     },
     "execution_count": 1525,
     "metadata": {},
     "output_type": "execute_result"
    }
   ],
   "source": [
    "dd[~dd.net_ownership &  (dd.lives_alone == False) & (dd.ac == False) & (dd.large_family == False) & ((~dd.pucca))].shape[0] / N"
   ]
  },
  {
   "cell_type": "code",
   "execution_count": 1526,
   "metadata": {
    "collapsed": false
   },
   "outputs": [
    {
     "data": {
      "text/plain": [
       "0.11059629331184528"
      ]
     },
     "execution_count": 1526,
     "metadata": {},
     "output_type": "execute_result"
    }
   ],
   "source": [
    "dd[~dd.net_ownership &  (dd.lives_alone == False) & (dd.ac == False) & (dd.large_family == False) & ((dd.lower_caste))].shape[0] / N"
   ]
  },
  {
   "cell_type": "code",
   "execution_count": null,
   "metadata": {
    "collapsed": false
   },
   "outputs": [],
   "source": [
    "dd.home.value_counts(normalize=True)"
   ]
  },
  {
   "cell_type": "code",
   "execution_count": null,
   "metadata": {
    "collapsed": false
   },
   "outputs": [],
   "source": [
    "dd[~dd.net_ownership &  (dd.lives_alone == False) & (dd.ac == False) & (dd.large_family == False) & (~(dd.lower_caste))].home.value_counts(normalize=True)"
   ]
  },
  {
   "cell_type": "code",
   "execution_count": 1533,
   "metadata": {
    "collapsed": false
   },
   "outputs": [
    {
     "data": {
      "text/plain": [
       "16.0"
      ]
     },
     "execution_count": 1533,
     "metadata": {},
     "output_type": "execute_result"
    }
   ],
   "source": [
    "dd[~dd.net_ownership &  (dd.lives_alone == False) & (dd.ac == False) & (dd.large_family == False) & ((dd.kutcha) | (dd.lower_caste))].true_age.quantile(.05)"
   ]
  },
  {
   "cell_type": "code",
   "execution_count": 1534,
   "metadata": {
    "collapsed": false
   },
   "outputs": [
    {
     "data": {
      "text/plain": [
       "0.14645447219983884"
      ]
     },
     "execution_count": 1534,
     "metadata": {},
     "output_type": "execute_result"
    }
   ],
   "source": [
    "dd[~dd.net_ownership &  (dd.lives_alone == False) & (dd.ac == False) & (dd.large_family == False) & ((dd.kutcha) | (dd.lower_caste))].shape[0] / N"
   ]
  },
  {
   "cell_type": "code",
   "execution_count": null,
   "metadata": {
    "collapsed": false
   },
   "outputs": [
    {
     "data": {
      "text/plain": [
       "0.2127316680096696"
      ]
     },
     "execution_count": 1500,
     "metadata": {},
     "output_type": "execute_result"
    }
   ],
   "source": [
    "dd[~dd.net_ownership &  (dd.lives_alone == False) & (dd.ac == False) & (dd.large_family == False)].shape[0] / N"
   ]
  },
  {
   "cell_type": "code",
   "execution_count": null,
   "metadata": {
    "collapsed": false
   },
   "outputs": [],
   "source": [
    "dd[~dd.net_ownership & (dd.lives_alone == False) & (dd.ac == False) & (dd.household < 10)].household.value_counts()"
   ]
  },
  {
   "cell_type": "code",
   "execution_count": null,
   "metadata": {
    "collapsed": false
   },
   "outputs": [],
   "source": [
    "with pd.option_context('display.max_rows', None, 'display.expand_frame_repr', False):\n",
    "    display(dd[~dd.net_ownership].groupby(['lives_alone', 'large_family', 'home', 'ac', 'lower_caste', 'student']).count().userid.sort_values(ascending=False))"
   ]
  },
  {
   "cell_type": "code",
   "execution_count": null,
   "metadata": {
    "collapsed": false
   },
   "outputs": [],
   "source": [
    "dd[(dd.under_net == False) & (dd.dist_risk == 'Upper Quartile')]"
   ]
  },
  {
   "cell_type": "code",
   "execution_count": null,
   "metadata": {
    "collapsed": false
   },
   "outputs": [],
   "source": [
    "# 33% report living alone\n",
    "sns.distplot(dat, kde=False, bins=20, color=base_color, hist_kws={'alpha': 1})"
   ]
  },
  {
   "cell_type": "code",
   "execution_count": null,
   "metadata": {
    "collapsed": false
   },
   "outputs": [],
   "source": [
    "# Interquartile range (middle 50%) between 21-29 years old\n",
    "sns.distplot(dd.true_age, color=base_color, kde=False, hist_kws={'alpha': 1})"
   ]
  },
  {
   "cell_type": "code",
   "execution_count": null,
   "metadata": {
    "collapsed": false
   },
   "outputs": [],
   "source": [
    "# 59% have a university degree or higher\n",
    "sns.countplot(y='education', data=dd, color=base_color)"
   ]
  },
  {
   "cell_type": "code",
   "execution_count": null,
   "metadata": {
    "collapsed": false
   },
   "outputs": [],
   "source": [
    "# 45% report being unemployed, 25% report being students\n",
    "sns.countplot(y='occupation', data=dd, color=base_color)"
   ]
  },
  {
   "cell_type": "code",
   "execution_count": null,
   "metadata": {
    "collapsed": false
   },
   "outputs": [],
   "source": [
    "with sns.color_palette(sns.cubehelix_palette(6, start=1.5, rot=-1, dark=0.3, light=.8)):\n",
    "    fig, ax = plt.subplots(figsize=(10, 4))\n",
    "    sns.barplot(x='net_ownership', y='dist_risk_5_year', hue='education', data=risk, ax=ax)\n",
    "    ax.set_xlabel('Net Ownership')\n",
    "    ax.set_ylabel('District Malaria Incidence')"
   ]
  },
  {
   "cell_type": "code",
   "execution_count": 1740,
   "metadata": {
    "collapsed": false
   },
   "outputs": [
    {
     "data": {
      "text/html": [
       "<div>\n",
       "<style scoped>\n",
       "    .dataframe tbody tr th:only-of-type {\n",
       "        vertical-align: middle;\n",
       "    }\n",
       "\n",
       "    .dataframe tbody tr th {\n",
       "        vertical-align: top;\n",
       "    }\n",
       "\n",
       "    .dataframe thead th {\n",
       "        text-align: right;\n",
       "    }\n",
       "</style>\n",
       "<table border=\"1\" class=\"dataframe\">\n",
       "  <thead>\n",
       "    <tr style=\"text-align: right;\">\n",
       "      <th></th>\n",
       "      <th>net_ownership</th>\n",
       "      <th>malaria_now</th>\n",
       "    </tr>\n",
       "  </thead>\n",
       "  <tbody>\n",
       "    <tr>\n",
       "      <th>net_ownership</th>\n",
       "      <td>1.000000</td>\n",
       "      <td>0.047535</td>\n",
       "    </tr>\n",
       "    <tr>\n",
       "      <th>malaria_now</th>\n",
       "      <td>0.047535</td>\n",
       "      <td>1.000000</td>\n",
       "    </tr>\n",
       "  </tbody>\n",
       "</table>\n",
       "</div>"
      ],
      "text/plain": [
       "               net_ownership  malaria_now\n",
       "net_ownership       1.000000     0.047535\n",
       "malaria_now         0.047535     1.000000"
      ]
     },
     "execution_count": 1740,
     "metadata": {},
     "output_type": "execute_result"
    }
   ],
   "source": [
    "dd.groupby('disthash').agg({'net_ownership': np.mean, 'malaria_now': np.mean}).corr()"
   ]
  },
  {
   "cell_type": "code",
   "execution_count": null,
   "metadata": {
    "collapsed": false
   },
   "outputs": [],
   "source": [
    "dd.groupby('disthash').agg({'net_ownership': np.mean, 'malaria_now': np.mean, 'malaria': np.mean}).plot.scatter(x='net_ownership', y='malaria_now')"
   ]
  },
  {
   "cell_type": "code",
   "execution_count": null,
   "metadata": {
    "collapsed": false
   },
   "outputs": [],
   "source": [
    "ax = sns.distplot(dd.groupby('disthash').net_ownership.mean(), color=base_color, bins=20, hist_kws={'alpha': 1}, kde=False)\n",
    "ax.set_xlabel('Mean net ownership by district')"
   ]
  },
  {
   "cell_type": "code",
   "execution_count": 1353,
   "metadata": {
    "collapsed": false
   },
   "outputs": [
    {
     "data": {
      "text/plain": [
       "lives_alone  student\n",
       "False        False      0.892333\n",
       "             True       0.902987\n",
       "True         False      0.391729\n",
       "             True       0.489041\n",
       "Name: net_ownership, dtype: float64"
      ]
     },
     "execution_count": 1353,
     "metadata": {},
     "output_type": "execute_result"
    }
   ],
   "source": [
    "dd.groupby(['lives_alone', 'student']).net_ownership.mean()"
   ]
  },
  {
   "cell_type": "code",
   "execution_count": 1352,
   "metadata": {
    "collapsed": false
   },
   "outputs": [
    {
     "data": {
      "text/plain": [
       "large_family  lives_alone\n",
       "False         False          0.895522\n",
       "              True           0.414737\n",
       "True          False          0.891347\n",
       "Name: net_ownership, dtype: float64"
      ]
     },
     "execution_count": 1352,
     "metadata": {},
     "output_type": "execute_result"
    }
   ],
   "source": [
    "dd.groupby(['large_family', 'lives_alone']).net_ownership.mean()"
   ]
  },
  {
   "cell_type": "code",
   "execution_count": 1349,
   "metadata": {
    "collapsed": false
   },
   "outputs": [
    {
     "data": {
      "text/plain": [
       "0.8116090065284007"
      ]
     },
     "execution_count": 1349,
     "metadata": {},
     "output_type": "execute_result"
    }
   ],
   "source": [
    "dd.groupby('disthash').net_ownership.mean().quantile(.75)"
   ]
  },
  {
   "cell_type": "code",
   "execution_count": null,
   "metadata": {
    "collapsed": false
   },
   "outputs": [],
   "source": [
    "fig, ax = plt.subplots(figsize=(10, 3))\n",
    "sns.barplot(x='net_ownership', y='dist_risk', data=risk, ax=ax, color=base_color)\n",
    "ax.set_xlabel('Net Ownership')\n",
    "ax.set_ylabel('District Malaria Incidence')\n",
    "ax.set_xlim(0.5, None)"
   ]
  },
  {
   "cell_type": "code",
   "execution_count": null,
   "metadata": {
    "collapsed": false
   },
   "outputs": [],
   "source": [
    "with sns.color_palette(sns.cubehelix_palette(6, start=1.5, rot=-1, dark=0.3, light=.8)):\n",
    "    fig, ax = plt.subplots(figsize=(10, 4))\n",
    "    sns.barplot(x='net_ownership', y='dist_risk', hue='education', data=risk, ax=ax)\n",
    "    ax.set_xlabel('Net Ownership')\n",
    "    ax.set_ylabel('District Malaria Incidence')"
   ]
  },
  {
   "cell_type": "code",
   "execution_count": null,
   "metadata": {
    "collapsed": false
   },
   "outputs": [],
   "source": [
    "# likelihood of sleeping under a net, given that they have one, rather consistent\n",
    "with sns.color_palette(sns.cubehelix_palette(6, start=1.5, rot=-1, dark=0.3, light=.8)):\n",
    "    sns.barplot(x='under_net', y='dist_risk', hue='education', data=risk[risk.net_ownership])"
   ]
  },
  {
   "cell_type": "code",
   "execution_count": null,
   "metadata": {
    "collapsed": false
   },
   "outputs": [],
   "source": [
    "dat = dd.groupby(['home', 'dist_risk', 'dist_medical']).apply(lambda df: pd.Series({'malaria_risk': df.malaria_now.mean(), \n",
    "                                                                                    var: df[var].mean()})).reset_index()"
   ]
  },
  {
   "cell_type": "code",
   "execution_count": 727,
   "metadata": {
    "collapsed": false
   },
   "outputs": [
    {
     "data": {
      "text/plain": [
       "home                                     dist_risk     \n",
       "Kutcha (made of mud, tin, straw)         Upper Quartile    0.748107\n",
       "                                         Interquartile     0.703237\n",
       "                                         Lower Quartile    0.704610\n",
       "Semi-pucca                               Upper Quartile    0.777157\n",
       "                                         Interquartile     0.763393\n",
       "                                         Lower Quartile    0.773256\n",
       "Pucca (have cement/brick wall and floor  Upper Quartile    0.752780\n",
       "                                         Interquartile     0.735589\n",
       "                                         Lower Quartile    0.715802\n",
       "Name: net_ownership, dtype: float64"
      ]
     },
     "execution_count": 727,
     "metadata": {},
     "output_type": "execute_result"
    }
   ],
   "source": [
    "dd.groupby(['home', 'dist_risk']).net_ownership.mean()"
   ]
  },
  {
   "cell_type": "code",
   "execution_count": null,
   "metadata": {
    "collapsed": false
   },
   "outputs": [],
   "source": [
    "dd[dd.net_ownership].groupby(['home', 'dist_risk']).longsleeves.value_counts(normalize=True)"
   ]
  },
  {
   "cell_type": "code",
   "execution_count": null,
   "metadata": {
    "collapsed": false
   },
   "outputs": [],
   "source": [
    "dd[dd.net_ownership].groupby(['home', 'dist_risk']).used_spray.mean()"
   ]
  },
  {
   "cell_type": "code",
   "execution_count": null,
   "metadata": {
    "collapsed": false
   },
   "outputs": [],
   "source": [
    "dd[dd.net_ownership].groupby(['home', 'dist_risk']).under_net"
   ]
  },
  {
   "cell_type": "code",
   "execution_count": null,
   "metadata": {
    "collapsed": false
   },
   "outputs": [],
   "source": [
    "sns.barplot('under_net', 'dist_risk', hue='home', data=dd[dd.net_ownership])"
   ]
  },
  {
   "cell_type": "code",
   "execution_count": null,
   "metadata": {
    "collapsed": false
   },
   "outputs": [],
   "source": [
    "risk.groupby(['under_net']).risk_rf.mean()"
   ]
  },
  {
   "cell_type": "code",
   "execution_count": 483,
   "metadata": {
    "collapsed": false
   },
   "outputs": [
    {
     "data": {
      "text/plain": [
       "home                                     net_ownership\n",
       "Kutcha (made of mud, tin, straw)         False            1405\n",
       "                                         True             3763\n",
       "Semi-pucca                               False            1178\n",
       "                                         True             4029\n",
       "Pucca (have cement/brick wall and floor  False            2549\n",
       "                                         True             7258\n",
       "Name: surveyid, dtype: int64"
      ]
     },
     "execution_count": 483,
     "metadata": {},
     "output_type": "execute_result"
    }
   ],
   "source": [
    "dd.groupby(['home', 'net_ownership']).count().surveyid"
   ]
  },
  {
   "cell_type": "code",
   "execution_count": 481,
   "metadata": {
    "collapsed": false
   },
   "outputs": [
    {
     "data": {
      "text/html": [
       "<div>\n",
       "<style scoped>\n",
       "    .dataframe tbody tr th:only-of-type {\n",
       "        vertical-align: middle;\n",
       "    }\n",
       "\n",
       "    .dataframe tbody tr th {\n",
       "        vertical-align: top;\n",
       "    }\n",
       "\n",
       "    .dataframe thead th {\n",
       "        text-align: right;\n",
       "    }\n",
       "</style>\n",
       "<table border=\"1\" class=\"dataframe\">\n",
       "  <thead>\n",
       "    <tr style=\"text-align: right;\">\n",
       "      <th></th>\n",
       "      <th></th>\n",
       "      <th>count</th>\n",
       "    </tr>\n",
       "    <tr>\n",
       "      <th>home</th>\n",
       "      <th>net_ownership</th>\n",
       "      <th></th>\n",
       "    </tr>\n",
       "  </thead>\n",
       "  <tbody>\n",
       "    <tr>\n",
       "      <th rowspan=\"2\" valign=\"top\">Kutcha (made of mud, tin, straw)</th>\n",
       "      <th>False</th>\n",
       "      <td>0.155160</td>\n",
       "    </tr>\n",
       "    <tr>\n",
       "      <th>True</th>\n",
       "      <td>0.748339</td>\n",
       "    </tr>\n",
       "    <tr>\n",
       "      <th rowspan=\"2\" valign=\"top\">Semi-pucca</th>\n",
       "      <th>False</th>\n",
       "      <td>0.078947</td>\n",
       "    </tr>\n",
       "    <tr>\n",
       "      <th>True</th>\n",
       "      <td>0.709109</td>\n",
       "    </tr>\n",
       "    <tr>\n",
       "      <th rowspan=\"2\" valign=\"top\">Pucca (have cement/brick wall and floor</th>\n",
       "      <th>False</th>\n",
       "      <td>0.067085</td>\n",
       "    </tr>\n",
       "    <tr>\n",
       "      <th>True</th>\n",
       "      <td>0.682557</td>\n",
       "    </tr>\n",
       "  </tbody>\n",
       "</table>\n",
       "</div>"
      ],
      "text/plain": [
       "                                                          count\n",
       "home                                    net_ownership          \n",
       "Kutcha (made of mud, tin, straw)        False          0.155160\n",
       "                                        True           0.748339\n",
       "Semi-pucca                              False          0.078947\n",
       "                                        True           0.709109\n",
       "Pucca (have cement/brick wall and floor False          0.067085\n",
       "                                        True           0.682557"
      ]
     },
     "execution_count": 481,
     "metadata": {},
     "output_type": "execute_result"
    }
   ],
   "source": [
    "malaria_prob(dd.groupby(['home', 'net_ownership']), 'under_net')"
   ]
  },
  {
   "cell_type": "code",
   "execution_count": 436,
   "metadata": {
    "collapsed": false
   },
   "outputs": [
    {
     "data": {
      "text/plain": [
       "<matplotlib.axes._subplots.AxesSubplot at 0x7f81c6dd7190>"
      ]
     },
     "execution_count": 436,
     "metadata": {},
     "output_type": "execute_result"
    },
    {
     "data": {
      "image/png": "[encoded data removed]",
      "text/plain": [
       "<Figure size 432x288 with 1 Axes>"
      ]
     },
     "metadata": {
      "needs_background": "light"
     },
     "output_type": "display_data"
    }
   ],
   "source": [
    "sns.regplot(y=dist_dd.mean_malaria_5_year, x=dist_dd.mean_under_net)"
   ]
  },
  {
   "cell_type": "code",
   "execution_count": 434,
   "metadata": {
    "collapsed": false
   },
   "outputs": [
    {
     "data": {
      "text/plain": [
       "<matplotlib.axes._subplots.AxesSubplot at 0x7f81c683fd00>"
      ]
     },
     "execution_count": 434,
     "metadata": {},
     "output_type": "execute_result"
    },
    {
     "data": {
      "image/png": "[encoded data removed]",
      "text/plain": [
       "<Figure size 432x288 with 1 Axes>"
      ]
     },
     "metadata": {
      "needs_background": "light"
     },
     "output_type": "display_data"
    }
   ],
   "source": [
    "sns.regplot(y=y, x=dist_dd.mean_under_net)"
   ]
  },
  {
   "cell_type": "code",
   "execution_count": null,
   "metadata": {
    "collapsed": false
   },
   "outputs": [],
   "source": [
    "dd.net_ownership"
   ]
  },
  {
   "cell_type": "code",
   "execution_count": 446,
   "metadata": {
    "collapsed": false
   },
   "outputs": [
    {
     "data": {
      "text/plain": [
       "<matplotlib.axes._subplots.AxesSubplot at 0x7f81ce1ec460>"
      ]
     },
     "execution_count": 446,
     "metadata": {},
     "output_type": "execute_result"
    },
    {
     "data": {
      "image/png": "[encoded data removed]",
      "text/plain": [
       "<Figure size 432x288 with 1 Axes>"
      ]
     },
     "metadata": {
      "needs_background": "light"
     },
     "output_type": "display_data"
    }
   ],
   "source": [
    "malaria_prob(dd.groupby('under_net'), 'malaria_now')\n",
    "\n",
    "sns.barplot(y='under_net', x='malaria_now', data=dd, orient='h', color=base_color)"
   ]
  },
  {
   "cell_type": "code",
   "execution_count": null,
   "metadata": {
    "collapsed": false
   },
   "outputs": [],
   "source": [
    "forms[0]"
   ]
  },
  {
   "cell_type": "code",
   "execution_count": null,
   "metadata": {
    "collapsed": false
   },
   "outputs": [],
   "source": []
  },
  {
   "cell_type": "code",
   "execution_count": null,
   "metadata": {
    "collapsed": false
   },
   "outputs": [],
   "source": [
    "# dd.groupby(\"home\").used_spray.value_counts(normalize=True)\n",
    "\n",
    "sns.barplot(x='used_spray', y='home', data=dd.assign(used_spray = dd.used_spray == 'Yes'), color=base_color)"
   ]
  },
  {
   "cell_type": "code",
   "execution_count": null,
   "metadata": {
    "collapsed": false
   },
   "outputs": [],
   "source": [
    "forms[0]"
   ]
  },
  {
   "cell_type": "code",
   "execution_count": 697,
   "metadata": {
    "collapsed": false
   },
   "outputs": [
    {
     "data": {
      "text/html": [
       "<div>\n",
       "<style scoped>\n",
       "    .dataframe tbody tr th:only-of-type {\n",
       "        vertical-align: middle;\n",
       "    }\n",
       "\n",
       "    .dataframe tbody tr th {\n",
       "        vertical-align: top;\n",
       "    }\n",
       "\n",
       "    .dataframe thead th {\n",
       "        text-align: right;\n",
       "    }\n",
       "</style>\n",
       "<table border=\"1\" class=\"dataframe\">\n",
       "  <thead>\n",
       "    <tr style=\"text-align: right;\">\n",
       "      <th></th>\n",
       "      <th>index</th>\n",
       "      <th>fever_treatment_seeking</th>\n",
       "    </tr>\n",
       "  </thead>\n",
       "  <tbody>\n",
       "    <tr>\n",
       "      <th>0</th>\n",
       "      <td>I would seek treatment right away</td>\n",
       "      <td>0.690202</td>\n",
       "    </tr>\n",
       "    <tr>\n",
       "      <th>1</th>\n",
       "      <td>I would seek treatment if the fever didn’t sub...</td>\n",
       "      <td>0.182558</td>\n",
       "    </tr>\n",
       "    <tr>\n",
       "      <th>2</th>\n",
       "      <td>I don’t think it is necessary to seek treatmen...</td>\n",
       "      <td>0.070607</td>\n",
       "    </tr>\n",
       "    <tr>\n",
       "      <th>3</th>\n",
       "      <td>I would wait and see how the fever develops ov...</td>\n",
       "      <td>0.056633</td>\n",
       "    </tr>\n",
       "  </tbody>\n",
       "</table>\n",
       "</div>"
      ],
      "text/plain": [
       "                                               index  fever_treatment_seeking\n",
       "0                  I would seek treatment right away                 0.690202\n",
       "1  I would seek treatment if the fever didn’t sub...                 0.182558\n",
       "2  I don’t think it is necessary to seek treatmen...                 0.070607\n",
       "3  I would wait and see how the fever develops ov...                 0.056633"
      ]
     },
     "execution_count": 697,
     "metadata": {},
     "output_type": "execute_result"
    }
   ],
   "source": []
  },
  {
   "cell_type": "code",
   "execution_count": 675,
   "metadata": {
    "collapsed": false
   },
   "outputs": [
    {
     "data": {
      "text/plain": [
       "0.6902022589965853"
      ]
     },
     "execution_count": 675,
     "metadata": {},
     "output_type": "execute_result"
    }
   ],
   "source": [
    "dd.fever_seek_treatment_rightaway.mean()"
   ]
  },
  {
   "cell_type": "code",
   "execution_count": 1334,
   "metadata": {
    "collapsed": false
   },
   "outputs": [
    {
     "data": {
      "image/png": "[encoded data removed]",
      "text/plain": [
       "<Figure size 800x250 with 1 Axes>"
      ]
     },
     "metadata": {},
     "output_type": "display_data"
    }
   ],
   "source": [
    "\n",
    "with sns.color_palette(sns.cubehelix_palette(3, start=1.25, rot=.0, dark=0.8, light=.35)):\n",
    "    fig, ax = plt.subplots(figsize=(8,2.5))\n",
    "    dat = dd.fever_treatment_seeking.value_counts(normalize=True)\n",
    "    dat = dat.reset_index()\n",
    "    sns.barplot(y='index', x='fever_treatment_seeking', data=dat, color=base_color)\n",
    "    ax.set_ylabel('')\n",
    "    ax.set_xlabel('Share of respondents')\n",
    "\n",
    "plt.savefig('treatment-seeking.png', bbox_inches='tight', dpi=300)"
   ]
  },
  {
   "cell_type": "code",
   "execution_count": 688,
   "metadata": {
    "collapsed": false
   },
   "outputs": [
    {
     "data": {
      "image/png": "[encoded data removed]",
      "text/plain": [
       "<Figure size 1500x300 with 1 Axes>"
      ]
     },
     "metadata": {},
     "output_type": "display_data"
    }
   ],
   "source": [
    "# worries about covid seem to be positively correlated with treatment seeking attitudes. \n",
    "\n",
    "with sns.color_palette(sns.cubehelix_palette(3, start=1.25, rot=.0, dark=0.8, light=.35)):\n",
    "    fig, ax = plt.subplots(figsize=(15,3))\n",
    "    sns.barplot(x='fever_seek_treatment_rightaway', y='worried_covid', color=base_color, data=dd, ax=ax)\n",
    "    ax.set_ylabel('Worried about getting COVID-19')\n",
    "    ax.set_xlabel('Would seek treatment right away in the advent of fever')\n",
    "\n",
    "plt.savefig('covid-treatment-seeking.png', bbox_inches='tight', dpi=300)"
   ]
  },
  {
   "cell_type": "code",
   "execution_count": null,
   "metadata": {
    "collapsed": false
   },
   "outputs": [],
   "source": [
    "sns.barplot(x='fever_seek_treatment_rightaway', y='home', data=dd, color=base_color)"
   ]
  },
  {
   "cell_type": "code",
   "execution_count": null,
   "metadata": {
    "collapsed": false
   },
   "outputs": [],
   "source": [
    "sns.barplot(x='fever_seek_treatment_rightaway', y='worried_malaria', data=dd, color=base_color)"
   ]
  },
  {
   "cell_type": "code",
   "execution_count": null,
   "metadata": {
    "collapsed": false
   },
   "outputs": [
    {
     "data": {
      "text/plain": [
       "fever_seek_treatment_rightaway\n",
       "False    0.200064\n",
       "True     0.193914\n",
       "Name: mean_malaria_5_year, dtype: float64"
      ]
     },
     "execution_count": 332,
     "metadata": {},
     "output_type": "execute_result"
    }
   ],
   "source": [
    "# treatment seeking same by district risk\n",
    "\n",
    "dd.groupby('fever_seek_treatment_rightaway').mean_malaria_5_year.mean()"
   ]
  },
  {
   "cell_type": "code",
   "execution_count": null,
   "metadata": {
    "collapsed": false
   },
   "outputs": [],
   "source": [
    "sns.swarmplot(x = 'if_malaria_tested', y = 'mean_malaria_5_year', data=dd)"
   ]
  },
  {
   "cell_type": "code",
   "execution_count": null,
   "metadata": {
    "collapsed": false
   },
   "outputs": [],
   "source": [
    "sns.swarmplot(x = 'if_malaria_seek_treatment', y = 'mean_malaria_5_year', data=dd)"
   ]
  },
  {
   "cell_type": "code",
   "execution_count": 1577,
   "metadata": {
    "collapsed": false
   },
   "outputs": [
    {
     "data": {
      "text/plain": [
       "home                                     dist_medical             \n",
       "Kutcha (made of mud, tin, straw)         Less than 15 minutes         0.025169\n",
       "                                         Between 15 and 30 minutes    0.025962\n",
       "                                         Between 30 and 60 minutes    0.029273\n",
       "                                         More than 60 minutes         0.030473\n",
       "Semi-pucca                               Less than 15 minutes         0.010277\n",
       "                                         Between 15 and 30 minutes    0.011218\n",
       "                                         Between 30 and 60 minutes    0.015094\n",
       "                                         More than 60 minutes         0.023014\n",
       "Pucca (have cement/brick wall and floor  Less than 15 minutes         0.010996\n",
       "                                         Between 15 and 30 minutes    0.010010\n",
       "                                         Between 30 and 60 minutes    0.011124\n",
       "                                         More than 60 minutes         0.021390\n",
       "Name: malaria_now, dtype: float64"
      ]
     },
     "execution_count": 1577,
     "metadata": {},
     "output_type": "execute_result"
    }
   ],
   "source": [
    "dd.groupby(['home', 'dist_medical']).malaria_now.mean()"
   ]
  },
  {
   "cell_type": "code",
   "execution_count": null,
   "metadata": {
    "collapsed": false
   },
   "outputs": [],
   "source": [
    "sns.barplot(x='malaria_now', y='home', hue='dist_medical', data=dd)"
   ]
  },
  {
   "cell_type": "code",
   "execution_count": 1559,
   "metadata": {
    "collapsed": false
   },
   "outputs": [
    {
     "data": {
      "text/plain": [
       "0.5294117647058824"
      ]
     },
     "execution_count": 1559,
     "metadata": {},
     "output_type": "execute_result"
    }
   ],
   "source": [
    "(dd[dd.malaria_now].if_malaria_tested == 'Yes').mean()"
   ]
  },
  {
   "cell_type": "code",
   "execution_count": 1572,
   "metadata": {
    "collapsed": false
   },
   "outputs": [
    {
     "data": {
      "text/plain": [
       "Less than 24 hours    0.654971\n",
       "24-48 hours           0.198830\n",
       "More than 2 days      0.146199\n",
       "Name: if_malaria_seek_treatment, dtype: float64"
      ]
     },
     "execution_count": 1572,
     "metadata": {},
     "output_type": "execute_result"
    }
   ],
   "source": [
    "dd[dd.malaria_now & dd.if_malaria_seek_treatment.notna()].if_malaria_seek_treatment.value_counts(normalize=True)"
   ]
  },
  {
   "cell_type": "code",
   "execution_count": null,
   "metadata": {
    "collapsed": false
   },
   "outputs": [],
   "source": [
    "malaria_prob(dd.groupby('home'), 'malaria_now')"
   ]
  },
  {
   "cell_type": "code",
   "execution_count": null,
   "metadata": {
    "collapsed": false
   },
   "outputs": [],
   "source": [
    "dd[['mean_bednet', 'mean_malaria_5_year', 'disthash']].groupby('disthash').head(1).corr()"
   ]
  },
  {
   "cell_type": "code",
   "execution_count": null,
   "metadata": {
    "collapsed": false
   },
   "outputs": [],
   "source": [
    "# district fixed effects of kutcha\n",
    "\n",
    "def kutcha_dif(df):\n",
    "    a = df[df.kutcha == True].iloc[0]['count']\n",
    "    b = df[df.kutcha == False].iloc[0]['count']\n",
    "    return a - b\n",
    "\n",
    "malaria_prob(dd.groupby(['disthash', 'kutcha']), 'malaria_now').reset_index() \\\n",
    "    .groupby('disthash') \\\n",
    "    .filter(lambda df: df.shape[0] > 1) \\\n",
    "    .groupby('disthash') \\\n",
    "    .apply(kutcha_dif).mean()"
   ]
  },
  {
   "cell_type": "markdown",
   "metadata": {
    "collapsed": false
   },
   "source": [
    "# Spatial Autocorrelation"
   ]
  },
  {
   "cell_type": "code",
   "execution_count": 1759,
   "metadata": {
    "collapsed": false
   },
   "outputs": [],
   "source": [
    "import libpysal\n",
    "import esda\n",
    "\n",
    "\n",
    "gdf = gpd.read_file('outs/cluster.shp')\n",
    "gdf = gdf[gdf.geometry.notna()]\n",
    "gdf = gdf.to_crs(3857) \n",
    "\n",
    "dist_shapes = gdf.groupby('disthash').apply(lambda df: df.geometry.unary_union)\n",
    "dist_shapes = gpd.GeoDataFrame(dist_shapes.reset_index().rename(columns={0: 'geometry'}))\n",
    "\n",
    "dist_stats = dd[dd.disthash.isin(final_clusters)].groupby('disthash').mean().reset_index()\n",
    "dist_shapes = dist_shapes.merge(dist_stats)\n",
    "wnn = libpysal.weights.KNN.from_dataframe(dist_shapes, k=3)\n"
   ]
  },
  {
   "cell_type": "code",
   "execution_count": 1768,
   "metadata": {
    "collapsed": false
   },
   "outputs": [
    {
     "data": {
      "text/plain": [
       "0.3878159251073957"
      ]
     },
     "execution_count": 1768,
     "metadata": {},
     "output_type": "execute_result"
    }
   ],
   "source": [
    "mi = esda.moran.Moran(dist_shapes['mean_malaria'], wnn)\n",
    "mi.I"
   ]
  },
  {
   "cell_type": "code",
   "execution_count": 1769,
   "metadata": {
    "collapsed": false
   },
   "outputs": [
    {
     "data": {
      "text/plain": [
       "0.19119790275382118"
      ]
     },
     "execution_count": 1769,
     "metadata": {},
     "output_type": "execute_result"
    }
   ],
   "source": [
    "mi = esda.moran.Moran(dist_shapes['mean_malaria_now'], wnn)\n",
    "mi.I"
   ]
  },
  {
   "cell_type": "markdown",
   "metadata": {
    "collapsed": false
   },
   "source": [
    "# Effects of Recruitment Optimization"
   ]
  },
  {
   "cell_type": "code",
   "execution_count": 65,
   "metadata": {
    "collapsed": false
   },
   "outputs": [],
   "source": [
    "dat = dd[dd.disthash.isin(final_clusters)].reset_index(drop=True)"
   ]
  },
  {
   "cell_type": "code",
   "execution_count": 66,
   "metadata": {
    "collapsed": false
   },
   "outputs": [
    {
     "data": {
      "text/plain": [
       "0.2"
      ]
     },
     "execution_count": 66,
     "metadata": {},
     "output_type": "execute_result"
    }
   ],
   "source": [
    "filter_time(dat, (2020, 7,1), (2020,8,1)).groupby('disthash').kutcha.mean().quantile(.63)"
   ]
  },
  {
   "cell_type": "code",
   "execution_count": 255,
   "metadata": {
    "collapsed": false
   },
   "outputs": [
    {
     "data": {
      "image/png": "[encoded data removed]",
      "text/plain": [
       "<Figure size 1152x360 with 1 Axes>"
      ]
     },
     "metadata": {},
     "output_type": "display_data"
    }
   ],
   "source": [
    "with sns.color_palette('Set2'):\n",
    "    _, ax = plt.subplots(figsize=(16, 5))\n",
    "    sns.distplot(filter_time(dat, (2020, 7,1), (2020,8,1)).groupby('disthash').kutcha.mean())\n",
    "    sns.distplot(filter_time(dat, (2020, 7,1), (2020,9,1)).groupby('disthash').kutcha.mean())\n",
    "    leg = ax.legend(title='Recruitment Strategy', labels=['Naive', 'Optimized'])    \n",
    "    ax.set_xlabel('Proportion of respondents living in kutcha dwellings')\n",
    "\n",
    "plt.savefig('optimization-kutcha-proportion.png', bbox_inches='tight', dpi=300)"
   ]
  },
  {
   "cell_type": "code",
   "execution_count": 68,
   "metadata": {
    "collapsed": false
   },
   "outputs": [],
   "source": [
    "dat['recruitment'] = 'Naive'\n",
    "dat.loc[in_time(dat, (2020, 8,1), (2020,9,1)), 'recruitment'] = 'Optimized'"
   ]
  },
  {
   "cell_type": "code",
   "execution_count": 110,
   "metadata": {
    "collapsed": false
   },
   "outputs": [
    {
     "data": {
      "text/plain": [
       "home\n",
       "Kutcha (made of mud, tin, straw)           0.035211\n",
       "Semi-pucca                                 0.013875\n",
       "Pucca (have cement/brick wall and floor    0.008420\n",
       "Name: malaria_now, dtype: float64"
      ]
     },
     "execution_count": 110,
     "metadata": {},
     "output_type": "execute_result"
    }
   ],
   "source": [
    "filter_time(dat, (2020, 7,1), (2020,8,1)).groupby('home').malaria_now.mean()"
   ]
  },
  {
   "cell_type": "code",
   "execution_count": 256,
   "metadata": {
    "collapsed": false
   },
   "outputs": [
    {
     "data": {
      "text/plain": [
       "0.18450930975065866"
      ]
     },
     "execution_count": 256,
     "metadata": {},
     "output_type": "execute_result"
    }
   ],
   "source": [
    "filter_time(dat, (2020, 7,1), (2020,8,1)).groupby('disthash').kutcha.mean().mean()"
   ]
  },
  {
   "cell_type": "code",
   "execution_count": 257,
   "metadata": {
    "collapsed": false
   },
   "outputs": [
    {
     "data": {
      "text/plain": [
       "0.24964053340133172"
      ]
     },
     "execution_count": 257,
     "metadata": {},
     "output_type": "execute_result"
    }
   ],
   "source": [
    "filter_time(dat, (2020, 7,1), (2020,9,1)).groupby('disthash').kutcha.mean().mean()"
   ]
  },
  {
   "cell_type": "code",
   "execution_count": 270,
   "metadata": {
    "collapsed": false
   },
   "outputs": [
    {
     "data": {
      "text/plain": [
       "13"
      ]
     },
     "execution_count": 270,
     "metadata": {},
     "output_type": "execute_result"
    }
   ],
   "source": [
    "(filter_time(dat, (2020, 7,1), (2020,8,1)).groupby('disthash').kutcha.mean() < 0.1).sum()"
   ]
  },
  {
   "cell_type": "code",
   "execution_count": 271,
   "metadata": {
    "collapsed": false
   },
   "outputs": [
    {
     "data": {
      "text/plain": [
       "0"
      ]
     },
     "execution_count": 271,
     "metadata": {},
     "output_type": "execute_result"
    }
   ],
   "source": [
    "(filter_time(dat, (2020, 7,1), (2020,9,1)).groupby('disthash').kutcha.mean() < 0.1).sum()"
   ]
  },
  {
   "cell_type": "code",
   "execution_count": 265,
   "metadata": {
    "collapsed": false
   },
   "outputs": [
    {
     "data": {
      "text/plain": [
       "0.056405163853028795"
      ]
     },
     "execution_count": 265,
     "metadata": {},
     "output_type": "execute_result"
    }
   ],
   "source": [
    "filter_time(dat, (2020, 7,1), (2020,8,1)).groupby('disthash').kutcha.mean().quantile(0.05)"
   ]
  },
  {
   "cell_type": "code",
   "execution_count": 267,
   "metadata": {
    "collapsed": false
   },
   "outputs": [
    {
     "data": {
      "text/plain": [
       "0.12272727272727273"
      ]
     },
     "execution_count": 267,
     "metadata": {},
     "output_type": "execute_result"
    }
   ],
   "source": [
    "filter_time(dat, (2020, 7,1), (2020,9,1)).groupby('disthash').kutcha.mean().quantile(0.0)"
   ]
  },
  {
   "cell_type": "code",
   "execution_count": null,
   "metadata": {
    "collapsed": false
   },
   "outputs": [],
   "source": [
    "filter_time(dat, (2020, 8,1), (2020,9,1)).groupby('disthash').kutcha.mean().quantile(.9)"
   ]
  },
  {
   "cell_type": "code",
   "execution_count": 111,
   "metadata": {
    "collapsed": false
   },
   "outputs": [
    {
     "data": {
      "text/plain": [
       "0.16852599098029908"
      ]
     },
     "execution_count": 111,
     "metadata": {},
     "output_type": "execute_result"
    }
   ],
   "source": [
    "filter_time(dat, (2020, 7,1), (2020,8,1)).kutcha.mean()"
   ]
  },
  {
   "cell_type": "code",
   "execution_count": 314,
   "metadata": {
    "collapsed": false
   },
   "outputs": [
    {
     "data": {
      "text/plain": [
       "Pucca (have cement/brick wall and floor    9437\n",
       "Semi-pucca                                 4955\n",
       "Kutcha (made of mud, tin, straw)           4792\n",
       "Name: home, dtype: int64"
      ]
     },
     "execution_count": 314,
     "metadata": {},
     "output_type": "execute_result"
    }
   ],
   "source": [
    "dd.home.value_counts()"
   ]
  },
  {
   "cell_type": "code",
   "execution_count": 316,
   "metadata": {
    "collapsed": false
   },
   "outputs": [],
   "source": [
    "dd['semipucca'] = dd['home'] == 'Semi-pucca'"
   ]
  },
  {
   "cell_type": "code",
   "execution_count": 318,
   "metadata": {
    "collapsed": false
   },
   "outputs": [
    {
     "data": {
      "text/plain": [
       "0.1434108527131783"
      ]
     },
     "execution_count": 318,
     "metadata": {},
     "output_type": "execute_result"
    }
   ],
   "source": [
    "dd.groupby('disthash').semipucca.mean().min()"
   ]
  },
  {
   "cell_type": "code",
   "execution_count": 112,
   "metadata": {
    "collapsed": false
   },
   "outputs": [
    {
     "data": {
      "text/plain": [
       "0.2717681715420977"
      ]
     },
     "execution_count": 112,
     "metadata": {},
     "output_type": "execute_result"
    }
   ],
   "source": [
    "filter_time(dat, (2020, 8,1), (2020,9,1)).kutcha.mean()"
   ]
  },
  {
   "cell_type": "code",
   "execution_count": 129,
   "metadata": {
    "collapsed": false
   },
   "outputs": [],
   "source": [
    "from adopt.clustering import get_budget_lookup, prep_df_for_budget, calc_price\n",
    "from adopt.malaria import window, days_left, get_df, get_cluster_from_adset\n",
    "from adopt.facebook.state import CampaignState, BudgetWindow\n",
    "\n",
    "w = BudgetWindow(datetime(2020,8,1), datetime.now())\n",
    "state = CampaignState(env, w)\n",
    "\n",
    "spend = {get_cluster_from_adset(n): i\n",
    "         for n, i in state.spend.items()}"
   ]
  },
  {
   "cell_type": "code",
   "execution_count": null,
   "metadata": {
    "collapsed": false
   },
   "outputs": [],
   "source": [
    "df = get_df(cnf)\n",
    "stratum = cnf['strata'][0]"
   ]
  },
  {
   "cell_type": "code",
   "execution_count": 143,
   "metadata": {
    "collapsed": false
   },
   "outputs": [],
   "source": [
    "completed_df = prep_df_for_budget(df, stratum)"
   ]
  },
  {
   "cell_type": "code",
   "execution_count": 144,
   "metadata": {
    "collapsed": false
   },
   "outputs": [],
   "source": [
    "price = calc_price(completed_df, w, spend)\n",
    "price = {k:v/100 for k, v in price.items()}"
   ]
  },
  {
   "cell_type": "code",
   "execution_count": 146,
   "metadata": {
    "collapsed": false
   },
   "outputs": [],
   "source": [
    "from adopt.malaria import get_cluster_from_adset\n",
    "\n",
    "def prep_facebook_data(path, dd, final_clusters):\n",
    "    capture_count = dd[(dd.timestamp > datetime(2020,7,23,tzinfo=timezone.utc)) & \n",
    "                       (dd.timestamp < datetime(2020,7,24,tzinfo=timezone.utc))] \\\n",
    "        .groupby('disthash') \\\n",
    "        .userid.count() \\\n",
    "        .reset_index() \\\n",
    "        .rename(columns={'userid': 'completed_survey'})\n",
    "\n",
    "    df = pd.read_csv(path)\n",
    "    df['disthash'] = df['Ad Set Name'].map(get_cluster_from_adset)\n",
    "    df = df.merge(capture_count, how='left')\n",
    "    df = df[df.disthash.isin(final_clusters)].reset_index(drop=True)\n",
    "\n",
    "    spend = 'Amount Spent (INR)'\n",
    "    df['cost_per_completion'] = df.apply(lambda r: r[spend] / r.completed_survey, 1)\n",
    "    df = df.rename(columns = {'CTR (All)': 'CTR', \n",
    "                              'Cost per Results': 'cost_per_message', \n",
    "                              'CPM (Cost per 1,000 Impressions) (INR)': 'CPM'})\n",
    "\n",
    "    return df[['disthash', 'cost_per_completion', 'cost_per_message', 'CTR', 'CPM']]"
   ]
  },
  {
   "cell_type": "code",
   "execution_count": 154,
   "metadata": {
    "collapsed": false
   },
   "outputs": [],
   "source": [
    "completed_df['disthash'] = completed_df.cluster"
   ]
  },
  {
   "cell_type": "code",
   "execution_count": 227,
   "metadata": {
    "collapsed": false
   },
   "outputs": [],
   "source": [
    "naive_costs = prep_facebook_data('outs/fb-export-vlab-1.csv', completed_df, final_clusters)\n",
    "naive_costs = naive_costs[['disthash', 'cost_per_completion']].rename(columns={'cost_per_completion': 'base_cost'})"
   ]
  },
  {
   "cell_type": "code",
   "execution_count": 228,
   "metadata": {
    "collapsed": false
   },
   "outputs": [],
   "source": [
    "optimized_costs = pd.DataFrame(price.items(), columns=['disthash', 'optimized_cost'])"
   ]
  },
  {
   "cell_type": "code",
   "execution_count": 231,
   "metadata": {
    "collapsed": false
   },
   "outputs": [],
   "source": [
    "costs = optimized_costs.merge(naive_costs)\n",
    "costs['premium'] = costs.optimized_cost - costs.base_cost"
   ]
  },
  {
   "cell_type": "code",
   "execution_count": 235,
   "metadata": {
    "collapsed": false
   },
   "outputs": [],
   "source": [
    "c = costs.merge(districts)\n",
    "# c[(c.include_audience == True) & (c.creative_group == 'exclusions')][0].mean()\n",
    "\n",
    "c['optimized'] = (c.include_audience == True) & (c.creative_group == 'exclusions')"
   ]
  },
  {
   "cell_type": "code",
   "execution_count": 240,
   "metadata": {
    "collapsed": false
   },
   "outputs": [
    {
     "data": {
      "text/plain": [
       "640780.3590426595"
      ]
     },
     "execution_count": 240,
     "metadata": {},
     "output_type": "execute_result"
    }
   ],
   "source": []
  },
  {
   "cell_type": "code",
   "execution_count": 243,
   "metadata": {
    "collapsed": false
   },
   "outputs": [
    {
     "data": {
      "text/plain": [
       "0.8673116685646688"
      ]
     },
     "execution_count": 243,
     "metadata": {},
     "output_type": "execute_result"
    }
   ],
   "source": [
    "((c.optimized_cost * 250).sum() - (c[c.optimized].premium * 250).sum()) / (c.optimized_cost * 250).sum()"
   ]
  },
  {
   "cell_type": "code",
   "execution_count": null,
   "metadata": {
    "collapsed": false
   },
   "outputs": [],
   "source": [
    "c[(c.include_audience == True) & (c.creative_group == 'exclusions')]"
   ]
  },
  {
   "cell_type": "code",
   "execution_count": null,
   "metadata": {
    "collapsed": false
   },
   "outputs": [],
   "source": [
    "c[(c.include_audience == True) & (c.creative_group == 'exclusions')][0].mean()"
   ]
  },
  {
   "cell_type": "code",
   "execution_count": null,
   "metadata": {
    "collapsed": false
   },
   "outputs": [],
   "source": []
  },
  {
   "cell_type": "code",
   "execution_count": null,
   "metadata": {
    "collapsed": false
   },
   "outputs": [],
   "source": [
    "di_shapes"
   ]
  },
  {
   "cell_type": "code",
   "execution_count": null,
   "metadata": {
    "collapsed": false
   },
   "outputs": [],
   "source": [
    "c"
   ]
  },
  {
   "cell_type": "code",
   "execution_count": 310,
   "metadata": {
    "collapsed": false
   },
   "outputs": [
    {
     "data": {
      "image/png": "[encoded data removed]",
      "text/plain": [
       "<Figure size 720x720 with 2 Axes>"
      ]
     },
     "metadata": {},
     "output_type": "display_data"
    }
   ],
   "source": [
    "import numpy as np\n",
    "\n",
    "cluster_shapes = gpd.read_file('outs/cluster.shp')\n",
    "\n",
    "shapes = cluster_shapes.merge(c)\n",
    "shapes[shapes.disthash.isin(final_clusters)]\n",
    "\n",
    "# shapes['base_cost'] = np.sqrt(shapes.base_cost)\n",
    "# shapes['optimized_cost'] = np.sqrt(shapes.optimized_cost)\n",
    "\n",
    "shapes['log_base_cost'] = np.log(shapes.base_cost)\n",
    "shapes['log_optimized_cost'] = np.log(shapes.optimized_cost)\n",
    "plot_incidence_map(shapes, {'var': 'base_cost', 'title': 'costs'}, 'plasma')\n",
    "# plt.savefig('spending-map-naive.png', bbox_inches='tight', dpi=300)"
   ]
  },
  {
   "cell_type": "code",
   "execution_count": 311,
   "metadata": {
    "collapsed": false
   },
   "outputs": [
    {
     "data": {
      "image/png": "[encoded data removed]",
      "text/plain": [
       "<Figure size 720x720 with 2 Axes>"
      ]
     },
     "metadata": {},
     "output_type": "display_data"
    }
   ],
   "source": [
    "plot_incidence_map(shapes, {'var': 'optimized_cost', 'title': 'costs'})"
   ]
  }
 ],
 "metadata": {
  "kernelspec": {
   "argv": [
    "python",
    "-m",
    "ipykernel_launcher",
    "-f",
    "{connection_file}"
   ],
   "display_name": "Python 3",
   "env": null,
   "interrupt_mode": "signal",
   "language": "python",
   "metadata": null,
   "name": "python3"
  },
  "language_info": {
   "codemirror_mode": {
    "name": "ipython",
    "version": 3
   },
   "file_extension": ".py",
   "mimetype": "text/x-python",
   "name": "python",
   "nbconvert_exporter": "python",
   "pygments_lexer": "ipython3",
   "version": "3.8.2"
  },
  "name": "descriptives.ipynb"
 },
 "nbformat": 4,
 "nbformat_minor": 4
}
