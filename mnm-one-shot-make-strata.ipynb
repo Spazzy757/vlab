{
 "cells": [
  {
   "cell_type": "code",
   "execution_count": null,
   "metadata": {
    "collapsed": false
   },
   "outputs": [],
   "source": [
    "! pip install --quiet environs cyksuid toolz psycopg2-binary typing_json backoff pyyaml facebook_business pystache"
   ]
  },
  {
   "cell_type": "code",
   "execution_count": 27,
   "metadata": {
    "collapsed": false
   },
   "outputs": [],
   "source": [
    "%load_ext autoreload         \n",
    "%autoreload 2"
   ]
  },
  {
   "cell_type": "code",
   "execution_count": 1,
   "metadata": {
    "collapsed": false
   },
   "outputs": [],
   "source": [
    "from environs import Env\n",
    "\n",
    "from adopt.malaria import get_confs, get_df, load_basics, window, get_db_conf\n",
    "from adopt.marketing import Marketing\n",
    "from adopt.facebook.state import CampaignState, get_api\n",
    "from adopt.malaria import load_typed_json\n",
    "from adopt.marketing import AudienceConf, CampaignConf\n",
    "from adopt.campaign_queries import get_campaigns_for_user, create_campaign_confs, create_campaign_for_user\n",
    "from typing import List\n",
    "import json\n",
    "\n",
    "env = Env()\n",
    "env.read_env('.env-upswell-vlab', override=True)\n",
    "db_conf = get_db_conf(env)"
   ]
  },
  {
   "cell_type": "code",
   "execution_count": 2,
   "metadata": {
    "collapsed": false
   },
   "outputs": [],
   "source": [
    "USER = \"malaria2@vlab.digital\"\n",
    "CAMPAIGN = \"mnm-jan-2021\"\n",
    "CAMPAIGNID = next(c['id'] for c in get_campaigns_for_user(USER, db_conf) \n",
    "                  if c['name'] == CAMPAIGN)\n",
    "\n",
    "# create_campaign_for_user(USER, CAMPAIGN, db_conf)"
   ]
  },
  {
   "cell_type": "code",
   "execution_count": 3,
   "metadata": {
    "collapsed": false
   },
   "outputs": [],
   "source": [
    "userinfo, config, db_conf, state, m, confs = load_basics(CAMPAIGNID, env)"
   ]
  },
  {
   "cell_type": "code",
   "execution_count": 4,
   "metadata": {
    "collapsed": false
   },
   "outputs": [],
   "source": [
    "images = {i['name']: i for i in state.account.get_ad_images(fields=['name', 'hash'])}"
   ]
  },
  {
   "cell_type": "markdown",
   "metadata": {
    "collapsed": false
   },
   "source": [
    "# CREATING CONFS - MNM"
   ]
  },
  {
   "cell_type": "code",
   "execution_count": 5,
   "metadata": {
    "collapsed": false
   },
   "outputs": [
    {
     "data": {
      "text/plain": [
       "10273.972602739726"
      ]
     },
     "execution_count": 5,
     "metadata": {},
     "output_type": "execute_result"
    }
   ],
   "source": [
    "# you have 10650 to spend\n",
    "\n",
    "(75000000.0 / 7300)"
   ]
  },
  {
   "cell_type": "code",
   "execution_count": 6,
   "metadata": {
    "collapsed": false
   },
   "outputs": [
    {
     "data": {
      "text/plain": [
       "('e49ba210-9928-4d9f-b62a-874c5652bb71',\n",
       " datetime.datetime(2021, 3, 26, 18, 11, 42, 897204, tzinfo=psycopg2.tz.FixedOffsetTimezone(offset=0, name=None)),\n",
       " 'opt',\n",
       " None,\n",
       " [{'ad_account': '2240415876083895',\n",
       "   'ad_campaign': 'impact-evaluation-1shot-global-insights',\n",
       "   'adset_hours': 48,\n",
       "   'budget': 75000000.0,\n",
       "   'destination_type': 'MESSENGER',\n",
       "   'end_date': '2021-04-01',\n",
       "   'instagram_id': None,\n",
       "   'min_budget': 10000.0,\n",
       "   'opt_window': 168,\n",
       "   'optimization_goal': 'REPLIES',\n",
       "   'page_id': '102998371752603',\n",
       "   'proportional': True}])"
      ]
     },
     "execution_count": 6,
     "metadata": {},
     "output_type": "execute_result"
    }
   ],
   "source": [
    "c = {'optimization_goal': 'REPLIES',\n",
    "     'destination_type': 'MESSENGER',\n",
    "     'adset_hours': 48,\n",
    "     'budget': 75000000.0,\n",
    "     'min_budget': 10000.0,\n",
    "     'opt_window': 7*24,\n",
    "     'end_date': '2021-04-01',\n",
    "     'page_id': '102998371752603',\n",
    "     'instagram_id': None,\n",
    "     'proportional': True,\n",
    "     'ad_account': '2240415876083895',\n",
    "     'ad_campaign': 'impact-evaluation-1shot-global-insights'}\n",
    "\n",
    "config = CampaignConf(**c)\n",
    "\n",
    "create_campaign_confs(CAMPAIGNID, \"opt\", [config._asdict()], db_conf)"
   ]
  },
  {
   "cell_type": "code",
   "execution_count": null,
   "metadata": {
    "collapsed": false
   },
   "outputs": [],
   "source": [
    "import json\n",
    "from adopt.marketing import make_audience_conf, dict_from_nested_type\n",
    "\n",
    "audience_confs = [\n",
    "  {\n",
    "    \"name\": \"vlab-mnm-kutcha\",\n",
    "    \"shortcodes\": [\"extrabasehin1shot\"],\n",
    "    \"subtype\": \"LOOKALIKE\",\n",
    "    \"lookalike\": {\n",
    "      \"name\": \"vlab-mnm-kutcha-lookalike\",\n",
    "      \"target\": 2000,\n",
    "      \"spec\": {\n",
    "        \"country\": \"IN\",\n",
    "        \"starting_ratio\": 0.0,\n",
    "        \"ratio\": 0.2\n",
    "      }\n",
    "    },\n",
    "    \"question_targeting\": {\n",
    "      \"op\": \"equal\",\n",
    "      \"vars\": [\n",
    "        {\"type\": \"response\", \"value\": \"dwelling\"},\n",
    "        {\"type\": \"constant\", \"value\": \"A\"}\n",
    "      ]\n",
    "    }\n",
    "  },\n",
    "  {\n",
    "    \"name\": \"vlab-mnm-respondents-1shot-global-insights\",\n",
    "    \"shortcodes\": [\"extrabasehin1shot\"],\n",
    "    \"subtype\": \"CUSTOM\"\n",
    "  }\n",
    "]\n",
    "\n",
    "\n",
    "\n",
    "confs = [dict_from_nested_type(a) for a in audience_confs]\n",
    "\n",
    "create_campaign_confs(CAMPAIGNID, \"audience\", confs, db_conf)"
   ]
  },
  {
   "cell_type": "code",
   "execution_count": null,
   "metadata": {
    "collapsed": false
   },
   "outputs": [],
   "source": [
    "from adopt.marketing import CreativeConf\n",
    "\n",
    "def _creative_conf(name, image, body, form):\n",
    "    return {\n",
    "        \"name\": name,\n",
    "        \"image\": image['name'],\n",
    "        \"image_hash\": image['hash'],\n",
    "        \"body\": body,\n",
    "        \"welcome_message\": body,\n",
    "        \"link_text\": \"Messenger main survey shuroo karen!\",\n",
    "        \"button_text\": \"Start!\",\n",
    "        \"form\": form,\n",
    "    }\n",
    "\n",
    "image_confs = [\n",
    "    ('vlab-mnm-mother-daughter-voice-be-heard', '1.png', 'अपने विचार दुनिया को बताएं!'),\n",
    "    ('vlab-mnm-family-flowers-keep-healthy', '2.png', 'हमें अपने स्वस्थ जीवन के राज बताएं और फ्री डाटा क्रेडिट जीतें।'),\n",
    "    # ('vlab-mnm-schoolgirl-laptop-got-10-min', '3.png', 'क्या आपके पास सिर्फ १० मिनिट हैं? मोबाइल डाटा क्रेडिट में २०० रुपये पाएँ। आपकी राय हमारे लिए महत्वपूर्ण है!'),\n",
    "    ('vlab-mnm-grandfather-bike-healthy', '4.png', 'अपने कम्यूनिटी को स्वस्थ रखने में हमें मदद करें- हमें बताएं आप क्या सोचते है!'),\n",
    "    ('vlab-mnm-woman-sari-texting-got-time', '5.png', 'एक छोटे से सर्वे के लिए आपके पास टाइम है?'),\n",
    "]\n",
    "\n",
    "nncreatives = [CreativeConf(**_creative_conf(name, images[n], body, 'extrabasehin1shot')) for name, n, body in image_confs]\n",
    "# creatives = load_typed_json(\"config/creatives.json\", List[CreativeConf])\n",
    "confs = [c._asdict() for c in creatives]\n",
    "\n",
    "create_campaign_confs(CAMPAIGNID, \"creative\", confs, db_conf)"
   ]
  },
  {
   "cell_type": "code",
   "execution_count": 7,
   "metadata": {
    "collapsed": false
   },
   "outputs": [],
   "source": [
    "import pandas as pd\n",
    "from facebook_business.adobjects.targetinggeolocationcustomlocation \\\n",
    "    import TargetingGeoLocationCustomLocation\n",
    "from facebook_business.adobjects.targetinggeolocationcity import TargetingGeoLocationCity\n",
    "from facebook_business.adobjects.targetinggeolocation import TargetingGeoLocation\n",
    "from facebook_business.adobjects.targetinggeolocation import TargetingGeoLocation\n",
    "from facebook_business.adobjects.targeting import Targeting\n",
    "\n",
    "from adopt.marketing import make_stratum_conf\n",
    "\n",
    "def load_cities(path):\n",
    "    cities = pd.read_csv(path)\n",
    "    cities = cities[cities.rad >= 1.0]\n",
    "    return cities\n",
    "\n",
    "def create_location(lat, lng, rad):\n",
    "    return {\n",
    "        TargetingGeoLocationCustomLocation.Field.latitude: lat,\n",
    "        TargetingGeoLocationCustomLocation.Field.longitude: lng,\n",
    "        TargetingGeoLocationCustomLocation.Field.radius: rad,\n",
    "        TargetingGeoLocationCustomLocation.Field.distance_unit: 'kilometer',\n",
    "    }\n",
    "\n",
    "def make_stratum(facebook_targeting, quota, df):\n",
    "    locs = [create_location(r.lat, r.lng, r.rad) \n",
    "           for _, r in df.iterrows()]\n",
    "\n",
    "    targeting = {\n",
    "        **facebook_targeting,\n",
    "        Targeting.Field.geo_locations: {\n",
    "            TargetingGeoLocation.Field.location_types: ['home'],\n",
    "            TargetingGeoLocation.Field.custom_locations: locs\n",
    "        },\n",
    "    }\n",
    "\n",
    "    id_ = df.disthash.iloc[0]\n",
    "\n",
    "    conf = { 'metadata': {'stratumid': id_},\n",
    "             'facebook_targeting': targeting, \n",
    "             'creatives': ['vlab-mnm-mother-daughter-voice-be-heard',\n",
    "                           'vlab-mnm-family-flowers-keep-healthy',\n",
    "                           # 'vlab-mnm-schoolgirl-laptop-got-10-min',\n",
    "                           'vlab-mnm-grandfather-bike-healthy',\n",
    "                           'vlab-mnm-woman-sari-texting-got-time'],\n",
    "             'shortcodes': ['extrabasehin', 'extrabasehin1shot']}\n",
    "    \n",
    "\n",
    "    base = {**conf, \n",
    "            'id': id_,\n",
    "            'quota': int(quota * 0.7), \n",
    "            'audiences': [],\n",
    "            'excluded_audiences': [\"vlab-mnm-respondents-panel\", \"vlab-mnm-respondents-round-B\", \"vlab-mnm-kutcha-lookalike\", \"vlab-mnm-respondents-1shot\", \"vlab-mnm-respondents-1shot-global-insights\"], \n",
    "            'question_targeting': {\n",
    "                'op': 'and',\n",
    "                'vars': [\n",
    "                    { 'op': 'equal',\n",
    "                      'vars': [{'type': 'response', 'value': 'md:stratumid'},\n",
    "                               {'type': 'constant', 'value': id_}]},\n",
    "                    { 'op': 'not_equal',\n",
    "                      'vars': [{'type': 'response', 'value': 'dwelling'},\n",
    "                               {'type': 'constant', 'value': 'A'}]},\n",
    "                    {'op': 'or', \n",
    "                     'vars': [{ 'op': 'equal', 'vars':[{'type': 'translated_response', 'value': 'malaria4months'}, \n",
    "                                                       {'type': 'constant', 'value': 'Yes'}]}, \n",
    "                              {'op': 'equal', 'vars': [{'type': 'translated_response', 'value': 'fever4months'}, \n",
    "                                                       {'type': 'constant', 'value': 'Yes'}]}]}\n",
    "                ]\n",
    "            }}\n",
    "\n",
    "    kutcha = {**conf, \n",
    "              'id': id_ + '-kutcha',\n",
    "              'quota': int(quota * 0.3), \n",
    "              'audiences': [\"vlab-mnm-kutcha-lookalike\"],\n",
    "              'excluded_audiences': [\"vlab-mnm-respondents-panel\", \"vlab-mnm-respondents-round-B\", \"vlab-mnm-respondents-1shot\", \"vlab-mnm-respondents-1shot-global-insights\"], \n",
    "              'question_targeting': {\n",
    "                  'op': 'and',\n",
    "                  'vars': [\n",
    "                      { 'op': 'equal',\n",
    "                        'vars': [{'type': 'response', 'value': 'md:stratumid'},\n",
    "                                 {'type': 'constant', 'value': id_}]},\n",
    "                      { 'op': 'equal',\n",
    "                        'vars': [{'type': 'response', 'value': 'dwelling'},\n",
    "                                 {'type': 'constant', 'value': 'A'}]}, \n",
    "                      {'op': 'or', \n",
    "                       'vars': [{ 'op': 'equal', 'vars':[{'type': 'translated_response', 'value': 'malaria4months'}, \n",
    "                                                         {'type': 'constant', 'value': 'Yes'}]}, \n",
    "                                {'op': 'equal', 'vars': [{'type': 'translated_response', 'value': 'fever4months'}, \n",
    "                                                         {'type': 'constant', 'value': 'Yes'}]}]}\n",
    "                  ]\n",
    "              }}\n",
    "\n",
    "    return [base, kutcha]"
   ]
  },
  {
   "cell_type": "code",
   "execution_count": null,
   "metadata": {
    "collapsed": false
   },
   "outputs": [],
   "source": [
    "from adopt.marketing import dict_from_nested_type\n",
    "\n",
    "df = load_cities('output/cities.csv')\n",
    "df = df[['disthash', 'rad', 'lng', 'lat', 'creative_group', 'include_audience']]\n",
    "strata = df.groupby('disthash').apply(lambda df: make_stratum({'age_min': 20}, 60, df)).tolist()\n",
    "\n",
    "strata_data = [dict_from_nested_type(make_stratum_conf(c)) for s in strata for c in s]\n",
    "\n",
    "create_campaign_confs(CAMPAIGNID, \"stratum\", strata_data, db_conf)"
   ]
  },
  {
   "cell_type": "markdown",
   "metadata": {
    "collapsed": false
   },
   "source": [
    "# TESTING"
   ]
  },
  {
   "cell_type": "code",
   "execution_count": 9,
   "metadata": {
    "collapsed": false
   },
   "outputs": [],
   "source": [
    "mal = load_basics(CAMPAIGNID, env)"
   ]
  },
  {
   "cell_type": "code",
   "execution_count": null,
   "metadata": {
    "collapsed": false
   },
   "outputs": [],
   "source": [
    "from adopt.malaria import update_audience_for_campaign, update_ads_for_campaign\n",
    "\n",
    "instructions, report = update_ads_for_campaign(mal)"
   ]
  },
  {
   "cell_type": "code",
   "execution_count": null,
   "metadata": {
    "collapsed": false
   },
   "outputs": [],
   "source": [
    "report"
   ]
  },
  {
   "cell_type": "code",
   "execution_count": null,
   "metadata": {
    "collapsed": false
   },
   "outputs": [],
   "source": [
    "instructions, _ = update_audience_for_campaign(mal)"
   ]
  },
  {
   "cell_type": "code",
   "execution_count": null,
   "metadata": {
    "collapsed": false
   },
   "outputs": [],
   "source": [
    "from adopt.malaria import run_instructions\n",
    "\n",
    "run_instructions(instructions, mal.state)"
   ]
  },
  {
   "cell_type": "code",
   "execution_count": null,
   "metadata": {
    "collapsed": false
   },
   "outputs": [],
   "source": [
    "from adopt.malaria import hydrate_strata, hydrate_audiences, get_df\n",
    "\n",
    "userinfo, config, db_conf, state, m, confs = mal\n",
    "\n",
    "# df = get_df(db_conf, userinfo.survey_user, audience_confs)\n",
    "\n",
    "strata = hydrate_strata(state, confs[\"stratum\"], confs[\"creative\"])\n",
    "df = get_df(db_conf, userinfo.survey_user, strata)"
   ]
  },
  {
   "cell_type": "code",
   "execution_count": 27,
   "metadata": {
    "collapsed": false
   },
   "outputs": [],
   "source": [
    "audience_confs = confs[\"audience\"]\n",
    "audiences = hydrate_audiences(df, m, audience_confs)"
   ]
  },
  {
   "cell_type": "code",
   "execution_count": null,
   "metadata": {
    "collapsed": false
   },
   "outputs": [],
   "source": [
    "strata = hydrate_strata(state, confs[\"stratum\"], confs[\"creative\"])\n",
    "df = get_df(db_conf, userinfo.survey_user, strata)"
   ]
  },
  {
   "cell_type": "code",
   "execution_count": 16,
   "metadata": {
    "collapsed": false
   },
   "outputs": [],
   "source": [
    "import pandas as pd\n",
    "from adopt.campaign_queries import get_last_adopt_report\n",
    "\n",
    "rdf = pd.DataFrame(get_last_adopt_report(CAMPAIGNID, \"FACEBOOK_ADOPT\", mal.db_conf)).T"
   ]
  },
  {
   "cell_type": "code",
   "execution_count": 12,
   "metadata": {
    "collapsed": false
   },
   "outputs": [],
   "source": [
    "rdf = pd.DataFrame(report).T"
   ]
  },
  {
   "cell_type": "code",
   "execution_count": 13,
   "metadata": {
    "collapsed": false
   },
   "outputs": [],
   "source": [
    "from adopt.malaria import days_left\n",
    "\n",
    "rdf['expected'] = (rdf.respondents + ((rdf.budget / rdf.price) * days_left(mal.config))).astype(int)\n",
    "rdf['expected_share'] = rdf.expected / rdf.expected.sum()"
   ]
  },
  {
   "cell_type": "code",
   "execution_count": null,
   "metadata": {
    "collapsed": false
   },
   "outputs": [],
   "source": [
    "rdf.sort_values('budget', ascending=False)"
   ]
  },
  {
   "cell_type": "code",
   "execution_count": null,
   "metadata": {
    "collapsed": false
   },
   "outputs": [],
   "source": [
    "mal.state.total_spend / 73 + days_left(mal.config) * rdf.budget.sum() / 7300"
   ]
  },
  {
   "cell_type": "code",
   "execution_count": 23,
   "metadata": {
    "collapsed": false
   },
   "outputs": [
    {
     "data": {
      "text/plain": [
       "5659"
      ]
     },
     "execution_count": 23,
     "metadata": {},
     "output_type": "execute_result"
    }
   ],
   "source": [
    "rdf.expected.sum()"
   ]
  },
  {
   "cell_type": "code",
   "execution_count": 22,
   "metadata": {
    "collapsed": false
   },
   "outputs": [
    {
     "data": {
      "text/plain": [
       "5250.0"
      ]
     },
     "execution_count": 22,
     "metadata": {},
     "output_type": "execute_result"
    }
   ],
   "source": [
    "rdf.respondents.sum()"
   ]
  },
  {
   "cell_type": "code",
   "execution_count": 11,
   "metadata": {
    "collapsed": false
   },
   "outputs": [],
   "source": [
    "rdf['districtid'] = rdf.index.str.split('-').map(lambda x: x[0]).values"
   ]
  },
  {
   "cell_type": "code",
   "execution_count": null,
   "metadata": {
    "collapsed": false
   },
   "outputs": [],
   "source": [
    "rdf.groupby('districtid').agg({'expected': 'sum'}).reset_index().sort_values('expected')"
   ]
  },
  {
   "cell_type": "code",
   "execution_count": null,
   "metadata": {
    "collapsed": false
   },
   "outputs": [],
   "source": [
    "rdf.groupby('districtid').agg({'respondents': 'sum'}).reset_index().sort_values('respondents')"
   ]
  },
  {
   "cell_type": "code",
   "execution_count": null,
   "metadata": {
    "collapsed": false
   },
   "outputs": [],
   "source": [
    "# in this case, what I'd really like the opt to do\n",
    "# is ensure a min representation of kutcha per district. \n",
    "\n",
    "# That sort of \"soft\" target probably only makes\n",
    "# sense for lookalike variables, for hard demo variables\n",
    "# you should always be able to get the exact amount you \n",
    "# want by turning on/off ads, you never get the wrong people\n",
    "\n",
    "# But with lookalike targeting, you get the wrong people\n",
    "# and you want some way to say \"I'm a little flexible on\n",
    "# the exact amount\" -- i'm not sure if this makes sense\n",
    "# actually in the big scheme - but probably. \n",
    "\n",
    "# Really, in this case, I probably want a different Kutcha\n",
    "# target per district. \n",
    "#\n",
    "# Or not. \n",
    "\n",
    "# The thing is this all adds a dependency between buckets\n",
    "# the exact size of one bucket depends on another, the one\n",
    "# that's the same in the hard demos but different in the implicits. \n",
    "\n",
    "# "
   ]
  },
  {
   "cell_type": "code",
   "execution_count": null,
   "metadata": {
    "collapsed": false
   },
   "outputs": [],
   "source": [
    "\n",
    "with pd.option_context(\"display.max_rows\", 160, \"display.max_columns\", 10):\n",
    "    display(rdf.sort_values('budget', ascending=False))"
   ]
  },
  {
   "cell_type": "code",
   "execution_count": 35,
   "metadata": {
    "collapsed": false
   },
   "outputs": [
    {
     "data": {
      "text/plain": [
       "0.03000335994283512"
      ]
     },
     "execution_count": 35,
     "metadata": {},
     "output_type": "execute_result"
    }
   ],
   "source": [
    "import numpy as np\n",
    "\n",
    "np.linalg.norm(rdf.expected_share - rdf.goal)"
   ]
  },
  {
   "cell_type": "code",
   "execution_count": 36,
   "metadata": {
    "collapsed": false
   },
   "outputs": [
    {
     "data": {
      "text/plain": [
       "0.03685672725643937"
      ]
     },
     "execution_count": 36,
     "metadata": {},
     "output_type": "execute_result"
    }
   ],
   "source": [
    "np.linalg.norm(rdf.respondent_share - rdf.goal)"
   ]
  },
  {
   "cell_type": "code",
   "execution_count": 99,
   "metadata": {
    "collapsed": false
   },
   "outputs": [
    {
     "data": {
      "text/plain": [
       "(43.75, 18.75)"
      ]
     },
     "execution_count": 99,
     "metadata": {},
     "output_type": "execute_result"
    }
   ],
   "source": [
    "t = (5000 / 80)\n",
    "\n",
    "t*.7, t*.3"
   ]
  },
  {
   "cell_type": "code",
   "execution_count": 97,
   "metadata": {
    "collapsed": false
   },
   "outputs": [
    {
     "data": {
      "text/plain": [
       "7252.580094737863"
      ]
     },
     "execution_count": 97,
     "metadata": {},
     "output_type": "execute_result"
    }
   ],
   "source": [
    "rdf.expected.sum()"
   ]
  },
  {
   "cell_type": "code",
   "execution_count": 70,
   "metadata": {
    "collapsed": false
   },
   "outputs": [
    {
     "data": {
      "text/plain": [
       "11669.0"
      ]
     },
     "execution_count": 70,
     "metadata": {},
     "output_type": "execute_result"
    }
   ],
   "source": [
    "report.respondents.sum()"
   ]
  },
  {
   "cell_type": "code",
   "execution_count": null,
   "metadata": {
    "collapsed": false
   },
   "outputs": [],
   "source": [
    "df.question_ref"
   ]
  },
  {
   "cell_type": "code",
   "execution_count": 78,
   "metadata": {
    "collapsed": false
   },
   "outputs": [],
   "source": [
    "rdf = pd.DataFrame(report).T"
   ]
  },
  {
   "cell_type": "code",
   "execution_count": null,
   "metadata": {
    "collapsed": false
   },
   "outputs": [],
   "source": [
    "rdf"
   ]
  }
 ],
 "metadata": {
  "kernelspec": {
   "argv": [
    "python",
    "-m",
    "ipykernel_launcher",
    "-f",
    "{connection_file}"
   ],
   "display_name": "Python 3",
   "env": null,
   "interrupt_mode": "signal",
   "language": "python",
   "metadata": null,
   "name": "python3"
  },
  "name": "mnm-one-shot-make-strata.ipynb"
 },
 "nbformat": 4,
 "nbformat_minor": 4
}
