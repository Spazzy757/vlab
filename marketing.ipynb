{
 "cells": [
  {
   "cell_type": "code",
   "execution_count": 1,
   "metadata": {
    "collapsed": false
   },
   "outputs": [
    {
     "name": "stdout",
     "output_type": "stream",
     "text": [
      "\u001b[33mWARNING: You are using pip version 20.0.2; however, version 20.1.1 is available.\r\n",
      "You should consider upgrading via the '/usr/local/bin/python -m pip install --upgrade pip' command.\u001b[0m\r\n"
     ]
    }
   ],
   "source": [
    "! pip install --quiet environs facebook_business cyksuid toolz psycopg2-binary typing_json backoff xxhash"
   ]
  },
  {
   "cell_type": "code",
   "execution_count": 1,
   "metadata": {
    "collapsed": false
   },
   "outputs": [],
   "source": [
    "%load_ext autoreload\n",
    "%autoreload 2"
   ]
  },
  {
   "cell_type": "code",
   "execution_count": 2,
   "metadata": {
    "collapsed": false
   },
   "outputs": [],
   "source": [
    "from environs import Env\n",
    "env = Env()\n",
    "env.read_env('.env')"
   ]
  },
  {
   "cell_type": "code",
   "execution_count": 130,
   "metadata": {
    "collapsed": false
   },
   "outputs": [],
   "source": [
    "from malaria import get_conf, get_df, lookalike\n",
    "from marketing import Marketing\n",
    "\n",
    "cnf = get_conf(env)\n",
    "m = Marketing(env)"
   ]
  },
  {
   "cell_type": "code",
   "execution_count": 569,
   "metadata": {
    "collapsed": false
   },
   "outputs": [],
   "source": [
    "from malaria import get_conf, get_df\n",
    "\n",
    "cnf = get_conf(env)\n",
    "df = get_df(cnf)"
   ]
  },
  {
   "cell_type": "code",
   "execution_count": null,
   "metadata": {
    "collapsed": false
   },
   "outputs": [],
   "source": [
    "# from malaria import update_audience\n",
    "\n",
    "# update_audience()"
   ]
  },
  {
   "cell_type": "code",
   "execution_count": null,
   "metadata": {
    "collapsed": false
   },
   "outputs": [],
   "source": [
    "df[df.question_ref == 'f6e69027-97cc-494e-8d52-318b75047e23'].response.value_counts()"
   ]
  },
  {
   "cell_type": "code",
   "execution_count": 61,
   "metadata": {
    "collapsed": false
   },
   "outputs": [],
   "source": [
    "from datetime import datetime, timezone\n",
    "from clustering import only_target_users\n",
    "\n",
    "def filter_time(df, min_date, max_date):\n",
    "    users = df[(df.timestamp > min_date) & (df.timestamp < max_date)].userid.unique()\n",
    "    return df[df.userid.isin(users)]\n",
    "\n",
    "def get_percentage(df, cnf):\n",
    "    answered = df[df.question_ref == 'f6e69027-97cc-494e-8d52-318b75047e23'].userid.unique()\n",
    "    df = df[df.userid.isin(answered)]\n",
    "    tot = df.userid.unique().shape[0]\n",
    "    targets = only_target_users(df, cnf['strata'][0]['surveys'])\n",
    "    targets = targets.userid.unique().shape[0]\n",
    "    return targets/tot, targets, tot\n"
   ]
  },
  {
   "cell_type": "code",
   "execution_count": 21,
   "metadata": {
    "collapsed": false
   },
   "outputs": [
    {
     "data": {
      "text/plain": [
       "(0.16248675379724478, 460, 2831)"
      ]
     },
     "execution_count": 21,
     "metadata": {},
     "output_type": "execute_result"
    }
   ],
   "source": [
    "day = filter_time(df, datetime(2020,7,23,tzinfo=timezone.utc), datetime(2020,7,25,tzinfo=timezone.utc))\n",
    "\n",
    "get_percentage(day, cnf)"
   ]
  },
  {
   "cell_type": "code",
   "execution_count": 22,
   "metadata": {
    "collapsed": false
   },
   "outputs": [
    {
     "data": {
      "text/plain": [
       "(0.1910828025477707, 270, 1413)"
      ]
     },
     "execution_count": 22,
     "metadata": {},
     "output_type": "execute_result"
    }
   ],
   "source": [
    "\n",
    "day = filter_time(df, datetime(2020,7,25,tzinfo=timezone.utc), datetime(2020,7,26,tzinfo=timezone.utc))\n",
    "get_percentage(day, cnf)"
   ]
  },
  {
   "cell_type": "code",
   "execution_count": 23,
   "metadata": {
    "collapsed": false
   },
   "outputs": [
    {
     "data": {
      "text/plain": [
       "(0.16407355021216408, 232, 1414)"
      ]
     },
     "execution_count": 23,
     "metadata": {},
     "output_type": "execute_result"
    }
   ],
   "source": [
    "day = filter_time(df, datetime(2020,7,26,tzinfo=timezone.utc), datetime(2020,7,27,tzinfo=timezone.utc))\n",
    "get_percentage(day, cnf)"
   ]
  },
  {
   "cell_type": "code",
   "execution_count": 62,
   "metadata": {
    "collapsed": false
   },
   "outputs": [
    {
     "data": {
      "text/plain": [
       "(0.17543859649122806, 20, 114)"
      ]
     },
     "execution_count": 62,
     "metadata": {},
     "output_type": "execute_result"
    }
   ],
   "source": [
    "day = filter_time(df, datetime(2020,7,27,tzinfo=timezone.utc), datetime(2020,7,28,tzinfo=timezone.utc))\n",
    " \n",
    "get_percentage(day, cnf)"
   ]
  },
  {
   "cell_type": "code",
   "execution_count": 63,
   "metadata": {
    "collapsed": false
   },
   "outputs": [
    {
     "data": {
      "text/plain": [
       "(0.17040125065138093, 981, 5757)"
      ]
     },
     "execution_count": 63,
     "metadata": {},
     "output_type": "execute_result"
    }
   ],
   "source": [
    "get_percentage(df, cnf)"
   ]
  },
  {
   "cell_type": "code",
   "execution_count": null,
   "metadata": {
    "collapsed": false
   },
   "outputs": [],
   "source": [
    "from facebook_business.adobjects.targeting import Targeting\n",
    "\n",
    "dir(Targeting.Field)"
   ]
  },
  {
   "cell_type": "code",
   "execution_count": 59,
   "metadata": {
    "collapsed": false
   },
   "outputs": [
    {
     "data": {
      "text/plain": [
       "(3, 110)"
      ]
     },
     "execution_count": 59,
     "metadata": {},
     "output_type": "execute_result"
    }
   ],
   "source": [
    "(df[df.question_ref == 'md:clusterid'].response.value_counts() >= 200).sum(), (df[df.question_ref == 'md:clusterid'].response.value_counts() >= 12).sum()"
   ]
  },
  {
   "cell_type": "code",
   "execution_count": 30,
   "metadata": {
    "collapsed": false
   },
   "outputs": [
    {
     "name": "stderr",
     "output_type": "stream",
     "text": [
      "WARNING:root:User without district: 1989430067808669\n"
     ]
    }
   ],
   "source": [
    "targets = only_target_users(df, cnf['strata'][0]['surveys'])\n",
    "users = targets.userid.unique()"
   ]
  },
  {
   "cell_type": "code",
   "execution_count": 31,
   "metadata": {
    "collapsed": false
   },
   "outputs": [
    {
     "data": {
      "text/plain": [
       "(4, 49)"
      ]
     },
     "execution_count": 31,
     "metadata": {},
     "output_type": "execute_result"
    }
   ],
   "source": [
    "(targets[targets.question_ref == 'md:clusterid'].response.value_counts() >= 30).sum(), (targets[targets.question_ref == 'md:clusterid'].response.value_counts() >= 8).sum()"
   ]
  },
  {
   "cell_type": "code",
   "execution_count": 64,
   "metadata": {
    "collapsed": false
   },
   "outputs": [],
   "source": [
    "import pandas as pd\n",
    "from clustering import add_res_col\n",
    "from malaria import load_cities\n",
    "\n",
    "\n",
    "def perc_target(users, df):\n",
    "    u = pd.Series(df.userid.unique())\n",
    "    tot = u.unique().shape[0]\n",
    "    target = u.isin(users).sum()\n",
    "    perc = target / tot\n",
    "    return pd.Series([perc, tot, target], index=['perc', 'tot', 'target'])\n",
    "\n",
    "\n",
    "def make_analysis_df(df, districts, users):\n",
    "    finished = df[df.question_ref == 'f6e69027-97cc-494e-8d52-318b75047e23'].userid.unique()\n",
    "    df = df[df.userid.isin(finished)].reset_index(drop=True)\n",
    "    df = add_res_col('md:clusterid', 'cluster', 'userid', df)\n",
    "    perc = df.groupby('cluster').apply(lambda df: perc_target(users, df)).reset_index()\n",
    "    perc = perc.merge(districts, left_on='cluster', right_on='disthash')\n",
    "    return perc"
   ]
  },
  {
   "cell_type": "code",
   "execution_count": 65,
   "metadata": {
    "collapsed": false
   },
   "outputs": [],
   "source": [
    "\n",
    "cities = load_cities('output/cities.csv')\n",
    "\n",
    "districts = cities.groupby('distname') \\\n",
    "                  .head(1) \\\n",
    "                  .reset_index(drop=True) \\\n",
    "                  .drop(columns=['rad', 'lng', 'lat', 'distcode', 'id'])\n",
    "\n",
    "\n",
    "perc = make_analysis_df(df, districts, users)"
   ]
  },
  {
   "cell_type": "code",
   "execution_count": 41,
   "metadata": {
    "collapsed": false
   },
   "outputs": [],
   "source": [
    "day = add_res_col('md:clusterid', 'cluster', 'userid', day)"
   ]
  },
  {
   "cell_type": "code",
   "execution_count": 48,
   "metadata": {
    "collapsed": false
   },
   "outputs": [],
   "source": [
    "\n",
    "\n",
    "isin = perc.disthash.isin(day.cluster.unique())"
   ]
  },
  {
   "cell_type": "code",
   "execution_count": null,
   "metadata": {
    "collapsed": false
   },
   "outputs": [],
   "source": [
    "with pd.option_context('display.max_rows', None): \n",
    "    display(perc.sort_values('perc')[['perc', 'tot', 'target', 'distname']])"
   ]
  },
  {
   "cell_type": "code",
   "execution_count": null,
   "metadata": {
    "collapsed": false
   },
   "outputs": [],
   "source": []
  },
  {
   "cell_type": "code",
   "execution_count": 69,
   "metadata": {
    "collapsed": false
   },
   "outputs": [
    {
     "data": {
      "text/html": [
       "<div>\n",
       "<style scoped>\n",
       "    .dataframe tbody tr th:only-of-type {\n",
       "        vertical-align: middle;\n",
       "    }\n",
       "\n",
       "    .dataframe tbody tr th {\n",
       "        vertical-align: top;\n",
       "    }\n",
       "\n",
       "    .dataframe thead th {\n",
       "        text-align: right;\n",
       "    }\n",
       "</style>\n",
       "<table border=\"1\" class=\"dataframe\">\n",
       "  <thead>\n",
       "    <tr style=\"text-align: right;\">\n",
       "      <th></th>\n",
       "      <th>percentage</th>\n",
       "      <th>malaria</th>\n",
       "      <th>total</th>\n",
       "    </tr>\n",
       "    <tr>\n",
       "      <th>state</th>\n",
       "      <th></th>\n",
       "      <th></th>\n",
       "      <th></th>\n",
       "    </tr>\n",
       "  </thead>\n",
       "  <tbody>\n",
       "    <tr>\n",
       "      <th>Chhatisgarh</th>\n",
       "      <td>0.1905</td>\n",
       "      <td>64</td>\n",
       "      <td>336</td>\n",
       "    </tr>\n",
       "    <tr>\n",
       "      <th>Jharkhand</th>\n",
       "      <td>0.2297</td>\n",
       "      <td>136</td>\n",
       "      <td>592</td>\n",
       "    </tr>\n",
       "    <tr>\n",
       "      <th>Orissa</th>\n",
       "      <td>0.0698</td>\n",
       "      <td>22</td>\n",
       "      <td>315</td>\n",
       "    </tr>\n",
       "    <tr>\n",
       "      <th>Uttar Pradesh</th>\n",
       "      <td>0.1712</td>\n",
       "      <td>636</td>\n",
       "      <td>3716</td>\n",
       "    </tr>\n",
       "  </tbody>\n",
       "</table>\n",
       "</div>"
      ],
      "text/plain": [
       "               percentage  malaria  total\n",
       "state                                    \n",
       "Chhatisgarh        0.1905       64    336\n",
       "Jharkhand          0.2297      136    592\n",
       "Orissa             0.0698       22    315\n",
       "Uttar Pradesh      0.1712      636   3716"
      ]
     },
     "execution_count": 69,
     "metadata": {},
     "output_type": "execute_result"
    }
   ],
   "source": [
    "def statewide(df):\n",
    "    trg = df.target.sum().astype(int)\n",
    "    tot = df.tot.sum().astype(int)\n",
    "    return pd.Series([trg/tot, trg, tot], index=['percentage', 'malaria', 'total'])\n",
    "\n",
    "states = perc.groupby('state').apply(statewide).round(4)\n",
    "states['total'] = states['total'].astype(int)\n",
    "states['malaria'] = states['malaria'].astype(int)\n",
    "\n",
    "states"
   ]
  },
  {
   "cell_type": "code",
   "execution_count": 109,
   "metadata": {
    "collapsed": false
   },
   "outputs": [
    {
     "data": {
      "text/plain": [
       "(31,)"
      ]
     },
     "execution_count": 109,
     "metadata": {},
     "output_type": "execute_result"
    }
   ],
   "source": [
    "perc[(perc.target >= 3) & (perc.perc > 0.2)].cluster.shape"
   ]
  },
  {
   "cell_type": "code",
   "execution_count": 110,
   "metadata": {
    "collapsed": false
   },
   "outputs": [
    {
     "data": {
      "text/plain": [
       "0.4357142857142857"
      ]
     },
     "execution_count": 110,
     "metadata": {},
     "output_type": "execute_result"
    }
   ],
   "source": [
    "perc[(perc.target >= 3) & (perc.perc > 0.1)].cluster.shape[0] / perc.shape[0]"
   ]
  },
  {
   "cell_type": "code",
   "execution_count": 111,
   "metadata": {
    "collapsed": false
   },
   "outputs": [
    {
     "data": {
      "text/plain": [
       "0.7975609756097561"
      ]
     },
     "execution_count": 111,
     "metadata": {},
     "output_type": "execute_result"
    }
   ],
   "source": [
    "perc[(perc.target >= 3) & (perc.perc > 0.1)].target.sum() / perc.target.sum()"
   ]
  },
  {
   "cell_type": "code",
   "execution_count": 113,
   "metadata": {
    "collapsed": false
   },
   "outputs": [],
   "source": []
  },
  {
   "cell_type": "code",
   "execution_count": 122,
   "metadata": {
    "collapsed": false
   },
   "outputs": [],
   "source": [
    "chosen_clusters = perc[(perc.target >= 3) & (perc.perc > 0.1)].cluster\n",
    "top_cities = cities[cities.disthash.isin(chosen_clusters)].reset_index(drop=True)"
   ]
  },
  {
   "cell_type": "code",
   "execution_count": null,
   "metadata": {
    "collapsed": false
   },
   "outputs": [],
   "source": [
    "perc[perc.perc > .35].sort_values('target')"
   ]
  },
  {
   "cell_type": "code",
   "execution_count": 90,
   "metadata": {
    "collapsed": false
   },
   "outputs": [],
   "source": [
    "chosen_clusters = perc[(perc.perc > .35) & (perc.target >= 3)].cluster\n",
    "malaria_cities = cities[cities.disthash.isin(chosen_clusters)].reset_index(drop=True)\n",
    "malaria_cities = malaria_cities[~malaria_cities.state.isin(['Orissa'])]\n",
    "malaria_cities.to_csv('output/malaria-cities.csv', index=False)"
   ]
  },
  {
   "cell_type": "code",
   "execution_count": null,
   "metadata": {
    "collapsed": false
   },
   "outputs": [],
   "source": [
    "malaria_cities"
   ]
  },
  {
   "cell_type": "code",
   "execution_count": 94,
   "metadata": {
    "collapsed": false
   },
   "outputs": [],
   "source": [
    "import pandas as pd\n",
    "\n",
    "top_cities = pd.read_csv('output/top-cities.csv')"
   ]
  },
  {
   "cell_type": "code",
   "execution_count": null,
   "metadata": {
    "collapsed": false
   },
   "outputs": [],
   "source": [
    "top_cities"
   ]
  },
  {
   "cell_type": "code",
   "execution_count": 26,
   "metadata": {
    "collapsed": false
   },
   "outputs": [],
   "source": [
    "\n",
    "def pause_adsets(m, clusters):\n",
    "    get_ad = lambda c: next((a for k, a in m.running_ads.items() if c in k), None)\n",
    "    to_delete = [get_ad(c) for c in clusters]\n",
    "    upd = lambda a: a.api_update(params={ 'status': 'PAUSED' })\n",
    "    return [upd(ad) for ad in to_delete]\n",
    "        \n",
    "# res = pause_adsets(m, perc[perc.perc == 0.0].cluster)"
   ]
  },
  {
   "cell_type": "code",
   "execution_count": null,
   "metadata": {
    "collapsed": false
   },
   "outputs": [],
   "source": [
    "aud = get_aud(m, cnf, True)"
   ]
  },
  {
   "cell_type": "code",
   "execution_count": null,
   "metadata": {
    "collapsed": false
   },
   "outputs": [],
   "source": [
    "aud"
   ]
  },
  {
   "cell_type": "code",
   "execution_count": 9,
   "metadata": {
    "collapsed": false
   },
   "outputs": [],
   "source": [
    "from malaria import unsaturated\n",
    "\n",
    "clusters = unsaturated(df, cnf)"
   ]
  },
  {
   "cell_type": "code",
   "execution_count": 75,
   "metadata": {
    "collapsed": false
   },
   "outputs": [],
   "source": [
    "adsets = m.account.get_ad_sets(fields=['lifetime_budget', 'instagram_actor_id', 'campaign_id', 'targeting'])"
   ]
  },
  {
   "cell_type": "code",
   "execution_count": 78,
   "metadata": {
    "collapsed": false
   },
   "outputs": [
    {
     "data": {
      "text/plain": [
       "<bound method AdAccount.create_ad_label of <AdAccount> {\n",
       "    \"id\": \"act_2240415876083895\"\n",
       "}>"
      ]
     },
     "execution_count": 78,
     "metadata": {},
     "output_type": "execute_result"
    }
   ],
   "source": [
    "m.account.create_ad_label"
   ]
  },
  {
   "cell_type": "code",
   "execution_count": 34,
   "metadata": {
    "collapsed": false
   },
   "outputs": [],
   "source": [
    "from malaria import load_creatives\n",
    "\n",
    "c = load_creatives('config/creatives.json', 'hindi')\n",
    "\n",
    "cc = c.creatives[0]"
   ]
  },
  {
   "cell_type": "code",
   "execution_count": 22,
   "metadata": {
    "collapsed": false
   },
   "outputs": [
    {
     "data": {
      "text/plain": [
       "<AdLabel> {\n",
       "    \"id\": \"23845076800330518\"\n",
       "}"
      ]
     },
     "execution_count": 22,
     "metadata": {},
     "output_type": "execute_result"
    }
   ],
   "source": [
    "import logging\n",
    "\n",
    "def create_label(account, name):\n",
    "    \n",
    "    pass\n",
    "\n",
    "def get_label(account, name):\n",
    "    label = m.account.create_ad_label(params={'name': name})\n",
    "    return label\n",
    "\n",
    "\n",
    "\n",
    "get_label(m.account, 'foo')"
   ]
  },
  {
   "cell_type": "code",
   "execution_count": null,
   "metadata": {
    "collapsed": false
   },
   "outputs": [],
   "source": [
    "m.account.get_ad_labels()"
   ]
  },
  {
   "cell_type": "code",
   "execution_count": 55,
   "metadata": {
    "collapsed": false
   },
   "outputs": [
    {
     "data": {
      "text/plain": [
       "'{\"error\":{\"message\":\"(#100) An owning business is required for this request\",\"type\":\"OAuthException\",\"code\":100,\"fbtrace_id\":\"AypFAF9YX6tqhTqMedHqQHB\"}}'"
      ]
     },
     "execution_count": 55,
     "metadata": {},
     "output_type": "execute_result"
    }
   ],
   "source": [
    "import hashlib\n",
    "import hmac\n",
    "\n",
    "def secret_proof(app_secret, access_token):\n",
    "    h = hmac.new (\n",
    "        app_secret.encode('utf-8'),\n",
    "        msg=access_token.encode('utf-8'),\n",
    "        digestmod=hashlib.sha256\n",
    "    )\n",
    "    return h.hexdigest()\n",
    "\n",
    "\n",
    "secret = env('FACEBOOK_APP_SECRET')\n",
    "token = ''\n",
    "user = users[0]\n",
    "\n",
    "proof = secret_proof(secret, token)\n",
    "\n",
    "import requests\n",
    "\n",
    "res = requests.get(f'https://graph.facebook.com/v7.0/{user}/ids_for_apps?access_token={token}&appsecret_proof={proof}')\n",
    "\n",
    "res.text"
   ]
  },
  {
   "cell_type": "code",
   "execution_count": 33,
   "metadata": {
    "collapsed": false
   },
   "outputs": [],
   "source": [
    "import time\n",
    "\n",
    "from facebook_business.adobjects.serverside.event import Event\n",
    "from facebook_business.adobjects.serverside.event_request import EventRequest\n",
    "from facebook_business.adobjects.serverside.user_data import UserData\n",
    "from facebook_business.adobjects.serverside.custom_data import CustomData\n",
    "from facebook_business.api import FacebookAdsApi\n",
    "\n",
    "# access_token = '<ACCESS_TOKEN>'\n",
    "# pixel_id = 'ADS_PIXEL_ID>'\n",
    "\n",
    "\n",
    "# user_data = UserData(\n",
    "#     email='joe@eg.com',\n",
    "#     fbc='fb.1.1554763741205.AbCdEfGhIjKlMnOpQrStUvWxYz1234567890',\n",
    "#     fbp='fb.1.1558571054389.1098115397'\n",
    "# )\n",
    "\n",
    "# custom_data = CustomData(\n",
    "#     currency='usd',\n",
    "#     value=123.45\n",
    "# )\n",
    "\n",
    "# event = Event(\n",
    "#     event_name='Purchase',\n",
    "#     event_time=int(time.time()),\n",
    "#     user_data=user_data,\n",
    "#     custom_data=custom_data,\n",
    "# )\n",
    "\n",
    "# events = [event]\n",
    "\n",
    "# event_request = EventRequest(\n",
    "#     events=events,\n",
    "#     pixel_id=pixel_id)\n",
    "\n",
    "# event_response = event_request.execute()\n",
    "# print(event_response)"
   ]
  },
  {
   "cell_type": "code",
   "execution_count": 35,
   "metadata": {
    "collapsed": false
   },
   "outputs": [],
   "source": [
    "?UserData"
   ]
  },
  {
   "cell_type": "code",
   "execution_count": 64,
   "metadata": {
    "collapsed": false
   },
   "outputs": [
    {
     "data": {
      "text/plain": [
       "<AdLabel> {\n",
       "    \"id\": \"23845036050710518\"\n",
       "}"
      ]
     },
     "execution_count": 64,
     "metadata": {},
     "output_type": "execute_result"
    }
   ],
   "source": [
    "\n",
    "# its idempotent!!!\n"
   ]
  },
  {
   "cell_type": "code",
   "execution_count": 12,
   "metadata": {
    "collapsed": false
   },
   "outputs": [
    {
     "data": {
      "text/html": [
       "<div>\n",
       "<style scoped>\n",
       "    .dataframe tbody tr th:only-of-type {\n",
       "        vertical-align: middle;\n",
       "    }\n",
       "\n",
       "    .dataframe tbody tr th {\n",
       "        vertical-align: top;\n",
       "    }\n",
       "\n",
       "    .dataframe thead th {\n",
       "        text-align: right;\n",
       "    }\n",
       "</style>\n",
       "<table border=\"1\" class=\"dataframe\">\n",
       "  <thead>\n",
       "    <tr style=\"text-align: right;\">\n",
       "      <th></th>\n",
       "      <th>id</th>\n",
       "      <th>distcode</th>\n",
       "      <th>distname</th>\n",
       "      <th>state</th>\n",
       "      <th>rad</th>\n",
       "      <th>lng</th>\n",
       "      <th>lat</th>\n",
       "      <th>disthash</th>\n",
       "    </tr>\n",
       "  </thead>\n",
       "  <tbody>\n",
       "    <tr>\n",
       "      <th>0</th>\n",
       "      <td>245718296</td>\n",
       "      <td>363.0</td>\n",
       "      <td>Jamtara</td>\n",
       "      <td>Jharkhand</td>\n",
       "      <td>9.082666</td>\n",
       "      <td>86.802492</td>\n",
       "      <td>23.963216</td>\n",
       "      <td>94c3981f</td>\n",
       "    </tr>\n",
       "    <tr>\n",
       "      <th>2</th>\n",
       "      <td>6736171285</td>\n",
       "      <td>363.0</td>\n",
       "      <td>Jamtara</td>\n",
       "      <td>Jharkhand</td>\n",
       "      <td>4.793280</td>\n",
       "      <td>86.613861</td>\n",
       "      <td>24.045396</td>\n",
       "      <td>94c3981f</td>\n",
       "    </tr>\n",
       "    <tr>\n",
       "      <th>3</th>\n",
       "      <td>6736213486</td>\n",
       "      <td>363.0</td>\n",
       "      <td>Jamtara</td>\n",
       "      <td>Jharkhand</td>\n",
       "      <td>5.612525</td>\n",
       "      <td>87.161193</td>\n",
       "      <td>23.970470</td>\n",
       "      <td>94c3981f</td>\n",
       "    </tr>\n",
       "    <tr>\n",
       "      <th>4</th>\n",
       "      <td>566174725</td>\n",
       "      <td>369.0</td>\n",
       "      <td>Saraikela-Kharsawan</td>\n",
       "      <td>Jharkhand</td>\n",
       "      <td>2.375710</td>\n",
       "      <td>86.106653</td>\n",
       "      <td>22.815277</td>\n",
       "      <td>ba2a52b9</td>\n",
       "    </tr>\n",
       "    <tr>\n",
       "      <th>5</th>\n",
       "      <td>1323455437</td>\n",
       "      <td>369.0</td>\n",
       "      <td>Saraikela-Kharsawan</td>\n",
       "      <td>Jharkhand</td>\n",
       "      <td>11.198950</td>\n",
       "      <td>85.947944</td>\n",
       "      <td>22.791742</td>\n",
       "      <td>ba2a52b9</td>\n",
       "    </tr>\n",
       "    <tr>\n",
       "      <th>...</th>\n",
       "      <td>...</td>\n",
       "      <td>...</td>\n",
       "      <td>...</td>\n",
       "      <td>...</td>\n",
       "      <td>...</td>\n",
       "      <td>...</td>\n",
       "      <td>...</td>\n",
       "      <td>...</td>\n",
       "    </tr>\n",
       "    <tr>\n",
       "      <th>679</th>\n",
       "      <td>6591683648</td>\n",
       "      <td>175.0</td>\n",
       "      <td>Allahabad</td>\n",
       "      <td>Uttar Pradesh</td>\n",
       "      <td>7.658412</td>\n",
       "      <td>81.782379</td>\n",
       "      <td>25.450019</td>\n",
       "      <td>4c6cbda0</td>\n",
       "    </tr>\n",
       "    <tr>\n",
       "      <th>680</th>\n",
       "      <td>6591683649</td>\n",
       "      <td>175.0</td>\n",
       "      <td>Allahabad</td>\n",
       "      <td>Uttar Pradesh</td>\n",
       "      <td>10.965387</td>\n",
       "      <td>81.815529</td>\n",
       "      <td>25.457826</td>\n",
       "      <td>4c6cbda0</td>\n",
       "    </tr>\n",
       "    <tr>\n",
       "      <th>681</th>\n",
       "      <td>6591687870</td>\n",
       "      <td>175.0</td>\n",
       "      <td>Allahabad</td>\n",
       "      <td>Uttar Pradesh</td>\n",
       "      <td>16.329389</td>\n",
       "      <td>81.854603</td>\n",
       "      <td>25.529915</td>\n",
       "      <td>4c6cbda0</td>\n",
       "    </tr>\n",
       "    <tr>\n",
       "      <th>682</th>\n",
       "      <td>6591831677</td>\n",
       "      <td>175.0</td>\n",
       "      <td>Allahabad</td>\n",
       "      <td>Uttar Pradesh</td>\n",
       "      <td>18.265542</td>\n",
       "      <td>81.875911</td>\n",
       "      <td>25.483881</td>\n",
       "      <td>4c6cbda0</td>\n",
       "    </tr>\n",
       "    <tr>\n",
       "      <th>683</th>\n",
       "      <td>6592024345</td>\n",
       "      <td>175.0</td>\n",
       "      <td>Allahabad</td>\n",
       "      <td>Uttar Pradesh</td>\n",
       "      <td>15.216460</td>\n",
       "      <td>81.872907</td>\n",
       "      <td>25.434671</td>\n",
       "      <td>4c6cbda0</td>\n",
       "    </tr>\n",
       "  </tbody>\n",
       "</table>\n",
       "<p>591 rows × 8 columns</p>\n",
       "</div>"
      ],
      "text/plain": [
       "             id  distcode             distname          state        rad  \\\n",
       "0     245718296     363.0              Jamtara      Jharkhand   9.082666   \n",
       "2    6736171285     363.0              Jamtara      Jharkhand   4.793280   \n",
       "3    6736213486     363.0              Jamtara      Jharkhand   5.612525   \n",
       "4     566174725     369.0  Saraikela-Kharsawan      Jharkhand   2.375710   \n",
       "5    1323455437     369.0  Saraikela-Kharsawan      Jharkhand  11.198950   \n",
       "..          ...       ...                  ...            ...        ...   \n",
       "679  6591683648     175.0            Allahabad  Uttar Pradesh   7.658412   \n",
       "680  6591683649     175.0            Allahabad  Uttar Pradesh  10.965387   \n",
       "681  6591687870     175.0            Allahabad  Uttar Pradesh  16.329389   \n",
       "682  6591831677     175.0            Allahabad  Uttar Pradesh  18.265542   \n",
       "683  6592024345     175.0            Allahabad  Uttar Pradesh  15.216460   \n",
       "\n",
       "           lng        lat  disthash  \n",
       "0    86.802492  23.963216  94c3981f  \n",
       "2    86.613861  24.045396  94c3981f  \n",
       "3    87.161193  23.970470  94c3981f  \n",
       "4    86.106653  22.815277  ba2a52b9  \n",
       "5    85.947944  22.791742  ba2a52b9  \n",
       "..         ...        ...       ...  \n",
       "679  81.782379  25.450019  4c6cbda0  \n",
       "680  81.815529  25.457826  4c6cbda0  \n",
       "681  81.854603  25.529915  4c6cbda0  \n",
       "682  81.875911  25.483881  4c6cbda0  \n",
       "683  81.872907  25.434671  4c6cbda0  \n",
       "\n",
       "[591 rows x 8 columns]"
      ]
     },
     "execution_count": 12,
     "metadata": {},
     "output_type": "execute_result"
    }
   ],
   "source": [
    "from malaria import load_cities\n",
    "cities = load_cities('output/cities.csv')\n",
    "\n"
   ]
  },
  {
   "cell_type": "code",
   "execution_count": null,
   "metadata": {
    "collapsed": false
   },
   "outputs": [],
   "source": [
    "import re\n",
    "from facebook_business.adobjects.adcreative import AdCreative\n",
    "\n",
    "def delete_our_creatives(account):\n",
    "    # TODO: change for get by label!\n",
    "    ids = [a['id'] for a in account.get_ad_creatives(fields=['name']) \n",
    "           if re.match('vlab-', a['name'])]\n",
    "\n",
    "    print(len(ids))\n",
    "\n",
    "    i = 0\n",
    "    for id_ in ids:\n",
    "        try:\n",
    "            c = AdCreative(id_)\n",
    "            c.api_delete()\n",
    "            i += 1\n",
    "            print(i)\n",
    "        except:\n",
    "            print('nope!')\n",
    "\n",
    "\n",
    "\n",
    "# delete_our_creatives(m.account)"
   ]
  },
  {
   "cell_type": "code",
   "execution_count": 105,
   "metadata": {
    "collapsed": false
   },
   "outputs": [
    {
     "data": {
      "text/plain": [
       "{'db': 'chatroach',\n",
       " 'user': 'chatreader',\n",
       " 'host': 'localhost',\n",
       " 'port': '5432',\n",
       " 'password': None}"
      ]
     },
     "execution_count": 105,
     "metadata": {},
     "output_type": "execute_result"
    }
   ],
   "source": []
  },
  {
   "cell_type": "code",
   "execution_count": 130,
   "metadata": {
    "collapsed": false
   },
   "outputs": [],
   "source": [
    "from responses import get_forms\n",
    "from datetime import datetime\n",
    "\n",
    "survey_user = '10383123-9fb1-429b-8312-447c1b54b17a'\n",
    "shortcodes = ['baselinehin', 'baselineeng']\n",
    "\n",
    "timestamp = datetime(2020, 7, 25)\n",
    "\n",
    "forms = list(get_forms(survey_user, shortcodes, timestamp, cnf['chatbase']))"
   ]
  },
  {
   "cell_type": "code",
   "execution_count": 252,
   "metadata": {
    "collapsed": false
   },
   "outputs": [],
   "source": [
    "questions = [\n",
    "    ('malaria_incidence', 'f6e69027-97cc-494e-8d52-318b75047e23'),\n",
    "    ('dist_medical', 'd7573919-8a7e-457f-9a1d-1f8c389127a7'),\n",
    "    ('education', 'e40fa1c6-13a1-4a02-91cd-0eaade11864d'),\n",
    "    ('owns_net', 'bd4802c6-7bdb-40f0-aac1-18cc6df7da6e'),\n",
    "    ('has_ac', 'e279587c-975f-433a-adab-1ad563876af6'),\n",
    "    ('home', '4d0ae478-3893-4b46-ab39-d6848c69245d')]\n"
   ]
  },
  {
   "cell_type": "code",
   "execution_count": 256,
   "metadata": {
    "collapsed": false
   },
   "outputs": [],
   "source": [
    "from responses import get_response_df\n",
    "\n",
    "def ref_translation(eng_form, other_form):\n",
    "    vals = [(a['ref'], b['ref']) for a, b \n",
    "            in zip(eng_form['fields'], other_form['fields'])]\n",
    "    lookup = dict(vals)\n",
    "    rev_lookup = {v:k for k,v in lookup.items()}\n",
    "    return lookup, rev_lookup\n",
    "\n",
    "\n",
    "def get_filtered_responses(survey_user, eng_form, other_form, questions, db_cnf):\n",
    "    ref_lookup, rev_ref_lookup = ref_translation(eng_form, other_form)\n",
    "    refs = [ref_lookup[r] for _, r in questions]\n",
    "    responses = get_response_df(survey_user, ['baselinehin'], refs, db_cnf)\n",
    "\n",
    "    _, last_ref = questions[-1]\n",
    "    \n",
    "    answered = responses[responses.question_ref == last_ref].userid.unique()    \n",
    "\n",
    "    return responses[responses.userid.isin(answered)].reset_index(drop=True)\n",
    "\n",
    "\n",
    "rr = get_filtered_responses(survey_user, forms[0], forms[1], questions, cnf['chatbase'])"
   ]
  },
  {
   "cell_type": "code",
   "execution_count": 257,
   "metadata": {
    "collapsed": false
   },
   "outputs": [
    {
     "name": "stderr",
     "output_type": "stream",
     "text": [
      "WARNING:root:User without home: 2915819978541186\n"
     ]
    }
   ],
   "source": [
    "from clustering import add_res_cols\n",
    "from forms import response_translator\n",
    "\n",
    "def col_translators(a, b, questions):\n",
    "    lookup, _ = ref_translation(a, b)\n",
    "\n",
    "    refs = [ref for _, ref in questions]\n",
    "    ts = { qt['ref']: response_translator(q, qt)\n",
    "                   for qt, q in zip(a['fields'], b['fields'])\n",
    "                   if qt['ref'] in refs}\n",
    "\n",
    "    return [(n, lookup[ref], ts[ref]) for n, ref in questions]\n",
    "\n",
    "col_names = col_translators(forms[0], forms[1], questions)\n",
    "rr = add_res_cols(col_names, 'userid', rr).reset_index(drop=True)"
   ]
  },
  {
   "cell_type": "code",
   "execution_count": 340,
   "metadata": {
    "collapsed": false
   },
   "outputs": [],
   "source": [
    "rr = add_res_cols([('cluster', 'md:clusterid', lambda x: x)], 'userid', rr).reset_index(drop=True)"
   ]
  },
  {
   "cell_type": "code",
   "execution_count": 341,
   "metadata": {
    "collapsed": false
   },
   "outputs": [],
   "source": [
    "def make_row(df):\n",
    "    r = df.iloc[0]\n",
    "    r.timestamp = df.timestamp.max()\n",
    "    return r\n",
    "\n",
    "dd = rr.groupby('userid').apply(make_row).reset_index(drop=True)\n",
    "dd = dd.merge(districts, left_on='cluster', right_on='disthash')\n"
   ]
  },
  {
   "cell_type": "code",
   "execution_count": 558,
   "metadata": {
    "collapsed": false
   },
   "outputs": [],
   "source": [
    "high_malaria_dists = perc[(perc.perc > .25) & (perc.target >= 3)].cluster.unique()\n",
    "low_malaria_dists = perc[(perc.perc < .07) & (perc.target >= 3)].cluster.unique()"
   ]
  },
  {
   "cell_type": "code",
   "execution_count": 559,
   "metadata": {
    "collapsed": false
   },
   "outputs": [],
   "source": [
    "dd['dist_risk'] = 'med'\n",
    "dd.loc[dd.cluster.isin(low_malaria_dists), 'dist_risk'] = 'low'\n",
    "dd.loc[dd.cluster.isin(high_malaria_dists), 'dist_risk'] = 'high'"
   ]
  },
  {
   "cell_type": "code",
   "execution_count": 354,
   "metadata": {
    "collapsed": false
   },
   "outputs": [],
   "source": [
    "dd['malaria'] = dd.malaria_incidence == 'Yes'"
   ]
  },
  {
   "cell_type": "code",
   "execution_count": 305,
   "metadata": {
    "collapsed": false
   },
   "outputs": [],
   "source": [
    "nm = dd[dd.malaria_incidence != 'Yes']"
   ]
  },
  {
   "cell_type": "code",
   "execution_count": null,
   "metadata": {
    "collapsed": false
   },
   "outputs": [],
   "source": [
    "dd.groupby(['malaria', 'has_ac']).home.value_counts(normalize=True)"
   ]
  },
  {
   "cell_type": "code",
   "execution_count": 517,
   "metadata": {
    "collapsed": false
   },
   "outputs": [],
   "source": [
    "def malaria_prob(groupby):\n",
    "    d = groupby.malaria.value_counts(normalize=True)\n",
    "    d.name = 'count'\n",
    "    d = d.reset_index(level=-1)\n",
    "    d = d[d.malaria == True].drop(columns='malaria')\n",
    "    return d"
   ]
  },
  {
   "cell_type": "code",
   "execution_count": null,
   "metadata": {
    "collapsed": false
   },
   "outputs": [],
   "source": [
    "dd.groupby(['state', 'malaria']).home.value_counts(normalize=True)"
   ]
  },
  {
   "cell_type": "code",
   "execution_count": 522,
   "metadata": {
    "collapsed": false
   },
   "outputs": [
    {
     "data": {
      "text/html": [
       "<div>\n",
       "<style scoped>\n",
       "    .dataframe tbody tr th:only-of-type {\n",
       "        vertical-align: middle;\n",
       "    }\n",
       "\n",
       "    .dataframe tbody tr th {\n",
       "        vertical-align: top;\n",
       "    }\n",
       "\n",
       "    .dataframe thead th {\n",
       "        text-align: right;\n",
       "    }\n",
       "</style>\n",
       "<table border=\"1\" class=\"dataframe\">\n",
       "  <thead>\n",
       "    <tr style=\"text-align: right;\">\n",
       "      <th></th>\n",
       "      <th>count</th>\n",
       "    </tr>\n",
       "    <tr>\n",
       "      <th>home</th>\n",
       "      <th></th>\n",
       "    </tr>\n",
       "  </thead>\n",
       "  <tbody>\n",
       "    <tr>\n",
       "      <th>Kutcha (made of mud, tin, straw)</th>\n",
       "      <td>0.243208</td>\n",
       "    </tr>\n",
       "    <tr>\n",
       "      <th>Pucca (have cement/brick wall and floor</th>\n",
       "      <td>0.168642</td>\n",
       "    </tr>\n",
       "    <tr>\n",
       "      <th>Semi-pucca</th>\n",
       "      <td>0.210866</td>\n",
       "    </tr>\n",
       "  </tbody>\n",
       "</table>\n",
       "</div>"
      ],
      "text/plain": [
       "                                            count\n",
       "home                                             \n",
       "Kutcha (made of mud, tin, straw)         0.243208\n",
       "Pucca (have cement/brick wall and floor  0.168642\n",
       "Semi-pucca                               0.210866"
      ]
     },
     "execution_count": 522,
     "metadata": {},
     "output_type": "execute_result"
    }
   ],
   "source": [
    "malaria_prob(dd.groupby(['home']))"
   ]
  },
  {
   "cell_type": "code",
   "execution_count": 550,
   "metadata": {
    "collapsed": false
   },
   "outputs": [
    {
     "data": {
      "text/html": [
       "<div>\n",
       "<style scoped>\n",
       "    .dataframe tbody tr th:only-of-type {\n",
       "        vertical-align: middle;\n",
       "    }\n",
       "\n",
       "    .dataframe tbody tr th {\n",
       "        vertical-align: top;\n",
       "    }\n",
       "\n",
       "    .dataframe thead th {\n",
       "        text-align: right;\n",
       "    }\n",
       "</style>\n",
       "<table border=\"1\" class=\"dataframe\">\n",
       "  <thead>\n",
       "    <tr style=\"text-align: right;\">\n",
       "      <th></th>\n",
       "      <th>count</th>\n",
       "    </tr>\n",
       "    <tr>\n",
       "      <th>has_ac</th>\n",
       "      <th></th>\n",
       "    </tr>\n",
       "  </thead>\n",
       "  <tbody>\n",
       "    <tr>\n",
       "      <th>Don't know</th>\n",
       "      <td>0.141463</td>\n",
       "    </tr>\n",
       "    <tr>\n",
       "      <th>No</th>\n",
       "      <td>0.199307</td>\n",
       "    </tr>\n",
       "    <tr>\n",
       "      <th>Yes</th>\n",
       "      <td>0.156977</td>\n",
       "    </tr>\n",
       "  </tbody>\n",
       "</table>\n",
       "</div>"
      ],
      "text/plain": [
       "               count\n",
       "has_ac              \n",
       "Don't know  0.141463\n",
       "No          0.199307\n",
       "Yes         0.156977"
      ]
     },
     "execution_count": 550,
     "metadata": {},
     "output_type": "execute_result"
    }
   ],
   "source": [
    "malaria_prob(dd.groupby(['has_ac']))"
   ]
  },
  {
   "cell_type": "code",
   "execution_count": null,
   "metadata": {
    "collapsed": false
   },
   "outputs": [],
   "source": [
    "malaria_prob(dd.groupby(['dist_risk', 'home', 'has_ac']))"
   ]
  },
  {
   "cell_type": "code",
   "execution_count": 568,
   "metadata": {
    "collapsed": false
   },
   "outputs": [
    {
     "data": {
      "text/plain": [
       "(773, 18)"
      ]
     },
     "execution_count": 568,
     "metadata": {},
     "output_type": "execute_result"
    }
   ],
   "source": [
    "dd[dd.home == 'Kutcha (made of mud, tin, straw)'].shape"
   ]
  },
  {
   "cell_type": "code",
   "execution_count": 567,
   "metadata": {
    "collapsed": false
   },
   "outputs": [
    {
     "data": {
      "text/plain": [
       "(2615, 18)"
      ]
     },
     "execution_count": 567,
     "metadata": {},
     "output_type": "execute_result"
    }
   ],
   "source": [
    "dd[(dd.home == 'Pucca (have cement/brick wall and floor')].shape"
   ]
  },
  {
   "cell_type": "code",
   "execution_count": 531,
   "metadata": {
    "collapsed": false
   },
   "outputs": [
    {
     "data": {
      "text/html": [
       "<div>\n",
       "<style scoped>\n",
       "    .dataframe tbody tr th:only-of-type {\n",
       "        vertical-align: middle;\n",
       "    }\n",
       "\n",
       "    .dataframe tbody tr th {\n",
       "        vertical-align: top;\n",
       "    }\n",
       "\n",
       "    .dataframe thead th {\n",
       "        text-align: right;\n",
       "    }\n",
       "</style>\n",
       "<table border=\"1\" class=\"dataframe\">\n",
       "  <thead>\n",
       "    <tr style=\"text-align: right;\">\n",
       "      <th></th>\n",
       "      <th>count</th>\n",
       "    </tr>\n",
       "    <tr>\n",
       "      <th>owns_net</th>\n",
       "      <th></th>\n",
       "    </tr>\n",
       "  </thead>\n",
       "  <tbody>\n",
       "    <tr>\n",
       "      <th>Don't know</th>\n",
       "      <td>0.066667</td>\n",
       "    </tr>\n",
       "    <tr>\n",
       "      <th>No</th>\n",
       "      <td>0.154300</td>\n",
       "    </tr>\n",
       "    <tr>\n",
       "      <th>Yes</th>\n",
       "      <td>0.207216</td>\n",
       "    </tr>\n",
       "  </tbody>\n",
       "</table>\n",
       "</div>"
      ],
      "text/plain": [
       "               count\n",
       "owns_net            \n",
       "Don't know  0.066667\n",
       "No          0.154300\n",
       "Yes         0.207216"
      ]
     },
     "execution_count": 531,
     "metadata": {},
     "output_type": "execute_result"
    }
   ],
   "source": [
    "malaria_prob(dd.groupby(['owns_net']))"
   ]
  },
  {
   "cell_type": "code",
   "execution_count": 549,
   "metadata": {
    "collapsed": false
   },
   "outputs": [
    {
     "data": {
      "text/html": [
       "<div>\n",
       "<style scoped>\n",
       "    .dataframe tbody tr th:only-of-type {\n",
       "        vertical-align: middle;\n",
       "    }\n",
       "\n",
       "    .dataframe tbody tr th {\n",
       "        vertical-align: top;\n",
       "    }\n",
       "\n",
       "    .dataframe thead th {\n",
       "        text-align: right;\n",
       "    }\n",
       "</style>\n",
       "<table border=\"1\" class=\"dataframe\">\n",
       "  <thead>\n",
       "    <tr style=\"text-align: right;\">\n",
       "      <th></th>\n",
       "      <th></th>\n",
       "      <th>count</th>\n",
       "    </tr>\n",
       "    <tr>\n",
       "      <th>dist_risk</th>\n",
       "      <th>owns_net</th>\n",
       "      <th></th>\n",
       "    </tr>\n",
       "  </thead>\n",
       "  <tbody>\n",
       "    <tr>\n",
       "      <th rowspan=\"3\" valign=\"top\">high</th>\n",
       "      <th>Don't know</th>\n",
       "      <td>0.166667</td>\n",
       "    </tr>\n",
       "    <tr>\n",
       "      <th>No</th>\n",
       "      <td>0.338462</td>\n",
       "    </tr>\n",
       "    <tr>\n",
       "      <th>Yes</th>\n",
       "      <td>0.437055</td>\n",
       "    </tr>\n",
       "    <tr>\n",
       "      <th rowspan=\"2\" valign=\"top\">low</th>\n",
       "      <th>No</th>\n",
       "      <td>0.137500</td>\n",
       "    </tr>\n",
       "    <tr>\n",
       "      <th>Yes</th>\n",
       "      <td>0.065693</td>\n",
       "    </tr>\n",
       "    <tr>\n",
       "      <th rowspan=\"3\" valign=\"top\">med</th>\n",
       "      <th>Don't know</th>\n",
       "      <td>0.055556</td>\n",
       "    </tr>\n",
       "    <tr>\n",
       "      <th>No</th>\n",
       "      <td>0.130580</td>\n",
       "    </tr>\n",
       "    <tr>\n",
       "      <th>Yes</th>\n",
       "      <td>0.191207</td>\n",
       "    </tr>\n",
       "  </tbody>\n",
       "</table>\n",
       "</div>"
      ],
      "text/plain": [
       "                         count\n",
       "dist_risk owns_net            \n",
       "high      Don't know  0.166667\n",
       "          No          0.338462\n",
       "          Yes         0.437055\n",
       "low       No          0.137500\n",
       "          Yes         0.065693\n",
       "med       Don't know  0.055556\n",
       "          No          0.130580\n",
       "          Yes         0.191207"
      ]
     },
     "execution_count": 549,
     "metadata": {},
     "output_type": "execute_result"
    }
   ],
   "source": [
    "malaria_prob(dd.groupby(['dist_risk', 'owns_net']))"
   ]
  },
  {
   "cell_type": "code",
   "execution_count": null,
   "metadata": {
    "collapsed": false
   },
   "outputs": [],
   "source": [
    "malaria_prob(dd.groupby(['state', 'dist_risk', 'owns_net']))"
   ]
  },
  {
   "cell_type": "code",
   "execution_count": null,
   "metadata": {
    "collapsed": false
   },
   "outputs": [],
   "source": []
  },
  {
   "cell_type": "code",
   "execution_count": null,
   "metadata": {
    "collapsed": false
   },
   "outputs": [],
   "source": [
    "X = dd[['education', 'home', 'dist_medical', 'has_ac', 'owns_net']]\n",
    "\n",
    "\n",
    "for col in X.columns:\n",
    "    X[col] = X[col].astype('category')\n",
    "    X[col] = X[col].cat.codes"
   ]
  },
  {
   "cell_type": "code",
   "execution_count": null,
   "metadata": {
    "collapsed": false
   },
   "outputs": [],
   "source": [
    "X"
   ]
  },
  {
   "cell_type": "code",
   "execution_count": 423,
   "metadata": {
    "collapsed": false
   },
   "outputs": [
    {
     "data": {
      "text/plain": [
       "(4474, 5)"
      ]
     },
     "execution_count": 423,
     "metadata": {},
     "output_type": "execute_result"
    }
   ],
   "source": [
    "X.shape"
   ]
  },
  {
   "cell_type": "code",
   "execution_count": 425,
   "metadata": {
    "collapsed": false
   },
   "outputs": [],
   "source": [
    "y = dd['malaria']"
   ]
  },
  {
   "cell_type": "code",
   "execution_count": null,
   "metadata": {
    "collapsed": false
   },
   "outputs": [],
   "source": [
    "y.shape"
   ]
  },
  {
   "cell_type": "code",
   "execution_count": 542,
   "metadata": {
    "collapsed": false
   },
   "outputs": [
    {
     "data": {
      "text/plain": [
       "DecisionTreeClassifier(ccp_alpha=0.0, class_weight=None, criterion='gini',\n",
       "                       max_depth=None, max_features=None, max_leaf_nodes=None,\n",
       "                       min_impurity_decrease=0.0, min_impurity_split=None,\n",
       "                       min_samples_leaf=1, min_samples_split=2,\n",
       "                       min_weight_fraction_leaf=0.0, presort='deprecated',\n",
       "                       random_state=None, splitter='best')"
      ]
     },
     "execution_count": 542,
     "metadata": {},
     "output_type": "execute_result"
    }
   ],
   "source": [
    "from sklearn.naive_bayes import CategoricalNB\n",
    "from sklearn.tree import DecisionTreeClassifier\n",
    "\n",
    "model = DecisionTreeClassifier()\n",
    "\n",
    "model.fit(X[:2000], y[:2000])"
   ]
  },
  {
   "cell_type": "code",
   "execution_count": null,
   "metadata": {
    "collapsed": false
   },
   "outputs": [],
   "source": [
    "\n",
    "from sklearn.tree import plot_tree\n",
    "\n",
    "plot_tree(model)"
   ]
  },
  {
   "cell_type": "code",
   "execution_count": 300,
   "metadata": {
    "collapsed": false
   },
   "outputs": [
    {
     "data": {
      "text/plain": [
       "No            0.636550\n",
       "Yes           0.268994\n",
       "Don’t know    0.094456\n",
       "Name: malaria_incidence, dtype: float64"
      ]
     },
     "execution_count": 300,
     "metadata": {},
     "output_type": "execute_result"
    }
   ],
   "source": [
    "dd[(dd.owns_net == 'Yes') & \n",
    "   (dd.has_ac == 'No') & \n",
    "   (dd.home == 'Kutcha (made of mud, tin, straw)')] \\\n",
    "   .malaria_incidence.value_counts(normalize=True)"
   ]
  },
  {
   "cell_type": "code",
   "execution_count": null,
   "metadata": {
    "collapsed": false
   },
   "outputs": [],
   "source": [
    "dd"
   ]
  },
  {
   "cell_type": "code",
   "execution_count": 330,
   "metadata": {
    "collapsed": false
   },
   "outputs": [
    {
     "data": {
      "text/plain": [
       "No            0.846106\n",
       "Yes           0.113693\n",
       "Don't know    0.040201\n",
       "Name: has_ac, dtype: float64"
      ]
     },
     "execution_count": 330,
     "metadata": {},
     "output_type": "execute_result"
    }
   ],
   "source": [
    "def times(df, mi, ma):\n",
    "    return df[(df.timestamp > mi) & (df.timestamp < ma)]    \n",
    "\n",
    "\n",
    "times(dd, datetime(2020,7,22,tzinfo=timezone.utc), datetime(2020,7,24,tzinfo=timezone.utc)) \\\n",
    "    ['has_ac'] \\\n",
    "    .value_counts(normalize=True)"
   ]
  },
  {
   "cell_type": "code",
   "execution_count": 331,
   "metadata": {
    "collapsed": false
   },
   "outputs": [
    {
     "data": {
      "text/plain": [
       "No            0.797244\n",
       "Yes           0.147638\n",
       "Don't know    0.055118\n",
       "Name: has_ac, dtype: float64"
      ]
     },
     "execution_count": 331,
     "metadata": {},
     "output_type": "execute_result"
    }
   ],
   "source": [
    "times(dd, datetime(2020,7,24,tzinfo=timezone.utc), datetime(2020,7,25,tzinfo=timezone.utc)) \\\n",
    "    ['has_ac'] \\\n",
    "    .value_counts(normalize=True)"
   ]
  },
  {
   "cell_type": "code",
   "execution_count": 332,
   "metadata": {
    "collapsed": false
   },
   "outputs": [
    {
     "data": {
      "text/plain": [
       "No            0.862589\n",
       "Yes           0.090426\n",
       "Don't know    0.046986\n",
       "Name: has_ac, dtype: float64"
      ]
     },
     "execution_count": 332,
     "metadata": {},
     "output_type": "execute_result"
    }
   ],
   "source": [
    "times(dd, datetime(2020,7,25,tzinfo=timezone.utc), datetime(2020,7,26,tzinfo=timezone.utc)) \\\n",
    "    ['has_ac'] \\\n",
    "    .value_counts(normalize=True)"
   ]
  },
  {
   "cell_type": "code",
   "execution_count": 328,
   "metadata": {
    "collapsed": false
   },
   "outputs": [
    {
     "data": {
      "text/plain": [
       "No            0.825040\n",
       "Yes           0.126806\n",
       "Don't know    0.048154\n",
       "Name: has_ac, dtype: float64"
      ]
     },
     "execution_count": 328,
     "metadata": {},
     "output_type": "execute_result"
    }
   ],
   "source": [
    "times(dd, datetime(2020,7,26,tzinfo=timezone.utc), datetime(2020,7,28,tzinfo=timezone.utc)) \\\n",
    "    ['has_ac'] \\\n",
    "    .value_counts(normalize=True)"
   ]
  },
  {
   "cell_type": "code",
   "execution_count": null,
   "metadata": {
    "collapsed": false
   },
   "outputs": [],
   "source": [
    "dd"
   ]
  },
  {
   "cell_type": "code",
   "execution_count": 301,
   "metadata": {
    "collapsed": false
   },
   "outputs": [
    {
     "data": {
      "text/plain": [
       "No            0.670988\n",
       "Yes           0.191775\n",
       "Don’t know    0.137237\n",
       "Name: malaria_incidence, dtype: float64"
      ]
     },
     "execution_count": 301,
     "metadata": {},
     "output_type": "execute_result"
    }
   ],
   "source": [
    "dd.malaria_incidence.value_counts(normalize=True)"
   ]
  },
  {
   "cell_type": "code",
   "execution_count": null,
   "metadata": {
    "collapsed": false
   },
   "outputs": [],
   "source": [
    "# responses should be converted and translated..."
   ]
  }
 ],
 "metadata": {
  "kernelspec": {
   "argv": [
    "python",
    "-m",
    "ipykernel_launcher",
    "-f",
    "{connection_file}"
   ],
   "display_name": "Python 3",
   "env": null,
   "interrupt_mode": "signal",
   "language": "python",
   "metadata": null,
   "name": "python3"
  },
  "name": "marketing.ipynb"
 },
 "nbformat": 4,
 "nbformat_minor": 4
}
