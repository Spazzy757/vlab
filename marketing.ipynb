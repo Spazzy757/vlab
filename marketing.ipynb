{
 "cells": [
  {
   "cell_type": "code",
   "execution_count": null,
   "metadata": {
    "collapsed": false
   },
   "outputs": [],
   "source": [
    "! pip install environs facebook_business cyksuid toolz psycopg2-binary typing_json backoff"
   ]
  },
  {
   "cell_type": "code",
   "execution_count": 1,
   "metadata": {
    "collapsed": false
   },
   "outputs": [],
   "source": [
    "%load_ext autoreload\n",
    "%autoreload 2"
   ]
  },
  {
   "cell_type": "code",
   "execution_count": 1,
   "metadata": {
    "collapsed": false
   },
   "outputs": [],
   "source": [
    "import os\n",
    "from environs import Env\n",
    "\n",
    "\n",
    "env = Env()\n",
    "env.read_env('.env-vital')\n",
    "from marketing import Marketing\n",
    "m = Marketing(env)"
   ]
  },
  {
   "cell_type": "code",
   "execution_count": null,
   "metadata": {
    "collapsed": false
   },
   "outputs": [],
   "source": [
    "\n",
    "from malaria import update_ads\n",
    "\n",
    "update_ads()"
   ]
  },
  {
   "cell_type": "code",
   "execution_count": 75,
   "metadata": {
    "collapsed": false
   },
   "outputs": [],
   "source": [
    "adsets = m.account.get_ad_sets(fields=['lifetime_budget', 'instagram_actor_id', 'campaign_id', 'targeting'])"
   ]
  },
  {
   "cell_type": "code",
   "execution_count": 78,
   "metadata": {
    "collapsed": false
   },
   "outputs": [
    {
     "data": {
      "text/plain": [
       "<bound method AdAccount.create_ad_label of <AdAccount> {\n",
       "    \"id\": \"act_2240415876083895\"\n",
       "}>"
      ]
     },
     "execution_count": 78,
     "metadata": {},
     "output_type": "execute_result"
    }
   ],
   "source": [
    "m.account.create_ad_label"
   ]
  },
  {
   "cell_type": "code",
   "execution_count": 34,
   "metadata": {
    "collapsed": false
   },
   "outputs": [],
   "source": [
    "from malaria import load_creatives\n",
    "\n",
    "c = load_creatives('config/creatives.json', 'hindi')\n",
    "\n",
    "cc = c.creatives[0]"
   ]
  },
  {
   "cell_type": "code",
   "execution_count": 42,
   "metadata": {
    "collapsed": false
   },
   "outputs": [
    {
     "data": {
      "text/plain": [
       "[<AdLabel> {\n",
       "    \"id\": \"23845036050710518\",\n",
       "    \"name\": \"vlab\"\n",
       "}]"
      ]
     },
     "execution_count": 42,
     "metadata": {},
     "output_type": "execute_result"
    }
   ],
   "source": [
    "m.account.get_ad_labels()"
   ]
  },
  {
   "cell_type": "code",
   "execution_count": null,
   "metadata": {
    "collapsed": false
   },
   "outputs": [],
   "source": [
    "m.account.get_ad_creatives_by_labels(params={'ad_label_ids': ['23845036050710518']})"
   ]
  },
  {
   "cell_type": "code",
   "execution_count": 64,
   "metadata": {
    "collapsed": false
   },
   "outputs": [
    {
     "data": {
      "text/plain": [
       "<AdLabel> {\n",
       "    \"id\": \"23845036050710518\"\n",
       "}"
      ]
     },
     "execution_count": 64,
     "metadata": {},
     "output_type": "execute_result"
    }
   ],
   "source": [
    "\n",
    "# its idempotent!!!\n",
    "m.account.create_ad_label(params={'name': 'vlab'})"
   ]
  },
  {
   "cell_type": "code",
   "execution_count": 4,
   "metadata": {
    "collapsed": false
   },
   "outputs": [
    {
     "data": {
      "text/plain": [
       "(142,)"
      ]
     },
     "execution_count": 4,
     "metadata": {},
     "output_type": "execute_result"
    }
   ],
   "source": [
    "import pandas as pd\n",
    "cities = pd.read_csv('output/cities.csv')\n",
    "cities = cities[cities.rad >= 1.0]\n",
    "\n",
    "locs = [(r.lat, r.lng, r.rad) for _, r \n",
    "        in cities[:200].iterrows()]\n",
    "\n",
    "cities.distname.unique().shape"
   ]
  },
  {
   "cell_type": "code",
   "execution_count": null,
   "metadata": {
    "collapsed": false
   },
   "outputs": [],
   "source": [
    "import re\n",
    "from facebook_business.adobjects.adcreative import AdCreative\n",
    "\n",
    "def delete_our_creatives(account):\n",
    "    # TODO: change for get by label!\n",
    "    ids = [a['id'] for a in account.get_ad_creatives(fields=['name']) \n",
    "           if re.match('vlab-', a['name'])]\n",
    "\n",
    "    print(len(ids))\n",
    "\n",
    "    i = 0\n",
    "    for id_ in ids:\n",
    "        try:\n",
    "            c = AdCreative(id_)\n",
    "            c.api_delete()\n",
    "            i += 1\n",
    "            print(i)\n",
    "        except:\n",
    "            print('nope!')\n",
    "\n",
    "\n",
    "\n",
    "# delete_our_creatives(m.account)"
   ]
  },
  {
   "cell_type": "code",
   "execution_count": 155,
   "metadata": {
    "collapsed": false
   },
   "outputs": [],
   "source": [
    "import pandas as pd\n",
    "\n",
    "def clean_districts(df):\n",
    "    dist_var = 'Districtname'\n",
    "    state_var = 'statename'\n",
    "\n",
    "    states = ['Jharkhand', 'Chhatisgarh', 'Orissa', 'Odisha', 'Uttar Pradesh']\n",
    "    states = [s.upper() for s in states]\n",
    " \n",
    "    df = df[~df[dist_var].isna()].reset_index(drop=True)\n",
    "    df = df[df[state_var].isin(states)].reset_index(drop=True)\n",
    "\n",
    "\n",
    "    \n",
    "    df[dist_var] = df[dist_var].map(lambda x: x.upper())\n",
    "    \n",
    "    renames = {\n",
    "        'PRAYAGRAJ ALLAHABAD': 'ALLAHABAD',\n",
    "        'HAZARIBAGH': 'HAZARIBAG'\n",
    "    }\n",
    "\n",
    "    for old, new_ in renames.items():\n",
    "        df = df.where(df[dist_var] != old, new_)\n",
    "\n",
    "    blacklist = ['AURANGABAD', 'JHAJJAR', 'SHOPIAN', 'RAIGARH(MH)', 'HARIDWAR']\n",
    "    df = df[~df[dist_var].isin(blacklist)]\n",
    "    return df\n",
    "\n",
    "df = pd.read_csv('./India_MNM/Geography/PINcodes/PINcode_2015.csv', engine='python')\n",
    "\n",
    "df = clean_districts(df)"
   ]
  },
  {
   "cell_type": "code",
   "execution_count": 55,
   "metadata": {
    "collapsed": false
   },
   "outputs": [],
   "source": [
    "cities['District'] = cities.distname.str.upper()"
   ]
  },
  {
   "cell_type": "code",
   "execution_count": 127,
   "metadata": {
    "collapsed": false
   },
   "outputs": [],
   "source": [
    "dist_var = 'Districtname'"
   ]
  },
  {
   "cell_type": "code",
   "execution_count": null,
   "metadata": {
    "collapsed": false
   },
   "outputs": [],
   "source": [
    "cities[~cities.District.isin(df[dist_var].unique())].District.unique()"
   ]
  },
  {
   "cell_type": "code",
   "execution_count": null,
   "metadata": {
    "collapsed": false
   },
   "outputs": [],
   "source": [
    "df.District.unique()"
   ]
  },
  {
   "cell_type": "code",
   "execution_count": null,
   "metadata": {
    "collapsed": false
   },
   "outputs": [],
   "source": [
    "dd = cities.merge(df, on='District', how='left')\n",
    "\n",
    "dd[dd['Division Name'].isna()].District.unique()"
   ]
  },
  {
   "cell_type": "code",
   "execution_count": null,
   "metadata": {
    "collapsed": false
   },
   "outputs": [],
   "source": [
    "df.District.unique()"
   ]
  },
  {
   "cell_type": "code",
   "execution_count": null,
   "metadata": {
    "collapsed": false
   },
   "outputs": [],
   "source": [
    "def foo(df):\n",
    "    return df[dist_var].unique().shape[0] > 1\n",
    "\n",
    "df.groupby('pincode').filter(foo).reset_index(drop=True)[['pincode', dist_var]].sort_values('pincode')[60:100]"
   ]
  },
  {
   "cell_type": "code",
   "execution_count": null,
   "metadata": {
    "collapsed": false
   },
   "outputs": [],
   "source": [
    "df"
   ]
  },
  {
   "cell_type": "code",
   "execution_count": null,
   "metadata": {
    "collapsed": false
   },
   "outputs": [],
   "source": [
    "districts = "
   ]
  }
 ],
 "metadata": {
  "kernelspec": {
   "argv": [
    "python",
    "-m",
    "ipykernel_launcher",
    "-f",
    "{connection_file}"
   ],
   "display_name": "Python 3",
   "env": null,
   "interrupt_mode": "signal",
   "language": "python",
   "metadata": null,
   "name": "python3"
  },
  "name": "marketing.ipynb"
 },
 "nbformat": 4,
 "nbformat_minor": 4
}
