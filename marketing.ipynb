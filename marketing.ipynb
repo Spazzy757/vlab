{
 "cells": [
  {
   "cell_type": "code",
   "execution_count": null,
   "metadata": {
    "collapsed": false
   },
   "outputs": [],
   "source": [
    "! pip install --quiet environs cyksuid toolz psycopg2-binary typing_json backoff xxhash pyyaml"
   ]
  },
  {
   "cell_type": "code",
   "execution_count": null,
   "metadata": {
    "collapsed": false
   },
   "outputs": [],
   "source": [
    "! pip install --quiet git+https://github.com/nandanrao/facebook-python-business-sdk@pagination"
   ]
  },
  {
   "cell_type": "code",
   "execution_count": 1,
   "metadata": {
    "collapsed": false
   },
   "outputs": [],
   "source": [
    "%load_ext autoreload\n",
    "%autoreload 2"
   ]
  },
  {
   "cell_type": "code",
   "execution_count": 2,
   "metadata": {
    "collapsed": false
   },
   "outputs": [],
   "source": [
    "from environs import Env\n",
    "env = Env()\n",
    "env.read_env('.env-bug')"
   ]
  },
  {
   "cell_type": "code",
   "execution_count": 552,
   "metadata": {
    "collapsed": false
   },
   "outputs": [],
   "source": [
    "from malaria import get_conf, get_df, lookalike\n",
    "from marketing import Marketing\n",
    "\n",
    "cnf = get_conf(env)\n",
    "df = get_df(cnf)\n",
    "m = Marketing(env)"
   ]
  },
  {
   "cell_type": "code",
   "execution_count": null,
   "metadata": {
    "collapsed": false
   },
   "outputs": [],
   "source": [
    "from malaria import update_audience, update_ads\n",
    "\n",
    "# update_audience()\n",
    "\n",
    "update_ads()"
   ]
  },
  {
   "cell_type": "code",
   "execution_count": null,
   "metadata": {
    "collapsed": false
   },
   "outputs": [],
   "source": []
  },
  {
   "cell_type": "code",
   "execution_count": 150,
   "metadata": {
    "collapsed": false
   },
   "outputs": [],
   "source": [
    "from datetime import datetime, timezone\n",
    "from clustering import only_target_users\n",
    "\n",
    "def filter_time(df, min_date, max_date):\n",
    "    min_date = datetime(*min_date, tzinfo=timezone.utc)\n",
    "    max_date = datetime(*max_date, tzinfo=timezone.utc)\n",
    "\n",
    "    users = df[(df.timestamp > min_date) & (df.timestamp < max_date)].userid.unique()\n",
    "    return df[df.userid.isin(users)]\n",
    "\n",
    "def get_percentage(df, cnf):\n",
    "    answered = df[df.question_ref == 'f6e69027-97cc-494e-8d52-318b75047e23'].userid.unique()\n",
    "    df = df[df.userid.isin(answered)]\n",
    "    tot = df.userid.unique().shape[0]\n",
    "    targets = only_target_users(df, cnf['strata'][0]['surveys'], 'target_questions')\n",
    "    targets = targets.userid.unique().shape[0]\n",
    "    return targets/tot, targets, tot\n"
   ]
  },
  {
   "cell_type": "code",
   "execution_count": 44,
   "metadata": {
    "collapsed": false
   },
   "outputs": [],
   "source": [
    "import pandas as pd\n",
    "from clustering import add_res_cols\n",
    "from malaria import load_cities\n",
    "\n",
    "\n",
    "def perc_target(users, df):\n",
    "    u = pd.Series(df.userid.unique())\n",
    "    tot = u.unique().shape[0]\n",
    "    target = u.isin(users).sum()\n",
    "    perc = target / tot\n",
    "    return pd.Series([perc, tot, target], index=['perc', 'tot', 'target'])\n",
    "\n",
    "\n",
    "def make_analysis_df(df, districts, users):\n",
    "    finished = df[df.question_ref == 'f6e69027-97cc-494e-8d52-318b75047e23'].userid.unique()\n",
    "    df = df[df.userid.isin(finished)].reset_index(drop=True)\n",
    "    df = add_res_cols('md:clusterid', 'cluster', 'userid', df)\n",
    "    perc = df.groupby('cluster').apply(lambda df: perc_target(users, df)).reset_index()\n",
    "    perc = perc.merge(districts, left_on='cluster', right_on='disthash')\n",
    "    return perc"
   ]
  },
  {
   "cell_type": "code",
   "execution_count": 45,
   "metadata": {
    "collapsed": false
   },
   "outputs": [],
   "source": [
    "\n",
    "cities = load_cities('output/cities.csv')\n",
    "\n",
    "districts = cities.groupby('distname') \\\n",
    "                  .head(1) \\\n",
    "                  .reset_index(drop=True) \\\n",
    "                  .drop(columns=['rad', 'lng', 'lat', 'distcode', 'id'])\n",
    "\n",
    "\n",
    "# perc = make_analysis_df(df, districts, users)"
   ]
  },
  {
   "cell_type": "code",
   "execution_count": null,
   "metadata": {
    "collapsed": false
   },
   "outputs": [],
   "source": [
    "def statewide(df):\n",
    "    trg = df.target.sum().astype(int)\n",
    "    tot = df.tot.sum().astype(int)\n",
    "    return pd.Series([trg/tot, trg, tot], index=['percentage', 'malaria', 'total'])\n",
    "\n",
    "states = perc.groupby('state').apply(statewide).round(4)\n",
    "states['total'] = states['total'].astype(int)\n",
    "states['malaria'] = states['malaria'].astype(int)\n",
    "\n",
    "states"
   ]
  },
  {
   "cell_type": "code",
   "execution_count": 122,
   "metadata": {
    "collapsed": false
   },
   "outputs": [],
   "source": [
    "chosen_clusters = perc[(perc.target >= 3) & (perc.perc > 0.1)].cluster\n",
    "top_cities = cities[cities.disthash.isin(chosen_clusters)].reset_index(drop=True)"
   ]
  },
  {
   "cell_type": "code",
   "execution_count": null,
   "metadata": {
    "collapsed": false
   },
   "outputs": [],
   "source": [
    "perc[perc.perc > .35].sort_values('target')"
   ]
  },
  {
   "cell_type": "code",
   "execution_count": 90,
   "metadata": {
    "collapsed": false
   },
   "outputs": [],
   "source": [
    "chosen_clusters = perc[(perc.perc > .35) & (perc.target >= 3)].cluster\n",
    "malaria_cities = cities[cities.disthash.isin(chosen_clusters)].reset_index(drop=True)\n",
    "malaria_cities = malaria_cities[~malaria_cities.state.isin(['Orissa'])]\n",
    "malaria_cities.to_csv('output/malaria-cities.csv', index=False)"
   ]
  },
  {
   "cell_type": "code",
   "execution_count": null,
   "metadata": {
    "collapsed": false
   },
   "outputs": [],
   "source": [
    "malaria_cities"
   ]
  },
  {
   "cell_type": "code",
   "execution_count": 94,
   "metadata": {
    "collapsed": false
   },
   "outputs": [],
   "source": [
    "import pandas as pd\n",
    "\n",
    "top_cities = pd.read_csv('output/top-cities.csv')"
   ]
  },
  {
   "cell_type": "code",
   "execution_count": null,
   "metadata": {
    "collapsed": false
   },
   "outputs": [],
   "source": [
    "top_cities"
   ]
  },
  {
   "cell_type": "code",
   "execution_count": 26,
   "metadata": {
    "collapsed": false
   },
   "outputs": [],
   "source": [
    "\n",
    "def pause_adsets(m, clusters):\n",
    "    get_ad = lambda c: next((a for k, a in m.running_ads.items() if c in k), None)\n",
    "    to_delete = [get_ad(c) for c in clusters]\n",
    "    upd = lambda a: a.api_update(params={ 'status': 'PAUSED' })\n",
    "    return [upd(ad) for ad in to_delete]\n",
    "        \n",
    "# res = pause_adsets(m, perc[perc.perc == 0.0].cluster)"
   ]
  },
  {
   "cell_type": "code",
   "execution_count": null,
   "metadata": {
    "collapsed": false
   },
   "outputs": [],
   "source": [
    "aud = get_aud(m, cnf, True)"
   ]
  },
  {
   "cell_type": "code",
   "execution_count": null,
   "metadata": {
    "collapsed": false
   },
   "outputs": [],
   "source": [
    "aud"
   ]
  },
  {
   "cell_type": "code",
   "execution_count": 9,
   "metadata": {
    "collapsed": false
   },
   "outputs": [],
   "source": [
    "from malaria import unsaturated\n",
    "\n",
    "clusters = unsaturated(df, cnf)"
   ]
  },
  {
   "cell_type": "code",
   "execution_count": 75,
   "metadata": {
    "collapsed": false
   },
   "outputs": [],
   "source": [
    "adsets = m.account.get_ad_sets(fields=['lifetime_budget', 'instagram_actor_id', 'campaign_id', 'targeting'])"
   ]
  },
  {
   "cell_type": "code",
   "execution_count": 55,
   "metadata": {
    "collapsed": false
   },
   "outputs": [
    {
     "data": {
      "text/plain": [
       "'{\"error\":{\"message\":\"(#100) An owning business is required for this request\",\"type\":\"OAuthException\",\"code\":100,\"fbtrace_id\":\"AypFAF9YX6tqhTqMedHqQHB\"}}'"
      ]
     },
     "execution_count": 55,
     "metadata": {},
     "output_type": "execute_result"
    }
   ],
   "source": [
    "import hashlib\n",
    "import hmac\n",
    "\n",
    "def secret_proof(app_secret, access_token):\n",
    "    h = hmac.new (\n",
    "        app_secret.encode('utf-8'),\n",
    "        msg=access_token.encode('utf-8'),\n",
    "        digestmod=hashlib.sha256\n",
    "    )\n",
    "    return h.hexdigest()\n",
    "\n",
    "\n",
    "secret = env('FACEBOOK_APP_SECRET')\n",
    "token = ''\n",
    "user = users[0]\n",
    "\n",
    "proof = secret_proof(secret, token)\n",
    "\n",
    "import requests\n",
    "\n",
    "res = requests.get(f'https://graph.facebook.com/v7.0/{user}/ids_for_apps?access_token={token}&appsecret_proof={proof}')\n",
    "\n",
    "res.text"
   ]
  },
  {
   "cell_type": "code",
   "execution_count": 33,
   "metadata": {
    "collapsed": false
   },
   "outputs": [],
   "source": [
    "import time\n",
    "\n",
    "from facebook_business.adobjects.serverside.event import Event\n",
    "from facebook_business.adobjects.serverside.event_request import EventRequest\n",
    "from facebook_business.adobjects.serverside.user_data import UserData\n",
    "from facebook_business.adobjects.serverside.custom_data import CustomData\n",
    "from facebook_business.api import FacebookAdsApi\n",
    "\n",
    "# access_token = '<ACCESS_TOKEN>'\n",
    "# pixel_id = 'ADS_PIXEL_ID>'\n",
    "\n",
    "\n",
    "# user_data = UserData(\n",
    "#     email='joe@eg.com',\n",
    "#     fbc='fb.1.1554763741205.AbCdEfGhIjKlMnOpQrStUvWxYz1234567890',\n",
    "#     fbp='fb.1.1558571054389.1098115397'\n",
    "# )\n",
    "\n",
    "# custom_data = CustomData(\n",
    "#     currency='usd',\n",
    "#     value=123.45\n",
    "# )\n",
    "\n",
    "# event = Event(\n",
    "#     event_name='Purchase',\n",
    "#     event_time=int(time.time()),\n",
    "#     user_data=user_data,\n",
    "#     custom_data=custom_data,\n",
    "# )\n",
    "\n",
    "# events = [event]\n",
    "\n",
    "# event_request = EventRequest(\n",
    "#     events=events,\n",
    "#     pixel_id=pixel_id)\n",
    "\n",
    "# event_response = event_request.execute()\n",
    "# print(event_response)"
   ]
  },
  {
   "cell_type": "code",
   "execution_count": 6,
   "metadata": {
    "collapsed": false
   },
   "outputs": [],
   "source": [
    "\n",
    "cities = load_cities('output/cities.csv')\n",
    "\n"
   ]
  },
  {
   "cell_type": "code",
   "execution_count": null,
   "metadata": {
    "collapsed": false
   },
   "outputs": [],
   "source": [
    "from marketing import get_creatives, get_label\n",
    "from facebook_business.adobjects.adcreative import AdCreative\n",
    "\n",
    "def delete_our_creatives(account, label):\n",
    "    label = get_label(account, label)\n",
    "    creatives = get_creatives(account, label['id'])\n",
    "    print(len(creatives))\n",
    "\n",
    "    i = 0\n",
    "    for c in creatives.values():\n",
    "        try:\n",
    "            c.api_delete()\n",
    "            i += 1\n",
    "            print(i)\n",
    "        except Exception as e:\n",
    "            print(e)\n",
    "\n",
    "# delete_our_creatives(m.account, 'virtuallab-1')"
   ]
  },
  {
   "cell_type": "code",
   "execution_count": 16,
   "metadata": {
    "collapsed": false
   },
   "outputs": [],
   "source": [
    "from responses import get_forms\n",
    "from datetime import datetime\n",
    "\n",
    "survey_user = '10383123-9fb1-429b-8312-447c1b54b17a'\n",
    "shortcodes = ['baselinehin', 'baselineeng', 'baselineodi']\n",
    "\n",
    "timestamp = datetime(2020, 7, 25)\n",
    "\n",
    "forms = list(get_forms(survey_user, shortcodes, timestamp, cnf['chatbase']))"
   ]
  },
  {
   "cell_type": "code",
   "execution_count": 432,
   "metadata": {
    "collapsed": false
   },
   "outputs": [
    {
     "data": {
      "text/plain": [
       "{'id': 'Yym3bbfC',\n",
       " 'title': 'baselineeng',\n",
       " 'workspace': {'href': 'https://api.typeform.com/workspaces/p7LWDc'},\n",
       " 'theme': {'href': 'https://api.typeform.com/themes/qHWOQ7'},\n",
       " 'settings': {'language': 'en',\n",
       "  'progress_bar': 'percentage',\n",
       "  'meta': {'allow_indexing': False},\n",
       "  'is_public': True,\n",
       "  'is_trial': False,\n",
       "  'show_progress_bar': True,\n",
       "  'show_typeform_branding': True,\n",
       "  'are_uploads_public': False},\n",
       " 'thankyou_screens': [{'id': 'DefaultTyScreen',\n",
       "   'ref': 'default_tys',\n",
       "   'title': 'Done! Your information was sent perfectly.',\n",
       "   'properties': {'show_button': False, 'share_icons': False}}],\n",
       " 'fields': [{'id': '0urmFpT3hBxK',\n",
       "   'title': 'Welcome {{hidden:name}}! 😀\\nWe are a team of researchers conducting a study about life and opinions of Indian people. We would like to ask you a few questions today and only five questions every two weeks over the following six months.\\n \\nIf you complete the whole study, you will receive 300 INR in mobile credit. In particular, you will get 100 INR in 1 month, and the remaining 200 INR at the end of the six months.\\n\\nThe survey will only take 10 minutes of your time. This survey is important for policymakers, so your accurate answers would be greatly appreciated.',\n",
       "   'ref': '036d231e-ec3d-45f1-b479-4ff5fa3db78e',\n",
       "   'properties': {'button_text': 'Continue', 'hide_marks': False},\n",
       "   'type': 'statement'},\n",
       "  {'id': 'l3WpJvZrIPVW',\n",
       "   'title': 'There are no risks and costs associated with this study and you can end it at any time. Keep in mind that your answers will remain confidential.\\n\\nThe consent form of this study is available here:',\n",
       "   'ref': '7eee0de0-3dcb-45b1-b37d-bbde6285242a',\n",
       "   'properties': {'button_text': 'Continue', 'hide_marks': False},\n",
       "   'type': 'statement'},\n",
       "  {'id': 'MvSA2OhhpCfK',\n",
       "   'title': 'https://bit.ly/consenteng',\n",
       "   'ref': '9a1bdf0f-28ee-4dd9-9b6b-57ad2b37831d',\n",
       "   'properties': {'button_text': 'Continue', 'hide_marks': False},\n",
       "   'type': 'statement'},\n",
       "  {'id': 'UORJU3vUXkpA',\n",
       "   'title': 'If you consent to be part of this study, click on the Accept button below.',\n",
       "   'ref': '9476f55c-1d51-4af5-aa54-cf39a9db7c23',\n",
       "   'properties': {'randomize': False,\n",
       "    'allow_multiple_selection': False,\n",
       "    'allow_other_choice': False,\n",
       "    'vertical_alignment': True,\n",
       "    'choices': [{'id': '8UZBIjQCW2W6',\n",
       "      'ref': '795fbe01-e036-4d0d-a896-1790b200f43d',\n",
       "      'label': 'Accept'}]},\n",
       "   'validations': {'required': False},\n",
       "   'type': 'multiple_choice'},\n",
       "  {'id': '4pnm4nvOnOkg',\n",
       "   'title': 'Thank you! We would like to start by asking you some questions about you and your everyday life.',\n",
       "   'ref': '68bf0e90-b3ba-4132-a152-de29c0cba889',\n",
       "   'properties': {'button_text': 'Continue', 'hide_marks': False},\n",
       "   'type': 'statement'},\n",
       "  {'id': 'Ahw5ZDS9zXa0',\n",
       "   'title': 'How old are you? [Enter age in numbers]',\n",
       "   'ref': 'da3d1de1-a287-4143-8b2c-107565a4e4d4',\n",
       "   'properties': {},\n",
       "   'validations': {'required': False},\n",
       "   'type': 'number'},\n",
       "  {'id': 'vuLAzL93xiSH',\n",
       "   'title': 'What is your gender? ',\n",
       "   'ref': '20218ad0-96c8-4799-bdfe-90c689c5c206',\n",
       "   'properties': {'randomize': False,\n",
       "    'allow_multiple_selection': False,\n",
       "    'allow_other_choice': False,\n",
       "    'vertical_alignment': True,\n",
       "    'choices': [{'id': '9BaCyGw0T5lC',\n",
       "      'ref': '0e81e688-3209-4be0-be9e-5cb2c27223be',\n",
       "      'label': 'Male'},\n",
       "     {'id': 'tQTPTHHOASIW',\n",
       "      'ref': '8eae8361-a61e-4fd3-bd83-ac1f9de0653d',\n",
       "      'label': 'Female'},\n",
       "     {'id': 'gnauAFpldGH4',\n",
       "      'ref': '8e15cc76-62a7-4f74-971f-f679430d79ec',\n",
       "      'label': 'Other'}]},\n",
       "   'validations': {'required': False},\n",
       "   'type': 'multiple_choice'},\n",
       "  {'id': 'aC0nHnuBENRn',\n",
       "   'title': 'Which state do you currently live in?\\n- A. Chhattisgarh\\n- B. Jharkhand\\n- C. Odisha\\n- D. Uttar Pradesh',\n",
       "   'ref': 'e959559b-092a-434f-b67f-dca329fab50a',\n",
       "   'properties': {'randomize': False,\n",
       "    'allow_multiple_selection': False,\n",
       "    'allow_other_choice': False,\n",
       "    'vertical_alignment': True,\n",
       "    'choices': [{'id': 'cCW8ulcu2t97',\n",
       "      'ref': 'e647fae8-5f2b-48e7-80e9-cb52ad0acbd1',\n",
       "      'label': 'A'},\n",
       "     {'id': '7z0xQPqBeKH9',\n",
       "      'ref': '72ea5dd2-5d37-42b0-bb99-b53325825538',\n",
       "      'label': 'B'},\n",
       "     {'id': 'qgNZRv4nVoJ1',\n",
       "      'ref': '0892c930-5943-4beb-9a87-4084e7333a0e',\n",
       "      'label': 'C'},\n",
       "     {'id': 'uPdb5uhfSZd6',\n",
       "      'ref': '0c682f76-d7a3-4d77-b5d7-d90594f8c69b',\n",
       "      'label': 'D'}]},\n",
       "   'validations': {'required': False},\n",
       "   'type': 'multiple_choice'},\n",
       "  {'id': 'rhZk6fvyfgCl',\n",
       "   'title': 'What is the 6-digits PIN code (Postal Index Number) of the area you currently live in? [Enter PIN code]',\n",
       "   'ref': 'e498f47e-50d7-43b4-8916-95968d4a0fd8',\n",
       "   'properties': {},\n",
       "   'validations': {'required': False},\n",
       "   'type': 'number'},\n",
       "  {'id': '2VNOEhjc9Hgf',\n",
       "   'title': 'What is the name of the District you currently live in?',\n",
       "   'ref': 'd5f05f39-0f08-4415-8cef-5c786dbef004',\n",
       "   'properties': {},\n",
       "   'validations': {'required': False},\n",
       "   'type': 'short_text'},\n",
       "  {'id': 'P8b8b0dXEcAO',\n",
       "   'title': 'How many family members (including yourself) live in your house? [Enter number]',\n",
       "   'ref': '254fe756-eab6-4989-8c80-acb0bb6ec52b',\n",
       "   'properties': {},\n",
       "   'validations': {'required': False},\n",
       "   'type': 'number'},\n",
       "  {'id': '34uTr9o6Ktu6',\n",
       "   'title': 'Is there a pregnant woman living in your household?',\n",
       "   'ref': '0733cbf7-575b-4f5b-8f76-95e5298dff5e',\n",
       "   'properties': {'randomize': False,\n",
       "    'allow_multiple_selection': False,\n",
       "    'allow_other_choice': False,\n",
       "    'vertical_alignment': True,\n",
       "    'choices': [{'id': 'EI1lf68sKLXm',\n",
       "      'ref': '95d9dfac-7a83-4fe4-beb7-c9f3f7d93fc4',\n",
       "      'label': 'Yes'},\n",
       "     {'id': 'Mnu3bHZXmXny',\n",
       "      'ref': 'd4620a82-1928-433a-a46d-e46c4f5a0a75',\n",
       "      'label': 'No'}]},\n",
       "   'validations': {'required': False},\n",
       "   'type': 'multiple_choice'},\n",
       "  {'id': 'GFlA944Vcac4',\n",
       "   'title': 'If you walk, how long does it take to get to the closest medical center from your house?\\n\\n- A. Less than 15 minutes\\n- B. Between 15 and 30 minutes\\n- C. Between 30 and 60 minutes\\n- D. More than 60 minutes',\n",
       "   'ref': 'd7573919-8a7e-457f-9a1d-1f8c389127a7',\n",
       "   'properties': {'randomize': False,\n",
       "    'allow_multiple_selection': False,\n",
       "    'allow_other_choice': False,\n",
       "    'vertical_alignment': True,\n",
       "    'choices': [{'id': 'e4wZ68r6qiLi',\n",
       "      'ref': 'f19ce8dc-bad8-414a-86ab-c9edfeccb838',\n",
       "      'label': 'A'},\n",
       "     {'id': 'tem4T44q8py1',\n",
       "      'ref': 'c73599eb-d4e4-401a-987a-b47d172b98ee',\n",
       "      'label': 'B'},\n",
       "     {'id': 'SSmSgaFIFpRP',\n",
       "      'ref': '837dd2c4-d77b-4c61-bca0-a645b38eda1f',\n",
       "      'label': 'C'},\n",
       "     {'id': 'yXkfXDU6Yikb',\n",
       "      'ref': '8d9bd2d2-8616-4e1a-a573-98f667d4bfeb',\n",
       "      'label': 'D'}]},\n",
       "   'validations': {'required': False},\n",
       "   'type': 'multiple_choice'},\n",
       "  {'id': 'fbhoPssoWz1e',\n",
       "   'title': 'What kind of medical center is it?\\n\\n- A. Sub Center\\n- B. Primary Health Center\\n- C. Community Health Center\\n- D. District Hospital',\n",
       "   'ref': 'fef0a648-a752-424f-a74a-dd0830975811',\n",
       "   'properties': {'randomize': False,\n",
       "    'allow_multiple_selection': False,\n",
       "    'allow_other_choice': False,\n",
       "    'vertical_alignment': True,\n",
       "    'choices': [{'id': 'dLEHjQLj7YUg',\n",
       "      'ref': '14c4e03e-71dd-44b9-a6d2-06921ba563ab',\n",
       "      'label': 'A'},\n",
       "     {'id': 'mo2oFNQaZVg4',\n",
       "      'ref': '65a46dce-39b4-4e28-88c9-b90f674b9958',\n",
       "      'label': 'B'},\n",
       "     {'id': '9aWTv7N0HHqr',\n",
       "      'ref': '1ec0db87-515d-4ab3-a558-dfd1dcf98800',\n",
       "      'label': 'C'},\n",
       "     {'id': 'UUXuFNRUfXB8',\n",
       "      'ref': '2a7c2d9b-101a-40a6-bf62-8263f018e4e8',\n",
       "      'label': 'D'}]},\n",
       "   'validations': {'required': False},\n",
       "   'type': 'multiple_choice'},\n",
       "  {'id': 'twhDQdMxmdol',\n",
       "   'title': 'Do you have an air conditioning system in your house?',\n",
       "   'ref': 'e279587c-975f-433a-adab-1ad563876af6',\n",
       "   'properties': {'randomize': False,\n",
       "    'allow_multiple_selection': False,\n",
       "    'allow_other_choice': False,\n",
       "    'vertical_alignment': True,\n",
       "    'choices': [{'id': 'pQNrLp6F3CVG',\n",
       "      'ref': '721e3cf2-72fb-488b-b4ce-d7f332de4e74',\n",
       "      'label': 'Yes'},\n",
       "     {'id': 'YROM8L3mkv2W',\n",
       "      'ref': '6d4aa0c8-1d29-435b-af65-cf77c9833eda',\n",
       "      'label': 'No'},\n",
       "     {'id': 'V955s406jLBh',\n",
       "      'ref': 'c902be79-08a7-4a4d-aff2-710d5ddb570a',\n",
       "      'label': \"Don't know\"}]},\n",
       "   'validations': {'required': False},\n",
       "   'type': 'multiple_choice'},\n",
       "  {'id': 'RYVU15ARwChV',\n",
       "   'title': 'Do you have a mosquito net in your house?',\n",
       "   'ref': 'bd4802c6-7bdb-40f0-aac1-18cc6df7da6e',\n",
       "   'properties': {'randomize': False,\n",
       "    'allow_multiple_selection': False,\n",
       "    'allow_other_choice': False,\n",
       "    'vertical_alignment': True,\n",
       "    'choices': [{'id': '55J1UpKP6SG1',\n",
       "      'ref': '2d9a3935-9423-4a39-bb74-503b3c26604f',\n",
       "      'label': 'Yes'},\n",
       "     {'id': 'yYjI1g8qG1VQ',\n",
       "      'ref': 'e6fac69f-d4e9-415d-8ed7-ddf18ecf97c6',\n",
       "      'label': 'No'},\n",
       "     {'id': 'EfserEYOKOph',\n",
       "      'ref': '0232ca17-e405-49a6-8892-0ffe1356b8dc',\n",
       "      'label': \"Don't know\"}]},\n",
       "   'validations': {'required': False},\n",
       "   'type': 'multiple_choice'},\n",
       "  {'id': '8V1lYS9Q4iD4',\n",
       "   'title': 'Would you consider buying a mosquito net for your house?',\n",
       "   'ref': '8a5cb3e3-24d8-4e60-9591-0869fbc8dc3c',\n",
       "   'properties': {'randomize': False,\n",
       "    'allow_multiple_selection': False,\n",
       "    'allow_other_choice': False,\n",
       "    'vertical_alignment': True,\n",
       "    'choices': [{'id': 'aDFUcEbrlvpV',\n",
       "      'ref': 'ae39422c-969d-49b5-a311-584b6c1c0477',\n",
       "      'label': 'Yes'},\n",
       "     {'id': 'kkBabTTjeHjM',\n",
       "      'ref': '25cefd1b-e0f0-43ac-bff9-ae537aeb8110',\n",
       "      'label': 'No'},\n",
       "     {'id': '2RTe7gpVDtCb',\n",
       "      'ref': '4fba449b-7ea7-468c-a25b-305469af8772',\n",
       "      'label': \"Don't know\"}]},\n",
       "   'validations': {'required': False},\n",
       "   'type': 'multiple_choice'},\n",
       "  {'id': 'isi0L6aGCyEh',\n",
       "   'title': 'How much are you willing to pay for a mosquito net?',\n",
       "   'ref': 'b58a24c3-2aab-42dc-8dac-193d18eacd5e',\n",
       "   'properties': {},\n",
       "   'validations': {'required': False},\n",
       "   'type': 'short_text'},\n",
       "  {'id': 'ZicEJksiSJA7',\n",
       "   'title': 'Do you know where you can buy a mosquito net nearby?',\n",
       "   'ref': 'd245e8ad-5c5f-4c60-afe2-3ba3f0615cc3',\n",
       "   'properties': {'randomize': False,\n",
       "    'allow_multiple_selection': False,\n",
       "    'allow_other_choice': False,\n",
       "    'vertical_alignment': True,\n",
       "    'choices': [{'id': 'OK771jVBsk4U',\n",
       "      'ref': 'b5d18ed2-fc72-4be1-8a3a-b4de98de18c1',\n",
       "      'label': 'Yes'},\n",
       "     {'id': 'zdHAYC7dTfz7',\n",
       "      'ref': '30928852-097a-4d77-9fb2-369b11ea44bb',\n",
       "      'label': 'No'}]},\n",
       "   'validations': {'required': False},\n",
       "   'type': 'multiple_choice'},\n",
       "  {'id': 'Viao3QoIzoig',\n",
       "   'title': 'How many mosquito nets are there in your house? [Enter number]',\n",
       "   'ref': '5b7f5aae-b5d6-4ff3-8367-ce5db3195bfb',\n",
       "   'properties': {},\n",
       "   'validations': {'required': False},\n",
       "   'type': 'number'},\n",
       "  {'id': 'YRqVZm8GNKCn',\n",
       "   'title': 'Have you, someone in your house, or any of your neighbors had malaria in the last 5 years?',\n",
       "   'ref': 'f6e69027-97cc-494e-8d52-318b75047e23',\n",
       "   'properties': {'randomize': False,\n",
       "    'allow_multiple_selection': False,\n",
       "    'allow_other_choice': False,\n",
       "    'vertical_alignment': True,\n",
       "    'choices': [{'id': 'MdvCson3stuA',\n",
       "      'ref': '5dc5ca01-c90c-4dd8-aba1-29fbe6a4f875',\n",
       "      'label': 'Yes'},\n",
       "     {'id': 'oI4AWMbed1m3',\n",
       "      'ref': '88169601-fad3-4701-bb93-6a2c907d77b3',\n",
       "      'label': 'No'},\n",
       "     {'id': 'q3iUZLbiv8Xk',\n",
       "      'ref': '5746ab4e-4187-47cd-b610-4fd1cbacc610',\n",
       "      'label': 'Don’t know'}]},\n",
       "   'validations': {'required': False},\n",
       "   'type': 'multiple_choice'},\n",
       "  {'id': 'xaL04PidqNJd',\n",
       "   'title': 'Have you/someone in your family ever been tested for malaria?',\n",
       "   'ref': '59b673a3-76ca-4963-aef3-04e11e836bb3',\n",
       "   'properties': {'randomize': False,\n",
       "    'allow_multiple_selection': False,\n",
       "    'allow_other_choice': False,\n",
       "    'vertical_alignment': True,\n",
       "    'choices': [{'id': 'U3H4M3DYsBet',\n",
       "      'ref': '27b1e041-99f5-4da7-a742-d2e519382ca2',\n",
       "      'label': 'Yes'},\n",
       "     {'id': 'rNba9Px50eir',\n",
       "      'ref': '8bfb8937-c070-481a-ae0e-318a6eee5b8f',\n",
       "      'label': 'No'},\n",
       "     {'id': '0kJXTVs0L0uK',\n",
       "      'ref': '491db7b6-30a0-4c77-8f8c-3e565a578cba',\n",
       "      'label': 'Don’t know'}]},\n",
       "   'validations': {'required': False},\n",
       "   'type': 'multiple_choice'},\n",
       "  {'id': 'wGWy3dnDih41',\n",
       "   'title': 'Please hold on! We have a few more questions left.',\n",
       "   'ref': '155b4ec6-1f63-4508-ad14-0f80695233a5',\n",
       "   'properties': {'button_text': 'Continue', 'hide_marks': False},\n",
       "   'type': 'statement'},\n",
       "  {'id': 'cbX3WJmu0nVB',\n",
       "   'title': 'Now we would like to know how you feel about the current health situation in your community. There are no correct or incorrect answers. We just want to know what you think! \\nKeep in mind that your answers will remain confidential.',\n",
       "   'ref': '73bcb952-d132-4f40-8463-1f9a75b463ac',\n",
       "   'properties': {'button_text': 'Continue', 'hide_marks': False},\n",
       "   'type': 'statement'},\n",
       "  {'id': '1HjZWhRPELzD',\n",
       "   'title': 'How worried are you that you/someone in your family will get COVID-19 (or Coronavirus) in the next month?\\n\\n- A. Extremely worried\\n- B. Worried\\n- C. Somewhat worried\\n- D. Not at all worried',\n",
       "   'ref': '25b20f99-a30c-4549-968a-05b7276fa485',\n",
       "   'properties': {'randomize': False,\n",
       "    'allow_multiple_selection': False,\n",
       "    'allow_other_choice': False,\n",
       "    'vertical_alignment': True,\n",
       "    'choices': [{'id': 'ZY8Zt6uZF4Wd',\n",
       "      'ref': '9f34016e-4be9-47b0-9c96-626cf16d1712',\n",
       "      'label': 'A'},\n",
       "     {'id': 'SfSGl3YjCKSb',\n",
       "      'ref': '49955824-c00d-46d8-acb2-33a48ea258d6',\n",
       "      'label': 'B'},\n",
       "     {'id': 'BUCQVT6SkkEs',\n",
       "      'ref': 'b89eb57a-f41a-4dd5-8c85-947e2d7ea86b',\n",
       "      'label': 'C'},\n",
       "     {'id': 'atnmGjUSe3dC',\n",
       "      'ref': '73960765-7d23-40fe-8590-9646c36d289e',\n",
       "      'label': 'D'}]},\n",
       "   'validations': {'required': False},\n",
       "   'type': 'multiple_choice'},\n",
       "  {'id': 'PSdFqXiiAx5V',\n",
       "   'title': 'How worried are you that you/someone in your family will get Malaria in the next month?\\n\\n- A. Extremely worried\\n- B. Worried\\n- C. Somewhat worried\\n- D. Not at all worried',\n",
       "   'ref': '7c955b2b-0480-4cbc-9800-f94b77078f22',\n",
       "   'properties': {'randomize': False,\n",
       "    'allow_multiple_selection': False,\n",
       "    'allow_other_choice': False,\n",
       "    'vertical_alignment': True,\n",
       "    'choices': [{'id': 'SEELgrF1kROC',\n",
       "      'ref': 'bf12f943-7bee-46ab-95c5-861054fff71d',\n",
       "      'label': 'A'},\n",
       "     {'id': 'SxfoMtnMCoNM',\n",
       "      'ref': '22e3fab6-7d24-4800-9e43-7f45d7250967',\n",
       "      'label': 'B'},\n",
       "     {'id': 'MyMBjHtYJooh',\n",
       "      'ref': '8a0726e5-eb9d-465d-b065-45f9b36e8d9d',\n",
       "      'label': 'C'},\n",
       "     {'id': 'bzeNu6eiLcz0',\n",
       "      'ref': 'bff5329d-d1c7-46b0-8531-6c5f193f7a84',\n",
       "      'label': 'D'}]},\n",
       "   'validations': {'required': False},\n",
       "   'type': 'multiple_choice'},\n",
       "  {'id': 'eFN4vrDsU2fW',\n",
       "   'title': 'What would you do if tomorrow you or a family member got a fever (100.4°F / 38°C or above) and there was a doctor or a healthcare facility near your home?\\n\\n- A. I would seek treatment right away\\n- B. I would seek treatment if the fever didn’t subside within 24 hours\\n- C. I would wait and see how the fever develops over the next 3 days\\n- D. I don’t think it is necessary to seek treatment for a fever',\n",
       "   'ref': 'f526f205-7aa9-4e3a-9acc-c39766e1bc8c',\n",
       "   'properties': {'randomize': False,\n",
       "    'allow_multiple_selection': False,\n",
       "    'allow_other_choice': False,\n",
       "    'vertical_alignment': True,\n",
       "    'choices': [{'id': 'iQlASLlHULbA',\n",
       "      'ref': 'e4272a67-7eb2-4770-8d33-e59b1e57c965',\n",
       "      'label': 'A'},\n",
       "     {'id': 'yhrmHUvuGjlz',\n",
       "      'ref': 'f42d7a49-bc3e-470d-8e55-02212abe9e9c',\n",
       "      'label': 'B'},\n",
       "     {'id': 'HJFwOteAc4i8',\n",
       "      'ref': 'b58378b2-7f98-40a8-95d3-8d26d0674a7c',\n",
       "      'label': 'C'},\n",
       "     {'id': 'aA9avb0NKGjf',\n",
       "      'ref': '2948788d-e563-472c-a390-417704e9f811',\n",
       "      'label': 'D'}]},\n",
       "   'validations': {'required': False},\n",
       "   'type': 'multiple_choice'},\n",
       "  {'id': 'LosNUY1QamOQ',\n",
       "   'title': 'Did you sleep under a mosquito net last night?',\n",
       "   'ref': 'b5b1ff58-c8df-4890-9b1c-0cd40ce6edc0',\n",
       "   'properties': {'randomize': False,\n",
       "    'allow_multiple_selection': False,\n",
       "    'allow_other_choice': False,\n",
       "    'vertical_alignment': True,\n",
       "    'choices': [{'id': 'M9EvY0uutLqW',\n",
       "      'ref': '190d33a8-2be4-43ac-8653-23ee9a402487',\n",
       "      'label': 'Yes'},\n",
       "     {'id': 'ELt1aEuspxCI',\n",
       "      'ref': '9b693b7c-c922-4c13-a370-4955c84ddcd4',\n",
       "      'label': 'No'}]},\n",
       "   'validations': {'required': False},\n",
       "   'type': 'multiple_choice'},\n",
       "  {'id': 'gGoKa3gyrFlr',\n",
       "   'title': 'How many family members that live in your house (including yourself) slept under a mosquito net last night? [Enter number]',\n",
       "   'ref': '8065d101-7995-4471-9ca6-54e9ce6d4310',\n",
       "   'properties': {},\n",
       "   'validations': {'required': False},\n",
       "   'type': 'number'},\n",
       "  {'id': 'n5Zj4V6yNYCX',\n",
       "   'title': 'Thinking about yesterday, did you/your family use long-sleeve clothing to prevent mosquito bites?',\n",
       "   'ref': '0992f107-7274-4404-aeff-bf80a723f098',\n",
       "   'properties': {'randomize': False,\n",
       "    'allow_multiple_selection': False,\n",
       "    'allow_other_choice': False,\n",
       "    'vertical_alignment': True,\n",
       "    'choices': [{'id': 'vb62h274Phhh',\n",
       "      'ref': 'e5b68286-f91d-4efd-afae-3d6b464c943c',\n",
       "      'label': 'Yes'},\n",
       "     {'id': 'xzHWwSp5aPn4',\n",
       "      'ref': '6f1f3ce8-1d0f-4661-a9f0-17658d15fd11',\n",
       "      'label': 'No'}]},\n",
       "   'validations': {'required': False},\n",
       "   'type': 'multiple_choice'},\n",
       "  {'id': 'RYhh5ufAKh17',\n",
       "   'title': 'Thinking about yesterday, did you/your family use body/wall sprays to prevent mosquito bites?',\n",
       "   'ref': '02379921-3b90-4005-b813-cf1e9aec0f40',\n",
       "   'properties': {'randomize': False,\n",
       "    'allow_multiple_selection': False,\n",
       "    'allow_other_choice': False,\n",
       "    'vertical_alignment': True,\n",
       "    'choices': [{'id': 'foi5JpwEXOlw',\n",
       "      'ref': 'c72dc59c-af90-4d93-b789-daec2134e960',\n",
       "      'label': 'Yes'},\n",
       "     {'id': 'Pef7ep8pGfcT',\n",
       "      'ref': '0e2786e7-7eea-46f8-a64c-df11d8838b3b',\n",
       "      'label': 'No'}]},\n",
       "   'validations': {'required': False},\n",
       "   'type': 'multiple_choice'},\n",
       "  {'id': 'xVn0Zd2rU4Vc',\n",
       "   'title': 'Please hold on!\\nOnly ten questions are left.',\n",
       "   'ref': 'ebc86c0e-e433-478a-89cb-bbecdb98ffb8',\n",
       "   'properties': {'button_text': 'Continue', 'hide_marks': False},\n",
       "   'type': 'statement'},\n",
       "  {'id': 'h8d4dTlLeUNh',\n",
       "   'title': 'Have you/someone in your family had a fever (100.4°F / 38°C or above) in the last two weeks?',\n",
       "   'ref': '8327f607-0ebe-4db5-9708-2b6207cc2483',\n",
       "   'properties': {'randomize': False,\n",
       "    'allow_multiple_selection': False,\n",
       "    'allow_other_choice': False,\n",
       "    'vertical_alignment': True,\n",
       "    'choices': [{'id': '0PPDpZ0SxXdU',\n",
       "      'ref': '734dc3df-cff5-4e15-8536-8e15fdf1efee',\n",
       "      'label': 'Yes'},\n",
       "     {'id': 'hP17GXrsHXjt',\n",
       "      'ref': 'cf74a4d6-9e52-4560-99f3-94914ca4d7ac',\n",
       "      'label': 'No'},\n",
       "     {'id': 'wassYz3ZrZbN',\n",
       "      'ref': 'ce9c2a42-a0c1-469a-9725-8cbabb0b67d4',\n",
       "      'label': 'Don’t know'}]},\n",
       "   'validations': {'required': False},\n",
       "   'type': 'multiple_choice'},\n",
       "  {'id': 'FbLb4b0D9DzA',\n",
       "   'title': 'Did you seek medical help?',\n",
       "   'ref': 'e6d4dc10-85e8-43c8-ad44-295305027958',\n",
       "   'properties': {'randomize': False,\n",
       "    'allow_multiple_selection': False,\n",
       "    'allow_other_choice': False,\n",
       "    'vertical_alignment': True,\n",
       "    'choices': [{'id': 'vpuAJiWxzbTE',\n",
       "      'ref': '09462a71-f033-4c46-bd97-972104759004',\n",
       "      'label': 'Yes'},\n",
       "     {'id': 'vquOfpMooqkL',\n",
       "      'ref': '29e85d98-04f9-4e1d-81b5-73311d78bffe',\n",
       "      'label': 'No'},\n",
       "     {'id': 'Giw4AsI9a1sa',\n",
       "      'ref': '4ad16066-e957-4271-9a8d-b3a25fd279ff',\n",
       "      'label': 'Don’t know'}]},\n",
       "   'validations': {'required': False},\n",
       "   'type': 'multiple_choice'},\n",
       "  {'id': 'eMy8jjwy4w8r',\n",
       "   'title': 'How long after the onset of the fever did you seek medical help?\\n\\n- A. Less than 24 hours\\n- B. 24-48 hours\\n- C. More than 2 days',\n",
       "   'ref': '96d6dba5-bd1e-4fef-a71a-cc20fbca7ca4',\n",
       "   'properties': {'randomize': False,\n",
       "    'allow_multiple_selection': False,\n",
       "    'allow_other_choice': False,\n",
       "    'vertical_alignment': True,\n",
       "    'choices': [{'id': 'uHkN9nOvU8Aa',\n",
       "      'ref': 'b588f7ee-09a4-43b3-8d3d-1d84bb831619',\n",
       "      'label': 'A'},\n",
       "     {'id': 'YG0Yomn8QpD6',\n",
       "      'ref': 'f009289a-563d-4516-addf-36570b4beb84',\n",
       "      'label': 'B'},\n",
       "     {'id': 'qXoxhI4FcdPD',\n",
       "      'ref': '4432090c-ab1d-42c6-b54c-c4a9325a13b4',\n",
       "      'label': 'C'}]},\n",
       "   'validations': {'required': False},\n",
       "   'type': 'multiple_choice'},\n",
       "  {'id': 'EE8MO2ztGNTN',\n",
       "   'title': 'Have you/someone in your family had Malaria in the last two weeks?',\n",
       "   'ref': 'dad23031-8468-4900-89cc-d01841d8b660',\n",
       "   'properties': {'randomize': False,\n",
       "    'allow_multiple_selection': False,\n",
       "    'allow_other_choice': False,\n",
       "    'vertical_alignment': True,\n",
       "    'choices': [{'id': 'zanWKIhcdUWQ',\n",
       "      'ref': '4ee2d7ee-8009-42ea-9a0e-e16d7308d0aa',\n",
       "      'label': 'Yes'},\n",
       "     {'id': 'd14ffSgVqkSM',\n",
       "      'ref': '2de201fd-ec9b-43a9-b756-1038bbcff0cb',\n",
       "      'label': 'No'},\n",
       "     {'id': '1b9QDUZzBxrP',\n",
       "      'ref': 'fab1f8ad-e253-47ff-8112-97c59198c623',\n",
       "      'label': 'Don’t know'}]},\n",
       "   'validations': {'required': False},\n",
       "   'type': 'multiple_choice'},\n",
       "  {'id': '2Re3hdxpxUUe',\n",
       "   'title': 'Were you or your family members tested for Malaria?',\n",
       "   'ref': '9de3d2f5-d9c0-45aa-9065-a61c975a58dc',\n",
       "   'properties': {'randomize': False,\n",
       "    'allow_multiple_selection': False,\n",
       "    'allow_other_choice': False,\n",
       "    'vertical_alignment': True,\n",
       "    'choices': [{'id': 'sGCQyRef5Zzh',\n",
       "      'ref': 'b8e3de37-c489-4e27-a7be-03f72776f070',\n",
       "      'label': 'Yes'},\n",
       "     {'id': '6X82xtaaI1ep',\n",
       "      'ref': '37c991fd-698c-4d65-a242-cbfc90333360',\n",
       "      'label': 'No'},\n",
       "     {'id': 'NVcFD83pFdAC',\n",
       "      'ref': '26173a74-79c5-47b7-97f7-6000387bcb77',\n",
       "      'label': 'Don’t know'}]},\n",
       "   'validations': {'required': False},\n",
       "   'type': 'multiple_choice'},\n",
       "  {'id': 'ZYKQjRwKPtQQ',\n",
       "   'title': 'How long after the onset of Malaria symptoms did you seek medical help?\\n\\n- A. Less than 24 hours\\n- B. 24-48 hours\\n- C. More than 2 days',\n",
       "   'ref': '73ef8720-5e2b-463c-aa8a-ed890a839a8b',\n",
       "   'properties': {'randomize': False,\n",
       "    'allow_multiple_selection': False,\n",
       "    'allow_other_choice': False,\n",
       "    'vertical_alignment': True,\n",
       "    'choices': [{'id': 'IPuHXGSvmVAo',\n",
       "      'ref': 'eda3c146-8906-4db8-93e2-a73adbef3836',\n",
       "      'label': 'A'},\n",
       "     {'id': 'fiv6bLygcdze',\n",
       "      'ref': 'c9abca85-cec3-472a-a527-4a33e99ae548',\n",
       "      'label': 'B'},\n",
       "     {'id': 'p7qcpGKpio9W',\n",
       "      'ref': '28aee1ec-a5db-4675-980b-fcfb71020e9d',\n",
       "      'label': 'C'}]},\n",
       "   'validations': {'required': False},\n",
       "   'type': 'multiple_choice'},\n",
       "  {'id': 'xnL6mRrY5t9U',\n",
       "   'title': 'What is your religion?',\n",
       "   'ref': '8e490114-df6d-4fb3-b1be-6ce11acd9212',\n",
       "   'properties': {'randomize': False,\n",
       "    'allow_multiple_selection': False,\n",
       "    'allow_other_choice': False,\n",
       "    'vertical_alignment': True,\n",
       "    'choices': [{'id': 'U7yw8RTD2LBq',\n",
       "      'ref': 'c2c9f9ef-182e-4862-9991-8d1cb1d10e4b',\n",
       "      'label': 'Hindu'},\n",
       "     {'id': '4fzdAdtH9aj0',\n",
       "      'ref': '2a31906b-f0bc-4942-b70b-4b4f2e863831',\n",
       "      'label': 'Muslim'},\n",
       "     {'id': 'GgEGfEZvqswy',\n",
       "      'ref': 'fdcafa30-aee8-41bc-8c0d-a128fe32f9c8',\n",
       "      'label': 'Christian'},\n",
       "     {'id': 'r8NLqj0Dkzb7',\n",
       "      'ref': '6d9f951e-811e-4b27-bc46-ebadf53e127f',\n",
       "      'label': 'Sikh'},\n",
       "     {'id': 'BJ5v03CzLAXr',\n",
       "      'ref': '8897e057-aa4d-48ef-a4ed-6eadd3b1b178',\n",
       "      'label': 'Buddhist'},\n",
       "     {'id': 'j6AGmj0lYWBs',\n",
       "      'ref': '147a4832-fea0-4c22-9c3b-790cb12f524d',\n",
       "      'label': 'Jain'},\n",
       "     {'id': 'PmDIHP3u1H9j',\n",
       "      'ref': '09857e8a-f07b-42c7-aeb0-d0e608628c9c',\n",
       "      'label': 'Jewish'},\n",
       "     {'id': 'a40UKgDbkByC',\n",
       "      'ref': '5f8bd114-e597-49d3-902c-25e4da18d081',\n",
       "      'label': 'Other'}]},\n",
       "   'validations': {'required': False},\n",
       "   'type': 'multiple_choice'},\n",
       "  {'id': 'fvGhE6oo3loo',\n",
       "   'title': 'Please specify:',\n",
       "   'ref': '759da95d-bad2-46cd-adb1-69a510b3d87f',\n",
       "   'properties': {},\n",
       "   'validations': {'required': False},\n",
       "   'type': 'short_text'},\n",
       "  {'id': '0j7FvJK0WC7S',\n",
       "   'title': 'What is your caste?',\n",
       "   'ref': '912bc5d8-db4a-402b-b506-f85ce4e89e6f',\n",
       "   'properties': {'randomize': False,\n",
       "    'allow_multiple_selection': False,\n",
       "    'allow_other_choice': False,\n",
       "    'vertical_alignment': True,\n",
       "    'choices': [{'id': '4WBdRm3K248P',\n",
       "      'ref': '517f4278-ee39-47bf-bbe7-e852ae197912',\n",
       "      'label': 'General'},\n",
       "     {'id': 'N9P7WAYe28bK',\n",
       "      'ref': 'e55c235a-0400-4ffb-893d-80295975d333',\n",
       "      'label': 'OBC'},\n",
       "     {'id': 'NOEauWMbFvJb',\n",
       "      'ref': 'c9f1fccf-9bc7-4a1d-8b74-aa4878b4f68b',\n",
       "      'label': 'SC/Dalit'},\n",
       "     {'id': 'LTQXrG5L5twg',\n",
       "      'ref': 'd0a56d9d-deb0-40cb-98bf-93d32e592901',\n",
       "      'label': 'ST'},\n",
       "     {'id': 'L23nkyNiso7G',\n",
       "      'ref': 'c7850ee5-bb1b-4c9d-91f6-d6bd71dc74c5',\n",
       "      'label': 'Other'}]},\n",
       "   'validations': {'required': False},\n",
       "   'type': 'multiple_choice'},\n",
       "  {'id': '54zcDN5vCVMR',\n",
       "   'title': 'Please specify:',\n",
       "   'ref': '14dff568-a88e-452f-a03e-a64d8ba48dbd',\n",
       "   'properties': {},\n",
       "   'validations': {'required': False},\n",
       "   'type': 'short_text'},\n",
       "  {'id': '8ORLKlZamLDK',\n",
       "   'title': 'What is the highest level of education you have completed?\\n- A. Never attended school\\n- B. Primary\\n- C. Secondary\\n- D. University degree or higher',\n",
       "   'ref': 'e40fa1c6-13a1-4a02-91cd-0eaade11864d',\n",
       "   'properties': {'randomize': False,\n",
       "    'allow_multiple_selection': False,\n",
       "    'allow_other_choice': False,\n",
       "    'vertical_alignment': True,\n",
       "    'choices': [{'id': 'IMHTGp4FYGak',\n",
       "      'ref': '60d46d86-a417-43dd-8a31-e50c86283468',\n",
       "      'label': 'A'},\n",
       "     {'id': 'gShj2Kjikk9P',\n",
       "      'ref': '49923d21-24f3-43ab-95cb-618fcd28becb',\n",
       "      'label': 'B'},\n",
       "     {'id': 'Gy3jsKiWqS0c',\n",
       "      'ref': 'ccded590-180e-486e-a576-a432597d6723',\n",
       "      'label': 'C'},\n",
       "     {'id': 'YevdF3yPe2KL',\n",
       "      'ref': 'bdc5928d-25de-41df-9a67-4e435d32c2ca',\n",
       "      'label': 'D'}]},\n",
       "   'validations': {'required': False},\n",
       "   'type': 'multiple_choice'},\n",
       "  {'id': '95xPLGTqlx2A',\n",
       "   'title': 'What is your current occupation?\\n- A. Student\\n- B. Employed-full time\\n- C. Employed part-time\\n- D. Self-employed\\n- E. Unemployed',\n",
       "   'ref': '4fc929c7-132d-49b1-a164-515e5cc9064f',\n",
       "   'properties': {'randomize': False,\n",
       "    'allow_multiple_selection': False,\n",
       "    'allow_other_choice': False,\n",
       "    'vertical_alignment': True,\n",
       "    'choices': [{'id': 'HXYKSVr4lhoe',\n",
       "      'ref': '6284f571-4fbf-4c99-9bcc-7990daf9ba60',\n",
       "      'label': 'A'},\n",
       "     {'id': 'z0dfXqILmX0r',\n",
       "      'ref': '9aa1a8bd-467f-4c15-abf1-97729574774b',\n",
       "      'label': 'B'},\n",
       "     {'id': 'LJvktiRQIUJT',\n",
       "      'ref': 'c02f90af-cb64-4b4d-9701-4eda3ea4c49a',\n",
       "      'label': 'C'},\n",
       "     {'id': 'mZe9hQdC2PsJ',\n",
       "      'ref': 'f038de2a-0c1c-455a-900a-66d8ed6c70f7',\n",
       "      'label': 'D'},\n",
       "     {'id': 'LFRbR9Q1MJJd',\n",
       "      'ref': 'ca217e8a-ab7d-4764-8e5b-7a0ebe05e0ee',\n",
       "      'label': 'E'}]},\n",
       "   'validations': {'required': False},\n",
       "   'type': 'multiple_choice'},\n",
       "  {'id': 'g4uTpBgD737m',\n",
       "   'title': 'What best describes the dwelling you live in?\\n\\n- A. Kutcha (made of mud, tin, straw)\\n- B. Pucca (have cement/brick wall and floor\\n- C. Semi-pucca',\n",
       "   'ref': '4d0ae478-3893-4b46-ab39-d6848c69245d',\n",
       "   'properties': {'randomize': False,\n",
       "    'allow_multiple_selection': False,\n",
       "    'allow_other_choice': False,\n",
       "    'vertical_alignment': True,\n",
       "    'choices': [{'id': 'w907V8Ul1iZ9',\n",
       "      'ref': 'b71473ac-e33a-4f82-8dac-c36f263e25fd',\n",
       "      'label': 'A'},\n",
       "     {'id': 'Py83emTBr9wY',\n",
       "      'ref': '6dd12612-6dc3-4b4c-9422-d9584bb82a2e',\n",
       "      'label': 'B'},\n",
       "     {'id': 'TsMc5BhjoiwW',\n",
       "      'ref': '776d16e0-a984-4dca-829b-b846f297e482',\n",
       "      'label': 'C'}]},\n",
       "   'validations': {'required': False},\n",
       "   'type': 'multiple_choice'},\n",
       "  {'id': '23HgIeHNUVeE',\n",
       "   'title': 'Thank you for your time!\\nIn two weeks, we will contact you again to ask another 5 questions.\\n\\nIf you answer our questions, in one month from today you will get 100 INR in mobile credit. Moreover, if you complete the full study, in six months from today you will get 200 INR in phone credit.\\n\\nPlease allow us to contact you again. ',\n",
       "   'ref': '7a136ac5-649f-44f4-845c-fddde09ba69e',\n",
       "   'properties': {'button_text': 'Continue', 'hide_marks': False},\n",
       "   'type': 'statement'},\n",
       "  {'id': 'qW4tKgNRlA6I',\n",
       "   'title': 'Click on the “Notify me” button below.',\n",
       "   'ref': '51db7238-4ef0-49e7-b88b-e6bb22f6a30e',\n",
       "   'properties': {'description': 'type: notify',\n",
       "    'button_text': 'Continue',\n",
       "    'hide_marks': False},\n",
       "   'type': 'statement'},\n",
       "  {'id': 'QXwZAL33QDJ5',\n",
       "   'title': 'Thank you.\\nWe will get in touch soon!',\n",
       "   'ref': '6ce902c2-4498-4949-8abb-3b10287833a2',\n",
       "   'properties': {'description': 'type: wait\\nwait:\\n    notifyPermission: true\\n    type: timeout\\n    value: 17 days',\n",
       "    'button_text': 'Continue',\n",
       "    'hide_marks': False},\n",
       "   'type': 'statement'},\n",
       "  {'id': 'RfIcc8d8B3Pb',\n",
       "   'title': 'Hi {{hidden:name}}! 😀\\nWe hope you are doing well. We contact you because we would like to continue the interview and ask you to answer 5 questions. These will only take 2 minutes of your time.\\n\\nRemember that you would need to complete the full study to receive the 300 INR mobile credit.\\n\\nTo continue, please click on the Accept button below.',\n",
       "   'ref': 'e4cc0a96-43b8-4052-9243-34fbdb680d48',\n",
       "   'properties': {'randomize': False,\n",
       "    'allow_multiple_selection': False,\n",
       "    'allow_other_choice': False,\n",
       "    'vertical_alignment': True,\n",
       "    'choices': [{'id': 'EWwH4jkx4aDI',\n",
       "      'ref': '2e7526e7-81b3-46e4-a394-e93e736b7b81',\n",
       "      'label': 'Accept'}]},\n",
       "   'validations': {'required': False},\n",
       "   'type': 'multiple_choice'},\n",
       "  {'id': 'dGAzYdMBuNZs',\n",
       "   'title': 'Thank you!',\n",
       "   'ref': '8af4bf7a-9047-49a2-a529-a20bb2dcbcf5',\n",
       "   'properties': {'description': 'type: stitch\\nstitch:\\n    form: follow1eng',\n",
       "    'button_text': 'Continue',\n",
       "    'hide_marks': False},\n",
       "   'type': 'statement'}],\n",
       " 'hidden': ['id', 'name'],\n",
       " 'logic': [{'type': 'field',\n",
       "   'ref': 'bd4802c6-7bdb-40f0-aac1-18cc6df7da6e',\n",
       "   'actions': [{'action': 'jump',\n",
       "     'details': {'to': {'type': 'field',\n",
       "       'value': '5b7f5aae-b5d6-4ff3-8367-ce5db3195bfb'}},\n",
       "     'condition': {'op': 'is',\n",
       "      'vars': [{'type': 'field',\n",
       "        'value': 'bd4802c6-7bdb-40f0-aac1-18cc6df7da6e'},\n",
       "       {'type': 'choice',\n",
       "        'value': '2d9a3935-9423-4a39-bb74-503b3c26604f'}]}}]},\n",
       "  {'type': 'field',\n",
       "   'ref': '8327f607-0ebe-4db5-9708-2b6207cc2483',\n",
       "   'actions': [{'action': 'jump',\n",
       "     'details': {'to': {'type': 'field',\n",
       "       'value': 'e6d4dc10-85e8-43c8-ad44-295305027958'}},\n",
       "     'condition': {'op': 'is',\n",
       "      'vars': [{'type': 'field',\n",
       "        'value': '8327f607-0ebe-4db5-9708-2b6207cc2483'},\n",
       "       {'type': 'choice', 'value': '734dc3df-cff5-4e15-8536-8e15fdf1efee'}]}},\n",
       "    {'action': 'jump',\n",
       "     'details': {'to': {'type': 'field',\n",
       "       'value': 'dad23031-8468-4900-89cc-d01841d8b660'}},\n",
       "     'condition': {'op': 'always', 'vars': []}}]},\n",
       "  {'type': 'field',\n",
       "   'ref': 'dad23031-8468-4900-89cc-d01841d8b660',\n",
       "   'actions': [{'action': 'jump',\n",
       "     'details': {'to': {'type': 'field',\n",
       "       'value': '9de3d2f5-d9c0-45aa-9065-a61c975a58dc'}},\n",
       "     'condition': {'op': 'is',\n",
       "      'vars': [{'type': 'field',\n",
       "        'value': 'dad23031-8468-4900-89cc-d01841d8b660'},\n",
       "       {'type': 'choice', 'value': '4ee2d7ee-8009-42ea-9a0e-e16d7308d0aa'}]}},\n",
       "    {'action': 'jump',\n",
       "     'details': {'to': {'type': 'field',\n",
       "       'value': '8e490114-df6d-4fb3-b1be-6ce11acd9212'}},\n",
       "     'condition': {'op': 'always', 'vars': []}}]},\n",
       "  {'type': 'field',\n",
       "   'ref': '8e490114-df6d-4fb3-b1be-6ce11acd9212',\n",
       "   'actions': [{'action': 'jump',\n",
       "     'details': {'to': {'type': 'field',\n",
       "       'value': '759da95d-bad2-46cd-adb1-69a510b3d87f'}},\n",
       "     'condition': {'op': 'is',\n",
       "      'vars': [{'type': 'field',\n",
       "        'value': '8e490114-df6d-4fb3-b1be-6ce11acd9212'},\n",
       "       {'type': 'choice', 'value': '5f8bd114-e597-49d3-902c-25e4da18d081'}]}},\n",
       "    {'action': 'jump',\n",
       "     'details': {'to': {'type': 'field',\n",
       "       'value': '912bc5d8-db4a-402b-b506-f85ce4e89e6f'}},\n",
       "     'condition': {'op': 'always', 'vars': []}}]},\n",
       "  {'type': 'field',\n",
       "   'ref': '912bc5d8-db4a-402b-b506-f85ce4e89e6f',\n",
       "   'actions': [{'action': 'jump',\n",
       "     'details': {'to': {'type': 'field',\n",
       "       'value': '14dff568-a88e-452f-a03e-a64d8ba48dbd'}},\n",
       "     'condition': {'op': 'is',\n",
       "      'vars': [{'type': 'field',\n",
       "        'value': '912bc5d8-db4a-402b-b506-f85ce4e89e6f'},\n",
       "       {'type': 'choice', 'value': 'c7850ee5-bb1b-4c9d-91f6-d6bd71dc74c5'}]}},\n",
       "    {'action': 'jump',\n",
       "     'details': {'to': {'type': 'field',\n",
       "       'value': 'e40fa1c6-13a1-4a02-91cd-0eaade11864d'}},\n",
       "     'condition': {'op': 'always', 'vars': []}}]},\n",
       "  {'type': 'field',\n",
       "   'ref': 'e6d4dc10-85e8-43c8-ad44-295305027958',\n",
       "   'actions': [{'action': 'jump',\n",
       "     'details': {'to': {'type': 'field',\n",
       "       'value': '96d6dba5-bd1e-4fef-a71a-cc20fbca7ca4'}},\n",
       "     'condition': {'op': 'is',\n",
       "      'vars': [{'type': 'field',\n",
       "        'value': 'e6d4dc10-85e8-43c8-ad44-295305027958'},\n",
       "       {'type': 'choice', 'value': '09462a71-f033-4c46-bd97-972104759004'}]}},\n",
       "    {'action': 'jump',\n",
       "     'details': {'to': {'type': 'field',\n",
       "       'value': 'dad23031-8468-4900-89cc-d01841d8b660'}},\n",
       "     'condition': {'op': 'always', 'vars': []}}]},\n",
       "  {'type': 'field',\n",
       "   'ref': '9de3d2f5-d9c0-45aa-9065-a61c975a58dc',\n",
       "   'actions': [{'action': 'jump',\n",
       "     'details': {'to': {'type': 'field',\n",
       "       'value': '73ef8720-5e2b-463c-aa8a-ed890a839a8b'}},\n",
       "     'condition': {'op': 'is',\n",
       "      'vars': [{'type': 'field',\n",
       "        'value': '9de3d2f5-d9c0-45aa-9065-a61c975a58dc'},\n",
       "       {'type': 'choice', 'value': 'b8e3de37-c489-4e27-a7be-03f72776f070'}]}},\n",
       "    {'action': 'jump',\n",
       "     'details': {'to': {'type': 'field',\n",
       "       'value': '8e490114-df6d-4fb3-b1be-6ce11acd9212'}},\n",
       "     'condition': {'op': 'always', 'vars': []}}]},\n",
       "  {'type': 'field',\n",
       "   'ref': 'd245e8ad-5c5f-4c60-afe2-3ba3f0615cc3',\n",
       "   'actions': [{'action': 'jump',\n",
       "     'details': {'to': {'type': 'field',\n",
       "       'value': 'f6e69027-97cc-494e-8d52-318b75047e23'}},\n",
       "     'condition': {'op': 'always', 'vars': []}}]}],\n",
       " '_links': {'display': 'https://nandanrao.typeform.com/to/Yym3bbfC'}}"
      ]
     },
     "execution_count": 432,
     "metadata": {},
     "output_type": "execute_result"
    }
   ],
   "source": [
    "forms[0]"
   ]
  },
  {
   "cell_type": "code",
   "execution_count": null,
   "metadata": {
    "collapsed": false
   },
   "outputs": [],
   "source": []
  },
  {
   "cell_type": "code",
   "execution_count": 575,
   "metadata": {
    "collapsed": false
   },
   "outputs": [],
   "source": [
    "questions = [\n",
    "    ('malaria_incidence', 'f6e69027-97cc-494e-8d52-318b75047e23'),\n",
    "    ('malaria_now', 'dad23031-8468-4900-89cc-d01841d8b660'),\n",
    "    ('dist_medical', 'd7573919-8a7e-457f-9a1d-1f8c389127a7'),\n",
    "    ('education', 'e40fa1c6-13a1-4a02-91cd-0eaade11864d'),\n",
    "    ('owns_net', 'bd4802c6-7bdb-40f0-aac1-18cc6df7da6e'),\n",
    "    ('has_ac', 'e279587c-975f-433a-adab-1ad563876af6'),\n",
    "    ('net_lastnight', 'b5b1ff58-c8df-4890-9b1c-0cd40ce6edc0'),\n",
    "    ('home', '4d0ae478-3893-4b46-ab39-d6848c69245d')]\n"
   ]
  },
  {
   "cell_type": "code",
   "execution_count": 576,
   "metadata": {
    "collapsed": false
   },
   "outputs": [],
   "source": [
    "from responses import get_response_df\n",
    "\n",
    "def ref_translation(eng_form, other_form):\n",
    "    vals = [(a['ref'], b['ref']) for a, b \n",
    "            in zip(eng_form['fields'], other_form['fields'])]\n",
    "    lookup = dict(vals)\n",
    "    rev_lookup = {v:k for k,v in lookup.items()}\n",
    "    return lookup, rev_lookup\n",
    "\n",
    "\n",
    "def get_filtered_responses(survey_user, eng_form, other_form, shortcodes, questions, db_cnf):\n",
    "    ref_lookup, rev_ref_lookup = ref_translation(eng_form, other_form)\n",
    "    refs = [ref_lookup[r] for _, r in questions]\n",
    "    responses = get_response_df(survey_user, shortcodes, refs, db_cnf)\n",
    "\n",
    "    _, last_ref = questions[-1]\n",
    "    \n",
    "    answered = responses[responses.question_ref == last_ref].userid.unique()    \n",
    "\n",
    "    return responses[responses.userid.isin(answered)].reset_index(drop=True)\n",
    "\n",
    "\n",
    "filtered_res = get_filtered_responses(survey_user, forms[0], forms[1], ['baselinehin', 'baselinehinexc'], questions, cnf['chatbase'])"
   ]
  },
  {
   "cell_type": "code",
   "execution_count": null,
   "metadata": {
    "collapsed": false
   },
   "outputs": [],
   "source": [
    "from clustering import add_res_cols\n",
    "from forms import response_translator\n",
    "\n",
    "def col_translators(a, b, questions):\n",
    "    lookup, _ = ref_translation(a, b)\n",
    "\n",
    "    refs = [ref for _, ref in questions]\n",
    "    ts = { qt['ref']: response_translator(q, qt)\n",
    "                   for qt, q in zip(a['fields'], b['fields'])                   if qt['ref'] in refs}\n",
    "\n",
    "    return [(n, lookup[ref], ts[ref]) for n, ref in questions]\n",
    "\n",
    "col_names = col_translators(forms[0], forms[1], questions)\n",
    "rr = add_res_cols(col_names, shape_df(filtered_res)) \\\n",
    "    .reset_index(drop=True) \\\n",
    "    .dropna()"
   ]
  },
  {
   "cell_type": "code",
   "execution_count": 582,
   "metadata": {
    "collapsed": false
   },
   "outputs": [],
   "source": [
    "dd = rr.merge(districts, left_on='md:clusterid', right_on='disthash')\n",
    "\n",
    "dd['under_net'] = dd.net_lastnight == 'Yes'\n",
    "dd['malaria'] = dd.malaria_incidence == 'Yes'\n",
    "dd['malaria_now'] = dd.malaria_now == 'Yes'\n",
    "dd['kutcha'] = dd.home == 'Kutcha (made of mud, tin, straw)'"
   ]
  },
  {
   "cell_type": "code",
   "execution_count": 579,
   "metadata": {
    "collapsed": false
   },
   "outputs": [],
   "source": [
    "def malaria_prob(groupby, key='malaria'):\n",
    "    d = groupby[key].value_counts(normalize=True)\n",
    "    d.name = 'count'\n",
    "    d = d.reset_index(level=-1)\n",
    "    d = d[d[key] == True].drop(columns=key)\n",
    "    return d"
   ]
  },
  {
   "cell_type": "code",
   "execution_count": 580,
   "metadata": {
    "collapsed": false
   },
   "outputs": [],
   "source": [
    "def stats(df):\n",
    "    targets = df.kutcha.sum()\n",
    "    tot = df.shape[0]\n",
    "    non_target = tot - targets\n",
    "    return pd.Series([targets/tot, targets, non_target, tot], index=['perc', 'target', 'non_target', 'tot'])\n",
    "\n",
    "perc = dd.groupby('disthash').apply(stats).reset_index()"
   ]
  },
  {
   "cell_type": "code",
   "execution_count": 581,
   "metadata": {
    "collapsed": false
   },
   "outputs": [
    {
     "data": {
      "text/plain": [
       "{'name': 'kutchas',\n",
       " 'targeting': {'age_min': 20},\n",
       " 'per_cluster_pop': 100,\n",
       " 'surveys': [{'shortcode': 'baselineeng',\n",
       "   'cluster_question': {'name': 'district', 'ref': 'md:clusterid'},\n",
       "   'target_questions': [{'name': 'home',\n",
       "     'ref': '4d0ae478-3893-4b46-ab39-d6848c69245d',\n",
       "     'op': 'equal',\n",
       "     'value': 'A'}],\n",
       "   'exclude_questions': [{'name': 'home',\n",
       "     'ref': '4d0ae478-3893-4b46-ab39-d6848c69245d',\n",
       "     'op': 'equal',\n",
       "     'value': 'B'}]},\n",
       "  {'shortcode': 'baselinehin',\n",
       "   'cluster_question': {'name': 'district', 'ref': 'md:clusterid'},\n",
       "   'target_questions': [{'name': 'home',\n",
       "     'ref': '4d0ae478-3893-4b46-ab39-d6848c69245d',\n",
       "     'op': 'equal',\n",
       "     'value': 'A'}],\n",
       "   'exclude_questions': [{'name': 'home',\n",
       "     'ref': '4d0ae478-3893-4b46-ab39-d6848c69245d',\n",
       "     'op': 'equal',\n",
       "     'value': 'B'}]},\n",
       "  {'shortcode': 'baselinehinexc',\n",
       "   'cluster_question': {'name': 'district', 'ref': 'md:clusterid'},\n",
       "   'target_questions': [{'name': 'home',\n",
       "     'ref': '4d0ae478-3893-4b46-ab39-d6848c69245d',\n",
       "     'op': 'equal',\n",
       "     'value': 'A'}],\n",
       "   'exclude_questions': [{'name': 'home',\n",
       "     'ref': '4d0ae478-3893-4b46-ab39-d6848c69245d',\n",
       "     'op': 'equal',\n",
       "     'value': 'B'}]},\n",
       "  {'shortcode': 'baselineodi',\n",
       "   'cluster_question': {'name': 'district', 'ref': 'md:clusterid'},\n",
       "   'target_questions': [{'name': 'home',\n",
       "     'ref': '4d0ae478-3893-4b46-ab39-d6848c69245d',\n",
       "     'op': 'equal',\n",
       "     'value': 'A'}],\n",
       "   'exclude_questions': [{'name': 'home',\n",
       "     'ref': '4d0ae478-3893-4b46-ab39-d6848c69245d',\n",
       "     'op': 'equal',\n",
       "     'value': 'B'}]}]}"
      ]
     },
     "execution_count": 581,
     "metadata": {},
     "output_type": "execute_result"
    }
   ],
   "source": [
    "stratum = cnf['strata'][0]\n",
    "\n",
    "stratum"
   ]
  },
  {
   "cell_type": "code",
   "execution_count": 553,
   "metadata": {
    "collapsed": false
   },
   "outputs": [
    {
     "name": "stderr",
     "output_type": "stream",
     "text": [
      "WARNING:root:User without cluster: 1989430067808669\n"
     ]
    },
    {
     "name": "stderr",
     "output_type": "stream",
     "text": [
      "WARNING:root:User without cluster: 2809033675789023\n"
     ]
    }
   ],
   "source": [
    "from clustering import get_budget_lookup\n",
    "from malaria import window, days_left, get_df\n",
    "\n",
    "df = get_df(cnf)\n",
    "\n",
    "stratum = cnf['strata'][0]\n",
    "spend = m.get_spend(window())\n",
    "budget_lookup = get_budget_lookup(df,\n",
    "                                  stratum,\n",
    "                                  float('inf'),\n",
    "                                  days_left(cnf),\n",
    "                                  window(),\n",
    "                                  spend)"
   ]
  },
  {
   "cell_type": "code",
   "execution_count": null,
   "metadata": {
    "collapsed": false
   },
   "outputs": [],
   "source": [
    "bb = pd.Series(budget_lookup) / 100\n",
    "\n",
    "with pd.option_context('display.max_rows', None):\n",
    "    display(bb.sort_values())"
   ]
  },
  {
   "cell_type": "code",
   "execution_count": 560,
   "metadata": {
    "collapsed": false
   },
   "outputs": [
    {
     "data": {
      "text/plain": [
       "74685.96399999999"
      ]
     },
     "execution_count": 560,
     "metadata": {},
     "output_type": "execute_result"
    }
   ],
   "source": [
    "bb.sort_values()[:80].sum() / 10"
   ]
  },
  {
   "cell_type": "code",
   "execution_count": null,
   "metadata": {
    "collapsed": false
   },
   "outputs": [],
   "source": [
    "from clustering import add_cluster, only_target_users\n",
    "\n",
    "stratum = cnf['strata'][0]\n",
    "surveys = stratum['surveys']\n",
    "df = add_cluster(surveys, df)"
   ]
  },
  {
   "cell_type": "code",
   "execution_count": 292,
   "metadata": {
    "collapsed": false
   },
   "outputs": [],
   "source": [
    "targets = only_target_users(df, surveys, 'target_questions')"
   ]
  },
  {
   "cell_type": "code",
   "execution_count": 293,
   "metadata": {
    "collapsed": false
   },
   "outputs": [],
   "source": [
    "df['target'] = df.userid.isin(targets.userid)"
   ]
  },
  {
   "cell_type": "code",
   "execution_count": null,
   "metadata": {
    "collapsed": false
   },
   "outputs": [],
   "source": [
    "with pd.option_context('display.max_rows', None):\n",
    "    display(df.groupby('cluster').target.sum().sort_values())"
   ]
  },
  {
   "cell_type": "code",
   "execution_count": 355,
   "metadata": {
    "collapsed": false
   },
   "outputs": [],
   "source": [
    "def add_foo(r):\n",
    "    r['budget'] = budget_lookup.get(r['disthash'], None)\n",
    "    return r\n",
    "\n",
    "perc = perc.apply(add_foo, 1)"
   ]
  },
  {
   "cell_type": "code",
   "execution_count": 481,
   "metadata": {
    "collapsed": false
   },
   "outputs": [],
   "source": [
    "too_expensive = [k for k, v in budget_lookup.items() if v > 10000]"
   ]
  },
  {
   "cell_type": "code",
   "execution_count": 515,
   "metadata": {
    "collapsed": false
   },
   "outputs": [
    {
     "data": {
      "text/plain": [
       "91009"
      ]
     },
     "execution_count": 515,
     "metadata": {},
     "output_type": "execute_result"
    }
   ],
   "source": [
    "sum([v for k, v in budget_lookup.items() if v > 10000])"
   ]
  },
  {
   "cell_type": "code",
   "execution_count": null,
   "metadata": {
    "collapsed": false
   },
   "outputs": [],
   "source": [
    "# array(['786f66b7', '2e0a86c3', 'cbea7cbf', '4c6cbda0'], dtype=object)"
   ]
  },
  {
   "cell_type": "code",
   "execution_count": 563,
   "metadata": {
    "collapsed": false
   },
   "outputs": [
    {
     "data": {
      "text/plain": [
       "array(['dbaa941c', '188ae45b', '335580ac', '72d1d8e0', '8ce955f7',\n",
       "       'c25e6958', 'd3ed46a4', '22a26988', '3c054e8f', 'ba353231',\n",
       "       'a0530be6', 'e5b6ea7f', '15b5a749', '5c4dcb04', '9a766899',\n",
       "       '3c73baaa', '07853f76', 'b406895f', 'd56fd7da', 'b923577c',\n",
       "       'ce04df02', '196f4fd1', '5b788486', '0d1e3ccb', '0c4a9e7c',\n",
       "       '59a2fd2c', '4d59f3e6', '9565590d', 'b27404c2', 'c12daf4e',\n",
       "       'd9024a8b', '3aca460f', '8ed5f728', 'd86b84cb', 'e222a102',\n",
       "       'e5f52cdf', '786f66b7', '42504ec5', '426d0912', '2e0a86c3',\n",
       "       'c5c35762', '2ae8c08a', '749c3a9c', '9064b3f8', 'e765ab1c',\n",
       "       '09c3966f', 'cfce48f2', '0b302692', 'e4f3449c', '247b0531',\n",
       "       '419b24e9', 'c250de2d', 'e77e76a7', '5c8b8562', 'cbea7cbf',\n",
       "       '5b1466b5', '5abbecc7', '3b34c260', '0c92f920', '4c6cbda0'],\n",
       "      dtype=object)"
      ]
     },
     "execution_count": 563,
     "metadata": {},
     "output_type": "execute_result"
    }
   ],
   "source": [
    "cities[cities.include_audience == True].disthash.unique()"
   ]
  },
  {
   "cell_type": "code",
   "execution_count": null,
   "metadata": {
    "collapsed": false
   },
   "outputs": [],
   "source": [
    "with pd.option_context('display.max_rows', None):\n",
    "    display(perc.sort_values('tot'))"
   ]
  },
  {
   "cell_type": "code",
   "execution_count": 535,
   "metadata": {
    "collapsed": false
   },
   "outputs": [],
   "source": [
    "target_kutchas = perc[(perc.perc < .4) & (perc.tot > 40)].disthash"
   ]
  },
  {
   "cell_type": "code",
   "execution_count": 536,
   "metadata": {
    "collapsed": false
   },
   "outputs": [],
   "source": [
    "cities['include_audience'] = cities.disthash.isin(target_kutchas)"
   ]
  },
  {
   "cell_type": "code",
   "execution_count": 538,
   "metadata": {
    "collapsed": false
   },
   "outputs": [],
   "source": [
    "cities.to_csv('output/cities.csv', index=False)"
   ]
  },
  {
   "cell_type": "code",
   "execution_count": null,
   "metadata": {
    "collapsed": false
   },
   "outputs": [],
   "source": [
    "with pd.option_context('display.max_rows', None):\n",
    "    display(dd.groupby('disthash').kutcha.sum().sort_values())"
   ]
  },
  {
   "cell_type": "code",
   "execution_count": 367,
   "metadata": {
    "collapsed": false
   },
   "outputs": [
    {
     "data": {
      "text/plain": [
       "array(['786f66b7', '2e0a86c3', 'cbea7cbf', '4c6cbda0'], dtype=object)"
      ]
     },
     "execution_count": 367,
     "metadata": {},
     "output_type": "execute_result"
    }
   ],
   "source": [
    "cities[cities.creative_group == 'exclusions'].disthash.unique()"
   ]
  },
  {
   "cell_type": "code",
   "execution_count": 299,
   "metadata": {
    "collapsed": false
   },
   "outputs": [
    {
     "data": {
      "text/plain": [
       "Pucca (have cement/brick wall and floor    3270\n",
       "Semi-pucca                                 1446\n",
       "Kutcha (made of mud, tin, straw)           1194\n",
       "Name: home, dtype: int64"
      ]
     },
     "execution_count": 299,
     "metadata": {},
     "output_type": "execute_result"
    }
   ],
   "source": [
    "dd.home.value_counts()"
   ]
  },
  {
   "cell_type": "code",
   "execution_count": 493,
   "metadata": {
    "collapsed": false
   },
   "outputs": [],
   "source": [
    "high_malaria_dists = perc[(perc.perc > .25)].disthash.unique()\n",
    "low_malaria_dists = perc[(perc.perc <= .15)].disthash.unique()\n",
    "# low_malaria_dists = perc[(perc.perc == 0.0) & (perc.target >= 0)].disthash.unique()\n",
    "\n",
    "# low_malaria_dists = cities[cities.include_audience == True].disthash.unique()\n",
    "\n",
    "dd['dist_risk'] = 'med'\n",
    "dd.loc[dd['md:clusterid'].isin(low_malaria_dists), 'dist_risk'] = 'low'\n",
    "dd.loc[dd['md:clusterid'].isin(high_malaria_dists), 'dist_risk'] = 'high'"
   ]
  },
  {
   "cell_type": "code",
   "execution_count": null,
   "metadata": {
    "collapsed": false
   },
   "outputs": [],
   "source": [
    "dd.groupby('disthash').head(1)['dist_risk'].value_counts()"
   ]
  },
  {
   "cell_type": "code",
   "execution_count": null,
   "metadata": {
    "collapsed": false
   },
   "outputs": [],
   "source": [
    "malaria_prob(dd.groupby('home'))"
   ]
  },
  {
   "cell_type": "code",
   "execution_count": null,
   "metadata": {
    "collapsed": false
   },
   "outputs": [],
   "source": [
    "dd.groupby('education').has_ac.value_counts(1)"
   ]
  },
  {
   "cell_type": "code",
   "execution_count": null,
   "metadata": {
    "collapsed": false
   },
   "outputs": [],
   "source": [
    "malaria_prob(dd.groupby(['dist_risk', 'home']), 'malaria_now')"
   ]
  },
  {
   "cell_type": "code",
   "execution_count": 460,
   "metadata": {
    "collapsed": false
   },
   "outputs": [
    {
     "data": {
      "text/html": [
       "<div>\n",
       "<style scoped>\n",
       "    .dataframe tbody tr th:only-of-type {\n",
       "        vertical-align: middle;\n",
       "    }\n",
       "\n",
       "    .dataframe tbody tr th {\n",
       "        vertical-align: top;\n",
       "    }\n",
       "\n",
       "    .dataframe thead th {\n",
       "        text-align: right;\n",
       "    }\n",
       "</style>\n",
       "<table border=\"1\" class=\"dataframe\">\n",
       "  <thead>\n",
       "    <tr style=\"text-align: right;\">\n",
       "      <th></th>\n",
       "      <th></th>\n",
       "      <th></th>\n",
       "      <th>count</th>\n",
       "    </tr>\n",
       "    <tr>\n",
       "      <th>home</th>\n",
       "      <th>has_ac</th>\n",
       "      <th>under_net</th>\n",
       "      <th></th>\n",
       "    </tr>\n",
       "  </thead>\n",
       "  <tbody>\n",
       "    <tr>\n",
       "      <th rowspan=\"5\" valign=\"top\">Kutcha (made of mud, tin, straw)</th>\n",
       "      <th rowspan=\"2\" valign=\"top\">Don't know</th>\n",
       "      <th>False</th>\n",
       "      <td>0.048387</td>\n",
       "    </tr>\n",
       "    <tr>\n",
       "      <th>True</th>\n",
       "      <td>0.038961</td>\n",
       "    </tr>\n",
       "    <tr>\n",
       "      <th rowspan=\"2\" valign=\"top\">No</th>\n",
       "      <th>False</th>\n",
       "      <td>0.036530</td>\n",
       "    </tr>\n",
       "    <tr>\n",
       "      <th>True</th>\n",
       "      <td>0.025039</td>\n",
       "    </tr>\n",
       "    <tr>\n",
       "      <th>Yes</th>\n",
       "      <th>True</th>\n",
       "      <td>0.026316</td>\n",
       "    </tr>\n",
       "    <tr>\n",
       "      <th rowspan=\"6\" valign=\"top\">Pucca (have cement/brick wall and floor</th>\n",
       "      <th rowspan=\"2\" valign=\"top\">Don't know</th>\n",
       "      <th>False</th>\n",
       "      <td>0.015152</td>\n",
       "    </tr>\n",
       "    <tr>\n",
       "      <th>True</th>\n",
       "      <td>0.025974</td>\n",
       "    </tr>\n",
       "    <tr>\n",
       "      <th rowspan=\"2\" valign=\"top\">No</th>\n",
       "      <th>False</th>\n",
       "      <td>0.008246</td>\n",
       "    </tr>\n",
       "    <tr>\n",
       "      <th>True</th>\n",
       "      <td>0.009028</td>\n",
       "    </tr>\n",
       "    <tr>\n",
       "      <th rowspan=\"2\" valign=\"top\">Yes</th>\n",
       "      <th>False</th>\n",
       "      <td>0.009317</td>\n",
       "    </tr>\n",
       "    <tr>\n",
       "      <th>True</th>\n",
       "      <td>0.030769</td>\n",
       "    </tr>\n",
       "    <tr>\n",
       "      <th rowspan=\"5\" valign=\"top\">Semi-pucca</th>\n",
       "      <th rowspan=\"2\" valign=\"top\">Don't know</th>\n",
       "      <th>False</th>\n",
       "      <td>0.045455</td>\n",
       "    </tr>\n",
       "    <tr>\n",
       "      <th>True</th>\n",
       "      <td>0.047619</td>\n",
       "    </tr>\n",
       "    <tr>\n",
       "      <th rowspan=\"2\" valign=\"top\">No</th>\n",
       "      <th>False</th>\n",
       "      <td>0.016187</td>\n",
       "    </tr>\n",
       "    <tr>\n",
       "      <th>True</th>\n",
       "      <td>0.012210</td>\n",
       "    </tr>\n",
       "    <tr>\n",
       "      <th>Yes</th>\n",
       "      <th>False</th>\n",
       "      <td>0.024390</td>\n",
       "    </tr>\n",
       "  </tbody>\n",
       "</table>\n",
       "</div>"
      ],
      "text/plain": [
       "                                                                 count\n",
       "home                                    has_ac     under_net          \n",
       "Kutcha (made of mud, tin, straw)        Don't know False      0.048387\n",
       "                                                   True       0.038961\n",
       "                                        No         False      0.036530\n",
       "                                                   True       0.025039\n",
       "                                        Yes        True       0.026316\n",
       "Pucca (have cement/brick wall and floor Don't know False      0.015152\n",
       "                                                   True       0.025974\n",
       "                                        No         False      0.008246\n",
       "                                                   True       0.009028\n",
       "                                        Yes        False      0.009317\n",
       "                                                   True       0.030769\n",
       "Semi-pucca                              Don't know False      0.045455\n",
       "                                                   True       0.047619\n",
       "                                        No         False      0.016187\n",
       "                                                   True       0.012210\n",
       "                                        Yes        False      0.024390"
      ]
     },
     "execution_count": 460,
     "metadata": {},
     "output_type": "execute_result"
    }
   ],
   "source": [
    "malaria_prob(dd.groupby(['home', 'has_ac', 'under_net']), 'malaria_now')"
   ]
  },
  {
   "cell_type": "code",
   "execution_count": 497,
   "metadata": {
    "collapsed": false
   },
   "outputs": [
    {
     "data": {
      "text/html": [
       "<div>\n",
       "<style scoped>\n",
       "    .dataframe tbody tr th:only-of-type {\n",
       "        vertical-align: middle;\n",
       "    }\n",
       "\n",
       "    .dataframe tbody tr th {\n",
       "        vertical-align: top;\n",
       "    }\n",
       "\n",
       "    .dataframe thead th {\n",
       "        text-align: right;\n",
       "    }\n",
       "</style>\n",
       "<table border=\"1\" class=\"dataframe\">\n",
       "  <thead>\n",
       "    <tr style=\"text-align: right;\">\n",
       "      <th></th>\n",
       "      <th></th>\n",
       "      <th>count</th>\n",
       "    </tr>\n",
       "    <tr>\n",
       "      <th>dist_risk</th>\n",
       "      <th>home</th>\n",
       "      <th></th>\n",
       "    </tr>\n",
       "  </thead>\n",
       "  <tbody>\n",
       "    <tr>\n",
       "      <th rowspan=\"3\" valign=\"top\">high</th>\n",
       "      <th>Kutcha (made of mud, tin, straw)</th>\n",
       "      <td>0.051392</td>\n",
       "    </tr>\n",
       "    <tr>\n",
       "      <th>Pucca (have cement/brick wall and floor</th>\n",
       "      <td>0.017401</td>\n",
       "    </tr>\n",
       "    <tr>\n",
       "      <th>Semi-pucca</th>\n",
       "      <td>0.019093</td>\n",
       "    </tr>\n",
       "    <tr>\n",
       "      <th rowspan=\"3\" valign=\"top\">low</th>\n",
       "      <th>Kutcha (made of mud, tin, straw)</th>\n",
       "      <td>0.019324</td>\n",
       "    </tr>\n",
       "    <tr>\n",
       "      <th>Pucca (have cement/brick wall and floor</th>\n",
       "      <td>0.009715</td>\n",
       "    </tr>\n",
       "    <tr>\n",
       "      <th>Semi-pucca</th>\n",
       "      <td>0.011844</td>\n",
       "    </tr>\n",
       "    <tr>\n",
       "      <th rowspan=\"3\" valign=\"top\">med</th>\n",
       "      <th>Kutcha (made of mud, tin, straw)</th>\n",
       "      <td>0.017812</td>\n",
       "    </tr>\n",
       "    <tr>\n",
       "      <th>Pucca (have cement/brick wall and floor</th>\n",
       "      <td>0.006189</td>\n",
       "    </tr>\n",
       "    <tr>\n",
       "      <th>Semi-pucca</th>\n",
       "      <td>0.016822</td>\n",
       "    </tr>\n",
       "  </tbody>\n",
       "</table>\n",
       "</div>"
      ],
      "text/plain": [
       "                                                      count\n",
       "dist_risk home                                             \n",
       "high      Kutcha (made of mud, tin, straw)         0.051392\n",
       "          Pucca (have cement/brick wall and floor  0.017401\n",
       "          Semi-pucca                               0.019093\n",
       "low       Kutcha (made of mud, tin, straw)         0.019324\n",
       "          Pucca (have cement/brick wall and floor  0.009715\n",
       "          Semi-pucca                               0.011844\n",
       "med       Kutcha (made of mud, tin, straw)         0.017812\n",
       "          Pucca (have cement/brick wall and floor  0.006189\n",
       "          Semi-pucca                               0.016822"
      ]
     },
     "execution_count": 497,
     "metadata": {},
     "output_type": "execute_result"
    }
   ],
   "source": [
    "malaria_prob(dd.groupby(['dist_risk', 'home']), 'malaria_now')"
   ]
  },
  {
   "cell_type": "code",
   "execution_count": 48,
   "metadata": {
    "collapsed": false
   },
   "outputs": [],
   "source": [
    "# dd['include_audience'] = dd.dist_risk == 'low'\n",
    "\n",
    "# cities = cities.merge(dd.groupby('disthash').head(1).reset_index(drop=True)[['disthash', 'include_audience']])\n",
    "\n",
    "# cities.to_csv('output/cities.csv', index=False)"
   ]
  },
  {
   "cell_type": "code",
   "execution_count": 283,
   "metadata": {
    "collapsed": false
   },
   "outputs": [
    {
     "data": {
      "text/plain": [
       "dist_risk  malaria\n",
       "high       False       921\n",
       "           True        510\n",
       "low        False      1927\n",
       "           True        230\n",
       "med        False      1736\n",
       "           True        401\n",
       "Name: malaria, dtype: int64"
      ]
     },
     "execution_count": 283,
     "metadata": {},
     "output_type": "execute_result"
    }
   ],
   "source": [
    "dd.groupby('dist_risk').malaria.value_counts()"
   ]
  },
  {
   "cell_type": "code",
   "execution_count": 168,
   "metadata": {
    "collapsed": false
   },
   "outputs": [
    {
     "data": {
      "text/plain": [
       "0.48735408560311283"
      ]
     },
     "execution_count": 168,
     "metadata": {},
     "output_type": "execute_result"
    }
   ],
   "source": [
    "filter_time(dd, (2020,7,21), (2020,7,25)) \\\n",
    "    .pipe(lambda df: df[df.disthash.isin(low_malaria_dists)]).shape[0] / filter_time(dd, (2020,7,21), (2020,7,25)).shape[0]"
   ]
  },
  {
   "cell_type": "code",
   "execution_count": 169,
   "metadata": {
    "collapsed": false
   },
   "outputs": [
    {
     "data": {
      "text/plain": [
       "0.26901062959934585"
      ]
     },
     "execution_count": 169,
     "metadata": {},
     "output_type": "execute_result"
    }
   ],
   "source": [
    "filter_time(dd, (2020,8,1), (2020,8,10)) \\\n",
    "    .pipe(lambda df: df[df.disthash.isin(low_malaria_dists)]).shape[0] / filter_time(dd, (2020,8,1), (2020,8,10)).shape[0]"
   ]
  },
  {
   "cell_type": "code",
   "execution_count": 216,
   "metadata": {
    "collapsed": false
   },
   "outputs": [
    {
     "data": {
      "text/plain": [
       "Pucca (have cement/brick wall and floor    0.601583\n",
       "Semi-pucca                                 0.262533\n",
       "Kutcha (made of mud, tin, straw)           0.135884\n",
       "Name: home, dtype: float64"
      ]
     },
     "execution_count": 216,
     "metadata": {},
     "output_type": "execute_result"
    }
   ],
   "source": [
    "filter_time(dd[dd.disthash.isin(low_malaria_dists)], (2020,7,21), (2020,7,24)).home.value_counts(normalize=True)"
   ]
  },
  {
   "cell_type": "code",
   "execution_count": 215,
   "metadata": {
    "collapsed": false
   },
   "outputs": [
    {
     "data": {
      "text/plain": [
       "Pucca (have cement/brick wall and floor    0.494845\n",
       "Semi-pucca                                 0.268041\n",
       "Kutcha (made of mud, tin, straw)           0.237113\n",
       "Name: home, dtype: float64"
      ]
     },
     "execution_count": 215,
     "metadata": {},
     "output_type": "execute_result"
    }
   ],
   "source": [
    "filter_time(dd[dd.disthash.isin(low_malaria_dists)], (2020,8,1), (2020,8,7)).home.value_counts(normalize=True)"
   ]
  },
  {
   "cell_type": "code",
   "execution_count": 214,
   "metadata": {
    "collapsed": false
   },
   "outputs": [
    {
     "data": {
      "text/plain": [
       "Pucca (have cement/brick wall and floor    0.385965\n",
       "Kutcha (made of mud, tin, straw)           0.315789\n",
       "Semi-pucca                                 0.298246\n",
       "Name: home, dtype: float64"
      ]
     },
     "execution_count": 214,
     "metadata": {},
     "output_type": "execute_result"
    }
   ],
   "source": [
    "filter_time(dd[dd.disthash.isin(low_malaria_dists)], (2020,8,7), (2020,8,8)).home.value_counts(normalize=True)"
   ]
  },
  {
   "cell_type": "code",
   "execution_count": 174,
   "metadata": {
    "collapsed": false
   },
   "outputs": [],
   "source": [
    "saturated = perc[perc.non_target >= 125].disthash"
   ]
  },
  {
   "cell_type": "code",
   "execution_count": 175,
   "metadata": {
    "collapsed": false
   },
   "outputs": [
    {
     "data": {
      "text/plain": [
       "22    2e0a86c3\n",
       "34    4c6cbda0\n",
       "52    786f66b7\n",
       "81    cbea7cbf\n",
       "Name: disthash, dtype: object"
      ]
     },
     "execution_count": 175,
     "metadata": {},
     "output_type": "execute_result"
    }
   ],
   "source": [
    "saturated"
   ]
  },
  {
   "cell_type": "code",
   "execution_count": 566,
   "metadata": {
    "collapsed": false
   },
   "outputs": [],
   "source": [
    "cities['creative_group'] = 'hindi'\n",
    "# cities.loc[cities.disthash.isin(saturated), 'creative_group'] = 'exclusions'"
   ]
  },
  {
   "cell_type": "code",
   "execution_count": 567,
   "metadata": {
    "collapsed": false
   },
   "outputs": [
    {
     "data": {
      "text/html": [
       "<div>\n",
       "<style scoped>\n",
       "    .dataframe tbody tr th:only-of-type {\n",
       "        vertical-align: middle;\n",
       "    }\n",
       "\n",
       "    .dataframe tbody tr th {\n",
       "        vertical-align: top;\n",
       "    }\n",
       "\n",
       "    .dataframe thead th {\n",
       "        text-align: right;\n",
       "    }\n",
       "</style>\n",
       "<table border=\"1\" class=\"dataframe\">\n",
       "  <thead>\n",
       "    <tr style=\"text-align: right;\">\n",
       "      <th></th>\n",
       "      <th>id</th>\n",
       "      <th>distcode</th>\n",
       "      <th>distname</th>\n",
       "      <th>state</th>\n",
       "      <th>rad</th>\n",
       "      <th>lng</th>\n",
       "      <th>lat</th>\n",
       "      <th>disthash</th>\n",
       "      <th>creative_group</th>\n",
       "      <th>include_audience</th>\n",
       "    </tr>\n",
       "  </thead>\n",
       "  <tbody>\n",
       "    <tr>\n",
       "      <th>0</th>\n",
       "      <td>245718296</td>\n",
       "      <td>363.0</td>\n",
       "      <td>Jamtara</td>\n",
       "      <td>Jharkhand</td>\n",
       "      <td>9.082666</td>\n",
       "      <td>86.802492</td>\n",
       "      <td>23.963216</td>\n",
       "      <td>94c3981f</td>\n",
       "      <td>hindi</td>\n",
       "      <td>False</td>\n",
       "    </tr>\n",
       "    <tr>\n",
       "      <th>1</th>\n",
       "      <td>6736171285</td>\n",
       "      <td>363.0</td>\n",
       "      <td>Jamtara</td>\n",
       "      <td>Jharkhand</td>\n",
       "      <td>4.793280</td>\n",
       "      <td>86.613861</td>\n",
       "      <td>24.045396</td>\n",
       "      <td>94c3981f</td>\n",
       "      <td>hindi</td>\n",
       "      <td>False</td>\n",
       "    </tr>\n",
       "    <tr>\n",
       "      <th>2</th>\n",
       "      <td>6736213486</td>\n",
       "      <td>363.0</td>\n",
       "      <td>Jamtara</td>\n",
       "      <td>Jharkhand</td>\n",
       "      <td>5.612525</td>\n",
       "      <td>87.161193</td>\n",
       "      <td>23.970470</td>\n",
       "      <td>94c3981f</td>\n",
       "      <td>hindi</td>\n",
       "      <td>False</td>\n",
       "    </tr>\n",
       "    <tr>\n",
       "      <th>3</th>\n",
       "      <td>566174725</td>\n",
       "      <td>369.0</td>\n",
       "      <td>Saraikela-Kharsawan</td>\n",
       "      <td>Jharkhand</td>\n",
       "      <td>2.375710</td>\n",
       "      <td>86.106653</td>\n",
       "      <td>22.815277</td>\n",
       "      <td>ba2a52b9</td>\n",
       "      <td>hindi</td>\n",
       "      <td>False</td>\n",
       "    </tr>\n",
       "    <tr>\n",
       "      <th>4</th>\n",
       "      <td>1323455437</td>\n",
       "      <td>369.0</td>\n",
       "      <td>Saraikela-Kharsawan</td>\n",
       "      <td>Jharkhand</td>\n",
       "      <td>11.198950</td>\n",
       "      <td>85.947944</td>\n",
       "      <td>22.791742</td>\n",
       "      <td>ba2a52b9</td>\n",
       "      <td>hindi</td>\n",
       "      <td>False</td>\n",
       "    </tr>\n",
       "    <tr>\n",
       "      <th>...</th>\n",
       "      <td>...</td>\n",
       "      <td>...</td>\n",
       "      <td>...</td>\n",
       "      <td>...</td>\n",
       "      <td>...</td>\n",
       "      <td>...</td>\n",
       "      <td>...</td>\n",
       "      <td>...</td>\n",
       "      <td>...</td>\n",
       "      <td>...</td>\n",
       "    </tr>\n",
       "    <tr>\n",
       "      <th>457</th>\n",
       "      <td>6591683648</td>\n",
       "      <td>175.0</td>\n",
       "      <td>Allahabad</td>\n",
       "      <td>Uttar Pradesh</td>\n",
       "      <td>7.658412</td>\n",
       "      <td>81.782379</td>\n",
       "      <td>25.450019</td>\n",
       "      <td>4c6cbda0</td>\n",
       "      <td>hindi</td>\n",
       "      <td>True</td>\n",
       "    </tr>\n",
       "    <tr>\n",
       "      <th>458</th>\n",
       "      <td>6591683649</td>\n",
       "      <td>175.0</td>\n",
       "      <td>Allahabad</td>\n",
       "      <td>Uttar Pradesh</td>\n",
       "      <td>10.965387</td>\n",
       "      <td>81.815529</td>\n",
       "      <td>25.457826</td>\n",
       "      <td>4c6cbda0</td>\n",
       "      <td>hindi</td>\n",
       "      <td>True</td>\n",
       "    </tr>\n",
       "    <tr>\n",
       "      <th>459</th>\n",
       "      <td>6591687870</td>\n",
       "      <td>175.0</td>\n",
       "      <td>Allahabad</td>\n",
       "      <td>Uttar Pradesh</td>\n",
       "      <td>16.329389</td>\n",
       "      <td>81.854603</td>\n",
       "      <td>25.529915</td>\n",
       "      <td>4c6cbda0</td>\n",
       "      <td>hindi</td>\n",
       "      <td>True</td>\n",
       "    </tr>\n",
       "    <tr>\n",
       "      <th>460</th>\n",
       "      <td>6591831677</td>\n",
       "      <td>175.0</td>\n",
       "      <td>Allahabad</td>\n",
       "      <td>Uttar Pradesh</td>\n",
       "      <td>18.265542</td>\n",
       "      <td>81.875911</td>\n",
       "      <td>25.483881</td>\n",
       "      <td>4c6cbda0</td>\n",
       "      <td>hindi</td>\n",
       "      <td>True</td>\n",
       "    </tr>\n",
       "    <tr>\n",
       "      <th>461</th>\n",
       "      <td>6592024345</td>\n",
       "      <td>175.0</td>\n",
       "      <td>Allahabad</td>\n",
       "      <td>Uttar Pradesh</td>\n",
       "      <td>15.216460</td>\n",
       "      <td>81.872907</td>\n",
       "      <td>25.434671</td>\n",
       "      <td>4c6cbda0</td>\n",
       "      <td>hindi</td>\n",
       "      <td>True</td>\n",
       "    </tr>\n",
       "  </tbody>\n",
       "</table>\n",
       "<p>462 rows × 10 columns</p>\n",
       "</div>"
      ],
      "text/plain": [
       "             id  distcode             distname          state        rad  \\\n",
       "0     245718296     363.0              Jamtara      Jharkhand   9.082666   \n",
       "1    6736171285     363.0              Jamtara      Jharkhand   4.793280   \n",
       "2    6736213486     363.0              Jamtara      Jharkhand   5.612525   \n",
       "3     566174725     369.0  Saraikela-Kharsawan      Jharkhand   2.375710   \n",
       "4    1323455437     369.0  Saraikela-Kharsawan      Jharkhand  11.198950   \n",
       "..          ...       ...                  ...            ...        ...   \n",
       "457  6591683648     175.0            Allahabad  Uttar Pradesh   7.658412   \n",
       "458  6591683649     175.0            Allahabad  Uttar Pradesh  10.965387   \n",
       "459  6591687870     175.0            Allahabad  Uttar Pradesh  16.329389   \n",
       "460  6591831677     175.0            Allahabad  Uttar Pradesh  18.265542   \n",
       "461  6592024345     175.0            Allahabad  Uttar Pradesh  15.216460   \n",
       "\n",
       "           lng        lat  disthash creative_group  include_audience  \n",
       "0    86.802492  23.963216  94c3981f          hindi             False  \n",
       "1    86.613861  24.045396  94c3981f          hindi             False  \n",
       "2    87.161193  23.970470  94c3981f          hindi             False  \n",
       "3    86.106653  22.815277  ba2a52b9          hindi             False  \n",
       "4    85.947944  22.791742  ba2a52b9          hindi             False  \n",
       "..         ...        ...       ...            ...               ...  \n",
       "457  81.782379  25.450019  4c6cbda0          hindi              True  \n",
       "458  81.815529  25.457826  4c6cbda0          hindi              True  \n",
       "459  81.854603  25.529915  4c6cbda0          hindi              True  \n",
       "460  81.875911  25.483881  4c6cbda0          hindi              True  \n",
       "461  81.872907  25.434671  4c6cbda0          hindi              True  \n",
       "\n",
       "[462 rows x 10 columns]"
      ]
     },
     "execution_count": 567,
     "metadata": {},
     "output_type": "execute_result"
    }
   ],
   "source": [
    "cities"
   ]
  },
  {
   "cell_type": "code",
   "execution_count": 569,
   "metadata": {
    "collapsed": false
   },
   "outputs": [],
   "source": [
    "cities.to_csv('output/cities.csv', index=False)"
   ]
  },
  {
   "cell_type": "code",
   "execution_count": 502,
   "metadata": {
    "collapsed": false
   },
   "outputs": [
    {
     "data": {
      "text/plain": [
       "0.03352007469654528"
      ]
     },
     "execution_count": 502,
     "metadata": {},
     "output_type": "execute_result"
    }
   ],
   "source": [
    "# district fixed effects of puccaness\n",
    "\n",
    "dd['pucca'] = dd.home != 'Kutcha (made of mud, tin, straw)'\n",
    "\n",
    "malaria_prob(dd.groupby(['disthash', 'pucca'])).reset_index() \\\n",
    "    .groupby('disthash') \\\n",
    "    .filter(lambda df: df.shape[0] > 1) \\\n",
    "    .groupby('disthash') \\\n",
    "    .apply(lambda df: df.iloc[0]['count'] - df.iloc[1]['count']).quantile(0.5)"
   ]
  },
  {
   "cell_type": "code",
   "execution_count": 227,
   "metadata": {
    "collapsed": false
   },
   "outputs": [
    {
     "data": {
      "text/html": [
       "<div>\n",
       "<style scoped>\n",
       "    .dataframe tbody tr th:only-of-type {\n",
       "        vertical-align: middle;\n",
       "    }\n",
       "\n",
       "    .dataframe tbody tr th {\n",
       "        vertical-align: top;\n",
       "    }\n",
       "\n",
       "    .dataframe thead th {\n",
       "        text-align: right;\n",
       "    }\n",
       "</style>\n",
       "<table border=\"1\" class=\"dataframe\">\n",
       "  <thead>\n",
       "    <tr style=\"text-align: right;\">\n",
       "      <th></th>\n",
       "      <th></th>\n",
       "      <th>count</th>\n",
       "    </tr>\n",
       "    <tr>\n",
       "      <th>dist_risk</th>\n",
       "      <th>home</th>\n",
       "      <th></th>\n",
       "    </tr>\n",
       "  </thead>\n",
       "  <tbody>\n",
       "    <tr>\n",
       "      <th rowspan=\"3\" valign=\"top\">high</th>\n",
       "      <th>Kutcha (made of mud, tin, straw)</th>\n",
       "      <td>0.425703</td>\n",
       "    </tr>\n",
       "    <tr>\n",
       "      <th>Pucca (have cement/brick wall and floor</th>\n",
       "      <td>0.322284</td>\n",
       "    </tr>\n",
       "    <tr>\n",
       "      <th>Semi-pucca</th>\n",
       "      <td>0.354839</td>\n",
       "    </tr>\n",
       "    <tr>\n",
       "      <th rowspan=\"3\" valign=\"top\">low</th>\n",
       "      <th>Kutcha (made of mud, tin, straw)</th>\n",
       "      <td>0.136719</td>\n",
       "    </tr>\n",
       "    <tr>\n",
       "      <th>Pucca (have cement/brick wall and floor</th>\n",
       "      <td>0.090982</td>\n",
       "    </tr>\n",
       "    <tr>\n",
       "      <th>Semi-pucca</th>\n",
       "      <td>0.135021</td>\n",
       "    </tr>\n",
       "    <tr>\n",
       "      <th rowspan=\"3\" valign=\"top\">med</th>\n",
       "      <th>Kutcha (made of mud, tin, straw)</th>\n",
       "      <td>0.185965</td>\n",
       "    </tr>\n",
       "    <tr>\n",
       "      <th>Pucca (have cement/brick wall and floor</th>\n",
       "      <td>0.188024</td>\n",
       "    </tr>\n",
       "    <tr>\n",
       "      <th>Semi-pucca</th>\n",
       "      <td>0.218919</td>\n",
       "    </tr>\n",
       "  </tbody>\n",
       "</table>\n",
       "</div>"
      ],
      "text/plain": [
       "                                                      count\n",
       "dist_risk home                                             \n",
       "high      Kutcha (made of mud, tin, straw)         0.425703\n",
       "          Pucca (have cement/brick wall and floor  0.322284\n",
       "          Semi-pucca                               0.354839\n",
       "low       Kutcha (made of mud, tin, straw)         0.136719\n",
       "          Pucca (have cement/brick wall and floor  0.090982\n",
       "          Semi-pucca                               0.135021\n",
       "med       Kutcha (made of mud, tin, straw)         0.185965\n",
       "          Pucca (have cement/brick wall and floor  0.188024\n",
       "          Semi-pucca                               0.218919"
      ]
     },
     "execution_count": 227,
     "metadata": {},
     "output_type": "execute_result"
    }
   ],
   "source": [
    "malaria_prob(filter_time(dd, (2020,7,21), (2020,8,1)).groupby(['dist_risk', 'home']))"
   ]
  },
  {
   "cell_type": "code",
   "execution_count": 252,
   "metadata": {
    "collapsed": false
   },
   "outputs": [
    {
     "data": {
      "text/html": [
       "<div>\n",
       "<style scoped>\n",
       "    .dataframe tbody tr th:only-of-type {\n",
       "        vertical-align: middle;\n",
       "    }\n",
       "\n",
       "    .dataframe tbody tr th {\n",
       "        vertical-align: top;\n",
       "    }\n",
       "\n",
       "    .dataframe thead th {\n",
       "        text-align: right;\n",
       "    }\n",
       "</style>\n",
       "<table border=\"1\" class=\"dataframe\">\n",
       "  <thead>\n",
       "    <tr style=\"text-align: right;\">\n",
       "      <th></th>\n",
       "      <th></th>\n",
       "      <th>count</th>\n",
       "    </tr>\n",
       "    <tr>\n",
       "      <th>dist_risk</th>\n",
       "      <th>home</th>\n",
       "      <th></th>\n",
       "    </tr>\n",
       "  </thead>\n",
       "  <tbody>\n",
       "    <tr>\n",
       "      <th rowspan=\"3\" valign=\"top\">high</th>\n",
       "      <th>Kutcha (made of mud, tin, straw)</th>\n",
       "      <td>0.395522</td>\n",
       "    </tr>\n",
       "    <tr>\n",
       "      <th>Pucca (have cement/brick wall and floor</th>\n",
       "      <td>0.297101</td>\n",
       "    </tr>\n",
       "    <tr>\n",
       "      <th>Semi-pucca</th>\n",
       "      <td>0.415842</td>\n",
       "    </tr>\n",
       "    <tr>\n",
       "      <th rowspan=\"3\" valign=\"top\">low</th>\n",
       "      <th>Kutcha (made of mud, tin, straw)</th>\n",
       "      <td>0.125000</td>\n",
       "    </tr>\n",
       "    <tr>\n",
       "      <th>Pucca (have cement/brick wall and floor</th>\n",
       "      <td>0.040541</td>\n",
       "    </tr>\n",
       "    <tr>\n",
       "      <th>Semi-pucca</th>\n",
       "      <td>0.155556</td>\n",
       "    </tr>\n",
       "    <tr>\n",
       "      <th rowspan=\"3\" valign=\"top\">med</th>\n",
       "      <th>Kutcha (made of mud, tin, straw)</th>\n",
       "      <td>0.104294</td>\n",
       "    </tr>\n",
       "    <tr>\n",
       "      <th>Pucca (have cement/brick wall and floor</th>\n",
       "      <td>0.163934</td>\n",
       "    </tr>\n",
       "    <tr>\n",
       "      <th>Semi-pucca</th>\n",
       "      <td>0.218750</td>\n",
       "    </tr>\n",
       "  </tbody>\n",
       "</table>\n",
       "</div>"
      ],
      "text/plain": [
       "                                                      count\n",
       "dist_risk home                                             \n",
       "high      Kutcha (made of mud, tin, straw)         0.395522\n",
       "          Pucca (have cement/brick wall and floor  0.297101\n",
       "          Semi-pucca                               0.415842\n",
       "low       Kutcha (made of mud, tin, straw)         0.125000\n",
       "          Pucca (have cement/brick wall and floor  0.040541\n",
       "          Semi-pucca                               0.155556\n",
       "med       Kutcha (made of mud, tin, straw)         0.104294\n",
       "          Pucca (have cement/brick wall and floor  0.163934\n",
       "          Semi-pucca                               0.218750"
      ]
     },
     "execution_count": 252,
     "metadata": {},
     "output_type": "execute_result"
    }
   ],
   "source": [
    "malaria_prob(filter_time(dd, (2020,8,6), (2020,8,9)).groupby(['dist_risk', 'home']))"
   ]
  },
  {
   "cell_type": "code",
   "execution_count": 246,
   "metadata": {
    "collapsed": false
   },
   "outputs": [
    {
     "data": {
      "text/html": [
       "<div>\n",
       "<style scoped>\n",
       "    .dataframe tbody tr th:only-of-type {\n",
       "        vertical-align: middle;\n",
       "    }\n",
       "\n",
       "    .dataframe tbody tr th {\n",
       "        vertical-align: top;\n",
       "    }\n",
       "\n",
       "    .dataframe thead th {\n",
       "        text-align: right;\n",
       "    }\n",
       "</style>\n",
       "<table border=\"1\" class=\"dataframe\">\n",
       "  <thead>\n",
       "    <tr style=\"text-align: right;\">\n",
       "      <th></th>\n",
       "      <th>count</th>\n",
       "    </tr>\n",
       "    <tr>\n",
       "      <th>dist_risk</th>\n",
       "      <th></th>\n",
       "    </tr>\n",
       "  </thead>\n",
       "  <tbody>\n",
       "    <tr>\n",
       "      <th>high</th>\n",
       "      <td>0.354808</td>\n",
       "    </tr>\n",
       "    <tr>\n",
       "      <th>low</th>\n",
       "      <td>0.107505</td>\n",
       "    </tr>\n",
       "    <tr>\n",
       "      <th>med</th>\n",
       "      <td>0.195302</td>\n",
       "    </tr>\n",
       "  </tbody>\n",
       "</table>\n",
       "</div>"
      ],
      "text/plain": [
       "              count\n",
       "dist_risk          \n",
       "high       0.354808\n",
       "low        0.107505\n",
       "med        0.195302"
      ]
     },
     "execution_count": 246,
     "metadata": {},
     "output_type": "execute_result"
    }
   ],
   "source": [
    "malaria_prob(filter_time(dd, (2020,7,8), (2020,8,1)).groupby(['dist_risk']))"
   ]
  },
  {
   "cell_type": "code",
   "execution_count": null,
   "metadata": {
    "collapsed": false
   },
   "outputs": [],
   "source": []
  },
  {
   "cell_type": "code",
   "execution_count": 250,
   "metadata": {
    "collapsed": false
   },
   "outputs": [
    {
     "data": {
      "text/html": [
       "<div>\n",
       "<style scoped>\n",
       "    .dataframe tbody tr th:only-of-type {\n",
       "        vertical-align: middle;\n",
       "    }\n",
       "\n",
       "    .dataframe tbody tr th {\n",
       "        vertical-align: top;\n",
       "    }\n",
       "\n",
       "    .dataframe thead th {\n",
       "        text-align: right;\n",
       "    }\n",
       "</style>\n",
       "<table border=\"1\" class=\"dataframe\">\n",
       "  <thead>\n",
       "    <tr style=\"text-align: right;\">\n",
       "      <th></th>\n",
       "      <th>count</th>\n",
       "    </tr>\n",
       "    <tr>\n",
       "      <th>dist_risk</th>\n",
       "      <th></th>\n",
       "    </tr>\n",
       "  </thead>\n",
       "  <tbody>\n",
       "    <tr>\n",
       "      <th>high</th>\n",
       "      <td>0.364611</td>\n",
       "    </tr>\n",
       "    <tr>\n",
       "      <th>low</th>\n",
       "      <td>0.094340</td>\n",
       "    </tr>\n",
       "    <tr>\n",
       "      <th>med</th>\n",
       "      <td>0.162420</td>\n",
       "    </tr>\n",
       "  </tbody>\n",
       "</table>\n",
       "</div>"
      ],
      "text/plain": [
       "              count\n",
       "dist_risk          \n",
       "high       0.364611\n",
       "low        0.094340\n",
       "med        0.162420"
      ]
     },
     "execution_count": 250,
     "metadata": {},
     "output_type": "execute_result"
    }
   ],
   "source": [
    "malaria_prob(filter_time(dd, (2020,8,6), (2020,8,9)).groupby(['dist_risk']))"
   ]
  },
  {
   "cell_type": "code",
   "execution_count": null,
   "metadata": {
    "collapsed": false
   },
   "outputs": [],
   "source": [
    "filter_time(dd, (2020,7,6), (2020,8,1)).malaria.value_counts(normalize=True)"
   ]
  },
  {
   "cell_type": "code",
   "execution_count": 238,
   "metadata": {
    "collapsed": false
   },
   "outputs": [
    {
     "data": {
      "text/plain": [
       "dist_risk  home                                   \n",
       "high       Pucca (have cement/brick wall and floor    0.522115\n",
       "           Kutcha (made of mud, tin, straw)           0.239423\n",
       "           Semi-pucca                                 0.238462\n",
       "low        Pucca (have cement/brick wall and floor    0.629817\n",
       "           Semi-pucca                                 0.240365\n",
       "           Kutcha (made of mud, tin, straw)           0.129817\n",
       "med        Pucca (have cement/brick wall and floor    0.560403\n",
       "           Semi-pucca                                 0.248322\n",
       "           Kutcha (made of mud, tin, straw)           0.191275\n",
       "Name: home, dtype: float64"
      ]
     },
     "execution_count": 238,
     "metadata": {},
     "output_type": "execute_result"
    }
   ],
   "source": [
    "filter_time(dd, (2020,7,6), (2020,8,1)).groupby('dist_risk').home.value_counts(normalize=True)"
   ]
  },
  {
   "cell_type": "code",
   "execution_count": 241,
   "metadata": {
    "collapsed": false
   },
   "outputs": [
    {
     "data": {
      "text/plain": [
       "dist_risk  home                                   \n",
       "high       Pucca (have cement/brick wall and floor    0.363914\n",
       "           Kutcha (made of mud, tin, straw)           0.342508\n",
       "           Semi-pucca                                 0.293578\n",
       "low        Pucca (have cement/brick wall and floor    0.443182\n",
       "           Kutcha (made of mud, tin, straw)           0.295455\n",
       "           Semi-pucca                                 0.261364\n",
       "med        Pucca (have cement/brick wall and floor    0.493827\n",
       "           Semi-pucca                                 0.253968\n",
       "           Kutcha (made of mud, tin, straw)           0.252205\n",
       "Name: home, dtype: float64"
      ]
     },
     "execution_count": 241,
     "metadata": {},
     "output_type": "execute_result"
    }
   ],
   "source": [
    "filter_time(dd, (2020,8,7), (2020,8,9)).groupby('dist_risk').home.value_counts(normalize=True)"
   ]
  },
  {
   "cell_type": "code",
   "execution_count": 243,
   "metadata": {
    "collapsed": false
   },
   "outputs": [
    {
     "data": {
      "text/plain": [
       "False    0.806308\n",
       "True     0.193692\n",
       "Name: malaria, dtype: float64"
      ]
     },
     "execution_count": 243,
     "metadata": {},
     "output_type": "execute_result"
    }
   ],
   "source": [
    "filter_time(dd, (2020,7,6), (2020,8,1)).malaria.value_counts(normalize=True)"
   ]
  },
  {
   "cell_type": "code",
   "execution_count": 245,
   "metadata": {
    "collapsed": false
   },
   "outputs": [
    {
     "data": {
      "text/plain": [
       "False    0.781897\n",
       "True     0.218103\n",
       "Name: malaria, dtype: float64"
      ]
     },
     "execution_count": 245,
     "metadata": {},
     "output_type": "execute_result"
    }
   ],
   "source": [
    "filter_time(dd, (2020,8,6), (2020,8,9)).malaria.value_counts(normalize=True)"
   ]
  },
  {
   "cell_type": "code",
   "execution_count": 198,
   "metadata": {
    "collapsed": false
   },
   "outputs": [
    {
     "data": {
      "text/plain": [
       "dist_risk  home                                   \n",
       "high       Pucca (have cement/brick wall and floor    0.522115\n",
       "           Kutcha (made of mud, tin, straw)           0.239423\n",
       "           Semi-pucca                                 0.238462\n",
       "low        Pucca (have cement/brick wall and floor    0.625341\n",
       "           Semi-pucca                                 0.238667\n",
       "           Kutcha (made of mud, tin, straw)           0.135991\n",
       "med        Pucca (have cement/brick wall and floor    0.571429\n",
       "           Semi-pucca                                 0.249540\n",
       "           Kutcha (made of mud, tin, straw)           0.179031\n",
       "Name: home, dtype: float64"
      ]
     },
     "execution_count": 198,
     "metadata": {},
     "output_type": "execute_result"
    }
   ],
   "source": [
    "filter_time(dd, (2020,7,6), (2020,8,1)).groupby('dist_risk').home.value_counts(normalize=True)"
   ]
  },
  {
   "cell_type": "code",
   "execution_count": 196,
   "metadata": {
    "collapsed": false
   },
   "outputs": [
    {
     "data": {
      "text/plain": [
       "dist_risk  home                                   \n",
       "high       Pucca (have cement/brick wall and floor    0.369973\n",
       "           Kutcha (made of mud, tin, straw)           0.359249\n",
       "           Semi-pucca                                 0.270777\n",
       "low        Pucca (have cement/brick wall and floor    0.475410\n",
       "           Semi-pucca                                 0.268852\n",
       "           Kutcha (made of mud, tin, straw)           0.255738\n",
       "med        Pucca (have cement/brick wall and floor    0.485477\n",
       "           Kutcha (made of mud, tin, straw)           0.259336\n",
       "           Semi-pucca                                 0.255187\n",
       "Name: home, dtype: float64"
      ]
     },
     "execution_count": 196,
     "metadata": {},
     "output_type": "execute_result"
    }
   ],
   "source": [
    "filter_time(dd, (2020,8,6), (2020,8,9)).groupby('dist_risk').home.value_counts(normalize=True)"
   ]
  },
  {
   "cell_type": "code",
   "execution_count": null,
   "metadata": {
    "collapsed": false
   },
   "outputs": [],
   "source": [
    "filter_time(dd, (2020,8,1), (2020,9,1)).pipe(lambda df: df[df.dist_risk == 'low'])"
   ]
  },
  {
   "cell_type": "code",
   "execution_count": 399,
   "metadata": {
    "collapsed": false
   },
   "outputs": [
    {
     "ename": "KeyError",
     "evalue": "'dist_risk'",
     "output_type": "error",
     "traceback": [
      "\u001b[0;31m---------------------------------------------------------------------------\u001b[0m",
      "\u001b[0;31mKeyError\u001b[0m                                  Traceback (most recent call last)",
      "\u001b[0;32m<ipython-input-399-9d327fbf7eaf>\u001b[0m in \u001b[0;36m<module>\u001b[0;34m\u001b[0m\n\u001b[0;32m----> 1\u001b[0;31m \u001b[0mmalaria_prob\u001b[0m\u001b[0;34m(\u001b[0m\u001b[0mdd\u001b[0m\u001b[0;34m.\u001b[0m\u001b[0mgroupby\u001b[0m\u001b[0;34m(\u001b[0m\u001b[0;34m[\u001b[0m\u001b[0;34m'dist_risk'\u001b[0m\u001b[0;34m,\u001b[0m \u001b[0;34m'under_net'\u001b[0m\u001b[0;34m]\u001b[0m\u001b[0;34m)\u001b[0m\u001b[0;34m)\u001b[0m\u001b[0;34m\u001b[0m\u001b[0;34m\u001b[0m\u001b[0m\n\u001b[0m",
      "\u001b[0;32m~/.local/lib/python3.8/site-packages/pandas/core/frame.py\u001b[0m in \u001b[0;36mgroupby\u001b[0;34m(self, by, axis, level, as_index, sort, group_keys, squeeze, observed)\u001b[0m\n\u001b[1;32m   5799\u001b[0m         \u001b[0maxis\u001b[0m \u001b[0;34m=\u001b[0m \u001b[0mself\u001b[0m\u001b[0;34m.\u001b[0m\u001b[0m_get_axis_number\u001b[0m\u001b[0;34m(\u001b[0m\u001b[0maxis\u001b[0m\u001b[0;34m)\u001b[0m\u001b[0;34m\u001b[0m\u001b[0;34m\u001b[0m\u001b[0m\n\u001b[1;32m   5800\u001b[0m \u001b[0;34m\u001b[0m\u001b[0m\n\u001b[0;32m-> 5801\u001b[0;31m         return groupby_generic.DataFrameGroupBy(\n\u001b[0m\u001b[1;32m   5802\u001b[0m             \u001b[0mobj\u001b[0m\u001b[0;34m=\u001b[0m\u001b[0mself\u001b[0m\u001b[0;34m,\u001b[0m\u001b[0;34m\u001b[0m\u001b[0;34m\u001b[0m\u001b[0m\n\u001b[1;32m   5803\u001b[0m             \u001b[0mkeys\u001b[0m\u001b[0;34m=\u001b[0m\u001b[0mby\u001b[0m\u001b[0;34m,\u001b[0m\u001b[0;34m\u001b[0m\u001b[0;34m\u001b[0m\u001b[0m\n",
      "\u001b[0;32m~/.local/lib/python3.8/site-packages/pandas/core/groupby/groupby.py\u001b[0m in \u001b[0;36m__init__\u001b[0;34m(self, obj, keys, axis, level, grouper, exclusions, selection, as_index, sort, group_keys, squeeze, observed, mutated)\u001b[0m\n\u001b[1;32m    400\u001b[0m             \u001b[0;32mfrom\u001b[0m \u001b[0mpandas\u001b[0m\u001b[0;34m.\u001b[0m\u001b[0mcore\u001b[0m\u001b[0;34m.\u001b[0m\u001b[0mgroupby\u001b[0m\u001b[0;34m.\u001b[0m\u001b[0mgrouper\u001b[0m \u001b[0;32mimport\u001b[0m \u001b[0mget_grouper\u001b[0m\u001b[0;34m\u001b[0m\u001b[0;34m\u001b[0m\u001b[0m\n\u001b[1;32m    401\u001b[0m \u001b[0;34m\u001b[0m\u001b[0m\n\u001b[0;32m--> 402\u001b[0;31m             grouper, exclusions, obj = get_grouper(\n\u001b[0m\u001b[1;32m    403\u001b[0m                 \u001b[0mobj\u001b[0m\u001b[0;34m,\u001b[0m\u001b[0;34m\u001b[0m\u001b[0;34m\u001b[0m\u001b[0m\n\u001b[1;32m    404\u001b[0m                 \u001b[0mkeys\u001b[0m\u001b[0;34m,\u001b[0m\u001b[0;34m\u001b[0m\u001b[0;34m\u001b[0m\u001b[0m\n",
      "\u001b[0;32m~/.local/lib/python3.8/site-packages/pandas/core/groupby/grouper.py\u001b[0m in \u001b[0;36mget_grouper\u001b[0;34m(obj, key, axis, level, sort, observed, mutated, validate)\u001b[0m\n\u001b[1;32m    596\u001b[0m                 \u001b[0min_axis\u001b[0m\u001b[0;34m,\u001b[0m \u001b[0mname\u001b[0m\u001b[0;34m,\u001b[0m \u001b[0mlevel\u001b[0m\u001b[0;34m,\u001b[0m \u001b[0mgpr\u001b[0m \u001b[0;34m=\u001b[0m \u001b[0;32mFalse\u001b[0m\u001b[0;34m,\u001b[0m \u001b[0;32mNone\u001b[0m\u001b[0;34m,\u001b[0m \u001b[0mgpr\u001b[0m\u001b[0;34m,\u001b[0m \u001b[0;32mNone\u001b[0m\u001b[0;34m\u001b[0m\u001b[0;34m\u001b[0m\u001b[0m\n\u001b[1;32m    597\u001b[0m             \u001b[0;32melse\u001b[0m\u001b[0;34m:\u001b[0m\u001b[0;34m\u001b[0m\u001b[0;34m\u001b[0m\u001b[0m\n\u001b[0;32m--> 598\u001b[0;31m                 \u001b[0;32mraise\u001b[0m \u001b[0mKeyError\u001b[0m\u001b[0;34m(\u001b[0m\u001b[0mgpr\u001b[0m\u001b[0;34m)\u001b[0m\u001b[0;34m\u001b[0m\u001b[0;34m\u001b[0m\u001b[0m\n\u001b[0m\u001b[1;32m    599\u001b[0m         \u001b[0;32melif\u001b[0m \u001b[0misinstance\u001b[0m\u001b[0;34m(\u001b[0m\u001b[0mgpr\u001b[0m\u001b[0;34m,\u001b[0m \u001b[0mGrouper\u001b[0m\u001b[0;34m)\u001b[0m \u001b[0;32mand\u001b[0m \u001b[0mgpr\u001b[0m\u001b[0;34m.\u001b[0m\u001b[0mkey\u001b[0m \u001b[0;32mis\u001b[0m \u001b[0;32mnot\u001b[0m \u001b[0;32mNone\u001b[0m\u001b[0;34m:\u001b[0m\u001b[0;34m\u001b[0m\u001b[0;34m\u001b[0m\u001b[0m\n\u001b[1;32m    600\u001b[0m             \u001b[0;31m# Add key to exclusions\u001b[0m\u001b[0;34m\u001b[0m\u001b[0;34m\u001b[0m\u001b[0;34m\u001b[0m\u001b[0m\n",
      "\u001b[0;31mKeyError\u001b[0m: 'dist_risk'"
     ]
    }
   ],
   "source": [
    "malaria_prob(dd.groupby(['dist_risk', 'under_net']))"
   ]
  },
  {
   "cell_type": "code",
   "execution_count": 398,
   "metadata": {
    "collapsed": false
   },
   "outputs": [
    {
     "data": {
      "text/html": [
       "<div>\n",
       "<style scoped>\n",
       "    .dataframe tbody tr th:only-of-type {\n",
       "        vertical-align: middle;\n",
       "    }\n",
       "\n",
       "    .dataframe tbody tr th {\n",
       "        vertical-align: top;\n",
       "    }\n",
       "\n",
       "    .dataframe thead th {\n",
       "        text-align: right;\n",
       "    }\n",
       "</style>\n",
       "<table border=\"1\" class=\"dataframe\">\n",
       "  <thead>\n",
       "    <tr style=\"text-align: right;\">\n",
       "      <th></th>\n",
       "      <th>count</th>\n",
       "    </tr>\n",
       "    <tr>\n",
       "      <th>under_net</th>\n",
       "      <th></th>\n",
       "    </tr>\n",
       "  </thead>\n",
       "  <tbody>\n",
       "    <tr>\n",
       "      <th>False</th>\n",
       "      <td>0.190691</td>\n",
       "    </tr>\n",
       "    <tr>\n",
       "      <th>True</th>\n",
       "      <td>0.208074</td>\n",
       "    </tr>\n",
       "  </tbody>\n",
       "</table>\n",
       "</div>"
      ],
      "text/plain": [
       "              count\n",
       "under_net          \n",
       "False      0.190691\n",
       "True       0.208074"
      ]
     },
     "execution_count": 398,
     "metadata": {},
     "output_type": "execute_result"
    }
   ],
   "source": [
    "malaria_prob(dd.groupby(['under_net']))"
   ]
  },
  {
   "cell_type": "code",
   "execution_count": 403,
   "metadata": {
    "collapsed": false
   },
   "outputs": [
    {
     "data": {
      "text/html": [
       "<div>\n",
       "<style scoped>\n",
       "    .dataframe tbody tr th:only-of-type {\n",
       "        vertical-align: middle;\n",
       "    }\n",
       "\n",
       "    .dataframe tbody tr th {\n",
       "        vertical-align: top;\n",
       "    }\n",
       "\n",
       "    .dataframe thead th {\n",
       "        text-align: right;\n",
       "    }\n",
       "</style>\n",
       "<table border=\"1\" class=\"dataframe\">\n",
       "  <thead>\n",
       "    <tr style=\"text-align: right;\">\n",
       "      <th></th>\n",
       "      <th></th>\n",
       "      <th>count</th>\n",
       "    </tr>\n",
       "    <tr>\n",
       "      <th>dist_risk</th>\n",
       "      <th>home</th>\n",
       "      <th></th>\n",
       "    </tr>\n",
       "  </thead>\n",
       "  <tbody>\n",
       "    <tr>\n",
       "      <th rowspan=\"3\" valign=\"top\">high</th>\n",
       "      <th>Kutcha (made of mud, tin, straw)</th>\n",
       "      <td>0.404711</td>\n",
       "    </tr>\n",
       "    <tr>\n",
       "      <th>Pucca (have cement/brick wall and floor</th>\n",
       "      <td>0.308943</td>\n",
       "    </tr>\n",
       "    <tr>\n",
       "      <th>Semi-pucca</th>\n",
       "      <td>0.363636</td>\n",
       "    </tr>\n",
       "    <tr>\n",
       "      <th rowspan=\"3\" valign=\"top\">low</th>\n",
       "      <th>Kutcha (made of mud, tin, straw)</th>\n",
       "      <td>0.129747</td>\n",
       "    </tr>\n",
       "    <tr>\n",
       "      <th>Pucca (have cement/brick wall and floor</th>\n",
       "      <td>0.086731</td>\n",
       "    </tr>\n",
       "    <tr>\n",
       "      <th>Semi-pucca</th>\n",
       "      <td>0.140481</td>\n",
       "    </tr>\n",
       "    <tr>\n",
       "      <th rowspan=\"3\" valign=\"top\">med</th>\n",
       "      <th>Kutcha (made of mud, tin, straw)</th>\n",
       "      <td>0.164969</td>\n",
       "    </tr>\n",
       "    <tr>\n",
       "      <th>Pucca (have cement/brick wall and floor</th>\n",
       "      <td>0.171990</td>\n",
       "    </tr>\n",
       "    <tr>\n",
       "      <th>Semi-pucca</th>\n",
       "      <td>0.202055</td>\n",
       "    </tr>\n",
       "  </tbody>\n",
       "</table>\n",
       "</div>"
      ],
      "text/plain": [
       "                                                      count\n",
       "dist_risk home                                             \n",
       "high      Kutcha (made of mud, tin, straw)         0.404711\n",
       "          Pucca (have cement/brick wall and floor  0.308943\n",
       "          Semi-pucca                               0.363636\n",
       "low       Kutcha (made of mud, tin, straw)         0.129747\n",
       "          Pucca (have cement/brick wall and floor  0.086731\n",
       "          Semi-pucca                               0.140481\n",
       "med       Kutcha (made of mud, tin, straw)         0.164969\n",
       "          Pucca (have cement/brick wall and floor  0.171990\n",
       "          Semi-pucca                               0.202055"
      ]
     },
     "execution_count": 403,
     "metadata": {},
     "output_type": "execute_result"
    }
   ],
   "source": [
    "malaria_prob(dd.groupby(['dist_risk', 'home']))"
   ]
  },
  {
   "cell_type": "code",
   "execution_count": null,
   "metadata": {
    "collapsed": false
   },
   "outputs": [],
   "source": [
    "malaria_prob(dd.groupby(['owns_net']))"
   ]
  },
  {
   "cell_type": "code",
   "execution_count": 409,
   "metadata": {
    "collapsed": false
   },
   "outputs": [
    {
     "data": {
      "text/plain": [
       "Yes           4597\n",
       "No            1580\n",
       "Don't know      71\n",
       "Name: owns_net, dtype: int64"
      ]
     },
     "execution_count": 409,
     "metadata": {},
     "output_type": "execute_result"
    }
   ],
   "source": [
    "dd.owns_net.value_counts()"
   ]
  },
  {
   "cell_type": "code",
   "execution_count": 418,
   "metadata": {
    "collapsed": false
   },
   "outputs": [
    {
     "data": {
      "text/plain": [
       "has_ac      owns_net  \n",
       "Don't know  Yes            265\n",
       "            No              71\n",
       "            Don't know      32\n",
       "No          Yes           3903\n",
       "            No            1288\n",
       "            Don't know      31\n",
       "Yes         Yes            429\n",
       "            No             221\n",
       "            Don't know       8\n",
       "Name: owns_net, dtype: int64"
      ]
     },
     "execution_count": 418,
     "metadata": {},
     "output_type": "execute_result"
    }
   ],
   "source": [
    "dd.groupby(['has_ac']).owns_net.value_counts()"
   ]
  },
  {
   "cell_type": "code",
   "execution_count": 431,
   "metadata": {
    "collapsed": false
   },
   "outputs": [
    {
     "data": {
      "text/plain": [
       "dist_risk  home                                   \n",
       "high       Pucca (have cement/brick wall and floor    0.493127\n",
       "           Kutcha (made of mud, tin, straw)           0.267468\n",
       "           Semi-pucca                                 0.239404\n",
       "low        Pucca (have cement/brick wall and floor    0.611514\n",
       "           Semi-pucca                                 0.245240\n",
       "           Kutcha (made of mud, tin, straw)           0.143246\n",
       "med        Pucca (have cement/brick wall and floor    0.531794\n",
       "           Semi-pucca                                 0.254355\n",
       "           Kutcha (made of mud, tin, straw)           0.213850\n",
       "Name: home, dtype: float64"
      ]
     },
     "execution_count": 431,
     "metadata": {},
     "output_type": "execute_result"
    }
   ],
   "source": [
    "dd.groupby(['dist_risk']).home.value_counts(1)"
   ]
  },
  {
   "cell_type": "code",
   "execution_count": 430,
   "metadata": {
    "collapsed": false
   },
   "outputs": [
    {
     "data": {
      "text/plain": [
       "dist_risk  malaria  under_net\n",
       "high       False    True         0.561896\n",
       "                    False        0.438104\n",
       "           True     True         0.584843\n",
       "                    False        0.415157\n",
       "low        False    True         0.508621\n",
       "                    False        0.491379\n",
       "           True     True         0.508547\n",
       "                    False        0.491453\n",
       "med        False    True         0.543190\n",
       "                    False        0.456810\n",
       "           True     True         0.555012\n",
       "                    False        0.444988\n",
       "Name: under_net, dtype: float64"
      ]
     },
     "execution_count": 430,
     "metadata": {},
     "output_type": "execute_result"
    }
   ],
   "source": [
    "dd.groupby(['dist_risk', 'malaria']).under_net.value_counts(1)"
   ]
  },
  {
   "cell_type": "code",
   "execution_count": 405,
   "metadata": {
    "collapsed": false
   },
   "outputs": [
    {
     "data": {
      "text/html": [
       "<div>\n",
       "<style scoped>\n",
       "    .dataframe tbody tr th:only-of-type {\n",
       "        vertical-align: middle;\n",
       "    }\n",
       "\n",
       "    .dataframe tbody tr th {\n",
       "        vertical-align: top;\n",
       "    }\n",
       "\n",
       "    .dataframe thead th {\n",
       "        text-align: right;\n",
       "    }\n",
       "</style>\n",
       "<table border=\"1\" class=\"dataframe\">\n",
       "  <thead>\n",
       "    <tr style=\"text-align: right;\">\n",
       "      <th></th>\n",
       "      <th></th>\n",
       "      <th>count</th>\n",
       "    </tr>\n",
       "    <tr>\n",
       "      <th>dist_risk</th>\n",
       "      <th>under_net</th>\n",
       "      <th></th>\n",
       "    </tr>\n",
       "  </thead>\n",
       "  <tbody>\n",
       "    <tr>\n",
       "      <th rowspan=\"2\" valign=\"top\">high</th>\n",
       "      <th>False</th>\n",
       "      <td>0.335553</td>\n",
       "    </tr>\n",
       "    <tr>\n",
       "      <th>True</th>\n",
       "      <td>0.356784</td>\n",
       "    </tr>\n",
       "    <tr>\n",
       "      <th rowspan=\"2\" valign=\"top\">low</th>\n",
       "      <th>False</th>\n",
       "      <td>0.106089</td>\n",
       "    </tr>\n",
       "    <tr>\n",
       "      <th>True</th>\n",
       "      <td>0.106061</td>\n",
       "    </tr>\n",
       "    <tr>\n",
       "      <th rowspan=\"2\" valign=\"top\">med</th>\n",
       "      <th>False</th>\n",
       "      <td>0.174330</td>\n",
       "    </tr>\n",
       "    <tr>\n",
       "      <th>True</th>\n",
       "      <td>0.181310</td>\n",
       "    </tr>\n",
       "  </tbody>\n",
       "</table>\n",
       "</div>"
      ],
      "text/plain": [
       "                        count\n",
       "dist_risk under_net          \n",
       "high      False      0.335553\n",
       "          True       0.356784\n",
       "low       False      0.106089\n",
       "          True       0.106061\n",
       "med       False      0.174330\n",
       "          True       0.181310"
      ]
     },
     "execution_count": 405,
     "metadata": {},
     "output_type": "execute_result"
    }
   ],
   "source": [
    "malaria_prob(dd.groupby(['dist_risk', 'under_net']))"
   ]
  },
  {
   "cell_type": "code",
   "execution_count": 428,
   "metadata": {
    "collapsed": false
   },
   "outputs": [
    {
     "data": {
      "text/plain": [
       "home                                     has_ac      under_net\n",
       "Kutcha (made of mud, tin, straw)         Don't know  True         0.553957\n",
       "                                                     False        0.446043\n",
       "                                         No          True         0.593315\n",
       "                                                     False        0.406685\n",
       "                                         Yes         True         0.655172\n",
       "                                                     False        0.344828\n",
       "Pucca (have cement/brick wall and floor  Don't know  True         0.538462\n",
       "                                                     False        0.461538\n",
       "                                         No          True         0.519481\n",
       "                                                     False        0.480519\n",
       "                                         Yes         False        0.622093\n",
       "                                                     True         0.377907\n",
       "Semi-pucca                               Don't know  False        0.511628\n",
       "                                                     True         0.488372\n",
       "                                         No          True         0.595776\n",
       "                                                     False        0.404224\n",
       "                                         Yes         True         0.511905\n",
       "                                                     False        0.488095\n",
       "Name: under_net, dtype: float64"
      ]
     },
     "execution_count": 428,
     "metadata": {},
     "output_type": "execute_result"
    }
   ],
   "source": [
    "dd.groupby(['home', 'has_ac']).under_net.value_counts(1)"
   ]
  },
  {
   "cell_type": "code",
   "execution_count": 426,
   "metadata": {
    "collapsed": false
   },
   "outputs": [
    {
     "data": {
      "text/plain": [
       "home                                     owns_net  \n",
       "Kutcha (made of mud, tin, straw)         Yes           0.737049\n",
       "                                         No            0.247253\n",
       "                                         Don't know    0.015699\n",
       "Pucca (have cement/brick wall and floor  Yes           0.718449\n",
       "                                         No            0.270184\n",
       "                                         Don't know    0.011367\n",
       "Semi-pucca                               Yes           0.773169\n",
       "                                         No            0.219054\n",
       "                                         Don't know    0.007777\n",
       "Name: owns_net, dtype: float64"
      ]
     },
     "execution_count": 426,
     "metadata": {},
     "output_type": "execute_result"
    }
   ],
   "source": [
    "dd.groupby(['home']).owns_net.value_counts(1)"
   ]
  },
  {
   "cell_type": "code",
   "execution_count": 422,
   "metadata": {
    "collapsed": false
   },
   "outputs": [
    {
     "data": {
      "text/html": [
       "<div>\n",
       "<style scoped>\n",
       "    .dataframe tbody tr th:only-of-type {\n",
       "        vertical-align: middle;\n",
       "    }\n",
       "\n",
       "    .dataframe tbody tr th {\n",
       "        vertical-align: top;\n",
       "    }\n",
       "\n",
       "    .dataframe thead th {\n",
       "        text-align: right;\n",
       "    }\n",
       "</style>\n",
       "<table border=\"1\" class=\"dataframe\">\n",
       "  <thead>\n",
       "    <tr style=\"text-align: right;\">\n",
       "      <th></th>\n",
       "      <th></th>\n",
       "      <th></th>\n",
       "      <th>count</th>\n",
       "    </tr>\n",
       "    <tr>\n",
       "      <th>home</th>\n",
       "      <th>dist_risk</th>\n",
       "      <th>under_net</th>\n",
       "      <th></th>\n",
       "    </tr>\n",
       "  </thead>\n",
       "  <tbody>\n",
       "    <tr>\n",
       "      <th rowspan=\"6\" valign=\"top\">Kutcha (made of mud, tin, straw)</th>\n",
       "      <th rowspan=\"2\" valign=\"top\">high</th>\n",
       "      <th>False</th>\n",
       "      <td>0.369565</td>\n",
       "    </tr>\n",
       "    <tr>\n",
       "      <th>True</th>\n",
       "      <td>0.427562</td>\n",
       "    </tr>\n",
       "    <tr>\n",
       "      <th rowspan=\"2\" valign=\"top\">low</th>\n",
       "      <th>False</th>\n",
       "      <td>0.103704</td>\n",
       "    </tr>\n",
       "    <tr>\n",
       "      <th>True</th>\n",
       "      <td>0.149171</td>\n",
       "    </tr>\n",
       "    <tr>\n",
       "      <th rowspan=\"2\" valign=\"top\">med</th>\n",
       "      <th>False</th>\n",
       "      <td>0.154229</td>\n",
       "    </tr>\n",
       "    <tr>\n",
       "      <th>True</th>\n",
       "      <td>0.172414</td>\n",
       "    </tr>\n",
       "    <tr>\n",
       "      <th rowspan=\"6\" valign=\"top\">Pucca (have cement/brick wall and floor</th>\n",
       "      <th rowspan=\"2\" valign=\"top\">high</th>\n",
       "      <th>False</th>\n",
       "      <td>0.300771</td>\n",
       "    </tr>\n",
       "    <tr>\n",
       "      <th>True</th>\n",
       "      <td>0.315678</td>\n",
       "    </tr>\n",
       "    <tr>\n",
       "      <th rowspan=\"2\" valign=\"top\">low</th>\n",
       "      <th>False</th>\n",
       "      <td>0.100407</td>\n",
       "    </tr>\n",
       "    <tr>\n",
       "      <th>True</th>\n",
       "      <td>0.070261</td>\n",
       "    </tr>\n",
       "    <tr>\n",
       "      <th rowspan=\"2\" valign=\"top\">med</th>\n",
       "      <th>False</th>\n",
       "      <td>0.158516</td>\n",
       "    </tr>\n",
       "    <tr>\n",
       "      <th>True</th>\n",
       "      <td>0.184713</td>\n",
       "    </tr>\n",
       "    <tr>\n",
       "      <th rowspan=\"6\" valign=\"top\">Semi-pucca</th>\n",
       "      <th rowspan=\"2\" valign=\"top\">high</th>\n",
       "      <th>False</th>\n",
       "      <td>0.376404</td>\n",
       "    </tr>\n",
       "    <tr>\n",
       "      <th>True</th>\n",
       "      <td>0.354167</td>\n",
       "    </tr>\n",
       "    <tr>\n",
       "      <th rowspan=\"2\" valign=\"top\">low</th>\n",
       "      <th>False</th>\n",
       "      <td>0.127358</td>\n",
       "    </tr>\n",
       "    <tr>\n",
       "      <th>True</th>\n",
       "      <td>0.148936</td>\n",
       "    </tr>\n",
       "    <tr>\n",
       "      <th rowspan=\"2\" valign=\"top\">med</th>\n",
       "      <th>False</th>\n",
       "      <td>0.228000</td>\n",
       "    </tr>\n",
       "    <tr>\n",
       "      <th>True</th>\n",
       "      <td>0.182635</td>\n",
       "    </tr>\n",
       "  </tbody>\n",
       "</table>\n",
       "</div>"
      ],
      "text/plain": [
       "                                                                count\n",
       "home                                    dist_risk under_net          \n",
       "Kutcha (made of mud, tin, straw)        high      False      0.369565\n",
       "                                                  True       0.427562\n",
       "                                        low       False      0.103704\n",
       "                                                  True       0.149171\n",
       "                                        med       False      0.154229\n",
       "                                                  True       0.172414\n",
       "Pucca (have cement/brick wall and floor high      False      0.300771\n",
       "                                                  True       0.315678\n",
       "                                        low       False      0.100407\n",
       "                                                  True       0.070261\n",
       "                                        med       False      0.158516\n",
       "                                                  True       0.184713\n",
       "Semi-pucca                              high      False      0.376404\n",
       "                                                  True       0.354167\n",
       "                                        low       False      0.127358\n",
       "                                                  True       0.148936\n",
       "                                        med       False      0.228000\n",
       "                                                  True       0.182635"
      ]
     },
     "execution_count": 422,
     "metadata": {},
     "output_type": "execute_result"
    }
   ],
   "source": [
    "malaria_prob(dd.groupby(['home', 'dist_risk', 'under_net']))"
   ]
  },
  {
   "cell_type": "code",
   "execution_count": 423,
   "metadata": {
    "collapsed": false
   },
   "outputs": [
    {
     "data": {
      "text/html": [
       "<div>\n",
       "<style scoped>\n",
       "    .dataframe tbody tr th:only-of-type {\n",
       "        vertical-align: middle;\n",
       "    }\n",
       "\n",
       "    .dataframe tbody tr th {\n",
       "        vertical-align: top;\n",
       "    }\n",
       "\n",
       "    .dataframe thead th {\n",
       "        text-align: right;\n",
       "    }\n",
       "</style>\n",
       "<table border=\"1\" class=\"dataframe\">\n",
       "  <thead>\n",
       "    <tr style=\"text-align: right;\">\n",
       "      <th></th>\n",
       "      <th></th>\n",
       "      <th></th>\n",
       "      <th>count</th>\n",
       "    </tr>\n",
       "    <tr>\n",
       "      <th>state</th>\n",
       "      <th>dist_risk</th>\n",
       "      <th>under_net</th>\n",
       "      <th></th>\n",
       "    </tr>\n",
       "  </thead>\n",
       "  <tbody>\n",
       "    <tr>\n",
       "      <th rowspan=\"6\" valign=\"top\">Chhatisgarh</th>\n",
       "      <th rowspan=\"2\" valign=\"top\">high</th>\n",
       "      <th>False</th>\n",
       "      <td>0.431373</td>\n",
       "    </tr>\n",
       "    <tr>\n",
       "      <th>True</th>\n",
       "      <td>0.283186</td>\n",
       "    </tr>\n",
       "    <tr>\n",
       "      <th rowspan=\"2\" valign=\"top\">low</th>\n",
       "      <th>False</th>\n",
       "      <td>0.100000</td>\n",
       "    </tr>\n",
       "    <tr>\n",
       "      <th>True</th>\n",
       "      <td>0.117647</td>\n",
       "    </tr>\n",
       "    <tr>\n",
       "      <th rowspan=\"2\" valign=\"top\">med</th>\n",
       "      <th>False</th>\n",
       "      <td>0.127273</td>\n",
       "    </tr>\n",
       "    <tr>\n",
       "      <th>True</th>\n",
       "      <td>0.192090</td>\n",
       "    </tr>\n",
       "    <tr>\n",
       "      <th rowspan=\"6\" valign=\"top\">Jharkhand</th>\n",
       "      <th rowspan=\"2\" valign=\"top\">high</th>\n",
       "      <th>False</th>\n",
       "      <td>0.425743</td>\n",
       "    </tr>\n",
       "    <tr>\n",
       "      <th>True</th>\n",
       "      <td>0.395639</td>\n",
       "    </tr>\n",
       "    <tr>\n",
       "      <th rowspan=\"2\" valign=\"top\">low</th>\n",
       "      <th>False</th>\n",
       "      <td>0.092593</td>\n",
       "    </tr>\n",
       "    <tr>\n",
       "      <th>True</th>\n",
       "      <td>0.124138</td>\n",
       "    </tr>\n",
       "    <tr>\n",
       "      <th rowspan=\"2\" valign=\"top\">med</th>\n",
       "      <th>False</th>\n",
       "      <td>0.169014</td>\n",
       "    </tr>\n",
       "    <tr>\n",
       "      <th>True</th>\n",
       "      <td>0.157143</td>\n",
       "    </tr>\n",
       "    <tr>\n",
       "      <th rowspan=\"6\" valign=\"top\">Uttar Pradesh</th>\n",
       "      <th rowspan=\"2\" valign=\"top\">high</th>\n",
       "      <th>False</th>\n",
       "      <td>0.312187</td>\n",
       "    </tr>\n",
       "    <tr>\n",
       "      <th>True</th>\n",
       "      <td>0.349376</td>\n",
       "    </tr>\n",
       "    <tr>\n",
       "      <th rowspan=\"2\" valign=\"top\">low</th>\n",
       "      <th>False</th>\n",
       "      <td>0.107660</td>\n",
       "    </tr>\n",
       "    <tr>\n",
       "      <th>True</th>\n",
       "      <td>0.103125</td>\n",
       "    </tr>\n",
       "    <tr>\n",
       "      <th rowspan=\"2\" valign=\"top\">med</th>\n",
       "      <th>False</th>\n",
       "      <td>0.184406</td>\n",
       "    </tr>\n",
       "    <tr>\n",
       "      <th>True</th>\n",
       "      <td>0.182888</td>\n",
       "    </tr>\n",
       "  </tbody>\n",
       "</table>\n",
       "</div>"
      ],
      "text/plain": [
       "                                      count\n",
       "state         dist_risk under_net          \n",
       "Chhatisgarh   high      False      0.431373\n",
       "                        True       0.283186\n",
       "              low       False      0.100000\n",
       "                        True       0.117647\n",
       "              med       False      0.127273\n",
       "                        True       0.192090\n",
       "Jharkhand     high      False      0.425743\n",
       "                        True       0.395639\n",
       "              low       False      0.092593\n",
       "                        True       0.124138\n",
       "              med       False      0.169014\n",
       "                        True       0.157143\n",
       "Uttar Pradesh high      False      0.312187\n",
       "                        True       0.349376\n",
       "              low       False      0.107660\n",
       "                        True       0.103125\n",
       "              med       False      0.184406\n",
       "                        True       0.182888"
      ]
     },
     "execution_count": 423,
     "metadata": {},
     "output_type": "execute_result"
    }
   ],
   "source": [
    "malaria_prob(dd.groupby(['state', 'dist_risk', 'under_net']))"
   ]
  },
  {
   "cell_type": "code",
   "execution_count": null,
   "metadata": {
    "collapsed": false
   },
   "outputs": [],
   "source": []
  },
  {
   "cell_type": "code",
   "execution_count": null,
   "metadata": {
    "collapsed": false
   },
   "outputs": [],
   "source": [
    "X = dd[['education', 'home', 'dist_medical', 'has_ac', 'owns_net']]\n",
    "\n",
    "\n",
    "for col in X.columns:\n",
    "    X[col] = X[col].astype('category')\n",
    "    X[col] = X[col].cat.codes"
   ]
  },
  {
   "cell_type": "code",
   "execution_count": null,
   "metadata": {
    "collapsed": false
   },
   "outputs": [],
   "source": [
    "X"
   ]
  },
  {
   "cell_type": "code",
   "execution_count": 423,
   "metadata": {
    "collapsed": false
   },
   "outputs": [
    {
     "data": {
      "text/plain": [
       "(4474, 5)"
      ]
     },
     "execution_count": 423,
     "metadata": {},
     "output_type": "execute_result"
    }
   ],
   "source": [
    "X.shape"
   ]
  },
  {
   "cell_type": "code",
   "execution_count": 425,
   "metadata": {
    "collapsed": false
   },
   "outputs": [],
   "source": [
    "y = dd['malaria']"
   ]
  },
  {
   "cell_type": "code",
   "execution_count": null,
   "metadata": {
    "collapsed": false
   },
   "outputs": [],
   "source": [
    "y.shape"
   ]
  },
  {
   "cell_type": "code",
   "execution_count": 542,
   "metadata": {
    "collapsed": false
   },
   "outputs": [
    {
     "data": {
      "text/plain": [
       "DecisionTreeClassifier(ccp_alpha=0.0, class_weight=None, criterion='gini',\n",
       "                       max_depth=None, max_features=None, max_leaf_nodes=None,\n",
       "                       min_impurity_decrease=0.0, min_impurity_split=None,\n",
       "                       min_samples_leaf=1, min_samples_split=2,\n",
       "                       min_weight_fraction_leaf=0.0, presort='deprecated',\n",
       "                       random_state=None, splitter='best')"
      ]
     },
     "execution_count": 542,
     "metadata": {},
     "output_type": "execute_result"
    }
   ],
   "source": [
    "from sklearn.naive_bayes import CategoricalNB\n",
    "from sklearn.tree import DecisionTreeClassifier\n",
    "\n",
    "model = DecisionTreeClassifier()\n",
    "\n",
    "model.fit(X[:2000], y[:2000])"
   ]
  },
  {
   "cell_type": "code",
   "execution_count": null,
   "metadata": {
    "collapsed": false
   },
   "outputs": [],
   "source": [
    "\n",
    "from sklearn.tree import plot_tree\n",
    "\n",
    "plot_tree(model)"
   ]
  },
  {
   "cell_type": "code",
   "execution_count": 300,
   "metadata": {
    "collapsed": false
   },
   "outputs": [
    {
     "data": {
      "text/plain": [
       "No            0.636550\n",
       "Yes           0.268994\n",
       "Don’t know    0.094456\n",
       "Name: malaria_incidence, dtype: float64"
      ]
     },
     "execution_count": 300,
     "metadata": {},
     "output_type": "execute_result"
    }
   ],
   "source": [
    "dd[(dd.owns_net == 'Yes') & \n",
    "   (dd.has_ac == 'No') & \n",
    "   (dd.home == 'Kutcha (made of mud, tin, straw)')] \\\n",
    "   .malaria_incidence.value_counts(normalize=True)"
   ]
  },
  {
   "cell_type": "code",
   "execution_count": null,
   "metadata": {
    "collapsed": false
   },
   "outputs": [],
   "source": [
    "dd"
   ]
  },
  {
   "cell_type": "code",
   "execution_count": 330,
   "metadata": {
    "collapsed": false
   },
   "outputs": [
    {
     "data": {
      "text/plain": [
       "No            0.846106\n",
       "Yes           0.113693\n",
       "Don't know    0.040201\n",
       "Name: has_ac, dtype: float64"
      ]
     },
     "execution_count": 330,
     "metadata": {},
     "output_type": "execute_result"
    }
   ],
   "source": [
    "def times(df, mi, ma):\n",
    "    return df[(df.timestamp > mi) & (df.timestamp < ma)]    \n",
    "\n",
    "\n",
    "times(dd, datetime(2020,7,22,tzinfo=timezone.utc), datetime(2020,7,24,tzinfo=timezone.utc)) \\\n",
    "    ['has_ac'] \\\n",
    "    .value_counts(normalize=True)"
   ]
  },
  {
   "cell_type": "code",
   "execution_count": 331,
   "metadata": {
    "collapsed": false
   },
   "outputs": [
    {
     "data": {
      "text/plain": [
       "No            0.797244\n",
       "Yes           0.147638\n",
       "Don't know    0.055118\n",
       "Name: has_ac, dtype: float64"
      ]
     },
     "execution_count": 331,
     "metadata": {},
     "output_type": "execute_result"
    }
   ],
   "source": [
    "times(dd, datetime(2020,7,24,tzinfo=timezone.utc), datetime(2020,7,25,tzinfo=timezone.utc)) \\\n",
    "    ['has_ac'] \\\n",
    "    .value_counts(normalize=True)"
   ]
  },
  {
   "cell_type": "code",
   "execution_count": 332,
   "metadata": {
    "collapsed": false
   },
   "outputs": [
    {
     "data": {
      "text/plain": [
       "No            0.862589\n",
       "Yes           0.090426\n",
       "Don't know    0.046986\n",
       "Name: has_ac, dtype: float64"
      ]
     },
     "execution_count": 332,
     "metadata": {},
     "output_type": "execute_result"
    }
   ],
   "source": [
    "times(dd, datetime(2020,7,25,tzinfo=timezone.utc), datetime(2020,7,26,tzinfo=timezone.utc)) \\\n",
    "    ['has_ac'] \\\n",
    "    .value_counts(normalize=True)"
   ]
  },
  {
   "cell_type": "code",
   "execution_count": 328,
   "metadata": {
    "collapsed": false
   },
   "outputs": [
    {
     "data": {
      "text/plain": [
       "No            0.825040\n",
       "Yes           0.126806\n",
       "Don't know    0.048154\n",
       "Name: has_ac, dtype: float64"
      ]
     },
     "execution_count": 328,
     "metadata": {},
     "output_type": "execute_result"
    }
   ],
   "source": [
    "times(dd, datetime(2020,7,26,tzinfo=timezone.utc), datetime(2020,7,28,tzinfo=timezone.utc)) \\\n",
    "    ['has_ac'] \\\n",
    "    .value_counts(normalize=True)"
   ]
  },
  {
   "cell_type": "code",
   "execution_count": null,
   "metadata": {
    "collapsed": false
   },
   "outputs": [],
   "source": [
    "dd"
   ]
  },
  {
   "cell_type": "code",
   "execution_count": 301,
   "metadata": {
    "collapsed": false
   },
   "outputs": [
    {
     "data": {
      "text/plain": [
       "No            0.670988\n",
       "Yes           0.191775\n",
       "Don’t know    0.137237\n",
       "Name: malaria_incidence, dtype: float64"
      ]
     },
     "execution_count": 301,
     "metadata": {},
     "output_type": "execute_result"
    }
   ],
   "source": [
    "dd.malaria_incidence.value_counts(normalize=True)"
   ]
  },
  {
   "cell_type": "code",
   "execution_count": null,
   "metadata": {
    "collapsed": false
   },
   "outputs": [],
   "source": [
    "# responses should be converted and translated..."
   ]
  }
 ],
 "metadata": {
  "kernelspec": {
   "argv": [
    "python",
    "-m",
    "ipykernel_launcher",
    "-f",
    "{connection_file}"
   ],
   "display_name": "Python 3",
   "env": null,
   "interrupt_mode": "signal",
   "language": "python",
   "metadata": null,
   "name": "python3"
  },
  "name": "marketing.ipynb"
 },
 "nbformat": 4,
 "nbformat_minor": 4
}
