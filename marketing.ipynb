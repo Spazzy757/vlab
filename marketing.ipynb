{
 "cells": [
  {
   "cell_type": "code",
   "execution_count": null,
   "metadata": {
    "collapsed": false
   },
   "outputs": [],
   "source": [
    "! pip install environs facebook_business cyksuid"
   ]
  },
  {
   "cell_type": "code",
   "execution_count": 15,
   "metadata": {
    "collapsed": false
   },
   "outputs": [],
   "source": [
    "\n",
    "import os\n",
    "from environs import Env\n",
    "import requests\n",
    "env = Env()\n",
    "env.read_env('.other-env')\n",
    "\n",
    "from marketing import Marketing\n",
    "\n",
    "m = Marketing(env)"
   ]
  },
  {
   "cell_type": "code",
   "execution_count": 204,
   "metadata": {
    "collapsed": false
   },
   "outputs": [],
   "source": [
    "from facebook_business.adobjects.adimage import AdImage\n",
    "from facebook_business.adobjects.ad import Ad\n",
    "from facebook_business.adobjects.adcreative import AdCreative\n",
    "\n",
    "import json\n",
    "\n"
   ]
  },
  {
   "cell_type": "code",
   "execution_count": null,
   "metadata": {
    "collapsed": false
   },
   "outputs": [],
   "source": [
    "# create_custom_audience('uid-test-audience', 'testing for uid sdk usage', users[:10000])"
   ]
  },
  {
   "cell_type": "code",
   "execution_count": 26,
   "metadata": {
    "collapsed": false
   },
   "outputs": [],
   "source": [
    "?np.split"
   ]
  },
  {
   "cell_type": "code",
   "execution_count": 32,
   "metadata": {
    "collapsed": false
   },
   "outputs": [
    {
     "data": {
      "text/plain": [
       "[[1, 2, 3, 4], [5, 6, 7, 8], [9]]"
      ]
     },
     "execution_count": 32,
     "metadata": {},
     "output_type": "execute_result"
    }
   ],
   "source": [
    "\n"
   ]
  },
  {
   "cell_type": "code",
   "execution_count": 265,
   "metadata": {
    "collapsed": false
   },
   "outputs": [],
   "source": [
    "from facebook_business.adobjects.adset import AdSet\n",
    "from facebook_business.adobjects.targetinggeolocationcustomlocation import TargetingGeoLocationCustomLocation\n",
    "from facebook_business.adobjects.targetinggeolocation import TargetingGeoLocation\n",
    "from datetime import datetime, timedelta\n",
    "from cyksuid import ksuid\n",
    "\n"
   ]
  },
  {
   "cell_type": "code",
   "execution_count": 209,
   "metadata": {
    "collapsed": false
   },
   "outputs": [
    {
     "data": {
      "text/plain": [
       "<Campaign> {\n",
       "    \"id\": \"23844995397410518\",\n",
       "    \"name\": \"impact-evaluation-1\"\n",
       "}"
      ]
     },
     "execution_count": 209,
     "metadata": {},
     "output_type": "execute_result"
    }
   ],
   "source": [
    "campaign = get_campaign(account, 'impact-evaluation-1')\n",
    "\n",
    "campaign"
   ]
  },
  {
   "cell_type": "code",
   "execution_count": null,
   "metadata": {
    "collapsed": false
   },
   "outputs": [],
   "source": [
    "import pandas as pd\n",
    "\n",
    "df = pd.read_csv('./India_MNM/Geography/PINcodes/PINcode_2019.csv', engine='python')\n",
    "\n",
    "df.groupby('District').head(1)"
   ]
  },
  {
   "cell_type": "code",
   "execution_count": 211,
   "metadata": {
    "collapsed": false
   },
   "outputs": [
    {
     "data": {
      "text/plain": [
       "(82, 5)"
      ]
     },
     "execution_count": 211,
     "metadata": {},
     "output_type": "execute_result"
    }
   ],
   "source": [
    "import pandas as pd\n",
    "cities = pd.read_csv('output/cities.csv')\n",
    "cities = cities[cities.rad >= 1.0]\n",
    "\n",
    "locs = [(r.lat, r.lng, r.rad) for _, r \n",
    "        in cities[:200].iterrows()]\n",
    "\n",
    "cities.shape"
   ]
  },
  {
   "cell_type": "code",
   "execution_count": 266,
   "metadata": {
    "collapsed": false
   },
   "outputs": [],
   "source": [
    "status = AdSet.Status.active\n",
    "res = launch_adset(account, campaign, [creative['id']], locs, 700000, status=status)"
   ]
  },
  {
   "cell_type": "code",
   "execution_count": 256,
   "metadata": {
    "collapsed": false
   },
   "outputs": [],
   "source": [
    "\n",
    "\n",
    "\n",
    "c = load_creatives()[0]\n",
    "creative = create_creative(account, cnf['PAGE_ID'], c)"
   ]
  }
 ],
 "metadata": {
  "kernelspec": {
   "argv": [
    "python",
    "-m",
    "ipykernel_launcher",
    "-f",
    "{connection_file}"
   ],
   "display_name": "Python 3",
   "env": null,
   "interrupt_mode": "signal",
   "language": "python",
   "metadata": null,
   "name": "python3"
  },
  "name": "marketing.ipynb"
 },
 "nbformat": 4,
 "nbformat_minor": 4
}
