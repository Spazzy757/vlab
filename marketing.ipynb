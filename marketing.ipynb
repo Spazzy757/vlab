{
 "cells": [
  {
   "cell_type": "code",
   "execution_count": null,
   "metadata": {
    "collapsed": false
   },
   "outputs": [],
   "source": [
    "! pip install environs facebook_business cyksuid"
   ]
  },
  {
   "cell_type": "code",
   "execution_count": 11,
   "metadata": {
    "collapsed": false
   },
   "outputs": [],
   "source": [
    "from facebook_business.api import FacebookAdsApi\n",
    "from facebook_business.adobjects.adaccount import AdAccount\n",
    "import os\n",
    "from environs import Env\n",
    "import requests\n",
    "env = Env()\n",
    "env.read_env('.other-env')\n",
    "\n",
    "cnf = {\n",
    "    'APP_ID': env('FACEBOOK_APP_ID'),\n",
    "    'APP_SECRET': env('FACEBOOK_APP_SECRET'),\n",
    "    'PAGE_ID': env('FACEBOOK_PAGE_ID'),\n",
    "    'PAGE_TOKEN': env('FACEBOOK_PAGE_TOKEN'),\n",
    "    'USER_TOKEN': env('FACEBOOK_USER_TOKEN'),\n",
    "    'AD_ACCOUNT': f'act_{env(\"FACEBOOK_AD_ACCOUNT\")}'\n",
    "}\n"
   ]
  },
  {
   "cell_type": "code",
   "execution_count": null,
   "metadata": {
    "collapsed": false
   },
   "outputs": [],
   "source": [
    "FacebookAdsApi.init(cnf['APP_ID'], cnf['APP_SECRET'], cnf['USER_TOKEN'])\n",
    "\n",
    "account = AdAccount(cnf['AD_ACCOUNT'])"
   ]
  },
  {
   "cell_type": "code",
   "execution_count": 62,
   "metadata": {
    "collapsed": false
   },
   "outputs": [],
   "source": [
    "# from responses import query\n",
    "\n",
    "# q = \"\"\"\n",
    "# SELECT distinct(userid) FROM responses\n",
    "# \"\"\"\n",
    "\n",
    "# res = query('chatroach', 'chatreader', q)\n",
    "# users = [i[0] for i in res]"
   ]
  },
  {
   "cell_type": "code",
   "execution_count": 57,
   "metadata": {
    "collapsed": false
   },
   "outputs": [],
   "source": [
    "from facebook_business.adobjects.customaudience import CustomAudience\n",
    "import re\n",
    "import requests\n",
    "import json\n",
    "\n",
    "def add_users(aud_id, pageid, users):\n",
    "    url = f'https://graph.facebook.com/v7.0/{aud_id}/users?access_token={cnf[\"USER_TOKEN\"]}'\n",
    "\n",
    "    json = {\n",
    "        'payload': {\n",
    "            'schema': ['PAGEUID'],\n",
    "            'is_raw': True,\n",
    "            'page_ids': [pageid],\n",
    "            'data': [[u] for u in users]\n",
    "        }\n",
    "    }\n",
    "\n",
    "    res = requests.post(url, json=json)\n",
    "    return res.json()\n",
    "\n",
    "\n",
    "def create_custom_audience(account, pageid, name, desc, users):\n",
    "    params = {\n",
    "        'name': name,\n",
    "        'subtype': 'CUSTOM',\n",
    "        'description': desc,\n",
    "        'customer_file_source': 'USER_PROVIDED_ONLY',\n",
    "    }\n",
    "\n",
    "    aud = account.create_custom_audience(fields=[], params=params)\n",
    "    res = add_users(aud.get_id(), pageid, users)\n",
    "    return aud, res\n",
    "\n",
    "\n",
    "\n",
    "def create_lookalike(account, name, country, custom_audience):\n",
    "\n",
    "    spec = {\n",
    "        'starting_ratio': 0.01,\n",
    "        'ratio': 0.10,\n",
    "        'country': country\n",
    "    }\n",
    "\n",
    "\n",
    "    params = {\n",
    "        CustomAudience.Field.name: name,\n",
    "        CustomAudience.Field.subtype: CustomAudience.Subtype.lookalike,\n",
    "        CustomAudience.Field.origin_audience_id: custom_audience.get_id(),\n",
    "        CustomAudience.Field.lookalike_spec:json.dumps(spec),\n",
    "    }\n",
    "\n",
    "    return account.create_custom_audience(params=params)\n",
    "\n",
    "\n",
    "def get_all_audiences(account, pat=r'vlab-'):\n",
    "    fields = [CustomAudience.Field.name,\n",
    "              CustomAudience.Field.description, \n",
    "              CustomAudience.Field.subtype,\n",
    "              CustomAudience.Field.time_created]\n",
    "\n",
    "\n",
    "    audiences = account.get_custom_audiences(fields=fields)\n",
    "\n",
    "    audiences = [aud for aud in audiences \n",
    "                 if re.match(pat, aud['name'])]\n",
    "\n",
    "    audiences = [aud for aud in audiences\n",
    "                 if aud['subtype'] == CustomAudience.Subtype.custom]\n",
    "\n",
    "    audiences = sorted(audiences, key=lambda x: -x['time_created'])\n",
    "    return audiences"
   ]
  },
  {
   "cell_type": "code",
   "execution_count": 448,
   "metadata": {
    "collapsed": false
   },
   "outputs": [
    {
     "name": "stderr",
     "output_type": "stream",
     "text": [
      "/home/jupyter/.local/lib/python3.8/site-packages/facebook_business/utils/api_utils.py:30: UserWarning: value of lookalike_spec might not be compatible.  Expect string;  got <class 'dict'>\n",
      "  warnings.warn(message)\n"
     ]
    }
   ],
   "source": [
    "\n",
    "latest_aud = get_all_audiences(account, '')[0]\n",
    "lookalike = create_lookalike(account, 'api-lookalike-2', 'IN', latest_aud)"
   ]
  },
  {
   "cell_type": "code",
   "execution_count": 204,
   "metadata": {
    "collapsed": false
   },
   "outputs": [],
   "source": [
    "from facebook_business.adobjects.adimage import AdImage\n",
    "from facebook_business.adobjects.ad import Ad\n",
    "from facebook_business.adobjects.adcreative import AdCreative\n",
    "\n",
    "import json\n",
    "\n",
    "def get_images(account):\n",
    "    return account.get_ad_images(fields=[AdImage.Field.hash, \n",
    "                                         AdImage.Field.name,\n",
    "                                         AdImage.Field.created_time,\n",
    "                                         AdImage.Field.filename])\n",
    "\n",
    "\n",
    "def get_image_hash(account, name):\n",
    "    images = get_images(account)\n",
    "    img = next((img for img in images if img['name'] == name), None)\n",
    "    if not img:\n",
    "        raise Exception(f'Could not find image with name: {name}')\n",
    "    \n",
    "    return img['hash']\n",
    "\n",
    "def make_welcome_message(text, button_text, form):\n",
    "    payload = json.dumps({'referral': { 'ref': f'form.{form}'}})\n",
    "    \n",
    "    message = {\n",
    "        \"message\": {\n",
    "            \"attachment\": {\n",
    "                \"type\": \"template\",\n",
    "                \"payload\": {\n",
    "                    \"template_type\": \"button\",\n",
    "                    \"text\": text,\n",
    "                    \"buttons\": [\n",
    "                        {\n",
    "                            \"type\": \"postback\",\n",
    "                            \"title\": \"Start!\",\n",
    "                            \"payload\": payload\n",
    "                        }\n",
    "                    ]        \n",
    "                }\n",
    "            }\n",
    "        }\n",
    "    }\n",
    "\n",
    "    return json.dumps(message)\n",
    "    \n",
    "\n",
    "def create_creative(account, pageid, config):\n",
    "    image_hash = get_image_hash(account, config['image'])    \n",
    "    link_text = config['link_text']\n",
    "    form = config['form']\n",
    "    msg = make_welcome_message(config['welcome_message'], config['button_text'], form)\n",
    "\n",
    "    oss = {\n",
    "        \"link_data\": {\n",
    "            \"call_to_action\": {\n",
    "                \"type\": \"MESSAGE_PAGE\",\n",
    "                \"value\": {\n",
    "                    \"app_destination\": \"MESSENGER\"\n",
    "                }\n",
    "            },\n",
    "            \"image_hash\": image_hash,\n",
    "            \"message\": config['body'],\n",
    "            \"name\": config['link_text'],\n",
    "            \"page_welcome_message\": msg\n",
    "        },\n",
    "        \"page_id\": pageid,\n",
    "\n",
    "    }\n",
    "\n",
    "    params = {\n",
    "        \"name\": config['name'],\n",
    "        \"url_tags\": f\"ref=form.{form}\",\n",
    "        \"actor_id\": pageid,\n",
    "        \"object_story_spec\": oss\n",
    "    }\n",
    "\n",
    "    return account.create_ad_creative(fields=['name', 'object_story_spec'], params=params)\n",
    "\n"
   ]
  },
  {
   "cell_type": "code",
   "execution_count": null,
   "metadata": {
    "collapsed": false
   },
   "outputs": [],
   "source": [
    "# create_custom_audience('uid-test-audience', 'testing for uid sdk usage', users[:10000])"
   ]
  },
  {
   "cell_type": "code",
   "execution_count": 265,
   "metadata": {
    "collapsed": false
   },
   "outputs": [],
   "source": [
    "from facebook_business.adobjects.adset import AdSet\n",
    "from facebook_business.adobjects.targetinggeolocationcustomlocation import TargetingGeoLocationCustomLocation\n",
    "from facebook_business.adobjects.targetinggeolocation import TargetingGeoLocation\n",
    "from datetime import datetime, timedelta\n",
    "from cyksuid import ksuid\n",
    "\n",
    "def create_location(lat, lng, rad):\n",
    "    return {\n",
    "        TargetingGeoLocationCustomLocation.Field.latitude: lat,\n",
    "        TargetingGeoLocationCustomLocation.Field.longitude: lng,\n",
    "        TargetingGeoLocationCustomLocation.Field.radius: rad,\n",
    "        TargetingGeoLocationCustomLocation.Field.distance_unit: 'kilometer',\n",
    "    }\n",
    "\n",
    "def create_adset(account, name, custom_locs, campaign_id, budget, status, audience=None):\n",
    "    targeting = {'geo_locations': { TargetingGeoLocation.Field.custom_locations: custom_locs}}\n",
    "    \n",
    "    if audience:\n",
    "        targeting['custom_audiences'] = [{'id': audience['id']}]\n",
    "\n",
    "    params = {\n",
    "        AdSet.Field.name: name,\n",
    "        AdSet.Field.lifetime_budget: budget,\n",
    "        AdSet.Field.start_time: datetime.utcnow() + timedelta(minutes=5),\n",
    "        AdSet.Field.end_time: datetime.utcnow() + timedelta(days=1),\n",
    "        AdSet.Field.campaign_id: campaign_id,\n",
    "        AdSet.Field.optimization_goal: AdSet.OptimizationGoal.replies,\n",
    "        AdSet.Field.billing_event: AdSet.BillingEvent.impressions,\n",
    "        AdSet.Field.bid_strategy: AdSet.BidStrategy.lowest_cost_without_cap,\n",
    "        AdSet.Field.targeting: targeting,\n",
    "        AdSet.Field.status: status\n",
    "    }\n",
    "\n",
    "    adset = account.create_ad_set(params=params)\n",
    "\n",
    "    return adset\n",
    "\n",
    "def create_ad(account, adset, creative, name, status):\n",
    "    return account.create_ad(params={\n",
    "        'name': name,\n",
    "        'status': status,\n",
    "        'adset_id': adset['id'],\n",
    "        'creative': { 'creative_id': creative['id']}\n",
    "    })\n",
    "\n",
    "def create_ads(account, adset, creatives, status):\n",
    "    ads = [create_ad(account, adset, c, c['name'], status)\n",
    "           for c in creatives]\n",
    "\n",
    "    return ads\n",
    "\n",
    "def get_creatives(account, ids):\n",
    "    \n",
    "    creatives = account.get_ad_creatives(fields=['name', 'object_story_spec'])\n",
    "    \n",
    "    return [c for c in creatives if c['id'] in ids]\n",
    "\n",
    "\n",
    "def launch_adset(account, campaign, creatives, locs, budget, status=AdSet.Status.paused):\n",
    "    uid = ksuid.ksuid().encoded.decode('utf-8')\n",
    "    name = f'vlab-{uid}'\n",
    "    \n",
    "    custom_locs = [create_location(lat, lng, rad) \n",
    "            for lat, lng, rad in locs]\n",
    "\n",
    "\n",
    "    adset = create_adset(account, name, custom_locs, \n",
    "                         campaign['id'], budget, status)\n",
    "\n",
    "    creatives = get_creatives(account, creatives)\n",
    "\n",
    "    if len(creatives) == 0:\n",
    "        raise Exception('No creatives!!')\n",
    "\n",
    "    ads = create_ads(account, adset, creatives, status)\n",
    "\n",
    "    return adset, ads\n",
    "\n",
    "\n",
    "def get_campaign(account, name):\n",
    "    campaigns = account.get_campaigns(fields=['name'])\n",
    "    c = next((c for c in campaigns if c['name'] == name), None)\n",
    "    if not c:\n",
    "        raise Exception(f'Could not find campaign: {name}')\n",
    "    return c\n",
    "\n"
   ]
  },
  {
   "cell_type": "code",
   "execution_count": 209,
   "metadata": {
    "collapsed": false
   },
   "outputs": [
    {
     "data": {
      "text/plain": [
       "<Campaign> {\n",
       "    \"id\": \"23844995397410518\",\n",
       "    \"name\": \"impact-evaluation-1\"\n",
       "}"
      ]
     },
     "execution_count": 209,
     "metadata": {},
     "output_type": "execute_result"
    }
   ],
   "source": [
    "campaign = get_campaign(account, 'impact-evaluation-1')\n",
    "\n",
    "campaign"
   ]
  },
  {
   "cell_type": "code",
   "execution_count": 211,
   "metadata": {
    "collapsed": false
   },
   "outputs": [
    {
     "data": {
      "text/plain": [
       "(82, 5)"
      ]
     },
     "execution_count": 211,
     "metadata": {},
     "output_type": "execute_result"
    }
   ],
   "source": [
    "import pandas as pd\n",
    "cities = pd.read_csv('output/cities.csv')\n",
    "cities = cities[cities.rad >= 1.0]\n",
    "\n",
    "locs = [(r.lat, r.lng, r.rad) for _, r \n",
    "        in cities[:200].iterrows()]\n",
    "\n",
    "cities.shape"
   ]
  },
  {
   "cell_type": "code",
   "execution_count": 266,
   "metadata": {
    "collapsed": false
   },
   "outputs": [],
   "source": [
    "status = AdSet.Status.active\n",
    "res = launch_adset(account, campaign, [creative['id']], locs, 700000, status=status)"
   ]
  },
  {
   "cell_type": "code",
   "execution_count": 256,
   "metadata": {
    "collapsed": false
   },
   "outputs": [],
   "source": [
    "def load_creatives():\n",
    "    with open('creatives.json') as f:\n",
    "        s = f.read()\n",
    "\n",
    "    d = json.loads(s)\n",
    "    d = d['creatives']\n",
    "\n",
    "    return d\n",
    "\n",
    "\n",
    "c = load_creatives()[0]\n",
    "creative = create_creative(account, cnf['PAGE_ID'], c)"
   ]
  }
 ],
 "metadata": {
  "kernelspec": {
   "argv": [
    "python",
    "-m",
    "ipykernel_launcher",
    "-f",
    "{connection_file}"
   ],
   "display_name": "Python 3",
   "env": null,
   "interrupt_mode": "signal",
   "language": "python",
   "metadata": null,
   "name": "python3"
  },
  "name": "Untitled1.ipynb"
 },
 "nbformat": 4,
 "nbformat_minor": 4
}
