{
 "cells": [
  {
   "cell_type": "code",
   "execution_count": null,
   "metadata": {
    "collapsed": false
   },
   "outputs": [],
   "source": [
    "! pip install --quiet environs cyksuid toolz psycopg2-binary typing_json backoff xxhash pyyaml"
   ]
  },
  {
   "cell_type": "code",
   "execution_count": null,
   "metadata": {
    "collapsed": false
   },
   "outputs": [],
   "source": [
    "! pip install --quiet git+https://github.com/nandanrao/facebook-python-business-sdk@pagination"
   ]
  },
  {
   "cell_type": "code",
   "execution_count": 1,
   "metadata": {
    "collapsed": false
   },
   "outputs": [],
   "source": [
    "%load_ext autoreload\n",
    "%autoreload 2"
   ]
  },
  {
   "cell_type": "code",
   "execution_count": 2,
   "metadata": {
    "collapsed": false
   },
   "outputs": [],
   "source": [
    "from environs import Env\n",
    "env = Env()\n",
    "env.read_env('.env-bug')"
   ]
  },
  {
   "cell_type": "code",
   "execution_count": 5,
   "metadata": {
    "collapsed": false
   },
   "outputs": [],
   "source": [
    "from malaria import get_conf, get_df, lookalike\n",
    "from marketing import Marketing\n",
    "\n",
    "cnf = get_conf(env)\n",
    "# m = Marketing(env)"
   ]
  },
  {
   "cell_type": "code",
   "execution_count": null,
   "metadata": {
    "collapsed": false
   },
   "outputs": [],
   "source": [
    "from malaria import update_audience, update_ads\n",
    "\n",
    "# update_audience()\n",
    "\n",
    "update_ads()"
   ]
  },
  {
   "cell_type": "code",
   "execution_count": null,
   "metadata": {
    "collapsed": false
   },
   "outputs": [],
   "source": []
  },
  {
   "cell_type": "code",
   "execution_count": 6,
   "metadata": {
    "collapsed": false
   },
   "outputs": [],
   "source": [
    "from datetime import datetime, timezone\n",
    "from clustering import only_target_users\n",
    "\n",
    "def filter_time(df, min_date, max_date):\n",
    "    min_date = datetime(*min_date, tzinfo=timezone.utc)\n",
    "    max_date = datetime(*max_date, tzinfo=timezone.utc)\n",
    "\n",
    "    users = df[(df.timestamp > min_date) & (df.timestamp < max_date)].userid.unique()\n",
    "    return df[df.userid.isin(users)]\n",
    "\n",
    "def get_percentage(df, cnf):\n",
    "    answered = df[df.question_ref == 'f6e69027-97cc-494e-8d52-318b75047e23'].userid.unique()\n",
    "    df = df[df.userid.isin(answered)]\n",
    "    tot = df.userid.unique().shape[0]\n",
    "    targets = only_target_users(df, cnf['strata'][0]['surveys'], 'target_questions')\n",
    "    targets = targets.userid.unique().shape[0]\n",
    "    return targets/tot, targets, tot\n"
   ]
  },
  {
   "cell_type": "code",
   "execution_count": 7,
   "metadata": {
    "collapsed": false
   },
   "outputs": [],
   "source": [
    "import pandas as pd\n",
    "from clustering import add_res_cols\n",
    "from malaria import load_cities\n",
    "\n",
    "\n",
    "def perc_target(users, df):\n",
    "    u = pd.Series(df.userid.unique())\n",
    "    tot = u.unique().shape[0]\n",
    "    target = u.isin(users).sum()\n",
    "    perc = target / tot\n",
    "    return pd.Series([perc, tot, target], index=['perc', 'tot', 'target'])\n",
    "\n",
    "\n",
    "def make_analysis_df(df, districts, users):\n",
    "    finished = df[df.question_ref == 'f6e69027-97cc-494e-8d52-318b75047e23'].userid.unique()\n",
    "    df = df[df.userid.isin(finished)].reset_index(drop=True)\n",
    "    df = add_res_cols('md:clusterid', 'cluster', 'userid', df)\n",
    "    perc = df.groupby('cluster').apply(lambda df: perc_target(users, df)).reset_index()\n",
    "    perc = perc.merge(districts, left_on='cluster', right_on='disthash')\n",
    "    return perc"
   ]
  },
  {
   "cell_type": "code",
   "execution_count": 9,
   "metadata": {
    "collapsed": false
   },
   "outputs": [],
   "source": [
    "\n",
    "cities = load_cities('output/cities.csv')\n",
    "\n",
    "districts = cities.groupby('distname') \\\n",
    "                  .head(1) \\\n",
    "                  .reset_index(drop=True) \\\n",
    "                  .drop(columns=['rad', 'lng', 'lat', 'distcode', 'id'])\n",
    "\n",
    "\n",
    "# perc = make_analysis_df(df, districts, users)"
   ]
  },
  {
   "cell_type": "code",
   "execution_count": null,
   "metadata": {
    "collapsed": false
   },
   "outputs": [],
   "source": [
    "def statewide(df):\n",
    "    trg = df.target.sum().astype(int)\n",
    "    tot = df.tot.sum().astype(int)\n",
    "    return pd.Series([trg/tot, trg, tot], index=['percentage', 'malaria', 'total'])\n",
    "\n",
    "states = perc.groupby('state').apply(statewide).round(4)\n",
    "states['total'] = states['total'].astype(int)\n",
    "states['malaria'] = states['malaria'].astype(int)\n",
    "\n",
    "states"
   ]
  },
  {
   "cell_type": "code",
   "execution_count": 122,
   "metadata": {
    "collapsed": false
   },
   "outputs": [],
   "source": [
    "chosen_clusters = perc[(perc.target >= 3) & (perc.perc > 0.1)].cluster\n",
    "top_cities = cities[cities.disthash.isin(chosen_clusters)].reset_index(drop=True)"
   ]
  },
  {
   "cell_type": "code",
   "execution_count": null,
   "metadata": {
    "collapsed": false
   },
   "outputs": [],
   "source": [
    "perc[perc.perc > .35].sort_values('target')"
   ]
  },
  {
   "cell_type": "code",
   "execution_count": 90,
   "metadata": {
    "collapsed": false
   },
   "outputs": [],
   "source": [
    "chosen_clusters = perc[(perc.perc > .35) & (perc.target >= 3)].cluster\n",
    "malaria_cities = cities[cities.disthash.isin(chosen_clusters)].reset_index(drop=True)\n",
    "malaria_cities = malaria_cities[~malaria_cities.state.isin(['Orissa'])]\n",
    "malaria_cities.to_csv('output/malaria-cities.csv', index=False)"
   ]
  },
  {
   "cell_type": "code",
   "execution_count": null,
   "metadata": {
    "collapsed": false
   },
   "outputs": [],
   "source": [
    "malaria_cities"
   ]
  },
  {
   "cell_type": "code",
   "execution_count": 94,
   "metadata": {
    "collapsed": false
   },
   "outputs": [],
   "source": [
    "import pandas as pd\n",
    "\n",
    "top_cities = pd.read_csv('output/top-cities.csv')"
   ]
  },
  {
   "cell_type": "code",
   "execution_count": null,
   "metadata": {
    "collapsed": false
   },
   "outputs": [],
   "source": [
    "top_cities"
   ]
  },
  {
   "cell_type": "code",
   "execution_count": 26,
   "metadata": {
    "collapsed": false
   },
   "outputs": [],
   "source": [
    "\n",
    "def pause_adsets(m, clusters):\n",
    "    get_ad = lambda c: next((a for k, a in m.running_ads.items() if c in k), None)\n",
    "    to_delete = [get_ad(c) for c in clusters]\n",
    "    upd = lambda a: a.api_update(params={ 'status': 'PAUSED' })\n",
    "    return [upd(ad) for ad in to_delete]\n",
    "        \n",
    "# res = pause_adsets(m, perc[perc.perc == 0.0].cluster)"
   ]
  },
  {
   "cell_type": "code",
   "execution_count": null,
   "metadata": {
    "collapsed": false
   },
   "outputs": [],
   "source": [
    "aud = get_aud(m, cnf, True)"
   ]
  },
  {
   "cell_type": "code",
   "execution_count": null,
   "metadata": {
    "collapsed": false
   },
   "outputs": [],
   "source": [
    "aud"
   ]
  },
  {
   "cell_type": "code",
   "execution_count": 9,
   "metadata": {
    "collapsed": false
   },
   "outputs": [],
   "source": [
    "from malaria import unsaturated\n",
    "\n",
    "clusters = unsaturated(df, cnf)"
   ]
  },
  {
   "cell_type": "code",
   "execution_count": 75,
   "metadata": {
    "collapsed": false
   },
   "outputs": [],
   "source": [
    "adsets = m.account.get_ad_sets(fields=['lifetime_budget', 'instagram_actor_id', 'campaign_id', 'targeting'])"
   ]
  },
  {
   "cell_type": "code",
   "execution_count": 55,
   "metadata": {
    "collapsed": false
   },
   "outputs": [
    {
     "data": {
      "text/plain": [
       "'{\"error\":{\"message\":\"(#100) An owning business is required for this request\",\"type\":\"OAuthException\",\"code\":100,\"fbtrace_id\":\"AypFAF9YX6tqhTqMedHqQHB\"}}'"
      ]
     },
     "execution_count": 55,
     "metadata": {},
     "output_type": "execute_result"
    }
   ],
   "source": [
    "import hashlib\n",
    "import hmac\n",
    "\n",
    "def secret_proof(app_secret, access_token):\n",
    "    h = hmac.new (\n",
    "        app_secret.encode('utf-8'),\n",
    "        msg=access_token.encode('utf-8'),\n",
    "        digestmod=hashlib.sha256\n",
    "    )\n",
    "    return h.hexdigest()\n",
    "\n",
    "\n",
    "secret = env('FACEBOOK_APP_SECRET')\n",
    "token = ''\n",
    "user = users[0]\n",
    "\n",
    "proof = secret_proof(secret, token)\n",
    "\n",
    "import requests\n",
    "\n",
    "res = requests.get(f'https://graph.facebook.com/v7.0/{user}/ids_for_apps?access_token={token}&appsecret_proof={proof}')\n",
    "\n",
    "res.text"
   ]
  },
  {
   "cell_type": "code",
   "execution_count": 33,
   "metadata": {
    "collapsed": false
   },
   "outputs": [],
   "source": [
    "import time\n",
    "\n",
    "from facebook_business.adobjects.serverside.event import Event\n",
    "from facebook_business.adobjects.serverside.event_request import EventRequest\n",
    "from facebook_business.adobjects.serverside.user_data import UserData\n",
    "from facebook_business.adobjects.serverside.custom_data import CustomData\n",
    "from facebook_business.api import FacebookAdsApi\n",
    "\n",
    "# access_token = '<ACCESS_TOKEN>'\n",
    "# pixel_id = 'ADS_PIXEL_ID>'\n",
    "\n",
    "\n",
    "# user_data = UserData(\n",
    "#     email='joe@eg.com',\n",
    "#     fbc='fb.1.1554763741205.AbCdEfGhIjKlMnOpQrStUvWxYz1234567890',\n",
    "#     fbp='fb.1.1558571054389.1098115397'\n",
    "# )\n",
    "\n",
    "# custom_data = CustomData(\n",
    "#     currency='usd',\n",
    "#     value=123.45\n",
    "# )\n",
    "\n",
    "# event = Event(\n",
    "#     event_name='Purchase',\n",
    "#     event_time=int(time.time()),\n",
    "#     user_data=user_data,\n",
    "#     custom_data=custom_data,\n",
    "# )\n",
    "\n",
    "# events = [event]\n",
    "\n",
    "# event_request = EventRequest(\n",
    "#     events=events,\n",
    "#     pixel_id=pixel_id)\n",
    "\n",
    "# event_response = event_request.execute()\n",
    "# print(event_response)"
   ]
  },
  {
   "cell_type": "code",
   "execution_count": 6,
   "metadata": {
    "collapsed": false
   },
   "outputs": [],
   "source": [
    "\n",
    "cities = load_cities('output/cities.csv')\n",
    "\n"
   ]
  },
  {
   "cell_type": "code",
   "execution_count": null,
   "metadata": {
    "collapsed": false
   },
   "outputs": [],
   "source": [
    "from marketing import get_creatives, get_label\n",
    "from facebook_business.adobjects.adcreative import AdCreative\n",
    "\n",
    "def delete_our_creatives(account, label):\n",
    "    label = get_label(account, label)\n",
    "    creatives = get_creatives(account, label['id'])\n",
    "    print(len(creatives))\n",
    "\n",
    "    i = 0\n",
    "    for c in creatives.values():\n",
    "        try:\n",
    "            c.api_delete()\n",
    "            i += 1\n",
    "            print(i)\n",
    "        except Exception as e:\n",
    "            print(e)\n",
    "\n",
    "# delete_our_creatives(m.account, 'virtuallab-1')"
   ]
  },
  {
   "cell_type": "code",
   "execution_count": 10,
   "metadata": {
    "collapsed": false
   },
   "outputs": [],
   "source": [
    "from responses import get_forms\n",
    "from datetime import datetime\n",
    "\n",
    "survey_user = '10383123-9fb1-429b-8312-447c1b54b17a'\n",
    "shortcodes = ['baselinehin', 'baselineeng']\n",
    "\n",
    "timestamp = datetime(2020, 7, 25)\n",
    "\n",
    "forms = list(get_forms(survey_user, shortcodes, timestamp, cnf['chatbase']))"
   ]
  },
  {
   "cell_type": "code",
   "execution_count": 11,
   "metadata": {
    "collapsed": false
   },
   "outputs": [],
   "source": [
    "questions = [\n",
    "    ('malaria_incidence', 'f6e69027-97cc-494e-8d52-318b75047e23'),\n",
    "    ('dist_medical', 'd7573919-8a7e-457f-9a1d-1f8c389127a7'),\n",
    "    ('education', 'e40fa1c6-13a1-4a02-91cd-0eaade11864d'),\n",
    "    ('owns_net', 'bd4802c6-7bdb-40f0-aac1-18cc6df7da6e'),\n",
    "    ('has_ac', 'e279587c-975f-433a-adab-1ad563876af6'),\n",
    "    ('has_ac', 'e279587c-975f-433a-adab-1ad563876af6'),\n",
    "    ('net_lastnight', 'b5b1ff58-c8df-4890-9b1c-0cd40ce6edc0'),\n",
    "    ('home', '4d0ae478-3893-4b46-ab39-d6848c69245d')]\n"
   ]
  },
  {
   "cell_type": "code",
   "execution_count": 12,
   "metadata": {
    "collapsed": false
   },
   "outputs": [],
   "source": [
    "from responses import get_response_df\n",
    "\n",
    "def ref_translation(eng_form, other_form):\n",
    "    vals = [(a['ref'], b['ref']) for a, b \n",
    "            in zip(eng_form['fields'], other_form['fields'])]\n",
    "    lookup = dict(vals)\n",
    "    rev_lookup = {v:k for k,v in lookup.items()}\n",
    "    return lookup, rev_lookup\n",
    "\n",
    "\n",
    "def get_filtered_responses(survey_user, eng_form, other_form, questions, db_cnf):\n",
    "    ref_lookup, rev_ref_lookup = ref_translation(eng_form, other_form)\n",
    "    refs = [ref_lookup[r] for _, r in questions]\n",
    "    responses = get_response_df(survey_user, ['baselinehin'], refs, db_cnf)\n",
    "\n",
    "    _, last_ref = questions[-1]\n",
    "    \n",
    "    answered = responses[responses.question_ref == last_ref].userid.unique()    \n",
    "\n",
    "    return responses[responses.userid.isin(answered)].reset_index(drop=True)\n",
    "\n",
    "\n",
    "filtered_res = get_filtered_responses(survey_user, forms[0], forms[1], questions, cnf['chatbase'])"
   ]
  },
  {
   "cell_type": "code",
   "execution_count": 13,
   "metadata": {
    "collapsed": false
   },
   "outputs": [
    {
     "name": "stderr",
     "output_type": "stream",
     "text": [
      "WARNING:root:User without home: 2915819978541186\n"
     ]
    }
   ],
   "source": [
    "from clustering import add_res_cols\n",
    "from forms import response_translator\n",
    "\n",
    "def col_translators(a, b, questions):\n",
    "    lookup, _ = ref_translation(a, b)\n",
    "\n",
    "    refs = [ref for _, ref in questions]\n",
    "    ts = { qt['ref']: response_translator(q, qt)\n",
    "                   for qt, q in zip(a['fields'], b['fields'])\n",
    "                   if qt['ref'] in refs}\n",
    "\n",
    "    return [(n, lookup[ref], ts[ref]) for n, ref in questions]\n",
    "\n",
    "col_names = col_translators(forms[0], forms[1], questions)\n",
    "rr = add_res_cols(col_names, 'userid', filtered_res).reset_index(drop=True)"
   ]
  },
  {
   "cell_type": "code",
   "execution_count": 14,
   "metadata": {
    "collapsed": false
   },
   "outputs": [],
   "source": [
    "rr = add_res_cols([('cluster', 'md:clusterid', lambda x: x)], 'userid', rr).reset_index(drop=True)"
   ]
  },
  {
   "cell_type": "code",
   "execution_count": 15,
   "metadata": {
    "collapsed": false
   },
   "outputs": [],
   "source": [
    "def make_row(df):\n",
    "    r = df.iloc[0]\n",
    "    r.timestamp = df.timestamp.max()\n",
    "    return r\n",
    "\n",
    "dd = rr.groupby('userid').apply(make_row).reset_index(drop=True)\n",
    "dd = dd.merge(districts, left_on='cluster', right_on='disthash')\n"
   ]
  },
  {
   "cell_type": "code",
   "execution_count": 17,
   "metadata": {
    "collapsed": false
   },
   "outputs": [],
   "source": [
    "dd['under_net'] = dd.net_lastnight == 'Yes'\n",
    "dd['malaria'] = dd.malaria_incidence == 'Yes'"
   ]
  },
  {
   "cell_type": "code",
   "execution_count": 18,
   "metadata": {
    "collapsed": false
   },
   "outputs": [],
   "source": [
    "def malaria_prob(groupby):\n",
    "    d = groupby.malaria.value_counts(normalize=True)\n",
    "    d.name = 'count'\n",
    "    d = d.reset_index(level=-1)\n",
    "    d = d[d.malaria == True].drop(columns='malaria')\n",
    "    return d"
   ]
  },
  {
   "cell_type": "code",
   "execution_count": 33,
   "metadata": {
    "collapsed": false
   },
   "outputs": [],
   "source": [
    "def stats(df):\n",
    "    targets = df.malaria.sum()\n",
    "    tot = df.shape[0]\n",
    "    non_target = tot - targets\n",
    "    return pd.Series([targets/tot, targets, non_target, tot], index=['perc', 'target', 'non_target', 'tot'])\n",
    "\n",
    "perc = dd.groupby('disthash').apply(stats).reset_index()"
   ]
  },
  {
   "cell_type": "code",
   "execution_count": 20,
   "metadata": {
    "collapsed": false
   },
   "outputs": [],
   "source": [
    "to_drop = perc[(perc.tot <= 6) & (perc.perc <= 0.05)].disthash"
   ]
  },
  {
   "cell_type": "code",
   "execution_count": 27,
   "metadata": {
    "collapsed": false
   },
   "outputs": [],
   "source": [
    "cities = cities[~cities.disthash.isin(to_drop)]"
   ]
  },
  {
   "cell_type": "code",
   "execution_count": 30,
   "metadata": {
    "collapsed": false
   },
   "outputs": [],
   "source": [
    "dd = dd[~dd.disthash.isin(to_drop)].reset_index(drop=True)"
   ]
  },
  {
   "cell_type": "code",
   "execution_count": null,
   "metadata": {
    "collapsed": false
   },
   "outputs": [],
   "source": [
    "with pd.option_context('display.max_rows', None): \n",
    "    display(perc.sort_values('target'))"
   ]
  },
  {
   "cell_type": "code",
   "execution_count": 37,
   "metadata": {
    "collapsed": false
   },
   "outputs": [],
   "source": [
    "high_malaria_dists = perc[(perc.perc > .25)].disthash.unique()\n",
    "low_malaria_dists = perc[(perc.perc <= .15) & (perc.tot >= 20)].disthash.unique()\n",
    "# low_malaria_dists = perc[(perc.perc == 0.0) & (perc.target >= 0)].disthash.unique()\n",
    "\n",
    "dd['dist_risk'] = 'med'\n",
    "dd.loc[dd.cluster.isin(low_malaria_dists), 'dist_risk'] = 'low'\n",
    "dd.loc[dd.cluster.isin(high_malaria_dists), 'dist_risk'] = 'high'"
   ]
  },
  {
   "cell_type": "code",
   "execution_count": 38,
   "metadata": {
    "collapsed": false
   },
   "outputs": [
    {
     "data": {
      "text/plain": [
       "med     45\n",
       "low     32\n",
       "high    32\n",
       "Name: dist_risk, dtype: int64"
      ]
     },
     "execution_count": 38,
     "metadata": {},
     "output_type": "execute_result"
    }
   ],
   "source": [
    "dd.groupby('disthash').head(1)['dist_risk'].value_counts()"
   ]
  },
  {
   "cell_type": "code",
   "execution_count": 48,
   "metadata": {
    "collapsed": false
   },
   "outputs": [],
   "source": [
    "dd['include_audience'] = dd.dist_risk == 'low'\n",
    "\n",
    "cities = cities.merge(dd.groupby('disthash').head(1).reset_index(drop=True)[['disthash', 'include_audience']])\n",
    "\n",
    "cities.to_csv('output/cities.csv', index=False)"
   ]
  },
  {
   "cell_type": "code",
   "execution_count": 53,
   "metadata": {
    "collapsed": false
   },
   "outputs": [],
   "source": []
  },
  {
   "cell_type": "code",
   "execution_count": null,
   "metadata": {
    "collapsed": false
   },
   "outputs": [],
   "source": []
  },
  {
   "cell_type": "code",
   "execution_count": 53,
   "metadata": {
    "collapsed": false
   },
   "outputs": [
    {
     "data": {
      "text/plain": [
       "0.2022106631989597"
      ]
     },
     "execution_count": 53,
     "metadata": {},
     "output_type": "execute_result"
    }
   ],
   "source": [
    "filter_time(dd, (2020,7,21), (2020,7,25)) \\\n",
    "    .pipe(lambda df: df[df.disthash.isin(low_malaria_dists)]).shape[0] / filter_time(dd, (2020,7,21), (2020,7,24)).shape[0]"
   ]
  },
  {
   "cell_type": "code",
   "execution_count": 54,
   "metadata": {
    "collapsed": false
   },
   "outputs": [
    {
     "data": {
      "text/plain": [
       "0.016905071521456438"
      ]
     },
     "execution_count": 54,
     "metadata": {},
     "output_type": "execute_result"
    }
   ],
   "source": [
    "filter_time(dd, (2020,8,1), (2020,8,10)) \\\n",
    "    .pipe(lambda df: df[df.disthash.isin(low_malaria_dists)]).shape[0] / filter_time(dd, (2020,7,21), (2020,7,24)).shape[0]"
   ]
  },
  {
   "cell_type": "code",
   "execution_count": 55,
   "metadata": {
    "collapsed": false
   },
   "outputs": [
    {
     "data": {
      "text/plain": [
       "Pucca (have cement/brick wall and floor    0.626050\n",
       "Semi-pucca                                 0.252101\n",
       "Kutcha (made of mud, tin, straw)           0.121849\n",
       "Name: home, dtype: float64"
      ]
     },
     "execution_count": 55,
     "metadata": {},
     "output_type": "execute_result"
    }
   ],
   "source": [
    "filter_time(dd[dd.disthash.isin(low_malaria_dists)], (2020,7,21), (2020,7,24)).home.value_counts(normalize=True)"
   ]
  },
  {
   "cell_type": "code",
   "execution_count": 56,
   "metadata": {
    "collapsed": false
   },
   "outputs": [
    {
     "data": {
      "text/plain": [
       "Pucca (have cement/brick wall and floor    0.615385\n",
       "Kutcha (made of mud, tin, straw)           0.230769\n",
       "Semi-pucca                                 0.153846\n",
       "Name: home, dtype: float64"
      ]
     },
     "execution_count": 56,
     "metadata": {},
     "output_type": "execute_result"
    }
   ],
   "source": [
    "filter_time(dd[dd.disthash.isin(low_malaria_dists)], (2020,8,1), (2020,8,10)).home.value_counts(normalize=True)"
   ]
  },
  {
   "cell_type": "code",
   "execution_count": 72,
   "metadata": {
    "collapsed": false
   },
   "outputs": [
    {
     "data": {
      "text/plain": [
       "56    786f66b7\n",
       "Name: disthash, dtype: object"
      ]
     },
     "execution_count": 72,
     "metadata": {},
     "output_type": "execute_result"
    }
   ],
   "source": [
    "saturated = perc[perc.non_target > 150].disthash"
   ]
  },
  {
   "cell_type": "code",
   "execution_count": 79,
   "metadata": {
    "collapsed": false
   },
   "outputs": [],
   "source": [
    "cities['creative_group'] = 'hindi'\n",
    "cities.loc[cities.disthash.isin(saturated), 'creative_group'] = 'exclusions'"
   ]
  },
  {
   "cell_type": "code",
   "execution_count": 84,
   "metadata": {
    "collapsed": false
   },
   "outputs": [],
   "source": [
    "cities.to_csv('output/cities.csv', index=False)"
   ]
  },
  {
   "cell_type": "code",
   "execution_count": 8,
   "metadata": {
    "collapsed": false
   },
   "outputs": [],
   "source": [
    "import pandas as pd\n",
    "\n",
    "cities = pd.read_csv('output/cities.csv')"
   ]
  },
  {
   "cell_type": "code",
   "execution_count": null,
   "metadata": {
    "collapsed": false
   },
   "outputs": [],
   "source": [
    "for (i,n,cg), df in cities.groupby(['disthash', 'distname', 'creative_group']):\n",
    "    print(cg)"
   ]
  },
  {
   "cell_type": "code",
   "execution_count": null,
   "metadata": {
    "collapsed": false
   },
   "outputs": [],
   "source": [
    "malaria_prob(dd.groupby('under_net')) "
   ]
  },
  {
   "cell_type": "code",
   "execution_count": null,
   "metadata": {
    "collapsed": false
   },
   "outputs": [],
   "source": [
    "dd.groupby('dist_risk').home.value_counts(normalize=True)"
   ]
  },
  {
   "cell_type": "code",
   "execution_count": null,
   "metadata": {
    "collapsed": false
   },
   "outputs": [],
   "source": [
    "# district fixed effects of puccaness\n",
    "\n",
    "dd['pucca'] = dd.home != 'Kutcha (made of mud, tin, straw)'\n",
    "\n",
    "malaria_prob(dd.groupby(['disthash', 'pucca'])).reset_index() \\\n",
    "    .groupby('disthash') \\\n",
    "    .filter(lambda df: df.shape[0] > 1) \\\n",
    "    .groupby('disthash') \\\n",
    "    .apply(lambda df: df.iloc[0]['count'] - df.iloc[1]['count']).quantile(0.5)"
   ]
  },
  {
   "cell_type": "code",
   "execution_count": null,
   "metadata": {
    "collapsed": false
   },
   "outputs": [],
   "source": [
    "malaria_prob(filter_time(dd, (2020,7,21), (2020,7,26)).groupby(['dist_risk', 'home']))"
   ]
  },
  {
   "cell_type": "code",
   "execution_count": 63,
   "metadata": {
    "collapsed": false
   },
   "outputs": [
    {
     "data": {
      "text/html": [
       "<div>\n",
       "<style scoped>\n",
       "    .dataframe tbody tr th:only-of-type {\n",
       "        vertical-align: middle;\n",
       "    }\n",
       "\n",
       "    .dataframe tbody tr th {\n",
       "        vertical-align: top;\n",
       "    }\n",
       "\n",
       "    .dataframe thead th {\n",
       "        text-align: right;\n",
       "    }\n",
       "</style>\n",
       "<table border=\"1\" class=\"dataframe\">\n",
       "  <thead>\n",
       "    <tr style=\"text-align: right;\">\n",
       "      <th></th>\n",
       "      <th></th>\n",
       "      <th>count</th>\n",
       "    </tr>\n",
       "    <tr>\n",
       "      <th>dist_risk</th>\n",
       "      <th>home</th>\n",
       "      <th></th>\n",
       "    </tr>\n",
       "  </thead>\n",
       "  <tbody>\n",
       "    <tr>\n",
       "      <th rowspan=\"3\" valign=\"top\">high</th>\n",
       "      <th>Kutcha (made of mud, tin, straw)</th>\n",
       "      <td>0.350000</td>\n",
       "    </tr>\n",
       "    <tr>\n",
       "      <th>Pucca (have cement/brick wall and floor</th>\n",
       "      <td>0.238095</td>\n",
       "    </tr>\n",
       "    <tr>\n",
       "      <th>Semi-pucca</th>\n",
       "      <td>0.375000</td>\n",
       "    </tr>\n",
       "    <tr>\n",
       "      <th rowspan=\"3\" valign=\"top\">med</th>\n",
       "      <th>Kutcha (made of mud, tin, straw)</th>\n",
       "      <td>0.187500</td>\n",
       "    </tr>\n",
       "    <tr>\n",
       "      <th>Pucca (have cement/brick wall and floor</th>\n",
       "      <td>0.151899</td>\n",
       "    </tr>\n",
       "    <tr>\n",
       "      <th>Semi-pucca</th>\n",
       "      <td>0.177778</td>\n",
       "    </tr>\n",
       "  </tbody>\n",
       "</table>\n",
       "</div>"
      ],
      "text/plain": [
       "                                                      count\n",
       "dist_risk home                                             \n",
       "high      Kutcha (made of mud, tin, straw)         0.350000\n",
       "          Pucca (have cement/brick wall and floor  0.238095\n",
       "          Semi-pucca                               0.375000\n",
       "med       Kutcha (made of mud, tin, straw)         0.187500\n",
       "          Pucca (have cement/brick wall and floor  0.151899\n",
       "          Semi-pucca                               0.177778"
      ]
     },
     "execution_count": 63,
     "metadata": {},
     "output_type": "execute_result"
    }
   ],
   "source": [
    "malaria_prob(filter_time(dd, (2020,8,1), (2020,9,1)).groupby(['dist_risk', 'home']))"
   ]
  },
  {
   "cell_type": "code",
   "execution_count": null,
   "metadata": {
    "collapsed": false
   },
   "outputs": [],
   "source": [
    "filter_time(dd, (2020,8,1), (2020,9,1)).pipe(lambda df: df[df.dist_risk == 'low'])"
   ]
  },
  {
   "cell_type": "code",
   "execution_count": 550,
   "metadata": {
    "collapsed": false
   },
   "outputs": [
    {
     "data": {
      "text/html": [
       "<div>\n",
       "<style scoped>\n",
       "    .dataframe tbody tr th:only-of-type {\n",
       "        vertical-align: middle;\n",
       "    }\n",
       "\n",
       "    .dataframe tbody tr th {\n",
       "        vertical-align: top;\n",
       "    }\n",
       "\n",
       "    .dataframe thead th {\n",
       "        text-align: right;\n",
       "    }\n",
       "</style>\n",
       "<table border=\"1\" class=\"dataframe\">\n",
       "  <thead>\n",
       "    <tr style=\"text-align: right;\">\n",
       "      <th></th>\n",
       "      <th>count</th>\n",
       "    </tr>\n",
       "    <tr>\n",
       "      <th>has_ac</th>\n",
       "      <th></th>\n",
       "    </tr>\n",
       "  </thead>\n",
       "  <tbody>\n",
       "    <tr>\n",
       "      <th>Don't know</th>\n",
       "      <td>0.141463</td>\n",
       "    </tr>\n",
       "    <tr>\n",
       "      <th>No</th>\n",
       "      <td>0.199307</td>\n",
       "    </tr>\n",
       "    <tr>\n",
       "      <th>Yes</th>\n",
       "      <td>0.156977</td>\n",
       "    </tr>\n",
       "  </tbody>\n",
       "</table>\n",
       "</div>"
      ],
      "text/plain": [
       "               count\n",
       "has_ac              \n",
       "Don't know  0.141463\n",
       "No          0.199307\n",
       "Yes         0.156977"
      ]
     },
     "execution_count": 550,
     "metadata": {},
     "output_type": "execute_result"
    }
   ],
   "source": [
    "malaria_prob(dd.groupby(['has_ac']))"
   ]
  },
  {
   "cell_type": "code",
   "execution_count": 85,
   "metadata": {
    "collapsed": false
   },
   "outputs": [
    {
     "data": {
      "text/html": [
       "<div>\n",
       "<style scoped>\n",
       "    .dataframe tbody tr th:only-of-type {\n",
       "        vertical-align: middle;\n",
       "    }\n",
       "\n",
       "    .dataframe tbody tr th {\n",
       "        vertical-align: top;\n",
       "    }\n",
       "\n",
       "    .dataframe thead th {\n",
       "        text-align: right;\n",
       "    }\n",
       "</style>\n",
       "<table border=\"1\" class=\"dataframe\">\n",
       "  <thead>\n",
       "    <tr style=\"text-align: right;\">\n",
       "      <th></th>\n",
       "      <th></th>\n",
       "      <th></th>\n",
       "      <th>count</th>\n",
       "    </tr>\n",
       "    <tr>\n",
       "      <th>dist_risk</th>\n",
       "      <th>home</th>\n",
       "      <th>has_ac</th>\n",
       "      <th></th>\n",
       "    </tr>\n",
       "  </thead>\n",
       "  <tbody>\n",
       "    <tr>\n",
       "      <th rowspan=\"9\" valign=\"top\">high</th>\n",
       "      <th rowspan=\"3\" valign=\"top\">Kutcha (made of mud, tin, straw)</th>\n",
       "      <th>Don't know</th>\n",
       "      <td>0.304348</td>\n",
       "    </tr>\n",
       "    <tr>\n",
       "      <th>No</th>\n",
       "      <td>0.425926</td>\n",
       "    </tr>\n",
       "    <tr>\n",
       "      <th>Yes</th>\n",
       "      <td>0.500000</td>\n",
       "    </tr>\n",
       "    <tr>\n",
       "      <th rowspan=\"3\" valign=\"top\">Pucca (have cement/brick wall and floor</th>\n",
       "      <th>Don't know</th>\n",
       "      <td>0.240000</td>\n",
       "    </tr>\n",
       "    <tr>\n",
       "      <th>No</th>\n",
       "      <td>0.366477</td>\n",
       "    </tr>\n",
       "    <tr>\n",
       "      <th>Yes</th>\n",
       "      <td>0.283333</td>\n",
       "    </tr>\n",
       "    <tr>\n",
       "      <th rowspan=\"3\" valign=\"top\">Semi-pucca</th>\n",
       "      <th>Don't know</th>\n",
       "      <td>0.181818</td>\n",
       "    </tr>\n",
       "    <tr>\n",
       "      <th>No</th>\n",
       "      <td>0.424084</td>\n",
       "    </tr>\n",
       "    <tr>\n",
       "      <th>Yes</th>\n",
       "      <td>0.285714</td>\n",
       "    </tr>\n",
       "    <tr>\n",
       "      <th rowspan=\"3\" valign=\"top\">low</th>\n",
       "      <th>Kutcha (made of mud, tin, straw)</th>\n",
       "      <th>No</th>\n",
       "      <td>0.142857</td>\n",
       "    </tr>\n",
       "    <tr>\n",
       "      <th>Pucca (have cement/brick wall and floor</th>\n",
       "      <th>No</th>\n",
       "      <td>0.034483</td>\n",
       "    </tr>\n",
       "    <tr>\n",
       "      <th>Semi-pucca</th>\n",
       "      <th>No</th>\n",
       "      <td>0.066667</td>\n",
       "    </tr>\n",
       "    <tr>\n",
       "      <th rowspan=\"9\" valign=\"top\">med</th>\n",
       "      <th rowspan=\"3\" valign=\"top\">Kutcha (made of mud, tin, straw)</th>\n",
       "      <th>Don't know</th>\n",
       "      <td>0.103448</td>\n",
       "    </tr>\n",
       "    <tr>\n",
       "      <th>No</th>\n",
       "      <td>0.183365</td>\n",
       "    </tr>\n",
       "    <tr>\n",
       "      <th>Yes</th>\n",
       "      <td>0.230769</td>\n",
       "    </tr>\n",
       "    <tr>\n",
       "      <th rowspan=\"3\" valign=\"top\">Pucca (have cement/brick wall and floor</th>\n",
       "      <th>Don't know</th>\n",
       "      <td>0.126761</td>\n",
       "    </tr>\n",
       "    <tr>\n",
       "      <th>No</th>\n",
       "      <td>0.141593</td>\n",
       "    </tr>\n",
       "    <tr>\n",
       "      <th>Yes</th>\n",
       "      <td>0.134286</td>\n",
       "    </tr>\n",
       "    <tr>\n",
       "      <th rowspan=\"3\" valign=\"top\">Semi-pucca</th>\n",
       "      <th>Don't know</th>\n",
       "      <td>0.116279</td>\n",
       "    </tr>\n",
       "    <tr>\n",
       "      <th>No</th>\n",
       "      <td>0.176179</td>\n",
       "    </tr>\n",
       "    <tr>\n",
       "      <th>Yes</th>\n",
       "      <td>0.150943</td>\n",
       "    </tr>\n",
       "  </tbody>\n",
       "</table>\n",
       "</div>"
      ],
      "text/plain": [
       "                                                                 count\n",
       "dist_risk home                                    has_ac              \n",
       "high      Kutcha (made of mud, tin, straw)        Don't know  0.304348\n",
       "                                                  No          0.425926\n",
       "                                                  Yes         0.500000\n",
       "          Pucca (have cement/brick wall and floor Don't know  0.240000\n",
       "                                                  No          0.366477\n",
       "                                                  Yes         0.283333\n",
       "          Semi-pucca                              Don't know  0.181818\n",
       "                                                  No          0.424084\n",
       "                                                  Yes         0.285714\n",
       "low       Kutcha (made of mud, tin, straw)        No          0.142857\n",
       "          Pucca (have cement/brick wall and floor No          0.034483\n",
       "          Semi-pucca                              No          0.066667\n",
       "med       Kutcha (made of mud, tin, straw)        Don't know  0.103448\n",
       "                                                  No          0.183365\n",
       "                                                  Yes         0.230769\n",
       "          Pucca (have cement/brick wall and floor Don't know  0.126761\n",
       "                                                  No          0.141593\n",
       "                                                  Yes         0.134286\n",
       "          Semi-pucca                              Don't know  0.116279\n",
       "                                                  No          0.176179\n",
       "                                                  Yes         0.150943"
      ]
     },
     "execution_count": 85,
     "metadata": {},
     "output_type": "execute_result"
    }
   ],
   "source": [
    "malaria_prob(dd.groupby(['dist_risk', 'home', 'has_ac']))"
   ]
  },
  {
   "cell_type": "code",
   "execution_count": 531,
   "metadata": {
    "collapsed": false
   },
   "outputs": [
    {
     "data": {
      "text/html": [
       "<div>\n",
       "<style scoped>\n",
       "    .dataframe tbody tr th:only-of-type {\n",
       "        vertical-align: middle;\n",
       "    }\n",
       "\n",
       "    .dataframe tbody tr th {\n",
       "        vertical-align: top;\n",
       "    }\n",
       "\n",
       "    .dataframe thead th {\n",
       "        text-align: right;\n",
       "    }\n",
       "</style>\n",
       "<table border=\"1\" class=\"dataframe\">\n",
       "  <thead>\n",
       "    <tr style=\"text-align: right;\">\n",
       "      <th></th>\n",
       "      <th>count</th>\n",
       "    </tr>\n",
       "    <tr>\n",
       "      <th>owns_net</th>\n",
       "      <th></th>\n",
       "    </tr>\n",
       "  </thead>\n",
       "  <tbody>\n",
       "    <tr>\n",
       "      <th>Don't know</th>\n",
       "      <td>0.066667</td>\n",
       "    </tr>\n",
       "    <tr>\n",
       "      <th>No</th>\n",
       "      <td>0.154300</td>\n",
       "    </tr>\n",
       "    <tr>\n",
       "      <th>Yes</th>\n",
       "      <td>0.207216</td>\n",
       "    </tr>\n",
       "  </tbody>\n",
       "</table>\n",
       "</div>"
      ],
      "text/plain": [
       "               count\n",
       "owns_net            \n",
       "Don't know  0.066667\n",
       "No          0.154300\n",
       "Yes         0.207216"
      ]
     },
     "execution_count": 531,
     "metadata": {},
     "output_type": "execute_result"
    }
   ],
   "source": [
    "malaria_prob(dd.groupby(['owns_net']))"
   ]
  },
  {
   "cell_type": "code",
   "execution_count": 549,
   "metadata": {
    "collapsed": false
   },
   "outputs": [
    {
     "data": {
      "text/html": [
       "<div>\n",
       "<style scoped>\n",
       "    .dataframe tbody tr th:only-of-type {\n",
       "        vertical-align: middle;\n",
       "    }\n",
       "\n",
       "    .dataframe tbody tr th {\n",
       "        vertical-align: top;\n",
       "    }\n",
       "\n",
       "    .dataframe thead th {\n",
       "        text-align: right;\n",
       "    }\n",
       "</style>\n",
       "<table border=\"1\" class=\"dataframe\">\n",
       "  <thead>\n",
       "    <tr style=\"text-align: right;\">\n",
       "      <th></th>\n",
       "      <th></th>\n",
       "      <th>count</th>\n",
       "    </tr>\n",
       "    <tr>\n",
       "      <th>dist_risk</th>\n",
       "      <th>owns_net</th>\n",
       "      <th></th>\n",
       "    </tr>\n",
       "  </thead>\n",
       "  <tbody>\n",
       "    <tr>\n",
       "      <th rowspan=\"3\" valign=\"top\">high</th>\n",
       "      <th>Don't know</th>\n",
       "      <td>0.166667</td>\n",
       "    </tr>\n",
       "    <tr>\n",
       "      <th>No</th>\n",
       "      <td>0.338462</td>\n",
       "    </tr>\n",
       "    <tr>\n",
       "      <th>Yes</th>\n",
       "      <td>0.437055</td>\n",
       "    </tr>\n",
       "    <tr>\n",
       "      <th rowspan=\"2\" valign=\"top\">low</th>\n",
       "      <th>No</th>\n",
       "      <td>0.137500</td>\n",
       "    </tr>\n",
       "    <tr>\n",
       "      <th>Yes</th>\n",
       "      <td>0.065693</td>\n",
       "    </tr>\n",
       "    <tr>\n",
       "      <th rowspan=\"3\" valign=\"top\">med</th>\n",
       "      <th>Don't know</th>\n",
       "      <td>0.055556</td>\n",
       "    </tr>\n",
       "    <tr>\n",
       "      <th>No</th>\n",
       "      <td>0.130580</td>\n",
       "    </tr>\n",
       "    <tr>\n",
       "      <th>Yes</th>\n",
       "      <td>0.191207</td>\n",
       "    </tr>\n",
       "  </tbody>\n",
       "</table>\n",
       "</div>"
      ],
      "text/plain": [
       "                         count\n",
       "dist_risk owns_net            \n",
       "high      Don't know  0.166667\n",
       "          No          0.338462\n",
       "          Yes         0.437055\n",
       "low       No          0.137500\n",
       "          Yes         0.065693\n",
       "med       Don't know  0.055556\n",
       "          No          0.130580\n",
       "          Yes         0.191207"
      ]
     },
     "execution_count": 549,
     "metadata": {},
     "output_type": "execute_result"
    }
   ],
   "source": [
    "malaria_prob(dd.groupby(['dist_risk', 'owns_net']))"
   ]
  },
  {
   "cell_type": "code",
   "execution_count": null,
   "metadata": {
    "collapsed": false
   },
   "outputs": [],
   "source": [
    "malaria_prob(dd.groupby(['state', 'dist_risk', 'owns_net']))"
   ]
  },
  {
   "cell_type": "code",
   "execution_count": null,
   "metadata": {
    "collapsed": false
   },
   "outputs": [],
   "source": []
  },
  {
   "cell_type": "code",
   "execution_count": null,
   "metadata": {
    "collapsed": false
   },
   "outputs": [],
   "source": [
    "X = dd[['education', 'home', 'dist_medical', 'has_ac', 'owns_net']]\n",
    "\n",
    "\n",
    "for col in X.columns:\n",
    "    X[col] = X[col].astype('category')\n",
    "    X[col] = X[col].cat.codes"
   ]
  },
  {
   "cell_type": "code",
   "execution_count": null,
   "metadata": {
    "collapsed": false
   },
   "outputs": [],
   "source": [
    "X"
   ]
  },
  {
   "cell_type": "code",
   "execution_count": 423,
   "metadata": {
    "collapsed": false
   },
   "outputs": [
    {
     "data": {
      "text/plain": [
       "(4474, 5)"
      ]
     },
     "execution_count": 423,
     "metadata": {},
     "output_type": "execute_result"
    }
   ],
   "source": [
    "X.shape"
   ]
  },
  {
   "cell_type": "code",
   "execution_count": 425,
   "metadata": {
    "collapsed": false
   },
   "outputs": [],
   "source": [
    "y = dd['malaria']"
   ]
  },
  {
   "cell_type": "code",
   "execution_count": null,
   "metadata": {
    "collapsed": false
   },
   "outputs": [],
   "source": [
    "y.shape"
   ]
  },
  {
   "cell_type": "code",
   "execution_count": 542,
   "metadata": {
    "collapsed": false
   },
   "outputs": [
    {
     "data": {
      "text/plain": [
       "DecisionTreeClassifier(ccp_alpha=0.0, class_weight=None, criterion='gini',\n",
       "                       max_depth=None, max_features=None, max_leaf_nodes=None,\n",
       "                       min_impurity_decrease=0.0, min_impurity_split=None,\n",
       "                       min_samples_leaf=1, min_samples_split=2,\n",
       "                       min_weight_fraction_leaf=0.0, presort='deprecated',\n",
       "                       random_state=None, splitter='best')"
      ]
     },
     "execution_count": 542,
     "metadata": {},
     "output_type": "execute_result"
    }
   ],
   "source": [
    "from sklearn.naive_bayes import CategoricalNB\n",
    "from sklearn.tree import DecisionTreeClassifier\n",
    "\n",
    "model = DecisionTreeClassifier()\n",
    "\n",
    "model.fit(X[:2000], y[:2000])"
   ]
  },
  {
   "cell_type": "code",
   "execution_count": null,
   "metadata": {
    "collapsed": false
   },
   "outputs": [],
   "source": [
    "\n",
    "from sklearn.tree import plot_tree\n",
    "\n",
    "plot_tree(model)"
   ]
  },
  {
   "cell_type": "code",
   "execution_count": 300,
   "metadata": {
    "collapsed": false
   },
   "outputs": [
    {
     "data": {
      "text/plain": [
       "No            0.636550\n",
       "Yes           0.268994\n",
       "Don’t know    0.094456\n",
       "Name: malaria_incidence, dtype: float64"
      ]
     },
     "execution_count": 300,
     "metadata": {},
     "output_type": "execute_result"
    }
   ],
   "source": [
    "dd[(dd.owns_net == 'Yes') & \n",
    "   (dd.has_ac == 'No') & \n",
    "   (dd.home == 'Kutcha (made of mud, tin, straw)')] \\\n",
    "   .malaria_incidence.value_counts(normalize=True)"
   ]
  },
  {
   "cell_type": "code",
   "execution_count": null,
   "metadata": {
    "collapsed": false
   },
   "outputs": [],
   "source": [
    "dd"
   ]
  },
  {
   "cell_type": "code",
   "execution_count": 330,
   "metadata": {
    "collapsed": false
   },
   "outputs": [
    {
     "data": {
      "text/plain": [
       "No            0.846106\n",
       "Yes           0.113693\n",
       "Don't know    0.040201\n",
       "Name: has_ac, dtype: float64"
      ]
     },
     "execution_count": 330,
     "metadata": {},
     "output_type": "execute_result"
    }
   ],
   "source": [
    "def times(df, mi, ma):\n",
    "    return df[(df.timestamp > mi) & (df.timestamp < ma)]    \n",
    "\n",
    "\n",
    "times(dd, datetime(2020,7,22,tzinfo=timezone.utc), datetime(2020,7,24,tzinfo=timezone.utc)) \\\n",
    "    ['has_ac'] \\\n",
    "    .value_counts(normalize=True)"
   ]
  },
  {
   "cell_type": "code",
   "execution_count": 331,
   "metadata": {
    "collapsed": false
   },
   "outputs": [
    {
     "data": {
      "text/plain": [
       "No            0.797244\n",
       "Yes           0.147638\n",
       "Don't know    0.055118\n",
       "Name: has_ac, dtype: float64"
      ]
     },
     "execution_count": 331,
     "metadata": {},
     "output_type": "execute_result"
    }
   ],
   "source": [
    "times(dd, datetime(2020,7,24,tzinfo=timezone.utc), datetime(2020,7,25,tzinfo=timezone.utc)) \\\n",
    "    ['has_ac'] \\\n",
    "    .value_counts(normalize=True)"
   ]
  },
  {
   "cell_type": "code",
   "execution_count": 332,
   "metadata": {
    "collapsed": false
   },
   "outputs": [
    {
     "data": {
      "text/plain": [
       "No            0.862589\n",
       "Yes           0.090426\n",
       "Don't know    0.046986\n",
       "Name: has_ac, dtype: float64"
      ]
     },
     "execution_count": 332,
     "metadata": {},
     "output_type": "execute_result"
    }
   ],
   "source": [
    "times(dd, datetime(2020,7,25,tzinfo=timezone.utc), datetime(2020,7,26,tzinfo=timezone.utc)) \\\n",
    "    ['has_ac'] \\\n",
    "    .value_counts(normalize=True)"
   ]
  },
  {
   "cell_type": "code",
   "execution_count": 328,
   "metadata": {
    "collapsed": false
   },
   "outputs": [
    {
     "data": {
      "text/plain": [
       "No            0.825040\n",
       "Yes           0.126806\n",
       "Don't know    0.048154\n",
       "Name: has_ac, dtype: float64"
      ]
     },
     "execution_count": 328,
     "metadata": {},
     "output_type": "execute_result"
    }
   ],
   "source": [
    "times(dd, datetime(2020,7,26,tzinfo=timezone.utc), datetime(2020,7,28,tzinfo=timezone.utc)) \\\n",
    "    ['has_ac'] \\\n",
    "    .value_counts(normalize=True)"
   ]
  },
  {
   "cell_type": "code",
   "execution_count": null,
   "metadata": {
    "collapsed": false
   },
   "outputs": [],
   "source": [
    "dd"
   ]
  },
  {
   "cell_type": "code",
   "execution_count": 301,
   "metadata": {
    "collapsed": false
   },
   "outputs": [
    {
     "data": {
      "text/plain": [
       "No            0.670988\n",
       "Yes           0.191775\n",
       "Don’t know    0.137237\n",
       "Name: malaria_incidence, dtype: float64"
      ]
     },
     "execution_count": 301,
     "metadata": {},
     "output_type": "execute_result"
    }
   ],
   "source": [
    "dd.malaria_incidence.value_counts(normalize=True)"
   ]
  },
  {
   "cell_type": "code",
   "execution_count": 149,
   "metadata": {
    "collapsed": false
   },
   "outputs": [],
   "source": [
    "# responses should be converted and translated..."
   ]
  }
 ],
 "metadata": {
  "kernelspec": {
   "argv": [
    "python",
    "-m",
    "ipykernel_launcher",
    "-f",
    "{connection_file}"
   ],
   "display_name": "Python 3",
   "env": null,
   "interrupt_mode": "signal",
   "language": "python",
   "metadata": null,
   "name": "python3"
  },
  "name": "marketing.ipynb"
 },
 "nbformat": 4,
 "nbformat_minor": 4
}
