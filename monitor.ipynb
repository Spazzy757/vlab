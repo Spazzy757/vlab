{
 "cells": [
  {
   "cell_type": "code",
   "execution_count": null,
   "metadata": {
    "collapsed": false
   },
   "outputs": [],
   "source": [
    "! pip install --quiet environs cyksuid toolz psycopg2-binary typing_json backoff xxhash pyyaml geopandas"
   ]
  },
  {
   "cell_type": "code",
   "execution_count": null,
   "metadata": {
    "collapsed": false
   },
   "outputs": [],
   "source": [
    "! pip install --quiet geopandas"
   ]
  },
  {
   "cell_type": "code",
   "execution_count": null,
   "metadata": {
    "collapsed": false
   },
   "outputs": [],
   "source": [
    "! pip install --quiet git+https://github.com/nandanrao/facebook-python-business-sdk@pagination"
   ]
  },
  {
   "cell_type": "code",
   "execution_count": 4,
   "metadata": {
    "collapsed": false
   },
   "outputs": [
    {
     "name": "stdout",
     "output_type": "stream",
     "text": [
      "The autoreload extension is already loaded. To reload it, use:\n",
      "  %reload_ext autoreload\n"
     ]
    }
   ],
   "source": [
    "%load_ext autoreload\n",
    "%autoreload 2"
   ]
  },
  {
   "cell_type": "code",
   "execution_count": 43,
   "metadata": {
    "collapsed": false
   },
   "outputs": [],
   "source": [
    "from environs import Env\n",
    "env = Env()\n",
    "env.read_env('.env-bug', override=True)"
   ]
  },
  {
   "cell_type": "code",
   "execution_count": 108,
   "metadata": {
    "collapsed": false
   },
   "outputs": [
    {
     "name": "stderr",
     "output_type": "stream",
     "text": [
      "INFO:root:Loaded 774 creatives with label 23845111738640518\n"
     ]
    }
   ],
   "source": [
    "from adopt.malaria import get_conf, get_df, lookalike\n",
    "from adopt.marketing import Marketing\n",
    "from adopt.facebook.state import CampaignState\n",
    "\n",
    "cnf = get_conf(env)\n",
    "state = CampaignState(env)\n",
    "stratum = cnf['strata'][0]\n",
    "surveys = stratum['surveys']\n",
    "df = get_df(cnf)\n",
    "m = Marketing(env, state)"
   ]
  },
  {
   "cell_type": "code",
   "execution_count": 109,
   "metadata": {
    "collapsed": false
   },
   "outputs": [],
   "source": [
    "# from adopt.malaria import create_lookalike\n",
    "\n",
    "# create_lookalike(cnf, m)"
   ]
  },
  {
   "cell_type": "code",
   "execution_count": null,
   "metadata": {
    "collapsed": false
   },
   "outputs": [],
   "source": [
    "from adopt.malaria import update_respondent_audience\n",
    "update_respondent_audience(cnf, df, m)"
   ]
  },
  {
   "cell_type": "code",
   "execution_count": 7,
   "metadata": {
    "collapsed": false
   },
   "outputs": [],
   "source": [
    "import geopandas as gpd\n",
    "from adopt.malaria import load_cities\n",
    "\n",
    "def get_dist_info(path):\n",
    "    geod = gpd.read_file(path)\n",
    "    geod.loc[geod.distcode == '#N/A', 'distcode'] = None\n",
    "    geod['distcode'] = geod.distcode.astype(float)\n",
    "    geod = geod[geod.distcode.notna()].reset_index(drop=True)\n",
    "    district_info = geod.groupby('distcode').apply(lambda df: df.iloc[0][['distcode', 'tot_p']]).reset_index(drop=True)\n",
    "    return district_info\n",
    "\n",
    "dist_info = get_dist_info('outs/clusters.shp')\n",
    "cities = load_cities('output/cities.csv')\n",
    "cities = cities.merge(dist_info, how='left', on='distcode')\n",
    "\n",
    "districts = cities.groupby('distname') \\\n",
    "                  .head(1) \\\n",
    "                  .reset_index(drop=True) \\\n",
    "                  .drop(columns=['rad', 'lng', 'lat', 'distcode', 'id'])"
   ]
  },
  {
   "cell_type": "code",
   "execution_count": 11,
   "metadata": {
    "collapsed": false
   },
   "outputs": [],
   "source": [
    "from adopt.responses import get_forms\n",
    "from datetime import datetime\n",
    "\n",
    "survey_user = '10383123-9fb1-429b-8312-447c1b54b17a'\n",
    "shortcodes = [ 'baselineeng', 'baselinehin', 'baselineodi']\n",
    "\n",
    "timestamp = datetime(2020, 8, 5)\n",
    "\n",
    "forms = list(get_forms(survey_user, shortcodes, timestamp, cnf['chatbase']))"
   ]
  },
  {
   "cell_type": "code",
   "execution_count": 12,
   "metadata": {
    "collapsed": false
   },
   "outputs": [],
   "source": [
    "questions = [\n",
    "    ('malaria_incidence', 'f6e69027-97cc-494e-8d52-318b75047e23'),\n",
    "    ('malaria_now', 'dad23031-8468-4900-89cc-d01841d8b660'),\n",
    "    ('dist_medical', 'd7573919-8a7e-457f-9a1d-1f8c389127a7'),\n",
    "    ('education', 'e40fa1c6-13a1-4a02-91cd-0eaade11864d'),\n",
    "    ('owns_net', 'bd4802c6-7bdb-40f0-aac1-18cc6df7da6e'),\n",
    "    ('has_ac', 'e279587c-975f-433a-adab-1ad563876af6'),\n",
    "    ('net_lastnight', 'b5b1ff58-c8df-4890-9b1c-0cd40ce6edc0'),\n",
    "    ('home', '4d0ae478-3893-4b46-ab39-d6848c69245d'), \n",
    "    ('occupation', '4fc929c7-132d-49b1-a164-515e5cc9064f')]\n"
   ]
  },
  {
   "cell_type": "code",
   "execution_count": 13,
   "metadata": {
    "collapsed": false
   },
   "outputs": [],
   "source": [
    "from adopt.responses import get_response_df\n",
    "from datetime import datetime, timezone\n",
    "from adopt.clustering import only_target_users\n",
    "import pandas as pd\n",
    "from adopt.clustering import add_res_cols\n",
    "from adopt.forms import response_translator\n",
    "from adopt.malaria import shape_df\n",
    "\n",
    "\n",
    "def filter_time(df, min_date, max_date):\n",
    "    min_date = datetime(*min_date, tzinfo=timezone.utc)\n",
    "    max_date = datetime(*max_date, tzinfo=timezone.utc)\n",
    "\n",
    "    users = df[(df.timestamp > min_date) & (df.timestamp < max_date)].userid.unique()\n",
    "    return df[df.userid.isin(users)]\n",
    "\n",
    "def ref_translation(eng_form, other_form):\n",
    "    vals = [(a['ref'], b['ref']) for a, b \n",
    "            in zip(eng_form['fields'], other_form['fields'])]\n",
    "    lookup = dict(vals)\n",
    "    rev_lookup = {v:k for k,v in lookup.items()}\n",
    "    return lookup, rev_lookup\n",
    "\n",
    "\n",
    "def get_filtered_responses(survey_user, eng_form, other_form, shortcodes, questions, db_cnf):\n",
    "    ref_lookup, rev_ref_lookup = ref_translation(eng_form, other_form)\n",
    "    refs = [ref_lookup[r] for _, r in questions]\n",
    "    responses = get_response_df(survey_user, shortcodes, refs, db_cnf)\n",
    "\n",
    "    _, last_ref = questions[-1]\n",
    "    \n",
    "    answered = responses[responses.question_ref == last_ref].userid.unique()    \n",
    "\n",
    "    return responses[responses.userid.isin(answered)].reset_index(drop=True)\n",
    "\n",
    "def malaria_prob(groupby, key='malaria'):\n",
    "    d = groupby[key].value_counts(normalize=True)\n",
    "    d.name = 'count'\n",
    "    d = d.reset_index(level=-1)\n",
    "    d = d[d[key] == True].drop(columns=key)\n",
    "    return d\n",
    "\n",
    "\n",
    "def stats(df):\n",
    "    targets = df.kutcha.sum()\n",
    "    tot = df.shape[0]\n",
    "    non_target = tot - targets\n",
    "    return pd.Series([targets/tot, targets, non_target, tot], index=['perc', 'target', 'non_target', 'tot'])\n",
    "\n",
    "\n",
    "def col_translators(a, b, questions):\n",
    "    lookup, _ = ref_translation(a, b)\n",
    "\n",
    "    refs = [ref for _, ref in questions]\n",
    "    ts = { qt['ref']: response_translator(q, qt)\n",
    "           for qt, q in zip(a['fields'], b['fields'])                   \n",
    "           if qt['ref'] in refs}\n",
    "    \n",
    "    return [(n, lookup[ref], ts[ref]) for n, ref in questions]\n"
   ]
  },
  {
   "cell_type": "code",
   "execution_count": null,
   "metadata": {
    "collapsed": false
   },
   "outputs": [],
   "source": [
    "filtered_res = get_filtered_responses(survey_user, forms[0], forms[1], ['baselinehin', 'baselinehinexc'], questions, cnf['chatbase'])\n",
    "\n",
    "col_names = col_translators(forms[0], forms[1], questions)\n",
    "rr = add_res_cols(col_names, shape_df(filtered_res)) \\\n",
    "    .reset_index(drop=True) \\\n",
    "    .dropna()"
   ]
  },
  {
   "cell_type": "code",
   "execution_count": 15,
   "metadata": {
    "collapsed": false
   },
   "outputs": [],
   "source": [
    "dd = rr.merge(districts, left_on='md:clusterid', right_on='disthash')\n",
    "\n",
    "dd['under_net'] = dd.net_lastnight == 'Yes'\n",
    "dd['malaria'] = dd.malaria_incidence == 'Yes'\n",
    "dd['malaria_now'] = dd.malaria_now == 'Yes'\n",
    "dd['kutcha'] = dd.home == 'Kutcha (made of mud, tin, straw)'\n",
    "dd['pucca'] = dd.home == 'Pucca (have cement/brick wall and floor'\n",
    "dd['university'] = dd.education == 'University degree or higher'\n",
    "dd['unemployed'] = dd.occupation == 'Unemployed'"
   ]
  },
  {
   "cell_type": "code",
   "execution_count": 16,
   "metadata": {
    "collapsed": false
   },
   "outputs": [],
   "source": [
    "perc = dd.groupby('disthash').apply(stats).reset_index()"
   ]
  },
  {
   "cell_type": "code",
   "execution_count": 17,
   "metadata": {
    "collapsed": false
   },
   "outputs": [
    {
     "data": {
      "text/plain": [
       "(1136, 39)"
      ]
     },
     "execution_count": 17,
     "metadata": {},
     "output_type": "execute_result"
    }
   ],
   "source": [
    "filter_time(dd, (2020,8,17), (2020,8,18)).shape"
   ]
  },
  {
   "cell_type": "code",
   "execution_count": 18,
   "metadata": {
    "collapsed": false
   },
   "outputs": [
    {
     "data": {
      "text/plain": [
       "(397, 39)"
      ]
     },
     "execution_count": 18,
     "metadata": {},
     "output_type": "execute_result"
    }
   ],
   "source": [
    "filter_time(dd, (2020,8,18), (2020,8,19)).shape"
   ]
  },
  {
   "cell_type": "code",
   "execution_count": 46,
   "metadata": {
    "collapsed": false
   },
   "outputs": [
    {
     "name": "stderr",
     "output_type": "stream",
     "text": [
      "INFO:root:Campaign impact-evaluation-vlab-11 has 774 creatives, and 109 running ads\n"
     ]
    }
   ],
   "source": [
    "from adopt.clustering import get_budget_lookup\n",
    "from adopt.malaria import window, days_left, get_df, get_cluster_from_adset\n",
    "from adopt.facebook.state import CampaignState, BudgetWindow\n",
    "\n",
    "# w = BudgetWindow(datetime(2020,8,10), datetime.now())\n",
    "\n",
    "w = window(12)\n",
    "state = CampaignState(env, w)\n",
    "state.load_ad_state()\n",
    "\n",
    "spend = {get_cluster_from_adset(n): i\n",
    "         for n, i in state.spend.items()}"
   ]
  },
  {
   "cell_type": "code",
   "execution_count": 58,
   "metadata": {
    "collapsed": false
   },
   "outputs": [
    {
     "name": "stderr",
     "output_type": "stream",
     "text": [
      "WARNING:root:User without cluster: 1989430067808669\n"
     ]
    },
    {
     "name": "stderr",
     "output_type": "stream",
     "text": [
      "WARNING:root:User without cluster: 3460381223992119\n"
     ]
    },
    {
     "name": "stderr",
     "output_type": "stream",
     "text": [
      "WARNING:root:User without cluster: 3186091831440410\n"
     ]
    },
    {
     "name": "stderr",
     "output_type": "stream",
     "text": [
      "WARNING:root:User without cluster: 2809033675789023\n"
     ]
    }
   ],
   "source": [
    "budget_lookup, prices = get_budget_lookup(df,\n",
    "                                          stratum,\n",
    "                                          float('inf'),\n",
    "                                          10000,\n",
    "                                          86,\n",
    "                                          14,\n",
    "                                          w,\n",
    "                                          spend, \n",
    "                                          return_price=True)"
   ]
  },
  {
   "cell_type": "code",
   "execution_count": 59,
   "metadata": {
    "collapsed": false
   },
   "outputs": [],
   "source": [
    "bb = pd.Series(budget_lookup) / 100"
   ]
  },
  {
   "cell_type": "code",
   "execution_count": null,
   "metadata": {
    "collapsed": false
   },
   "outputs": [],
   "source": [
    "with pd.option_context('display.max_rows', None):\n",
    "    display(bb.sort_values()[:80])"
   ]
  },
  {
   "cell_type": "code",
   "execution_count": 60,
   "metadata": {
    "collapsed": false
   },
   "outputs": [
    {
     "data": {
      "text/plain": [
       "6043.138571428572"
      ]
     },
     "execution_count": 60,
     "metadata": {},
     "output_type": "execute_result"
    }
   ],
   "source": [
    "bb.sort_values()[:80].sum() / 70 * 10"
   ]
  },
  {
   "cell_type": "code",
   "execution_count": 61,
   "metadata": {
    "collapsed": false
   },
   "outputs": [],
   "source": [
    "def add_budget(r, lookup, key='budget'):\n",
    "    r[key] = lookup.get(r['disthash'], None)\n",
    "    return r\n",
    "\n",
    "perc = perc.apply(lambda r: add_budget(r, budget_lookup), 1)\n",
    "perc = perc.apply(lambda r: add_budget(r, prices, 'price'), 1)"
   ]
  },
  {
   "cell_type": "code",
   "execution_count": 62,
   "metadata": {
    "collapsed": false
   },
   "outputs": [],
   "source": [
    "mn_lookup = dd.groupby('disthash').malaria_now.mean().reset_index()\n",
    "perc = perc.merge(mn_lookup)"
   ]
  },
  {
   "cell_type": "code",
   "execution_count": 100,
   "metadata": {
    "collapsed": false
   },
   "outputs": [],
   "source": [
    "excluded = cities[cities.creative_group == 'exclusions'].disthash.unique()\n",
    "perc['exclusion'] = perc.disthash.isin(excluded)"
   ]
  },
  {
   "cell_type": "code",
   "execution_count": 101,
   "metadata": {
    "collapsed": false
   },
   "outputs": [],
   "source": [
    "audienced = cities[cities.include_audience == True].disthash.unique()\n",
    "perc['audienced'] = perc.disthash.isin(audienced)"
   ]
  },
  {
   "cell_type": "code",
   "execution_count": 65,
   "metadata": {
    "collapsed": false
   },
   "outputs": [],
   "source": [
    "saturated = (only_target_users(df, surveys, 'target_questions')\n",
    "             .groupby('md:clusterid')\n",
    "             .userid.count() >= 250) \\\n",
    "             .reset_index() \\\n",
    "             .pipe(lambda df: df[df.userid == True])['md:clusterid']"
   ]
  },
  {
   "cell_type": "code",
   "execution_count": 99,
   "metadata": {
    "collapsed": false
   },
   "outputs": [],
   "source": [
    "cities.loc[cities.disthash == 'c12daf4e', 'creative_group'] = 'exclusions'"
   ]
  },
  {
   "cell_type": "code",
   "execution_count": null,
   "metadata": {
    "collapsed": false
   },
   "outputs": [],
   "source": [
    "with pd.option_context('display.max_rows', None, 'display.expand_frame_repr', False):\n",
    "    display(perc.sort_values('tot'))"
   ]
  },
  {
   "cell_type": "code",
   "execution_count": 31,
   "metadata": {
    "collapsed": false
   },
   "outputs": [
    {
     "data": {
      "text/plain": [
       "65    9cbe05a0\n",
       "Name: disthash, dtype: object"
      ]
     },
     "execution_count": 31,
     "metadata": {},
     "output_type": "execute_result"
    }
   ],
   "source": [
    "audience_fail = perc[(perc.price > 150000) & (perc.exclusion == False) & (perc.audienced == True)].disthash\n",
    "\n",
    "# this needs to stay...\n",
    "audience_fail"
   ]
  },
  {
   "cell_type": "code",
   "execution_count": 32,
   "metadata": {
    "collapsed": false
   },
   "outputs": [],
   "source": [
    "cities.loc[cities.disthash.isin(audience_fail), 'include_audience'] = False"
   ]
  },
  {
   "cell_type": "code",
   "execution_count": null,
   "metadata": {
    "collapsed": false
   },
   "outputs": [],
   "source": [
    "# saturated = perc[perc.non_target > 175].disthash\n",
    "# audienced = perc[(perc.perc < .3) & ((perc.disthash.isin(saturated) | (perc.price < 30000)))].disthash\n",
    "# cities['creative_group'] = 'hindi'\n",
    "# cities.loc[cities.disthash.isin(saturated), 'creative_group'] = 'exclusions'\n",
    "# cities['include_audience'] = False\n",
    "# cities.loc[cities.disthash.isin(audienced), 'include_audience'] = True"
   ]
  },
  {
   "cell_type": "code",
   "execution_count": 106,
   "metadata": {
    "collapsed": false
   },
   "outputs": [],
   "source": [
    "cities.to_csv('output/cities.csv', index=False)"
   ]
  },
  {
   "cell_type": "code",
   "execution_count": 102,
   "metadata": {
    "collapsed": false
   },
   "outputs": [],
   "source": [
    "from adopt.malaria import get_cluster_from_adset\n",
    "\n",
    "def matching_stats(df):\n",
    "    vals = {\n",
    "        'kutchas': df.kutcha.mean(),\n",
    "        'puccas': df.pucca.mean(),\n",
    "        'university': df.university.mean(),\n",
    "        'unemployed': df.unemployed.mean(),\n",
    "        'malaria': df.malaria.mean(),\n",
    "        'malaria_now': df.malaria_now.mean(),\n",
    "        'population': df.tot_p.max()\n",
    "    }\n",
    "\n",
    "    return pd.Series(vals)\n",
    "\n",
    "def prep_facebook_data(path, dd, final_clusters):\n",
    "    capture_count = dd[(dd.timestamp > datetime(2020,7,23,tzinfo=timezone.utc)) & \n",
    "                       (dd.timestamp < datetime(2020,7,24,tzinfo=timezone.utc))] \\\n",
    "        .groupby('disthash') \\\n",
    "        .userid.count() \\\n",
    "        .reset_index() \\\n",
    "        .rename(columns={'userid': 'completed_survey'})\n",
    "\n",
    "    df = pd.read_csv(path)\n",
    "    df['disthash'] = df['Ad Set Name'].map(get_cluster_from_adset)\n",
    "    df = df.merge(capture_count, how='left')\n",
    "    df = df[df.disthash.isin(final_clusters)].reset_index(drop=True)\n",
    "\n",
    "    spend = 'Amount Spent (INR)'\n",
    "    df['cost_per_completion'] = df.apply(lambda r: r[spend] / r.completed_survey, 1)\n",
    "    df = df.rename(columns = {'CTR (All)': 'CTR', \n",
    "                              'Cost per Results': 'cost_per_message', \n",
    "                              'CPM (Cost per 1,000 Impressions) (INR)': 'CPM'})\n",
    "\n",
    "    return df[['disthash', 'cost_per_completion', 'cost_per_message', 'CTR', 'CPM']]"
   ]
  },
  {
   "cell_type": "code",
   "execution_count": 103,
   "metadata": {
    "collapsed": false
   },
   "outputs": [],
   "source": [
    "final_clusters = pd.read_csv('outs/final-clusters.csv').disthash\n",
    "\n",
    "fb = prep_facebook_data('outs/fb-export-vlab-1.csv', dd, final_clusters)\n",
    "\n",
    "ma = dd.groupby('disthash').apply(matching_stats).reset_index()\n",
    "ma = ma[ma.disthash.isin(final_clusters)]\n",
    "ma.loc[ma.population.isna(), 'population'] = ma.population.quantile(.2) # random data filling :/\n",
    "\n",
    "ma = ma.merge(fb)"
   ]
  },
  {
   "cell_type": "code",
   "execution_count": 104,
   "metadata": {
    "collapsed": false
   },
   "outputs": [],
   "source": [
    "perc['saturated'] = perc.disthash.isin(saturated)\n",
    "\n",
    "perc_stats = perc[['disthash', 'tot', 'audienced', 'exclusion', 'price', 'saturated']].rename(columns={'tot': 'current_total'})"
   ]
  },
  {
   "cell_type": "code",
   "execution_count": 86,
   "metadata": {
    "collapsed": false
   },
   "outputs": [],
   "source": [
    "treatment_assignemnt = pd.read_csv('outs/ma-with-treatment.csv')[['disthash', 'treatment']]\n",
    "perc = perc.merge(treatment_assignemnt)"
   ]
  },
  {
   "cell_type": "code",
   "execution_count": 105,
   "metadata": {
    "collapsed": false
   },
   "outputs": [],
   "source": [
    "ma.merge(perc_stats).to_csv('outs/ma.csv', index=False)"
   ]
  },
  {
   "cell_type": "code",
   "execution_count": 283,
   "metadata": {
    "collapsed": false
   },
   "outputs": [],
   "source": [
    "import pandas as pd\n",
    "from adopt.marketing import create_adset, Cluster, Location, AdsetConf\n",
    "\n",
    "def make_template_adsets(env, state):\n",
    "    treatment_assignment = pd.read_csv('outs/ma-with-treatment.csv')[['disthash', 'treatment']]\n",
    "\n",
    "    cities = pd.read_csv('output/cities.csv')\n",
    "\n",
    "    controls = cities \\\n",
    "        .merge(treatment_assignment) \\\n",
    "        .pipe(lambda df: df[df.treatment == 0]) \\\n",
    "        .pipe(lambda df: df.assign(rad = df.rad + 1))\n",
    "\n",
    "    by_state = [(Cluster(st, st), [Location(r.lat, r.lng, r.rad) \n",
    "                                   for _, r in df.iterrows()])\n",
    "                for st, df in controls.groupby('state')]\n",
    "\n",
    "\n",
    "    confs = [AdsetConf(state.campaign, cl, None, lcs, [], \n",
    "                       10000, 'PAUSED', env('FACEBOOK_INSTA_ID'), \n",
    "                       24, None, None, None)\n",
    "             for cl, lcs in by_state]\n",
    "\n",
    "    instructions = [create_adset(f'template-{c.cluster.name}', c) for c in confs]    \n",
    "\n",
    "    return instructions"
   ]
  },
  {
   "cell_type": "code",
   "execution_count": null,
   "metadata": {
    "collapsed": false
   },
   "outputs": [],
   "source": [
    "make_template_adsets(env, state)"
   ]
  },
  {
   "cell_type": "code",
   "execution_count": 246,
   "metadata": {
    "collapsed": false
   },
   "outputs": [
    {
     "data": {
      "text/plain": [
       "['__class__',\n",
       " '__delattr__',\n",
       " '__dict__',\n",
       " '__dir__',\n",
       " '__doc__',\n",
       " '__eq__',\n",
       " '__format__',\n",
       " '__ge__',\n",
       " '__getattribute__',\n",
       " '__gt__',\n",
       " '__hash__',\n",
       " '__init__',\n",
       " '__init_subclass__',\n",
       " '__le__',\n",
       " '__lt__',\n",
       " '__module__',\n",
       " '__ne__',\n",
       " '__new__',\n",
       " '__reduce__',\n",
       " '__reduce_ex__',\n",
       " '__repr__',\n",
       " '__setattr__',\n",
       " '__sizeof__',\n",
       " '__str__',\n",
       " '__subclasshook__',\n",
       " '__weakref__',\n",
       " 'adgroup_id',\n",
       " 'age_max',\n",
       " 'age_min',\n",
       " 'alternate_auto_targeting_option',\n",
       " 'app_install_state',\n",
       " 'audience_network_positions',\n",
       " 'behaviors',\n",
       " 'brand_safety_content_filter_levels',\n",
       " 'catalog_based_targeting',\n",
       " 'cities',\n",
       " 'college_years',\n",
       " 'connections',\n",
       " 'contextual_targeting_categories',\n",
       " 'countries',\n",
       " 'country',\n",
       " 'country_groups',\n",
       " 'custom_audiences',\n",
       " 'device_platforms',\n",
       " 'direct_install_devices',\n",
       " 'dynamic_audience_ids',\n",
       " 'education_majors',\n",
       " 'education_schools',\n",
       " 'education_statuses',\n",
       " 'effective_audience_network_positions',\n",
       " 'effective_device_platforms',\n",
       " 'effective_facebook_positions',\n",
       " 'effective_instagram_positions',\n",
       " 'effective_messenger_positions',\n",
       " 'effective_publisher_platforms',\n",
       " 'engagement_specs',\n",
       " 'ethnic_affinity',\n",
       " 'exclude_reached_since',\n",
       " 'excluded_brand_safety_content_types',\n",
       " 'excluded_connections',\n",
       " 'excluded_custom_audiences',\n",
       " 'excluded_dynamic_audience_ids',\n",
       " 'excluded_engagement_specs',\n",
       " 'excluded_geo_locations',\n",
       " 'excluded_mobile_device_model',\n",
       " 'excluded_product_audience_specs',\n",
       " 'excluded_publisher_categories',\n",
       " 'excluded_publisher_list_ids',\n",
       " 'excluded_user_device',\n",
       " 'exclusions',\n",
       " 'facebook_positions',\n",
       " 'family_statuses',\n",
       " 'fb_deal_id',\n",
       " 'flexible_spec',\n",
       " 'friends_of_connections',\n",
       " 'genders',\n",
       " 'generation',\n",
       " 'geo_locations',\n",
       " 'home_ownership',\n",
       " 'home_type',\n",
       " 'home_value',\n",
       " 'household_composition',\n",
       " 'income',\n",
       " 'industries',\n",
       " 'instagram_positions',\n",
       " 'instream_video_skippable_excluded',\n",
       " 'interested_in',\n",
       " 'interests',\n",
       " 'is_whatsapp_destination_ad',\n",
       " 'keywords',\n",
       " 'life_events',\n",
       " 'locales',\n",
       " 'messenger_positions',\n",
       " 'moms',\n",
       " 'net_worth',\n",
       " 'office_type',\n",
       " 'place_page_set_ids',\n",
       " 'political_views',\n",
       " 'politics',\n",
       " 'product_audience_specs',\n",
       " 'prospecting_audience',\n",
       " 'publisher_platforms',\n",
       " 'radius',\n",
       " 'regions',\n",
       " 'relationship_statuses',\n",
       " 'site_category',\n",
       " 'targeting_optimization',\n",
       " 'user_adclusters',\n",
       " 'user_device',\n",
       " 'user_event',\n",
       " 'user_os',\n",
       " 'wireless_carrier',\n",
       " 'work_employers',\n",
       " 'work_positions',\n",
       " 'zips']"
      ]
     },
     "execution_count": 246,
     "metadata": {},
     "output_type": "execute_result"
    }
   ],
   "source": [
    "# make campaign\n",
    "from facebook_business.adobjects.targeting import Targeting\n",
    "\n",
    "dir(Targeting.Field)\n",
    "'excluded_geo_locations'"
   ]
  },
  {
   "cell_type": "code",
   "execution_count": 199,
   "metadata": {
    "collapsed": false
   },
   "outputs": [],
   "source": []
  },
  {
   "cell_type": "code",
   "execution_count": 308,
   "metadata": {
    "collapsed": false
   },
   "outputs": [],
   "source": [
    "ma.to_csv('ma.csv', index=False)"
   ]
  },
  {
   "cell_type": "code",
   "execution_count": 72,
   "metadata": {
    "collapsed": false
   },
   "outputs": [],
   "source": [
    "from scipy.spatial.distance import pdist, squareform\n",
    "from sklearn.decomposition import PCA\n",
    "from sklearn.preprocessing import scale\n",
    "\n",
    "def flip(a, b):\n",
    "    if np.random.random() > 0.5:\n",
    "        return {a: 1, b: 0}\n",
    "    return {a: 0, b: 1}\n",
    "\n",
    "def pairup(a):\n",
    "    a = list(a)\n",
    "    while a:\n",
    "        head, a = a[:2], a[2:]\n",
    "        yield head\n",
    "\n",
    "def flipping(pairs):\n",
    "    a = [(i, v) for a,b in pairs for i, v in flip(a,b).items()]\n",
    "    a = sorted(a, key=lambda x: x[0])\n",
    "    _, a = zip(*a)\n",
    "    return np.array(a)\n",
    "\n",
    "def matching(score):\n",
    "    idxs = np.argsort(score)\n",
    "    pairs = pairup(idxs)\n",
    "    return flipping(pairs)\n",
    "\n",
    "def pairem(ma, idxs, thresh = 3.0):\n",
    "    dists = squareform(pdist(ma, metric='euclidean'))\n",
    "\n",
    "    pairs = []\n",
    "    while len(idxs):\n",
    "        idx = idxs[0]\n",
    "        s = np.argsort(dists[idx, :])[1:]\n",
    "        closest = next((x for x in s if x in idxs), None)\n",
    "        d = dists[idx, closest]\n",
    "        if d > thresh:\n",
    "            print(f'OVER THRESHOLD: {d}')\n",
    "\n",
    "        idxs = [i for i in idxs if i not in [idx, closest]]\n",
    "        pairs.append((idx, closest))\n",
    "    return pairs\n"
   ]
  },
  {
   "cell_type": "code",
   "execution_count": null,
   "metadata": {
    "collapsed": false
   },
   "outputs": [],
   "source": [
    "flipping(pairem(ma, np.argsort(loadings))).shape"
   ]
  },
  {
   "cell_type": "code",
   "execution_count": 310,
   "metadata": {
    "collapsed": false
   },
   "outputs": [],
   "source": [
    "ma = scale(ma)\n",
    "pca = PCA(1)\n",
    "loadings = pca.fit_transform(ma)[:, 0]"
   ]
  },
  {
   "cell_type": "code",
   "execution_count": 313,
   "metadata": {
    "collapsed": false
   },
   "outputs": [
    {
     "name": "stdout",
     "output_type": "stream",
     "text": [
      "OVER THRESHOLD: 5.4833299501271195\n",
      "OVER THRESHOLD: 3.4849746826632857\n",
      "OVER THRESHOLD: 3.3626653501428203\n"
     ]
    }
   ],
   "source": [
    "\n",
    "pd.DataFrame(flipping(pairem(ma, np.argsort(loadings))), columns=['assignment']).to_csv('assignment.csv', index=False)"
   ]
  },
  {
   "cell_type": "code",
   "execution_count": 212,
   "metadata": {
    "collapsed": false
   },
   "outputs": [],
   "source": [
    "pd.DataFrame(matching(loadings), columns=['assignment']).to_csv('assignment.csv', index=False)"
   ]
  },
  {
   "cell_type": "code",
   "execution_count": 158,
   "metadata": {
    "collapsed": false
   },
   "outputs": [],
   "source": [
    "pd.DataFrame(ma).to_csv('ma-scaled.csv', index=False)"
   ]
  },
  {
   "cell_type": "code",
   "execution_count": 136,
   "metadata": {
    "collapsed": false
   },
   "outputs": [
    {
     "name": "stdout",
     "output_type": "stream",
     "text": [
      "\u001b[33mWARNING: You are using pip version 20.0.2; however, version 20.2.2 is available.\r\n",
      "You should consider upgrading via the '/usr/local/bin/python -m pip install --upgrade pip' command.\u001b[0m\r\n"
     ]
    }
   ],
   "source": [
    "! pip install --quiet pymatch statsmodels"
   ]
  },
  {
   "cell_type": "code",
   "execution_count": 137,
   "metadata": {
    "collapsed": false
   },
   "outputs": [],
   "source": [
    "from pymatch.functions import ks_boot"
   ]
  },
  {
   "cell_type": "code",
   "execution_count": 148,
   "metadata": {
    "collapsed": false
   },
   "outputs": [],
   "source": [
    "import numpy as np\n",
    "\n",
    "i = np.random.random(size=90) > .5"
   ]
  },
  {
   "cell_type": "code",
   "execution_count": 51,
   "metadata": {
    "collapsed": false
   },
   "outputs": [
    {
     "data": {
      "text/plain": [
       "(16894, 39)"
      ]
     },
     "execution_count": 51,
     "metadata": {},
     "output_type": "execute_result"
    }
   ],
   "source": [
    "dd.shape"
   ]
  },
  {
   "cell_type": "code",
   "execution_count": 93,
   "metadata": {
    "collapsed": false
   },
   "outputs": [
    {
     "data": {
      "text/plain": [
       "(43, 9)"
      ]
     },
     "execution_count": 93,
     "metadata": {},
     "output_type": "execute_result"
    }
   ],
   "source": [
    "perc[perc.tot >= 200].shape"
   ]
  },
  {
   "cell_type": "code",
   "execution_count": null,
   "metadata": {
    "collapsed": false
   },
   "outputs": [],
   "source": [
    "saturated"
   ]
  },
  {
   "cell_type": "code",
   "execution_count": null,
   "metadata": {
    "collapsed": false
   },
   "outputs": [],
   "source": [
    "cities = load_cities(cnf['lookup_loc'])"
   ]
  },
  {
   "cell_type": "code",
   "execution_count": 69,
   "metadata": {
    "collapsed": false
   },
   "outputs": [],
   "source": []
  },
  {
   "cell_type": "code",
   "execution_count": 83,
   "metadata": {
    "collapsed": false
   },
   "outputs": [],
   "source": []
  },
  {
   "cell_type": "code",
   "execution_count": 84,
   "metadata": {
    "collapsed": false
   },
   "outputs": [],
   "source": [
    "\n"
   ]
  },
  {
   "cell_type": "code",
   "execution_count": null,
   "metadata": {
    "collapsed": false
   },
   "outputs": [],
   "source": [
    "cities"
   ]
  },
  {
   "cell_type": "code",
   "execution_count": 87,
   "metadata": {
    "collapsed": false
   },
   "outputs": [],
   "source": [
    "cities.to_csv('output/cities.csv', index=False)"
   ]
  },
  {
   "cell_type": "code",
   "execution_count": null,
   "metadata": {
    "collapsed": false
   },
   "outputs": [],
   "source": [
    "# get cost per answer\n",
    "# compare to cost per message via insights for districts being excluded. \n",
    "# decide if worse than with audience, if not, add audience"
   ]
  },
  {
   "cell_type": "code",
   "execution_count": null,
   "metadata": {
    "collapsed": false
   },
   "outputs": [],
   "source": [
    "perc = perc.merge(disthash_info_lookup)"
   ]
  },
  {
   "cell_type": "code",
   "execution_count": 377,
   "metadata": {
    "collapsed": false
   },
   "outputs": [],
   "source": [
    "mn = dd.groupby('disthash').malaria_now.mean().reset_index()\n",
    "mn = mn.merge(disthash_info_lookup)\n",
    "mn = mn.apply(lambda r: add_budget(r, budget_lookup), 1)"
   ]
  },
  {
   "cell_type": "code",
   "execution_count": 316,
   "metadata": {
    "collapsed": false
   },
   "outputs": [],
   "source": [
    "import matplotlib.pyplot as plt\n",
    "plt.rcParams['figure.figsize'] = [20, 10]"
   ]
  },
  {
   "cell_type": "code",
   "execution_count": null,
   "metadata": {
    "collapsed": false
   },
   "outputs": [],
   "source": [
    "mn[mn.tot_p.notna()].plot.scatter(x='budget', y='tot_p')"
   ]
  },
  {
   "cell_type": "code",
   "execution_count": null,
   "metadata": {
    "collapsed": false
   },
   "outputs": [],
   "source": [
    "mn[mn.tot_p.notna()].plot.scatter(x='budget', y='malaria_now')"
   ]
  },
  {
   "cell_type": "code",
   "execution_count": null,
   "metadata": {
    "collapsed": false
   },
   "outputs": [],
   "source": [
    "filter_time(dd, (2020,7,1), (2020,8,1)).home.value_counts(1)"
   ]
  },
  {
   "cell_type": "code",
   "execution_count": 145,
   "metadata": {
    "collapsed": false
   },
   "outputs": [
    {
     "data": {
      "text/plain": [
       "(598, 34)"
      ]
     },
     "execution_count": 145,
     "metadata": {},
     "output_type": "execute_result"
    }
   ],
   "source": [
    "dd[(dd.home == 'Pucca (have cement/brick wall and floor') & (dd.has_ac == 'Yes')].shape"
   ]
  },
  {
   "cell_type": "code",
   "execution_count": null,
   "metadata": {
    "collapsed": false
   },
   "outputs": [],
   "source": [
    "filter_time(dd, (2020,8,11), (2020,8,12)).home.value_counts(1)"
   ]
  },
  {
   "cell_type": "code",
   "execution_count": null,
   "metadata": {
    "collapsed": false
   },
   "outputs": [],
   "source": [
    "filter_time(dd[dd.disthash.isin(audienced)], (2020,8,1), (2020,8,8)bbbb).home.value_counts(1)"
   ]
  },
  {
   "cell_type": "code",
   "execution_count": null,
   "metadata": {
    "collapsed": false
   },
   "outputs": [],
   "source": [
    "filter_time(dd[dd.disthash.isin(audienced)], (2020,8,8), (2020,8,9)).home.value_counts(1)"
   ]
  },
  {
   "cell_type": "code",
   "execution_count": null,
   "metadata": {
    "collapsed": false
   },
   "outputs": [],
   "source": [
    "filter_time(dd[dd.disthash.isin(audienced)], (2020,8,10), (2020,8,11)).home.value_counts(1)"
   ]
  },
  {
   "cell_type": "code",
   "execution_count": 30,
   "metadata": {
    "collapsed": false
   },
   "outputs": [
    {
     "data": {
      "text/plain": [
       "count    0.328153\n",
       "dtype: float64"
      ]
     },
     "execution_count": 30,
     "metadata": {},
     "output_type": "execute_result"
    }
   ],
   "source": [
    "malaria_prob(filter_time(dd[dd.disthash.isin(audienced)], (2020,8,8), (2020,8,9)).groupby('disthash'), 'kutcha').mean()"
   ]
  },
  {
   "cell_type": "code",
   "execution_count": 31,
   "metadata": {
    "collapsed": false
   },
   "outputs": [
    {
     "data": {
      "text/plain": [
       "count    0.42933\n",
       "dtype: float64"
      ]
     },
     "execution_count": 31,
     "metadata": {},
     "output_type": "execute_result"
    }
   ],
   "source": [
    "malaria_prob(filter_time(dd[dd.disthash.isin(audienced)], (2020,8,9), (2020,8,10)).groupby('disthash'), 'kutcha').mean()"
   ]
  },
  {
   "cell_type": "code",
   "execution_count": 32,
   "metadata": {
    "collapsed": false
   },
   "outputs": [
    {
     "data": {
      "text/plain": [
       "count    0.394834\n",
       "dtype: float64"
      ]
     },
     "execution_count": 32,
     "metadata": {},
     "output_type": "execute_result"
    }
   ],
   "source": [
    "malaria_prob(filter_time(dd[dd.disthash.isin(audienced)], (2020,8,10), (2020,8,11)).groupby('disthash'), 'kutcha').mean()"
   ]
  },
  {
   "cell_type": "code",
   "execution_count": 76,
   "metadata": {
    "collapsed": false
   },
   "outputs": [
    {
     "data": {
      "text/plain": [
       "count    0.2\n",
       "Name: 0.5, dtype: float64"
      ]
     },
     "execution_count": 76,
     "metadata": {},
     "output_type": "execute_result"
    }
   ],
   "source": [
    "malaria_prob(filter_time(dd, (2020,7,1), (2020,8,1)).groupby(['disthash']), 'kutcha').quantile(.5)"
   ]
  },
  {
   "cell_type": "code",
   "execution_count": 40,
   "metadata": {
    "collapsed": false
   },
   "outputs": [
    {
     "data": {
      "text/plain": [
       "count    0.25\n",
       "Name: 0.5, dtype: float64"
      ]
     },
     "execution_count": 40,
     "metadata": {},
     "output_type": "execute_result"
    }
   ],
   "source": [
    "malaria_prob(filter_time(dd, (2020,8,7), (2020,8,11)).groupby(['disthash']), 'kutcha').quantile(.5)"
   ]
  },
  {
   "cell_type": "code",
   "execution_count": 35,
   "metadata": {
    "collapsed": false
   },
   "outputs": [
    {
     "data": {
      "text/plain": [
       "count    0.25\n",
       "Name: 0.5, dtype: float64"
      ]
     },
     "execution_count": 35,
     "metadata": {},
     "output_type": "execute_result"
    }
   ],
   "source": [
    "malaria_prob(filter_time(dd, (2020,8,1), (2020,8,10)).groupby(['disthash']), 'kutcha').quantile(.5)"
   ]
  },
  {
   "cell_type": "code",
   "execution_count": 346,
   "metadata": {
    "collapsed": false
   },
   "outputs": [],
   "source": [
    "from marketing import get_cluster_from_adset\n",
    "\n",
    "running = [get_cluster_from_adset(s) for s in m.running_ads.keys()]\n",
    "base_cities = pd.read_csv('output/base-cities.csv')\n",
    "cities = base_cities[base_cities.disthash.isin(running)].reset_index(drop=True)\n",
    "\n",
    "target_kutchas = perc[(perc.perc < .35) & (perc.tot > 70)].disthash\n",
    "cities['include_audience'] = cities.disthash.isin(target_kutchas)\n",
    "cities.to_csv('output/cities.csv', index=False)"
   ]
  },
  {
   "cell_type": "code",
   "execution_count": 44,
   "metadata": {
    "collapsed": false
   },
   "outputs": [
    {
     "data": {
      "text/plain": [
       "Pucca (have cement/brick wall and floor    3867\n",
       "Semi-pucca                                 1749\n",
       "Kutcha (made of mud, tin, straw)           1468\n",
       "Name: home, dtype: int64"
      ]
     },
     "execution_count": 44,
     "metadata": {},
     "output_type": "execute_result"
    }
   ],
   "source": [
    "dd.home.value_counts()"
   ]
  },
  {
   "cell_type": "code",
   "execution_count": 86,
   "metadata": {
    "collapsed": false
   },
   "outputs": [],
   "source": [
    "high_malaria_dists = dd.groupby('disthash').malaria.mean().reset_index().pipe(lambda df: df[df.malaria > .25]).disthash\n",
    "low_malaria_dists = dd.groupby('disthash').malaria.mean().reset_index().pipe(lambda df: df[df.malaria < .15]).disthash\n",
    "# low_malaria_dists = perc[(perc.perc == 0.0) & (perc.target >= 0)].disthash.unique()\n",
    "# low_malaria_dists = cities[cities.include_audience == True].disthash.unique()\n",
    "\n",
    "dd['dist_risk'] = 'med'\n",
    "dd.loc[dd['md:clusterid'].isin(low_malaria_dists), 'dist_risk'] = 'low'\n",
    "dd.loc[dd['md:clusterid'].isin(high_malaria_dists), 'dist_risk'] = 'high'"
   ]
  },
  {
   "cell_type": "code",
   "execution_count": 41,
   "metadata": {
    "collapsed": false
   },
   "outputs": [
    {
     "data": {
      "text/plain": [
       "low     41\n",
       "high    37\n",
       "med     31\n",
       "Name: dist_risk, dtype: int64"
      ]
     },
     "execution_count": 41,
     "metadata": {},
     "output_type": "execute_result"
    }
   ],
   "source": [
    "dd.groupby('disthash').head(1)['dist_risk'].value_counts()"
   ]
  },
  {
   "cell_type": "code",
   "execution_count": null,
   "metadata": {
    "collapsed": false
   },
   "outputs": [],
   "source": [
    "malaria_prob(dd.groupby('home'))"
   ]
  },
  {
   "cell_type": "code",
   "execution_count": null,
   "metadata": {
    "collapsed": false
   },
   "outputs": [],
   "source": [
    "dd.groupby('education').has_ac.value_counts(1)"
   ]
  },
  {
   "cell_type": "code",
   "execution_count": 65,
   "metadata": {
    "collapsed": false
   },
   "outputs": [
    {
     "data": {
      "text/plain": [
       "(18670, 37)"
      ]
     },
     "execution_count": 65,
     "metadata": {},
     "output_type": "execute_result"
    }
   ],
   "source": [
    "dd.shape"
   ]
  },
  {
   "cell_type": "code",
   "execution_count": null,
   "metadata": {
    "collapsed": false
   },
   "outputs": [],
   "source": [
    "malaria_prob(dd.groupby(['home']), 'malaria_now')"
   ]
  },
  {
   "cell_type": "code",
   "execution_count": null,
   "metadata": {
    "collapsed": false
   },
   "outputs": [],
   "source": [
    "malaria_prob(dd.groupby(['home', 'has_ac']), 'malaria_now')"
   ]
  },
  {
   "cell_type": "code",
   "execution_count": 63,
   "metadata": {
    "collapsed": false
   },
   "outputs": [],
   "source": [
    "tot = 196952 + 17682 + 40222 + 89997 + 113061 + 50145 + 141910 + 4255509 + 46000 "
   ]
  },
  {
   "cell_type": "code",
   "execution_count": 64,
   "metadata": {
    "collapsed": false
   },
   "outputs": [
    {
     "data": {
      "text/plain": [
       "70735.4"
      ]
     },
     "execution_count": 64,
     "metadata": {},
     "output_type": "execute_result"
    }
   ],
   "source": [
    "tot / 70"
   ]
  },
  {
   "cell_type": "code",
   "execution_count": 50,
   "metadata": {
    "collapsed": false
   },
   "outputs": [
    {
     "data": {
      "text/plain": [
       "Pucca (have cement/brick wall and floor    0.593711\n",
       "Semi-pucca                                 0.259119\n",
       "Kutcha (made of mud, tin, straw)           0.147170\n",
       "Name: home, dtype: float64"
      ]
     },
     "execution_count": 50,
     "metadata": {},
     "output_type": "execute_result"
    }
   ],
   "source": [
    "filter_time(dd[dd.disthash.isin(low_malaria_dists)], (2020,7,21), (2020,7,24)).home.value_counts(normalize=True)"
   ]
  },
  {
   "cell_type": "code",
   "execution_count": 51,
   "metadata": {
    "collapsed": false
   },
   "outputs": [
    {
     "data": {
      "text/plain": [
       "Pucca (have cement/brick wall and floor    0.52\n",
       "Semi-pucca                                 0.24\n",
       "Kutcha (made of mud, tin, straw)           0.24\n",
       "Name: home, dtype: float64"
      ]
     },
     "execution_count": 51,
     "metadata": {},
     "output_type": "execute_result"
    }
   ],
   "source": [
    "filter_time(dd[dd.disthash.isin(low_malaria_dists)], (2020,8,1), (2020,8,7)).home.value_counts(normalize=True)"
   ]
  },
  {
   "cell_type": "code",
   "execution_count": 65,
   "metadata": {
    "collapsed": false
   },
   "outputs": [
    {
     "data": {
      "text/plain": [
       "Pucca (have cement/brick wall and floor    0.459561\n",
       "Kutcha (made of mud, tin, straw)           0.283878\n",
       "Semi-pucca                                 0.256561\n",
       "Name: home, dtype: float64"
      ]
     },
     "execution_count": 65,
     "metadata": {},
     "output_type": "execute_result"
    }
   ],
   "source": [
    "filter_time(dd, (2020,8,1), (2020,8,9)).home.value_counts(normalize=True)"
   ]
  },
  {
   "cell_type": "code",
   "execution_count": 67,
   "metadata": {
    "collapsed": false
   },
   "outputs": [
    {
     "data": {
      "text/plain": [
       "Pucca (have cement/brick wall and floor    0.503937\n",
       "Semi-pucca                                 0.263857\n",
       "Kutcha (made of mud, tin, straw)           0.232206\n",
       "Name: home, dtype: float64"
      ]
     },
     "execution_count": 67,
     "metadata": {},
     "output_type": "execute_result"
    }
   ],
   "source": [
    "filter_time(dd, (2020,8,9), (2020,8,14)).home.value_counts(normalize=True)"
   ]
  },
  {
   "cell_type": "code",
   "execution_count": 96,
   "metadata": {
    "collapsed": false
   },
   "outputs": [
    {
     "data": {
      "text/plain": [
       "0.026169264809755906"
      ]
     },
     "execution_count": 96,
     "metadata": {},
     "output_type": "execute_result"
    }
   ],
   "source": [
    "# district fixed effects of kutcha\n",
    "\n",
    "def kutcha_dif(df):\n",
    "    a = df[df.kutcha == True].iloc[0]['count']\n",
    "    b = df[df.kutcha == False].iloc[0]['count']\n",
    "    return a - b\n",
    "\n",
    "malaria_prob(dd.groupby(['disthash', 'kutcha']), 'malaria_now').reset_index() \\\n",
    "    .groupby('disthash') \\\n",
    "    .filter(lambda df: df.shape[0] > 1) \\\n",
    "    .groupby('disthash') \\\n",
    "    .apply(kutcha_dif).mean()"
   ]
  },
  {
   "cell_type": "code",
   "execution_count": 39,
   "metadata": {
    "collapsed": false
   },
   "outputs": [
    {
     "ename": "KeyError",
     "evalue": "'dist_risk'",
     "output_type": "error",
     "traceback": [
      "\u001b[0;31m---------------------------------------------------------------------------\u001b[0m",
      "\u001b[0;31mKeyError\u001b[0m                                  Traceback (most recent call last)",
      "\u001b[0;32m<ipython-input-39-b14ebb994827>\u001b[0m in \u001b[0;36m<module>\u001b[0;34m\u001b[0m\n\u001b[0;32m----> 1\u001b[0;31m \u001b[0mmalaria_prob\u001b[0m\u001b[0;34m(\u001b[0m\u001b[0mfilter_time\u001b[0m\u001b[0;34m(\u001b[0m\u001b[0mdd\u001b[0m\u001b[0;34m,\u001b[0m \u001b[0;34m(\u001b[0m\u001b[0;36m2020\u001b[0m\u001b[0;34m,\u001b[0m\u001b[0;36m7\u001b[0m\u001b[0;34m,\u001b[0m\u001b[0;36m21\u001b[0m\u001b[0;34m)\u001b[0m\u001b[0;34m,\u001b[0m \u001b[0;34m(\u001b[0m\u001b[0;36m2020\u001b[0m\u001b[0;34m,\u001b[0m\u001b[0;36m8\u001b[0m\u001b[0;34m,\u001b[0m\u001b[0;36m1\u001b[0m\u001b[0;34m)\u001b[0m\u001b[0;34m)\u001b[0m\u001b[0;34m.\u001b[0m\u001b[0mgroupby\u001b[0m\u001b[0;34m(\u001b[0m\u001b[0;34m[\u001b[0m\u001b[0;34m'dist_risk'\u001b[0m\u001b[0;34m,\u001b[0m \u001b[0;34m'home'\u001b[0m\u001b[0;34m]\u001b[0m\u001b[0;34m)\u001b[0m\u001b[0;34m)\u001b[0m\u001b[0;34m\u001b[0m\u001b[0;34m\u001b[0m\u001b[0m\n\u001b[0m",
      "\u001b[0;32m~/.local/lib/python3.8/site-packages/pandas/core/frame.py\u001b[0m in \u001b[0;36mgroupby\u001b[0;34m(self, by, axis, level, as_index, sort, group_keys, squeeze, observed)\u001b[0m\n\u001b[1;32m   5799\u001b[0m         \u001b[0maxis\u001b[0m \u001b[0;34m=\u001b[0m \u001b[0mself\u001b[0m\u001b[0;34m.\u001b[0m\u001b[0m_get_axis_number\u001b[0m\u001b[0;34m(\u001b[0m\u001b[0maxis\u001b[0m\u001b[0;34m)\u001b[0m\u001b[0;34m\u001b[0m\u001b[0;34m\u001b[0m\u001b[0m\n\u001b[1;32m   5800\u001b[0m \u001b[0;34m\u001b[0m\u001b[0m\n\u001b[0;32m-> 5801\u001b[0;31m         return groupby_generic.DataFrameGroupBy(\n\u001b[0m\u001b[1;32m   5802\u001b[0m             \u001b[0mobj\u001b[0m\u001b[0;34m=\u001b[0m\u001b[0mself\u001b[0m\u001b[0;34m,\u001b[0m\u001b[0;34m\u001b[0m\u001b[0;34m\u001b[0m\u001b[0m\n\u001b[1;32m   5803\u001b[0m             \u001b[0mkeys\u001b[0m\u001b[0;34m=\u001b[0m\u001b[0mby\u001b[0m\u001b[0;34m,\u001b[0m\u001b[0;34m\u001b[0m\u001b[0;34m\u001b[0m\u001b[0m\n",
      "\u001b[0;32m~/.local/lib/python3.8/site-packages/pandas/core/groupby/groupby.py\u001b[0m in \u001b[0;36m__init__\u001b[0;34m(self, obj, keys, axis, level, grouper, exclusions, selection, as_index, sort, group_keys, squeeze, observed, mutated)\u001b[0m\n\u001b[1;32m    400\u001b[0m             \u001b[0;32mfrom\u001b[0m \u001b[0mpandas\u001b[0m\u001b[0;34m.\u001b[0m\u001b[0mcore\u001b[0m\u001b[0;34m.\u001b[0m\u001b[0mgroupby\u001b[0m\u001b[0;34m.\u001b[0m\u001b[0mgrouper\u001b[0m \u001b[0;32mimport\u001b[0m \u001b[0mget_grouper\u001b[0m\u001b[0;34m\u001b[0m\u001b[0;34m\u001b[0m\u001b[0m\n\u001b[1;32m    401\u001b[0m \u001b[0;34m\u001b[0m\u001b[0m\n\u001b[0;32m--> 402\u001b[0;31m             grouper, exclusions, obj = get_grouper(\n\u001b[0m\u001b[1;32m    403\u001b[0m                 \u001b[0mobj\u001b[0m\u001b[0;34m,\u001b[0m\u001b[0;34m\u001b[0m\u001b[0;34m\u001b[0m\u001b[0m\n\u001b[1;32m    404\u001b[0m                 \u001b[0mkeys\u001b[0m\u001b[0;34m,\u001b[0m\u001b[0;34m\u001b[0m\u001b[0;34m\u001b[0m\u001b[0m\n",
      "\u001b[0;32m~/.local/lib/python3.8/site-packages/pandas/core/groupby/grouper.py\u001b[0m in \u001b[0;36mget_grouper\u001b[0;34m(obj, key, axis, level, sort, observed, mutated, validate)\u001b[0m\n\u001b[1;32m    596\u001b[0m                 \u001b[0min_axis\u001b[0m\u001b[0;34m,\u001b[0m \u001b[0mname\u001b[0m\u001b[0;34m,\u001b[0m \u001b[0mlevel\u001b[0m\u001b[0;34m,\u001b[0m \u001b[0mgpr\u001b[0m \u001b[0;34m=\u001b[0m \u001b[0;32mFalse\u001b[0m\u001b[0;34m,\u001b[0m \u001b[0;32mNone\u001b[0m\u001b[0;34m,\u001b[0m \u001b[0mgpr\u001b[0m\u001b[0;34m,\u001b[0m \u001b[0;32mNone\u001b[0m\u001b[0;34m\u001b[0m\u001b[0;34m\u001b[0m\u001b[0m\n\u001b[1;32m    597\u001b[0m             \u001b[0;32melse\u001b[0m\u001b[0;34m:\u001b[0m\u001b[0;34m\u001b[0m\u001b[0;34m\u001b[0m\u001b[0m\n\u001b[0;32m--> 598\u001b[0;31m                 \u001b[0;32mraise\u001b[0m \u001b[0mKeyError\u001b[0m\u001b[0;34m(\u001b[0m\u001b[0mgpr\u001b[0m\u001b[0;34m)\u001b[0m\u001b[0;34m\u001b[0m\u001b[0;34m\u001b[0m\u001b[0m\n\u001b[0m\u001b[1;32m    599\u001b[0m         \u001b[0;32melif\u001b[0m \u001b[0misinstance\u001b[0m\u001b[0;34m(\u001b[0m\u001b[0mgpr\u001b[0m\u001b[0;34m,\u001b[0m \u001b[0mGrouper\u001b[0m\u001b[0;34m)\u001b[0m \u001b[0;32mand\u001b[0m \u001b[0mgpr\u001b[0m\u001b[0;34m.\u001b[0m\u001b[0mkey\u001b[0m \u001b[0;32mis\u001b[0m \u001b[0;32mnot\u001b[0m \u001b[0;32mNone\u001b[0m\u001b[0;34m:\u001b[0m\u001b[0;34m\u001b[0m\u001b[0;34m\u001b[0m\u001b[0m\n\u001b[1;32m    600\u001b[0m             \u001b[0;31m# Add key to exclusions\u001b[0m\u001b[0;34m\u001b[0m\u001b[0;34m\u001b[0m\u001b[0;34m\u001b[0m\u001b[0m\n",
      "\u001b[0;31mKeyError\u001b[0m: 'dist_risk'"
     ]
    }
   ],
   "source": [
    "malaria_prob(filter_time(dd, (2020,7,21), (2020,8,1)).groupby(['dist_risk', 'home']))"
   ]
  },
  {
   "cell_type": "code",
   "execution_count": 252,
   "metadata": {
    "collapsed": false
   },
   "outputs": [
    {
     "data": {
      "text/html": [
       "<div>\n",
       "<style scoped>\n",
       "    .dataframe tbody tr th:only-of-type {\n",
       "        vertical-align: middle;\n",
       "    }\n",
       "\n",
       "    .dataframe tbody tr th {\n",
       "        vertical-align: top;\n",
       "    }\n",
       "\n",
       "    .dataframe thead th {\n",
       "        text-align: right;\n",
       "    }\n",
       "</style>\n",
       "<table border=\"1\" class=\"dataframe\">\n",
       "  <thead>\n",
       "    <tr style=\"text-align: right;\">\n",
       "      <th></th>\n",
       "      <th></th>\n",
       "      <th>count</th>\n",
       "    </tr>\n",
       "    <tr>\n",
       "      <th>dist_risk</th>\n",
       "      <th>home</th>\n",
       "      <th></th>\n",
       "    </tr>\n",
       "  </thead>\n",
       "  <tbody>\n",
       "    <tr>\n",
       "      <th rowspan=\"3\" valign=\"top\">high</th>\n",
       "      <th>Kutcha (made of mud, tin, straw)</th>\n",
       "      <td>0.395522</td>\n",
       "    </tr>\n",
       "    <tr>\n",
       "      <th>Pucca (have cement/brick wall and floor</th>\n",
       "      <td>0.297101</td>\n",
       "    </tr>\n",
       "    <tr>\n",
       "      <th>Semi-pucca</th>\n",
       "      <td>0.415842</td>\n",
       "    </tr>\n",
       "    <tr>\n",
       "      <th rowspan=\"3\" valign=\"top\">low</th>\n",
       "      <th>Kutcha (made of mud, tin, straw)</th>\n",
       "      <td>0.125000</td>\n",
       "    </tr>\n",
       "    <tr>\n",
       "      <th>Pucca (have cement/brick wall and floor</th>\n",
       "      <td>0.040541</td>\n",
       "    </tr>\n",
       "    <tr>\n",
       "      <th>Semi-pucca</th>\n",
       "      <td>0.155556</td>\n",
       "    </tr>\n",
       "    <tr>\n",
       "      <th rowspan=\"3\" valign=\"top\">med</th>\n",
       "      <th>Kutcha (made of mud, tin, straw)</th>\n",
       "      <td>0.104294</td>\n",
       "    </tr>\n",
       "    <tr>\n",
       "      <th>Pucca (have cement/brick wall and floor</th>\n",
       "      <td>0.163934</td>\n",
       "    </tr>\n",
       "    <tr>\n",
       "      <th>Semi-pucca</th>\n",
       "      <td>0.218750</td>\n",
       "    </tr>\n",
       "  </tbody>\n",
       "</table>\n",
       "</div>"
      ],
      "text/plain": [
       "                                                      count\n",
       "dist_risk home                                             \n",
       "high      Kutcha (made of mud, tin, straw)         0.395522\n",
       "          Pucca (have cement/brick wall and floor  0.297101\n",
       "          Semi-pucca                               0.415842\n",
       "low       Kutcha (made of mud, tin, straw)         0.125000\n",
       "          Pucca (have cement/brick wall and floor  0.040541\n",
       "          Semi-pucca                               0.155556\n",
       "med       Kutcha (made of mud, tin, straw)         0.104294\n",
       "          Pucca (have cement/brick wall and floor  0.163934\n",
       "          Semi-pucca                               0.218750"
      ]
     },
     "execution_count": 252,
     "metadata": {},
     "output_type": "execute_result"
    }
   ],
   "source": [
    "malaria_prob(filter_time(dd, (2020,8,6), (2020,8,9)).groupby(['dist_risk', 'home']))"
   ]
  },
  {
   "cell_type": "code",
   "execution_count": 246,
   "metadata": {
    "collapsed": false
   },
   "outputs": [
    {
     "data": {
      "text/html": [
       "<div>\n",
       "<style scoped>\n",
       "    .dataframe tbody tr th:only-of-type {\n",
       "        vertical-align: middle;\n",
       "    }\n",
       "\n",
       "    .dataframe tbody tr th {\n",
       "        vertical-align: top;\n",
       "    }\n",
       "\n",
       "    .dataframe thead th {\n",
       "        text-align: right;\n",
       "    }\n",
       "</style>\n",
       "<table border=\"1\" class=\"dataframe\">\n",
       "  <thead>\n",
       "    <tr style=\"text-align: right;\">\n",
       "      <th></th>\n",
       "      <th>count</th>\n",
       "    </tr>\n",
       "    <tr>\n",
       "      <th>dist_risk</th>\n",
       "      <th></th>\n",
       "    </tr>\n",
       "  </thead>\n",
       "  <tbody>\n",
       "    <tr>\n",
       "      <th>high</th>\n",
       "      <td>0.354808</td>\n",
       "    </tr>\n",
       "    <tr>\n",
       "      <th>low</th>\n",
       "      <td>0.107505</td>\n",
       "    </tr>\n",
       "    <tr>\n",
       "      <th>med</th>\n",
       "      <td>0.195302</td>\n",
       "    </tr>\n",
       "  </tbody>\n",
       "</table>\n",
       "</div>"
      ],
      "text/plain": [
       "              count\n",
       "dist_risk          \n",
       "high       0.354808\n",
       "low        0.107505\n",
       "med        0.195302"
      ]
     },
     "execution_count": 246,
     "metadata": {},
     "output_type": "execute_result"
    }
   ],
   "source": [
    "malaria_prob(filter_time(dd, (2020,7,8), (2020,8,1)).groupby(['dist_risk']))"
   ]
  },
  {
   "cell_type": "code",
   "execution_count": 250,
   "metadata": {
    "collapsed": false
   },
   "outputs": [
    {
     "data": {
      "text/html": [
       "<div>\n",
       "<style scoped>\n",
       "    .dataframe tbody tr th:only-of-type {\n",
       "        vertical-align: middle;\n",
       "    }\n",
       "\n",
       "    .dataframe tbody tr th {\n",
       "        vertical-align: top;\n",
       "    }\n",
       "\n",
       "    .dataframe thead th {\n",
       "        text-align: right;\n",
       "    }\n",
       "</style>\n",
       "<table border=\"1\" class=\"dataframe\">\n",
       "  <thead>\n",
       "    <tr style=\"text-align: right;\">\n",
       "      <th></th>\n",
       "      <th>count</th>\n",
       "    </tr>\n",
       "    <tr>\n",
       "      <th>dist_risk</th>\n",
       "      <th></th>\n",
       "    </tr>\n",
       "  </thead>\n",
       "  <tbody>\n",
       "    <tr>\n",
       "      <th>high</th>\n",
       "      <td>0.364611</td>\n",
       "    </tr>\n",
       "    <tr>\n",
       "      <th>low</th>\n",
       "      <td>0.094340</td>\n",
       "    </tr>\n",
       "    <tr>\n",
       "      <th>med</th>\n",
       "      <td>0.162420</td>\n",
       "    </tr>\n",
       "  </tbody>\n",
       "</table>\n",
       "</div>"
      ],
      "text/plain": [
       "              count\n",
       "dist_risk          \n",
       "high       0.364611\n",
       "low        0.094340\n",
       "med        0.162420"
      ]
     },
     "execution_count": 250,
     "metadata": {},
     "output_type": "execute_result"
    }
   ],
   "source": [
    "malaria_prob(filter_time(dd, (2020,8,6), (2020,8,9)).groupby(['dist_risk']))"
   ]
  },
  {
   "cell_type": "code",
   "execution_count": null,
   "metadata": {
    "collapsed": false
   },
   "outputs": [],
   "source": [
    "filter_time(dd, (2020,7,6), (2020,8,1)).malaria.value_counts(normalize=True)"
   ]
  },
  {
   "cell_type": "code",
   "execution_count": 238,
   "metadata": {
    "collapsed": false
   },
   "outputs": [
    {
     "data": {
      "text/plain": [
       "dist_risk  home                                   \n",
       "high       Pucca (have cement/brick wall and floor    0.522115\n",
       "           Kutcha (made of mud, tin, straw)           0.239423\n",
       "           Semi-pucca                                 0.238462\n",
       "low        Pucca (have cement/brick wall and floor    0.629817\n",
       "           Semi-pucca                                 0.240365\n",
       "           Kutcha (made of mud, tin, straw)           0.129817\n",
       "med        Pucca (have cement/brick wall and floor    0.560403\n",
       "           Semi-pucca                                 0.248322\n",
       "           Kutcha (made of mud, tin, straw)           0.191275\n",
       "Name: home, dtype: float64"
      ]
     },
     "execution_count": 238,
     "metadata": {},
     "output_type": "execute_result"
    }
   ],
   "source": [
    "filter_time(dd, (2020,7,6), (2020,8,1)).groupby('dist_risk').home.value_counts(normalize=True)"
   ]
  },
  {
   "cell_type": "code",
   "execution_count": 241,
   "metadata": {
    "collapsed": false
   },
   "outputs": [
    {
     "data": {
      "text/plain": [
       "dist_risk  home                                   \n",
       "high       Pucca (have cement/brick wall and floor    0.363914\n",
       "           Kutcha (made of mud, tin, straw)           0.342508\n",
       "           Semi-pucca                                 0.293578\n",
       "low        Pucca (have cement/brick wall and floor    0.443182\n",
       "           Kutcha (made of mud, tin, straw)           0.295455\n",
       "           Semi-pucca                                 0.261364\n",
       "med        Pucca (have cement/brick wall and floor    0.493827\n",
       "           Semi-pucca                                 0.253968\n",
       "           Kutcha (made of mud, tin, straw)           0.252205\n",
       "Name: home, dtype: float64"
      ]
     },
     "execution_count": 241,
     "metadata": {},
     "output_type": "execute_result"
    }
   ],
   "source": [
    "filter_time(dd, (2020,8,7), (2020,8,9)).groupby('dist_risk').home.value_counts(normalize=True)"
   ]
  },
  {
   "cell_type": "code",
   "execution_count": 243,
   "metadata": {
    "collapsed": false
   },
   "outputs": [
    {
     "data": {
      "text/plain": [
       "False    0.806308\n",
       "True     0.193692\n",
       "Name: malaria, dtype: float64"
      ]
     },
     "execution_count": 243,
     "metadata": {},
     "output_type": "execute_result"
    }
   ],
   "source": [
    "filter_time(dd, (2020,7,6), (2020,8,1)).malaria.value_counts(normalize=True)"
   ]
  },
  {
   "cell_type": "code",
   "execution_count": 245,
   "metadata": {
    "collapsed": false
   },
   "outputs": [
    {
     "data": {
      "text/plain": [
       "False    0.781897\n",
       "True     0.218103\n",
       "Name: malaria, dtype: float64"
      ]
     },
     "execution_count": 245,
     "metadata": {},
     "output_type": "execute_result"
    }
   ],
   "source": [
    "filter_time(dd, (2020,8,6), (2020,8,9)).malaria.value_counts(normalize=True)"
   ]
  },
  {
   "cell_type": "code",
   "execution_count": 198,
   "metadata": {
    "collapsed": false
   },
   "outputs": [
    {
     "data": {
      "text/plain": [
       "dist_risk  home                                   \n",
       "high       Pucca (have cement/brick wall and floor    0.522115\n",
       "           Kutcha (made of mud, tin, straw)           0.239423\n",
       "           Semi-pucca                                 0.238462\n",
       "low        Pucca (have cement/brick wall and floor    0.625341\n",
       "           Semi-pucca                                 0.238667\n",
       "           Kutcha (made of mud, tin, straw)           0.135991\n",
       "med        Pucca (have cement/brick wall and floor    0.571429\n",
       "           Semi-pucca                                 0.249540\n",
       "           Kutcha (made of mud, tin, straw)           0.179031\n",
       "Name: home, dtype: float64"
      ]
     },
     "execution_count": 198,
     "metadata": {},
     "output_type": "execute_result"
    }
   ],
   "source": [
    "filter_time(dd, (2020,7,6), (2020,8,1)).groupby('dist_risk').home.value_counts(normalize=True)"
   ]
  },
  {
   "cell_type": "code",
   "execution_count": 196,
   "metadata": {
    "collapsed": false
   },
   "outputs": [
    {
     "data": {
      "text/plain": [
       "dist_risk  home                                   \n",
       "high       Pucca (have cement/brick wall and floor    0.369973\n",
       "           Kutcha (made of mud, tin, straw)           0.359249\n",
       "           Semi-pucca                                 0.270777\n",
       "low        Pucca (have cement/brick wall and floor    0.475410\n",
       "           Semi-pucca                                 0.268852\n",
       "           Kutcha (made of mud, tin, straw)           0.255738\n",
       "med        Pucca (have cement/brick wall and floor    0.485477\n",
       "           Kutcha (made of mud, tin, straw)           0.259336\n",
       "           Semi-pucca                                 0.255187\n",
       "Name: home, dtype: float64"
      ]
     },
     "execution_count": 196,
     "metadata": {},
     "output_type": "execute_result"
    }
   ],
   "source": [
    "filter_time(dd, (2020,8,6), (2020,8,9)).groupby('dist_risk').home.value_counts(normalize=True)"
   ]
  },
  {
   "cell_type": "code",
   "execution_count": null,
   "metadata": {
    "collapsed": false
   },
   "outputs": [],
   "source": [
    "filter_time(dd, (2020,8,1), (2020,9,1)).pipe(lambda df: df[df.dist_risk == 'low'])"
   ]
  },
  {
   "cell_type": "code",
   "execution_count": 399,
   "metadata": {
    "collapsed": false
   },
   "outputs": [
    {
     "ename": "KeyError",
     "evalue": "'dist_risk'",
     "output_type": "error",
     "traceback": [
      "\u001b[0;31m---------------------------------------------------------------------------\u001b[0m",
      "\u001b[0;31mKeyError\u001b[0m                                  Traceback (most recent call last)",
      "\u001b[0;32m<ipython-input-399-9d327fbf7eaf>\u001b[0m in \u001b[0;36m<module>\u001b[0;34m\u001b[0m\n\u001b[0;32m----> 1\u001b[0;31m \u001b[0mmalaria_prob\u001b[0m\u001b[0;34m(\u001b[0m\u001b[0mdd\u001b[0m\u001b[0;34m.\u001b[0m\u001b[0mgroupby\u001b[0m\u001b[0;34m(\u001b[0m\u001b[0;34m[\u001b[0m\u001b[0;34m'dist_risk'\u001b[0m\u001b[0;34m,\u001b[0m \u001b[0;34m'under_net'\u001b[0m\u001b[0;34m]\u001b[0m\u001b[0;34m)\u001b[0m\u001b[0;34m)\u001b[0m\u001b[0;34m\u001b[0m\u001b[0;34m\u001b[0m\u001b[0m\n\u001b[0m",
      "\u001b[0;32m~/.local/lib/python3.8/site-packages/pandas/core/frame.py\u001b[0m in \u001b[0;36mgroupby\u001b[0;34m(self, by, axis, level, as_index, sort, group_keys, squeeze, observed)\u001b[0m\n\u001b[1;32m   5799\u001b[0m         \u001b[0maxis\u001b[0m \u001b[0;34m=\u001b[0m \u001b[0mself\u001b[0m\u001b[0;34m.\u001b[0m\u001b[0m_get_axis_number\u001b[0m\u001b[0;34m(\u001b[0m\u001b[0maxis\u001b[0m\u001b[0;34m)\u001b[0m\u001b[0;34m\u001b[0m\u001b[0;34m\u001b[0m\u001b[0m\n\u001b[1;32m   5800\u001b[0m \u001b[0;34m\u001b[0m\u001b[0m\n\u001b[0;32m-> 5801\u001b[0;31m         return groupby_generic.DataFrameGroupBy(\n\u001b[0m\u001b[1;32m   5802\u001b[0m             \u001b[0mobj\u001b[0m\u001b[0;34m=\u001b[0m\u001b[0mself\u001b[0m\u001b[0;34m,\u001b[0m\u001b[0;34m\u001b[0m\u001b[0;34m\u001b[0m\u001b[0m\n\u001b[1;32m   5803\u001b[0m             \u001b[0mkeys\u001b[0m\u001b[0;34m=\u001b[0m\u001b[0mby\u001b[0m\u001b[0;34m,\u001b[0m\u001b[0;34m\u001b[0m\u001b[0;34m\u001b[0m\u001b[0m\n",
      "\u001b[0;32m~/.local/lib/python3.8/site-packages/pandas/core/groupby/groupby.py\u001b[0m in \u001b[0;36m__init__\u001b[0;34m(self, obj, keys, axis, level, grouper, exclusions, selection, as_index, sort, group_keys, squeeze, observed, mutated)\u001b[0m\n\u001b[1;32m    400\u001b[0m             \u001b[0;32mfrom\u001b[0m \u001b[0mpandas\u001b[0m\u001b[0;34m.\u001b[0m\u001b[0mcore\u001b[0m\u001b[0;34m.\u001b[0m\u001b[0mgroupby\u001b[0m\u001b[0;34m.\u001b[0m\u001b[0mgrouper\u001b[0m \u001b[0;32mimport\u001b[0m \u001b[0mget_grouper\u001b[0m\u001b[0;34m\u001b[0m\u001b[0;34m\u001b[0m\u001b[0m\n\u001b[1;32m    401\u001b[0m \u001b[0;34m\u001b[0m\u001b[0m\n\u001b[0;32m--> 402\u001b[0;31m             grouper, exclusions, obj = get_grouper(\n\u001b[0m\u001b[1;32m    403\u001b[0m                 \u001b[0mobj\u001b[0m\u001b[0;34m,\u001b[0m\u001b[0;34m\u001b[0m\u001b[0;34m\u001b[0m\u001b[0m\n\u001b[1;32m    404\u001b[0m                 \u001b[0mkeys\u001b[0m\u001b[0;34m,\u001b[0m\u001b[0;34m\u001b[0m\u001b[0;34m\u001b[0m\u001b[0m\n",
      "\u001b[0;32m~/.local/lib/python3.8/site-packages/pandas/core/groupby/grouper.py\u001b[0m in \u001b[0;36mget_grouper\u001b[0;34m(obj, key, axis, level, sort, observed, mutated, validate)\u001b[0m\n\u001b[1;32m    596\u001b[0m                 \u001b[0min_axis\u001b[0m\u001b[0;34m,\u001b[0m \u001b[0mname\u001b[0m\u001b[0;34m,\u001b[0m \u001b[0mlevel\u001b[0m\u001b[0;34m,\u001b[0m \u001b[0mgpr\u001b[0m \u001b[0;34m=\u001b[0m \u001b[0;32mFalse\u001b[0m\u001b[0;34m,\u001b[0m \u001b[0;32mNone\u001b[0m\u001b[0;34m,\u001b[0m \u001b[0mgpr\u001b[0m\u001b[0;34m,\u001b[0m \u001b[0;32mNone\u001b[0m\u001b[0;34m\u001b[0m\u001b[0;34m\u001b[0m\u001b[0m\n\u001b[1;32m    597\u001b[0m             \u001b[0;32melse\u001b[0m\u001b[0;34m:\u001b[0m\u001b[0;34m\u001b[0m\u001b[0;34m\u001b[0m\u001b[0m\n\u001b[0;32m--> 598\u001b[0;31m                 \u001b[0;32mraise\u001b[0m \u001b[0mKeyError\u001b[0m\u001b[0;34m(\u001b[0m\u001b[0mgpr\u001b[0m\u001b[0;34m)\u001b[0m\u001b[0;34m\u001b[0m\u001b[0;34m\u001b[0m\u001b[0m\n\u001b[0m\u001b[1;32m    599\u001b[0m         \u001b[0;32melif\u001b[0m \u001b[0misinstance\u001b[0m\u001b[0;34m(\u001b[0m\u001b[0mgpr\u001b[0m\u001b[0;34m,\u001b[0m \u001b[0mGrouper\u001b[0m\u001b[0;34m)\u001b[0m \u001b[0;32mand\u001b[0m \u001b[0mgpr\u001b[0m\u001b[0;34m.\u001b[0m\u001b[0mkey\u001b[0m \u001b[0;32mis\u001b[0m \u001b[0;32mnot\u001b[0m \u001b[0;32mNone\u001b[0m\u001b[0;34m:\u001b[0m\u001b[0;34m\u001b[0m\u001b[0;34m\u001b[0m\u001b[0m\n\u001b[1;32m    600\u001b[0m             \u001b[0;31m# Add key to exclusions\u001b[0m\u001b[0;34m\u001b[0m\u001b[0;34m\u001b[0m\u001b[0;34m\u001b[0m\u001b[0m\n",
      "\u001b[0;31mKeyError\u001b[0m: 'dist_risk'"
     ]
    }
   ],
   "source": [
    "malaria_prob(dd.groupby(['dist_risk', 'under_net']))"
   ]
  },
  {
   "cell_type": "code",
   "execution_count": 398,
   "metadata": {
    "collapsed": false
   },
   "outputs": [
    {
     "data": {
      "text/html": [
       "<div>\n",
       "<style scoped>\n",
       "    .dataframe tbody tr th:only-of-type {\n",
       "        vertical-align: middle;\n",
       "    }\n",
       "\n",
       "    .dataframe tbody tr th {\n",
       "        vertical-align: top;\n",
       "    }\n",
       "\n",
       "    .dataframe thead th {\n",
       "        text-align: right;\n",
       "    }\n",
       "</style>\n",
       "<table border=\"1\" class=\"dataframe\">\n",
       "  <thead>\n",
       "    <tr style=\"text-align: right;\">\n",
       "      <th></th>\n",
       "      <th>count</th>\n",
       "    </tr>\n",
       "    <tr>\n",
       "      <th>under_net</th>\n",
       "      <th></th>\n",
       "    </tr>\n",
       "  </thead>\n",
       "  <tbody>\n",
       "    <tr>\n",
       "      <th>False</th>\n",
       "      <td>0.190691</td>\n",
       "    </tr>\n",
       "    <tr>\n",
       "      <th>True</th>\n",
       "      <td>0.208074</td>\n",
       "    </tr>\n",
       "  </tbody>\n",
       "</table>\n",
       "</div>"
      ],
      "text/plain": [
       "              count\n",
       "under_net          \n",
       "False      0.190691\n",
       "True       0.208074"
      ]
     },
     "execution_count": 398,
     "metadata": {},
     "output_type": "execute_result"
    }
   ],
   "source": [
    "malaria_prob(dd.groupby(['under_net']))"
   ]
  },
  {
   "cell_type": "code",
   "execution_count": 403,
   "metadata": {
    "collapsed": false
   },
   "outputs": [
    {
     "data": {
      "text/html": [
       "<div>\n",
       "<style scoped>\n",
       "    .dataframe tbody tr th:only-of-type {\n",
       "        vertical-align: middle;\n",
       "    }\n",
       "\n",
       "    .dataframe tbody tr th {\n",
       "        vertical-align: top;\n",
       "    }\n",
       "\n",
       "    .dataframe thead th {\n",
       "        text-align: right;\n",
       "    }\n",
       "</style>\n",
       "<table border=\"1\" class=\"dataframe\">\n",
       "  <thead>\n",
       "    <tr style=\"text-align: right;\">\n",
       "      <th></th>\n",
       "      <th></th>\n",
       "      <th>count</th>\n",
       "    </tr>\n",
       "    <tr>\n",
       "      <th>dist_risk</th>\n",
       "      <th>home</th>\n",
       "      <th></th>\n",
       "    </tr>\n",
       "  </thead>\n",
       "  <tbody>\n",
       "    <tr>\n",
       "      <th rowspan=\"3\" valign=\"top\">high</th>\n",
       "      <th>Kutcha (made of mud, tin, straw)</th>\n",
       "      <td>0.404711</td>\n",
       "    </tr>\n",
       "    <tr>\n",
       "      <th>Pucca (have cement/brick wall and floor</th>\n",
       "      <td>0.308943</td>\n",
       "    </tr>\n",
       "    <tr>\n",
       "      <th>Semi-pucca</th>\n",
       "      <td>0.363636</td>\n",
       "    </tr>\n",
       "    <tr>\n",
       "      <th rowspan=\"3\" valign=\"top\">low</th>\n",
       "      <th>Kutcha (made of mud, tin, straw)</th>\n",
       "      <td>0.129747</td>\n",
       "    </tr>\n",
       "    <tr>\n",
       "      <th>Pucca (have cement/brick wall and floor</th>\n",
       "      <td>0.086731</td>\n",
       "    </tr>\n",
       "    <tr>\n",
       "      <th>Semi-pucca</th>\n",
       "      <td>0.140481</td>\n",
       "    </tr>\n",
       "    <tr>\n",
       "      <th rowspan=\"3\" valign=\"top\">med</th>\n",
       "      <th>Kutcha (made of mud, tin, straw)</th>\n",
       "      <td>0.164969</td>\n",
       "    </tr>\n",
       "    <tr>\n",
       "      <th>Pucca (have cement/brick wall and floor</th>\n",
       "      <td>0.171990</td>\n",
       "    </tr>\n",
       "    <tr>\n",
       "      <th>Semi-pucca</th>\n",
       "      <td>0.202055</td>\n",
       "    </tr>\n",
       "  </tbody>\n",
       "</table>\n",
       "</div>"
      ],
      "text/plain": [
       "                                                      count\n",
       "dist_risk home                                             \n",
       "high      Kutcha (made of mud, tin, straw)         0.404711\n",
       "          Pucca (have cement/brick wall and floor  0.308943\n",
       "          Semi-pucca                               0.363636\n",
       "low       Kutcha (made of mud, tin, straw)         0.129747\n",
       "          Pucca (have cement/brick wall and floor  0.086731\n",
       "          Semi-pucca                               0.140481\n",
       "med       Kutcha (made of mud, tin, straw)         0.164969\n",
       "          Pucca (have cement/brick wall and floor  0.171990\n",
       "          Semi-pucca                               0.202055"
      ]
     },
     "execution_count": 403,
     "metadata": {},
     "output_type": "execute_result"
    }
   ],
   "source": [
    "malaria_prob(dd.groupby(['dist_risk', 'home']))"
   ]
  },
  {
   "cell_type": "code",
   "execution_count": null,
   "metadata": {
    "collapsed": false
   },
   "outputs": [],
   "source": [
    "malaria_prob(dd.groupby(['owns_net']))"
   ]
  },
  {
   "cell_type": "code",
   "execution_count": 409,
   "metadata": {
    "collapsed": false
   },
   "outputs": [
    {
     "data": {
      "text/plain": [
       "Yes           4597\n",
       "No            1580\n",
       "Don't know      71\n",
       "Name: owns_net, dtype: int64"
      ]
     },
     "execution_count": 409,
     "metadata": {},
     "output_type": "execute_result"
    }
   ],
   "source": [
    "dd.owns_net.value_counts()"
   ]
  },
  {
   "cell_type": "code",
   "execution_count": 418,
   "metadata": {
    "collapsed": false
   },
   "outputs": [
    {
     "data": {
      "text/plain": [
       "has_ac      owns_net  \n",
       "Don't know  Yes            265\n",
       "            No              71\n",
       "            Don't know      32\n",
       "No          Yes           3903\n",
       "            No            1288\n",
       "            Don't know      31\n",
       "Yes         Yes            429\n",
       "            No             221\n",
       "            Don't know       8\n",
       "Name: owns_net, dtype: int64"
      ]
     },
     "execution_count": 418,
     "metadata": {},
     "output_type": "execute_result"
    }
   ],
   "source": [
    "dd.groupby(['has_ac']).owns_net.value_counts()"
   ]
  },
  {
   "cell_type": "code",
   "execution_count": 431,
   "metadata": {
    "collapsed": false
   },
   "outputs": [
    {
     "data": {
      "text/plain": [
       "dist_risk  home                                   \n",
       "high       Pucca (have cement/brick wall and floor    0.493127\n",
       "           Kutcha (made of mud, tin, straw)           0.267468\n",
       "           Semi-pucca                                 0.239404\n",
       "low        Pucca (have cement/brick wall and floor    0.611514\n",
       "           Semi-pucca                                 0.245240\n",
       "           Kutcha (made of mud, tin, straw)           0.143246\n",
       "med        Pucca (have cement/brick wall and floor    0.531794\n",
       "           Semi-pucca                                 0.254355\n",
       "           Kutcha (made of mud, tin, straw)           0.213850\n",
       "Name: home, dtype: float64"
      ]
     },
     "execution_count": 431,
     "metadata": {},
     "output_type": "execute_result"
    }
   ],
   "source": [
    "dd.groupby(['dist_risk']).home.value_counts(1)"
   ]
  },
  {
   "cell_type": "code",
   "execution_count": 430,
   "metadata": {
    "collapsed": false
   },
   "outputs": [
    {
     "data": {
      "text/plain": [
       "dist_risk  malaria  under_net\n",
       "high       False    True         0.561896\n",
       "                    False        0.438104\n",
       "           True     True         0.584843\n",
       "                    False        0.415157\n",
       "low        False    True         0.508621\n",
       "                    False        0.491379\n",
       "           True     True         0.508547\n",
       "                    False        0.491453\n",
       "med        False    True         0.543190\n",
       "                    False        0.456810\n",
       "           True     True         0.555012\n",
       "                    False        0.444988\n",
       "Name: under_net, dtype: float64"
      ]
     },
     "execution_count": 430,
     "metadata": {},
     "output_type": "execute_result"
    }
   ],
   "source": [
    "dd.groupby(['dist_risk', 'malaria']).under_net.value_counts(1)"
   ]
  },
  {
   "cell_type": "code",
   "execution_count": 405,
   "metadata": {
    "collapsed": false
   },
   "outputs": [
    {
     "data": {
      "text/html": [
       "<div>\n",
       "<style scoped>\n",
       "    .dataframe tbody tr th:only-of-type {\n",
       "        vertical-align: middle;\n",
       "    }\n",
       "\n",
       "    .dataframe tbody tr th {\n",
       "        vertical-align: top;\n",
       "    }\n",
       "\n",
       "    .dataframe thead th {\n",
       "        text-align: right;\n",
       "    }\n",
       "</style>\n",
       "<table border=\"1\" class=\"dataframe\">\n",
       "  <thead>\n",
       "    <tr style=\"text-align: right;\">\n",
       "      <th></th>\n",
       "      <th></th>\n",
       "      <th>count</th>\n",
       "    </tr>\n",
       "    <tr>\n",
       "      <th>dist_risk</th>\n",
       "      <th>under_net</th>\n",
       "      <th></th>\n",
       "    </tr>\n",
       "  </thead>\n",
       "  <tbody>\n",
       "    <tr>\n",
       "      <th rowspan=\"2\" valign=\"top\">high</th>\n",
       "      <th>False</th>\n",
       "      <td>0.335553</td>\n",
       "    </tr>\n",
       "    <tr>\n",
       "      <th>True</th>\n",
       "      <td>0.356784</td>\n",
       "    </tr>\n",
       "    <tr>\n",
       "      <th rowspan=\"2\" valign=\"top\">low</th>\n",
       "      <th>False</th>\n",
       "      <td>0.106089</td>\n",
       "    </tr>\n",
       "    <tr>\n",
       "      <th>True</th>\n",
       "      <td>0.106061</td>\n",
       "    </tr>\n",
       "    <tr>\n",
       "      <th rowspan=\"2\" valign=\"top\">med</th>\n",
       "      <th>False</th>\n",
       "      <td>0.174330</td>\n",
       "    </tr>\n",
       "    <tr>\n",
       "      <th>True</th>\n",
       "      <td>0.181310</td>\n",
       "    </tr>\n",
       "  </tbody>\n",
       "</table>\n",
       "</div>"
      ],
      "text/plain": [
       "                        count\n",
       "dist_risk under_net          \n",
       "high      False      0.335553\n",
       "          True       0.356784\n",
       "low       False      0.106089\n",
       "          True       0.106061\n",
       "med       False      0.174330\n",
       "          True       0.181310"
      ]
     },
     "execution_count": 405,
     "metadata": {},
     "output_type": "execute_result"
    }
   ],
   "source": [
    "malaria_prob(dd.groupby(['dist_risk', 'under_net']))"
   ]
  },
  {
   "cell_type": "code",
   "execution_count": 428,
   "metadata": {
    "collapsed": false
   },
   "outputs": [
    {
     "data": {
      "text/plain": [
       "home                                     has_ac      under_net\n",
       "Kutcha (made of mud, tin, straw)         Don't know  True         0.553957\n",
       "                                                     False        0.446043\n",
       "                                         No          True         0.593315\n",
       "                                                     False        0.406685\n",
       "                                         Yes         True         0.655172\n",
       "                                                     False        0.344828\n",
       "Pucca (have cement/brick wall and floor  Don't know  True         0.538462\n",
       "                                                     False        0.461538\n",
       "                                         No          True         0.519481\n",
       "                                                     False        0.480519\n",
       "                                         Yes         False        0.622093\n",
       "                                                     True         0.377907\n",
       "Semi-pucca                               Don't know  False        0.511628\n",
       "                                                     True         0.488372\n",
       "                                         No          True         0.595776\n",
       "                                                     False        0.404224\n",
       "                                         Yes         True         0.511905\n",
       "                                                     False        0.488095\n",
       "Name: under_net, dtype: float64"
      ]
     },
     "execution_count": 428,
     "metadata": {},
     "output_type": "execute_result"
    }
   ],
   "source": [
    "dd.groupby(['home', 'has_ac']).under_net.value_counts(1)"
   ]
  },
  {
   "cell_type": "code",
   "execution_count": 426,
   "metadata": {
    "collapsed": false
   },
   "outputs": [
    {
     "data": {
      "text/plain": [
       "home                                     owns_net  \n",
       "Kutcha (made of mud, tin, straw)         Yes           0.737049\n",
       "                                         No            0.247253\n",
       "                                         Don't know    0.015699\n",
       "Pucca (have cement/brick wall and floor  Yes           0.718449\n",
       "                                         No            0.270184\n",
       "                                         Don't know    0.011367\n",
       "Semi-pucca                               Yes           0.773169\n",
       "                                         No            0.219054\n",
       "                                         Don't know    0.007777\n",
       "Name: owns_net, dtype: float64"
      ]
     },
     "execution_count": 426,
     "metadata": {},
     "output_type": "execute_result"
    }
   ],
   "source": [
    "dd.groupby(['home']).owns_net.value_counts(1)"
   ]
  },
  {
   "cell_type": "code",
   "execution_count": 422,
   "metadata": {
    "collapsed": false
   },
   "outputs": [
    {
     "data": {
      "text/html": [
       "<div>\n",
       "<style scoped>\n",
       "    .dataframe tbody tr th:only-of-type {\n",
       "        vertical-align: middle;\n",
       "    }\n",
       "\n",
       "    .dataframe tbody tr th {\n",
       "        vertical-align: top;\n",
       "    }\n",
       "\n",
       "    .dataframe thead th {\n",
       "        text-align: right;\n",
       "    }\n",
       "</style>\n",
       "<table border=\"1\" class=\"dataframe\">\n",
       "  <thead>\n",
       "    <tr style=\"text-align: right;\">\n",
       "      <th></th>\n",
       "      <th></th>\n",
       "      <th></th>\n",
       "      <th>count</th>\n",
       "    </tr>\n",
       "    <tr>\n",
       "      <th>home</th>\n",
       "      <th>dist_risk</th>\n",
       "      <th>under_net</th>\n",
       "      <th></th>\n",
       "    </tr>\n",
       "  </thead>\n",
       "  <tbody>\n",
       "    <tr>\n",
       "      <th rowspan=\"6\" valign=\"top\">Kutcha (made of mud, tin, straw)</th>\n",
       "      <th rowspan=\"2\" valign=\"top\">high</th>\n",
       "      <th>False</th>\n",
       "      <td>0.369565</td>\n",
       "    </tr>\n",
       "    <tr>\n",
       "      <th>True</th>\n",
       "      <td>0.427562</td>\n",
       "    </tr>\n",
       "    <tr>\n",
       "      <th rowspan=\"2\" valign=\"top\">low</th>\n",
       "      <th>False</th>\n",
       "      <td>0.103704</td>\n",
       "    </tr>\n",
       "    <tr>\n",
       "      <th>True</th>\n",
       "      <td>0.149171</td>\n",
       "    </tr>\n",
       "    <tr>\n",
       "      <th rowspan=\"2\" valign=\"top\">med</th>\n",
       "      <th>False</th>\n",
       "      <td>0.154229</td>\n",
       "    </tr>\n",
       "    <tr>\n",
       "      <th>True</th>\n",
       "      <td>0.172414</td>\n",
       "    </tr>\n",
       "    <tr>\n",
       "      <th rowspan=\"6\" valign=\"top\">Pucca (have cement/brick wall and floor</th>\n",
       "      <th rowspan=\"2\" valign=\"top\">high</th>\n",
       "      <th>False</th>\n",
       "      <td>0.300771</td>\n",
       "    </tr>\n",
       "    <tr>\n",
       "      <th>True</th>\n",
       "      <td>0.315678</td>\n",
       "    </tr>\n",
       "    <tr>\n",
       "      <th rowspan=\"2\" valign=\"top\">low</th>\n",
       "      <th>False</th>\n",
       "      <td>0.100407</td>\n",
       "    </tr>\n",
       "    <tr>\n",
       "      <th>True</th>\n",
       "      <td>0.070261</td>\n",
       "    </tr>\n",
       "    <tr>\n",
       "      <th rowspan=\"2\" valign=\"top\">med</th>\n",
       "      <th>False</th>\n",
       "      <td>0.158516</td>\n",
       "    </tr>\n",
       "    <tr>\n",
       "      <th>True</th>\n",
       "      <td>0.184713</td>\n",
       "    </tr>\n",
       "    <tr>\n",
       "      <th rowspan=\"6\" valign=\"top\">Semi-pucca</th>\n",
       "      <th rowspan=\"2\" valign=\"top\">high</th>\n",
       "      <th>False</th>\n",
       "      <td>0.376404</td>\n",
       "    </tr>\n",
       "    <tr>\n",
       "      <th>True</th>\n",
       "      <td>0.354167</td>\n",
       "    </tr>\n",
       "    <tr>\n",
       "      <th rowspan=\"2\" valign=\"top\">low</th>\n",
       "      <th>False</th>\n",
       "      <td>0.127358</td>\n",
       "    </tr>\n",
       "    <tr>\n",
       "      <th>True</th>\n",
       "      <td>0.148936</td>\n",
       "    </tr>\n",
       "    <tr>\n",
       "      <th rowspan=\"2\" valign=\"top\">med</th>\n",
       "      <th>False</th>\n",
       "      <td>0.228000</td>\n",
       "    </tr>\n",
       "    <tr>\n",
       "      <th>True</th>\n",
       "      <td>0.182635</td>\n",
       "    </tr>\n",
       "  </tbody>\n",
       "</table>\n",
       "</div>"
      ],
      "text/plain": [
       "                                                                count\n",
       "home                                    dist_risk under_net          \n",
       "Kutcha (made of mud, tin, straw)        high      False      0.369565\n",
       "                                                  True       0.427562\n",
       "                                        low       False      0.103704\n",
       "                                                  True       0.149171\n",
       "                                        med       False      0.154229\n",
       "                                                  True       0.172414\n",
       "Pucca (have cement/brick wall and floor high      False      0.300771\n",
       "                                                  True       0.315678\n",
       "                                        low       False      0.100407\n",
       "                                                  True       0.070261\n",
       "                                        med       False      0.158516\n",
       "                                                  True       0.184713\n",
       "Semi-pucca                              high      False      0.376404\n",
       "                                                  True       0.354167\n",
       "                                        low       False      0.127358\n",
       "                                                  True       0.148936\n",
       "                                        med       False      0.228000\n",
       "                                                  True       0.182635"
      ]
     },
     "execution_count": 422,
     "metadata": {},
     "output_type": "execute_result"
    }
   ],
   "source": [
    "malaria_prob(dd.groupby(['home', 'dist_risk', 'under_net']))"
   ]
  },
  {
   "cell_type": "code",
   "execution_count": 423,
   "metadata": {
    "collapsed": false
   },
   "outputs": [
    {
     "data": {
      "text/html": [
       "<div>\n",
       "<style scoped>\n",
       "    .dataframe tbody tr th:only-of-type {\n",
       "        vertical-align: middle;\n",
       "    }\n",
       "\n",
       "    .dataframe tbody tr th {\n",
       "        vertical-align: top;\n",
       "    }\n",
       "\n",
       "    .dataframe thead th {\n",
       "        text-align: right;\n",
       "    }\n",
       "</style>\n",
       "<table border=\"1\" class=\"dataframe\">\n",
       "  <thead>\n",
       "    <tr style=\"text-align: right;\">\n",
       "      <th></th>\n",
       "      <th></th>\n",
       "      <th></th>\n",
       "      <th>count</th>\n",
       "    </tr>\n",
       "    <tr>\n",
       "      <th>state</th>\n",
       "      <th>dist_risk</th>\n",
       "      <th>under_net</th>\n",
       "      <th></th>\n",
       "    </tr>\n",
       "  </thead>\n",
       "  <tbody>\n",
       "    <tr>\n",
       "      <th rowspan=\"6\" valign=\"top\">Chhatisgarh</th>\n",
       "      <th rowspan=\"2\" valign=\"top\">high</th>\n",
       "      <th>False</th>\n",
       "      <td>0.431373</td>\n",
       "    </tr>\n",
       "    <tr>\n",
       "      <th>True</th>\n",
       "      <td>0.283186</td>\n",
       "    </tr>\n",
       "    <tr>\n",
       "      <th rowspan=\"2\" valign=\"top\">low</th>\n",
       "      <th>False</th>\n",
       "      <td>0.100000</td>\n",
       "    </tr>\n",
       "    <tr>\n",
       "      <th>True</th>\n",
       "      <td>0.117647</td>\n",
       "    </tr>\n",
       "    <tr>\n",
       "      <th rowspan=\"2\" valign=\"top\">med</th>\n",
       "      <th>False</th>\n",
       "      <td>0.127273</td>\n",
       "    </tr>\n",
       "    <tr>\n",
       "      <th>True</th>\n",
       "      <td>0.192090</td>\n",
       "    </tr>\n",
       "    <tr>\n",
       "      <th rowspan=\"6\" valign=\"top\">Jharkhand</th>\n",
       "      <th rowspan=\"2\" valign=\"top\">high</th>\n",
       "      <th>False</th>\n",
       "      <td>0.425743</td>\n",
       "    </tr>\n",
       "    <tr>\n",
       "      <th>True</th>\n",
       "      <td>0.395639</td>\n",
       "    </tr>\n",
       "    <tr>\n",
       "      <th rowspan=\"2\" valign=\"top\">low</th>\n",
       "      <th>False</th>\n",
       "      <td>0.092593</td>\n",
       "    </tr>\n",
       "    <tr>\n",
       "      <th>True</th>\n",
       "      <td>0.124138</td>\n",
       "    </tr>\n",
       "    <tr>\n",
       "      <th rowspan=\"2\" valign=\"top\">med</th>\n",
       "      <th>False</th>\n",
       "      <td>0.169014</td>\n",
       "    </tr>\n",
       "    <tr>\n",
       "      <th>True</th>\n",
       "      <td>0.157143</td>\n",
       "    </tr>\n",
       "    <tr>\n",
       "      <th rowspan=\"6\" valign=\"top\">Uttar Pradesh</th>\n",
       "      <th rowspan=\"2\" valign=\"top\">high</th>\n",
       "      <th>False</th>\n",
       "      <td>0.312187</td>\n",
       "    </tr>\n",
       "    <tr>\n",
       "      <th>True</th>\n",
       "      <td>0.349376</td>\n",
       "    </tr>\n",
       "    <tr>\n",
       "      <th rowspan=\"2\" valign=\"top\">low</th>\n",
       "      <th>False</th>\n",
       "      <td>0.107660</td>\n",
       "    </tr>\n",
       "    <tr>\n",
       "      <th>True</th>\n",
       "      <td>0.103125</td>\n",
       "    </tr>\n",
       "    <tr>\n",
       "      <th rowspan=\"2\" valign=\"top\">med</th>\n",
       "      <th>False</th>\n",
       "      <td>0.184406</td>\n",
       "    </tr>\n",
       "    <tr>\n",
       "      <th>True</th>\n",
       "      <td>0.182888</td>\n",
       "    </tr>\n",
       "  </tbody>\n",
       "</table>\n",
       "</div>"
      ],
      "text/plain": [
       "                                      count\n",
       "state         dist_risk under_net          \n",
       "Chhatisgarh   high      False      0.431373\n",
       "                        True       0.283186\n",
       "              low       False      0.100000\n",
       "                        True       0.117647\n",
       "              med       False      0.127273\n",
       "                        True       0.192090\n",
       "Jharkhand     high      False      0.425743\n",
       "                        True       0.395639\n",
       "              low       False      0.092593\n",
       "                        True       0.124138\n",
       "              med       False      0.169014\n",
       "                        True       0.157143\n",
       "Uttar Pradesh high      False      0.312187\n",
       "                        True       0.349376\n",
       "              low       False      0.107660\n",
       "                        True       0.103125\n",
       "              med       False      0.184406\n",
       "                        True       0.182888"
      ]
     },
     "execution_count": 423,
     "metadata": {},
     "output_type": "execute_result"
    }
   ],
   "source": [
    "malaria_prob(dd.groupby(['state', 'dist_risk', 'under_net']))"
   ]
  },
  {
   "cell_type": "code",
   "execution_count": null,
   "metadata": {
    "collapsed": false
   },
   "outputs": [],
   "source": []
  },
  {
   "cell_type": "code",
   "execution_count": null,
   "metadata": {
    "collapsed": false
   },
   "outputs": [],
   "source": [
    "X = dd[['education', 'home', 'dist_medical', 'has_ac', 'owns_net']]\n",
    "\n",
    "\n",
    "for col in X.columns:\n",
    "    X[col] = X[col].astype('category')\n",
    "    X[col] = X[col].cat.codes"
   ]
  },
  {
   "cell_type": "code",
   "execution_count": null,
   "metadata": {
    "collapsed": false
   },
   "outputs": [],
   "source": [
    "X"
   ]
  },
  {
   "cell_type": "code",
   "execution_count": 423,
   "metadata": {
    "collapsed": false
   },
   "outputs": [
    {
     "data": {
      "text/plain": [
       "(4474, 5)"
      ]
     },
     "execution_count": 423,
     "metadata": {},
     "output_type": "execute_result"
    }
   ],
   "source": [
    "X.shape"
   ]
  },
  {
   "cell_type": "code",
   "execution_count": 425,
   "metadata": {
    "collapsed": false
   },
   "outputs": [],
   "source": [
    "y = dd['malaria']"
   ]
  },
  {
   "cell_type": "code",
   "execution_count": null,
   "metadata": {
    "collapsed": false
   },
   "outputs": [],
   "source": [
    "y.shape"
   ]
  },
  {
   "cell_type": "code",
   "execution_count": 542,
   "metadata": {
    "collapsed": false
   },
   "outputs": [
    {
     "data": {
      "text/plain": [
       "DecisionTreeClassifier(ccp_alpha=0.0, class_weight=None, criterion='gini',\n",
       "                       max_depth=None, max_features=None, max_leaf_nodes=None,\n",
       "                       min_impurity_decrease=0.0, min_impurity_split=None,\n",
       "                       min_samples_leaf=1, min_samples_split=2,\n",
       "                       min_weight_fraction_leaf=0.0, presort='deprecated',\n",
       "                       random_state=None, splitter='best')"
      ]
     },
     "execution_count": 542,
     "metadata": {},
     "output_type": "execute_result"
    }
   ],
   "source": [
    "from sklearn.naive_bayes import CategoricalNB\n",
    "from sklearn.tree import DecisionTreeClassifier\n",
    "\n",
    "model = DecisionTreeClassifier()\n",
    "\n",
    "model.fit(X[:2000], y[:2000])"
   ]
  },
  {
   "cell_type": "code",
   "execution_count": null,
   "metadata": {
    "collapsed": false
   },
   "outputs": [],
   "source": [
    "\n",
    "from sklearn.tree import plot_tree\n",
    "\n",
    "plot_tree(model)"
   ]
  },
  {
   "cell_type": "code",
   "execution_count": 300,
   "metadata": {
    "collapsed": false
   },
   "outputs": [
    {
     "data": {
      "text/plain": [
       "No            0.636550\n",
       "Yes           0.268994\n",
       "Don’t know    0.094456\n",
       "Name: malaria_incidence, dtype: float64"
      ]
     },
     "execution_count": 300,
     "metadata": {},
     "output_type": "execute_result"
    }
   ],
   "source": [
    "dd[(dd.owns_net == 'Yes') & \n",
    "   (dd.has_ac == 'No') & \n",
    "   (dd.home == 'Kutcha (made of mud, tin, straw)')] \\\n",
    "   .malaria_incidence.value_counts(normalize=True)"
   ]
  },
  {
   "cell_type": "code",
   "execution_count": null,
   "metadata": {
    "collapsed": false
   },
   "outputs": [],
   "source": [
    "dd"
   ]
  },
  {
   "cell_type": "code",
   "execution_count": 330,
   "metadata": {
    "collapsed": false
   },
   "outputs": [
    {
     "data": {
      "text/plain": [
       "No            0.846106\n",
       "Yes           0.113693\n",
       "Don't know    0.040201\n",
       "Name: has_ac, dtype: float64"
      ]
     },
     "execution_count": 330,
     "metadata": {},
     "output_type": "execute_result"
    }
   ],
   "source": [
    "def times(df, mi, ma):\n",
    "    return df[(df.timestamp > mi) & (df.timestamp < ma)]    \n",
    "\n",
    "\n",
    "times(dd, datetime(2020,7,22,tzinfo=timezone.utc), datetime(2020,7,24,tzinfo=timezone.utc)) \\\n",
    "    ['has_ac'] \\\n",
    "    .value_counts(normalize=True)"
   ]
  },
  {
   "cell_type": "code",
   "execution_count": 331,
   "metadata": {
    "collapsed": false
   },
   "outputs": [
    {
     "data": {
      "text/plain": [
       "No            0.797244\n",
       "Yes           0.147638\n",
       "Don't know    0.055118\n",
       "Name: has_ac, dtype: float64"
      ]
     },
     "execution_count": 331,
     "metadata": {},
     "output_type": "execute_result"
    }
   ],
   "source": [
    "times(dd, datetime(2020,7,24,tzinfo=timezone.utc), datetime(2020,7,25,tzinfo=timezone.utc)) \\\n",
    "    ['has_ac'] \\\n",
    "    .value_counts(normalize=True)"
   ]
  },
  {
   "cell_type": "code",
   "execution_count": 332,
   "metadata": {
    "collapsed": false
   },
   "outputs": [
    {
     "data": {
      "text/plain": [
       "No            0.862589\n",
       "Yes           0.090426\n",
       "Don't know    0.046986\n",
       "Name: has_ac, dtype: float64"
      ]
     },
     "execution_count": 332,
     "metadata": {},
     "output_type": "execute_result"
    }
   ],
   "source": [
    "times(dd, datetime(2020,7,25,tzinfo=timezone.utc), datetime(2020,7,26,tzinfo=timezone.utc)) \\\n",
    "    ['has_ac'] \\\n",
    "    .value_counts(normalize=True)"
   ]
  },
  {
   "cell_type": "code",
   "execution_count": 328,
   "metadata": {
    "collapsed": false
   },
   "outputs": [
    {
     "data": {
      "text/plain": [
       "No            0.825040\n",
       "Yes           0.126806\n",
       "Don't know    0.048154\n",
       "Name: has_ac, dtype: float64"
      ]
     },
     "execution_count": 328,
     "metadata": {},
     "output_type": "execute_result"
    }
   ],
   "source": [
    "times(dd, datetime(2020,7,26,tzinfo=timezone.utc), datetime(2020,7,28,tzinfo=timezone.utc)) \\\n",
    "    ['has_ac'] \\\n",
    "    .value_counts(normalize=True)"
   ]
  },
  {
   "cell_type": "code",
   "execution_count": null,
   "metadata": {
    "collapsed": false
   },
   "outputs": [],
   "source": [
    "dd"
   ]
  },
  {
   "cell_type": "code",
   "execution_count": 301,
   "metadata": {
    "collapsed": false
   },
   "outputs": [
    {
     "data": {
      "text/plain": [
       "No            0.670988\n",
       "Yes           0.191775\n",
       "Don’t know    0.137237\n",
       "Name: malaria_incidence, dtype: float64"
      ]
     },
     "execution_count": 301,
     "metadata": {},
     "output_type": "execute_result"
    }
   ],
   "source": [
    "dd.malaria_incidence.value_counts(normalize=True)"
   ]
  },
  {
   "cell_type": "code",
   "execution_count": null,
   "metadata": {
    "collapsed": false
   },
   "outputs": [],
   "source": [
    "# responses should be converted and translated..."
   ]
  }
 ],
 "metadata": {
  "kernelspec": {
   "argv": [
    "python",
    "-m",
    "ipykernel_launcher",
    "-f",
    "{connection_file}"
   ],
   "display_name": "Python 3",
   "env": null,
   "interrupt_mode": "signal",
   "language": "python",
   "metadata": null,
   "name": "python3"
  },
  "name": "monitor.ipynb"
 },
 "nbformat": 4,
 "nbformat_minor": 4
}
