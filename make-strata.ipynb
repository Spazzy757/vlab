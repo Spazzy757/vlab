{
 "cells": [
  {
   "cell_type": "code",
   "execution_count": 5,
   "metadata": {
    "collapsed": false
   },
   "outputs": [
    {
     "name": "stdout",
     "output_type": "stream",
     "text": [
      "\u001b[33mWARNING: You are using pip version 20.2.3; however, version 20.3.1 is available.\r\n",
      "You should consider upgrading via the '/usr/local/bin/python -m pip install --upgrade pip' command.\u001b[0m\r\n"
     ]
    }
   ],
   "source": [
    "! pip install --quiet environs cyksuid toolz psycopg2-binary typing_json backoff pyyaml facebook_business pystache"
   ]
  },
  {
   "cell_type": "code",
   "execution_count": 2,
   "metadata": {
    "collapsed": false
   },
   "outputs": [],
   "source": [
    "%load_ext autoreload\n",
    "%autoreload 2"
   ]
  },
  {
   "cell_type": "code",
   "execution_count": null,
   "metadata": {
    "collapsed": false
   },
   "outputs": [],
   "source": [
    "from adopt.malaria import update_ads\n",
    "\n",
    "\n",
    "update_ads()"
   ]
  },
  {
   "cell_type": "code",
   "execution_count": null,
   "metadata": {
    "collapsed": false
   },
   "outputs": [],
   "source": [
    "from adopt.malaria import update_audience\n",
    "\n",
    "update_audience()"
   ]
  },
  {
   "cell_type": "code",
   "execution_count": 8,
   "metadata": {
    "collapsed": false
   },
   "outputs": [],
   "source": [
    "from environs import Env\n",
    "\n",
    "from adopt.malaria import get_confs, get_df, load_basics, window, get_db_conf\n",
    "from adopt.marketing import Marketing\n",
    "from adopt.facebook.state import CampaignState, get_api\n",
    "from adopt.malaria import load_typed_json\n",
    "from adopt.marketing import AudienceConf, CampaignConf\n",
    "from typing import List\n",
    "import json\n",
    "\n",
    "env = Env()\n",
    "env.read_env('.env-upswell-vlab', override=True)\n",
    "db_conf = get_db_conf(env)"
   ]
  },
  {
   "cell_type": "markdown",
   "metadata": {
    "collapsed": false
   },
   "source": [
    "# CREATING CONFS - MNM"
   ]
  },
  {
   "cell_type": "code",
   "execution_count": 13,
   "metadata": {
    "collapsed": false
   },
   "outputs": [],
   "source": [
    "USER = \"nandanmarkrao@gmail.com\"\n",
    "CAMPAIGN = \"mnm-december\"\n",
    "CAMPAIGNID = \"28f43eeb-4fd3-4351-b46e-a8ca3f517c55\""
   ]
  },
  {
   "cell_type": "code",
   "execution_count": 21,
   "metadata": {
    "collapsed": false
   },
   "outputs": [],
   "source": [
    "c = {'optimization_goal': 'REPLIES',\n",
    "     'destination_type': 'MESSENGER',\n",
    "     'adset_hours': 48,\n",
    "     'budget': 800000.0,\n",
    "     'min_budget': 10000.0,\n",
    "     'opt_window': 72,\n",
    "     'end_date': '2020-12-31',\n",
    "     'ad_account': '2240415876083895',\n",
    "     'ad_campaign': 'impact-evaluation-round-B-test'}\n",
    "\n",
    "config = CampaignConf(**c)\n",
    "\n",
    "create_campaign_confs([(USER, CAMPAIGN, \"opt\", None, json.dumps(config._asdict()))], db_conf)"
   ]
  },
  {
   "cell_type": "code",
   "execution_count": 22,
   "metadata": {
    "collapsed": false
   },
   "outputs": [],
   "source": [
    "import json\n",
    "\n",
    "audience_confs = load_typed_json(\"config/audiences.json\", List[AudienceConf])\n",
    "confs = [(USER, CAMPAIGN, \"audience\", a.name, json.dumps(a._asdict())) for a in audience_confs]\n",
    "\n",
    "create_campaign_confs(confs, db_conf)"
   ]
  },
  {
   "cell_type": "code",
   "execution_count": 23,
   "metadata": {
    "collapsed": false
   },
   "outputs": [],
   "source": [
    "from adopt.marketing import CreativeConf\n",
    "\n",
    "creatives = load_typed_json(\"config/creatives.json\", List[CreativeConf])\n",
    "confs = [(USER, CAMPAIGN, \"creative\", c.name, json.dumps(c._asdict())) for c in creatives]\n",
    "\n",
    "create_campaign_confs(confs, db_conf)"
   ]
  },
  {
   "cell_type": "code",
   "execution_count": 24,
   "metadata": {
    "collapsed": false
   },
   "outputs": [],
   "source": [
    "strata_data = [(USER, CAMPAIGN, \"stratum\", c[\"id\"], json.dumps(c)) for c in strata]\n",
    "\n",
    "create_campaign_confs(strata_data, db_conf)"
   ]
  },
  {
   "cell_type": "markdown",
   "metadata": {
    "collapsed": false
   },
   "source": [
    "# TESTING"
   ]
  },
  {
   "cell_type": "code",
   "execution_count": 26,
   "metadata": {
    "collapsed": false
   },
   "outputs": [],
   "source": [
    "userinfo, config, db_conf, state, m, confs = load_basics(CAMPAIGNID)"
   ]
  },
  {
   "cell_type": "code",
   "execution_count": 31,
   "metadata": {
    "collapsed": false
   },
   "outputs": [],
   "source": [
    "from adopt.malaria import hydrate_strata, hydrate_audiences"
   ]
  },
  {
   "cell_type": "code",
   "execution_count": null,
   "metadata": {
    "collapsed": false
   },
   "outputs": [],
   "source": [
    "audience_confs = confs[\"audience\"]\n",
    "\n",
    "df = get_df(db_conf, userinfo.survey_user, audience_confs)\n",
    "\n",
    "audiences = hydrate_audiences(df, m, audience_confs)"
   ]
  },
  {
   "cell_type": "code",
   "execution_count": null,
   "metadata": {
    "collapsed": false
   },
   "outputs": [],
   "source": [
    "strata = hydrate_strata(state, confs[\"stratum\"], confs[\"creative\"])\n",
    "df = get_df(db_conf, userinfo.survey_user, strata)"
   ]
  },
  {
   "cell_type": "code",
   "execution_count": 9,
   "metadata": {
    "collapsed": false
   },
   "outputs": [],
   "source": [
    "import pandas as pd\n",
    "\n",
    "\n",
    "def load_cities(path):\n",
    "    cities = pd.read_csv(path)\n",
    "    cities = cities[cities.rad >= 1.0]\n",
    "    return cities\n",
    "\n",
    "\n",
    "df = pd.read_csv('output/cities.csv')"
   ]
  },
  {
   "cell_type": "code",
   "execution_count": 10,
   "metadata": {
    "collapsed": false
   },
   "outputs": [],
   "source": [
    "df = df[['disthash', 'rad', 'lng', 'lat', 'creative_group', 'include_audience']]"
   ]
  },
  {
   "cell_type": "code",
   "execution_count": 11,
   "metadata": {
    "collapsed": false
   },
   "outputs": [],
   "source": [
    "from facebook_business.adobjects.targetinggeolocationcustomlocation \\\n",
    "    import TargetingGeoLocationCustomLocation\n",
    "from facebook_business.adobjects.targetinggeolocationcity import TargetingGeoLocationCity\n",
    "from facebook_business.adobjects.targetinggeolocation import TargetingGeoLocation\n",
    "from facebook_business.adobjects.targetinggeolocation import TargetingGeoLocation\n",
    "from facebook_business.adobjects.targeting import Targeting\n",
    "\n",
    "from adopt.marketing import make_stratum_conf\n",
    "\n",
    "def create_location(lat, lng, rad):\n",
    "    return {\n",
    "        TargetingGeoLocationCustomLocation.Field.latitude: lat,\n",
    "        TargetingGeoLocationCustomLocation.Field.longitude: lng,\n",
    "        TargetingGeoLocationCustomLocation.Field.radius: rad,\n",
    "        TargetingGeoLocationCustomLocation.Field.distance_unit: 'kilometer',\n",
    "    }\n",
    "\n",
    "def make_stratum(facebook_targeting, quota, df):\n",
    "    locs = [create_location(r.lat, r.lng, r.rad) \n",
    "           for _, r in df.iterrows()]\n",
    "\n",
    "    targeting = {\n",
    "        **facebook_targeting,\n",
    "        Targeting.Field.geo_locations: {\n",
    "            TargetingGeoLocation.Field.location_types: ['home'],\n",
    "            TargetingGeoLocation.Field.custom_locations: locs\n",
    "        },\n",
    "    }\n",
    "\n",
    "    id_ = df.disthash.iloc[0]\n",
    "\n",
    "    return { 'id': id_,\n",
    "             'metadata': {'stratumid': id_},\n",
    "             'facebook_targeting': targeting, \n",
    "             'creatives': ['vlab-mnm-hindi-hand-black-white', 'vlab-mnm-hindi-grains'],\n",
    "             'audiences': [\"vlab-mnm-kutcha-lookalike\"],\n",
    "             'excluded_audiences': [\"vlab-mnm-respondents-panel\", \"vlab-mnm-respondents-cross-sectional\"],\n",
    "             'quota': quota, \n",
    "             'shortcodes': ['nonexisting-basleine'],\n",
    "             'target_questions': [\n",
    "                 {'ref': 'md:stratumid', 'op': 'equal', 'field': 'response', 'value': id_},\n",
    "                 {\n",
    "                     'name': 'occupation',\n",
    "                     'ref': '4fc929c7-132d-49b1-a164-515e5cc9064f',\n",
    "                     'op': 'answered',\n",
    "                     'field': 'response',\n",
    "                     'value': None\n",
    "                 },\n",
    "             ]}\n",
    "\n",
    "\n",
    "strata = df.groupby('disthash').apply(lambda df: make_stratum({'age_min': 20}, 100, df)).tolist()\n"
   ]
  },
  {
   "cell_type": "code",
   "execution_count": null,
   "metadata": {
    "collapsed": false
   },
   "outputs": [],
   "source": [
    "audience_confs"
   ]
  },
  {
   "cell_type": "code",
   "execution_count": null,
   "metadata": {
    "collapsed": false
   },
   "outputs": [],
   "source": [
    "\n",
    "\n",
    "df = get_df(db_conf, userinfo.survey_user, audience_confs)"
   ]
  },
  {
   "cell_type": "code",
   "execution_count": null,
   "metadata": {
    "collapsed": false
   },
   "outputs": [],
   "source": [
    "df"
   ]
  },
  {
   "cell_type": "code",
   "execution_count": 14,
   "metadata": {
    "collapsed": false
   },
   "outputs": [],
   "source": [
    "from adopt.audiences import hydrate_audiences\n",
    "from adopt.marketing import manage_audiences\n",
    "\n",
    "\n",
    "audiences = hydrate_audiences(df, m, audience_confs)\n",
    "\n"
   ]
  },
  {
   "cell_type": "code",
   "execution_count": null,
   "metadata": {
    "collapsed": false
   },
   "outputs": [],
   "source": [
    "instructions = manage_audiences(state, audiences)"
   ]
  },
  {
   "cell_type": "code",
   "execution_count": 15,
   "metadata": {
    "collapsed": false
   },
   "outputs": [
    {
     "data": {
      "text/plain": [
       "5483"
      ]
     },
     "execution_count": 15,
     "metadata": {},
     "output_type": "execute_result"
    }
   ],
   "source": [
    "len(audiences[0].users)"
   ]
  },
  {
   "cell_type": "code",
   "execution_count": null,
   "metadata": {
    "collapsed": false
   },
   "outputs": [],
   "source": [
    "from adopt.facebook.update import GraphUpdater\n",
    "import logging\n",
    "\n",
    "updater = GraphUpdater(state)\n",
    "for i in instructions[1:2]:\n",
    "    report = updater.execute(i)\n",
    "    logging.info(report)"
   ]
  },
  {
   "cell_type": "code",
   "execution_count": 47,
   "metadata": {
    "collapsed": false
   },
   "outputs": [],
   "source": []
  },
  {
   "cell_type": "code",
   "execution_count": 9,
   "metadata": {
    "collapsed": false
   },
   "outputs": [],
   "source": [
    "df = get_df(db_conf, userinfo.survey_user, strata)"
   ]
  },
  {
   "cell_type": "code",
   "execution_count": null,
   "metadata": {
    "collapsed": false
   },
   "outputs": [],
   "source": [
    "df"
   ]
  },
  {
   "cell_type": "code",
   "execution_count": 11,
   "metadata": {
    "collapsed": false
   },
   "outputs": [
    {
     "name": "stderr",
     "output_type": "stream",
     "text": [
      "INFO:root:Loaded 0 adsets from campaign impact-evaluation-round-B-test\n"
     ]
    }
   ],
   "source": [
    "spend = {get_cluster_from_adset(n): i for n, i in state.spend.items()}"
   ]
  },
  {
   "cell_type": "code",
   "execution_count": 12,
   "metadata": {
    "collapsed": false
   },
   "outputs": [
    {
     "data": {
      "text/plain": [
       "{}"
      ]
     },
     "execution_count": 12,
     "metadata": {},
     "output_type": "execute_result"
    }
   ],
   "source": [
    "spend"
   ]
  },
  {
   "cell_type": "code",
   "execution_count": 22,
   "metadata": {
    "collapsed": false
   },
   "outputs": [
    {
     "data": {
      "text/plain": [
       "80"
      ]
     },
     "execution_count": 22,
     "metadata": {},
     "output_type": "execute_result"
    }
   ],
   "source": [
    "len(strata)"
   ]
  },
  {
   "cell_type": "code",
   "execution_count": 20,
   "metadata": {
    "collapsed": false
   },
   "outputs": [
    {
     "data": {
      "text/plain": [
       "array(['32f58efd', 'Dhenkanal', 'langchoice', 3603030134, 1595492210172,\n",
       "       '6df6b429', 'Bijnor', 'langchoice', 1486901775, 1595491918718,\n",
       "       '2c1e88d9', 'Sundargarh', 'langchoice', 3842612143, 1595491121851,\n",
       "       '2c1e88d9', 'Sundargarh', 'langchoice', 3704872960, 1595491162843,\n",
       "       'e5f52cdf', 'Ballia', 'langchoice', 3887135341, 1595491691339,\n",
       "       'b406895f', 'Bulandshahr', 'langchoice', 567776178, 1595492268040,\n",
       "       'f5445658', 'Jharsuguda', 'langchoice', 4293600933, 1595492526658,\n",
       "       '72d1d8e0', 'Bokaro', 'langchoice', 224924014, 1595491477305,\n",
       "       '0c4a9e7c', 'Shahjahanpur', 'langchoice', 2534391942,\n",
       "       1595492029164, '2e0a86c3', 'Varanasi', 'langchoice', 3496447272,\n",
       "       1595492242366, '749c3a9c', 'Jaunpur', 'langchoice', 2249097819,\n",
       "       1595492208751, '72d1d8e0', 'Bokaro', 'langchoice', 3575445102,\n",
       "       1595491822714, '196f4fd1', 'Mathura', 'langchoice', 1597938564,\n",
       "       1595491968488, '5b1466b5', 'Jhansi', 'langchoice', 3851692601,\n",
       "       1595492230171, '9a766899', 'Samli', 'langchoice', 4018410881,\n",
       "       1595492504077, '196f4fd1', 'Mathura', 'langchoice', 2685620786,\n",
       "       1595490669945, 'd86b84cb', 'Azamgarh', 'langchoice', 1551996093,\n",
       "       1595491667454, '84e5e26f', 'Kalahandi', 'langchoice', 1611256534,\n",
       "       1595491964462, 'b27404c2', 'Mainpuri', 'langchoice', 2877690158,\n",
       "       1595490925153, 'd1030edf', 'Palamu', 'langchoice', 2276597993,\n",
       "       1595492285673, '4c6cbda0', 'Allahabad', 'langchoice', 1371669169,\n",
       "       1595490610019, 'cbea7cbf', 'Agra', 'langchoice', 3754520673,\n",
       "       1595492354843, '09c3966f', 'Mirzapur', 'langchoice', 486345164,\n",
       "       1595491290325, 'cbea7cbf', 'Agra', 'langchoice', 2120562632,\n",
       "       1595492332633, '766af61a', 'Koraput', 'langchoice', 2941637111,\n",
       "       1595491597372, '3c73baaa', 'Meerut', 'langchoice', 3325489991,\n",
       "       1595492039089, '07853f76', 'Aligarh', 'langchoice', 3309852593,\n",
       "       1595491246440, 'cbea7cbf', 'Agra', 'langchoice', 1431076664,\n",
       "       1595491550292, '9064b3f8', 'Mahoba', 'langchoice', 3567240736,\n",
       "       1595492046373, 'eafafade', 'Sambalpur', 'langchoice', 2503320780,\n",
       "       1595491613216, 'e09ef457', 'Ghazipur', 'langchoice', 3539139241,\n",
       "       1595491960787, 'f5445658', 'Jharsuguda', 'langchoice', 3602052497,\n",
       "       1595492043661, '786f66b7', 'Kanpur Nagar', 'langchoice',\n",
       "       3224563971, 1595492244105, 'B', 'D', 'C', 'A', 'A', 'A', 'D', 'B',\n",
       "       'D', 'E', 'E', 'B', 'A'], dtype=object)"
      ]
     },
     "execution_count": 20,
     "metadata": {},
     "output_type": "execute_result"
    }
   ],
   "source": [
    "df.response.values"
   ]
  },
  {
   "cell_type": "code",
   "execution_count": 16,
   "metadata": {
    "collapsed": false
   },
   "outputs": [],
   "source": [
    "from adopt.malaria import days_left, get_budget_lookup\n",
    "\n",
    "budget = get_budget_lookup(\n",
    "    df,\n",
    "    strata,\n",
    "    config.budget,\n",
    "    config.min_budget,\n",
    "    state.window,\n",
    "    spend,\n",
    "    days_left=days_left(config),\n",
    "    )"
   ]
  },
  {
   "cell_type": "code",
   "execution_count": null,
   "metadata": {
    "collapsed": false
   },
   "outputs": [],
   "source": [
    "state.custom_audiences"
   ]
  },
  {
   "cell_type": "code",
   "execution_count": null,
   "metadata": {
    "collapsed": false
   },
   "outputs": [],
   "source": [
    "budget"
   ]
  },
  {
   "cell_type": "code",
   "execution_count": 29,
   "metadata": {
    "collapsed": false
   },
   "outputs": [],
   "source": [
    "from adopt.clustering import _base_budget\n",
    "\n",
    "budget = _base_budget(strata, 2000000, 10000)"
   ]
  },
  {
   "cell_type": "code",
   "execution_count": 63,
   "metadata": {
    "collapsed": false
   },
   "outputs": [],
   "source": [
    "instructions = m.update_instructions(strata, budget)"
   ]
  },
  {
   "cell_type": "code",
   "execution_count": null,
   "metadata": {
    "collapsed": false
   },
   "outputs": [],
   "source": [
    "instructions"
   ]
  },
  {
   "cell_type": "code",
   "execution_count": null,
   "metadata": {
    "collapsed": false
   },
   "outputs": [],
   "source": [
    "from adopt.facebook.update import GraphUpdater\n",
    "import logging\n",
    "\n",
    "updater = GraphUpdater(state)\n",
    "    \n",
    "for i in instructions:\n",
    "    report = updater.execute(i)\n",
    "    logging.info(report)"
   ]
  }
 ],
 "metadata": {
  "kernelspec": {
   "argv": [
    "python",
    "-m",
    "ipykernel_launcher",
    "-f",
    "{connection_file}"
   ],
   "display_name": "Python 3",
   "env": null,
   "interrupt_mode": "signal",
   "language": "python",
   "metadata": null,
   "name": "python3"
  },
  "name": "make-strata.ipynb"
 },
 "nbformat": 4,
 "nbformat_minor": 4
}
