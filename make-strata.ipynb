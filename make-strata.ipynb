{
 "cells": [
  {
   "cell_type": "code",
   "execution_count": 3,
   "metadata": {
    "collapsed": false
   },
   "outputs": [
    {
     "name": "stdout",
     "output_type": "stream",
     "text": [
      "\u001b[33mWARNING: You are using pip version 20.2.3; however, version 20.3.3 is available.\r\n",
      "You should consider upgrading via the '/usr/local/bin/python -m pip install --upgrade pip' command.\u001b[0m\r\n"
     ]
    }
   ],
   "source": [
    "! pip install --quiet pystache"
   ]
  },
  {
   "cell_type": "code",
   "execution_count": 5,
   "metadata": {
    "collapsed": false
   },
   "outputs": [
    {
     "name": "stdout",
     "output_type": "stream",
     "text": [
      "\u001b[33mWARNING: You are using pip version 20.2.3; however, version 20.3.1 is available.\r\n",
      "You should consider upgrading via the '/usr/local/bin/python -m pip install --upgrade pip' command.\u001b[0m\r\n"
     ]
    }
   ],
   "source": [
    "! pip install --quiet environs cyksuid toolz psycopg2-binary typing_json backoff pyyaml facebook_business pystache"
   ]
  },
  {
   "cell_type": "code",
   "execution_count": 1,
   "metadata": {
    "collapsed": false
   },
   "outputs": [],
   "source": [
    "%load_ext autoreload\n",
    "%autoreload 2"
   ]
  },
  {
   "cell_type": "code",
   "execution_count": 2,
   "metadata": {
    "collapsed": false
   },
   "outputs": [],
   "source": [
    "from environs import Env\n",
    "\n",
    "from adopt.malaria import get_confs, get_df, load_basics, window, get_db_conf\n",
    "from adopt.marketing import Marketing\n",
    "from adopt.facebook.state import CampaignState, get_api\n",
    "from adopt.malaria import load_typed_json\n",
    "from adopt.marketing import AudienceConf, CampaignConf\n",
    "from adopt.campaign_queries import get_campaigns_for_user, create_campaign_confs, create_campaign_for_user\n",
    "from typing import List\n",
    "import json\n",
    "\n",
    "env = Env()\n",
    "env.read_env('.env-upswell-bug', override=True)\n",
    "db_conf = get_db_conf(env)"
   ]
  },
  {
   "cell_type": "code",
   "execution_count": null,
   "metadata": {
    "collapsed": false
   },
   "outputs": [],
   "source": [
    "from adopt.malaria import update_ads_for_campaign\n",
    "\n",
    "\n",
    "update_ads_for_campaign('28f43eeb-4fd3-4351-b46e-a8ca3f517c55', env)"
   ]
  },
  {
   "cell_type": "code",
   "execution_count": 166,
   "metadata": {
    "collapsed": false
   },
   "outputs": [],
   "source": [
    "message = {\n",
    "    \"message\" : {\n",
    "        \"text\": \"hello\",\n",
    "        \"quick_replies\": [{\"content_type\": \"text\", \"title\": \"Start!\", \"payload\": \"foo\"}]\n",
    "    }\n",
    "}\n",
    "\n",
    "message = { \"message\": { \"text\": \"hello\"}}\n",
    "\n",
    "creative = {\"actor_id\": \"102998371752603\", \n",
    "            \"name\":\"vlab-mnm-hindi-hand-black-white\",\n",
    "            \"object_story_spec\": { \n",
    "                \"link_data\": {\n",
    "                    \"call_to_action\": {\n",
    "                        \"type\": \"MESSAGE_PAGE\",\n",
    "                        \"value\": {\n",
    "                            \"app_destination\": \"MESSENGER\"\n",
    "                        }\n",
    "                    },\n",
    "                    \"image_hash\": \"ae8d36a513a20aa446701312ff9ec278\",\n",
    "                    \"message\": \"Hello!\",\n",
    "                    \"name\": \"foo\",\n",
    "                    \"page_welcome_message\": json.dumps(message)\n",
    "                },\n",
    "                \"page_id\":\"102998371752603\"\n",
    "            },\n",
    "            \"url_tags\":\"ref=foo\"}\n",
    "\n"
   ]
  },
  {
   "cell_type": "code",
   "execution_count": 167,
   "metadata": {
    "collapsed": false
   },
   "outputs": [],
   "source": [
    "p = {'name': 'vlab-mnm-hindi-hand-black-white', \n",
    "     'status': 'ACTIVE', \n",
    "     'creative': json.dumps(creative),\n",
    "     'adset_id': '23846317632290518'}"
   ]
  },
  {
   "cell_type": "code",
   "execution_count": 160,
   "metadata": {
    "collapsed": false
   },
   "outputs": [],
   "source": [
    "p = {'name': 'vlab-mnm-hindi-hand-black-white', \n",
    "     'status': 'ACTIVE', \n",
    "     'creative': '{\"actor_id\":\"102998371752603\", \"name\":\"vlab-mnm-hindi-hand-black-white\",\"object_story_spec\":{\"link_data\":{\"call_to_action\":{\"type\":\"MESSAGE_PAGE\",\"value\":{\"app_destination\":\"MESSENGER\"}},\"image_hash\":\"ae8d36a513a20aa446701312ff9ec278\",\"message\":\"Hello!\",\"name\":\"foo\",\"page_welcome_message\":\"{\\\\\"message\\\\\": {\\\\\"attachment\\\\\": {\\\\\"payload\\\\\": {\\\\\"buttons\\\\\": [{\\\\\"payload\\\\\": \\\\\"foo\\\\\", \\\\\"title\\\\\": \\\\\"Start!\\\\\", \\\\\"type\\\\\": \\\\\"postback\\\\\"}], \\\\\"template_type\\\\\": \\\\\"button\\\\\", \\\\\"text\\\\\": \\\\\"test!\\\\\"}, \\\\\"type\\\\\": \\\\\"template\\\\\"}}}\"},\"page_id\":\"102998371752603\"},\"url_tags\":\"ref=foo\"}', \n",
    "     'adset_id': '23846317632290518'}"
   ]
  },
  {
   "cell_type": "code",
   "execution_count": null,
   "metadata": {
    "collapsed": false
   },
   "outputs": [],
   "source": [
    "\n",
    "import json\n",
    "\n",
    "print(json.dumps(p))"
   ]
  },
  {
   "cell_type": "code",
   "execution_count": 191,
   "metadata": {
    "collapsed": false
   },
   "outputs": [],
   "source": [
    "userinfo, config, db_conf, state, m, confs = load_basics('28f43eeb-4fd3-4351-b46e-a8ca3f517c55', env)"
   ]
  },
  {
   "cell_type": "code",
   "execution_count": null,
   "metadata": {
    "collapsed": false
   },
   "outputs": [],
   "source": [
    "images = {i['name']: i for i in state.account.get_ad_images(fields=['name', 'hash'])}"
   ]
  },
  {
   "cell_type": "markdown",
   "metadata": {
    "collapsed": false
   },
   "source": [
    "# CREATING CONFS - MNM"
   ]
  },
  {
   "cell_type": "code",
   "execution_count": 95,
   "metadata": {
    "collapsed": false
   },
   "outputs": [],
   "source": []
  },
  {
   "cell_type": "code",
   "execution_count": null,
   "metadata": {
    "collapsed": false
   },
   "outputs": [],
   "source": [
    "# make creatives conf\n",
    "from adopt.marketing import CreativeConf\n"
   ]
  },
  {
   "cell_type": "code",
   "execution_count": 114,
   "metadata": {
    "collapsed": false
   },
   "outputs": [],
   "source": [
    "USER = \"nandanmarkrao@gmail.com\"\n",
    "CAMPAIGN = \"mnm-december\"\n",
    "CAMPAIGNID = get_campaigns_for_user(USER, db_conf)[0][\"id\"]\n",
    "\n",
    "# create_campaign_for_user(USER, \"foo\", db_conf)"
   ]
  },
  {
   "cell_type": "code",
   "execution_count": 115,
   "metadata": {
    "collapsed": false
   },
   "outputs": [],
   "source": [
    "c = {'optimization_goal': 'REPLIES',\n",
    "     'destination_type': 'MESSENGER',\n",
    "     'adset_hours': 48,\n",
    "     'budget': 800000.0,\n",
    "     'min_budget': 10000.0,\n",
    "     'opt_window': 72,\n",
    "     'end_date': '2020-01-31',\n",
    "     'page_id': '102998371752603',\n",
    "     'instagram_id': None,\n",
    "     'ad_account': '2240415876083895',\n",
    "     'ad_campaign': 'impact-evaluation-round-B-test'}\n",
    "\n",
    "config = CampaignConf(**c)\n",
    "\n",
    "create_campaign_confs(CAMPAIGNID, \"opt\", [{\"entity_name\": None, \"conf\": json.dumps(config._asdict())}], db_conf)"
   ]
  },
  {
   "cell_type": "code",
   "execution_count": 113,
   "metadata": {
    "collapsed": false
   },
   "outputs": [],
   "source": [
    "import json\n",
    "\n",
    "audience_confs = load_typed_json(\"config/audiences.json\", List[AudienceConf])\n",
    "confs = [{\"entity_name\": a.name, \"conf\": json.dumps(a._asdict())} for a in audience_confs]\n",
    "\n",
    "create_campaign_confs(CAMPAIGNID, \"audience\", confs, db_conf)"
   ]
  },
  {
   "cell_type": "code",
   "execution_count": 172,
   "metadata": {
    "collapsed": false
   },
   "outputs": [],
   "source": [
    "from adopt.marketing import CreativeConf\n",
    "\n",
    "def _creative_conf(name, image, body, form):\n",
    "    return {\n",
    "        \"name\": name,\n",
    "        \"image\": image['name'],\n",
    "        \"image_hash\": image['hash'],\n",
    "        \"body\": body,\n",
    "        \"welcome_message\": body,\n",
    "        \"link_text\": \"Messenger main survey shuroo karen!\",\n",
    "        \"button_text\": \"Start!\",\n",
    "        \"form\": form,\n",
    "    }\n",
    "\n",
    "image_confs = [\n",
    "    ('vlab-mnm-mother-daughter-voice-be-heard', '1.png', 'अपने विचार दुनिया को बताएं!'),\n",
    "    ('vlab-mnm-family-flowers-keep-healthy', '2.png', 'हमें अपने स्वस्थ जीवन के राज बताएं और फ्री डाटा क्रेडिट जीतें।'),\n",
    "    ('vlab-mnm-schoolgirl-laptop-got-10-min', '3.png', 'क्या आपके पास सिर्फ १० मिनिट हैं? मोबाइल डाटा क्रेडिट में २०० रुपये पाएँ। आपकी राय हमारे लिए महत्वपूर्ण है!'),\n",
    "    ('vlab-mnm-grandfather-bike-healthy', '4.png', 'अपने कम्यूनिटी को स्वस्थ रखने में हमें मदद करें- हमें बताएं आप क्या सोचते है!'),\n",
    "    ('vlab-mnm-woman-sari-texting-got-time', '5.png', 'एक छोटे से सर्वे के लिए आपके पास टाइम है?'),\n",
    "]\n",
    "\n",
    "creatives = [CreativeConf(**_creative_conf(name, images[n], body, 'extrabasehin')) for name, n, body in image_confs]\n",
    "# creatives = load_typed_json(\"config/creatives.json\", List[CreativeConf])\n",
    "confs = [{\"entity_name\": c.name, \"conf\": json.dumps(c._asdict())} for c in creatives]\n",
    "\n",
    "create_campaign_confs(CAMPAIGNID, \"creative\", confs, db_conf)"
   ]
  },
  {
   "cell_type": "code",
   "execution_count": null,
   "metadata": {
    "collapsed": false
   },
   "outputs": [],
   "source": [
    "[n for n, _, _ in image_confs]"
   ]
  },
  {
   "cell_type": "code",
   "execution_count": 176,
   "metadata": {
    "collapsed": false
   },
   "outputs": [],
   "source": [
    "import pandas as pd\n",
    "from facebook_business.adobjects.targetinggeolocationcustomlocation \\\n",
    "    import TargetingGeoLocationCustomLocation\n",
    "from facebook_business.adobjects.targetinggeolocationcity import TargetingGeoLocationCity\n",
    "from facebook_business.adobjects.targetinggeolocation import TargetingGeoLocation\n",
    "from facebook_business.adobjects.targetinggeolocation import TargetingGeoLocation\n",
    "from facebook_business.adobjects.targeting import Targeting\n",
    "\n",
    "from adopt.marketing import make_stratum_conf\n",
    "\n",
    "def load_cities(path):\n",
    "    cities = pd.read_csv(path)\n",
    "    cities = cities[cities.rad >= 1.0]\n",
    "    return cities\n",
    "\n",
    "def create_location(lat, lng, rad):\n",
    "    return {\n",
    "        TargetingGeoLocationCustomLocation.Field.latitude: lat,\n",
    "        TargetingGeoLocationCustomLocation.Field.longitude: lng,\n",
    "        TargetingGeoLocationCustomLocation.Field.radius: rad,\n",
    "        TargetingGeoLocationCustomLocation.Field.distance_unit: 'kilometer',\n",
    "    }\n",
    "\n",
    "def make_stratum(facebook_targeting, quota, df):\n",
    "    locs = [create_location(r.lat, r.lng, r.rad) \n",
    "           for _, r in df.iterrows()]\n",
    "\n",
    "    targeting = {\n",
    "        **facebook_targeting,\n",
    "        Targeting.Field.geo_locations: {\n",
    "            TargetingGeoLocation.Field.location_types: ['home'],\n",
    "            TargetingGeoLocation.Field.custom_locations: locs\n",
    "        },\n",
    "    }\n",
    "\n",
    "    id_ = df.disthash.iloc[0]\n",
    "\n",
    "    return { 'id': id_,\n",
    "             'metadata': {'stratumid': id_},\n",
    "             'facebook_targeting': targeting, \n",
    "             'creatives': ['vlab-mnm-mother-daughter-voice-be-heard',\n",
    "                           'vlab-mnm-family-flowers-keep-healthy',\n",
    "                           'vlab-mnm-schoolgirl-laptop-got-10-min',\n",
    "                           'vlab-mnm-grandfather-bike-healthy',\n",
    "                           'vlab-mnm-woman-sari-texting-got-time'],\n",
    "             'audiences': [\"vlab-mnm-kutcha-lookalike\"],\n",
    "             'excluded_audiences': [\"vlab-mnm-respondents-panel\", \"vlab-mnm-respondents-cross-sectional\"],\n",
    "             'quota': quota, \n",
    "             'shortcodes': ['nonexisting-basleine'],\n",
    "             'target_questions': [\n",
    "                 {'ref': 'md:stratumid', 'op': 'equal', 'field': 'response', 'value': id_},\n",
    "                 {\n",
    "                     'name': 'occupation',\n",
    "                     'ref': '4fc929c7-132d-49b1-a164-515e5cc9064f',\n",
    "                     'op': 'answered',\n",
    "                     'field': 'response',\n",
    "                     'value': None\n",
    "                 },\n",
    "             ]}"
   ]
  },
  {
   "cell_type": "code",
   "execution_count": 177,
   "metadata": {
    "collapsed": false
   },
   "outputs": [],
   "source": [
    "df = load_cities('output/cities.csv')\n",
    "df = df[['disthash', 'rad', 'lng', 'lat', 'creative_group', 'include_audience']]\n",
    "strata = df.groupby('disthash').apply(lambda df: make_stratum({'age_min': 20}, 100, df)).tolist()\n",
    "\n",
    "strata_data = [{\"entity_name\": c[\"id\"], \"conf\": json.dumps(c)} for c in strata]\n",
    "\n",
    "create_campaign_confs(CAMPAIGNID, \"stratum\", strata_data, db_conf)"
   ]
  },
  {
   "cell_type": "markdown",
   "metadata": {
    "collapsed": false
   },
   "source": [
    "# TESTING"
   ]
  },
  {
   "cell_type": "code",
   "execution_count": 26,
   "metadata": {
    "collapsed": false
   },
   "outputs": [],
   "source": [
    "userinfo, config, db_conf, state, m, confs = load_basics(CAMPAIGNID)"
   ]
  },
  {
   "cell_type": "code",
   "execution_count": 31,
   "metadata": {
    "collapsed": false
   },
   "outputs": [],
   "source": [
    "from adopt.malaria import hydrate_strata, hydrate_audiences"
   ]
  },
  {
   "cell_type": "code",
   "execution_count": null,
   "metadata": {
    "collapsed": false
   },
   "outputs": [],
   "source": [
    "audience_confs = confs[\"audience\"]\n",
    "\n",
    "df = get_df(db_conf, userinfo.survey_user, audience_confs)\n",
    "\n",
    "audiences = hydrate_audiences(df, m, audience_confs)"
   ]
  },
  {
   "cell_type": "code",
   "execution_count": null,
   "metadata": {
    "collapsed": false
   },
   "outputs": [],
   "source": [
    "strata = hydrate_strata(state, confs[\"stratum\"], confs[\"creative\"])\n",
    "df = get_df(db_conf, userinfo.survey_user, strata)"
   ]
  }
 ],
 "metadata": {
  "kernelspec": {
   "argv": [
    "python",
    "-m",
    "ipykernel_launcher",
    "-f",
    "{connection_file}"
   ],
   "display_name": "Python 3",
   "env": null,
   "interrupt_mode": "signal",
   "language": "python",
   "metadata": null,
   "name": "python3"
  },
  "name": "make-strata.ipynb"
 },
 "nbformat": 4,
 "nbformat_minor": 4
}
