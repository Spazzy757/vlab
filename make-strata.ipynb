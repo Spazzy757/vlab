{
 "cells": [
  {
   "cell_type": "code",
   "execution_count": 42,
   "metadata": {
    "collapsed": false
   },
   "outputs": [],
   "source": [
    "%load_ext autoreload\n",
    "%autoreload 2"
   ]
  },
  {
   "cell_type": "code",
   "execution_count": null,
   "metadata": {
    "collapsed": false
   },
   "outputs": [],
   "source": [
    "import pandas as pd\n",
    "\n",
    "\n",
    "def load_cities(path):\n",
    "    cities = pd.read_csv(path)\n",
    "    cities = cities[cities.rad >= 1.0]\n",
    "    return cities\n",
    "\n",
    "\n",
    "df = pd.read_csv('output/cities.csv')"
   ]
  },
  {
   "cell_type": "code",
   "execution_count": 5,
   "metadata": {
    "collapsed": false
   },
   "outputs": [],
   "source": [
    "df = df[['disthash', 'rad', 'lng', 'lat', 'creative_group', 'include_audience']]"
   ]
  },
  {
   "cell_type": "code",
   "execution_count": null,
   "metadata": {
    "collapsed": false
   },
   "outputs": [],
   "source": [
    "from facebook_business.adobjects.customaudience import CustomAudience\n",
    "\n",
    "dir(CustomAudience.Field)"
   ]
  },
  {
   "cell_type": "code",
   "execution_count": null,
   "metadata": {
    "collapsed": false
   },
   "outputs": [],
   "source": [
    "from facebook_business.adobjects.targetinggeolocationcustomlocation \\\n",
    "    import TargetingGeoLocationCustomLocation\n",
    "from facebook_business.adobjects.targetinggeolocationcity import TargetingGeoLocationCity\n",
    "from facebook_business.adobjects.targetinggeolocation import TargetingGeoLocation\n",
    "from facebook_business.adobjects.targetinggeolocation import TargetingGeoLocation\n",
    "from facebook_business.adobjects.targeting import Targeting\n",
    "\n",
    "def create_location(lat, lng, rad):\n",
    "    return {\n",
    "        TargetingGeoLocationCustomLocation.Field.latitude: lat,\n",
    "        TargetingGeoLocationCustomLocation.Field.longitude: lng,\n",
    "        TargetingGeoLocationCustomLocation.Field.radius: rad,\n",
    "        TargetingGeoLocationCustomLocation.Field.distance_unit: 'kilometer',\n",
    "    }\n",
    "\n",
    "# include entry survey????\n",
    "\n",
    "def make_stratum(facebook_targeting, quota, df):\n",
    "    locs = [create_location(r.lat, r.lng, r.rad) \n",
    "           for _, r in df.iterrows()]\n",
    "\n",
    "    targeting = {\n",
    "        **facebook_targeting,\n",
    "        Targeting.Field.geo_locations: {\n",
    "            TargetingGeoLocation.Field.location_types: ['home'],\n",
    "            TargetingGeoLocation.Field.custom_locations: locs\n",
    "        }\n",
    "    }\n",
    "\n",
    "    id_ = df.disthash.iloc[0]\n",
    "\n",
    "    return { 'id': id_,\n",
    "             'metadata': {'stratumid': id_},\n",
    "             'id_field': 'stratumid',\n",
    "             'facebook_targeting': targeting, \n",
    "             'quota': quota, \n",
    "             'creative_group': df.creative_group.iloc[0],  \n",
    "             'custom_audience': df.include_audience.iloc[0],\n",
    "             'shortcodes': ['baselineng', 'baselinehin', 'baselineodi'],\n",
    "             'target_questions': [\n",
    "                 {\n",
    "                     'name': 'occupation',\n",
    "                     'ref': '4fc929c7-132d-49b1-a164-515e5cc9064f',\n",
    "                     'op': 'answered',\n",
    "                     'field': 'response',\n",
    "                     'value': None\n",
    "                 },\n",
    "             ]}\n",
    "\n",
    "\n",
    "df.groupby('disthash').apply(lambda df: make_stratum({'age_min': 20}, 100, df)).tolist()\n",
    "    "
   ]
  },
  {
   "cell_type": "code",
   "execution_count": null,
   "metadata": {
    "collapsed": false
   },
   "outputs": [],
   "source": []
  }
 ],
 "metadata": {
  "kernelspec": {
   "argv": [
    "python",
    "-m",
    "ipykernel_launcher",
    "-f",
    "{connection_file}"
   ],
   "display_name": "Python 3",
   "env": null,
   "interrupt_mode": "signal",
   "language": "python",
   "metadata": null,
   "name": "python3"
  },
  "name": "make-strata.ipynb"
 },
 "nbformat": 4,
 "nbformat_minor": 4
}
